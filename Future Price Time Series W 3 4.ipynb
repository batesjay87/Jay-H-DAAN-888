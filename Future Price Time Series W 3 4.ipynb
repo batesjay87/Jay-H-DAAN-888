{
 "cells": [
  {
   "cell_type": "markdown",
   "metadata": {},
   "source": [
    "# Future Price Time Series Model Wards 3 & 4"
   ]
  },
  {
   "cell_type": "code",
   "execution_count": 1,
   "metadata": {},
   "outputs": [
    {
     "data": {
      "text/html": [
       "'D:/Penn State/DAAN/DAAN 888 Analytics Design Implementation/Report'"
      ],
      "text/latex": [
       "'D:/Penn State/DAAN/DAAN 888 Analytics Design Implementation/Report'"
      ],
      "text/markdown": [
       "'D:/Penn State/DAAN/DAAN 888 Analytics Design Implementation/Report'"
      ],
      "text/plain": [
       "[1] \"D:/Penn State/DAAN/DAAN 888 Analytics Design Implementation/Report\""
      ]
     },
     "metadata": {},
     "output_type": "display_data"
    },
    {
     "data": {
      "text/html": [
       "<table class=\"dataframe\">\n",
       "<caption>A data.frame: 6 × 44</caption>\n",
       "<thead>\n",
       "\t<tr><th></th><th scope=col>SSL</th><th scope=col>BATHRM</th><th scope=col>HF_BATHRM</th><th scope=col>HEAT</th><th scope=col>HEAT_D</th><th scope=col>AC</th><th scope=col>NUM_UNITS</th><th scope=col>ROOMS</th><th scope=col>BEDRM</th><th scope=col>AYB</th><th scope=col>⋯</th><th scope=col>FIREPLACES</th><th scope=col>USECODE</th><th scope=col>LANDAREA</th><th scope=col>GIS_LAST_MOD_DTTM</th><th scope=col>OBJECTID</th><th scope=col>ASSESSMENT_NBHD</th><th scope=col>WARD</th><th scope=col>LATITUDE</th><th scope=col>LONGITUDE</th><th scope=col>YR_RMDL_CAT_2</th></tr>\n",
       "\t<tr><th></th><th scope=col>&lt;chr&gt;</th><th scope=col>&lt;int&gt;</th><th scope=col>&lt;int&gt;</th><th scope=col>&lt;int&gt;</th><th scope=col>&lt;chr&gt;</th><th scope=col>&lt;chr&gt;</th><th scope=col>&lt;int&gt;</th><th scope=col>&lt;int&gt;</th><th scope=col>&lt;int&gt;</th><th scope=col>&lt;int&gt;</th><th scope=col>⋯</th><th scope=col>&lt;int&gt;</th><th scope=col>&lt;int&gt;</th><th scope=col>&lt;int&gt;</th><th scope=col>&lt;chr&gt;</th><th scope=col>&lt;int&gt;</th><th scope=col>&lt;chr&gt;</th><th scope=col>&lt;chr&gt;</th><th scope=col>&lt;dbl&gt;</th><th scope=col>&lt;dbl&gt;</th><th scope=col>&lt;int&gt;</th></tr>\n",
       "</thead>\n",
       "<tbody>\n",
       "\t<tr><th scope=row>1</th><td>0150    0275</td><td>1</td><td>1</td><td> 7</td><td>Warm Cool    </td><td>Y</td><td>1</td><td>6</td><td>3</td><td>1900</td><td>⋯</td><td>0</td><td>11</td><td>960</td><td>2022/08/31 05:17:11+00</td><td>74407639</td><td>Old City 2</td><td>Ward 1</td><td>38.91745</td><td>-77.04023</td><td>5</td></tr>\n",
       "\t<tr><th scope=row>2</th><td>0150    0276</td><td>1</td><td>0</td><td> 7</td><td>Warm Cool    </td><td>Y</td><td>1</td><td>6</td><td>3</td><td>1900</td><td>⋯</td><td>0</td><td>11</td><td>960</td><td>2022/08/31 05:17:11+00</td><td>74407640</td><td>Old City 2</td><td>Ward 1</td><td>38.91745</td><td>-77.04017</td><td>1</td></tr>\n",
       "\t<tr><th scope=row>3</th><td>0150    0277</td><td>1</td><td>0</td><td>13</td><td>Hot Water Rad</td><td>N</td><td>1</td><td>6</td><td>3</td><td>1900</td><td>⋯</td><td>0</td><td>11</td><td>960</td><td>2022/08/31 05:17:11+00</td><td>74407641</td><td>Old City 2</td><td>Ward 1</td><td>38.91745</td><td>-77.04012</td><td>1</td></tr>\n",
       "\t<tr><th scope=row>4</th><td>0150    0278</td><td>2</td><td>1</td><td> 7</td><td>Warm Cool    </td><td>Y</td><td>1</td><td>6</td><td>2</td><td>1900</td><td>⋯</td><td>1</td><td>11</td><td>960</td><td>2022/08/31 05:17:11+00</td><td>74407642</td><td>Old City 2</td><td>Ward 1</td><td>38.91745</td><td>-77.04006</td><td>5</td></tr>\n",
       "\t<tr><th scope=row>5</th><td>0150    0279</td><td>1</td><td>1</td><td> 7</td><td>Warm Cool    </td><td>Y</td><td>1</td><td>6</td><td>3</td><td>1900</td><td>⋯</td><td>1</td><td>11</td><td>960</td><td>2022/08/31 05:17:11+00</td><td>74407643</td><td>Old City 2</td><td>Ward 1</td><td>38.91745</td><td>-77.04000</td><td>1</td></tr>\n",
       "\t<tr><th scope=row>6</th><td>0150    0280</td><td>1</td><td>1</td><td> 7</td><td>Warm Cool    </td><td>Y</td><td>1</td><td>6</td><td>3</td><td>1910</td><td>⋯</td><td>1</td><td>11</td><td>960</td><td>2022/08/31 05:17:11+00</td><td>74407644</td><td>Old City 2</td><td>Ward 1</td><td>38.91745</td><td>-77.03995</td><td>1</td></tr>\n",
       "</tbody>\n",
       "</table>\n"
      ],
      "text/latex": [
       "A data.frame: 6 × 44\n",
       "\\begin{tabular}{r|lllllllllllllllllllll}\n",
       "  & SSL & BATHRM & HF\\_BATHRM & HEAT & HEAT\\_D & AC & NUM\\_UNITS & ROOMS & BEDRM & AYB & ⋯ & FIREPLACES & USECODE & LANDAREA & GIS\\_LAST\\_MOD\\_DTTM & OBJECTID & ASSESSMENT\\_NBHD & WARD & LATITUDE & LONGITUDE & YR\\_RMDL\\_CAT\\_2\\\\\n",
       "  & <chr> & <int> & <int> & <int> & <chr> & <chr> & <int> & <int> & <int> & <int> & ⋯ & <int> & <int> & <int> & <chr> & <int> & <chr> & <chr> & <dbl> & <dbl> & <int>\\\\\n",
       "\\hline\n",
       "\t1 & 0150    0275 & 1 & 1 &  7 & Warm Cool     & Y & 1 & 6 & 3 & 1900 & ⋯ & 0 & 11 & 960 & 2022/08/31 05:17:11+00 & 74407639 & Old City 2 & Ward 1 & 38.91745 & -77.04023 & 5\\\\\n",
       "\t2 & 0150    0276 & 1 & 0 &  7 & Warm Cool     & Y & 1 & 6 & 3 & 1900 & ⋯ & 0 & 11 & 960 & 2022/08/31 05:17:11+00 & 74407640 & Old City 2 & Ward 1 & 38.91745 & -77.04017 & 1\\\\\n",
       "\t3 & 0150    0277 & 1 & 0 & 13 & Hot Water Rad & N & 1 & 6 & 3 & 1900 & ⋯ & 0 & 11 & 960 & 2022/08/31 05:17:11+00 & 74407641 & Old City 2 & Ward 1 & 38.91745 & -77.04012 & 1\\\\\n",
       "\t4 & 0150    0278 & 2 & 1 &  7 & Warm Cool     & Y & 1 & 6 & 2 & 1900 & ⋯ & 1 & 11 & 960 & 2022/08/31 05:17:11+00 & 74407642 & Old City 2 & Ward 1 & 38.91745 & -77.04006 & 5\\\\\n",
       "\t5 & 0150    0279 & 1 & 1 &  7 & Warm Cool     & Y & 1 & 6 & 3 & 1900 & ⋯ & 1 & 11 & 960 & 2022/08/31 05:17:11+00 & 74407643 & Old City 2 & Ward 1 & 38.91745 & -77.04000 & 1\\\\\n",
       "\t6 & 0150    0280 & 1 & 1 &  7 & Warm Cool     & Y & 1 & 6 & 3 & 1910 & ⋯ & 1 & 11 & 960 & 2022/08/31 05:17:11+00 & 74407644 & Old City 2 & Ward 1 & 38.91745 & -77.03995 & 1\\\\\n",
       "\\end{tabular}\n"
      ],
      "text/markdown": [
       "\n",
       "A data.frame: 6 × 44\n",
       "\n",
       "| <!--/--> | SSL &lt;chr&gt; | BATHRM &lt;int&gt; | HF_BATHRM &lt;int&gt; | HEAT &lt;int&gt; | HEAT_D &lt;chr&gt; | AC &lt;chr&gt; | NUM_UNITS &lt;int&gt; | ROOMS &lt;int&gt; | BEDRM &lt;int&gt; | AYB &lt;int&gt; | ⋯ ⋯ | FIREPLACES &lt;int&gt; | USECODE &lt;int&gt; | LANDAREA &lt;int&gt; | GIS_LAST_MOD_DTTM &lt;chr&gt; | OBJECTID &lt;int&gt; | ASSESSMENT_NBHD &lt;chr&gt; | WARD &lt;chr&gt; | LATITUDE &lt;dbl&gt; | LONGITUDE &lt;dbl&gt; | YR_RMDL_CAT_2 &lt;int&gt; |\n",
       "|---|---|---|---|---|---|---|---|---|---|---|---|---|---|---|---|---|---|---|---|---|---|\n",
       "| 1 | 0150    0275 | 1 | 1 |  7 | Warm Cool     | Y | 1 | 6 | 3 | 1900 | ⋯ | 0 | 11 | 960 | 2022/08/31 05:17:11+00 | 74407639 | Old City 2 | Ward 1 | 38.91745 | -77.04023 | 5 |\n",
       "| 2 | 0150    0276 | 1 | 0 |  7 | Warm Cool     | Y | 1 | 6 | 3 | 1900 | ⋯ | 0 | 11 | 960 | 2022/08/31 05:17:11+00 | 74407640 | Old City 2 | Ward 1 | 38.91745 | -77.04017 | 1 |\n",
       "| 3 | 0150    0277 | 1 | 0 | 13 | Hot Water Rad | N | 1 | 6 | 3 | 1900 | ⋯ | 0 | 11 | 960 | 2022/08/31 05:17:11+00 | 74407641 | Old City 2 | Ward 1 | 38.91745 | -77.04012 | 1 |\n",
       "| 4 | 0150    0278 | 2 | 1 |  7 | Warm Cool     | Y | 1 | 6 | 2 | 1900 | ⋯ | 1 | 11 | 960 | 2022/08/31 05:17:11+00 | 74407642 | Old City 2 | Ward 1 | 38.91745 | -77.04006 | 5 |\n",
       "| 5 | 0150    0279 | 1 | 1 |  7 | Warm Cool     | Y | 1 | 6 | 3 | 1900 | ⋯ | 1 | 11 | 960 | 2022/08/31 05:17:11+00 | 74407643 | Old City 2 | Ward 1 | 38.91745 | -77.04000 | 1 |\n",
       "| 6 | 0150    0280 | 1 | 1 |  7 | Warm Cool     | Y | 1 | 6 | 3 | 1910 | ⋯ | 1 | 11 | 960 | 2022/08/31 05:17:11+00 | 74407644 | Old City 2 | Ward 1 | 38.91745 | -77.03995 | 1 |\n",
       "\n"
      ],
      "text/plain": [
       "  SSL          BATHRM HF_BATHRM HEAT HEAT_D        AC NUM_UNITS ROOMS BEDRM\n",
       "1 0150    0275 1      1          7   Warm Cool     Y  1         6     3    \n",
       "2 0150    0276 1      0          7   Warm Cool     Y  1         6     3    \n",
       "3 0150    0277 1      0         13   Hot Water Rad N  1         6     3    \n",
       "4 0150    0278 2      1          7   Warm Cool     Y  1         6     2    \n",
       "5 0150    0279 1      1          7   Warm Cool     Y  1         6     3    \n",
       "6 0150    0280 1      1          7   Warm Cool     Y  1         6     3    \n",
       "  AYB  ⋯ FIREPLACES USECODE LANDAREA GIS_LAST_MOD_DTTM      OBJECTID\n",
       "1 1900 ⋯ 0          11      960      2022/08/31 05:17:11+00 74407639\n",
       "2 1900 ⋯ 0          11      960      2022/08/31 05:17:11+00 74407640\n",
       "3 1900 ⋯ 0          11      960      2022/08/31 05:17:11+00 74407641\n",
       "4 1900 ⋯ 1          11      960      2022/08/31 05:17:11+00 74407642\n",
       "5 1900 ⋯ 1          11      960      2022/08/31 05:17:11+00 74407643\n",
       "6 1910 ⋯ 1          11      960      2022/08/31 05:17:11+00 74407644\n",
       "  ASSESSMENT_NBHD WARD   LATITUDE LONGITUDE YR_RMDL_CAT_2\n",
       "1 Old City 2      Ward 1 38.91745 -77.04023 5            \n",
       "2 Old City 2      Ward 1 38.91745 -77.04017 1            \n",
       "3 Old City 2      Ward 1 38.91745 -77.04012 1            \n",
       "4 Old City 2      Ward 1 38.91745 -77.04006 5            \n",
       "5 Old City 2      Ward 1 38.91745 -77.04000 1            \n",
       "6 Old City 2      Ward 1 38.91745 -77.03995 1            "
      ]
     },
     "metadata": {},
     "output_type": "display_data"
    },
    {
     "data": {
      "text/html": [
       "<table class=\"dataframe\">\n",
       "<caption>A data.frame: 6 × 44</caption>\n",
       "<thead>\n",
       "\t<tr><th></th><th scope=col>SSL</th><th scope=col>BATHRM</th><th scope=col>HF_BATHRM</th><th scope=col>HEAT</th><th scope=col>HEAT_D</th><th scope=col>AC</th><th scope=col>NUM_UNITS</th><th scope=col>ROOMS</th><th scope=col>BEDRM</th><th scope=col>AYB</th><th scope=col>⋯</th><th scope=col>FIREPLACES</th><th scope=col>USECODE</th><th scope=col>LANDAREA</th><th scope=col>GIS_LAST_MOD_DTTM</th><th scope=col>OBJECTID</th><th scope=col>ASSESSMENT_NBHD</th><th scope=col>WARD</th><th scope=col>LATITUDE</th><th scope=col>LONGITUDE</th><th scope=col>YR_RMDL_CAT_2</th></tr>\n",
       "\t<tr><th></th><th scope=col>&lt;chr&gt;</th><th scope=col>&lt;int&gt;</th><th scope=col>&lt;int&gt;</th><th scope=col>&lt;int&gt;</th><th scope=col>&lt;chr&gt;</th><th scope=col>&lt;chr&gt;</th><th scope=col>&lt;int&gt;</th><th scope=col>&lt;int&gt;</th><th scope=col>&lt;int&gt;</th><th scope=col>&lt;int&gt;</th><th scope=col>⋯</th><th scope=col>&lt;int&gt;</th><th scope=col>&lt;int&gt;</th><th scope=col>&lt;int&gt;</th><th scope=col>&lt;chr&gt;</th><th scope=col>&lt;int&gt;</th><th scope=col>&lt;chr&gt;</th><th scope=col>&lt;chr&gt;</th><th scope=col>&lt;dbl&gt;</th><th scope=col>&lt;dbl&gt;</th><th scope=col>&lt;int&gt;</th></tr>\n",
       "</thead>\n",
       "<tbody>\n",
       "\t<tr><th scope=row>108398</th><td>PAR 01550236</td><td>2</td><td>0</td><td>13</td><td>Hot Water Rad</td><td>N</td><td>1</td><td> 6</td><td>2</td><td>1934</td><td>⋯</td><td>1</td><td>12</td><td>4571</td><td>2022/08/31 05:17:11+00</td><td>74624612</td><td>Woodridge</td><td>Ward 5</td><td>38.92890</td><td>-76.97456</td><td>1</td></tr>\n",
       "\t<tr><th scope=row>108399</th><td>PAR 01550251</td><td>2</td><td>0</td><td> 1</td><td>Forced Air   </td><td>Y</td><td>1</td><td> 6</td><td>3</td><td>1935</td><td>⋯</td><td>0</td><td>12</td><td>3000</td><td>2022/08/31 05:17:11+00</td><td>74624613</td><td>Woodridge</td><td>Ward 5</td><td>38.92700</td><td>-76.97157</td><td>4</td></tr>\n",
       "\t<tr><th scope=row>108400</th><td>PAR 01550252</td><td>1</td><td>0</td><td>13</td><td>Hot Water Rad</td><td>N</td><td>1</td><td> 5</td><td>2</td><td>1935</td><td>⋯</td><td>0</td><td>12</td><td>3000</td><td>2022/08/31 05:17:11+00</td><td>74624614</td><td>Woodridge</td><td>Ward 5</td><td>38.92706</td><td>-76.97145</td><td>1</td></tr>\n",
       "\t<tr><th scope=row>108401</th><td>PAR 01550254</td><td>3</td><td>0</td><td>13</td><td>Hot Water Rad</td><td>N</td><td>1</td><td> 5</td><td>3</td><td>1922</td><td>⋯</td><td>0</td><td>12</td><td>7829</td><td>2022/08/31 05:17:11+00</td><td>74624615</td><td>Woodridge</td><td>Ward 5</td><td>38.92790</td><td>-76.97388</td><td>2</td></tr>\n",
       "\t<tr><th scope=row>108402</th><td>PAR 01550255</td><td>3</td><td>1</td><td> 1</td><td>Forced Air   </td><td>Y</td><td>1</td><td>10</td><td>4</td><td>1925</td><td>⋯</td><td>0</td><td>13</td><td>4001</td><td>2022/08/31 05:17:11+00</td><td>74624616</td><td>Woodridge</td><td>Ward 5</td><td>38.92924</td><td>-76.97320</td><td>4</td></tr>\n",
       "\t<tr><th scope=row>108403</th><td>PAR 01550259</td><td>1</td><td>0</td><td>13</td><td>Hot Water Rad</td><td>N</td><td>1</td><td> 6</td><td>3</td><td>1940</td><td>⋯</td><td>0</td><td>11</td><td>1399</td><td>2022/08/31 05:17:11+00</td><td>74624617</td><td>Woodridge</td><td>Ward 5</td><td>38.92924</td><td>-76.97465</td><td>1</td></tr>\n",
       "</tbody>\n",
       "</table>\n"
      ],
      "text/latex": [
       "A data.frame: 6 × 44\n",
       "\\begin{tabular}{r|lllllllllllllllllllll}\n",
       "  & SSL & BATHRM & HF\\_BATHRM & HEAT & HEAT\\_D & AC & NUM\\_UNITS & ROOMS & BEDRM & AYB & ⋯ & FIREPLACES & USECODE & LANDAREA & GIS\\_LAST\\_MOD\\_DTTM & OBJECTID & ASSESSMENT\\_NBHD & WARD & LATITUDE & LONGITUDE & YR\\_RMDL\\_CAT\\_2\\\\\n",
       "  & <chr> & <int> & <int> & <int> & <chr> & <chr> & <int> & <int> & <int> & <int> & ⋯ & <int> & <int> & <int> & <chr> & <int> & <chr> & <chr> & <dbl> & <dbl> & <int>\\\\\n",
       "\\hline\n",
       "\t108398 & PAR 01550236 & 2 & 0 & 13 & Hot Water Rad & N & 1 &  6 & 2 & 1934 & ⋯ & 1 & 12 & 4571 & 2022/08/31 05:17:11+00 & 74624612 & Woodridge & Ward 5 & 38.92890 & -76.97456 & 1\\\\\n",
       "\t108399 & PAR 01550251 & 2 & 0 &  1 & Forced Air    & Y & 1 &  6 & 3 & 1935 & ⋯ & 0 & 12 & 3000 & 2022/08/31 05:17:11+00 & 74624613 & Woodridge & Ward 5 & 38.92700 & -76.97157 & 4\\\\\n",
       "\t108400 & PAR 01550252 & 1 & 0 & 13 & Hot Water Rad & N & 1 &  5 & 2 & 1935 & ⋯ & 0 & 12 & 3000 & 2022/08/31 05:17:11+00 & 74624614 & Woodridge & Ward 5 & 38.92706 & -76.97145 & 1\\\\\n",
       "\t108401 & PAR 01550254 & 3 & 0 & 13 & Hot Water Rad & N & 1 &  5 & 3 & 1922 & ⋯ & 0 & 12 & 7829 & 2022/08/31 05:17:11+00 & 74624615 & Woodridge & Ward 5 & 38.92790 & -76.97388 & 2\\\\\n",
       "\t108402 & PAR 01550255 & 3 & 1 &  1 & Forced Air    & Y & 1 & 10 & 4 & 1925 & ⋯ & 0 & 13 & 4001 & 2022/08/31 05:17:11+00 & 74624616 & Woodridge & Ward 5 & 38.92924 & -76.97320 & 4\\\\\n",
       "\t108403 & PAR 01550259 & 1 & 0 & 13 & Hot Water Rad & N & 1 &  6 & 3 & 1940 & ⋯ & 0 & 11 & 1399 & 2022/08/31 05:17:11+00 & 74624617 & Woodridge & Ward 5 & 38.92924 & -76.97465 & 1\\\\\n",
       "\\end{tabular}\n"
      ],
      "text/markdown": [
       "\n",
       "A data.frame: 6 × 44\n",
       "\n",
       "| <!--/--> | SSL &lt;chr&gt; | BATHRM &lt;int&gt; | HF_BATHRM &lt;int&gt; | HEAT &lt;int&gt; | HEAT_D &lt;chr&gt; | AC &lt;chr&gt; | NUM_UNITS &lt;int&gt; | ROOMS &lt;int&gt; | BEDRM &lt;int&gt; | AYB &lt;int&gt; | ⋯ ⋯ | FIREPLACES &lt;int&gt; | USECODE &lt;int&gt; | LANDAREA &lt;int&gt; | GIS_LAST_MOD_DTTM &lt;chr&gt; | OBJECTID &lt;int&gt; | ASSESSMENT_NBHD &lt;chr&gt; | WARD &lt;chr&gt; | LATITUDE &lt;dbl&gt; | LONGITUDE &lt;dbl&gt; | YR_RMDL_CAT_2 &lt;int&gt; |\n",
       "|---|---|---|---|---|---|---|---|---|---|---|---|---|---|---|---|---|---|---|---|---|---|\n",
       "| 108398 | PAR 01550236 | 2 | 0 | 13 | Hot Water Rad | N | 1 |  6 | 2 | 1934 | ⋯ | 1 | 12 | 4571 | 2022/08/31 05:17:11+00 | 74624612 | Woodridge | Ward 5 | 38.92890 | -76.97456 | 1 |\n",
       "| 108399 | PAR 01550251 | 2 | 0 |  1 | Forced Air    | Y | 1 |  6 | 3 | 1935 | ⋯ | 0 | 12 | 3000 | 2022/08/31 05:17:11+00 | 74624613 | Woodridge | Ward 5 | 38.92700 | -76.97157 | 4 |\n",
       "| 108400 | PAR 01550252 | 1 | 0 | 13 | Hot Water Rad | N | 1 |  5 | 2 | 1935 | ⋯ | 0 | 12 | 3000 | 2022/08/31 05:17:11+00 | 74624614 | Woodridge | Ward 5 | 38.92706 | -76.97145 | 1 |\n",
       "| 108401 | PAR 01550254 | 3 | 0 | 13 | Hot Water Rad | N | 1 |  5 | 3 | 1922 | ⋯ | 0 | 12 | 7829 | 2022/08/31 05:17:11+00 | 74624615 | Woodridge | Ward 5 | 38.92790 | -76.97388 | 2 |\n",
       "| 108402 | PAR 01550255 | 3 | 1 |  1 | Forced Air    | Y | 1 | 10 | 4 | 1925 | ⋯ | 0 | 13 | 4001 | 2022/08/31 05:17:11+00 | 74624616 | Woodridge | Ward 5 | 38.92924 | -76.97320 | 4 |\n",
       "| 108403 | PAR 01550259 | 1 | 0 | 13 | Hot Water Rad | N | 1 |  6 | 3 | 1940 | ⋯ | 0 | 11 | 1399 | 2022/08/31 05:17:11+00 | 74624617 | Woodridge | Ward 5 | 38.92924 | -76.97465 | 1 |\n",
       "\n"
      ],
      "text/plain": [
       "       SSL          BATHRM HF_BATHRM HEAT HEAT_D        AC NUM_UNITS ROOMS\n",
       "108398 PAR 01550236 2      0         13   Hot Water Rad N  1          6   \n",
       "108399 PAR 01550251 2      0          1   Forced Air    Y  1          6   \n",
       "108400 PAR 01550252 1      0         13   Hot Water Rad N  1          5   \n",
       "108401 PAR 01550254 3      0         13   Hot Water Rad N  1          5   \n",
       "108402 PAR 01550255 3      1          1   Forced Air    Y  1         10   \n",
       "108403 PAR 01550259 1      0         13   Hot Water Rad N  1          6   \n",
       "       BEDRM AYB  ⋯ FIREPLACES USECODE LANDAREA GIS_LAST_MOD_DTTM      OBJECTID\n",
       "108398 2     1934 ⋯ 1          12      4571     2022/08/31 05:17:11+00 74624612\n",
       "108399 3     1935 ⋯ 0          12      3000     2022/08/31 05:17:11+00 74624613\n",
       "108400 2     1935 ⋯ 0          12      3000     2022/08/31 05:17:11+00 74624614\n",
       "108401 3     1922 ⋯ 0          12      7829     2022/08/31 05:17:11+00 74624615\n",
       "108402 4     1925 ⋯ 0          13      4001     2022/08/31 05:17:11+00 74624616\n",
       "108403 3     1940 ⋯ 0          11      1399     2022/08/31 05:17:11+00 74624617\n",
       "       ASSESSMENT_NBHD WARD   LATITUDE LONGITUDE YR_RMDL_CAT_2\n",
       "108398 Woodridge       Ward 5 38.92890 -76.97456 1            \n",
       "108399 Woodridge       Ward 5 38.92700 -76.97157 4            \n",
       "108400 Woodridge       Ward 5 38.92706 -76.97145 1            \n",
       "108401 Woodridge       Ward 5 38.92790 -76.97388 2            \n",
       "108402 Woodridge       Ward 5 38.92924 -76.97320 4            \n",
       "108403 Woodridge       Ward 5 38.92924 -76.97465 1            "
      ]
     },
     "metadata": {},
     "output_type": "display_data"
    },
    {
     "data": {
      "text/plain": [
       "     SSL                BATHRM         HF_BATHRM            HEAT      \n",
       " Length:108403      Min.   : 0.000   Min.   : 0.0000   Min.   : 0.00  \n",
       " Class :character   1st Qu.: 1.000   1st Qu.: 0.0000   1st Qu.: 1.00  \n",
       " Mode  :character   Median : 2.000   Median : 1.0000   Median : 7.00  \n",
       "                    Mean   : 2.124   Mean   : 0.6298   Mean   : 7.27  \n",
       "                    3rd Qu.: 3.000   3rd Qu.: 1.0000   3rd Qu.:13.00  \n",
       "                    Max.   :30.000   Max.   :12.0000   Max.   :13.00  \n",
       "                    NA's   :1371     NA's   :1371      NA's   :1371   \n",
       "    HEAT_D               AC              NUM_UNITS          ROOMS        \n",
       " Length:108403      Length:108403      Min.   : 0.000   Min.   :  0.000  \n",
       " Class :character   Class :character   1st Qu.: 1.000   1st Qu.:  6.000  \n",
       " Mode  :character   Mode  :character   Median : 1.000   Median :  7.000  \n",
       "                                       Mean   : 1.196   Mean   :  7.397  \n",
       "                                       3rd Qu.: 1.000   3rd Qu.:  8.000  \n",
       "                                       Max.   :12.000   Max.   :101.000  \n",
       "                                       NA's   :1371     NA's   :1443     \n",
       "     BEDRM             AYB          YR_RMDL           EYB      \n",
       " Min.   : 0.000   Min.   :   0   Min.   :  202   Min.   :   0  \n",
       " 1st Qu.: 3.000   1st Qu.:1915   1st Qu.: 2000   1st Qu.:1960  \n",
       " Median : 3.000   Median :1930   Median : 2008   Median :1968  \n",
       " Mean   : 3.422   Mean   :1932   Mean   : 2006   Mean   :1946  \n",
       " 3rd Qu.: 4.000   3rd Qu.:1948   3rd Qu.: 2015   3rd Qu.:1975  \n",
       " Max.   :24.000   Max.   :2023   Max.   :20212   Max.   :2022  \n",
       " NA's   :1388     NA's   :21     NA's   :53877                 \n",
       "    STORIES          SALEDATE             PRICE           QUALIFIED        \n",
       " Min.   :  0.000   Length:108403      Min.   :       0   Length:108403     \n",
       " 1st Qu.:  2.000   Class :character   1st Qu.:       0   Class :character  \n",
       " Median :  2.000   Mode  :character   Median :  294000   Mode  :character  \n",
       " Mean   :  2.084                      Mean   :  465255                     \n",
       " 3rd Qu.:  2.000                      3rd Qu.:  715000                     \n",
       " Max.   :275.000                      Max.   :25100000                     \n",
       " NA's   :1459                         NA's   :14181                        \n",
       "    SALE_NUM           GBA           BLDG_NUM         STYLE       \n",
       " Min.   : 1.000   Min.   :    0   Min.   :1.000   Min.   : 0.000  \n",
       " 1st Qu.: 1.000   1st Qu.: 1188   1st Qu.:1.000   1st Qu.: 4.000  \n",
       " Median : 1.000   Median : 1488   Median :1.000   Median : 4.000  \n",
       " Mean   : 2.148   Mean   : 1710   Mean   :1.001   Mean   : 4.356  \n",
       " 3rd Qu.: 3.000   3rd Qu.: 1980   3rd Qu.:1.000   3rd Qu.: 4.000  \n",
       " Max.   :17.000   Max.   :45384   Max.   :5.000   Max.   :99.000  \n",
       "                                                  NA's   :1372    \n",
       "   STYLE_D              STRUCT         STRUCT_D             GRADE       \n",
       " Length:108403      Min.   : 0.000   Length:108403      Min.   : 0.000  \n",
       " Class :character   1st Qu.: 1.000   Class :character   1st Qu.: 3.000  \n",
       " Mode  :character   Median : 7.000   Mode  :character   Median : 4.000  \n",
       "                    Mean   : 5.013                      Mean   : 4.285  \n",
       "                    3rd Qu.: 7.000                      3rd Qu.: 5.000  \n",
       "                    Max.   :13.000                      Max.   :12.000  \n",
       "                    NA's   :1371                        NA's   :1371    \n",
       "   GRADE_D              CNDTN         CNDTN_D             EXTWALL     \n",
       " Length:108403      Min.   :0.000   Length:108403      Min.   : 0.00  \n",
       " Class :character   1st Qu.:3.000   Class :character   1st Qu.:14.00  \n",
       " Mode  :character   Median :4.000   Mode  :character   Median :14.00  \n",
       "                    Mean   :3.624                      Mean   :13.37  \n",
       "                    3rd Qu.:4.000                      3rd Qu.:14.00  \n",
       "                    Max.   :6.000                      Max.   :24.00  \n",
       "                    NA's   :1371                       NA's   :1371   \n",
       "  EXTWALL_D              ROOF           ROOF_D             INTWALL      \n",
       " Length:108403      Min.   : 0.000   Length:108403      Min.   : 0.000  \n",
       " Class :character   1st Qu.: 1.000   Class :character   1st Qu.: 6.000  \n",
       " Mode  :character   Median : 2.000   Mode  :character   Median : 6.000  \n",
       "                    Mean   : 3.966                      Mean   : 6.161  \n",
       "                    3rd Qu.: 6.000                      3rd Qu.: 6.000  \n",
       "                    Max.   :15.000                      Max.   :11.000  \n",
       "                    NA's   :1371                        NA's   :1371    \n",
       "  INTWALL_D            KITCHENS        FIREPLACES         USECODE      \n",
       " Length:108403      Min.   : 0.000   Min.   : 0.0000   Min.   :  0.00  \n",
       " Class :character   1st Qu.: 1.000   1st Qu.: 0.0000   1st Qu.: 11.00  \n",
       " Mode  :character   Median : 1.000   Median : 0.0000   Median : 12.00  \n",
       "                    Mean   : 1.226   Mean   : 0.6268   Mean   : 13.15  \n",
       "                    3rd Qu.: 1.000   3rd Qu.: 1.0000   3rd Qu.: 13.00  \n",
       "                    Max.   :44.000   Max.   :13.0000   Max.   :995.00  \n",
       "                    NA's   :1372     NA's   :1374                      \n",
       "    LANDAREA      GIS_LAST_MOD_DTTM     OBJECTID        ASSESSMENT_NBHD   \n",
       " Min.   :     0   Length:108403      Min.   :74407639   Length:108403     \n",
       " 1st Qu.:  1572   Class :character   1st Qu.:74543316   Class :character  \n",
       " Median :  2327   Mode  :character   Median :74570416   Mode  :character  \n",
       " Mean   :  3389                      Mean   :74570406                     \n",
       " 3rd Qu.:  4160                      3rd Qu.:74597516                     \n",
       " Max.   :942632                      Max.   :74624617                     \n",
       "                                                                          \n",
       "     WARD              LATITUDE       LONGITUDE      YR_RMDL_CAT_2  \n",
       " Length:108403      Min.   :38.82   Min.   :-77.11   Min.   :1.000  \n",
       " Class :character   1st Qu.:38.89   1st Qu.:-77.04   1st Qu.:1.000  \n",
       " Mode  :character   Median :38.92   Median :-77.01   Median :2.000  \n",
       "                    Mean   :38.92   Mean   :-77.01   Mean   :2.533  \n",
       "                    3rd Qu.:38.94   3rd Qu.:-76.98   3rd Qu.:4.000  \n",
       "                    Max.   :39.00   Max.   :-76.91   Max.   :7.000  \n",
       "                    NA's   :2103    NA's   :2103                    "
      ]
     },
     "metadata": {},
     "output_type": "display_data"
    },
    {
     "name": "stdout",
     "output_type": "stream",
     "text": [
      "'data.frame':\t108403 obs. of  44 variables:\n",
      " $ SSL              : chr  \"0150    0275\" \"0150    0276\" \"0150    0277\" \"0150    0278\" ...\n",
      " $ BATHRM           : int  1 1 1 2 1 1 2 1 1 1 ...\n",
      " $ HF_BATHRM        : int  1 0 0 1 1 1 1 1 1 1 ...\n",
      " $ HEAT             : int  7 7 13 7 7 7 7 7 7 7 ...\n",
      " $ HEAT_D           : chr  \"Warm Cool\" \"Warm Cool\" \"Hot Water Rad\" \"Warm Cool\" ...\n",
      " $ AC               : chr  \"Y\" \"Y\" \"N\" \"Y\" ...\n",
      " $ NUM_UNITS        : int  1 1 1 1 1 1 1 1 1 1 ...\n",
      " $ ROOMS            : int  6 6 6 6 6 6 6 6 6 6 ...\n",
      " $ BEDRM            : int  3 3 3 2 3 3 2 3 3 3 ...\n",
      " $ AYB              : int  1900 1900 1900 1900 1900 1910 1900 1900 1900 1900 ...\n",
      " $ YR_RMDL          : int  2004 NA NA 2016 NA NA 2001 NA 2003 2015 ...\n",
      " $ EYB              : int  1971 1961 1961 1971 1961 1968 1971 1971 1971 1961 ...\n",
      " $ STORIES          : num  2 2 2 2 2 2 2 2 2 2 ...\n",
      " $ SALEDATE         : chr  \"2013/07/22 00:00:00+00\" \"1900/01/01 00:00:00+00\" \"1996/02/12 00:00:00+00\" \"2022/04/06 00:00:00+00\" ...\n",
      " $ PRICE            : int  755000 NA 118000 1110000 0 251000 930388 606500 0 162000 ...\n",
      " $ QUALIFIED        : chr  \"Q\" \"U\" \"U\" \"Q\" ...\n",
      " $ SALE_NUM         : int  1 1 1 5 3 1 5 1 3 1 ...\n",
      " $ GBA              : int  1286 1286 1286 1304 1286 1286 1286 1286 1344 1286 ...\n",
      " $ BLDG_NUM         : int  1 1 1 1 1 1 1 1 1 1 ...\n",
      " $ STYLE            : int  4 4 4 4 4 4 4 4 4 4 ...\n",
      " $ STYLE_D          : chr  \"2 Story\" \"2 Story\" \"2 Story\" \"2 Story\" ...\n",
      " $ STRUCT           : int  7 7 7 7 7 7 7 7 7 7 ...\n",
      " $ STRUCT_D         : chr  \"Row Inside\" \"Row Inside\" \"Row Inside\" \"Row Inside\" ...\n",
      " $ GRADE            : int  4 4 4 4 4 4 4 4 4 4 ...\n",
      " $ GRADE_D          : chr  \"Above Average\" \"Above Average\" \"Above Average\" \"Above Average\" ...\n",
      " $ CNDTN            : int  4 3 3 4 3 4 3 3 4 3 ...\n",
      " $ CNDTN_D          : chr  \"Good\" \"Average\" \"Average\" \"Good\" ...\n",
      " $ EXTWALL          : int  14 14 14 14 14 14 14 14 14 14 ...\n",
      " $ EXTWALL_D        : chr  \"Common Brick\" \"Common Brick\" \"Common Brick\" \"Common Brick\" ...\n",
      " $ ROOF             : int  2 2 2 2 2 2 2 2 2 2 ...\n",
      " $ ROOF_D           : chr  \"Built Up\" \"Built Up\" \"Built Up\" \"Built Up\" ...\n",
      " $ INTWALL          : int  6 6 6 6 6 6 6 6 6 6 ...\n",
      " $ INTWALL_D        : chr  \"Hardwood\" \"Hardwood\" \"Hardwood\" \"Hardwood\" ...\n",
      " $ KITCHENS         : int  1 1 1 1 1 1 1 1 1 1 ...\n",
      " $ FIREPLACES       : int  0 0 0 1 1 1 1 1 0 1 ...\n",
      " $ USECODE          : int  11 11 11 11 11 11 11 11 11 11 ...\n",
      " $ LANDAREA         : int  960 960 960 960 960 960 960 960 960 960 ...\n",
      " $ GIS_LAST_MOD_DTTM: chr  \"2022/08/31 05:17:11+00\" \"2022/08/31 05:17:11+00\" \"2022/08/31 05:17:11+00\" \"2022/08/31 05:17:11+00\" ...\n",
      " $ OBJECTID         : int  74407639 74407640 74407641 74407642 74407643 74407644 74407645 74407646 74407647 74407648 ...\n",
      " $ ASSESSMENT_NBHD  : chr  \"Old City 2\" \"Old City 2\" \"Old City 2\" \"Old City 2\" ...\n",
      " $ WARD             : chr  \"Ward 1\" \"Ward 1\" \"Ward 1\" \"Ward 1\" ...\n",
      " $ LATITUDE         : num  38.9 38.9 38.9 38.9 38.9 ...\n",
      " $ LONGITUDE        : num  -77 -77 -77 -77 -77 ...\n",
      " $ YR_RMDL_CAT_2    : int  5 1 1 5 1 1 5 1 5 5 ...\n"
     ]
    }
   ],
   "source": [
    "# ResidentialSalesWithLocation_CSV\n",
    "\n",
    "setwd(\"D:/Penn State/DAAN/DAAN 888 Analytics Design Implementation/Report\")  #set my working directory\n",
    "getwd()\n",
    "\n",
    "HOUSE.df <- read.csv(\"ResidentialSalesWithLocation_CSV.csv\", header = TRUE)  #import data into R\n",
    "\n",
    "######################### Verify the data ##########################\n",
    "head(HOUSE.df)   #Verify the first five rows of the dataframe\n",
    "\n",
    "tail(HOUSE.df)   #Verify the last five rows of the dataframe\n",
    "\n",
    "summary(HOUSE.df)   #To check the variables and counts\n",
    "\n",
    "str(HOUSE.df)   #To check the data structure of the loaded dataset\n",
    "####################################################################"
   ]
  },
  {
   "cell_type": "code",
   "execution_count": 2,
   "metadata": {},
   "outputs": [
    {
     "data": {
      "text/html": [
       "<table class=\"dataframe\">\n",
       "<caption>A data.frame: 6 × 3</caption>\n",
       "<thead>\n",
       "\t<tr><th></th><th scope=col>SALEDATE</th><th scope=col>PRICE</th><th scope=col>WARD</th></tr>\n",
       "\t<tr><th></th><th scope=col>&lt;chr&gt;</th><th scope=col>&lt;int&gt;</th><th scope=col>&lt;chr&gt;</th></tr>\n",
       "</thead>\n",
       "<tbody>\n",
       "\t<tr><th scope=row>1</th><td>2013/07/22 00:00:00+00</td><td> 755000</td><td>Ward 1</td></tr>\n",
       "\t<tr><th scope=row>2</th><td>1900/01/01 00:00:00+00</td><td>     NA</td><td>Ward 1</td></tr>\n",
       "\t<tr><th scope=row>3</th><td>1996/02/12 00:00:00+00</td><td> 118000</td><td>Ward 1</td></tr>\n",
       "\t<tr><th scope=row>4</th><td>2022/04/06 00:00:00+00</td><td>1110000</td><td>Ward 1</td></tr>\n",
       "\t<tr><th scope=row>5</th><td>2017/03/24 00:00:00+00</td><td>      0</td><td>Ward 1</td></tr>\n",
       "\t<tr><th scope=row>6</th><td>2000/06/30 00:00:00+00</td><td> 251000</td><td>Ward 1</td></tr>\n",
       "</tbody>\n",
       "</table>\n"
      ],
      "text/latex": [
       "A data.frame: 6 × 3\n",
       "\\begin{tabular}{r|lll}\n",
       "  & SALEDATE & PRICE & WARD\\\\\n",
       "  & <chr> & <int> & <chr>\\\\\n",
       "\\hline\n",
       "\t1 & 2013/07/22 00:00:00+00 &  755000 & Ward 1\\\\\n",
       "\t2 & 1900/01/01 00:00:00+00 &      NA & Ward 1\\\\\n",
       "\t3 & 1996/02/12 00:00:00+00 &  118000 & Ward 1\\\\\n",
       "\t4 & 2022/04/06 00:00:00+00 & 1110000 & Ward 1\\\\\n",
       "\t5 & 2017/03/24 00:00:00+00 &       0 & Ward 1\\\\\n",
       "\t6 & 2000/06/30 00:00:00+00 &  251000 & Ward 1\\\\\n",
       "\\end{tabular}\n"
      ],
      "text/markdown": [
       "\n",
       "A data.frame: 6 × 3\n",
       "\n",
       "| <!--/--> | SALEDATE &lt;chr&gt; | PRICE &lt;int&gt; | WARD &lt;chr&gt; |\n",
       "|---|---|---|---|\n",
       "| 1 | 2013/07/22 00:00:00+00 |  755000 | Ward 1 |\n",
       "| 2 | 1900/01/01 00:00:00+00 |      NA | Ward 1 |\n",
       "| 3 | 1996/02/12 00:00:00+00 |  118000 | Ward 1 |\n",
       "| 4 | 2022/04/06 00:00:00+00 | 1110000 | Ward 1 |\n",
       "| 5 | 2017/03/24 00:00:00+00 |       0 | Ward 1 |\n",
       "| 6 | 2000/06/30 00:00:00+00 |  251000 | Ward 1 |\n",
       "\n"
      ],
      "text/plain": [
       "  SALEDATE               PRICE   WARD  \n",
       "1 2013/07/22 00:00:00+00  755000 Ward 1\n",
       "2 1900/01/01 00:00:00+00      NA Ward 1\n",
       "3 1996/02/12 00:00:00+00  118000 Ward 1\n",
       "4 2022/04/06 00:00:00+00 1110000 Ward 1\n",
       "5 2017/03/24 00:00:00+00       0 Ward 1\n",
       "6 2000/06/30 00:00:00+00  251000 Ward 1"
      ]
     },
     "metadata": {},
     "output_type": "display_data"
    },
    {
     "data": {
      "text/plain": [
       "   SALEDATE             PRICE              WARD          \n",
       " Length:108403      Min.   :       0   Length:108403     \n",
       " Class :character   1st Qu.:       0   Class :character  \n",
       " Mode  :character   Median :  294000   Mode  :character  \n",
       "                    Mean   :  465255                     \n",
       "                    3rd Qu.:  715000                     \n",
       "                    Max.   :25100000                     \n",
       "                    NA's   :14181                        "
      ]
     },
     "metadata": {},
     "output_type": "display_data"
    },
    {
     "name": "stdout",
     "output_type": "stream",
     "text": [
      "'data.frame':\t108403 obs. of  3 variables:\n",
      " $ SALEDATE: chr  \"2013/07/22 00:00:00+00\" \"1900/01/01 00:00:00+00\" \"1996/02/12 00:00:00+00\" \"2022/04/06 00:00:00+00\" ...\n",
      " $ PRICE   : int  755000 NA 118000 1110000 0 251000 930388 606500 0 162000 ...\n",
      " $ WARD    : chr  \"Ward 1\" \"Ward 1\" \"Ward 1\" \"Ward 1\" ...\n"
     ]
    }
   ],
   "source": [
    "################################################################################\n",
    "# Create a new data set for the total population\n",
    "# Three features, \"SALEDATE\", \"PRICE\", and \"Ward\"\n",
    "\n",
    "HOUSE_TS1.df <- subset(HOUSE.df, select = c(SALEDATE, PRICE, WARD))\n",
    "\n",
    "head(HOUSE_TS1.df)     #Verify the first five rows of the dataframe\n",
    "\n",
    "summary(HOUSE_TS1.df)     #To check the variables and counts\n",
    "\n",
    "str(HOUSE_TS1.df)   #To check the data structure of the loaded dataset\n",
    "################################################################################"
   ]
  },
  {
   "cell_type": "code",
   "execution_count": 3,
   "metadata": {},
   "outputs": [
    {
     "data": {
      "text/plain": [
       "   SALEDATE             PRICE              WARD          \n",
       " Length:62008       Min.   :       1   Length:62008      \n",
       " Class :character   1st Qu.:  300000   Class :character  \n",
       " Mode  :character   Median :  557985   Mode  :character  \n",
       "                    Mean   :  706961                     \n",
       "                    3rd Qu.:  894000                     \n",
       "                    Max.   :25100000                     "
      ]
     },
     "metadata": {},
     "output_type": "display_data"
    }
   ],
   "source": [
    "################################################################################\n",
    "# Remove 0s and NA's from the \"PRICE\" variable\n",
    "HOUSE_TS1.df[HOUSE_TS1.df==0] <- NA     # Set all 0s to NA\n",
    "\n",
    "HOUSE_TS1.df <- na.omit(HOUSE_TS1.df)     # Removes all NA's from the dataframe\n",
    "\n",
    "summary(HOUSE_TS1.df)     #To check the variables and counts\n",
    "################################################################################"
   ]
  },
  {
   "cell_type": "code",
   "execution_count": 4,
   "metadata": {},
   "outputs": [
    {
     "name": "stderr",
     "output_type": "stream",
     "text": [
      "Installing package into 'C:/Users/bates/AppData/Local/R/win-library/4.2'\n",
      "(as 'lib' is unspecified)\n",
      "\n"
     ]
    },
    {
     "name": "stdout",
     "output_type": "stream",
     "text": [
      "package 'ggplot2' successfully unpacked and MD5 sums checked\n",
      "\n",
      "The downloaded binary packages are in\n",
      "\tC:\\Users\\bates\\AppData\\Local\\Temp\\Rtmp21AjSg\\downloaded_packages\n"
     ]
    },
    {
     "name": "stderr",
     "output_type": "stream",
     "text": [
      "Installing package into 'C:/Users/bates/AppData/Local/R/win-library/4.2'\n",
      "(as 'lib' is unspecified)\n",
      "\n"
     ]
    },
    {
     "name": "stdout",
     "output_type": "stream",
     "text": [
      "package 'dplyr' successfully unpacked and MD5 sums checked\n"
     ]
    },
    {
     "name": "stderr",
     "output_type": "stream",
     "text": [
      "Warning message:\n",
      "\"cannot remove prior installation of package 'dplyr'\"\n",
      "Warning message in file.copy(savedcopy, lib, recursive = TRUE):\n",
      "\"problem copying C:\\Users\\bates\\AppData\\Local\\R\\win-library\\4.2\\00LOCK\\dplyr\\libs\\x64\\dplyr.dll to C:\\Users\\bates\\AppData\\Local\\R\\win-library\\4.2\\dplyr\\libs\\x64\\dplyr.dll: Permission denied\"\n",
      "Warning message:\n",
      "\"restored 'dplyr'\"\n"
     ]
    },
    {
     "name": "stdout",
     "output_type": "stream",
     "text": [
      "\n",
      "The downloaded binary packages are in\n",
      "\tC:\\Users\\bates\\AppData\\Local\\Temp\\Rtmp21AjSg\\downloaded_packages\n"
     ]
    },
    {
     "name": "stderr",
     "output_type": "stream",
     "text": [
      "\n",
      "Attaching package: 'dplyr'\n",
      "\n",
      "\n",
      "The following objects are masked from 'package:stats':\n",
      "\n",
      "    filter, lag\n",
      "\n",
      "\n",
      "The following objects are masked from 'package:base':\n",
      "\n",
      "    intersect, setdiff, setequal, union\n",
      "\n",
      "\n"
     ]
    },
    {
     "data": {
      "image/png": "[encoded data removed]",
      "text/plain": [
       "plot without title"
      ]
     },
     "metadata": {
      "image/png": {
       "height": 420,
       "width": 420
      }
     },
     "output_type": "display_data"
    }
   ],
   "source": [
    "################################################################################\n",
    "# Boxplot of the \"PRICE\" variable\n",
    "# Install packages\n",
    "install.packages(\"ggplot2\")\n",
    "install.packages(\"dplyr\")\n",
    "library(\"ggplot2\")\n",
    "library(\"dplyr\")\n",
    "\n",
    "# Create boxplot of the \"PRICE\" variable \n",
    "ggplot(data = HOUSE_TS1.df, aes(x = \"\", y = PRICE)) + \n",
    "  geom_boxplot() +\n",
    "  coord_cartesian(ylim = c(0, 26000000)) # Set the y axis scale\n",
    "################################################################################\n"
   ]
  },
  {
   "cell_type": "code",
   "execution_count": 5,
   "metadata": {},
   "outputs": [
    {
     "name": "stderr",
     "output_type": "stream",
     "text": [
      "Installing package into 'C:/Users/bates/AppData/Local/R/win-library/4.2'\n",
      "(as 'lib' is unspecified)\n",
      "\n"
     ]
    },
    {
     "name": "stdout",
     "output_type": "stream",
     "text": [
      "package 'lubridate' successfully unpacked and MD5 sums checked\n"
     ]
    },
    {
     "name": "stderr",
     "output_type": "stream",
     "text": [
      "Warning message:\n",
      "\"cannot remove prior installation of package 'lubridate'\"\n",
      "Warning message in file.copy(savedcopy, lib, recursive = TRUE):\n",
      "\"problem copying C:\\Users\\bates\\AppData\\Local\\R\\win-library\\4.2\\00LOCK\\lubridate\\libs\\x64\\lubridate.dll to C:\\Users\\bates\\AppData\\Local\\R\\win-library\\4.2\\lubridate\\libs\\x64\\lubridate.dll: Permission denied\"\n",
      "Warning message:\n",
      "\"restored 'lubridate'\"\n"
     ]
    },
    {
     "name": "stdout",
     "output_type": "stream",
     "text": [
      "\n",
      "The downloaded binary packages are in\n",
      "\tC:\\Users\\bates\\AppData\\Local\\Temp\\Rtmp21AjSg\\downloaded_packages\n"
     ]
    },
    {
     "name": "stderr",
     "output_type": "stream",
     "text": [
      "Installing package into 'C:/Users/bates/AppData/Local/R/win-library/4.2'\n",
      "(as 'lib' is unspecified)\n",
      "\n"
     ]
    },
    {
     "name": "stdout",
     "output_type": "stream",
     "text": [
      "package 'linelist' successfully unpacked and MD5 sums checked\n",
      "\n",
      "The downloaded binary packages are in\n",
      "\tC:\\Users\\bates\\AppData\\Local\\Temp\\Rtmp21AjSg\\downloaded_packages\n"
     ]
    },
    {
     "name": "stderr",
     "output_type": "stream",
     "text": [
      "Installing package into 'C:/Users/bates/AppData/Local/R/win-library/4.2'\n",
      "(as 'lib' is unspecified)\n",
      "\n"
     ]
    },
    {
     "name": "stdout",
     "output_type": "stream",
     "text": [
      "package 'aweek' successfully unpacked and MD5 sums checked\n",
      "\n",
      "The downloaded binary packages are in\n",
      "\tC:\\Users\\bates\\AppData\\Local\\Temp\\Rtmp21AjSg\\downloaded_packages\n"
     ]
    },
    {
     "name": "stderr",
     "output_type": "stream",
     "text": [
      "Installing package into 'C:/Users/bates/AppData/Local/R/win-library/4.2'\n",
      "(as 'lib' is unspecified)\n",
      "\n"
     ]
    },
    {
     "name": "stdout",
     "output_type": "stream",
     "text": [
      "package 'zoo' successfully unpacked and MD5 sums checked\n"
     ]
    },
    {
     "name": "stderr",
     "output_type": "stream",
     "text": [
      "Warning message:\n",
      "\"cannot remove prior installation of package 'zoo'\"\n",
      "Warning message in file.copy(savedcopy, lib, recursive = TRUE):\n",
      "\"problem copying C:\\Users\\bates\\AppData\\Local\\R\\win-library\\4.2\\00LOCK\\zoo\\libs\\x64\\zoo.dll to C:\\Users\\bates\\AppData\\Local\\R\\win-library\\4.2\\zoo\\libs\\x64\\zoo.dll: Permission denied\"\n",
      "Warning message:\n",
      "\"restored 'zoo'\"\n"
     ]
    },
    {
     "name": "stdout",
     "output_type": "stream",
     "text": [
      "\n",
      "The downloaded binary packages are in\n",
      "\tC:\\Users\\bates\\AppData\\Local\\Temp\\Rtmp21AjSg\\downloaded_packages\n"
     ]
    },
    {
     "name": "stderr",
     "output_type": "stream",
     "text": [
      "Installing package into 'C:/Users/bates/AppData/Local/R/win-library/4.2'\n",
      "(as 'lib' is unspecified)\n",
      "\n"
     ]
    },
    {
     "name": "stdout",
     "output_type": "stream",
     "text": [
      "package 'tidyverse' successfully unpacked and MD5 sums checked\n",
      "\n",
      "The downloaded binary packages are in\n",
      "\tC:\\Users\\bates\\AppData\\Local\\Temp\\Rtmp21AjSg\\downloaded_packages\n"
     ]
    },
    {
     "name": "stderr",
     "output_type": "stream",
     "text": [
      "Installing package into 'C:/Users/bates/AppData/Local/R/win-library/4.2'\n",
      "(as 'lib' is unspecified)\n",
      "\n"
     ]
    },
    {
     "name": "stdout",
     "output_type": "stream",
     "text": [
      "package 'rio' successfully unpacked and MD5 sums checked\n",
      "\n",
      "The downloaded binary packages are in\n",
      "\tC:\\Users\\bates\\AppData\\Local\\Temp\\Rtmp21AjSg\\downloaded_packages\n"
     ]
    },
    {
     "name": "stderr",
     "output_type": "stream",
     "text": [
      "\n",
      "Attaching package: 'lubridate'\n",
      "\n",
      "\n",
      "The following objects are masked from 'package:base':\n",
      "\n",
      "    date, intersect, setdiff, union\n",
      "\n",
      "\n",
      "\n",
      "Attaching package: 'zoo'\n",
      "\n",
      "\n",
      "The following objects are masked from 'package:base':\n",
      "\n",
      "    as.Date, as.Date.numeric\n",
      "\n",
      "\n",
      "── \u001b[1mAttaching packages\u001b[22m ─────────────────────────────────────────────────────────────────────────────── tidyverse 1.3.2 ──\n",
      "\u001b[32m✔\u001b[39m \u001b[34mtibble \u001b[39m 3.1.8     \u001b[32m✔\u001b[39m \u001b[34mpurrr  \u001b[39m 0.3.4\n",
      "\u001b[32m✔\u001b[39m \u001b[34mtidyr  \u001b[39m 1.2.1     \u001b[32m✔\u001b[39m \u001b[34mstringr\u001b[39m 1.4.1\n",
      "\u001b[32m✔\u001b[39m \u001b[34mreadr  \u001b[39m 2.1.2     \u001b[32m✔\u001b[39m \u001b[34mforcats\u001b[39m 0.5.2\n",
      "── \u001b[1mConflicts\u001b[22m ────────────────────────────────────────────────────────────────────────────────── tidyverse_conflicts() ──\n",
      "\u001b[31m✖\u001b[39m \u001b[34mlubridate\u001b[39m::\u001b[32mas.difftime()\u001b[39m masks \u001b[34mbase\u001b[39m::as.difftime()\n",
      "\u001b[31m✖\u001b[39m \u001b[34mlubridate\u001b[39m::\u001b[32mdate()\u001b[39m        masks \u001b[34mbase\u001b[39m::date()\n",
      "\u001b[31m✖\u001b[39m \u001b[34mdplyr\u001b[39m::\u001b[32mfilter()\u001b[39m          masks \u001b[34mstats\u001b[39m::filter()\n",
      "\u001b[31m✖\u001b[39m \u001b[34mlubridate\u001b[39m::\u001b[32mintersect()\u001b[39m   masks \u001b[34mbase\u001b[39m::intersect()\n",
      "\u001b[31m✖\u001b[39m \u001b[34mdplyr\u001b[39m::\u001b[32mlag()\u001b[39m             masks \u001b[34mstats\u001b[39m::lag()\n",
      "\u001b[31m✖\u001b[39m \u001b[34mlubridate\u001b[39m::\u001b[32msetdiff()\u001b[39m     masks \u001b[34mbase\u001b[39m::setdiff()\n",
      "\u001b[31m✖\u001b[39m \u001b[34mlubridate\u001b[39m::\u001b[32munion()\u001b[39m       masks \u001b[34mbase\u001b[39m::union()\n"
     ]
    }
   ],
   "source": [
    "################################################################################\n",
    "# Install packages to work with dates\n",
    "install.packages(\"lubridate\")  # general package for handling and converting dates)\n",
    "install.packages(\"linelist\")   # has function to \"guess\" messy dates\n",
    "install.packages(\"aweek\")      # another option for converting dates to weeks, and weeks to dates\n",
    "install.packages(\"zoo\")        # additional date/time functions\n",
    "install.packages(\"tidyverse\")  # data management and visualization  \n",
    "install.packages(\"rio\")        # data import/export\n",
    "library(\"lubridate\")  \n",
    "library(\"linelist\")   \n",
    "library(\"aweek\")      \n",
    "library(\"zoo\")        \n",
    "library(\"tidyverse\")    \n",
    "library(\"rio\")   \n",
    "################################################################################"
   ]
  },
  {
   "cell_type": "code",
   "execution_count": 6,
   "metadata": {},
   "outputs": [
    {
     "data": {
      "text/html": [
       "'character'"
      ],
      "text/latex": [
       "'character'"
      ],
      "text/markdown": [
       "'character'"
      ],
      "text/plain": [
       "[1] \"character\""
      ]
     },
     "metadata": {},
     "output_type": "display_data"
    },
    {
     "data": {
      "text/html": [
       "<table class=\"dataframe\">\n",
       "<caption>A data.frame: 6 × 3</caption>\n",
       "<thead>\n",
       "\t<tr><th></th><th scope=col>SALEDATE</th><th scope=col>PRICE</th><th scope=col>WARD</th></tr>\n",
       "\t<tr><th></th><th scope=col>&lt;date&gt;</th><th scope=col>&lt;int&gt;</th><th scope=col>&lt;chr&gt;</th></tr>\n",
       "</thead>\n",
       "<tbody>\n",
       "\t<tr><th scope=row>1</th><td>2013-07-22</td><td> 755000</td><td>Ward 1</td></tr>\n",
       "\t<tr><th scope=row>3</th><td>1996-02-12</td><td> 118000</td><td>Ward 1</td></tr>\n",
       "\t<tr><th scope=row>4</th><td>2022-04-06</td><td>1110000</td><td>Ward 1</td></tr>\n",
       "\t<tr><th scope=row>6</th><td>2000-06-30</td><td> 251000</td><td>Ward 1</td></tr>\n",
       "\t<tr><th scope=row>7</th><td>2021-11-22</td><td> 930388</td><td>Ward 1</td></tr>\n",
       "\t<tr><th scope=row>8</th><td>2006-02-06</td><td> 606500</td><td>Ward 1</td></tr>\n",
       "</tbody>\n",
       "</table>\n"
      ],
      "text/latex": [
       "A data.frame: 6 × 3\n",
       "\\begin{tabular}{r|lll}\n",
       "  & SALEDATE & PRICE & WARD\\\\\n",
       "  & <date> & <int> & <chr>\\\\\n",
       "\\hline\n",
       "\t1 & 2013-07-22 &  755000 & Ward 1\\\\\n",
       "\t3 & 1996-02-12 &  118000 & Ward 1\\\\\n",
       "\t4 & 2022-04-06 & 1110000 & Ward 1\\\\\n",
       "\t6 & 2000-06-30 &  251000 & Ward 1\\\\\n",
       "\t7 & 2021-11-22 &  930388 & Ward 1\\\\\n",
       "\t8 & 2006-02-06 &  606500 & Ward 1\\\\\n",
       "\\end{tabular}\n"
      ],
      "text/markdown": [
       "\n",
       "A data.frame: 6 × 3\n",
       "\n",
       "| <!--/--> | SALEDATE &lt;date&gt; | PRICE &lt;int&gt; | WARD &lt;chr&gt; |\n",
       "|---|---|---|---|\n",
       "| 1 | 2013-07-22 |  755000 | Ward 1 |\n",
       "| 3 | 1996-02-12 |  118000 | Ward 1 |\n",
       "| 4 | 2022-04-06 | 1110000 | Ward 1 |\n",
       "| 6 | 2000-06-30 |  251000 | Ward 1 |\n",
       "| 7 | 2021-11-22 |  930388 | Ward 1 |\n",
       "| 8 | 2006-02-06 |  606500 | Ward 1 |\n",
       "\n"
      ],
      "text/plain": [
       "  SALEDATE   PRICE   WARD  \n",
       "1 2013-07-22  755000 Ward 1\n",
       "3 1996-02-12  118000 Ward 1\n",
       "4 2022-04-06 1110000 Ward 1\n",
       "6 2000-06-30  251000 Ward 1\n",
       "7 2021-11-22  930388 Ward 1\n",
       "8 2006-02-06  606500 Ward 1"
      ]
     },
     "metadata": {},
     "output_type": "display_data"
    },
    {
     "data": {
      "text/html": [
       "'Date'"
      ],
      "text/latex": [
       "'Date'"
      ],
      "text/markdown": [
       "'Date'"
      ],
      "text/plain": [
       "[1] \"Date\""
      ]
     },
     "metadata": {},
     "output_type": "display_data"
    },
    {
     "data": {
      "text/html": [
       "<table class=\"dataframe\">\n",
       "<caption>A data.frame: 6 × 3</caption>\n",
       "<thead>\n",
       "\t<tr><th></th><th scope=col>SALEDATE</th><th scope=col>PRICE</th><th scope=col>WARD</th></tr>\n",
       "\t<tr><th></th><th scope=col>&lt;chr&gt;</th><th scope=col>&lt;int&gt;</th><th scope=col>&lt;chr&gt;</th></tr>\n",
       "</thead>\n",
       "<tbody>\n",
       "\t<tr><th scope=row>1</th><td>2013-07</td><td> 755000</td><td>Ward 1</td></tr>\n",
       "\t<tr><th scope=row>3</th><td>1996-02</td><td> 118000</td><td>Ward 1</td></tr>\n",
       "\t<tr><th scope=row>4</th><td>2022-04</td><td>1110000</td><td>Ward 1</td></tr>\n",
       "\t<tr><th scope=row>6</th><td>2000-06</td><td> 251000</td><td>Ward 1</td></tr>\n",
       "\t<tr><th scope=row>7</th><td>2021-11</td><td> 930388</td><td>Ward 1</td></tr>\n",
       "\t<tr><th scope=row>8</th><td>2006-02</td><td> 606500</td><td>Ward 1</td></tr>\n",
       "</tbody>\n",
       "</table>\n"
      ],
      "text/latex": [
       "A data.frame: 6 × 3\n",
       "\\begin{tabular}{r|lll}\n",
       "  & SALEDATE & PRICE & WARD\\\\\n",
       "  & <chr> & <int> & <chr>\\\\\n",
       "\\hline\n",
       "\t1 & 2013-07 &  755000 & Ward 1\\\\\n",
       "\t3 & 1996-02 &  118000 & Ward 1\\\\\n",
       "\t4 & 2022-04 & 1110000 & Ward 1\\\\\n",
       "\t6 & 2000-06 &  251000 & Ward 1\\\\\n",
       "\t7 & 2021-11 &  930388 & Ward 1\\\\\n",
       "\t8 & 2006-02 &  606500 & Ward 1\\\\\n",
       "\\end{tabular}\n"
      ],
      "text/markdown": [
       "\n",
       "A data.frame: 6 × 3\n",
       "\n",
       "| <!--/--> | SALEDATE &lt;chr&gt; | PRICE &lt;int&gt; | WARD &lt;chr&gt; |\n",
       "|---|---|---|---|\n",
       "| 1 | 2013-07 |  755000 | Ward 1 |\n",
       "| 3 | 1996-02 |  118000 | Ward 1 |\n",
       "| 4 | 2022-04 | 1110000 | Ward 1 |\n",
       "| 6 | 2000-06 |  251000 | Ward 1 |\n",
       "| 7 | 2021-11 |  930388 | Ward 1 |\n",
       "| 8 | 2006-02 |  606500 | Ward 1 |\n",
       "\n"
      ],
      "text/plain": [
       "  SALEDATE PRICE   WARD  \n",
       "1 2013-07   755000 Ward 1\n",
       "3 1996-02   118000 Ward 1\n",
       "4 2022-04  1110000 Ward 1\n",
       "6 2000-06   251000 Ward 1\n",
       "7 2021-11   930388 Ward 1\n",
       "8 2006-02   606500 Ward 1"
      ]
     },
     "metadata": {},
     "output_type": "display_data"
    }
   ],
   "source": [
    "################################################################################\n",
    "# Clean up Date attribute\n",
    "class(HOUSE_TS1.df$SALEDATE)   #Check the class of the \"SALEDATE\" field\n",
    "\n",
    "# Because \"SALEDATE\" is class 'character', we must convert it to class 'Date'\n",
    "# Tell R how to identify the date parts of the \"SALEDATE\" field\n",
    "# The format = argument specifies the date components and \n",
    "# drops the time component in the \"SALEDATE'\n",
    "HOUSE_TS1.df$SALEDATE <- as.Date(HOUSE_TS1.df$SALEDATE, format = \"%Y/%m/%d\")\n",
    "\n",
    "head(HOUSE_TS1.df)   # Verify the time component was dropped\n",
    "\n",
    "class(HOUSE_TS1.df$SALEDATE)   # Check the class of the \"SALEDATE\" field \n",
    "\n",
    "# Drop the 'day' from the date\n",
    "HOUSE_TS2.df <- HOUSE_TS1.df\n",
    "HOUSE_TS2.df$SALEDATE <- format(HOUSE_TS2.df$SALEDATE, format = \"%Y-%m\")\n",
    "\n",
    "head(HOUSE_TS2.df)   # Verify the day component was dropped\n",
    "################################################################################"
   ]
  },
  {
   "cell_type": "code",
   "execution_count": 7,
   "metadata": {},
   "outputs": [
    {
     "data": {
      "text/plain": [
       "   SALEDATE             PRICE              WARD          \n",
       " Length:19156       Min.   :    4156   Length:19156      \n",
       " Class :character   1st Qu.:  449000   Class :character  \n",
       " Mode  :character   Median :  762000   Mode  :character  \n",
       "                    Mean   :  897598                     \n",
       "                    3rd Qu.: 1115000                     \n",
       "                    Max.   :18000000                     "
      ]
     },
     "metadata": {},
     "output_type": "display_data"
    },
    {
     "name": "stdout",
     "output_type": "stream",
     "text": [
      "'data.frame':\t19156 obs. of  3 variables:\n",
      " $ SALEDATE: chr  \"2013-04\" \"2001-12\" \"2011-07\" \"2019-05\" ...\n",
      " $ PRICE   : int  949000 402000 729000 1080000 970000 1039000 749000 755000 590000 1025750 ...\n",
      " $ WARD    : chr  \"Ward 3\" \"Ward 3\" \"Ward 3\" \"Ward 3\" ...\n"
     ]
    },
    {
     "data": {
      "text/html": [
       "<table class=\"dataframe\">\n",
       "<caption>A data.frame: 6 × 2</caption>\n",
       "<thead>\n",
       "\t<tr><th></th><th scope=col>SALEDATE</th><th scope=col>PRICE</th></tr>\n",
       "\t<tr><th></th><th scope=col>&lt;chr&gt;</th><th scope=col>&lt;int&gt;</th></tr>\n",
       "</thead>\n",
       "<tbody>\n",
       "\t<tr><th scope=row>22006</th><td>2013-04</td><td> 949000</td></tr>\n",
       "\t<tr><th scope=row>22008</th><td>2001-12</td><td> 402000</td></tr>\n",
       "\t<tr><th scope=row>22011</th><td>2011-07</td><td> 729000</td></tr>\n",
       "\t<tr><th scope=row>22012</th><td>2019-05</td><td>1080000</td></tr>\n",
       "\t<tr><th scope=row>22018</th><td>2017-07</td><td> 970000</td></tr>\n",
       "\t<tr><th scope=row>22020</th><td>2018-11</td><td>1039000</td></tr>\n",
       "</tbody>\n",
       "</table>\n"
      ],
      "text/latex": [
       "A data.frame: 6 × 2\n",
       "\\begin{tabular}{r|ll}\n",
       "  & SALEDATE & PRICE\\\\\n",
       "  & <chr> & <int>\\\\\n",
       "\\hline\n",
       "\t22006 & 2013-04 &  949000\\\\\n",
       "\t22008 & 2001-12 &  402000\\\\\n",
       "\t22011 & 2011-07 &  729000\\\\\n",
       "\t22012 & 2019-05 & 1080000\\\\\n",
       "\t22018 & 2017-07 &  970000\\\\\n",
       "\t22020 & 2018-11 & 1039000\\\\\n",
       "\\end{tabular}\n"
      ],
      "text/markdown": [
       "\n",
       "A data.frame: 6 × 2\n",
       "\n",
       "| <!--/--> | SALEDATE &lt;chr&gt; | PRICE &lt;int&gt; |\n",
       "|---|---|---|\n",
       "| 22006 | 2013-04 |  949000 |\n",
       "| 22008 | 2001-12 |  402000 |\n",
       "| 22011 | 2011-07 |  729000 |\n",
       "| 22012 | 2019-05 | 1080000 |\n",
       "| 22018 | 2017-07 |  970000 |\n",
       "| 22020 | 2018-11 | 1039000 |\n",
       "\n"
      ],
      "text/plain": [
       "      SALEDATE PRICE  \n",
       "22006 2013-04   949000\n",
       "22008 2001-12   402000\n",
       "22011 2011-07   729000\n",
       "22012 2019-05  1080000\n",
       "22018 2017-07   970000\n",
       "22020 2018-11  1039000"
      ]
     },
     "metadata": {},
     "output_type": "display_data"
    }
   ],
   "source": [
    "################################################################################\n",
    "# Filter database for only Wards 3 & 4\n",
    "\n",
    "HOUSE_TS2.df <- subset(HOUSE_TS2.df, WARD %in% c(\"Ward 3\", \"Ward 4\"))\n",
    "\n",
    "summary(HOUSE_TS2.df)     #To check the variables and counts\n",
    "\n",
    "str(HOUSE_TS2.df)   #To check the data structure\n",
    "\n",
    "# Create a new data set for the Ward 1 &2 population\n",
    "# Drop the Ward attribute and keep two features, \"SALEDATE\", \"PRICE\"\n",
    "\n",
    "HOUSE_TS2.df <- subset(HOUSE_TS2.df, select = c(SALEDATE, PRICE))\n",
    "\n",
    "head(HOUSE_TS2.df)     #Verify the first five rows of the dataframe\n",
    "\n",
    "################################################################################"
   ]
  },
  {
   "cell_type": "code",
   "execution_count": 8,
   "metadata": {},
   "outputs": [
    {
     "data": {
      "text/plain": [
       "   SALEDATE             PRICE         \n",
       " Length:19156       Min.   :    4156  \n",
       " Class :character   1st Qu.:  449000  \n",
       " Mode  :character   Median :  762000  \n",
       "                    Mean   :  897598  \n",
       "                    3rd Qu.: 1115000  \n",
       "                    Max.   :18000000  "
      ]
     },
     "metadata": {},
     "output_type": "display_data"
    },
    {
     "data": {
      "text/plain": [
       "   SALEDATE             PRICE        \n",
       " Length:372         Min.   :  87500  \n",
       " Class :character   1st Qu.: 368693  \n",
       " Mode  :character   Median : 749232  \n",
       "                    Mean   : 713934  \n",
       "                    3rd Qu.: 969056  \n",
       "                    Max.   :2650000  "
      ]
     },
     "metadata": {},
     "output_type": "display_data"
    },
    {
     "data": {
      "text/html": [
       "<table class=\"dataframe\">\n",
       "<caption>A data.frame: 20 × 2</caption>\n",
       "<thead>\n",
       "\t<tr><th></th><th scope=col>SALEDATE</th><th scope=col>PRICE</th></tr>\n",
       "\t<tr><th></th><th scope=col>&lt;chr&gt;</th><th scope=col>&lt;dbl&gt;</th></tr>\n",
       "</thead>\n",
       "<tbody>\n",
       "\t<tr><th scope=row>1</th><td>1979-07</td><td>  99500.0</td></tr>\n",
       "\t<tr><th scope=row>2</th><td>1986-05</td><td>  87500.0</td></tr>\n",
       "\t<tr><th scope=row>3</th><td>1987-06</td><td> 535000.0</td></tr>\n",
       "\t<tr><th scope=row>4</th><td>1991-08</td><td>2650000.0</td></tr>\n",
       "\t<tr><th scope=row>5</th><td>1992-01</td><td> 240830.7</td></tr>\n",
       "\t<tr><th scope=row>6</th><td>1992-02</td><td> 292350.0</td></tr>\n",
       "\t<tr><th scope=row>7</th><td>1992-03</td><td> 293353.5</td></tr>\n",
       "\t<tr><th scope=row>8</th><td>1992-04</td><td> 258525.8</td></tr>\n",
       "\t<tr><th scope=row>9</th><td>1992-05</td><td> 280806.6</td></tr>\n",
       "\t<tr><th scope=row>10</th><td>1992-06</td><td> 293903.5</td></tr>\n",
       "\t<tr><th scope=row>11</th><td>1992-07</td><td> 427300.0</td></tr>\n",
       "\t<tr><th scope=row>12</th><td>1992-08</td><td> 340415.2</td></tr>\n",
       "\t<tr><th scope=row>13</th><td>1992-09</td><td> 385718.8</td></tr>\n",
       "\t<tr><th scope=row>14</th><td>1992-10</td><td> 273533.3</td></tr>\n",
       "\t<tr><th scope=row>15</th><td>1992-11</td><td> 248181.2</td></tr>\n",
       "\t<tr><th scope=row>16</th><td>1992-12</td><td> 330491.4</td></tr>\n",
       "\t<tr><th scope=row>17</th><td>1993-01</td><td> 238746.5</td></tr>\n",
       "\t<tr><th scope=row>18</th><td>1993-02</td><td> 301678.6</td></tr>\n",
       "\t<tr><th scope=row>19</th><td>1993-03</td><td> 238571.4</td></tr>\n",
       "\t<tr><th scope=row>20</th><td>1993-04</td><td> 286755.1</td></tr>\n",
       "</tbody>\n",
       "</table>\n"
      ],
      "text/latex": [
       "A data.frame: 20 × 2\n",
       "\\begin{tabular}{r|ll}\n",
       "  & SALEDATE & PRICE\\\\\n",
       "  & <chr> & <dbl>\\\\\n",
       "\\hline\n",
       "\t1 & 1979-07 &   99500.0\\\\\n",
       "\t2 & 1986-05 &   87500.0\\\\\n",
       "\t3 & 1987-06 &  535000.0\\\\\n",
       "\t4 & 1991-08 & 2650000.0\\\\\n",
       "\t5 & 1992-01 &  240830.7\\\\\n",
       "\t6 & 1992-02 &  292350.0\\\\\n",
       "\t7 & 1992-03 &  293353.5\\\\\n",
       "\t8 & 1992-04 &  258525.8\\\\\n",
       "\t9 & 1992-05 &  280806.6\\\\\n",
       "\t10 & 1992-06 &  293903.5\\\\\n",
       "\t11 & 1992-07 &  427300.0\\\\\n",
       "\t12 & 1992-08 &  340415.2\\\\\n",
       "\t13 & 1992-09 &  385718.8\\\\\n",
       "\t14 & 1992-10 &  273533.3\\\\\n",
       "\t15 & 1992-11 &  248181.2\\\\\n",
       "\t16 & 1992-12 &  330491.4\\\\\n",
       "\t17 & 1993-01 &  238746.5\\\\\n",
       "\t18 & 1993-02 &  301678.6\\\\\n",
       "\t19 & 1993-03 &  238571.4\\\\\n",
       "\t20 & 1993-04 &  286755.1\\\\\n",
       "\\end{tabular}\n"
      ],
      "text/markdown": [
       "\n",
       "A data.frame: 20 × 2\n",
       "\n",
       "| <!--/--> | SALEDATE &lt;chr&gt; | PRICE &lt;dbl&gt; |\n",
       "|---|---|---|\n",
       "| 1 | 1979-07 |   99500.0 |\n",
       "| 2 | 1986-05 |   87500.0 |\n",
       "| 3 | 1987-06 |  535000.0 |\n",
       "| 4 | 1991-08 | 2650000.0 |\n",
       "| 5 | 1992-01 |  240830.7 |\n",
       "| 6 | 1992-02 |  292350.0 |\n",
       "| 7 | 1992-03 |  293353.5 |\n",
       "| 8 | 1992-04 |  258525.8 |\n",
       "| 9 | 1992-05 |  280806.6 |\n",
       "| 10 | 1992-06 |  293903.5 |\n",
       "| 11 | 1992-07 |  427300.0 |\n",
       "| 12 | 1992-08 |  340415.2 |\n",
       "| 13 | 1992-09 |  385718.8 |\n",
       "| 14 | 1992-10 |  273533.3 |\n",
       "| 15 | 1992-11 |  248181.2 |\n",
       "| 16 | 1992-12 |  330491.4 |\n",
       "| 17 | 1993-01 |  238746.5 |\n",
       "| 18 | 1993-02 |  301678.6 |\n",
       "| 19 | 1993-03 |  238571.4 |\n",
       "| 20 | 1993-04 |  286755.1 |\n",
       "\n"
      ],
      "text/plain": [
       "   SALEDATE PRICE    \n",
       "1  1979-07    99500.0\n",
       "2  1986-05    87500.0\n",
       "3  1987-06   535000.0\n",
       "4  1991-08  2650000.0\n",
       "5  1992-01   240830.7\n",
       "6  1992-02   292350.0\n",
       "7  1992-03   293353.5\n",
       "8  1992-04   258525.8\n",
       "9  1992-05   280806.6\n",
       "10 1992-06   293903.5\n",
       "11 1992-07   427300.0\n",
       "12 1992-08   340415.2\n",
       "13 1992-09   385718.8\n",
       "14 1992-10   273533.3\n",
       "15 1992-11   248181.2\n",
       "16 1992-12   330491.4\n",
       "17 1993-01   238746.5\n",
       "18 1993-02   301678.6\n",
       "19 1993-03   238571.4\n",
       "20 1993-04   286755.1"
      ]
     },
     "metadata": {},
     "output_type": "display_data"
    },
    {
     "data": {
      "text/html": [
       "<table class=\"dataframe\">\n",
       "<caption>A data.frame: 20 × 2</caption>\n",
       "<thead>\n",
       "\t<tr><th></th><th scope=col>SALEDATE</th><th scope=col>PRICE</th></tr>\n",
       "\t<tr><th></th><th scope=col>&lt;chr&gt;</th><th scope=col>&lt;dbl&gt;</th></tr>\n",
       "</thead>\n",
       "<tbody>\n",
       "\t<tr><th scope=row>353</th><td>2021-01</td><td>1295577</td></tr>\n",
       "\t<tr><th scope=row>354</th><td>2021-02</td><td>1320178</td></tr>\n",
       "\t<tr><th scope=row>355</th><td>2021-03</td><td>1195224</td></tr>\n",
       "\t<tr><th scope=row>356</th><td>2021-04</td><td>1223642</td></tr>\n",
       "\t<tr><th scope=row>357</th><td>2021-05</td><td>1319893</td></tr>\n",
       "\t<tr><th scope=row>358</th><td>2021-06</td><td>1494754</td></tr>\n",
       "\t<tr><th scope=row>359</th><td>2021-07</td><td>1570571</td></tr>\n",
       "\t<tr><th scope=row>360</th><td>2021-08</td><td>1304804</td></tr>\n",
       "\t<tr><th scope=row>361</th><td>2021-09</td><td>1229359</td></tr>\n",
       "\t<tr><th scope=row>362</th><td>2021-10</td><td>1171040</td></tr>\n",
       "\t<tr><th scope=row>363</th><td>2021-11</td><td>1286998</td></tr>\n",
       "\t<tr><th scope=row>364</th><td>2021-12</td><td>1288709</td></tr>\n",
       "\t<tr><th scope=row>365</th><td>2022-01</td><td>1242940</td></tr>\n",
       "\t<tr><th scope=row>366</th><td>2022-02</td><td>1374705</td></tr>\n",
       "\t<tr><th scope=row>367</th><td>2022-03</td><td>1434070</td></tr>\n",
       "\t<tr><th scope=row>368</th><td>2022-04</td><td>1598488</td></tr>\n",
       "\t<tr><th scope=row>369</th><td>2022-05</td><td>1522473</td></tr>\n",
       "\t<tr><th scope=row>370</th><td>2022-06</td><td>1475372</td></tr>\n",
       "\t<tr><th scope=row>371</th><td>2022-07</td><td>1381220</td></tr>\n",
       "\t<tr><th scope=row>372</th><td>2022-08</td><td>1477935</td></tr>\n",
       "</tbody>\n",
       "</table>\n"
      ],
      "text/latex": [
       "A data.frame: 20 × 2\n",
       "\\begin{tabular}{r|ll}\n",
       "  & SALEDATE & PRICE\\\\\n",
       "  & <chr> & <dbl>\\\\\n",
       "\\hline\n",
       "\t353 & 2021-01 & 1295577\\\\\n",
       "\t354 & 2021-02 & 1320178\\\\\n",
       "\t355 & 2021-03 & 1195224\\\\\n",
       "\t356 & 2021-04 & 1223642\\\\\n",
       "\t357 & 2021-05 & 1319893\\\\\n",
       "\t358 & 2021-06 & 1494754\\\\\n",
       "\t359 & 2021-07 & 1570571\\\\\n",
       "\t360 & 2021-08 & 1304804\\\\\n",
       "\t361 & 2021-09 & 1229359\\\\\n",
       "\t362 & 2021-10 & 1171040\\\\\n",
       "\t363 & 2021-11 & 1286998\\\\\n",
       "\t364 & 2021-12 & 1288709\\\\\n",
       "\t365 & 2022-01 & 1242940\\\\\n",
       "\t366 & 2022-02 & 1374705\\\\\n",
       "\t367 & 2022-03 & 1434070\\\\\n",
       "\t368 & 2022-04 & 1598488\\\\\n",
       "\t369 & 2022-05 & 1522473\\\\\n",
       "\t370 & 2022-06 & 1475372\\\\\n",
       "\t371 & 2022-07 & 1381220\\\\\n",
       "\t372 & 2022-08 & 1477935\\\\\n",
       "\\end{tabular}\n"
      ],
      "text/markdown": [
       "\n",
       "A data.frame: 20 × 2\n",
       "\n",
       "| <!--/--> | SALEDATE &lt;chr&gt; | PRICE &lt;dbl&gt; |\n",
       "|---|---|---|\n",
       "| 353 | 2021-01 | 1295577 |\n",
       "| 354 | 2021-02 | 1320178 |\n",
       "| 355 | 2021-03 | 1195224 |\n",
       "| 356 | 2021-04 | 1223642 |\n",
       "| 357 | 2021-05 | 1319893 |\n",
       "| 358 | 2021-06 | 1494754 |\n",
       "| 359 | 2021-07 | 1570571 |\n",
       "| 360 | 2021-08 | 1304804 |\n",
       "| 361 | 2021-09 | 1229359 |\n",
       "| 362 | 2021-10 | 1171040 |\n",
       "| 363 | 2021-11 | 1286998 |\n",
       "| 364 | 2021-12 | 1288709 |\n",
       "| 365 | 2022-01 | 1242940 |\n",
       "| 366 | 2022-02 | 1374705 |\n",
       "| 367 | 2022-03 | 1434070 |\n",
       "| 368 | 2022-04 | 1598488 |\n",
       "| 369 | 2022-05 | 1522473 |\n",
       "| 370 | 2022-06 | 1475372 |\n",
       "| 371 | 2022-07 | 1381220 |\n",
       "| 372 | 2022-08 | 1477935 |\n",
       "\n"
      ],
      "text/plain": [
       "    SALEDATE PRICE  \n",
       "353 2021-01  1295577\n",
       "354 2021-02  1320178\n",
       "355 2021-03  1195224\n",
       "356 2021-04  1223642\n",
       "357 2021-05  1319893\n",
       "358 2021-06  1494754\n",
       "359 2021-07  1570571\n",
       "360 2021-08  1304804\n",
       "361 2021-09  1229359\n",
       "362 2021-10  1171040\n",
       "363 2021-11  1286998\n",
       "364 2021-12  1288709\n",
       "365 2022-01  1242940\n",
       "366 2022-02  1374705\n",
       "367 2022-03  1434070\n",
       "368 2022-04  1598488\n",
       "369 2022-05  1522473\n",
       "370 2022-06  1475372\n",
       "371 2022-07  1381220\n",
       "372 2022-08  1477935"
      ]
     },
     "metadata": {},
     "output_type": "display_data"
    },
    {
     "data": {
      "text/plain": [
       "   SALEDATE             PRICE        \n",
       " Length:151         Min.   : 617821  \n",
       " Class :character   1st Qu.: 887311  \n",
       " Mode  :character   Median :1048374  \n",
       "                    Mean   :1032869  \n",
       "                    3rd Qu.:1140913  \n",
       "                    Max.   :1598488  "
      ]
     },
     "metadata": {},
     "output_type": "display_data"
    },
    {
     "name": "stdout",
     "output_type": "stream",
     "text": [
      "'data.frame':\t151 obs. of  2 variables:\n",
      " $ SALEDATE: chr  \"2010-02\" \"2010-03\" \"2010-04\" \"2010-05\" ...\n",
      " $ PRICE   : num  645984 655748 617821 758240 862644 ...\n"
     ]
    }
   ],
   "source": [
    "################################################################################\n",
    "# Calculate the mean \"Price\" by \"SALEDATE\" (year and month)\n",
    "HOUSE_TS3.df <- HOUSE_TS2.df\n",
    "HOUSE_TS3.df <- aggregate(PRICE~SALEDATE,HOUSE_TS2.df,mean)\n",
    "\n",
    "summary(HOUSE_TS2.df)   #To check the variables and counts before the aggregation\n",
    "\n",
    "summary(HOUSE_TS3.df)   #To check the variables and counts after the aggregation\n",
    "\n",
    "head(HOUSE_TS3.df, 20)\n",
    "\n",
    "tail(HOUSE_TS3.df, 20)\n",
    "\n",
    "# Filter the dataframe for only sales after 2010-01\n",
    "HOUSE_TS4.df <- HOUSE_TS3.df\n",
    "HOUSE_TS4.df <- HOUSE_TS4.df %>% filter(SALEDATE > '2010-01')\n",
    "\n",
    "summary(HOUSE_TS4.df)   #To check the variables and counts\n",
    "\n",
    "str(HOUSE_TS4.df)   #To check the data structure   \n",
    "################################################################################"
   ]
  },
  {
   "cell_type": "code",
   "execution_count": 9,
   "metadata": {},
   "outputs": [
    {
     "data": {
      "text/html": [
       "<table class=\"dataframe\">\n",
       "<caption>A Time Series: 13 × 12</caption>\n",
       "<thead>\n",
       "\t<tr><th></th><th scope=col>Jan</th><th scope=col>Feb</th><th scope=col>Mar</th><th scope=col>Apr</th><th scope=col>May</th><th scope=col>Jun</th><th scope=col>Jul</th><th scope=col>Aug</th><th scope=col>Sep</th><th scope=col>Oct</th><th scope=col>Nov</th><th scope=col>Dec</th></tr>\n",
       "</thead>\n",
       "<tbody>\n",
       "\t<tr><th scope=row>2010</th><td> 645984.4</td><td> 655747.7</td><td> 617820.6</td><td> 758240.0</td><td> 862644.3</td><td> 860677.9</td><td> 885063.4</td><td> 714026.7</td><td> 860230.3</td><td>1243655.8</td><td> 895836.0</td><td> 807402.2</td></tr>\n",
       "\t<tr><th scope=row>2011</th><td> 668141.2</td><td> 833048.4</td><td> 907740.2</td><td> 820270.8</td><td> 778029.7</td><td> 823540.2</td><td> 837800.4</td><td> 679048.3</td><td> 797462.6</td><td> 758502.3</td><td> 810089.1</td><td> 814696.7</td></tr>\n",
       "\t<tr><th scope=row>2012</th><td> 791203.6</td><td> 947594.9</td><td> 791654.7</td><td>1057884.2</td><td> 838117.4</td><td> 838724.3</td><td> 903500.4</td><td> 816894.7</td><td> 934153.8</td><td> 850313.5</td><td> 873872.0</td><td>1091879.4</td></tr>\n",
       "\t<tr><th scope=row>2013</th><td> 797343.8</td><td> 951375.1</td><td> 879883.0</td><td> 915533.4</td><td>1032130.3</td><td>1354337.0</td><td> 960447.0</td><td> 957097.3</td><td>1208350.3</td><td> 889559.4</td><td> 729913.7</td><td> 811911.4</td></tr>\n",
       "\t<tr><th scope=row>2014</th><td>1082036.5</td><td> 909868.3</td><td> 884898.9</td><td>1039570.8</td><td>1111154.6</td><td>1048373.5</td><td> 925388.2</td><td> 897472.2</td><td> 943856.8</td><td> 834024.8</td><td> 800659.4</td><td> 984138.2</td></tr>\n",
       "\t<tr><th scope=row>2015</th><td> 800835.0</td><td> 903164.8</td><td> 956032.3</td><td> 918481.4</td><td> 980753.7</td><td> 929897.6</td><td> 971357.1</td><td>1087630.0</td><td>1151277.2</td><td>1073468.8</td><td>1160561.1</td><td>1048773.5</td></tr>\n",
       "\t<tr><th scope=row>2016</th><td> 842502.2</td><td> 899125.4</td><td> 924369.5</td><td>1118446.7</td><td>1066915.9</td><td>1059081.1</td><td>1078815.9</td><td>1007260.6</td><td>1064544.7</td><td> 988051.9</td><td>1039001.1</td><td>1051174.6</td></tr>\n",
       "\t<tr><th scope=row>2017</th><td>1354467.4</td><td>1010625.6</td><td>1055788.1</td><td>1062386.8</td><td>1059228.2</td><td>1223260.2</td><td>1147640.0</td><td> 862490.0</td><td> 967289.3</td><td> 906677.9</td><td>1070139.8</td><td>1110094.1</td></tr>\n",
       "\t<tr><th scope=row>2018</th><td>1022882.9</td><td>1079793.4</td><td>1021915.4</td><td>1155063.2</td><td>1064009.3</td><td>1161080.0</td><td>1066985.3</td><td>1059125.3</td><td>1044170.8</td><td>1188609.4</td><td> 968289.4</td><td> 976162.5</td></tr>\n",
       "\t<tr><th scope=row>2019</th><td>1090363.5</td><td>1110344.5</td><td>1091048.4</td><td>1109862.1</td><td>1155835.7</td><td>1073631.3</td><td>1123002.4</td><td>1062020.8</td><td>1046795.6</td><td>1134186.8</td><td>1080747.8</td><td>1083281.6</td></tr>\n",
       "\t<tr><th scope=row>2020</th><td>1056946.2</td><td>1123453.4</td><td>1182166.3</td><td>1118534.0</td><td>1117946.7</td><td>1156823.3</td><td>1252921.6</td><td>1181208.9</td><td>1107743.3</td><td>1334757.9</td><td>1181189.4</td><td>1295577.3</td></tr>\n",
       "\t<tr><th scope=row>2021</th><td>1320178.1</td><td>1195224.0</td><td>1223641.9</td><td>1319892.6</td><td>1494754.5</td><td>1570571.4</td><td>1304804.0</td><td>1229358.8</td><td>1171040.4</td><td>1286997.6</td><td>1288709.2</td><td>1242939.5</td></tr>\n",
       "\t<tr><th scope=row>2022</th><td>1374704.8</td><td>1434070.1</td><td>1598488.1</td><td>1522472.8</td><td>1475372.5</td><td>1381219.7</td><td>1477935.2</td><td>         </td><td>         </td><td>         </td><td>         </td><td>         </td></tr>\n",
       "</tbody>\n",
       "</table>\n"
      ],
      "text/latex": [
       "A Time Series: 13 × 12\n",
       "\\begin{tabular}{r|llllllllllll}\n",
       "  & Jan & Feb & Mar & Apr & May & Jun & Jul & Aug & Sep & Oct & Nov & Dec\\\\\n",
       "\\hline\n",
       "\t2010 &  645984.4 &  655747.7 &  617820.6 &  758240.0 &  862644.3 &  860677.9 &  885063.4 &  714026.7 &  860230.3 & 1243655.8 &  895836.0 &  807402.2\\\\\n",
       "\t2011 &  668141.2 &  833048.4 &  907740.2 &  820270.8 &  778029.7 &  823540.2 &  837800.4 &  679048.3 &  797462.6 &  758502.3 &  810089.1 &  814696.7\\\\\n",
       "\t2012 &  791203.6 &  947594.9 &  791654.7 & 1057884.2 &  838117.4 &  838724.3 &  903500.4 &  816894.7 &  934153.8 &  850313.5 &  873872.0 & 1091879.4\\\\\n",
       "\t2013 &  797343.8 &  951375.1 &  879883.0 &  915533.4 & 1032130.3 & 1354337.0 &  960447.0 &  957097.3 & 1208350.3 &  889559.4 &  729913.7 &  811911.4\\\\\n",
       "\t2014 & 1082036.5 &  909868.3 &  884898.9 & 1039570.8 & 1111154.6 & 1048373.5 &  925388.2 &  897472.2 &  943856.8 &  834024.8 &  800659.4 &  984138.2\\\\\n",
       "\t2015 &  800835.0 &  903164.8 &  956032.3 &  918481.4 &  980753.7 &  929897.6 &  971357.1 & 1087630.0 & 1151277.2 & 1073468.8 & 1160561.1 & 1048773.5\\\\\n",
       "\t2016 &  842502.2 &  899125.4 &  924369.5 & 1118446.7 & 1066915.9 & 1059081.1 & 1078815.9 & 1007260.6 & 1064544.7 &  988051.9 & 1039001.1 & 1051174.6\\\\\n",
       "\t2017 & 1354467.4 & 1010625.6 & 1055788.1 & 1062386.8 & 1059228.2 & 1223260.2 & 1147640.0 &  862490.0 &  967289.3 &  906677.9 & 1070139.8 & 1110094.1\\\\\n",
       "\t2018 & 1022882.9 & 1079793.4 & 1021915.4 & 1155063.2 & 1064009.3 & 1161080.0 & 1066985.3 & 1059125.3 & 1044170.8 & 1188609.4 &  968289.4 &  976162.5\\\\\n",
       "\t2019 & 1090363.5 & 1110344.5 & 1091048.4 & 1109862.1 & 1155835.7 & 1073631.3 & 1123002.4 & 1062020.8 & 1046795.6 & 1134186.8 & 1080747.8 & 1083281.6\\\\\n",
       "\t2020 & 1056946.2 & 1123453.4 & 1182166.3 & 1118534.0 & 1117946.7 & 1156823.3 & 1252921.6 & 1181208.9 & 1107743.3 & 1334757.9 & 1181189.4 & 1295577.3\\\\\n",
       "\t2021 & 1320178.1 & 1195224.0 & 1223641.9 & 1319892.6 & 1494754.5 & 1570571.4 & 1304804.0 & 1229358.8 & 1171040.4 & 1286997.6 & 1288709.2 & 1242939.5\\\\\n",
       "\t2022 & 1374704.8 & 1434070.1 & 1598488.1 & 1522472.8 & 1475372.5 & 1381219.7 & 1477935.2 &           &           &           &           &          \\\\\n",
       "\\end{tabular}\n"
      ],
      "text/markdown": [
       "\n",
       "A Time Series: 13 × 12\n",
       "\n",
       "| <!--/--> | Jan | Feb | Mar | Apr | May | Jun | Jul | Aug | Sep | Oct | Nov | Dec |\n",
       "|---|---|---|---|---|---|---|---|---|---|---|---|---|\n",
       "| 2010 |  645984.4 |  655747.7 |  617820.6 |  758240.0 |  862644.3 |  860677.9 |  885063.4 |  714026.7 |  860230.3 | 1243655.8 |  895836.0 |  807402.2 |\n",
       "| 2011 |  668141.2 |  833048.4 |  907740.2 |  820270.8 |  778029.7 |  823540.2 |  837800.4 |  679048.3 |  797462.6 |  758502.3 |  810089.1 |  814696.7 |\n",
       "| 2012 |  791203.6 |  947594.9 |  791654.7 | 1057884.2 |  838117.4 |  838724.3 |  903500.4 |  816894.7 |  934153.8 |  850313.5 |  873872.0 | 1091879.4 |\n",
       "| 2013 |  797343.8 |  951375.1 |  879883.0 |  915533.4 | 1032130.3 | 1354337.0 |  960447.0 |  957097.3 | 1208350.3 |  889559.4 |  729913.7 |  811911.4 |\n",
       "| 2014 | 1082036.5 |  909868.3 |  884898.9 | 1039570.8 | 1111154.6 | 1048373.5 |  925388.2 |  897472.2 |  943856.8 |  834024.8 |  800659.4 |  984138.2 |\n",
       "| 2015 |  800835.0 |  903164.8 |  956032.3 |  918481.4 |  980753.7 |  929897.6 |  971357.1 | 1087630.0 | 1151277.2 | 1073468.8 | 1160561.1 | 1048773.5 |\n",
       "| 2016 |  842502.2 |  899125.4 |  924369.5 | 1118446.7 | 1066915.9 | 1059081.1 | 1078815.9 | 1007260.6 | 1064544.7 |  988051.9 | 1039001.1 | 1051174.6 |\n",
       "| 2017 | 1354467.4 | 1010625.6 | 1055788.1 | 1062386.8 | 1059228.2 | 1223260.2 | 1147640.0 |  862490.0 |  967289.3 |  906677.9 | 1070139.8 | 1110094.1 |\n",
       "| 2018 | 1022882.9 | 1079793.4 | 1021915.4 | 1155063.2 | 1064009.3 | 1161080.0 | 1066985.3 | 1059125.3 | 1044170.8 | 1188609.4 |  968289.4 |  976162.5 |\n",
       "| 2019 | 1090363.5 | 1110344.5 | 1091048.4 | 1109862.1 | 1155835.7 | 1073631.3 | 1123002.4 | 1062020.8 | 1046795.6 | 1134186.8 | 1080747.8 | 1083281.6 |\n",
       "| 2020 | 1056946.2 | 1123453.4 | 1182166.3 | 1118534.0 | 1117946.7 | 1156823.3 | 1252921.6 | 1181208.9 | 1107743.3 | 1334757.9 | 1181189.4 | 1295577.3 |\n",
       "| 2021 | 1320178.1 | 1195224.0 | 1223641.9 | 1319892.6 | 1494754.5 | 1570571.4 | 1304804.0 | 1229358.8 | 1171040.4 | 1286997.6 | 1288709.2 | 1242939.5 |\n",
       "| 2022 | 1374704.8 | 1434070.1 | 1598488.1 | 1522472.8 | 1475372.5 | 1381219.7 | 1477935.2 | <!----> | <!----> | <!----> | <!----> | <!----> |\n",
       "\n"
      ],
      "text/plain": [
       "     Jan       Feb       Mar       Apr       May       Jun       Jul      \n",
       "2010  645984.4  655747.7  617820.6  758240.0  862644.3  860677.9  885063.4\n",
       "2011  668141.2  833048.4  907740.2  820270.8  778029.7  823540.2  837800.4\n",
       "2012  791203.6  947594.9  791654.7 1057884.2  838117.4  838724.3  903500.4\n",
       "2013  797343.8  951375.1  879883.0  915533.4 1032130.3 1354337.0  960447.0\n",
       "2014 1082036.5  909868.3  884898.9 1039570.8 1111154.6 1048373.5  925388.2\n",
       "2015  800835.0  903164.8  956032.3  918481.4  980753.7  929897.6  971357.1\n",
       "2016  842502.2  899125.4  924369.5 1118446.7 1066915.9 1059081.1 1078815.9\n",
       "2017 1354467.4 1010625.6 1055788.1 1062386.8 1059228.2 1223260.2 1147640.0\n",
       "2018 1022882.9 1079793.4 1021915.4 1155063.2 1064009.3 1161080.0 1066985.3\n",
       "2019 1090363.5 1110344.5 1091048.4 1109862.1 1155835.7 1073631.3 1123002.4\n",
       "2020 1056946.2 1123453.4 1182166.3 1118534.0 1117946.7 1156823.3 1252921.6\n",
       "2021 1320178.1 1195224.0 1223641.9 1319892.6 1494754.5 1570571.4 1304804.0\n",
       "2022 1374704.8 1434070.1 1598488.1 1522472.8 1475372.5 1381219.7 1477935.2\n",
       "     Aug       Sep       Oct       Nov       Dec      \n",
       "2010  714026.7  860230.3 1243655.8  895836.0  807402.2\n",
       "2011  679048.3  797462.6  758502.3  810089.1  814696.7\n",
       "2012  816894.7  934153.8  850313.5  873872.0 1091879.4\n",
       "2013  957097.3 1208350.3  889559.4  729913.7  811911.4\n",
       "2014  897472.2  943856.8  834024.8  800659.4  984138.2\n",
       "2015 1087630.0 1151277.2 1073468.8 1160561.1 1048773.5\n",
       "2016 1007260.6 1064544.7  988051.9 1039001.1 1051174.6\n",
       "2017  862490.0  967289.3  906677.9 1070139.8 1110094.1\n",
       "2018 1059125.3 1044170.8 1188609.4  968289.4  976162.5\n",
       "2019 1062020.8 1046795.6 1134186.8 1080747.8 1083281.6\n",
       "2020 1181208.9 1107743.3 1334757.9 1181189.4 1295577.3\n",
       "2021 1229358.8 1171040.4 1286997.6 1288709.2 1242939.5\n",
       "2022                                                  "
      ]
     },
     "metadata": {},
     "output_type": "display_data"
    }
   ],
   "source": [
    "####################################################################\n",
    "# Set time series (ts) for 'PRICE' variable\n",
    "\n",
    "# Choose the 'PRICE' column and convert it to ts object\n",
    "\n",
    "H_TS <- ts(HOUSE_TS4.df$PRICE, start=c(2010, 1), freq=12)\n",
    "\n",
    "# Let us see the ts object\n",
    "\n",
    "H_TS\n",
    "#####################################################################"
   ]
  },
  {
   "cell_type": "code",
   "execution_count": 10,
   "metadata": {},
   "outputs": [
    {
     "data": {
      "image/png": "[encoded data removed]",
      "text/plain": [
       "plot without title"
      ]
     },
     "metadata": {
      "image/png": {
       "height": 420,
       "width": 420
      }
     },
     "output_type": "display_data"
    }
   ],
   "source": [
    "#####################################################################\n",
    "# Let us fit a regression line on the dataset\n",
    "\n",
    "plot(H_TS)\n",
    "\n",
    "abline(reg=lm(H_TS~time(H_TS)))\n",
    "#####################################################################"
   ]
  },
  {
   "cell_type": "code",
   "execution_count": 11,
   "metadata": {},
   "outputs": [
    {
     "data": {
      "text/html": [
       "<table class=\"dataframe\">\n",
       "<caption>A Time Series: 13 × 12</caption>\n",
       "<thead>\n",
       "\t<tr><th></th><th scope=col>Jan</th><th scope=col>Feb</th><th scope=col>Mar</th><th scope=col>Apr</th><th scope=col>May</th><th scope=col>Jun</th><th scope=col>Jul</th><th scope=col>Aug</th><th scope=col>Sep</th><th scope=col>Oct</th><th scope=col>Nov</th><th scope=col>Dec</th></tr>\n",
       "</thead>\n",
       "<tbody>\n",
       "\t<tr><th scope=row>2010</th><td> 1</td><td> 2</td><td> 3</td><td> 4</td><td> 5</td><td> 6</td><td> 7</td><td> 8</td><td> 9</td><td>10</td><td>11</td><td>12</td></tr>\n",
       "\t<tr><th scope=row>2011</th><td> 1</td><td> 2</td><td> 3</td><td> 4</td><td> 5</td><td> 6</td><td> 7</td><td> 8</td><td> 9</td><td>10</td><td>11</td><td>12</td></tr>\n",
       "\t<tr><th scope=row>2012</th><td> 1</td><td> 2</td><td> 3</td><td> 4</td><td> 5</td><td> 6</td><td> 7</td><td> 8</td><td> 9</td><td>10</td><td>11</td><td>12</td></tr>\n",
       "\t<tr><th scope=row>2013</th><td> 1</td><td> 2</td><td> 3</td><td> 4</td><td> 5</td><td> 6</td><td> 7</td><td> 8</td><td> 9</td><td>10</td><td>11</td><td>12</td></tr>\n",
       "\t<tr><th scope=row>2014</th><td> 1</td><td> 2</td><td> 3</td><td> 4</td><td> 5</td><td> 6</td><td> 7</td><td> 8</td><td> 9</td><td>10</td><td>11</td><td>12</td></tr>\n",
       "\t<tr><th scope=row>2015</th><td> 1</td><td> 2</td><td> 3</td><td> 4</td><td> 5</td><td> 6</td><td> 7</td><td> 8</td><td> 9</td><td>10</td><td>11</td><td>12</td></tr>\n",
       "\t<tr><th scope=row>2016</th><td> 1</td><td> 2</td><td> 3</td><td> 4</td><td> 5</td><td> 6</td><td> 7</td><td> 8</td><td> 9</td><td>10</td><td>11</td><td>12</td></tr>\n",
       "\t<tr><th scope=row>2017</th><td> 1</td><td> 2</td><td> 3</td><td> 4</td><td> 5</td><td> 6</td><td> 7</td><td> 8</td><td> 9</td><td>10</td><td>11</td><td>12</td></tr>\n",
       "\t<tr><th scope=row>2018</th><td> 1</td><td> 2</td><td> 3</td><td> 4</td><td> 5</td><td> 6</td><td> 7</td><td> 8</td><td> 9</td><td>10</td><td>11</td><td>12</td></tr>\n",
       "\t<tr><th scope=row>2019</th><td> 1</td><td> 2</td><td> 3</td><td> 4</td><td> 5</td><td> 6</td><td> 7</td><td> 8</td><td> 9</td><td>10</td><td>11</td><td>12</td></tr>\n",
       "\t<tr><th scope=row>2020</th><td> 1</td><td> 2</td><td> 3</td><td> 4</td><td> 5</td><td> 6</td><td> 7</td><td> 8</td><td> 9</td><td>10</td><td>11</td><td>12</td></tr>\n",
       "\t<tr><th scope=row>2021</th><td> 1</td><td> 2</td><td> 3</td><td> 4</td><td> 5</td><td> 6</td><td> 7</td><td> 8</td><td> 9</td><td>10</td><td>11</td><td>12</td></tr>\n",
       "\t<tr><th scope=row>2022</th><td> 1</td><td> 2</td><td> 3</td><td> 4</td><td> 5</td><td> 6</td><td> 7</td><td>  </td><td>  </td><td>  </td><td>  </td><td>  </td></tr>\n",
       "</tbody>\n",
       "</table>\n"
      ],
      "text/latex": [
       "A Time Series: 13 × 12\n",
       "\\begin{tabular}{r|llllllllllll}\n",
       "  & Jan & Feb & Mar & Apr & May & Jun & Jul & Aug & Sep & Oct & Nov & Dec\\\\\n",
       "\\hline\n",
       "\t2010 &  1 &  2 &  3 &  4 &  5 &  6 &  7 &  8 &  9 & 10 & 11 & 12\\\\\n",
       "\t2011 &  1 &  2 &  3 &  4 &  5 &  6 &  7 &  8 &  9 & 10 & 11 & 12\\\\\n",
       "\t2012 &  1 &  2 &  3 &  4 &  5 &  6 &  7 &  8 &  9 & 10 & 11 & 12\\\\\n",
       "\t2013 &  1 &  2 &  3 &  4 &  5 &  6 &  7 &  8 &  9 & 10 & 11 & 12\\\\\n",
       "\t2014 &  1 &  2 &  3 &  4 &  5 &  6 &  7 &  8 &  9 & 10 & 11 & 12\\\\\n",
       "\t2015 &  1 &  2 &  3 &  4 &  5 &  6 &  7 &  8 &  9 & 10 & 11 & 12\\\\\n",
       "\t2016 &  1 &  2 &  3 &  4 &  5 &  6 &  7 &  8 &  9 & 10 & 11 & 12\\\\\n",
       "\t2017 &  1 &  2 &  3 &  4 &  5 &  6 &  7 &  8 &  9 & 10 & 11 & 12\\\\\n",
       "\t2018 &  1 &  2 &  3 &  4 &  5 &  6 &  7 &  8 &  9 & 10 & 11 & 12\\\\\n",
       "\t2019 &  1 &  2 &  3 &  4 &  5 &  6 &  7 &  8 &  9 & 10 & 11 & 12\\\\\n",
       "\t2020 &  1 &  2 &  3 &  4 &  5 &  6 &  7 &  8 &  9 & 10 & 11 & 12\\\\\n",
       "\t2021 &  1 &  2 &  3 &  4 &  5 &  6 &  7 &  8 &  9 & 10 & 11 & 12\\\\\n",
       "\t2022 &  1 &  2 &  3 &  4 &  5 &  6 &  7 &    &    &    &    &   \\\\\n",
       "\\end{tabular}\n"
      ],
      "text/markdown": [
       "\n",
       "A Time Series: 13 × 12\n",
       "\n",
       "| <!--/--> | Jan | Feb | Mar | Apr | May | Jun | Jul | Aug | Sep | Oct | Nov | Dec |\n",
       "|---|---|---|---|---|---|---|---|---|---|---|---|---|\n",
       "| 2010 |  1 |  2 |  3 |  4 |  5 |  6 |  7 |  8 |  9 | 10 | 11 | 12 |\n",
       "| 2011 |  1 |  2 |  3 |  4 |  5 |  6 |  7 |  8 |  9 | 10 | 11 | 12 |\n",
       "| 2012 |  1 |  2 |  3 |  4 |  5 |  6 |  7 |  8 |  9 | 10 | 11 | 12 |\n",
       "| 2013 |  1 |  2 |  3 |  4 |  5 |  6 |  7 |  8 |  9 | 10 | 11 | 12 |\n",
       "| 2014 |  1 |  2 |  3 |  4 |  5 |  6 |  7 |  8 |  9 | 10 | 11 | 12 |\n",
       "| 2015 |  1 |  2 |  3 |  4 |  5 |  6 |  7 |  8 |  9 | 10 | 11 | 12 |\n",
       "| 2016 |  1 |  2 |  3 |  4 |  5 |  6 |  7 |  8 |  9 | 10 | 11 | 12 |\n",
       "| 2017 |  1 |  2 |  3 |  4 |  5 |  6 |  7 |  8 |  9 | 10 | 11 | 12 |\n",
       "| 2018 |  1 |  2 |  3 |  4 |  5 |  6 |  7 |  8 |  9 | 10 | 11 | 12 |\n",
       "| 2019 |  1 |  2 |  3 |  4 |  5 |  6 |  7 |  8 |  9 | 10 | 11 | 12 |\n",
       "| 2020 |  1 |  2 |  3 |  4 |  5 |  6 |  7 |  8 |  9 | 10 | 11 | 12 |\n",
       "| 2021 |  1 |  2 |  3 |  4 |  5 |  6 |  7 |  8 |  9 | 10 | 11 | 12 |\n",
       "| 2022 |  1 |  2 |  3 |  4 |  5 |  6 |  7 | <!----> | <!----> | <!----> | <!----> | <!----> |\n",
       "\n"
      ],
      "text/plain": [
       "     Jan Feb Mar Apr May Jun Jul Aug Sep Oct Nov Dec\n",
       "2010  1   2   3   4   5   6   7   8   9  10  11  12 \n",
       "2011  1   2   3   4   5   6   7   8   9  10  11  12 \n",
       "2012  1   2   3   4   5   6   7   8   9  10  11  12 \n",
       "2013  1   2   3   4   5   6   7   8   9  10  11  12 \n",
       "2014  1   2   3   4   5   6   7   8   9  10  11  12 \n",
       "2015  1   2   3   4   5   6   7   8   9  10  11  12 \n",
       "2016  1   2   3   4   5   6   7   8   9  10  11  12 \n",
       "2017  1   2   3   4   5   6   7   8   9  10  11  12 \n",
       "2018  1   2   3   4   5   6   7   8   9  10  11  12 \n",
       "2019  1   2   3   4   5   6   7   8   9  10  11  12 \n",
       "2020  1   2   3   4   5   6   7   8   9  10  11  12 \n",
       "2021  1   2   3   4   5   6   7   8   9  10  11  12 \n",
       "2022  1   2   3   4   5   6   7                     "
      ]
     },
     "metadata": {},
     "output_type": "display_data"
    },
    {
     "data": {
      "image/png": "[encoded data removed]",
      "text/plain": [
       "plot without title"
      ]
     },
     "metadata": {
      "image/png": {
       "height": 420,
       "width": 420
      }
     },
     "output_type": "display_data"
    }
   ],
   "source": [
    "#####################################################################\n",
    "# First let us plot the cycle and trend\n",
    "# Aggregate the cycles and display a year-on-year trend\n",
    "\n",
    "cycle(H_TS)\n",
    "\n",
    "plot(aggregate(H_TS,FUN=mean))\n",
    "\n",
    "#####################################################################"
   ]
  },
  {
   "cell_type": "code",
   "execution_count": 12,
   "metadata": {},
   "outputs": [
    {
     "data": {
      "image/png": "[encoded data removed]",
      "text/plain": [
       "plot without title"
      ]
     },
     "metadata": {
      "image/png": {
       "height": 420,
       "width": 420
      }
     },
     "output_type": "display_data"
    }
   ],
   "source": [
    "#####################################################################\n",
    "# Letâ™s look in to the seasonal effects\n",
    "\n",
    "boxplot(H_TS~cycle(H_TS))\n",
    "\n",
    "#####################################################################"
   ]
  },
  {
   "cell_type": "code",
   "execution_count": 13,
   "metadata": {},
   "outputs": [
    {
     "name": "stderr",
     "output_type": "stream",
     "text": [
      "Registered S3 method overwritten by 'quantmod':\n",
      "  method            from\n",
      "  as.zoo.data.frame zoo \n",
      "\n",
      "Warning message in adf.test(diff(log(H_TS)), alternative = \"stationary\", k = 0):\n",
      "\"p-value smaller than printed p-value\"\n"
     ]
    },
    {
     "data": {
      "text/plain": [
       "\n",
       "\tAugmented Dickey-Fuller Test\n",
       "\n",
       "data:  diff(log(H_TS))\n",
       "Dickey-Fuller = -17.244, Lag order = 0, p-value = 0.01\n",
       "alternative hypothesis: stationary\n"
      ]
     },
     "metadata": {},
     "output_type": "display_data"
    }
   ],
   "source": [
    "#####################################################################\n",
    "# Since we want to remove the unequal variances in the data we will take the log of the series\n",
    "# Before we fit the ARIMA model to our time series, we need to remove the unequal variances in \n",
    "# the data by taking the log of the series.\n",
    "\n",
    "# Also, the original signal had trends and seasonal effects, so it was not stationary.  \n",
    "# Therefore, we perform a diff of the signal and check if the trends and seasonal effect can be removed. \n",
    "\n",
    "\n",
    "library(tseries)\n",
    "\n",
    "# Now perform the Augmented Dickey-Fuller Test\n",
    "\n",
    "adf.test(diff(log(H_TS)), alternative=\"stationary\", k=0)\n",
    "\n",
    "# This will give you the result of the Augmented Dickey-Fuller Test\n",
    "#####################################################################"
   ]
  },
  {
   "cell_type": "code",
   "execution_count": 14,
   "metadata": {},
   "outputs": [
    {
     "data": {
      "image/png": "[encoded data removed]",
      "text/plain": [
       "plot without title"
      ]
     },
     "metadata": {
      "image/png": {
       "height": 420,
       "width": 420
      }
     },
     "output_type": "display_data"
    }
   ],
   "source": [
    "#####################################################################\n",
    "# Let us now plot the series\n",
    "\n",
    "plot(diff(log(H_TS)))\n",
    "\n",
    "#####################################################################"
   ]
  },
  {
   "cell_type": "code",
   "execution_count": 15,
   "metadata": {},
   "outputs": [
    {
     "data": {
      "image/png": "[encoded data removed]",
      "text/plain": [
       "Plot with title \"Series  diff(log(H_TS))\""
      ]
     },
     "metadata": {
      "image/png": {
       "height": 420,
       "width": 420
      }
     },
     "output_type": "display_data"
    },
    {
     "data": {
      "image/png": "[encoded data removed]",
      "text/plain": [
       "Plot with title \"Series  diff(log(H_TS))\""
      ]
     },
     "metadata": {
      "image/png": {
       "height": 420,
       "width": 420
      }
     },
     "output_type": "display_data"
    }
   ],
   "source": [
    "#####################################################################\n",
    "# Now let us look into the ACF  and PACF charts\n",
    "\n",
    "acf(diff(log(H_TS)))\n",
    "\n",
    "pacf(diff(log(H_TS)))\n",
    "\n",
    "# ARIMA (1,1,2)\n",
    "\n",
    "#####################################################################"
   ]
  },
  {
   "cell_type": "code",
   "execution_count": 16,
   "metadata": {},
   "outputs": [
    {
     "data": {
      "text/plain": [
       "\n",
       "Call:\n",
       "arima(x = log(H_TS), order = c(1, 1, 2), seasonal = list(order = c(1, 1, 2), \n",
       "    period = 12))\n",
       "\n",
       "Coefficients:\n",
       "         ar1      ma1      ma2     sar1     sma1     sma2\n",
       "      0.0137  -0.6626  -0.2225  -0.1500  -0.7659  -0.0765\n",
       "s.e.  0.0267   0.0437   0.0352   0.0373   0.0513   0.0336\n",
       "\n",
       "sigma^2 estimated as 0.01201:  log likelihood = 99.94,  aic = -185.88"
      ]
     },
     "metadata": {},
     "output_type": "display_data"
    }
   ],
   "source": [
    "#####################################################################\n",
    "# Let us now fit the ARIMA(1,1,2)\n",
    "\n",
    "(fit_open <- arima(log(H_TS), c(1, 1, 2),seasonal = list(order = c(1, 1, 2), period = 12)))\n",
    "\n",
    "#####################################################################"
   ]
  },
  {
   "cell_type": "code",
   "execution_count": 17,
   "metadata": {},
   "outputs": [
    {
     "name": "stderr",
     "output_type": "stream",
     "text": [
      "Installing package into 'C:/Users/bates/AppData/Local/R/win-library/4.2'\n",
      "(as 'lib' is unspecified)\n",
      "\n"
     ]
    },
    {
     "name": "stdout",
     "output_type": "stream",
     "text": [
      "package 'forecast' successfully unpacked and MD5 sums checked\n"
     ]
    },
    {
     "name": "stderr",
     "output_type": "stream",
     "text": [
      "Warning message:\n",
      "\"cannot remove prior installation of package 'forecast'\"\n",
      "Warning message in file.copy(savedcopy, lib, recursive = TRUE):\n",
      "\"problem copying C:\\Users\\bates\\AppData\\Local\\R\\win-library\\4.2\\00LOCK\\forecast\\libs\\x64\\forecast.dll to C:\\Users\\bates\\AppData\\Local\\R\\win-library\\4.2\\forecast\\libs\\x64\\forecast.dll: Permission denied\"\n",
      "Warning message:\n",
      "\"restored 'forecast'\"\n"
     ]
    },
    {
     "name": "stdout",
     "output_type": "stream",
     "text": [
      "\n",
      "The downloaded binary packages are in\n",
      "\tC:\\Users\\bates\\AppData\\Local\\Temp\\Rtmp21AjSg\\downloaded_packages\n"
     ]
    },
    {
     "data": {
      "text/html": [
       "<dl>\n",
       "\t<dt>$pred</dt>\n",
       "\t\t<dd><table class=\"dataframe\">\n",
       "<caption>A Time Series: 8 × 12</caption>\n",
       "<thead>\n",
       "\t<tr><th></th><th scope=col>Jan</th><th scope=col>Feb</th><th scope=col>Mar</th><th scope=col>Apr</th><th scope=col>May</th><th scope=col>Jun</th><th scope=col>Jul</th><th scope=col>Aug</th><th scope=col>Sep</th><th scope=col>Oct</th><th scope=col>Nov</th><th scope=col>Dec</th></tr>\n",
       "</thead>\n",
       "<tbody>\n",
       "\t<tr><th scope=row>2022</th><td>        </td><td>        </td><td>        </td><td>        </td><td>        </td><td>        </td><td>        </td><td>14.11305</td><td>14.14591</td><td>14.17159</td><td>14.12548</td><td>14.16064</td></tr>\n",
       "\t<tr><th scope=row>2023</th><td>14.14975</td><td>14.16099</td><td>14.16949</td><td>14.22256</td><td>14.23672</td><td>14.26301</td><td>14.22871</td><td>14.15255</td><td>14.19114</td><td>14.22058</td><td>14.17806</td><td>14.20816</td></tr>\n",
       "\t<tr><th scope=row>2024</th><td>14.20445</td><td>14.21842</td><td>14.23346</td><td>14.27962</td><td>14.29011</td><td>14.31018</td><td>14.28357</td><td>14.20619</td><td>14.24487</td><td>14.27376</td><td>14.23070</td><td>14.26156</td></tr>\n",
       "\t<tr><th scope=row>2025</th><td>14.25677</td><td>14.27033</td><td>14.28439</td><td>14.33158</td><td>14.34262</td><td>14.36363</td><td>14.33586</td><td>14.25867</td><td>14.29733</td><td>14.32631</td><td>14.28333</td><td>14.31407</td></tr>\n",
       "\t<tr><th scope=row>2026</th><td>14.30945</td><td>14.32307</td><td>14.33728</td><td>14.38431</td><td>14.39527</td><td>14.41614</td><td>14.38854</td><td>14.31132</td><td>14.34999</td><td>14.37895</td><td>14.33596</td><td>14.36672</td></tr>\n",
       "\t<tr><th scope=row>2027</th><td>14.36207</td><td>14.37568</td><td>14.38987</td><td>14.43693</td><td>14.44790</td><td>14.46878</td><td>14.44117</td><td>14.36395</td><td>14.40262</td><td>14.43158</td><td>14.38859</td><td>14.41935</td></tr>\n",
       "\t<tr><th scope=row>2028</th><td>14.41470</td><td>14.42831</td><td>14.44250</td><td>14.48956</td><td>14.50053</td><td>14.52141</td><td>14.49380</td><td>14.41658</td><td>14.45525</td><td>14.48421</td><td>14.44122</td><td>14.47198</td></tr>\n",
       "\t<tr><th scope=row>2029</th><td>14.46733</td><td>14.48094</td><td>14.49513</td><td>14.54219</td><td>14.55316</td><td>14.57404</td><td>14.54643</td><td>        </td><td>        </td><td>        </td><td>        </td><td>        </td></tr>\n",
       "</tbody>\n",
       "</table>\n",
       "</dd>\n",
       "\t<dt>$se</dt>\n",
       "\t\t<dd><table class=\"dataframe\">\n",
       "<caption>A Time Series: 8 × 12</caption>\n",
       "<thead>\n",
       "\t<tr><th></th><th scope=col>Jan</th><th scope=col>Feb</th><th scope=col>Mar</th><th scope=col>Apr</th><th scope=col>May</th><th scope=col>Jun</th><th scope=col>Jul</th><th scope=col>Aug</th><th scope=col>Sep</th><th scope=col>Oct</th><th scope=col>Nov</th><th scope=col>Dec</th></tr>\n",
       "</thead>\n",
       "<tbody>\n",
       "\t<tr><th scope=row>2022</th><td>         </td><td>         </td><td>         </td><td>         </td><td>         </td><td>         </td><td>         </td><td>0.1099684</td><td>0.1165574</td><td>0.1172989</td><td>0.1179973</td><td>0.1186956</td></tr>\n",
       "\t<tr><th scope=row>2023</th><td>0.1193510</td><td>0.1200355</td><td>0.1207161</td><td>0.1213930</td><td>0.1220661</td><td>0.1227355</td><td>0.1234012</td><td>0.1254729</td><td>0.1265247</td><td>0.1272952</td><td>0.1280577</td><td>0.1288250</td></tr>\n",
       "\t<tr><th scope=row>2024</th><td>0.1295718</td><td>0.1303176</td><td>0.1310591</td><td>0.1317965</td><td>0.1325298</td><td>0.1332591</td><td>0.1339844</td><td>0.1374200</td><td>0.1388340</td><td>0.1397424</td><td>0.1406391</td><td>0.1415434</td></tr>\n",
       "\t<tr><th scope=row>2025</th><td>0.1424407</td><td>0.1433153</td><td>0.1441847</td><td>0.1450489</td><td>0.1459080</td><td>0.1467620</td><td>0.1476112</td><td>0.1509258</td><td>0.1524234</td><td>0.1534452</td><td>0.1544548</td><td>0.1554743</td></tr>\n",
       "\t<tr><th scope=row>2026</th><td>0.1564986</td><td>0.1574821</td><td>0.1584595</td><td>0.1594310</td><td>0.1603967</td><td>0.1613565</td><td>0.1623107</td><td>0.1657129</td><td>0.1673215</td><td>0.1684498</td><td>0.1695651</td><td>0.1706922</td></tr>\n",
       "\t<tr><th scope=row>2027</th><td>0.1718335</td><td>0.1729194</td><td>0.1739985</td><td>0.1750712</td><td>0.1761372</td><td>0.1771969</td><td>0.1782502</td><td>0.1816914</td><td>0.1833933</td><td>0.1846193</td><td>0.1858318</td><td>0.1870575</td></tr>\n",
       "\t<tr><th scope=row>2028</th><td>0.1883052</td><td>0.1894857</td><td>0.1906589</td><td>0.1918250</td><td>0.1929840</td><td>0.1941362</td><td>0.1952815</td><td>0.1987557</td><td>0.2005424</td><td>0.2018586</td><td>0.2031610</td><td>0.2044776</td></tr>\n",
       "\t<tr><th scope=row>2029</th><td>0.2058228</td><td>0.2070911</td><td>0.2083517</td><td>0.2096049</td><td>0.2108506</td><td>0.2120890</td><td>0.2133202</td><td>         </td><td>         </td><td>         </td><td>         </td><td>         </td></tr>\n",
       "</tbody>\n",
       "</table>\n",
       "</dd>\n",
       "</dl>\n"
      ],
      "text/latex": [
       "\\begin{description}\n",
       "\\item[\\$pred] A Time Series: 8 × 12\n",
       "\\begin{tabular}{r|llllllllllll}\n",
       "  & Jan & Feb & Mar & Apr & May & Jun & Jul & Aug & Sep & Oct & Nov & Dec\\\\\n",
       "\\hline\n",
       "\t2022 &          &          &          &          &          &          &          & 14.11305 & 14.14591 & 14.17159 & 14.12548 & 14.16064\\\\\n",
       "\t2023 & 14.14975 & 14.16099 & 14.16949 & 14.22256 & 14.23672 & 14.26301 & 14.22871 & 14.15255 & 14.19114 & 14.22058 & 14.17806 & 14.20816\\\\\n",
       "\t2024 & 14.20445 & 14.21842 & 14.23346 & 14.27962 & 14.29011 & 14.31018 & 14.28357 & 14.20619 & 14.24487 & 14.27376 & 14.23070 & 14.26156\\\\\n",
       "\t2025 & 14.25677 & 14.27033 & 14.28439 & 14.33158 & 14.34262 & 14.36363 & 14.33586 & 14.25867 & 14.29733 & 14.32631 & 14.28333 & 14.31407\\\\\n",
       "\t2026 & 14.30945 & 14.32307 & 14.33728 & 14.38431 & 14.39527 & 14.41614 & 14.38854 & 14.31132 & 14.34999 & 14.37895 & 14.33596 & 14.36672\\\\\n",
       "\t2027 & 14.36207 & 14.37568 & 14.38987 & 14.43693 & 14.44790 & 14.46878 & 14.44117 & 14.36395 & 14.40262 & 14.43158 & 14.38859 & 14.41935\\\\\n",
       "\t2028 & 14.41470 & 14.42831 & 14.44250 & 14.48956 & 14.50053 & 14.52141 & 14.49380 & 14.41658 & 14.45525 & 14.48421 & 14.44122 & 14.47198\\\\\n",
       "\t2029 & 14.46733 & 14.48094 & 14.49513 & 14.54219 & 14.55316 & 14.57404 & 14.54643 &          &          &          &          &         \\\\\n",
       "\\end{tabular}\n",
       "\n",
       "\\item[\\$se] A Time Series: 8 × 12\n",
       "\\begin{tabular}{r|llllllllllll}\n",
       "  & Jan & Feb & Mar & Apr & May & Jun & Jul & Aug & Sep & Oct & Nov & Dec\\\\\n",
       "\\hline\n",
       "\t2022 &           &           &           &           &           &           &           & 0.1099684 & 0.1165574 & 0.1172989 & 0.1179973 & 0.1186956\\\\\n",
       "\t2023 & 0.1193510 & 0.1200355 & 0.1207161 & 0.1213930 & 0.1220661 & 0.1227355 & 0.1234012 & 0.1254729 & 0.1265247 & 0.1272952 & 0.1280577 & 0.1288250\\\\\n",
       "\t2024 & 0.1295718 & 0.1303176 & 0.1310591 & 0.1317965 & 0.1325298 & 0.1332591 & 0.1339844 & 0.1374200 & 0.1388340 & 0.1397424 & 0.1406391 & 0.1415434\\\\\n",
       "\t2025 & 0.1424407 & 0.1433153 & 0.1441847 & 0.1450489 & 0.1459080 & 0.1467620 & 0.1476112 & 0.1509258 & 0.1524234 & 0.1534452 & 0.1544548 & 0.1554743\\\\\n",
       "\t2026 & 0.1564986 & 0.1574821 & 0.1584595 & 0.1594310 & 0.1603967 & 0.1613565 & 0.1623107 & 0.1657129 & 0.1673215 & 0.1684498 & 0.1695651 & 0.1706922\\\\\n",
       "\t2027 & 0.1718335 & 0.1729194 & 0.1739985 & 0.1750712 & 0.1761372 & 0.1771969 & 0.1782502 & 0.1816914 & 0.1833933 & 0.1846193 & 0.1858318 & 0.1870575\\\\\n",
       "\t2028 & 0.1883052 & 0.1894857 & 0.1906589 & 0.1918250 & 0.1929840 & 0.1941362 & 0.1952815 & 0.1987557 & 0.2005424 & 0.2018586 & 0.2031610 & 0.2044776\\\\\n",
       "\t2029 & 0.2058228 & 0.2070911 & 0.2083517 & 0.2096049 & 0.2108506 & 0.2120890 & 0.2133202 &           &           &           &           &          \\\\\n",
       "\\end{tabular}\n",
       "\n",
       "\\end{description}\n"
      ],
      "text/markdown": [
       "$pred\n",
       ":   \n",
       "A Time Series: 8 × 12\n",
       "\n",
       "| <!--/--> | Jan | Feb | Mar | Apr | May | Jun | Jul | Aug | Sep | Oct | Nov | Dec |\n",
       "|---|---|---|---|---|---|---|---|---|---|---|---|---|\n",
       "| 2022 | <!----> | <!----> | <!----> | <!----> | <!----> | <!----> | <!----> | 14.11305 | 14.14591 | 14.17159 | 14.12548 | 14.16064 |\n",
       "| 2023 | 14.14975 | 14.16099 | 14.16949 | 14.22256 | 14.23672 | 14.26301 | 14.22871 | 14.15255 | 14.19114 | 14.22058 | 14.17806 | 14.20816 |\n",
       "| 2024 | 14.20445 | 14.21842 | 14.23346 | 14.27962 | 14.29011 | 14.31018 | 14.28357 | 14.20619 | 14.24487 | 14.27376 | 14.23070 | 14.26156 |\n",
       "| 2025 | 14.25677 | 14.27033 | 14.28439 | 14.33158 | 14.34262 | 14.36363 | 14.33586 | 14.25867 | 14.29733 | 14.32631 | 14.28333 | 14.31407 |\n",
       "| 2026 | 14.30945 | 14.32307 | 14.33728 | 14.38431 | 14.39527 | 14.41614 | 14.38854 | 14.31132 | 14.34999 | 14.37895 | 14.33596 | 14.36672 |\n",
       "| 2027 | 14.36207 | 14.37568 | 14.38987 | 14.43693 | 14.44790 | 14.46878 | 14.44117 | 14.36395 | 14.40262 | 14.43158 | 14.38859 | 14.41935 |\n",
       "| 2028 | 14.41470 | 14.42831 | 14.44250 | 14.48956 | 14.50053 | 14.52141 | 14.49380 | 14.41658 | 14.45525 | 14.48421 | 14.44122 | 14.47198 |\n",
       "| 2029 | 14.46733 | 14.48094 | 14.49513 | 14.54219 | 14.55316 | 14.57404 | 14.54643 | <!----> | <!----> | <!----> | <!----> | <!----> |\n",
       "\n",
       "\n",
       "$se\n",
       ":   \n",
       "A Time Series: 8 × 12\n",
       "\n",
       "| <!--/--> | Jan | Feb | Mar | Apr | May | Jun | Jul | Aug | Sep | Oct | Nov | Dec |\n",
       "|---|---|---|---|---|---|---|---|---|---|---|---|---|\n",
       "| 2022 | <!----> | <!----> | <!----> | <!----> | <!----> | <!----> | <!----> | 0.1099684 | 0.1165574 | 0.1172989 | 0.1179973 | 0.1186956 |\n",
       "| 2023 | 0.1193510 | 0.1200355 | 0.1207161 | 0.1213930 | 0.1220661 | 0.1227355 | 0.1234012 | 0.1254729 | 0.1265247 | 0.1272952 | 0.1280577 | 0.1288250 |\n",
       "| 2024 | 0.1295718 | 0.1303176 | 0.1310591 | 0.1317965 | 0.1325298 | 0.1332591 | 0.1339844 | 0.1374200 | 0.1388340 | 0.1397424 | 0.1406391 | 0.1415434 |\n",
       "| 2025 | 0.1424407 | 0.1433153 | 0.1441847 | 0.1450489 | 0.1459080 | 0.1467620 | 0.1476112 | 0.1509258 | 0.1524234 | 0.1534452 | 0.1544548 | 0.1554743 |\n",
       "| 2026 | 0.1564986 | 0.1574821 | 0.1584595 | 0.1594310 | 0.1603967 | 0.1613565 | 0.1623107 | 0.1657129 | 0.1673215 | 0.1684498 | 0.1695651 | 0.1706922 |\n",
       "| 2027 | 0.1718335 | 0.1729194 | 0.1739985 | 0.1750712 | 0.1761372 | 0.1771969 | 0.1782502 | 0.1816914 | 0.1833933 | 0.1846193 | 0.1858318 | 0.1870575 |\n",
       "| 2028 | 0.1883052 | 0.1894857 | 0.1906589 | 0.1918250 | 0.1929840 | 0.1941362 | 0.1952815 | 0.1987557 | 0.2005424 | 0.2018586 | 0.2031610 | 0.2044776 |\n",
       "| 2029 | 0.2058228 | 0.2070911 | 0.2083517 | 0.2096049 | 0.2108506 | 0.2120890 | 0.2133202 | <!----> | <!----> | <!----> | <!----> | <!----> |\n",
       "\n",
       "\n",
       "\n",
       "\n"
      ],
      "text/plain": [
       "$pred\n",
       "          Jan      Feb      Mar      Apr      May      Jun      Jul      Aug\n",
       "2022                                                                14.11305\n",
       "2023 14.14975 14.16099 14.16949 14.22256 14.23672 14.26301 14.22871 14.15255\n",
       "2024 14.20445 14.21842 14.23346 14.27962 14.29011 14.31018 14.28357 14.20619\n",
       "2025 14.25677 14.27033 14.28439 14.33158 14.34262 14.36363 14.33586 14.25867\n",
       "2026 14.30945 14.32307 14.33728 14.38431 14.39527 14.41614 14.38854 14.31132\n",
       "2027 14.36207 14.37568 14.38987 14.43693 14.44790 14.46878 14.44117 14.36395\n",
       "2028 14.41470 14.42831 14.44250 14.48956 14.50053 14.52141 14.49380 14.41658\n",
       "2029 14.46733 14.48094 14.49513 14.54219 14.55316 14.57404 14.54643         \n",
       "          Sep      Oct      Nov      Dec\n",
       "2022 14.14591 14.17159 14.12548 14.16064\n",
       "2023 14.19114 14.22058 14.17806 14.20816\n",
       "2024 14.24487 14.27376 14.23070 14.26156\n",
       "2025 14.29733 14.32631 14.28333 14.31407\n",
       "2026 14.34999 14.37895 14.33596 14.36672\n",
       "2027 14.40262 14.43158 14.38859 14.41935\n",
       "2028 14.45525 14.48421 14.44122 14.47198\n",
       "2029                                    \n",
       "\n",
       "$se\n",
       "           Jan       Feb       Mar       Apr       May       Jun       Jul\n",
       "2022                                                                      \n",
       "2023 0.1193510 0.1200355 0.1207161 0.1213930 0.1220661 0.1227355 0.1234012\n",
       "2024 0.1295718 0.1303176 0.1310591 0.1317965 0.1325298 0.1332591 0.1339844\n",
       "2025 0.1424407 0.1433153 0.1441847 0.1450489 0.1459080 0.1467620 0.1476112\n",
       "2026 0.1564986 0.1574821 0.1584595 0.1594310 0.1603967 0.1613565 0.1623107\n",
       "2027 0.1718335 0.1729194 0.1739985 0.1750712 0.1761372 0.1771969 0.1782502\n",
       "2028 0.1883052 0.1894857 0.1906589 0.1918250 0.1929840 0.1941362 0.1952815\n",
       "2029 0.2058228 0.2070911 0.2083517 0.2096049 0.2108506 0.2120890 0.2133202\n",
       "           Aug       Sep       Oct       Nov       Dec\n",
       "2022 0.1099684 0.1165574 0.1172989 0.1179973 0.1186956\n",
       "2023 0.1254729 0.1265247 0.1272952 0.1280577 0.1288250\n",
       "2024 0.1374200 0.1388340 0.1397424 0.1406391 0.1415434\n",
       "2025 0.1509258 0.1524234 0.1534452 0.1544548 0.1554743\n",
       "2026 0.1657129 0.1673215 0.1684498 0.1695651 0.1706922\n",
       "2027 0.1816914 0.1833933 0.1846193 0.1858318 0.1870575\n",
       "2028 0.1987557 0.2005424 0.2018586 0.2031610 0.2044776\n",
       "2029                                                  \n"
      ]
     },
     "metadata": {},
     "output_type": "display_data"
    },
    {
     "data": {
      "text/html": [
       "<dl>\n",
       "\t<dt>$pred</dt>\n",
       "\t\t<dd><table class=\"dataframe\">\n",
       "<caption>A Time Series: 8 × 12</caption>\n",
       "<thead>\n",
       "\t<tr><th></th><th scope=col>Jan</th><th scope=col>Feb</th><th scope=col>Mar</th><th scope=col>Apr</th><th scope=col>May</th><th scope=col>Jun</th><th scope=col>Jul</th><th scope=col>Aug</th><th scope=col>Sep</th><th scope=col>Oct</th><th scope=col>Nov</th><th scope=col>Dec</th></tr>\n",
       "</thead>\n",
       "<tbody>\n",
       "\t<tr><th scope=row>2022</th><td>        </td><td>        </td><td>        </td><td>        </td><td>        </td><td>        </td><td>        </td><td>14.11305</td><td>14.14591</td><td>14.17159</td><td>14.12548</td><td>14.16064</td></tr>\n",
       "\t<tr><th scope=row>2023</th><td>14.14975</td><td>14.16099</td><td>14.16949</td><td>14.22256</td><td>14.23672</td><td>14.26301</td><td>14.22871</td><td>14.15255</td><td>14.19114</td><td>14.22058</td><td>14.17806</td><td>14.20816</td></tr>\n",
       "\t<tr><th scope=row>2024</th><td>14.20445</td><td>14.21842</td><td>14.23346</td><td>14.27962</td><td>14.29011</td><td>14.31018</td><td>14.28357</td><td>14.20619</td><td>14.24487</td><td>14.27376</td><td>14.23070</td><td>14.26156</td></tr>\n",
       "\t<tr><th scope=row>2025</th><td>14.25677</td><td>14.27033</td><td>14.28439</td><td>14.33158</td><td>14.34262</td><td>14.36363</td><td>14.33586</td><td>14.25867</td><td>14.29733</td><td>14.32631</td><td>14.28333</td><td>14.31407</td></tr>\n",
       "\t<tr><th scope=row>2026</th><td>14.30945</td><td>14.32307</td><td>14.33728</td><td>14.38431</td><td>14.39527</td><td>14.41614</td><td>14.38854</td><td>14.31132</td><td>14.34999</td><td>14.37895</td><td>14.33596</td><td>14.36672</td></tr>\n",
       "\t<tr><th scope=row>2027</th><td>14.36207</td><td>14.37568</td><td>14.38987</td><td>14.43693</td><td>14.44790</td><td>14.46878</td><td>14.44117</td><td>14.36395</td><td>14.40262</td><td>14.43158</td><td>14.38859</td><td>14.41935</td></tr>\n",
       "\t<tr><th scope=row>2028</th><td>14.41470</td><td>14.42831</td><td>14.44250</td><td>14.48956</td><td>14.50053</td><td>14.52141</td><td>14.49380</td><td>14.41658</td><td>14.45525</td><td>14.48421</td><td>14.44122</td><td>14.47198</td></tr>\n",
       "\t<tr><th scope=row>2029</th><td>14.46733</td><td>14.48094</td><td>14.49513</td><td>14.54219</td><td>14.55316</td><td>14.57404</td><td>14.54643</td><td>        </td><td>        </td><td>        </td><td>        </td><td>        </td></tr>\n",
       "</tbody>\n",
       "</table>\n",
       "</dd>\n",
       "\t<dt>$se</dt>\n",
       "\t\t<dd><table class=\"dataframe\">\n",
       "<caption>A Time Series: 8 × 12</caption>\n",
       "<thead>\n",
       "\t<tr><th></th><th scope=col>Jan</th><th scope=col>Feb</th><th scope=col>Mar</th><th scope=col>Apr</th><th scope=col>May</th><th scope=col>Jun</th><th scope=col>Jul</th><th scope=col>Aug</th><th scope=col>Sep</th><th scope=col>Oct</th><th scope=col>Nov</th><th scope=col>Dec</th></tr>\n",
       "</thead>\n",
       "<tbody>\n",
       "\t<tr><th scope=row>2022</th><td>         </td><td>         </td><td>         </td><td>         </td><td>         </td><td>         </td><td>         </td><td>0.1099684</td><td>0.1165574</td><td>0.1172989</td><td>0.1179973</td><td>0.1186956</td></tr>\n",
       "\t<tr><th scope=row>2023</th><td>0.1193510</td><td>0.1200355</td><td>0.1207161</td><td>0.1213930</td><td>0.1220661</td><td>0.1227355</td><td>0.1234012</td><td>0.1254729</td><td>0.1265247</td><td>0.1272952</td><td>0.1280577</td><td>0.1288250</td></tr>\n",
       "\t<tr><th scope=row>2024</th><td>0.1295718</td><td>0.1303176</td><td>0.1310591</td><td>0.1317965</td><td>0.1325298</td><td>0.1332591</td><td>0.1339844</td><td>0.1374200</td><td>0.1388340</td><td>0.1397424</td><td>0.1406391</td><td>0.1415434</td></tr>\n",
       "\t<tr><th scope=row>2025</th><td>0.1424407</td><td>0.1433153</td><td>0.1441847</td><td>0.1450489</td><td>0.1459080</td><td>0.1467620</td><td>0.1476112</td><td>0.1509258</td><td>0.1524234</td><td>0.1534452</td><td>0.1544548</td><td>0.1554743</td></tr>\n",
       "\t<tr><th scope=row>2026</th><td>0.1564986</td><td>0.1574821</td><td>0.1584595</td><td>0.1594310</td><td>0.1603967</td><td>0.1613565</td><td>0.1623107</td><td>0.1657129</td><td>0.1673215</td><td>0.1684498</td><td>0.1695651</td><td>0.1706922</td></tr>\n",
       "\t<tr><th scope=row>2027</th><td>0.1718335</td><td>0.1729194</td><td>0.1739985</td><td>0.1750712</td><td>0.1761372</td><td>0.1771969</td><td>0.1782502</td><td>0.1816914</td><td>0.1833933</td><td>0.1846193</td><td>0.1858318</td><td>0.1870575</td></tr>\n",
       "\t<tr><th scope=row>2028</th><td>0.1883052</td><td>0.1894857</td><td>0.1906589</td><td>0.1918250</td><td>0.1929840</td><td>0.1941362</td><td>0.1952815</td><td>0.1987557</td><td>0.2005424</td><td>0.2018586</td><td>0.2031610</td><td>0.2044776</td></tr>\n",
       "\t<tr><th scope=row>2029</th><td>0.2058228</td><td>0.2070911</td><td>0.2083517</td><td>0.2096049</td><td>0.2108506</td><td>0.2120890</td><td>0.2133202</td><td>         </td><td>         </td><td>         </td><td>         </td><td>         </td></tr>\n",
       "</tbody>\n",
       "</table>\n",
       "</dd>\n",
       "\t<dt>$pred2</dt>\n",
       "\t\t<dd><table class=\"dataframe\">\n",
       "<caption>A Time Series: 8 × 12</caption>\n",
       "<thead>\n",
       "\t<tr><th></th><th scope=col>Jan</th><th scope=col>Feb</th><th scope=col>Mar</th><th scope=col>Apr</th><th scope=col>May</th><th scope=col>Jun</th><th scope=col>Jul</th><th scope=col>Aug</th><th scope=col>Sep</th><th scope=col>Oct</th><th scope=col>Nov</th><th scope=col>Dec</th></tr>\n",
       "</thead>\n",
       "<tbody>\n",
       "\t<tr><th scope=row>2022</th><td>       </td><td>       </td><td>       </td><td>       </td><td>       </td><td>       </td><td>       </td><td>1346533</td><td>1391510</td><td>1427712</td><td>1363373</td><td>1412164</td></tr>\n",
       "\t<tr><th scope=row>2023</th><td>1396865</td><td>1412653</td><td>1424719</td><td>1502365</td><td>1523786</td><td>1564378</td><td>1511639</td><td>1400777</td><td>1455894</td><td>1499394</td><td>1436975</td><td>1480884</td></tr>\n",
       "\t<tr><th scope=row>2024</th><td>1475399</td><td>1496152</td><td>1518829</td><td>1590578</td><td>1607347</td><td>1639939</td><td>1596870</td><td>1477971</td><td>1536255</td><td>1581285</td><td>1514641</td><td>1562108</td></tr>\n",
       "\t<tr><th scope=row>2025</th><td>1554647</td><td>1575869</td><td>1598187</td><td>1675420</td><td>1694016</td><td>1729977</td><td>1682604</td><td>1557604</td><td>1619007</td><td>1666600</td><td>1596490</td><td>1646335</td></tr>\n",
       "\t<tr><th scope=row>2026</th><td>1638736</td><td>1661209</td><td>1684982</td><td>1766135</td><td>1785591</td><td>1823241</td><td>1773621</td><td>1641814</td><td>1706540</td><td>1756685</td><td>1682765</td><td>1735333</td></tr>\n",
       "\t<tr><th scope=row>2027</th><td>1727282</td><td>1750952</td><td>1775970</td><td>1861549</td><td>1882079</td><td>1921804</td><td>1869453</td><td>1730532</td><td>1798755</td><td>1851613</td><td>1773701</td><td>1829105</td></tr>\n",
       "\t<tr><th scope=row>2028</th><td>1820626</td><td>1845578</td><td>1871955</td><td>1962152</td><td>1983787</td><td>2025653</td><td>1970480</td><td>1824051</td><td>1895961</td><td>1951674</td><td>1869552</td><td>1927951</td></tr>\n",
       "\t<tr><th scope=row>2029</th><td>1919012</td><td>1945312</td><td>1973113</td><td>2068186</td><td>2090991</td><td>2135120</td><td>2076964</td><td>       </td><td>       </td><td>       </td><td>       </td><td>       </td></tr>\n",
       "</tbody>\n",
       "</table>\n",
       "</dd>\n",
       "</dl>\n"
      ],
      "text/latex": [
       "\\begin{description}\n",
       "\\item[\\$pred] A Time Series: 8 × 12\n",
       "\\begin{tabular}{r|llllllllllll}\n",
       "  & Jan & Feb & Mar & Apr & May & Jun & Jul & Aug & Sep & Oct & Nov & Dec\\\\\n",
       "\\hline\n",
       "\t2022 &          &          &          &          &          &          &          & 14.11305 & 14.14591 & 14.17159 & 14.12548 & 14.16064\\\\\n",
       "\t2023 & 14.14975 & 14.16099 & 14.16949 & 14.22256 & 14.23672 & 14.26301 & 14.22871 & 14.15255 & 14.19114 & 14.22058 & 14.17806 & 14.20816\\\\\n",
       "\t2024 & 14.20445 & 14.21842 & 14.23346 & 14.27962 & 14.29011 & 14.31018 & 14.28357 & 14.20619 & 14.24487 & 14.27376 & 14.23070 & 14.26156\\\\\n",
       "\t2025 & 14.25677 & 14.27033 & 14.28439 & 14.33158 & 14.34262 & 14.36363 & 14.33586 & 14.25867 & 14.29733 & 14.32631 & 14.28333 & 14.31407\\\\\n",
       "\t2026 & 14.30945 & 14.32307 & 14.33728 & 14.38431 & 14.39527 & 14.41614 & 14.38854 & 14.31132 & 14.34999 & 14.37895 & 14.33596 & 14.36672\\\\\n",
       "\t2027 & 14.36207 & 14.37568 & 14.38987 & 14.43693 & 14.44790 & 14.46878 & 14.44117 & 14.36395 & 14.40262 & 14.43158 & 14.38859 & 14.41935\\\\\n",
       "\t2028 & 14.41470 & 14.42831 & 14.44250 & 14.48956 & 14.50053 & 14.52141 & 14.49380 & 14.41658 & 14.45525 & 14.48421 & 14.44122 & 14.47198\\\\\n",
       "\t2029 & 14.46733 & 14.48094 & 14.49513 & 14.54219 & 14.55316 & 14.57404 & 14.54643 &          &          &          &          &         \\\\\n",
       "\\end{tabular}\n",
       "\n",
       "\\item[\\$se] A Time Series: 8 × 12\n",
       "\\begin{tabular}{r|llllllllllll}\n",
       "  & Jan & Feb & Mar & Apr & May & Jun & Jul & Aug & Sep & Oct & Nov & Dec\\\\\n",
       "\\hline\n",
       "\t2022 &           &           &           &           &           &           &           & 0.1099684 & 0.1165574 & 0.1172989 & 0.1179973 & 0.1186956\\\\\n",
       "\t2023 & 0.1193510 & 0.1200355 & 0.1207161 & 0.1213930 & 0.1220661 & 0.1227355 & 0.1234012 & 0.1254729 & 0.1265247 & 0.1272952 & 0.1280577 & 0.1288250\\\\\n",
       "\t2024 & 0.1295718 & 0.1303176 & 0.1310591 & 0.1317965 & 0.1325298 & 0.1332591 & 0.1339844 & 0.1374200 & 0.1388340 & 0.1397424 & 0.1406391 & 0.1415434\\\\\n",
       "\t2025 & 0.1424407 & 0.1433153 & 0.1441847 & 0.1450489 & 0.1459080 & 0.1467620 & 0.1476112 & 0.1509258 & 0.1524234 & 0.1534452 & 0.1544548 & 0.1554743\\\\\n",
       "\t2026 & 0.1564986 & 0.1574821 & 0.1584595 & 0.1594310 & 0.1603967 & 0.1613565 & 0.1623107 & 0.1657129 & 0.1673215 & 0.1684498 & 0.1695651 & 0.1706922\\\\\n",
       "\t2027 & 0.1718335 & 0.1729194 & 0.1739985 & 0.1750712 & 0.1761372 & 0.1771969 & 0.1782502 & 0.1816914 & 0.1833933 & 0.1846193 & 0.1858318 & 0.1870575\\\\\n",
       "\t2028 & 0.1883052 & 0.1894857 & 0.1906589 & 0.1918250 & 0.1929840 & 0.1941362 & 0.1952815 & 0.1987557 & 0.2005424 & 0.2018586 & 0.2031610 & 0.2044776\\\\\n",
       "\t2029 & 0.2058228 & 0.2070911 & 0.2083517 & 0.2096049 & 0.2108506 & 0.2120890 & 0.2133202 &           &           &           &           &          \\\\\n",
       "\\end{tabular}\n",
       "\n",
       "\\item[\\$pred2] A Time Series: 8 × 12\n",
       "\\begin{tabular}{r|llllllllllll}\n",
       "  & Jan & Feb & Mar & Apr & May & Jun & Jul & Aug & Sep & Oct & Nov & Dec\\\\\n",
       "\\hline\n",
       "\t2022 &         &         &         &         &         &         &         & 1346533 & 1391510 & 1427712 & 1363373 & 1412164\\\\\n",
       "\t2023 & 1396865 & 1412653 & 1424719 & 1502365 & 1523786 & 1564378 & 1511639 & 1400777 & 1455894 & 1499394 & 1436975 & 1480884\\\\\n",
       "\t2024 & 1475399 & 1496152 & 1518829 & 1590578 & 1607347 & 1639939 & 1596870 & 1477971 & 1536255 & 1581285 & 1514641 & 1562108\\\\\n",
       "\t2025 & 1554647 & 1575869 & 1598187 & 1675420 & 1694016 & 1729977 & 1682604 & 1557604 & 1619007 & 1666600 & 1596490 & 1646335\\\\\n",
       "\t2026 & 1638736 & 1661209 & 1684982 & 1766135 & 1785591 & 1823241 & 1773621 & 1641814 & 1706540 & 1756685 & 1682765 & 1735333\\\\\n",
       "\t2027 & 1727282 & 1750952 & 1775970 & 1861549 & 1882079 & 1921804 & 1869453 & 1730532 & 1798755 & 1851613 & 1773701 & 1829105\\\\\n",
       "\t2028 & 1820626 & 1845578 & 1871955 & 1962152 & 1983787 & 2025653 & 1970480 & 1824051 & 1895961 & 1951674 & 1869552 & 1927951\\\\\n",
       "\t2029 & 1919012 & 1945312 & 1973113 & 2068186 & 2090991 & 2135120 & 2076964 &         &         &         &         &        \\\\\n",
       "\\end{tabular}\n",
       "\n",
       "\\end{description}\n"
      ],
      "text/markdown": [
       "$pred\n",
       ":   \n",
       "A Time Series: 8 × 12\n",
       "\n",
       "| <!--/--> | Jan | Feb | Mar | Apr | May | Jun | Jul | Aug | Sep | Oct | Nov | Dec |\n",
       "|---|---|---|---|---|---|---|---|---|---|---|---|---|\n",
       "| 2022 | <!----> | <!----> | <!----> | <!----> | <!----> | <!----> | <!----> | 14.11305 | 14.14591 | 14.17159 | 14.12548 | 14.16064 |\n",
       "| 2023 | 14.14975 | 14.16099 | 14.16949 | 14.22256 | 14.23672 | 14.26301 | 14.22871 | 14.15255 | 14.19114 | 14.22058 | 14.17806 | 14.20816 |\n",
       "| 2024 | 14.20445 | 14.21842 | 14.23346 | 14.27962 | 14.29011 | 14.31018 | 14.28357 | 14.20619 | 14.24487 | 14.27376 | 14.23070 | 14.26156 |\n",
       "| 2025 | 14.25677 | 14.27033 | 14.28439 | 14.33158 | 14.34262 | 14.36363 | 14.33586 | 14.25867 | 14.29733 | 14.32631 | 14.28333 | 14.31407 |\n",
       "| 2026 | 14.30945 | 14.32307 | 14.33728 | 14.38431 | 14.39527 | 14.41614 | 14.38854 | 14.31132 | 14.34999 | 14.37895 | 14.33596 | 14.36672 |\n",
       "| 2027 | 14.36207 | 14.37568 | 14.38987 | 14.43693 | 14.44790 | 14.46878 | 14.44117 | 14.36395 | 14.40262 | 14.43158 | 14.38859 | 14.41935 |\n",
       "| 2028 | 14.41470 | 14.42831 | 14.44250 | 14.48956 | 14.50053 | 14.52141 | 14.49380 | 14.41658 | 14.45525 | 14.48421 | 14.44122 | 14.47198 |\n",
       "| 2029 | 14.46733 | 14.48094 | 14.49513 | 14.54219 | 14.55316 | 14.57404 | 14.54643 | <!----> | <!----> | <!----> | <!----> | <!----> |\n",
       "\n",
       "\n",
       "$se\n",
       ":   \n",
       "A Time Series: 8 × 12\n",
       "\n",
       "| <!--/--> | Jan | Feb | Mar | Apr | May | Jun | Jul | Aug | Sep | Oct | Nov | Dec |\n",
       "|---|---|---|---|---|---|---|---|---|---|---|---|---|\n",
       "| 2022 | <!----> | <!----> | <!----> | <!----> | <!----> | <!----> | <!----> | 0.1099684 | 0.1165574 | 0.1172989 | 0.1179973 | 0.1186956 |\n",
       "| 2023 | 0.1193510 | 0.1200355 | 0.1207161 | 0.1213930 | 0.1220661 | 0.1227355 | 0.1234012 | 0.1254729 | 0.1265247 | 0.1272952 | 0.1280577 | 0.1288250 |\n",
       "| 2024 | 0.1295718 | 0.1303176 | 0.1310591 | 0.1317965 | 0.1325298 | 0.1332591 | 0.1339844 | 0.1374200 | 0.1388340 | 0.1397424 | 0.1406391 | 0.1415434 |\n",
       "| 2025 | 0.1424407 | 0.1433153 | 0.1441847 | 0.1450489 | 0.1459080 | 0.1467620 | 0.1476112 | 0.1509258 | 0.1524234 | 0.1534452 | 0.1544548 | 0.1554743 |\n",
       "| 2026 | 0.1564986 | 0.1574821 | 0.1584595 | 0.1594310 | 0.1603967 | 0.1613565 | 0.1623107 | 0.1657129 | 0.1673215 | 0.1684498 | 0.1695651 | 0.1706922 |\n",
       "| 2027 | 0.1718335 | 0.1729194 | 0.1739985 | 0.1750712 | 0.1761372 | 0.1771969 | 0.1782502 | 0.1816914 | 0.1833933 | 0.1846193 | 0.1858318 | 0.1870575 |\n",
       "| 2028 | 0.1883052 | 0.1894857 | 0.1906589 | 0.1918250 | 0.1929840 | 0.1941362 | 0.1952815 | 0.1987557 | 0.2005424 | 0.2018586 | 0.2031610 | 0.2044776 |\n",
       "| 2029 | 0.2058228 | 0.2070911 | 0.2083517 | 0.2096049 | 0.2108506 | 0.2120890 | 0.2133202 | <!----> | <!----> | <!----> | <!----> | <!----> |\n",
       "\n",
       "\n",
       "$pred2\n",
       ":   \n",
       "A Time Series: 8 × 12\n",
       "\n",
       "| <!--/--> | Jan | Feb | Mar | Apr | May | Jun | Jul | Aug | Sep | Oct | Nov | Dec |\n",
       "|---|---|---|---|---|---|---|---|---|---|---|---|---|\n",
       "| 2022 | <!----> | <!----> | <!----> | <!----> | <!----> | <!----> | <!----> | 1346533 | 1391510 | 1427712 | 1363373 | 1412164 |\n",
       "| 2023 | 1396865 | 1412653 | 1424719 | 1502365 | 1523786 | 1564378 | 1511639 | 1400777 | 1455894 | 1499394 | 1436975 | 1480884 |\n",
       "| 2024 | 1475399 | 1496152 | 1518829 | 1590578 | 1607347 | 1639939 | 1596870 | 1477971 | 1536255 | 1581285 | 1514641 | 1562108 |\n",
       "| 2025 | 1554647 | 1575869 | 1598187 | 1675420 | 1694016 | 1729977 | 1682604 | 1557604 | 1619007 | 1666600 | 1596490 | 1646335 |\n",
       "| 2026 | 1638736 | 1661209 | 1684982 | 1766135 | 1785591 | 1823241 | 1773621 | 1641814 | 1706540 | 1756685 | 1682765 | 1735333 |\n",
       "| 2027 | 1727282 | 1750952 | 1775970 | 1861549 | 1882079 | 1921804 | 1869453 | 1730532 | 1798755 | 1851613 | 1773701 | 1829105 |\n",
       "| 2028 | 1820626 | 1845578 | 1871955 | 1962152 | 1983787 | 2025653 | 1970480 | 1824051 | 1895961 | 1951674 | 1869552 | 1927951 |\n",
       "| 2029 | 1919012 | 1945312 | 1973113 | 2068186 | 2090991 | 2135120 | 2076964 | <!----> | <!----> | <!----> | <!----> | <!----> |\n",
       "\n",
       "\n",
       "\n",
       "\n"
      ],
      "text/plain": [
       "$pred\n",
       "          Jan      Feb      Mar      Apr      May      Jun      Jul      Aug\n",
       "2022                                                                14.11305\n",
       "2023 14.14975 14.16099 14.16949 14.22256 14.23672 14.26301 14.22871 14.15255\n",
       "2024 14.20445 14.21842 14.23346 14.27962 14.29011 14.31018 14.28357 14.20619\n",
       "2025 14.25677 14.27033 14.28439 14.33158 14.34262 14.36363 14.33586 14.25867\n",
       "2026 14.30945 14.32307 14.33728 14.38431 14.39527 14.41614 14.38854 14.31132\n",
       "2027 14.36207 14.37568 14.38987 14.43693 14.44790 14.46878 14.44117 14.36395\n",
       "2028 14.41470 14.42831 14.44250 14.48956 14.50053 14.52141 14.49380 14.41658\n",
       "2029 14.46733 14.48094 14.49513 14.54219 14.55316 14.57404 14.54643         \n",
       "          Sep      Oct      Nov      Dec\n",
       "2022 14.14591 14.17159 14.12548 14.16064\n",
       "2023 14.19114 14.22058 14.17806 14.20816\n",
       "2024 14.24487 14.27376 14.23070 14.26156\n",
       "2025 14.29733 14.32631 14.28333 14.31407\n",
       "2026 14.34999 14.37895 14.33596 14.36672\n",
       "2027 14.40262 14.43158 14.38859 14.41935\n",
       "2028 14.45525 14.48421 14.44122 14.47198\n",
       "2029                                    \n",
       "\n",
       "$se\n",
       "           Jan       Feb       Mar       Apr       May       Jun       Jul\n",
       "2022                                                                      \n",
       "2023 0.1193510 0.1200355 0.1207161 0.1213930 0.1220661 0.1227355 0.1234012\n",
       "2024 0.1295718 0.1303176 0.1310591 0.1317965 0.1325298 0.1332591 0.1339844\n",
       "2025 0.1424407 0.1433153 0.1441847 0.1450489 0.1459080 0.1467620 0.1476112\n",
       "2026 0.1564986 0.1574821 0.1584595 0.1594310 0.1603967 0.1613565 0.1623107\n",
       "2027 0.1718335 0.1729194 0.1739985 0.1750712 0.1761372 0.1771969 0.1782502\n",
       "2028 0.1883052 0.1894857 0.1906589 0.1918250 0.1929840 0.1941362 0.1952815\n",
       "2029 0.2058228 0.2070911 0.2083517 0.2096049 0.2108506 0.2120890 0.2133202\n",
       "           Aug       Sep       Oct       Nov       Dec\n",
       "2022 0.1099684 0.1165574 0.1172989 0.1179973 0.1186956\n",
       "2023 0.1254729 0.1265247 0.1272952 0.1280577 0.1288250\n",
       "2024 0.1374200 0.1388340 0.1397424 0.1406391 0.1415434\n",
       "2025 0.1509258 0.1524234 0.1534452 0.1544548 0.1554743\n",
       "2026 0.1657129 0.1673215 0.1684498 0.1695651 0.1706922\n",
       "2027 0.1816914 0.1833933 0.1846193 0.1858318 0.1870575\n",
       "2028 0.1987557 0.2005424 0.2018586 0.2031610 0.2044776\n",
       "2029                                                  \n",
       "\n",
       "$pred2\n",
       "         Jan     Feb     Mar     Apr     May     Jun     Jul     Aug     Sep\n",
       "2022                                                         1346533 1391510\n",
       "2023 1396865 1412653 1424719 1502365 1523786 1564378 1511639 1400777 1455894\n",
       "2024 1475399 1496152 1518829 1590578 1607347 1639939 1596870 1477971 1536255\n",
       "2025 1554647 1575869 1598187 1675420 1694016 1729977 1682604 1557604 1619007\n",
       "2026 1638736 1661209 1684982 1766135 1785591 1823241 1773621 1641814 1706540\n",
       "2027 1727282 1750952 1775970 1861549 1882079 1921804 1869453 1730532 1798755\n",
       "2028 1820626 1845578 1871955 1962152 1983787 2025653 1970480 1824051 1895961\n",
       "2029 1919012 1945312 1973113 2068186 2090991 2135120 2076964                \n",
       "         Oct     Nov     Dec\n",
       "2022 1427712 1363373 1412164\n",
       "2023 1499394 1436975 1480884\n",
       "2024 1581285 1514641 1562108\n",
       "2025 1666600 1596490 1646335\n",
       "2026 1756685 1682765 1735333\n",
       "2027 1851613 1773701 1829105\n",
       "2028 1951674 1869552 1927951\n",
       "2029                        \n"
      ]
     },
     "metadata": {},
     "output_type": "display_data"
    },
    {
     "data": {
      "text/html": [
       "1694444.25973397"
      ],
      "text/latex": [
       "1694444.25973397"
      ],
      "text/markdown": [
       "1694444.25973397"
      ],
      "text/plain": [
       "[1] 1694444"
      ]
     },
     "metadata": {},
     "output_type": "display_data"
    },
    {
     "data": {
      "text/html": [
       "196485.172203286"
      ],
      "text/latex": [
       "196485.172203286"
      ],
      "text/markdown": [
       "196485.172203286"
      ],
      "text/plain": [
       "[1] 196485.2"
      ]
     },
     "metadata": {},
     "output_type": "display_data"
    }
   ],
   "source": [
    "install.packages(\"forecast\") \n",
    "library(forecast) \n",
    "\n",
    "\n",
    "#####################################################################\n",
    "# Now let us do some prediction for the next 7 years\n",
    "\n",
    "# Monthly Average Sale Price\n",
    "pred_H_TS <- predict(fit_open, n.ahead = 7*12)\n",
    "\n",
    "pred_H_TS\n",
    "\n",
    "pred_H_TS$pred2 <- 2.71828^(pred_H_TS$pred)\n",
    "\n",
    "pred_H_TS\n",
    "\n",
    "\n",
    "# Calculate mean and standard deviation of the prediction\n",
    "Avg.vF <- mean(pred_H_TS$pred2)\n",
    "Avg.vF\n",
    "\n",
    "StandD <- sd(pred_H_TS$pred2)\n",
    "StandD\n",
    "\n",
    "################################################################################"
   ]
  },
  {
   "cell_type": "code",
   "execution_count": 18,
   "metadata": {},
   "outputs": [
    {
     "data": {
      "image/png": "[encoded data removed]",
      "text/plain": [
       "plot without title"
      ]
     },
     "metadata": {
      "image/png": {
       "height": 420,
       "width": 420
      }
     },
     "output_type": "display_data"
    }
   ],
   "source": [
    "################################################################################\n",
    "\n",
    "ts.plot(H_TS,2.71828^pred_H_TS$pred, log = \"y\", lty = c(1,3))\n",
    "\n",
    "################################################################################"
   ]
  },
  {
   "cell_type": "code",
   "execution_count": 19,
   "metadata": {},
   "outputs": [
    {
     "data": {
      "text/plain": [
       "         Point Forecast   Lo 80   Hi 80   Lo 95   Hi 95\n",
       "Aug 2022        1425471 1283454 1567488 1208274 1642667\n",
       "Sep 2022        1414491 1263704 1565277 1183882 1645099\n",
       "Oct 2022        1414633 1261615 1567650 1180613 1648652\n",
       "Nov 2022        1417841 1263601 1572081 1181951 1653730\n",
       "Dec 2022        1421883 1266643 1577123 1184464 1659302\n",
       "Jan 2023        1426073 1269893 1582252 1187217 1664928\n",
       "Feb 2023        1430351 1273252 1587450 1190089 1670613\n",
       "Mar 2023        1434603 1276593 1592612 1192947 1676258\n",
       "Apr 2023        1438957 1280042 1597871 1195918 1681995\n",
       "May 2023        1443300 1283486 1603113 1198886 1687713\n",
       "Jun 2023        1447663 1286955 1608370 1201882 1693443\n",
       "Jul 2023        1451948 1290351 1613544 1204807 1699088\n",
       "Aug 2023        1456294 1293819 1618768 1207810 1704777\n",
       "Sep 2023        1460623 1297271 1623974 1210798 1710447\n",
       "Oct 2023        1464947 1300722 1629172 1213786 1716108\n",
       "Nov 2023        1469270 1304176 1634365 1216780 1721761\n",
       "Dec 2023        1473593 1307634 1639552 1219780 1727406\n",
       "Jan 2024        1477916 1311096 1644736 1222787 1733045\n",
       "Feb 2024        1482239 1314563 1649914 1225801 1738676\n",
       "Mar 2024        1486561 1318034 1655089 1228821 1744301\n",
       "Apr 2024        1490884 1321510 1660259 1231848 1749920\n",
       "May 2024        1495207 1324989 1665424 1234882 1755532\n",
       "Jun 2024        1499530 1328473 1670586 1237922 1761138\n",
       "Jul 2024        1503852 1331961 1675744 1240968 1766737\n",
       "Aug 2024        1508175 1335453 1680897 1244020 1772331\n",
       "Sep 2024        1512498 1338949 1686047 1247078 1777918\n",
       "Oct 2024        1516821 1342449 1691192 1250142 1783499\n",
       "Nov 2024        1521143 1345953 1696334 1253213 1789074\n",
       "Dec 2024        1525466 1349460 1701472 1256289 1794644\n",
       "Jan 2025        1529789 1352972 1706606 1259370 1800208\n",
       "Feb 2025        1534112 1356487 1711737 1262458 1805766\n",
       "Mar 2025        1538435 1360005 1716864 1265551 1811318\n",
       "Apr 2025        1542757 1363528 1721987 1268649 1816865\n",
       "May 2025        1547080 1367054 1727106 1271753 1822407\n",
       "Jun 2025        1551403 1370583 1732223 1274863 1827943\n",
       "Jul 2025        1555726 1374116 1737335 1277977 1833474\n",
       "Aug 2025        1560048 1377652 1742445 1281097 1838999\n",
       "Sep 2025        1564371 1381192 1747550 1284222 1844520\n",
       "Oct 2025        1568694 1384735 1752653 1287352 1850035\n",
       "Nov 2025        1573017 1388281 1757752 1290488 1855545\n",
       "Dec 2025        1577339 1391830 1762848 1293628 1861051\n",
       "Jan 2026        1581662 1395383 1767941 1296773 1866551\n",
       "Feb 2026        1585985 1398939 1773031 1299923 1872047\n",
       "Mar 2026        1590308 1402498 1778117 1303078 1877538\n",
       "Apr 2026        1594630 1406060 1783201 1306237 1883024\n",
       "May 2026        1598953 1409625 1788281 1309401 1888505\n",
       "Jun 2026        1603276 1413193 1793358 1312570 1893982\n",
       "Jul 2026        1607599 1416765 1798433 1315743 1899454\n",
       "Aug 2026        1611921 1420339 1803504 1318921 1904922\n",
       "Sep 2026        1616244 1423916 1808573 1322103 1910385\n",
       "Oct 2026        1620567 1427496 1813638 1325290 1915844\n",
       "Nov 2026        1624890 1431078 1818701 1328481 1921298\n",
       "Dec 2026        1629212 1434664 1823761 1331676 1926749\n",
       "Jan 2027        1633535 1438252 1828818 1334876 1932195\n",
       "Feb 2027        1637858 1441843 1833872 1338080 1937636\n",
       "Mar 2027        1642181 1445437 1838924 1341287 1943074\n",
       "Apr 2027        1646503 1449034 1843973 1344500 1948507\n",
       "May 2027        1650826 1452633 1849020 1347716 1953937\n",
       "Jun 2027        1655149 1456235 1854063 1350936 1959362\n",
       "Jul 2027        1659472 1459839 1859104 1354160 1964783\n",
       "Aug 2027        1663794 1463446 1864143 1357388 1970201\n",
       "Sep 2027        1668117 1467056 1869179 1360620 1975614\n",
       "Oct 2027        1672440 1470668 1874212 1363856 1981024\n",
       "Nov 2027        1676763 1474282 1879243 1367095 1986430\n",
       "Dec 2027        1681085 1477899 1884272 1370339 1991832\n",
       "Jan 2028        1685408 1481519 1889298 1373586 1997230\n",
       "Feb 2028        1689731 1485141 1894321 1376837 2002625\n",
       "Mar 2028        1694054 1488765 1899343 1380091 2008016\n",
       "Apr 2028        1698377 1492391 1904362 1383350 2013403\n",
       "May 2028        1702699 1496020 1909378 1386611 2018787\n",
       "Jun 2028        1707022 1499652 1914392 1389877 2024167\n",
       "Jul 2028        1711345 1503285 1919404 1393145 2029544\n",
       "Aug 2028        1715668 1506921 1924414 1396418 2034917\n",
       "Sep 2028        1719990 1510559 1929421 1399693 2040287\n",
       "Oct 2028        1724313 1514200 1934426 1402972 2045654\n",
       "Nov 2028        1728636 1517842 1939429 1406255 2051017\n",
       "Dec 2028        1732959 1521487 1944430 1409541 2056376\n",
       "Jan 2029        1737281 1525134 1949429 1412830 2061733\n",
       "Feb 2029        1741604 1528783 1954425 1416122 2067086\n",
       "Mar 2029        1745927 1532434 1959419 1419418 2072436\n",
       "Apr 2029        1750250 1536088 1964412 1422717 2077782\n",
       "May 2029        1754572 1539743 1969402 1426019 2083126\n",
       "Jun 2029        1758895 1543400 1974390 1429324 2088466\n",
       "Jul 2029        1763218 1547060 1979376 1432633 2093803"
      ]
     },
     "metadata": {},
     "output_type": "display_data"
    },
    {
     "data": {
      "image/png": "[encoded data removed]",
      "text/plain": [
       "Plot with title \"Average Monthly Home Sale Price Wards 1 & 2\""
      ]
     },
     "metadata": {
      "image/png": {
       "height": 420,
       "width": 420
      }
     },
     "output_type": "display_data"
    }
   ],
   "source": [
    "################################Using auto.arima################################\n",
    "################################################################################\n",
    "\n",
    "# forecasting model using arima model\n",
    "fit <- auto.arima(H_TS)\n",
    "\n",
    "# Next 84 forecasted values\n",
    "forecast(fit, 84)\n",
    "\n",
    "# plotting the graph with next\n",
    "# 84 monthly forecasted values\n",
    "plot(forecast(fit, 84), xlab =\"Monthly Data\",\n",
    "     ylab =\"Price\",\n",
    "     main =\"Average Monthly Home Sale Price Wards 1 & 2\", col.main =\"darkgreen\")\n",
    "\n",
    "################################################################################"
   ]
  },
  {
   "cell_type": "code",
   "execution_count": null,
   "metadata": {},
   "outputs": [],
   "source": []
  }
 ],
 "metadata": {
  "kernelspec": {
   "display_name": "R",
   "language": "R",
   "name": "ir"
  },
  "language_info": {
   "codemirror_mode": "r",
   "file_extension": ".r",
   "mimetype": "text/x-r-source",
   "name": "R",
   "pygments_lexer": "r",
   "version": "4.2.1"
  }
 },
 "nbformat": 4,
 "nbformat_minor": 4
}
