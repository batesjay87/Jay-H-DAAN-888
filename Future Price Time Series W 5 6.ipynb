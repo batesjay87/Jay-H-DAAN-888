{
 "cells": [
  {
   "cell_type": "markdown",
   "metadata": {},
   "source": [
    "# Future Price Time Series Model Wards 5 & 6"
   ]
  },
  {
   "cell_type": "code",
   "execution_count": 1,
   "metadata": {},
   "outputs": [
    {
     "data": {
      "text/html": [
       "'D:/Penn State/DAAN/DAAN 888 Analytics Design Implementation/Report'"
      ],
      "text/latex": [
       "'D:/Penn State/DAAN/DAAN 888 Analytics Design Implementation/Report'"
      ],
      "text/markdown": [
       "'D:/Penn State/DAAN/DAAN 888 Analytics Design Implementation/Report'"
      ],
      "text/plain": [
       "[1] \"D:/Penn State/DAAN/DAAN 888 Analytics Design Implementation/Report\""
      ]
     },
     "metadata": {},
     "output_type": "display_data"
    },
    {
     "data": {
      "text/html": [
       "<table class=\"dataframe\">\n",
       "<caption>A data.frame: 6 × 44</caption>\n",
       "<thead>\n",
       "\t<tr><th></th><th scope=col>SSL</th><th scope=col>BATHRM</th><th scope=col>HF_BATHRM</th><th scope=col>HEAT</th><th scope=col>HEAT_D</th><th scope=col>AC</th><th scope=col>NUM_UNITS</th><th scope=col>ROOMS</th><th scope=col>BEDRM</th><th scope=col>AYB</th><th scope=col>⋯</th><th scope=col>FIREPLACES</th><th scope=col>USECODE</th><th scope=col>LANDAREA</th><th scope=col>GIS_LAST_MOD_DTTM</th><th scope=col>OBJECTID</th><th scope=col>ASSESSMENT_NBHD</th><th scope=col>WARD</th><th scope=col>LATITUDE</th><th scope=col>LONGITUDE</th><th scope=col>YR_RMDL_CAT_2</th></tr>\n",
       "\t<tr><th></th><th scope=col>&lt;chr&gt;</th><th scope=col>&lt;int&gt;</th><th scope=col>&lt;int&gt;</th><th scope=col>&lt;int&gt;</th><th scope=col>&lt;chr&gt;</th><th scope=col>&lt;chr&gt;</th><th scope=col>&lt;int&gt;</th><th scope=col>&lt;int&gt;</th><th scope=col>&lt;int&gt;</th><th scope=col>&lt;int&gt;</th><th scope=col>⋯</th><th scope=col>&lt;int&gt;</th><th scope=col>&lt;int&gt;</th><th scope=col>&lt;int&gt;</th><th scope=col>&lt;chr&gt;</th><th scope=col>&lt;int&gt;</th><th scope=col>&lt;chr&gt;</th><th scope=col>&lt;chr&gt;</th><th scope=col>&lt;dbl&gt;</th><th scope=col>&lt;dbl&gt;</th><th scope=col>&lt;int&gt;</th></tr>\n",
       "</thead>\n",
       "<tbody>\n",
       "\t<tr><th scope=row>1</th><td>0150    0275</td><td>1</td><td>1</td><td> 7</td><td>Warm Cool    </td><td>Y</td><td>1</td><td>6</td><td>3</td><td>1900</td><td>⋯</td><td>0</td><td>11</td><td>960</td><td>2022/08/31 05:17:11+00</td><td>74407639</td><td>Old City 2</td><td>Ward 1</td><td>38.91745</td><td>-77.04023</td><td>5</td></tr>\n",
       "\t<tr><th scope=row>2</th><td>0150    0276</td><td>1</td><td>0</td><td> 7</td><td>Warm Cool    </td><td>Y</td><td>1</td><td>6</td><td>3</td><td>1900</td><td>⋯</td><td>0</td><td>11</td><td>960</td><td>2022/08/31 05:17:11+00</td><td>74407640</td><td>Old City 2</td><td>Ward 1</td><td>38.91745</td><td>-77.04017</td><td>1</td></tr>\n",
       "\t<tr><th scope=row>3</th><td>0150    0277</td><td>1</td><td>0</td><td>13</td><td>Hot Water Rad</td><td>N</td><td>1</td><td>6</td><td>3</td><td>1900</td><td>⋯</td><td>0</td><td>11</td><td>960</td><td>2022/08/31 05:17:11+00</td><td>74407641</td><td>Old City 2</td><td>Ward 1</td><td>38.91745</td><td>-77.04012</td><td>1</td></tr>\n",
       "\t<tr><th scope=row>4</th><td>0150    0278</td><td>2</td><td>1</td><td> 7</td><td>Warm Cool    </td><td>Y</td><td>1</td><td>6</td><td>2</td><td>1900</td><td>⋯</td><td>1</td><td>11</td><td>960</td><td>2022/08/31 05:17:11+00</td><td>74407642</td><td>Old City 2</td><td>Ward 1</td><td>38.91745</td><td>-77.04006</td><td>5</td></tr>\n",
       "\t<tr><th scope=row>5</th><td>0150    0279</td><td>1</td><td>1</td><td> 7</td><td>Warm Cool    </td><td>Y</td><td>1</td><td>6</td><td>3</td><td>1900</td><td>⋯</td><td>1</td><td>11</td><td>960</td><td>2022/08/31 05:17:11+00</td><td>74407643</td><td>Old City 2</td><td>Ward 1</td><td>38.91745</td><td>-77.04000</td><td>1</td></tr>\n",
       "\t<tr><th scope=row>6</th><td>0150    0280</td><td>1</td><td>1</td><td> 7</td><td>Warm Cool    </td><td>Y</td><td>1</td><td>6</td><td>3</td><td>1910</td><td>⋯</td><td>1</td><td>11</td><td>960</td><td>2022/08/31 05:17:11+00</td><td>74407644</td><td>Old City 2</td><td>Ward 1</td><td>38.91745</td><td>-77.03995</td><td>1</td></tr>\n",
       "</tbody>\n",
       "</table>\n"
      ],
      "text/latex": [
       "A data.frame: 6 × 44\n",
       "\\begin{tabular}{r|lllllllllllllllllllll}\n",
       "  & SSL & BATHRM & HF\\_BATHRM & HEAT & HEAT\\_D & AC & NUM\\_UNITS & ROOMS & BEDRM & AYB & ⋯ & FIREPLACES & USECODE & LANDAREA & GIS\\_LAST\\_MOD\\_DTTM & OBJECTID & ASSESSMENT\\_NBHD & WARD & LATITUDE & LONGITUDE & YR\\_RMDL\\_CAT\\_2\\\\\n",
       "  & <chr> & <int> & <int> & <int> & <chr> & <chr> & <int> & <int> & <int> & <int> & ⋯ & <int> & <int> & <int> & <chr> & <int> & <chr> & <chr> & <dbl> & <dbl> & <int>\\\\\n",
       "\\hline\n",
       "\t1 & 0150    0275 & 1 & 1 &  7 & Warm Cool     & Y & 1 & 6 & 3 & 1900 & ⋯ & 0 & 11 & 960 & 2022/08/31 05:17:11+00 & 74407639 & Old City 2 & Ward 1 & 38.91745 & -77.04023 & 5\\\\\n",
       "\t2 & 0150    0276 & 1 & 0 &  7 & Warm Cool     & Y & 1 & 6 & 3 & 1900 & ⋯ & 0 & 11 & 960 & 2022/08/31 05:17:11+00 & 74407640 & Old City 2 & Ward 1 & 38.91745 & -77.04017 & 1\\\\\n",
       "\t3 & 0150    0277 & 1 & 0 & 13 & Hot Water Rad & N & 1 & 6 & 3 & 1900 & ⋯ & 0 & 11 & 960 & 2022/08/31 05:17:11+00 & 74407641 & Old City 2 & Ward 1 & 38.91745 & -77.04012 & 1\\\\\n",
       "\t4 & 0150    0278 & 2 & 1 &  7 & Warm Cool     & Y & 1 & 6 & 2 & 1900 & ⋯ & 1 & 11 & 960 & 2022/08/31 05:17:11+00 & 74407642 & Old City 2 & Ward 1 & 38.91745 & -77.04006 & 5\\\\\n",
       "\t5 & 0150    0279 & 1 & 1 &  7 & Warm Cool     & Y & 1 & 6 & 3 & 1900 & ⋯ & 1 & 11 & 960 & 2022/08/31 05:17:11+00 & 74407643 & Old City 2 & Ward 1 & 38.91745 & -77.04000 & 1\\\\\n",
       "\t6 & 0150    0280 & 1 & 1 &  7 & Warm Cool     & Y & 1 & 6 & 3 & 1910 & ⋯ & 1 & 11 & 960 & 2022/08/31 05:17:11+00 & 74407644 & Old City 2 & Ward 1 & 38.91745 & -77.03995 & 1\\\\\n",
       "\\end{tabular}\n"
      ],
      "text/markdown": [
       "\n",
       "A data.frame: 6 × 44\n",
       "\n",
       "| <!--/--> | SSL &lt;chr&gt; | BATHRM &lt;int&gt; | HF_BATHRM &lt;int&gt; | HEAT &lt;int&gt; | HEAT_D &lt;chr&gt; | AC &lt;chr&gt; | NUM_UNITS &lt;int&gt; | ROOMS &lt;int&gt; | BEDRM &lt;int&gt; | AYB &lt;int&gt; | ⋯ ⋯ | FIREPLACES &lt;int&gt; | USECODE &lt;int&gt; | LANDAREA &lt;int&gt; | GIS_LAST_MOD_DTTM &lt;chr&gt; | OBJECTID &lt;int&gt; | ASSESSMENT_NBHD &lt;chr&gt; | WARD &lt;chr&gt; | LATITUDE &lt;dbl&gt; | LONGITUDE &lt;dbl&gt; | YR_RMDL_CAT_2 &lt;int&gt; |\n",
       "|---|---|---|---|---|---|---|---|---|---|---|---|---|---|---|---|---|---|---|---|---|---|\n",
       "| 1 | 0150    0275 | 1 | 1 |  7 | Warm Cool     | Y | 1 | 6 | 3 | 1900 | ⋯ | 0 | 11 | 960 | 2022/08/31 05:17:11+00 | 74407639 | Old City 2 | Ward 1 | 38.91745 | -77.04023 | 5 |\n",
       "| 2 | 0150    0276 | 1 | 0 |  7 | Warm Cool     | Y | 1 | 6 | 3 | 1900 | ⋯ | 0 | 11 | 960 | 2022/08/31 05:17:11+00 | 74407640 | Old City 2 | Ward 1 | 38.91745 | -77.04017 | 1 |\n",
       "| 3 | 0150    0277 | 1 | 0 | 13 | Hot Water Rad | N | 1 | 6 | 3 | 1900 | ⋯ | 0 | 11 | 960 | 2022/08/31 05:17:11+00 | 74407641 | Old City 2 | Ward 1 | 38.91745 | -77.04012 | 1 |\n",
       "| 4 | 0150    0278 | 2 | 1 |  7 | Warm Cool     | Y | 1 | 6 | 2 | 1900 | ⋯ | 1 | 11 | 960 | 2022/08/31 05:17:11+00 | 74407642 | Old City 2 | Ward 1 | 38.91745 | -77.04006 | 5 |\n",
       "| 5 | 0150    0279 | 1 | 1 |  7 | Warm Cool     | Y | 1 | 6 | 3 | 1900 | ⋯ | 1 | 11 | 960 | 2022/08/31 05:17:11+00 | 74407643 | Old City 2 | Ward 1 | 38.91745 | -77.04000 | 1 |\n",
       "| 6 | 0150    0280 | 1 | 1 |  7 | Warm Cool     | Y | 1 | 6 | 3 | 1910 | ⋯ | 1 | 11 | 960 | 2022/08/31 05:17:11+00 | 74407644 | Old City 2 | Ward 1 | 38.91745 | -77.03995 | 1 |\n",
       "\n"
      ],
      "text/plain": [
       "  SSL          BATHRM HF_BATHRM HEAT HEAT_D        AC NUM_UNITS ROOMS BEDRM\n",
       "1 0150    0275 1      1          7   Warm Cool     Y  1         6     3    \n",
       "2 0150    0276 1      0          7   Warm Cool     Y  1         6     3    \n",
       "3 0150    0277 1      0         13   Hot Water Rad N  1         6     3    \n",
       "4 0150    0278 2      1          7   Warm Cool     Y  1         6     2    \n",
       "5 0150    0279 1      1          7   Warm Cool     Y  1         6     3    \n",
       "6 0150    0280 1      1          7   Warm Cool     Y  1         6     3    \n",
       "  AYB  ⋯ FIREPLACES USECODE LANDAREA GIS_LAST_MOD_DTTM      OBJECTID\n",
       "1 1900 ⋯ 0          11      960      2022/08/31 05:17:11+00 74407639\n",
       "2 1900 ⋯ 0          11      960      2022/08/31 05:17:11+00 74407640\n",
       "3 1900 ⋯ 0          11      960      2022/08/31 05:17:11+00 74407641\n",
       "4 1900 ⋯ 1          11      960      2022/08/31 05:17:11+00 74407642\n",
       "5 1900 ⋯ 1          11      960      2022/08/31 05:17:11+00 74407643\n",
       "6 1910 ⋯ 1          11      960      2022/08/31 05:17:11+00 74407644\n",
       "  ASSESSMENT_NBHD WARD   LATITUDE LONGITUDE YR_RMDL_CAT_2\n",
       "1 Old City 2      Ward 1 38.91745 -77.04023 5            \n",
       "2 Old City 2      Ward 1 38.91745 -77.04017 1            \n",
       "3 Old City 2      Ward 1 38.91745 -77.04012 1            \n",
       "4 Old City 2      Ward 1 38.91745 -77.04006 5            \n",
       "5 Old City 2      Ward 1 38.91745 -77.04000 1            \n",
       "6 Old City 2      Ward 1 38.91745 -77.03995 1            "
      ]
     },
     "metadata": {},
     "output_type": "display_data"
    },
    {
     "data": {
      "text/html": [
       "<table class=\"dataframe\">\n",
       "<caption>A data.frame: 6 × 44</caption>\n",
       "<thead>\n",
       "\t<tr><th></th><th scope=col>SSL</th><th scope=col>BATHRM</th><th scope=col>HF_BATHRM</th><th scope=col>HEAT</th><th scope=col>HEAT_D</th><th scope=col>AC</th><th scope=col>NUM_UNITS</th><th scope=col>ROOMS</th><th scope=col>BEDRM</th><th scope=col>AYB</th><th scope=col>⋯</th><th scope=col>FIREPLACES</th><th scope=col>USECODE</th><th scope=col>LANDAREA</th><th scope=col>GIS_LAST_MOD_DTTM</th><th scope=col>OBJECTID</th><th scope=col>ASSESSMENT_NBHD</th><th scope=col>WARD</th><th scope=col>LATITUDE</th><th scope=col>LONGITUDE</th><th scope=col>YR_RMDL_CAT_2</th></tr>\n",
       "\t<tr><th></th><th scope=col>&lt;chr&gt;</th><th scope=col>&lt;int&gt;</th><th scope=col>&lt;int&gt;</th><th scope=col>&lt;int&gt;</th><th scope=col>&lt;chr&gt;</th><th scope=col>&lt;chr&gt;</th><th scope=col>&lt;int&gt;</th><th scope=col>&lt;int&gt;</th><th scope=col>&lt;int&gt;</th><th scope=col>&lt;int&gt;</th><th scope=col>⋯</th><th scope=col>&lt;int&gt;</th><th scope=col>&lt;int&gt;</th><th scope=col>&lt;int&gt;</th><th scope=col>&lt;chr&gt;</th><th scope=col>&lt;int&gt;</th><th scope=col>&lt;chr&gt;</th><th scope=col>&lt;chr&gt;</th><th scope=col>&lt;dbl&gt;</th><th scope=col>&lt;dbl&gt;</th><th scope=col>&lt;int&gt;</th></tr>\n",
       "</thead>\n",
       "<tbody>\n",
       "\t<tr><th scope=row>108398</th><td>PAR 01550236</td><td>2</td><td>0</td><td>13</td><td>Hot Water Rad</td><td>N</td><td>1</td><td> 6</td><td>2</td><td>1934</td><td>⋯</td><td>1</td><td>12</td><td>4571</td><td>2022/08/31 05:17:11+00</td><td>74624612</td><td>Woodridge</td><td>Ward 5</td><td>38.92890</td><td>-76.97456</td><td>1</td></tr>\n",
       "\t<tr><th scope=row>108399</th><td>PAR 01550251</td><td>2</td><td>0</td><td> 1</td><td>Forced Air   </td><td>Y</td><td>1</td><td> 6</td><td>3</td><td>1935</td><td>⋯</td><td>0</td><td>12</td><td>3000</td><td>2022/08/31 05:17:11+00</td><td>74624613</td><td>Woodridge</td><td>Ward 5</td><td>38.92700</td><td>-76.97157</td><td>4</td></tr>\n",
       "\t<tr><th scope=row>108400</th><td>PAR 01550252</td><td>1</td><td>0</td><td>13</td><td>Hot Water Rad</td><td>N</td><td>1</td><td> 5</td><td>2</td><td>1935</td><td>⋯</td><td>0</td><td>12</td><td>3000</td><td>2022/08/31 05:17:11+00</td><td>74624614</td><td>Woodridge</td><td>Ward 5</td><td>38.92706</td><td>-76.97145</td><td>1</td></tr>\n",
       "\t<tr><th scope=row>108401</th><td>PAR 01550254</td><td>3</td><td>0</td><td>13</td><td>Hot Water Rad</td><td>N</td><td>1</td><td> 5</td><td>3</td><td>1922</td><td>⋯</td><td>0</td><td>12</td><td>7829</td><td>2022/08/31 05:17:11+00</td><td>74624615</td><td>Woodridge</td><td>Ward 5</td><td>38.92790</td><td>-76.97388</td><td>2</td></tr>\n",
       "\t<tr><th scope=row>108402</th><td>PAR 01550255</td><td>3</td><td>1</td><td> 1</td><td>Forced Air   </td><td>Y</td><td>1</td><td>10</td><td>4</td><td>1925</td><td>⋯</td><td>0</td><td>13</td><td>4001</td><td>2022/08/31 05:17:11+00</td><td>74624616</td><td>Woodridge</td><td>Ward 5</td><td>38.92924</td><td>-76.97320</td><td>4</td></tr>\n",
       "\t<tr><th scope=row>108403</th><td>PAR 01550259</td><td>1</td><td>0</td><td>13</td><td>Hot Water Rad</td><td>N</td><td>1</td><td> 6</td><td>3</td><td>1940</td><td>⋯</td><td>0</td><td>11</td><td>1399</td><td>2022/08/31 05:17:11+00</td><td>74624617</td><td>Woodridge</td><td>Ward 5</td><td>38.92924</td><td>-76.97465</td><td>1</td></tr>\n",
       "</tbody>\n",
       "</table>\n"
      ],
      "text/latex": [
       "A data.frame: 6 × 44\n",
       "\\begin{tabular}{r|lllllllllllllllllllll}\n",
       "  & SSL & BATHRM & HF\\_BATHRM & HEAT & HEAT\\_D & AC & NUM\\_UNITS & ROOMS & BEDRM & AYB & ⋯ & FIREPLACES & USECODE & LANDAREA & GIS\\_LAST\\_MOD\\_DTTM & OBJECTID & ASSESSMENT\\_NBHD & WARD & LATITUDE & LONGITUDE & YR\\_RMDL\\_CAT\\_2\\\\\n",
       "  & <chr> & <int> & <int> & <int> & <chr> & <chr> & <int> & <int> & <int> & <int> & ⋯ & <int> & <int> & <int> & <chr> & <int> & <chr> & <chr> & <dbl> & <dbl> & <int>\\\\\n",
       "\\hline\n",
       "\t108398 & PAR 01550236 & 2 & 0 & 13 & Hot Water Rad & N & 1 &  6 & 2 & 1934 & ⋯ & 1 & 12 & 4571 & 2022/08/31 05:17:11+00 & 74624612 & Woodridge & Ward 5 & 38.92890 & -76.97456 & 1\\\\\n",
       "\t108399 & PAR 01550251 & 2 & 0 &  1 & Forced Air    & Y & 1 &  6 & 3 & 1935 & ⋯ & 0 & 12 & 3000 & 2022/08/31 05:17:11+00 & 74624613 & Woodridge & Ward 5 & 38.92700 & -76.97157 & 4\\\\\n",
       "\t108400 & PAR 01550252 & 1 & 0 & 13 & Hot Water Rad & N & 1 &  5 & 2 & 1935 & ⋯ & 0 & 12 & 3000 & 2022/08/31 05:17:11+00 & 74624614 & Woodridge & Ward 5 & 38.92706 & -76.97145 & 1\\\\\n",
       "\t108401 & PAR 01550254 & 3 & 0 & 13 & Hot Water Rad & N & 1 &  5 & 3 & 1922 & ⋯ & 0 & 12 & 7829 & 2022/08/31 05:17:11+00 & 74624615 & Woodridge & Ward 5 & 38.92790 & -76.97388 & 2\\\\\n",
       "\t108402 & PAR 01550255 & 3 & 1 &  1 & Forced Air    & Y & 1 & 10 & 4 & 1925 & ⋯ & 0 & 13 & 4001 & 2022/08/31 05:17:11+00 & 74624616 & Woodridge & Ward 5 & 38.92924 & -76.97320 & 4\\\\\n",
       "\t108403 & PAR 01550259 & 1 & 0 & 13 & Hot Water Rad & N & 1 &  6 & 3 & 1940 & ⋯ & 0 & 11 & 1399 & 2022/08/31 05:17:11+00 & 74624617 & Woodridge & Ward 5 & 38.92924 & -76.97465 & 1\\\\\n",
       "\\end{tabular}\n"
      ],
      "text/markdown": [
       "\n",
       "A data.frame: 6 × 44\n",
       "\n",
       "| <!--/--> | SSL &lt;chr&gt; | BATHRM &lt;int&gt; | HF_BATHRM &lt;int&gt; | HEAT &lt;int&gt; | HEAT_D &lt;chr&gt; | AC &lt;chr&gt; | NUM_UNITS &lt;int&gt; | ROOMS &lt;int&gt; | BEDRM &lt;int&gt; | AYB &lt;int&gt; | ⋯ ⋯ | FIREPLACES &lt;int&gt; | USECODE &lt;int&gt; | LANDAREA &lt;int&gt; | GIS_LAST_MOD_DTTM &lt;chr&gt; | OBJECTID &lt;int&gt; | ASSESSMENT_NBHD &lt;chr&gt; | WARD &lt;chr&gt; | LATITUDE &lt;dbl&gt; | LONGITUDE &lt;dbl&gt; | YR_RMDL_CAT_2 &lt;int&gt; |\n",
       "|---|---|---|---|---|---|---|---|---|---|---|---|---|---|---|---|---|---|---|---|---|---|\n",
       "| 108398 | PAR 01550236 | 2 | 0 | 13 | Hot Water Rad | N | 1 |  6 | 2 | 1934 | ⋯ | 1 | 12 | 4571 | 2022/08/31 05:17:11+00 | 74624612 | Woodridge | Ward 5 | 38.92890 | -76.97456 | 1 |\n",
       "| 108399 | PAR 01550251 | 2 | 0 |  1 | Forced Air    | Y | 1 |  6 | 3 | 1935 | ⋯ | 0 | 12 | 3000 | 2022/08/31 05:17:11+00 | 74624613 | Woodridge | Ward 5 | 38.92700 | -76.97157 | 4 |\n",
       "| 108400 | PAR 01550252 | 1 | 0 | 13 | Hot Water Rad | N | 1 |  5 | 2 | 1935 | ⋯ | 0 | 12 | 3000 | 2022/08/31 05:17:11+00 | 74624614 | Woodridge | Ward 5 | 38.92706 | -76.97145 | 1 |\n",
       "| 108401 | PAR 01550254 | 3 | 0 | 13 | Hot Water Rad | N | 1 |  5 | 3 | 1922 | ⋯ | 0 | 12 | 7829 | 2022/08/31 05:17:11+00 | 74624615 | Woodridge | Ward 5 | 38.92790 | -76.97388 | 2 |\n",
       "| 108402 | PAR 01550255 | 3 | 1 |  1 | Forced Air    | Y | 1 | 10 | 4 | 1925 | ⋯ | 0 | 13 | 4001 | 2022/08/31 05:17:11+00 | 74624616 | Woodridge | Ward 5 | 38.92924 | -76.97320 | 4 |\n",
       "| 108403 | PAR 01550259 | 1 | 0 | 13 | Hot Water Rad | N | 1 |  6 | 3 | 1940 | ⋯ | 0 | 11 | 1399 | 2022/08/31 05:17:11+00 | 74624617 | Woodridge | Ward 5 | 38.92924 | -76.97465 | 1 |\n",
       "\n"
      ],
      "text/plain": [
       "       SSL          BATHRM HF_BATHRM HEAT HEAT_D        AC NUM_UNITS ROOMS\n",
       "108398 PAR 01550236 2      0         13   Hot Water Rad N  1          6   \n",
       "108399 PAR 01550251 2      0          1   Forced Air    Y  1          6   \n",
       "108400 PAR 01550252 1      0         13   Hot Water Rad N  1          5   \n",
       "108401 PAR 01550254 3      0         13   Hot Water Rad N  1          5   \n",
       "108402 PAR 01550255 3      1          1   Forced Air    Y  1         10   \n",
       "108403 PAR 01550259 1      0         13   Hot Water Rad N  1          6   \n",
       "       BEDRM AYB  ⋯ FIREPLACES USECODE LANDAREA GIS_LAST_MOD_DTTM      OBJECTID\n",
       "108398 2     1934 ⋯ 1          12      4571     2022/08/31 05:17:11+00 74624612\n",
       "108399 3     1935 ⋯ 0          12      3000     2022/08/31 05:17:11+00 74624613\n",
       "108400 2     1935 ⋯ 0          12      3000     2022/08/31 05:17:11+00 74624614\n",
       "108401 3     1922 ⋯ 0          12      7829     2022/08/31 05:17:11+00 74624615\n",
       "108402 4     1925 ⋯ 0          13      4001     2022/08/31 05:17:11+00 74624616\n",
       "108403 3     1940 ⋯ 0          11      1399     2022/08/31 05:17:11+00 74624617\n",
       "       ASSESSMENT_NBHD WARD   LATITUDE LONGITUDE YR_RMDL_CAT_2\n",
       "108398 Woodridge       Ward 5 38.92890 -76.97456 1            \n",
       "108399 Woodridge       Ward 5 38.92700 -76.97157 4            \n",
       "108400 Woodridge       Ward 5 38.92706 -76.97145 1            \n",
       "108401 Woodridge       Ward 5 38.92790 -76.97388 2            \n",
       "108402 Woodridge       Ward 5 38.92924 -76.97320 4            \n",
       "108403 Woodridge       Ward 5 38.92924 -76.97465 1            "
      ]
     },
     "metadata": {},
     "output_type": "display_data"
    },
    {
     "data": {
      "text/plain": [
       "     SSL                BATHRM         HF_BATHRM            HEAT      \n",
       " Length:108403      Min.   : 0.000   Min.   : 0.0000   Min.   : 0.00  \n",
       " Class :character   1st Qu.: 1.000   1st Qu.: 0.0000   1st Qu.: 1.00  \n",
       " Mode  :character   Median : 2.000   Median : 1.0000   Median : 7.00  \n",
       "                    Mean   : 2.124   Mean   : 0.6298   Mean   : 7.27  \n",
       "                    3rd Qu.: 3.000   3rd Qu.: 1.0000   3rd Qu.:13.00  \n",
       "                    Max.   :30.000   Max.   :12.0000   Max.   :13.00  \n",
       "                    NA's   :1371     NA's   :1371      NA's   :1371   \n",
       "    HEAT_D               AC              NUM_UNITS          ROOMS        \n",
       " Length:108403      Length:108403      Min.   : 0.000   Min.   :  0.000  \n",
       " Class :character   Class :character   1st Qu.: 1.000   1st Qu.:  6.000  \n",
       " Mode  :character   Mode  :character   Median : 1.000   Median :  7.000  \n",
       "                                       Mean   : 1.196   Mean   :  7.397  \n",
       "                                       3rd Qu.: 1.000   3rd Qu.:  8.000  \n",
       "                                       Max.   :12.000   Max.   :101.000  \n",
       "                                       NA's   :1371     NA's   :1443     \n",
       "     BEDRM             AYB          YR_RMDL           EYB      \n",
       " Min.   : 0.000   Min.   :   0   Min.   :  202   Min.   :   0  \n",
       " 1st Qu.: 3.000   1st Qu.:1915   1st Qu.: 2000   1st Qu.:1960  \n",
       " Median : 3.000   Median :1930   Median : 2008   Median :1968  \n",
       " Mean   : 3.422   Mean   :1932   Mean   : 2006   Mean   :1946  \n",
       " 3rd Qu.: 4.000   3rd Qu.:1948   3rd Qu.: 2015   3rd Qu.:1975  \n",
       " Max.   :24.000   Max.   :2023   Max.   :20212   Max.   :2022  \n",
       " NA's   :1388     NA's   :21     NA's   :53877                 \n",
       "    STORIES          SALEDATE             PRICE           QUALIFIED        \n",
       " Min.   :  0.000   Length:108403      Min.   :       0   Length:108403     \n",
       " 1st Qu.:  2.000   Class :character   1st Qu.:       0   Class :character  \n",
       " Median :  2.000   Mode  :character   Median :  294000   Mode  :character  \n",
       " Mean   :  2.084                      Mean   :  465255                     \n",
       " 3rd Qu.:  2.000                      3rd Qu.:  715000                     \n",
       " Max.   :275.000                      Max.   :25100000                     \n",
       " NA's   :1459                         NA's   :14181                        \n",
       "    SALE_NUM           GBA           BLDG_NUM         STYLE       \n",
       " Min.   : 1.000   Min.   :    0   Min.   :1.000   Min.   : 0.000  \n",
       " 1st Qu.: 1.000   1st Qu.: 1188   1st Qu.:1.000   1st Qu.: 4.000  \n",
       " Median : 1.000   Median : 1488   Median :1.000   Median : 4.000  \n",
       " Mean   : 2.148   Mean   : 1710   Mean   :1.001   Mean   : 4.356  \n",
       " 3rd Qu.: 3.000   3rd Qu.: 1980   3rd Qu.:1.000   3rd Qu.: 4.000  \n",
       " Max.   :17.000   Max.   :45384   Max.   :5.000   Max.   :99.000  \n",
       "                                                  NA's   :1372    \n",
       "   STYLE_D              STRUCT         STRUCT_D             GRADE       \n",
       " Length:108403      Min.   : 0.000   Length:108403      Min.   : 0.000  \n",
       " Class :character   1st Qu.: 1.000   Class :character   1st Qu.: 3.000  \n",
       " Mode  :character   Median : 7.000   Mode  :character   Median : 4.000  \n",
       "                    Mean   : 5.013                      Mean   : 4.285  \n",
       "                    3rd Qu.: 7.000                      3rd Qu.: 5.000  \n",
       "                    Max.   :13.000                      Max.   :12.000  \n",
       "                    NA's   :1371                        NA's   :1371    \n",
       "   GRADE_D              CNDTN         CNDTN_D             EXTWALL     \n",
       " Length:108403      Min.   :0.000   Length:108403      Min.   : 0.00  \n",
       " Class :character   1st Qu.:3.000   Class :character   1st Qu.:14.00  \n",
       " Mode  :character   Median :4.000   Mode  :character   Median :14.00  \n",
       "                    Mean   :3.624                      Mean   :13.37  \n",
       "                    3rd Qu.:4.000                      3rd Qu.:14.00  \n",
       "                    Max.   :6.000                      Max.   :24.00  \n",
       "                    NA's   :1371                       NA's   :1371   \n",
       "  EXTWALL_D              ROOF           ROOF_D             INTWALL      \n",
       " Length:108403      Min.   : 0.000   Length:108403      Min.   : 0.000  \n",
       " Class :character   1st Qu.: 1.000   Class :character   1st Qu.: 6.000  \n",
       " Mode  :character   Median : 2.000   Mode  :character   Median : 6.000  \n",
       "                    Mean   : 3.966                      Mean   : 6.161  \n",
       "                    3rd Qu.: 6.000                      3rd Qu.: 6.000  \n",
       "                    Max.   :15.000                      Max.   :11.000  \n",
       "                    NA's   :1371                        NA's   :1371    \n",
       "  INTWALL_D            KITCHENS        FIREPLACES         USECODE      \n",
       " Length:108403      Min.   : 0.000   Min.   : 0.0000   Min.   :  0.00  \n",
       " Class :character   1st Qu.: 1.000   1st Qu.: 0.0000   1st Qu.: 11.00  \n",
       " Mode  :character   Median : 1.000   Median : 0.0000   Median : 12.00  \n",
       "                    Mean   : 1.226   Mean   : 0.6268   Mean   : 13.15  \n",
       "                    3rd Qu.: 1.000   3rd Qu.: 1.0000   3rd Qu.: 13.00  \n",
       "                    Max.   :44.000   Max.   :13.0000   Max.   :995.00  \n",
       "                    NA's   :1372     NA's   :1374                      \n",
       "    LANDAREA      GIS_LAST_MOD_DTTM     OBJECTID        ASSESSMENT_NBHD   \n",
       " Min.   :     0   Length:108403      Min.   :74407639   Length:108403     \n",
       " 1st Qu.:  1572   Class :character   1st Qu.:74543316   Class :character  \n",
       " Median :  2327   Mode  :character   Median :74570416   Mode  :character  \n",
       " Mean   :  3389                      Mean   :74570406                     \n",
       " 3rd Qu.:  4160                      3rd Qu.:74597516                     \n",
       " Max.   :942632                      Max.   :74624617                     \n",
       "                                                                          \n",
       "     WARD              LATITUDE       LONGITUDE      YR_RMDL_CAT_2  \n",
       " Length:108403      Min.   :38.82   Min.   :-77.11   Min.   :1.000  \n",
       " Class :character   1st Qu.:38.89   1st Qu.:-77.04   1st Qu.:1.000  \n",
       " Mode  :character   Median :38.92   Median :-77.01   Median :2.000  \n",
       "                    Mean   :38.92   Mean   :-77.01   Mean   :2.533  \n",
       "                    3rd Qu.:38.94   3rd Qu.:-76.98   3rd Qu.:4.000  \n",
       "                    Max.   :39.00   Max.   :-76.91   Max.   :7.000  \n",
       "                    NA's   :2103    NA's   :2103                    "
      ]
     },
     "metadata": {},
     "output_type": "display_data"
    },
    {
     "name": "stdout",
     "output_type": "stream",
     "text": [
      "'data.frame':\t108403 obs. of  44 variables:\n",
      " $ SSL              : chr  \"0150    0275\" \"0150    0276\" \"0150    0277\" \"0150    0278\" ...\n",
      " $ BATHRM           : int  1 1 1 2 1 1 2 1 1 1 ...\n",
      " $ HF_BATHRM        : int  1 0 0 1 1 1 1 1 1 1 ...\n",
      " $ HEAT             : int  7 7 13 7 7 7 7 7 7 7 ...\n",
      " $ HEAT_D           : chr  \"Warm Cool\" \"Warm Cool\" \"Hot Water Rad\" \"Warm Cool\" ...\n",
      " $ AC               : chr  \"Y\" \"Y\" \"N\" \"Y\" ...\n",
      " $ NUM_UNITS        : int  1 1 1 1 1 1 1 1 1 1 ...\n",
      " $ ROOMS            : int  6 6 6 6 6 6 6 6 6 6 ...\n",
      " $ BEDRM            : int  3 3 3 2 3 3 2 3 3 3 ...\n",
      " $ AYB              : int  1900 1900 1900 1900 1900 1910 1900 1900 1900 1900 ...\n",
      " $ YR_RMDL          : int  2004 NA NA 2016 NA NA 2001 NA 2003 2015 ...\n",
      " $ EYB              : int  1971 1961 1961 1971 1961 1968 1971 1971 1971 1961 ...\n",
      " $ STORIES          : num  2 2 2 2 2 2 2 2 2 2 ...\n",
      " $ SALEDATE         : chr  \"2013/07/22 00:00:00+00\" \"1900/01/01 00:00:00+00\" \"1996/02/12 00:00:00+00\" \"2022/04/06 00:00:00+00\" ...\n",
      " $ PRICE            : int  755000 NA 118000 1110000 0 251000 930388 606500 0 162000 ...\n",
      " $ QUALIFIED        : chr  \"Q\" \"U\" \"U\" \"Q\" ...\n",
      " $ SALE_NUM         : int  1 1 1 5 3 1 5 1 3 1 ...\n",
      " $ GBA              : int  1286 1286 1286 1304 1286 1286 1286 1286 1344 1286 ...\n",
      " $ BLDG_NUM         : int  1 1 1 1 1 1 1 1 1 1 ...\n",
      " $ STYLE            : int  4 4 4 4 4 4 4 4 4 4 ...\n",
      " $ STYLE_D          : chr  \"2 Story\" \"2 Story\" \"2 Story\" \"2 Story\" ...\n",
      " $ STRUCT           : int  7 7 7 7 7 7 7 7 7 7 ...\n",
      " $ STRUCT_D         : chr  \"Row Inside\" \"Row Inside\" \"Row Inside\" \"Row Inside\" ...\n",
      " $ GRADE            : int  4 4 4 4 4 4 4 4 4 4 ...\n",
      " $ GRADE_D          : chr  \"Above Average\" \"Above Average\" \"Above Average\" \"Above Average\" ...\n",
      " $ CNDTN            : int  4 3 3 4 3 4 3 3 4 3 ...\n",
      " $ CNDTN_D          : chr  \"Good\" \"Average\" \"Average\" \"Good\" ...\n",
      " $ EXTWALL          : int  14 14 14 14 14 14 14 14 14 14 ...\n",
      " $ EXTWALL_D        : chr  \"Common Brick\" \"Common Brick\" \"Common Brick\" \"Common Brick\" ...\n",
      " $ ROOF             : int  2 2 2 2 2 2 2 2 2 2 ...\n",
      " $ ROOF_D           : chr  \"Built Up\" \"Built Up\" \"Built Up\" \"Built Up\" ...\n",
      " $ INTWALL          : int  6 6 6 6 6 6 6 6 6 6 ...\n",
      " $ INTWALL_D        : chr  \"Hardwood\" \"Hardwood\" \"Hardwood\" \"Hardwood\" ...\n",
      " $ KITCHENS         : int  1 1 1 1 1 1 1 1 1 1 ...\n",
      " $ FIREPLACES       : int  0 0 0 1 1 1 1 1 0 1 ...\n",
      " $ USECODE          : int  11 11 11 11 11 11 11 11 11 11 ...\n",
      " $ LANDAREA         : int  960 960 960 960 960 960 960 960 960 960 ...\n",
      " $ GIS_LAST_MOD_DTTM: chr  \"2022/08/31 05:17:11+00\" \"2022/08/31 05:17:11+00\" \"2022/08/31 05:17:11+00\" \"2022/08/31 05:17:11+00\" ...\n",
      " $ OBJECTID         : int  74407639 74407640 74407641 74407642 74407643 74407644 74407645 74407646 74407647 74407648 ...\n",
      " $ ASSESSMENT_NBHD  : chr  \"Old City 2\" \"Old City 2\" \"Old City 2\" \"Old City 2\" ...\n",
      " $ WARD             : chr  \"Ward 1\" \"Ward 1\" \"Ward 1\" \"Ward 1\" ...\n",
      " $ LATITUDE         : num  38.9 38.9 38.9 38.9 38.9 ...\n",
      " $ LONGITUDE        : num  -77 -77 -77 -77 -77 ...\n",
      " $ YR_RMDL_CAT_2    : int  5 1 1 5 1 1 5 1 5 5 ...\n"
     ]
    }
   ],
   "source": [
    "# ResidentialSalesWithLocation_CSV\n",
    "\n",
    "setwd(\"D:/Penn State/DAAN/DAAN 888 Analytics Design Implementation/Report\")  #set my working directory\n",
    "getwd()\n",
    "\n",
    "HOUSE.df <- read.csv(\"ResidentialSalesWithLocation_CSV.csv\", header = TRUE)  #import data into R\n",
    "\n",
    "######################### Verify the data ##########################\n",
    "head(HOUSE.df)   #Verify the first five rows of the dataframe\n",
    "\n",
    "tail(HOUSE.df)   #Verify the last five rows of the dataframe\n",
    "\n",
    "summary(HOUSE.df)   #To check the variables and counts\n",
    "\n",
    "str(HOUSE.df)   #To check the data structure of the loaded dataset\n",
    "####################################################################"
   ]
  },
  {
   "cell_type": "code",
   "execution_count": 2,
   "metadata": {},
   "outputs": [
    {
     "data": {
      "text/html": [
       "<table class=\"dataframe\">\n",
       "<caption>A data.frame: 6 × 3</caption>\n",
       "<thead>\n",
       "\t<tr><th></th><th scope=col>SALEDATE</th><th scope=col>PRICE</th><th scope=col>WARD</th></tr>\n",
       "\t<tr><th></th><th scope=col>&lt;chr&gt;</th><th scope=col>&lt;int&gt;</th><th scope=col>&lt;chr&gt;</th></tr>\n",
       "</thead>\n",
       "<tbody>\n",
       "\t<tr><th scope=row>1</th><td>2013/07/22 00:00:00+00</td><td> 755000</td><td>Ward 1</td></tr>\n",
       "\t<tr><th scope=row>2</th><td>1900/01/01 00:00:00+00</td><td>     NA</td><td>Ward 1</td></tr>\n",
       "\t<tr><th scope=row>3</th><td>1996/02/12 00:00:00+00</td><td> 118000</td><td>Ward 1</td></tr>\n",
       "\t<tr><th scope=row>4</th><td>2022/04/06 00:00:00+00</td><td>1110000</td><td>Ward 1</td></tr>\n",
       "\t<tr><th scope=row>5</th><td>2017/03/24 00:00:00+00</td><td>      0</td><td>Ward 1</td></tr>\n",
       "\t<tr><th scope=row>6</th><td>2000/06/30 00:00:00+00</td><td> 251000</td><td>Ward 1</td></tr>\n",
       "</tbody>\n",
       "</table>\n"
      ],
      "text/latex": [
       "A data.frame: 6 × 3\n",
       "\\begin{tabular}{r|lll}\n",
       "  & SALEDATE & PRICE & WARD\\\\\n",
       "  & <chr> & <int> & <chr>\\\\\n",
       "\\hline\n",
       "\t1 & 2013/07/22 00:00:00+00 &  755000 & Ward 1\\\\\n",
       "\t2 & 1900/01/01 00:00:00+00 &      NA & Ward 1\\\\\n",
       "\t3 & 1996/02/12 00:00:00+00 &  118000 & Ward 1\\\\\n",
       "\t4 & 2022/04/06 00:00:00+00 & 1110000 & Ward 1\\\\\n",
       "\t5 & 2017/03/24 00:00:00+00 &       0 & Ward 1\\\\\n",
       "\t6 & 2000/06/30 00:00:00+00 &  251000 & Ward 1\\\\\n",
       "\\end{tabular}\n"
      ],
      "text/markdown": [
       "\n",
       "A data.frame: 6 × 3\n",
       "\n",
       "| <!--/--> | SALEDATE &lt;chr&gt; | PRICE &lt;int&gt; | WARD &lt;chr&gt; |\n",
       "|---|---|---|---|\n",
       "| 1 | 2013/07/22 00:00:00+00 |  755000 | Ward 1 |\n",
       "| 2 | 1900/01/01 00:00:00+00 |      NA | Ward 1 |\n",
       "| 3 | 1996/02/12 00:00:00+00 |  118000 | Ward 1 |\n",
       "| 4 | 2022/04/06 00:00:00+00 | 1110000 | Ward 1 |\n",
       "| 5 | 2017/03/24 00:00:00+00 |       0 | Ward 1 |\n",
       "| 6 | 2000/06/30 00:00:00+00 |  251000 | Ward 1 |\n",
       "\n"
      ],
      "text/plain": [
       "  SALEDATE               PRICE   WARD  \n",
       "1 2013/07/22 00:00:00+00  755000 Ward 1\n",
       "2 1900/01/01 00:00:00+00      NA Ward 1\n",
       "3 1996/02/12 00:00:00+00  118000 Ward 1\n",
       "4 2022/04/06 00:00:00+00 1110000 Ward 1\n",
       "5 2017/03/24 00:00:00+00       0 Ward 1\n",
       "6 2000/06/30 00:00:00+00  251000 Ward 1"
      ]
     },
     "metadata": {},
     "output_type": "display_data"
    },
    {
     "data": {
      "text/plain": [
       "   SALEDATE             PRICE              WARD          \n",
       " Length:108403      Min.   :       0   Length:108403     \n",
       " Class :character   1st Qu.:       0   Class :character  \n",
       " Mode  :character   Median :  294000   Mode  :character  \n",
       "                    Mean   :  465255                     \n",
       "                    3rd Qu.:  715000                     \n",
       "                    Max.   :25100000                     \n",
       "                    NA's   :14181                        "
      ]
     },
     "metadata": {},
     "output_type": "display_data"
    },
    {
     "name": "stdout",
     "output_type": "stream",
     "text": [
      "'data.frame':\t108403 obs. of  3 variables:\n",
      " $ SALEDATE: chr  \"2013/07/22 00:00:00+00\" \"1900/01/01 00:00:00+00\" \"1996/02/12 00:00:00+00\" \"2022/04/06 00:00:00+00\" ...\n",
      " $ PRICE   : int  755000 NA 118000 1110000 0 251000 930388 606500 0 162000 ...\n",
      " $ WARD    : chr  \"Ward 1\" \"Ward 1\" \"Ward 1\" \"Ward 1\" ...\n"
     ]
    }
   ],
   "source": [
    "################################################################################\n",
    "# Create a new data set for the total population\n",
    "# Three features, \"SALEDATE\", \"PRICE\", and \"Ward\"\n",
    "\n",
    "HOUSE_TS1.df <- subset(HOUSE.df, select = c(SALEDATE, PRICE, WARD))\n",
    "\n",
    "head(HOUSE_TS1.df)     #Verify the first five rows of the dataframe\n",
    "\n",
    "summary(HOUSE_TS1.df)     #To check the variables and counts\n",
    "\n",
    "str(HOUSE_TS1.df)   #To check the data structure of the loaded dataset\n",
    "################################################################################"
   ]
  },
  {
   "cell_type": "code",
   "execution_count": 3,
   "metadata": {},
   "outputs": [
    {
     "data": {
      "text/plain": [
       "   SALEDATE             PRICE              WARD          \n",
       " Length:62008       Min.   :       1   Length:62008      \n",
       " Class :character   1st Qu.:  300000   Class :character  \n",
       " Mode  :character   Median :  557985   Mode  :character  \n",
       "                    Mean   :  706961                     \n",
       "                    3rd Qu.:  894000                     \n",
       "                    Max.   :25100000                     "
      ]
     },
     "metadata": {},
     "output_type": "display_data"
    }
   ],
   "source": [
    "################################################################################\n",
    "# Remove 0s and NA's from the \"PRICE\" variable\n",
    "HOUSE_TS1.df[HOUSE_TS1.df==0] <- NA     # Set all 0s to NA\n",
    "\n",
    "HOUSE_TS1.df <- na.omit(HOUSE_TS1.df)     # Removes all NA's from the dataframe\n",
    "\n",
    "summary(HOUSE_TS1.df)     #To check the variables and counts\n",
    "################################################################################"
   ]
  },
  {
   "cell_type": "code",
   "execution_count": 4,
   "metadata": {},
   "outputs": [
    {
     "name": "stderr",
     "output_type": "stream",
     "text": [
      "Installing package into 'C:/Users/bates/AppData/Local/R/win-library/4.2'\n",
      "(as 'lib' is unspecified)\n",
      "\n"
     ]
    },
    {
     "name": "stdout",
     "output_type": "stream",
     "text": [
      "package 'ggplot2' successfully unpacked and MD5 sums checked\n",
      "\n",
      "The downloaded binary packages are in\n",
      "\tC:\\Users\\bates\\AppData\\Local\\Temp\\RtmpgtyEcZ\\downloaded_packages\n"
     ]
    },
    {
     "name": "stderr",
     "output_type": "stream",
     "text": [
      "Installing package into 'C:/Users/bates/AppData/Local/R/win-library/4.2'\n",
      "(as 'lib' is unspecified)\n",
      "\n"
     ]
    },
    {
     "name": "stdout",
     "output_type": "stream",
     "text": [
      "package 'dplyr' successfully unpacked and MD5 sums checked\n"
     ]
    },
    {
     "name": "stderr",
     "output_type": "stream",
     "text": [
      "Warning message:\n",
      "\"cannot remove prior installation of package 'dplyr'\"\n",
      "Warning message in file.copy(savedcopy, lib, recursive = TRUE):\n",
      "\"problem copying C:\\Users\\bates\\AppData\\Local\\R\\win-library\\4.2\\00LOCK\\dplyr\\libs\\x64\\dplyr.dll to C:\\Users\\bates\\AppData\\Local\\R\\win-library\\4.2\\dplyr\\libs\\x64\\dplyr.dll: Permission denied\"\n",
      "Warning message:\n",
      "\"restored 'dplyr'\"\n"
     ]
    },
    {
     "name": "stdout",
     "output_type": "stream",
     "text": [
      "\n",
      "The downloaded binary packages are in\n",
      "\tC:\\Users\\bates\\AppData\\Local\\Temp\\RtmpgtyEcZ\\downloaded_packages\n"
     ]
    },
    {
     "name": "stderr",
     "output_type": "stream",
     "text": [
      "\n",
      "Attaching package: 'dplyr'\n",
      "\n",
      "\n",
      "The following objects are masked from 'package:stats':\n",
      "\n",
      "    filter, lag\n",
      "\n",
      "\n",
      "The following objects are masked from 'package:base':\n",
      "\n",
      "    intersect, setdiff, setequal, union\n",
      "\n",
      "\n"
     ]
    },
    {
     "data": {
      "image/png": "[encoded data removed]",
      "text/plain": [
       "plot without title"
      ]
     },
     "metadata": {
      "image/png": {
       "height": 420,
       "width": 420
      }
     },
     "output_type": "display_data"
    }
   ],
   "source": [
    "################################################################################\n",
    "# Boxplot of the \"PRICE\" variable\n",
    "# Install packages\n",
    "install.packages(\"ggplot2\")\n",
    "install.packages(\"dplyr\")\n",
    "library(\"ggplot2\")\n",
    "library(\"dplyr\")\n",
    "\n",
    "# Create boxplot of the \"PRICE\" variable \n",
    "ggplot(data = HOUSE_TS1.df, aes(x = \"\", y = PRICE)) + \n",
    "  geom_boxplot() +\n",
    "  coord_cartesian(ylim = c(0, 26000000)) # Set the y axis scale\n",
    "################################################################################"
   ]
  },
  {
   "cell_type": "code",
   "execution_count": 5,
   "metadata": {},
   "outputs": [
    {
     "name": "stderr",
     "output_type": "stream",
     "text": [
      "Installing package into 'C:/Users/bates/AppData/Local/R/win-library/4.2'\n",
      "(as 'lib' is unspecified)\n",
      "\n"
     ]
    },
    {
     "name": "stdout",
     "output_type": "stream",
     "text": [
      "package 'lubridate' successfully unpacked and MD5 sums checked\n"
     ]
    },
    {
     "name": "stderr",
     "output_type": "stream",
     "text": [
      "Warning message:\n",
      "\"cannot remove prior installation of package 'lubridate'\"\n",
      "Warning message in file.copy(savedcopy, lib, recursive = TRUE):\n",
      "\"problem copying C:\\Users\\bates\\AppData\\Local\\R\\win-library\\4.2\\00LOCK\\lubridate\\libs\\x64\\lubridate.dll to C:\\Users\\bates\\AppData\\Local\\R\\win-library\\4.2\\lubridate\\libs\\x64\\lubridate.dll: Permission denied\"\n",
      "Warning message:\n",
      "\"restored 'lubridate'\"\n"
     ]
    },
    {
     "name": "stdout",
     "output_type": "stream",
     "text": [
      "\n",
      "The downloaded binary packages are in\n",
      "\tC:\\Users\\bates\\AppData\\Local\\Temp\\RtmpgtyEcZ\\downloaded_packages\n"
     ]
    },
    {
     "name": "stderr",
     "output_type": "stream",
     "text": [
      "Installing package into 'C:/Users/bates/AppData/Local/R/win-library/4.2'\n",
      "(as 'lib' is unspecified)\n",
      "\n"
     ]
    },
    {
     "name": "stdout",
     "output_type": "stream",
     "text": [
      "package 'linelist' successfully unpacked and MD5 sums checked\n",
      "\n",
      "The downloaded binary packages are in\n",
      "\tC:\\Users\\bates\\AppData\\Local\\Temp\\RtmpgtyEcZ\\downloaded_packages\n"
     ]
    },
    {
     "name": "stderr",
     "output_type": "stream",
     "text": [
      "Installing package into 'C:/Users/bates/AppData/Local/R/win-library/4.2'\n",
      "(as 'lib' is unspecified)\n",
      "\n"
     ]
    },
    {
     "name": "stdout",
     "output_type": "stream",
     "text": [
      "package 'aweek' successfully unpacked and MD5 sums checked\n",
      "\n",
      "The downloaded binary packages are in\n",
      "\tC:\\Users\\bates\\AppData\\Local\\Temp\\RtmpgtyEcZ\\downloaded_packages\n"
     ]
    },
    {
     "name": "stderr",
     "output_type": "stream",
     "text": [
      "Installing package into 'C:/Users/bates/AppData/Local/R/win-library/4.2'\n",
      "(as 'lib' is unspecified)\n",
      "\n"
     ]
    },
    {
     "name": "stdout",
     "output_type": "stream",
     "text": [
      "package 'zoo' successfully unpacked and MD5 sums checked\n"
     ]
    },
    {
     "name": "stderr",
     "output_type": "stream",
     "text": [
      "Warning message:\n",
      "\"cannot remove prior installation of package 'zoo'\"\n",
      "Warning message in file.copy(savedcopy, lib, recursive = TRUE):\n",
      "\"problem copying C:\\Users\\bates\\AppData\\Local\\R\\win-library\\4.2\\00LOCK\\zoo\\libs\\x64\\zoo.dll to C:\\Users\\bates\\AppData\\Local\\R\\win-library\\4.2\\zoo\\libs\\x64\\zoo.dll: Permission denied\"\n",
      "Warning message:\n",
      "\"restored 'zoo'\"\n"
     ]
    },
    {
     "name": "stdout",
     "output_type": "stream",
     "text": [
      "\n",
      "The downloaded binary packages are in\n",
      "\tC:\\Users\\bates\\AppData\\Local\\Temp\\RtmpgtyEcZ\\downloaded_packages\n"
     ]
    },
    {
     "name": "stderr",
     "output_type": "stream",
     "text": [
      "Installing package into 'C:/Users/bates/AppData/Local/R/win-library/4.2'\n",
      "(as 'lib' is unspecified)\n",
      "\n"
     ]
    },
    {
     "name": "stdout",
     "output_type": "stream",
     "text": [
      "package 'tidyverse' successfully unpacked and MD5 sums checked\n",
      "\n",
      "The downloaded binary packages are in\n",
      "\tC:\\Users\\bates\\AppData\\Local\\Temp\\RtmpgtyEcZ\\downloaded_packages\n"
     ]
    },
    {
     "name": "stderr",
     "output_type": "stream",
     "text": [
      "Installing package into 'C:/Users/bates/AppData/Local/R/win-library/4.2'\n",
      "(as 'lib' is unspecified)\n",
      "\n"
     ]
    },
    {
     "name": "stdout",
     "output_type": "stream",
     "text": [
      "package 'rio' successfully unpacked and MD5 sums checked\n",
      "\n",
      "The downloaded binary packages are in\n",
      "\tC:\\Users\\bates\\AppData\\Local\\Temp\\RtmpgtyEcZ\\downloaded_packages\n"
     ]
    },
    {
     "name": "stderr",
     "output_type": "stream",
     "text": [
      "\n",
      "Attaching package: 'lubridate'\n",
      "\n",
      "\n",
      "The following objects are masked from 'package:base':\n",
      "\n",
      "    date, intersect, setdiff, union\n",
      "\n",
      "\n",
      "\n",
      "Attaching package: 'zoo'\n",
      "\n",
      "\n",
      "The following objects are masked from 'package:base':\n",
      "\n",
      "    as.Date, as.Date.numeric\n",
      "\n",
      "\n",
      "── \u001b[1mAttaching packages\u001b[22m ─────────────────────────────────────────────────────────────────────────────── tidyverse 1.3.2 ──\n",
      "\u001b[32m✔\u001b[39m \u001b[34mtibble \u001b[39m 3.1.8     \u001b[32m✔\u001b[39m \u001b[34mpurrr  \u001b[39m 0.3.4\n",
      "\u001b[32m✔\u001b[39m \u001b[34mtidyr  \u001b[39m 1.2.1     \u001b[32m✔\u001b[39m \u001b[34mstringr\u001b[39m 1.4.1\n",
      "\u001b[32m✔\u001b[39m \u001b[34mreadr  \u001b[39m 2.1.2     \u001b[32m✔\u001b[39m \u001b[34mforcats\u001b[39m 0.5.2\n",
      "── \u001b[1mConflicts\u001b[22m ────────────────────────────────────────────────────────────────────────────────── tidyverse_conflicts() ──\n",
      "\u001b[31m✖\u001b[39m \u001b[34mlubridate\u001b[39m::\u001b[32mas.difftime()\u001b[39m masks \u001b[34mbase\u001b[39m::as.difftime()\n",
      "\u001b[31m✖\u001b[39m \u001b[34mlubridate\u001b[39m::\u001b[32mdate()\u001b[39m        masks \u001b[34mbase\u001b[39m::date()\n",
      "\u001b[31m✖\u001b[39m \u001b[34mdplyr\u001b[39m::\u001b[32mfilter()\u001b[39m          masks \u001b[34mstats\u001b[39m::filter()\n",
      "\u001b[31m✖\u001b[39m \u001b[34mlubridate\u001b[39m::\u001b[32mintersect()\u001b[39m   masks \u001b[34mbase\u001b[39m::intersect()\n",
      "\u001b[31m✖\u001b[39m \u001b[34mdplyr\u001b[39m::\u001b[32mlag()\u001b[39m             masks \u001b[34mstats\u001b[39m::lag()\n",
      "\u001b[31m✖\u001b[39m \u001b[34mlubridate\u001b[39m::\u001b[32msetdiff()\u001b[39m     masks \u001b[34mbase\u001b[39m::setdiff()\n",
      "\u001b[31m✖\u001b[39m \u001b[34mlubridate\u001b[39m::\u001b[32munion()\u001b[39m       masks \u001b[34mbase\u001b[39m::union()\n"
     ]
    }
   ],
   "source": [
    "################################################################################\n",
    "# Install packages to work with dates\n",
    "install.packages(\"lubridate\")  # general package for handling and converting dates)\n",
    "install.packages(\"linelist\")   # has function to \"guess\" messy dates\n",
    "install.packages(\"aweek\")      # another option for converting dates to weeks, and weeks to dates\n",
    "install.packages(\"zoo\")        # additional date/time functions\n",
    "install.packages(\"tidyverse\")  # data management and visualization  \n",
    "install.packages(\"rio\")        # data import/export\n",
    "library(\"lubridate\")  \n",
    "library(\"linelist\")   \n",
    "library(\"aweek\")      \n",
    "library(\"zoo\")        \n",
    "library(\"tidyverse\")    \n",
    "library(\"rio\")   \n",
    "################################################################################"
   ]
  },
  {
   "cell_type": "code",
   "execution_count": 6,
   "metadata": {},
   "outputs": [
    {
     "data": {
      "text/html": [
       "'character'"
      ],
      "text/latex": [
       "'character'"
      ],
      "text/markdown": [
       "'character'"
      ],
      "text/plain": [
       "[1] \"character\""
      ]
     },
     "metadata": {},
     "output_type": "display_data"
    },
    {
     "data": {
      "text/html": [
       "<table class=\"dataframe\">\n",
       "<caption>A data.frame: 6 × 3</caption>\n",
       "<thead>\n",
       "\t<tr><th></th><th scope=col>SALEDATE</th><th scope=col>PRICE</th><th scope=col>WARD</th></tr>\n",
       "\t<tr><th></th><th scope=col>&lt;date&gt;</th><th scope=col>&lt;int&gt;</th><th scope=col>&lt;chr&gt;</th></tr>\n",
       "</thead>\n",
       "<tbody>\n",
       "\t<tr><th scope=row>1</th><td>2013-07-22</td><td> 755000</td><td>Ward 1</td></tr>\n",
       "\t<tr><th scope=row>3</th><td>1996-02-12</td><td> 118000</td><td>Ward 1</td></tr>\n",
       "\t<tr><th scope=row>4</th><td>2022-04-06</td><td>1110000</td><td>Ward 1</td></tr>\n",
       "\t<tr><th scope=row>6</th><td>2000-06-30</td><td> 251000</td><td>Ward 1</td></tr>\n",
       "\t<tr><th scope=row>7</th><td>2021-11-22</td><td> 930388</td><td>Ward 1</td></tr>\n",
       "\t<tr><th scope=row>8</th><td>2006-02-06</td><td> 606500</td><td>Ward 1</td></tr>\n",
       "</tbody>\n",
       "</table>\n"
      ],
      "text/latex": [
       "A data.frame: 6 × 3\n",
       "\\begin{tabular}{r|lll}\n",
       "  & SALEDATE & PRICE & WARD\\\\\n",
       "  & <date> & <int> & <chr>\\\\\n",
       "\\hline\n",
       "\t1 & 2013-07-22 &  755000 & Ward 1\\\\\n",
       "\t3 & 1996-02-12 &  118000 & Ward 1\\\\\n",
       "\t4 & 2022-04-06 & 1110000 & Ward 1\\\\\n",
       "\t6 & 2000-06-30 &  251000 & Ward 1\\\\\n",
       "\t7 & 2021-11-22 &  930388 & Ward 1\\\\\n",
       "\t8 & 2006-02-06 &  606500 & Ward 1\\\\\n",
       "\\end{tabular}\n"
      ],
      "text/markdown": [
       "\n",
       "A data.frame: 6 × 3\n",
       "\n",
       "| <!--/--> | SALEDATE &lt;date&gt; | PRICE &lt;int&gt; | WARD &lt;chr&gt; |\n",
       "|---|---|---|---|\n",
       "| 1 | 2013-07-22 |  755000 | Ward 1 |\n",
       "| 3 | 1996-02-12 |  118000 | Ward 1 |\n",
       "| 4 | 2022-04-06 | 1110000 | Ward 1 |\n",
       "| 6 | 2000-06-30 |  251000 | Ward 1 |\n",
       "| 7 | 2021-11-22 |  930388 | Ward 1 |\n",
       "| 8 | 2006-02-06 |  606500 | Ward 1 |\n",
       "\n"
      ],
      "text/plain": [
       "  SALEDATE   PRICE   WARD  \n",
       "1 2013-07-22  755000 Ward 1\n",
       "3 1996-02-12  118000 Ward 1\n",
       "4 2022-04-06 1110000 Ward 1\n",
       "6 2000-06-30  251000 Ward 1\n",
       "7 2021-11-22  930388 Ward 1\n",
       "8 2006-02-06  606500 Ward 1"
      ]
     },
     "metadata": {},
     "output_type": "display_data"
    },
    {
     "data": {
      "text/html": [
       "'Date'"
      ],
      "text/latex": [
       "'Date'"
      ],
      "text/markdown": [
       "'Date'"
      ],
      "text/plain": [
       "[1] \"Date\""
      ]
     },
     "metadata": {},
     "output_type": "display_data"
    },
    {
     "data": {
      "text/html": [
       "<table class=\"dataframe\">\n",
       "<caption>A data.frame: 6 × 3</caption>\n",
       "<thead>\n",
       "\t<tr><th></th><th scope=col>SALEDATE</th><th scope=col>PRICE</th><th scope=col>WARD</th></tr>\n",
       "\t<tr><th></th><th scope=col>&lt;chr&gt;</th><th scope=col>&lt;int&gt;</th><th scope=col>&lt;chr&gt;</th></tr>\n",
       "</thead>\n",
       "<tbody>\n",
       "\t<tr><th scope=row>1</th><td>2013-07</td><td> 755000</td><td>Ward 1</td></tr>\n",
       "\t<tr><th scope=row>3</th><td>1996-02</td><td> 118000</td><td>Ward 1</td></tr>\n",
       "\t<tr><th scope=row>4</th><td>2022-04</td><td>1110000</td><td>Ward 1</td></tr>\n",
       "\t<tr><th scope=row>6</th><td>2000-06</td><td> 251000</td><td>Ward 1</td></tr>\n",
       "\t<tr><th scope=row>7</th><td>2021-11</td><td> 930388</td><td>Ward 1</td></tr>\n",
       "\t<tr><th scope=row>8</th><td>2006-02</td><td> 606500</td><td>Ward 1</td></tr>\n",
       "</tbody>\n",
       "</table>\n"
      ],
      "text/latex": [
       "A data.frame: 6 × 3\n",
       "\\begin{tabular}{r|lll}\n",
       "  & SALEDATE & PRICE & WARD\\\\\n",
       "  & <chr> & <int> & <chr>\\\\\n",
       "\\hline\n",
       "\t1 & 2013-07 &  755000 & Ward 1\\\\\n",
       "\t3 & 1996-02 &  118000 & Ward 1\\\\\n",
       "\t4 & 2022-04 & 1110000 & Ward 1\\\\\n",
       "\t6 & 2000-06 &  251000 & Ward 1\\\\\n",
       "\t7 & 2021-11 &  930388 & Ward 1\\\\\n",
       "\t8 & 2006-02 &  606500 & Ward 1\\\\\n",
       "\\end{tabular}\n"
      ],
      "text/markdown": [
       "\n",
       "A data.frame: 6 × 3\n",
       "\n",
       "| <!--/--> | SALEDATE &lt;chr&gt; | PRICE &lt;int&gt; | WARD &lt;chr&gt; |\n",
       "|---|---|---|---|\n",
       "| 1 | 2013-07 |  755000 | Ward 1 |\n",
       "| 3 | 1996-02 |  118000 | Ward 1 |\n",
       "| 4 | 2022-04 | 1110000 | Ward 1 |\n",
       "| 6 | 2000-06 |  251000 | Ward 1 |\n",
       "| 7 | 2021-11 |  930388 | Ward 1 |\n",
       "| 8 | 2006-02 |  606500 | Ward 1 |\n",
       "\n"
      ],
      "text/plain": [
       "  SALEDATE PRICE   WARD  \n",
       "1 2013-07   755000 Ward 1\n",
       "3 1996-02   118000 Ward 1\n",
       "4 2022-04  1110000 Ward 1\n",
       "6 2000-06   251000 Ward 1\n",
       "7 2021-11   930388 Ward 1\n",
       "8 2006-02   606500 Ward 1"
      ]
     },
     "metadata": {},
     "output_type": "display_data"
    }
   ],
   "source": [
    "################################################################################\n",
    "# Clean up Date attribute\n",
    "class(HOUSE_TS1.df$SALEDATE)   #Check the class of the \"SALEDATE\" field\n",
    "\n",
    "# Because \"SALEDATE\" is class 'character', we must convert it to class 'Date'\n",
    "# Tell R how to identify the date parts of the \"SALEDATE\" field\n",
    "# The format = argument specifies the date components and \n",
    "# drops the time component in the \"SALEDATE'\n",
    "HOUSE_TS1.df$SALEDATE <- as.Date(HOUSE_TS1.df$SALEDATE, format = \"%Y/%m/%d\")\n",
    "\n",
    "head(HOUSE_TS1.df)   # Verify the time component was dropped\n",
    "\n",
    "class(HOUSE_TS1.df$SALEDATE)   # Check the class of the \"SALEDATE\" field \n",
    "\n",
    "# Drop the 'day' from the date\n",
    "HOUSE_TS2.df <- HOUSE_TS1.df\n",
    "HOUSE_TS2.df$SALEDATE <- format(HOUSE_TS2.df$SALEDATE, format = \"%Y-%m\")\n",
    "\n",
    "head(HOUSE_TS2.df)   # Verify the day component was dropped\n",
    "################################################################################"
   ]
  },
  {
   "cell_type": "code",
   "execution_count": 7,
   "metadata": {},
   "outputs": [
    {
     "data": {
      "text/plain": [
       "   SALEDATE             PRICE              WARD          \n",
       " Length:17687       Min.   :       1   Length:17687      \n",
       " Class :character   1st Qu.:  340000   Class :character  \n",
       " Mode  :character   Median :  580000   Mode  :character  \n",
       "                    Mean   :  627596                     \n",
       "                    3rd Qu.:  825000                     \n",
       "                    Max.   :13350000                     "
      ]
     },
     "metadata": {},
     "output_type": "display_data"
    },
    {
     "name": "stdout",
     "output_type": "stream",
     "text": [
      "'data.frame':\t17687 obs. of  3 variables:\n",
      " $ SALEDATE: chr  \"2009-05\" \"2001-09\" \"2021-12\" \"2001-08\" ...\n",
      " $ PRICE   : int  750000 349675 1000000 400440 729900 880000 350172 425000 920000 1035000 ...\n",
      " $ WARD    : chr  \"Ward 6\" \"Ward 6\" \"Ward 6\" \"Ward 6\" ...\n"
     ]
    },
    {
     "data": {
      "text/html": [
       "<table class=\"dataframe\">\n",
       "<caption>A data.frame: 6 × 2</caption>\n",
       "<thead>\n",
       "\t<tr><th></th><th scope=col>SALEDATE</th><th scope=col>PRICE</th></tr>\n",
       "\t<tr><th></th><th scope=col>&lt;chr&gt;</th><th scope=col>&lt;int&gt;</th></tr>\n",
       "</thead>\n",
       "<tbody>\n",
       "\t<tr><th scope=row>3317</th><td>2009-05</td><td> 750000</td></tr>\n",
       "\t<tr><th scope=row>3320</th><td>2001-09</td><td> 349675</td></tr>\n",
       "\t<tr><th scope=row>3324</th><td>2021-12</td><td>1000000</td></tr>\n",
       "\t<tr><th scope=row>3325</th><td>2001-08</td><td> 400440</td></tr>\n",
       "\t<tr><th scope=row>3326</th><td>2013-11</td><td> 729900</td></tr>\n",
       "\t<tr><th scope=row>3327</th><td>2018-08</td><td> 880000</td></tr>\n",
       "</tbody>\n",
       "</table>\n"
      ],
      "text/latex": [
       "A data.frame: 6 × 2\n",
       "\\begin{tabular}{r|ll}\n",
       "  & SALEDATE & PRICE\\\\\n",
       "  & <chr> & <int>\\\\\n",
       "\\hline\n",
       "\t3317 & 2009-05 &  750000\\\\\n",
       "\t3320 & 2001-09 &  349675\\\\\n",
       "\t3324 & 2021-12 & 1000000\\\\\n",
       "\t3325 & 2001-08 &  400440\\\\\n",
       "\t3326 & 2013-11 &  729900\\\\\n",
       "\t3327 & 2018-08 &  880000\\\\\n",
       "\\end{tabular}\n"
      ],
      "text/markdown": [
       "\n",
       "A data.frame: 6 × 2\n",
       "\n",
       "| <!--/--> | SALEDATE &lt;chr&gt; | PRICE &lt;int&gt; |\n",
       "|---|---|---|\n",
       "| 3317 | 2009-05 |  750000 |\n",
       "| 3320 | 2001-09 |  349675 |\n",
       "| 3324 | 2021-12 | 1000000 |\n",
       "| 3325 | 2001-08 |  400440 |\n",
       "| 3326 | 2013-11 |  729900 |\n",
       "| 3327 | 2018-08 |  880000 |\n",
       "\n"
      ],
      "text/plain": [
       "     SALEDATE PRICE  \n",
       "3317 2009-05   750000\n",
       "3320 2001-09   349675\n",
       "3324 2021-12  1000000\n",
       "3325 2001-08   400440\n",
       "3326 2013-11   729900\n",
       "3327 2018-08   880000"
      ]
     },
     "metadata": {},
     "output_type": "display_data"
    }
   ],
   "source": [
    "################################################################################\n",
    "# Filter database for only Wards 5 & 6\n",
    "\n",
    "HOUSE_TS2.df <- subset(HOUSE_TS2.df, WARD %in% c(\"Ward 5\", \"Ward 6\"))\n",
    "\n",
    "summary(HOUSE_TS2.df)     #To check the variables and counts\n",
    "\n",
    "str(HOUSE_TS2.df)   #To check the data structure\n",
    "\n",
    "# Create a new data set for the Ward 1 &2 population\n",
    "# Drop the Ward attribute and keep two features, \"SALEDATE\", \"PRICE\"\n",
    "\n",
    "HOUSE_TS2.df <- subset(HOUSE_TS2.df, select = c(SALEDATE, PRICE))\n",
    "\n",
    "head(HOUSE_TS2.df)     #Verify the first five rows of the dataframe\n",
    "\n",
    "################################################################################"
   ]
  },
  {
   "cell_type": "code",
   "execution_count": 8,
   "metadata": {},
   "outputs": [
    {
     "data": {
      "text/plain": [
       "   SALEDATE             PRICE         \n",
       " Length:17687       Min.   :       1  \n",
       " Class :character   1st Qu.:  340000  \n",
       " Mode  :character   Median :  580000  \n",
       "                    Mean   :  627596  \n",
       "                    3rd Qu.:  825000  \n",
       "                    Max.   :13350000  "
      ]
     },
     "metadata": {},
     "output_type": "display_data"
    },
    {
     "data": {
      "text/plain": [
       "   SALEDATE             PRICE        \n",
       " Length:372         Min.   :  82325  \n",
       " Class :character   1st Qu.: 180352  \n",
       " Mode  :character   Median : 445432  \n",
       "                    Mean   : 447061  \n",
       "                    3rd Qu.: 629630  \n",
       "                    Max.   :1239480  "
      ]
     },
     "metadata": {},
     "output_type": "display_data"
    },
    {
     "data": {
      "text/html": [
       "<table class=\"dataframe\">\n",
       "<caption>A data.frame: 20 × 2</caption>\n",
       "<thead>\n",
       "\t<tr><th></th><th scope=col>SALEDATE</th><th scope=col>PRICE</th></tr>\n",
       "\t<tr><th></th><th scope=col>&lt;chr&gt;</th><th scope=col>&lt;dbl&gt;</th></tr>\n",
       "</thead>\n",
       "<tbody>\n",
       "\t<tr><th scope=row>1</th><td>1988-08</td><td>322000.00</td></tr>\n",
       "\t<tr><th scope=row>2</th><td>1990-09</td><td>110000.00</td></tr>\n",
       "\t<tr><th scope=row>3</th><td>1990-12</td><td>127000.00</td></tr>\n",
       "\t<tr><th scope=row>4</th><td>1991-03</td><td>189900.00</td></tr>\n",
       "\t<tr><th scope=row>5</th><td>1991-11</td><td>175000.00</td></tr>\n",
       "\t<tr><th scope=row>6</th><td>1992-01</td><td>148217.11</td></tr>\n",
       "\t<tr><th scope=row>7</th><td>1992-02</td><td>241666.67</td></tr>\n",
       "\t<tr><th scope=row>8</th><td>1992-03</td><td>170377.62</td></tr>\n",
       "\t<tr><th scope=row>9</th><td>1992-04</td><td>133277.27</td></tr>\n",
       "\t<tr><th scope=row>10</th><td>1992-05</td><td>138792.86</td></tr>\n",
       "\t<tr><th scope=row>11</th><td>1992-06</td><td>146105.56</td></tr>\n",
       "\t<tr><th scope=row>12</th><td>1992-07</td><td> 82325.33</td></tr>\n",
       "\t<tr><th scope=row>13</th><td>1992-08</td><td>120650.00</td></tr>\n",
       "\t<tr><th scope=row>14</th><td>1992-09</td><td>123827.78</td></tr>\n",
       "\t<tr><th scope=row>15</th><td>1992-10</td><td>139187.50</td></tr>\n",
       "\t<tr><th scope=row>16</th><td>1992-11</td><td>135516.67</td></tr>\n",
       "\t<tr><th scope=row>17</th><td>1992-12</td><td>162008.54</td></tr>\n",
       "\t<tr><th scope=row>18</th><td>1993-01</td><td>155777.78</td></tr>\n",
       "\t<tr><th scope=row>19</th><td>1993-02</td><td>142166.67</td></tr>\n",
       "\t<tr><th scope=row>20</th><td>1993-03</td><td>105921.43</td></tr>\n",
       "</tbody>\n",
       "</table>\n"
      ],
      "text/latex": [
       "A data.frame: 20 × 2\n",
       "\\begin{tabular}{r|ll}\n",
       "  & SALEDATE & PRICE\\\\\n",
       "  & <chr> & <dbl>\\\\\n",
       "\\hline\n",
       "\t1 & 1988-08 & 322000.00\\\\\n",
       "\t2 & 1990-09 & 110000.00\\\\\n",
       "\t3 & 1990-12 & 127000.00\\\\\n",
       "\t4 & 1991-03 & 189900.00\\\\\n",
       "\t5 & 1991-11 & 175000.00\\\\\n",
       "\t6 & 1992-01 & 148217.11\\\\\n",
       "\t7 & 1992-02 & 241666.67\\\\\n",
       "\t8 & 1992-03 & 170377.62\\\\\n",
       "\t9 & 1992-04 & 133277.27\\\\\n",
       "\t10 & 1992-05 & 138792.86\\\\\n",
       "\t11 & 1992-06 & 146105.56\\\\\n",
       "\t12 & 1992-07 &  82325.33\\\\\n",
       "\t13 & 1992-08 & 120650.00\\\\\n",
       "\t14 & 1992-09 & 123827.78\\\\\n",
       "\t15 & 1992-10 & 139187.50\\\\\n",
       "\t16 & 1992-11 & 135516.67\\\\\n",
       "\t17 & 1992-12 & 162008.54\\\\\n",
       "\t18 & 1993-01 & 155777.78\\\\\n",
       "\t19 & 1993-02 & 142166.67\\\\\n",
       "\t20 & 1993-03 & 105921.43\\\\\n",
       "\\end{tabular}\n"
      ],
      "text/markdown": [
       "\n",
       "A data.frame: 20 × 2\n",
       "\n",
       "| <!--/--> | SALEDATE &lt;chr&gt; | PRICE &lt;dbl&gt; |\n",
       "|---|---|---|\n",
       "| 1 | 1988-08 | 322000.00 |\n",
       "| 2 | 1990-09 | 110000.00 |\n",
       "| 3 | 1990-12 | 127000.00 |\n",
       "| 4 | 1991-03 | 189900.00 |\n",
       "| 5 | 1991-11 | 175000.00 |\n",
       "| 6 | 1992-01 | 148217.11 |\n",
       "| 7 | 1992-02 | 241666.67 |\n",
       "| 8 | 1992-03 | 170377.62 |\n",
       "| 9 | 1992-04 | 133277.27 |\n",
       "| 10 | 1992-05 | 138792.86 |\n",
       "| 11 | 1992-06 | 146105.56 |\n",
       "| 12 | 1992-07 |  82325.33 |\n",
       "| 13 | 1992-08 | 120650.00 |\n",
       "| 14 | 1992-09 | 123827.78 |\n",
       "| 15 | 1992-10 | 139187.50 |\n",
       "| 16 | 1992-11 | 135516.67 |\n",
       "| 17 | 1992-12 | 162008.54 |\n",
       "| 18 | 1993-01 | 155777.78 |\n",
       "| 19 | 1993-02 | 142166.67 |\n",
       "| 20 | 1993-03 | 105921.43 |\n",
       "\n"
      ],
      "text/plain": [
       "   SALEDATE PRICE    \n",
       "1  1988-08  322000.00\n",
       "2  1990-09  110000.00\n",
       "3  1990-12  127000.00\n",
       "4  1991-03  189900.00\n",
       "5  1991-11  175000.00\n",
       "6  1992-01  148217.11\n",
       "7  1992-02  241666.67\n",
       "8  1992-03  170377.62\n",
       "9  1992-04  133277.27\n",
       "10 1992-05  138792.86\n",
       "11 1992-06  146105.56\n",
       "12 1992-07   82325.33\n",
       "13 1992-08  120650.00\n",
       "14 1992-09  123827.78\n",
       "15 1992-10  139187.50\n",
       "16 1992-11  135516.67\n",
       "17 1992-12  162008.54\n",
       "18 1993-01  155777.78\n",
       "19 1993-02  142166.67\n",
       "20 1993-03  105921.43"
      ]
     },
     "metadata": {},
     "output_type": "display_data"
    },
    {
     "data": {
      "text/html": [
       "<table class=\"dataframe\">\n",
       "<caption>A data.frame: 20 × 2</caption>\n",
       "<thead>\n",
       "\t<tr><th></th><th scope=col>SALEDATE</th><th scope=col>PRICE</th></tr>\n",
       "\t<tr><th></th><th scope=col>&lt;chr&gt;</th><th scope=col>&lt;dbl&gt;</th></tr>\n",
       "</thead>\n",
       "<tbody>\n",
       "\t<tr><th scope=row>353</th><td>2021-01</td><td> 845624.8</td></tr>\n",
       "\t<tr><th scope=row>354</th><td>2021-02</td><td> 859890.3</td></tr>\n",
       "\t<tr><th scope=row>355</th><td>2021-03</td><td> 902017.3</td></tr>\n",
       "\t<tr><th scope=row>356</th><td>2021-04</td><td> 982050.4</td></tr>\n",
       "\t<tr><th scope=row>357</th><td>2021-05</td><td> 998431.0</td></tr>\n",
       "\t<tr><th scope=row>358</th><td>2021-06</td><td> 991895.4</td></tr>\n",
       "\t<tr><th scope=row>359</th><td>2021-07</td><td> 969982.4</td></tr>\n",
       "\t<tr><th scope=row>360</th><td>2021-08</td><td> 923534.1</td></tr>\n",
       "\t<tr><th scope=row>361</th><td>2021-09</td><td> 864911.2</td></tr>\n",
       "\t<tr><th scope=row>362</th><td>2021-10</td><td>1041236.4</td></tr>\n",
       "\t<tr><th scope=row>363</th><td>2021-11</td><td> 986252.1</td></tr>\n",
       "\t<tr><th scope=row>364</th><td>2021-12</td><td> 969824.8</td></tr>\n",
       "\t<tr><th scope=row>365</th><td>2022-01</td><td> 960429.4</td></tr>\n",
       "\t<tr><th scope=row>366</th><td>2022-02</td><td> 888569.4</td></tr>\n",
       "\t<tr><th scope=row>367</th><td>2022-03</td><td> 959909.0</td></tr>\n",
       "\t<tr><th scope=row>368</th><td>2022-04</td><td> 996702.2</td></tr>\n",
       "\t<tr><th scope=row>369</th><td>2022-05</td><td> 976417.9</td></tr>\n",
       "\t<tr><th scope=row>370</th><td>2022-06</td><td>1009077.6</td></tr>\n",
       "\t<tr><th scope=row>371</th><td>2022-07</td><td> 980965.2</td></tr>\n",
       "\t<tr><th scope=row>372</th><td>2022-08</td><td> 954435.0</td></tr>\n",
       "</tbody>\n",
       "</table>\n"
      ],
      "text/latex": [
       "A data.frame: 20 × 2\n",
       "\\begin{tabular}{r|ll}\n",
       "  & SALEDATE & PRICE\\\\\n",
       "  & <chr> & <dbl>\\\\\n",
       "\\hline\n",
       "\t353 & 2021-01 &  845624.8\\\\\n",
       "\t354 & 2021-02 &  859890.3\\\\\n",
       "\t355 & 2021-03 &  902017.3\\\\\n",
       "\t356 & 2021-04 &  982050.4\\\\\n",
       "\t357 & 2021-05 &  998431.0\\\\\n",
       "\t358 & 2021-06 &  991895.4\\\\\n",
       "\t359 & 2021-07 &  969982.4\\\\\n",
       "\t360 & 2021-08 &  923534.1\\\\\n",
       "\t361 & 2021-09 &  864911.2\\\\\n",
       "\t362 & 2021-10 & 1041236.4\\\\\n",
       "\t363 & 2021-11 &  986252.1\\\\\n",
       "\t364 & 2021-12 &  969824.8\\\\\n",
       "\t365 & 2022-01 &  960429.4\\\\\n",
       "\t366 & 2022-02 &  888569.4\\\\\n",
       "\t367 & 2022-03 &  959909.0\\\\\n",
       "\t368 & 2022-04 &  996702.2\\\\\n",
       "\t369 & 2022-05 &  976417.9\\\\\n",
       "\t370 & 2022-06 & 1009077.6\\\\\n",
       "\t371 & 2022-07 &  980965.2\\\\\n",
       "\t372 & 2022-08 &  954435.0\\\\\n",
       "\\end{tabular}\n"
      ],
      "text/markdown": [
       "\n",
       "A data.frame: 20 × 2\n",
       "\n",
       "| <!--/--> | SALEDATE &lt;chr&gt; | PRICE &lt;dbl&gt; |\n",
       "|---|---|---|\n",
       "| 353 | 2021-01 |  845624.8 |\n",
       "| 354 | 2021-02 |  859890.3 |\n",
       "| 355 | 2021-03 |  902017.3 |\n",
       "| 356 | 2021-04 |  982050.4 |\n",
       "| 357 | 2021-05 |  998431.0 |\n",
       "| 358 | 2021-06 |  991895.4 |\n",
       "| 359 | 2021-07 |  969982.4 |\n",
       "| 360 | 2021-08 |  923534.1 |\n",
       "| 361 | 2021-09 |  864911.2 |\n",
       "| 362 | 2021-10 | 1041236.4 |\n",
       "| 363 | 2021-11 |  986252.1 |\n",
       "| 364 | 2021-12 |  969824.8 |\n",
       "| 365 | 2022-01 |  960429.4 |\n",
       "| 366 | 2022-02 |  888569.4 |\n",
       "| 367 | 2022-03 |  959909.0 |\n",
       "| 368 | 2022-04 |  996702.2 |\n",
       "| 369 | 2022-05 |  976417.9 |\n",
       "| 370 | 2022-06 | 1009077.6 |\n",
       "| 371 | 2022-07 |  980965.2 |\n",
       "| 372 | 2022-08 |  954435.0 |\n",
       "\n"
      ],
      "text/plain": [
       "    SALEDATE PRICE    \n",
       "353 2021-01   845624.8\n",
       "354 2021-02   859890.3\n",
       "355 2021-03   902017.3\n",
       "356 2021-04   982050.4\n",
       "357 2021-05   998431.0\n",
       "358 2021-06   991895.4\n",
       "359 2021-07   969982.4\n",
       "360 2021-08   923534.1\n",
       "361 2021-09   864911.2\n",
       "362 2021-10  1041236.4\n",
       "363 2021-11   986252.1\n",
       "364 2021-12   969824.8\n",
       "365 2022-01   960429.4\n",
       "366 2022-02   888569.4\n",
       "367 2022-03   959909.0\n",
       "368 2022-04   996702.2\n",
       "369 2022-05   976417.9\n",
       "370 2022-06  1009077.6\n",
       "371 2022-07   980965.2\n",
       "372 2022-08   954435.0"
      ]
     },
     "metadata": {},
     "output_type": "display_data"
    },
    {
     "data": {
      "text/plain": [
       "   SALEDATE             PRICE        \n",
       " Length:151         Min.   : 391795  \n",
       " Class :character   1st Qu.: 559571  \n",
       " Mode  :character   Median : 710636  \n",
       "                    Mean   : 703653  \n",
       "                    3rd Qu.: 818181  \n",
       "                    Max.   :1239480  "
      ]
     },
     "metadata": {},
     "output_type": "display_data"
    },
    {
     "name": "stdout",
     "output_type": "stream",
     "text": [
      "'data.frame':\t151 obs. of  2 variables:\n",
      " $ SALEDATE: chr  \"2010-02\" \"2010-03\" \"2010-04\" \"2010-05\" ...\n",
      " $ PRICE   : num  561495 485623 494201 391795 434513 ...\n"
     ]
    }
   ],
   "source": [
    "################################################################################\n",
    "# Calculate the mean \"Price\" by \"SALEDATE\" (year and month)\n",
    "HOUSE_TS3.df <- HOUSE_TS2.df\n",
    "HOUSE_TS3.df <- aggregate(PRICE~SALEDATE,HOUSE_TS2.df,mean)\n",
    "\n",
    "summary(HOUSE_TS2.df)   #To check the variables and counts before the aggregation\n",
    "\n",
    "summary(HOUSE_TS3.df)   #To check the variables and counts after the aggregation\n",
    "\n",
    "head(HOUSE_TS3.df, 20)\n",
    "\n",
    "tail(HOUSE_TS3.df, 20)\n",
    "\n",
    "# Filter the dataframe for only sales after 2010-01\n",
    "HOUSE_TS4.df <- HOUSE_TS3.df\n",
    "HOUSE_TS4.df <- HOUSE_TS4.df %>% filter(SALEDATE > '2010-01')\n",
    "\n",
    "summary(HOUSE_TS4.df)   #To check the variables and counts\n",
    "\n",
    "str(HOUSE_TS4.df)   #To check the data structure   \n",
    "################################################################################"
   ]
  },
  {
   "cell_type": "code",
   "execution_count": 9,
   "metadata": {},
   "outputs": [
    {
     "data": {
      "text/html": [
       "<table class=\"dataframe\">\n",
       "<caption>A Time Series: 13 × 12</caption>\n",
       "<thead>\n",
       "\t<tr><th></th><th scope=col>Jan</th><th scope=col>Feb</th><th scope=col>Mar</th><th scope=col>Apr</th><th scope=col>May</th><th scope=col>Jun</th><th scope=col>Jul</th><th scope=col>Aug</th><th scope=col>Sep</th><th scope=col>Oct</th><th scope=col>Nov</th><th scope=col>Dec</th></tr>\n",
       "</thead>\n",
       "<tbody>\n",
       "\t<tr><th scope=row>2010</th><td> 561494.6</td><td> 485622.9</td><td> 494200.6</td><td> 391794.7</td><td> 434512.9</td><td> 444358.6</td><td> 467701.5</td><td> 442562.7</td><td> 449942.7</td><td> 531324.4</td><td> 443072.1</td><td> 464226.3</td></tr>\n",
       "\t<tr><th scope=row>2011</th><td> 397547.7</td><td> 393553.1</td><td> 440508.8</td><td> 438331.5</td><td> 478920.0</td><td> 628580.4</td><td> 477412.2</td><td> 477978.3</td><td> 435526.4</td><td> 456003.2</td><td> 471751.2</td><td> 423120.9</td></tr>\n",
       "\t<tr><th scope=row>2012</th><td> 523658.5</td><td> 476313.6</td><td> 489041.0</td><td> 557646.5</td><td> 539773.2</td><td> 485144.9</td><td> 569087.9</td><td> 519407.0</td><td> 572041.9</td><td> 526246.3</td><td> 553143.6</td><td> 556963.8</td></tr>\n",
       "\t<tr><th scope=row>2013</th><td> 570290.8</td><td> 535786.0</td><td> 599875.1</td><td> 637307.2</td><td> 621681.1</td><td> 710635.9</td><td> 564370.1</td><td>1239480.0</td><td> 583495.3</td><td> 537368.6</td><td> 564300.4</td><td> 518638.8</td></tr>\n",
       "\t<tr><th scope=row>2014</th><td> 523101.3</td><td> 542129.9</td><td> 551666.0</td><td> 600209.4</td><td> 642663.2</td><td> 644199.8</td><td> 614847.6</td><td> 643831.8</td><td> 579811.7</td><td> 595820.2</td><td> 610795.8</td><td> 583938.6</td></tr>\n",
       "\t<tr><th scope=row>2015</th><td> 661746.6</td><td> 615426.5</td><td> 650252.7</td><td> 893476.3</td><td> 643912.1</td><td> 642459.2</td><td> 627315.6</td><td> 664169.1</td><td> 752480.5</td><td> 686783.4</td><td> 725348.6</td><td> 632777.9</td></tr>\n",
       "\t<tr><th scope=row>2016</th><td> 613772.3</td><td> 609908.6</td><td> 751432.0</td><td> 701354.2</td><td> 736974.6</td><td> 785349.7</td><td> 735473.0</td><td> 773069.9</td><td> 694000.8</td><td> 793789.4</td><td> 656729.1</td><td> 682598.8</td></tr>\n",
       "\t<tr><th scope=row>2017</th><td> 661009.7</td><td> 723718.6</td><td> 797514.7</td><td> 783807.8</td><td> 799304.3</td><td> 726467.6</td><td> 758984.6</td><td> 745139.2</td><td> 815874.1</td><td> 781035.1</td><td> 706187.3</td><td> 764130.1</td></tr>\n",
       "\t<tr><th scope=row>2018</th><td> 719542.9</td><td> 765458.1</td><td> 811969.3</td><td> 808999.4</td><td> 820488.1</td><td> 795864.3</td><td> 801122.9</td><td> 764966.5</td><td> 833967.7</td><td> 806479.6</td><td> 796623.2</td><td> 884972.7</td></tr>\n",
       "\t<tr><th scope=row>2019</th><td> 781429.2</td><td> 808093.6</td><td> 813899.0</td><td> 874732.8</td><td> 840144.3</td><td> 827100.8</td><td> 747031.5</td><td> 765453.5</td><td> 871393.5</td><td> 788044.2</td><td> 835600.8</td><td> 793255.5</td></tr>\n",
       "\t<tr><th scope=row>2020</th><td> 792279.3</td><td> 873101.7</td><td> 778795.0</td><td> 800499.6</td><td> 869594.8</td><td> 886529.2</td><td> 933242.0</td><td> 897005.6</td><td> 881946.0</td><td>1117285.2</td><td> 893950.8</td><td> 845624.8</td></tr>\n",
       "\t<tr><th scope=row>2021</th><td> 859890.3</td><td> 902017.3</td><td> 982050.4</td><td> 998431.0</td><td> 991895.4</td><td> 969982.4</td><td> 923534.1</td><td> 864911.2</td><td>1041236.4</td><td> 986252.1</td><td> 969824.8</td><td> 960429.4</td></tr>\n",
       "\t<tr><th scope=row>2022</th><td> 888569.4</td><td> 959909.0</td><td> 996702.2</td><td> 976417.9</td><td>1009077.6</td><td> 980965.2</td><td> 954435.0</td><td>         </td><td>         </td><td>         </td><td>         </td><td>         </td></tr>\n",
       "</tbody>\n",
       "</table>\n"
      ],
      "text/latex": [
       "A Time Series: 13 × 12\n",
       "\\begin{tabular}{r|llllllllllll}\n",
       "  & Jan & Feb & Mar & Apr & May & Jun & Jul & Aug & Sep & Oct & Nov & Dec\\\\\n",
       "\\hline\n",
       "\t2010 &  561494.6 &  485622.9 &  494200.6 &  391794.7 &  434512.9 &  444358.6 &  467701.5 &  442562.7 &  449942.7 &  531324.4 &  443072.1 &  464226.3\\\\\n",
       "\t2011 &  397547.7 &  393553.1 &  440508.8 &  438331.5 &  478920.0 &  628580.4 &  477412.2 &  477978.3 &  435526.4 &  456003.2 &  471751.2 &  423120.9\\\\\n",
       "\t2012 &  523658.5 &  476313.6 &  489041.0 &  557646.5 &  539773.2 &  485144.9 &  569087.9 &  519407.0 &  572041.9 &  526246.3 &  553143.6 &  556963.8\\\\\n",
       "\t2013 &  570290.8 &  535786.0 &  599875.1 &  637307.2 &  621681.1 &  710635.9 &  564370.1 & 1239480.0 &  583495.3 &  537368.6 &  564300.4 &  518638.8\\\\\n",
       "\t2014 &  523101.3 &  542129.9 &  551666.0 &  600209.4 &  642663.2 &  644199.8 &  614847.6 &  643831.8 &  579811.7 &  595820.2 &  610795.8 &  583938.6\\\\\n",
       "\t2015 &  661746.6 &  615426.5 &  650252.7 &  893476.3 &  643912.1 &  642459.2 &  627315.6 &  664169.1 &  752480.5 &  686783.4 &  725348.6 &  632777.9\\\\\n",
       "\t2016 &  613772.3 &  609908.6 &  751432.0 &  701354.2 &  736974.6 &  785349.7 &  735473.0 &  773069.9 &  694000.8 &  793789.4 &  656729.1 &  682598.8\\\\\n",
       "\t2017 &  661009.7 &  723718.6 &  797514.7 &  783807.8 &  799304.3 &  726467.6 &  758984.6 &  745139.2 &  815874.1 &  781035.1 &  706187.3 &  764130.1\\\\\n",
       "\t2018 &  719542.9 &  765458.1 &  811969.3 &  808999.4 &  820488.1 &  795864.3 &  801122.9 &  764966.5 &  833967.7 &  806479.6 &  796623.2 &  884972.7\\\\\n",
       "\t2019 &  781429.2 &  808093.6 &  813899.0 &  874732.8 &  840144.3 &  827100.8 &  747031.5 &  765453.5 &  871393.5 &  788044.2 &  835600.8 &  793255.5\\\\\n",
       "\t2020 &  792279.3 &  873101.7 &  778795.0 &  800499.6 &  869594.8 &  886529.2 &  933242.0 &  897005.6 &  881946.0 & 1117285.2 &  893950.8 &  845624.8\\\\\n",
       "\t2021 &  859890.3 &  902017.3 &  982050.4 &  998431.0 &  991895.4 &  969982.4 &  923534.1 &  864911.2 & 1041236.4 &  986252.1 &  969824.8 &  960429.4\\\\\n",
       "\t2022 &  888569.4 &  959909.0 &  996702.2 &  976417.9 & 1009077.6 &  980965.2 &  954435.0 &           &           &           &           &          \\\\\n",
       "\\end{tabular}\n"
      ],
      "text/markdown": [
       "\n",
       "A Time Series: 13 × 12\n",
       "\n",
       "| <!--/--> | Jan | Feb | Mar | Apr | May | Jun | Jul | Aug | Sep | Oct | Nov | Dec |\n",
       "|---|---|---|---|---|---|---|---|---|---|---|---|---|\n",
       "| 2010 |  561494.6 |  485622.9 |  494200.6 |  391794.7 |  434512.9 |  444358.6 |  467701.5 |  442562.7 |  449942.7 |  531324.4 |  443072.1 |  464226.3 |\n",
       "| 2011 |  397547.7 |  393553.1 |  440508.8 |  438331.5 |  478920.0 |  628580.4 |  477412.2 |  477978.3 |  435526.4 |  456003.2 |  471751.2 |  423120.9 |\n",
       "| 2012 |  523658.5 |  476313.6 |  489041.0 |  557646.5 |  539773.2 |  485144.9 |  569087.9 |  519407.0 |  572041.9 |  526246.3 |  553143.6 |  556963.8 |\n",
       "| 2013 |  570290.8 |  535786.0 |  599875.1 |  637307.2 |  621681.1 |  710635.9 |  564370.1 | 1239480.0 |  583495.3 |  537368.6 |  564300.4 |  518638.8 |\n",
       "| 2014 |  523101.3 |  542129.9 |  551666.0 |  600209.4 |  642663.2 |  644199.8 |  614847.6 |  643831.8 |  579811.7 |  595820.2 |  610795.8 |  583938.6 |\n",
       "| 2015 |  661746.6 |  615426.5 |  650252.7 |  893476.3 |  643912.1 |  642459.2 |  627315.6 |  664169.1 |  752480.5 |  686783.4 |  725348.6 |  632777.9 |\n",
       "| 2016 |  613772.3 |  609908.6 |  751432.0 |  701354.2 |  736974.6 |  785349.7 |  735473.0 |  773069.9 |  694000.8 |  793789.4 |  656729.1 |  682598.8 |\n",
       "| 2017 |  661009.7 |  723718.6 |  797514.7 |  783807.8 |  799304.3 |  726467.6 |  758984.6 |  745139.2 |  815874.1 |  781035.1 |  706187.3 |  764130.1 |\n",
       "| 2018 |  719542.9 |  765458.1 |  811969.3 |  808999.4 |  820488.1 |  795864.3 |  801122.9 |  764966.5 |  833967.7 |  806479.6 |  796623.2 |  884972.7 |\n",
       "| 2019 |  781429.2 |  808093.6 |  813899.0 |  874732.8 |  840144.3 |  827100.8 |  747031.5 |  765453.5 |  871393.5 |  788044.2 |  835600.8 |  793255.5 |\n",
       "| 2020 |  792279.3 |  873101.7 |  778795.0 |  800499.6 |  869594.8 |  886529.2 |  933242.0 |  897005.6 |  881946.0 | 1117285.2 |  893950.8 |  845624.8 |\n",
       "| 2021 |  859890.3 |  902017.3 |  982050.4 |  998431.0 |  991895.4 |  969982.4 |  923534.1 |  864911.2 | 1041236.4 |  986252.1 |  969824.8 |  960429.4 |\n",
       "| 2022 |  888569.4 |  959909.0 |  996702.2 |  976417.9 | 1009077.6 |  980965.2 |  954435.0 | <!----> | <!----> | <!----> | <!----> | <!----> |\n",
       "\n"
      ],
      "text/plain": [
       "     Jan       Feb       Mar       Apr       May       Jun       Jul      \n",
       "2010  561494.6  485622.9  494200.6  391794.7  434512.9  444358.6  467701.5\n",
       "2011  397547.7  393553.1  440508.8  438331.5  478920.0  628580.4  477412.2\n",
       "2012  523658.5  476313.6  489041.0  557646.5  539773.2  485144.9  569087.9\n",
       "2013  570290.8  535786.0  599875.1  637307.2  621681.1  710635.9  564370.1\n",
       "2014  523101.3  542129.9  551666.0  600209.4  642663.2  644199.8  614847.6\n",
       "2015  661746.6  615426.5  650252.7  893476.3  643912.1  642459.2  627315.6\n",
       "2016  613772.3  609908.6  751432.0  701354.2  736974.6  785349.7  735473.0\n",
       "2017  661009.7  723718.6  797514.7  783807.8  799304.3  726467.6  758984.6\n",
       "2018  719542.9  765458.1  811969.3  808999.4  820488.1  795864.3  801122.9\n",
       "2019  781429.2  808093.6  813899.0  874732.8  840144.3  827100.8  747031.5\n",
       "2020  792279.3  873101.7  778795.0  800499.6  869594.8  886529.2  933242.0\n",
       "2021  859890.3  902017.3  982050.4  998431.0  991895.4  969982.4  923534.1\n",
       "2022  888569.4  959909.0  996702.2  976417.9 1009077.6  980965.2  954435.0\n",
       "     Aug       Sep       Oct       Nov       Dec      \n",
       "2010  442562.7  449942.7  531324.4  443072.1  464226.3\n",
       "2011  477978.3  435526.4  456003.2  471751.2  423120.9\n",
       "2012  519407.0  572041.9  526246.3  553143.6  556963.8\n",
       "2013 1239480.0  583495.3  537368.6  564300.4  518638.8\n",
       "2014  643831.8  579811.7  595820.2  610795.8  583938.6\n",
       "2015  664169.1  752480.5  686783.4  725348.6  632777.9\n",
       "2016  773069.9  694000.8  793789.4  656729.1  682598.8\n",
       "2017  745139.2  815874.1  781035.1  706187.3  764130.1\n",
       "2018  764966.5  833967.7  806479.6  796623.2  884972.7\n",
       "2019  765453.5  871393.5  788044.2  835600.8  793255.5\n",
       "2020  897005.6  881946.0 1117285.2  893950.8  845624.8\n",
       "2021  864911.2 1041236.4  986252.1  969824.8  960429.4\n",
       "2022                                                  "
      ]
     },
     "metadata": {},
     "output_type": "display_data"
    }
   ],
   "source": [
    "####################################################################\n",
    "# Set time series (ts) for 'PRICE' variable\n",
    "\n",
    "# Choose the 'PRICE' column and convert it to ts object\n",
    "\n",
    "H_TS <- ts(HOUSE_TS4.df$PRICE, start=c(2010, 1), freq=12)\n",
    "\n",
    "# Let us see the ts object\n",
    "\n",
    "H_TS\n",
    "#####################################################################"
   ]
  },
  {
   "cell_type": "code",
   "execution_count": 10,
   "metadata": {},
   "outputs": [
    {
     "data": {
      "image/png": "[encoded data removed]",
      "text/plain": [
       "plot without title"
      ]
     },
     "metadata": {
      "image/png": {
       "height": 420,
       "width": 420
      }
     },
     "output_type": "display_data"
    }
   ],
   "source": [
    "#####################################################################\n",
    "# Let us fit a regression line on the dataset\n",
    "\n",
    "plot(H_TS)\n",
    "\n",
    "abline(reg=lm(H_TS~time(H_TS)))\n",
    "#####################################################################"
   ]
  },
  {
   "cell_type": "code",
   "execution_count": 11,
   "metadata": {},
   "outputs": [
    {
     "data": {
      "text/html": [
       "<table class=\"dataframe\">\n",
       "<caption>A Time Series: 13 × 12</caption>\n",
       "<thead>\n",
       "\t<tr><th></th><th scope=col>Jan</th><th scope=col>Feb</th><th scope=col>Mar</th><th scope=col>Apr</th><th scope=col>May</th><th scope=col>Jun</th><th scope=col>Jul</th><th scope=col>Aug</th><th scope=col>Sep</th><th scope=col>Oct</th><th scope=col>Nov</th><th scope=col>Dec</th></tr>\n",
       "</thead>\n",
       "<tbody>\n",
       "\t<tr><th scope=row>2010</th><td> 1</td><td> 2</td><td> 3</td><td> 4</td><td> 5</td><td> 6</td><td> 7</td><td> 8</td><td> 9</td><td>10</td><td>11</td><td>12</td></tr>\n",
       "\t<tr><th scope=row>2011</th><td> 1</td><td> 2</td><td> 3</td><td> 4</td><td> 5</td><td> 6</td><td> 7</td><td> 8</td><td> 9</td><td>10</td><td>11</td><td>12</td></tr>\n",
       "\t<tr><th scope=row>2012</th><td> 1</td><td> 2</td><td> 3</td><td> 4</td><td> 5</td><td> 6</td><td> 7</td><td> 8</td><td> 9</td><td>10</td><td>11</td><td>12</td></tr>\n",
       "\t<tr><th scope=row>2013</th><td> 1</td><td> 2</td><td> 3</td><td> 4</td><td> 5</td><td> 6</td><td> 7</td><td> 8</td><td> 9</td><td>10</td><td>11</td><td>12</td></tr>\n",
       "\t<tr><th scope=row>2014</th><td> 1</td><td> 2</td><td> 3</td><td> 4</td><td> 5</td><td> 6</td><td> 7</td><td> 8</td><td> 9</td><td>10</td><td>11</td><td>12</td></tr>\n",
       "\t<tr><th scope=row>2015</th><td> 1</td><td> 2</td><td> 3</td><td> 4</td><td> 5</td><td> 6</td><td> 7</td><td> 8</td><td> 9</td><td>10</td><td>11</td><td>12</td></tr>\n",
       "\t<tr><th scope=row>2016</th><td> 1</td><td> 2</td><td> 3</td><td> 4</td><td> 5</td><td> 6</td><td> 7</td><td> 8</td><td> 9</td><td>10</td><td>11</td><td>12</td></tr>\n",
       "\t<tr><th scope=row>2017</th><td> 1</td><td> 2</td><td> 3</td><td> 4</td><td> 5</td><td> 6</td><td> 7</td><td> 8</td><td> 9</td><td>10</td><td>11</td><td>12</td></tr>\n",
       "\t<tr><th scope=row>2018</th><td> 1</td><td> 2</td><td> 3</td><td> 4</td><td> 5</td><td> 6</td><td> 7</td><td> 8</td><td> 9</td><td>10</td><td>11</td><td>12</td></tr>\n",
       "\t<tr><th scope=row>2019</th><td> 1</td><td> 2</td><td> 3</td><td> 4</td><td> 5</td><td> 6</td><td> 7</td><td> 8</td><td> 9</td><td>10</td><td>11</td><td>12</td></tr>\n",
       "\t<tr><th scope=row>2020</th><td> 1</td><td> 2</td><td> 3</td><td> 4</td><td> 5</td><td> 6</td><td> 7</td><td> 8</td><td> 9</td><td>10</td><td>11</td><td>12</td></tr>\n",
       "\t<tr><th scope=row>2021</th><td> 1</td><td> 2</td><td> 3</td><td> 4</td><td> 5</td><td> 6</td><td> 7</td><td> 8</td><td> 9</td><td>10</td><td>11</td><td>12</td></tr>\n",
       "\t<tr><th scope=row>2022</th><td> 1</td><td> 2</td><td> 3</td><td> 4</td><td> 5</td><td> 6</td><td> 7</td><td>  </td><td>  </td><td>  </td><td>  </td><td>  </td></tr>\n",
       "</tbody>\n",
       "</table>\n"
      ],
      "text/latex": [
       "A Time Series: 13 × 12\n",
       "\\begin{tabular}{r|llllllllllll}\n",
       "  & Jan & Feb & Mar & Apr & May & Jun & Jul & Aug & Sep & Oct & Nov & Dec\\\\\n",
       "\\hline\n",
       "\t2010 &  1 &  2 &  3 &  4 &  5 &  6 &  7 &  8 &  9 & 10 & 11 & 12\\\\\n",
       "\t2011 &  1 &  2 &  3 &  4 &  5 &  6 &  7 &  8 &  9 & 10 & 11 & 12\\\\\n",
       "\t2012 &  1 &  2 &  3 &  4 &  5 &  6 &  7 &  8 &  9 & 10 & 11 & 12\\\\\n",
       "\t2013 &  1 &  2 &  3 &  4 &  5 &  6 &  7 &  8 &  9 & 10 & 11 & 12\\\\\n",
       "\t2014 &  1 &  2 &  3 &  4 &  5 &  6 &  7 &  8 &  9 & 10 & 11 & 12\\\\\n",
       "\t2015 &  1 &  2 &  3 &  4 &  5 &  6 &  7 &  8 &  9 & 10 & 11 & 12\\\\\n",
       "\t2016 &  1 &  2 &  3 &  4 &  5 &  6 &  7 &  8 &  9 & 10 & 11 & 12\\\\\n",
       "\t2017 &  1 &  2 &  3 &  4 &  5 &  6 &  7 &  8 &  9 & 10 & 11 & 12\\\\\n",
       "\t2018 &  1 &  2 &  3 &  4 &  5 &  6 &  7 &  8 &  9 & 10 & 11 & 12\\\\\n",
       "\t2019 &  1 &  2 &  3 &  4 &  5 &  6 &  7 &  8 &  9 & 10 & 11 & 12\\\\\n",
       "\t2020 &  1 &  2 &  3 &  4 &  5 &  6 &  7 &  8 &  9 & 10 & 11 & 12\\\\\n",
       "\t2021 &  1 &  2 &  3 &  4 &  5 &  6 &  7 &  8 &  9 & 10 & 11 & 12\\\\\n",
       "\t2022 &  1 &  2 &  3 &  4 &  5 &  6 &  7 &    &    &    &    &   \\\\\n",
       "\\end{tabular}\n"
      ],
      "text/markdown": [
       "\n",
       "A Time Series: 13 × 12\n",
       "\n",
       "| <!--/--> | Jan | Feb | Mar | Apr | May | Jun | Jul | Aug | Sep | Oct | Nov | Dec |\n",
       "|---|---|---|---|---|---|---|---|---|---|---|---|---|\n",
       "| 2010 |  1 |  2 |  3 |  4 |  5 |  6 |  7 |  8 |  9 | 10 | 11 | 12 |\n",
       "| 2011 |  1 |  2 |  3 |  4 |  5 |  6 |  7 |  8 |  9 | 10 | 11 | 12 |\n",
       "| 2012 |  1 |  2 |  3 |  4 |  5 |  6 |  7 |  8 |  9 | 10 | 11 | 12 |\n",
       "| 2013 |  1 |  2 |  3 |  4 |  5 |  6 |  7 |  8 |  9 | 10 | 11 | 12 |\n",
       "| 2014 |  1 |  2 |  3 |  4 |  5 |  6 |  7 |  8 |  9 | 10 | 11 | 12 |\n",
       "| 2015 |  1 |  2 |  3 |  4 |  5 |  6 |  7 |  8 |  9 | 10 | 11 | 12 |\n",
       "| 2016 |  1 |  2 |  3 |  4 |  5 |  6 |  7 |  8 |  9 | 10 | 11 | 12 |\n",
       "| 2017 |  1 |  2 |  3 |  4 |  5 |  6 |  7 |  8 |  9 | 10 | 11 | 12 |\n",
       "| 2018 |  1 |  2 |  3 |  4 |  5 |  6 |  7 |  8 |  9 | 10 | 11 | 12 |\n",
       "| 2019 |  1 |  2 |  3 |  4 |  5 |  6 |  7 |  8 |  9 | 10 | 11 | 12 |\n",
       "| 2020 |  1 |  2 |  3 |  4 |  5 |  6 |  7 |  8 |  9 | 10 | 11 | 12 |\n",
       "| 2021 |  1 |  2 |  3 |  4 |  5 |  6 |  7 |  8 |  9 | 10 | 11 | 12 |\n",
       "| 2022 |  1 |  2 |  3 |  4 |  5 |  6 |  7 | <!----> | <!----> | <!----> | <!----> | <!----> |\n",
       "\n"
      ],
      "text/plain": [
       "     Jan Feb Mar Apr May Jun Jul Aug Sep Oct Nov Dec\n",
       "2010  1   2   3   4   5   6   7   8   9  10  11  12 \n",
       "2011  1   2   3   4   5   6   7   8   9  10  11  12 \n",
       "2012  1   2   3   4   5   6   7   8   9  10  11  12 \n",
       "2013  1   2   3   4   5   6   7   8   9  10  11  12 \n",
       "2014  1   2   3   4   5   6   7   8   9  10  11  12 \n",
       "2015  1   2   3   4   5   6   7   8   9  10  11  12 \n",
       "2016  1   2   3   4   5   6   7   8   9  10  11  12 \n",
       "2017  1   2   3   4   5   6   7   8   9  10  11  12 \n",
       "2018  1   2   3   4   5   6   7   8   9  10  11  12 \n",
       "2019  1   2   3   4   5   6   7   8   9  10  11  12 \n",
       "2020  1   2   3   4   5   6   7   8   9  10  11  12 \n",
       "2021  1   2   3   4   5   6   7   8   9  10  11  12 \n",
       "2022  1   2   3   4   5   6   7                     "
      ]
     },
     "metadata": {},
     "output_type": "display_data"
    },
    {
     "data": {
      "image/png": "[encoded data removed]",
      "text/plain": [
       "plot without title"
      ]
     },
     "metadata": {
      "image/png": {
       "height": 420,
       "width": 420
      }
     },
     "output_type": "display_data"
    }
   ],
   "source": [
    "#####################################################################\n",
    "# First let us plot the cycle and trend\n",
    "# Aggregate the cycles and display a year-on-year trend\n",
    "\n",
    "cycle(H_TS)\n",
    "\n",
    "plot(aggregate(H_TS,FUN=mean))\n",
    "\n",
    "#####################################################################"
   ]
  },
  {
   "cell_type": "code",
   "execution_count": 12,
   "metadata": {},
   "outputs": [
    {
     "data": {
      "image/png": "[encoded data removed]",
      "text/plain": [
       "plot without title"
      ]
     },
     "metadata": {
      "image/png": {
       "height": 420,
       "width": 420
      }
     },
     "output_type": "display_data"
    }
   ],
   "source": [
    "#####################################################################\n",
    "# Letâ™s look in to the seasonal effects\n",
    "\n",
    "boxplot(H_TS~cycle(H_TS))\n",
    "\n",
    "#####################################################################"
   ]
  },
  {
   "cell_type": "code",
   "execution_count": 13,
   "metadata": {},
   "outputs": [
    {
     "name": "stderr",
     "output_type": "stream",
     "text": [
      "Registered S3 method overwritten by 'quantmod':\n",
      "  method            from\n",
      "  as.zoo.data.frame zoo \n",
      "\n",
      "Warning message in adf.test(diff(log(H_TS)), alternative = \"stationary\", k = 0):\n",
      "\"p-value smaller than printed p-value\"\n"
     ]
    },
    {
     "data": {
      "text/plain": [
       "\n",
       "\tAugmented Dickey-Fuller Test\n",
       "\n",
       "data:  diff(log(H_TS))\n",
       "Dickey-Fuller = -21.155, Lag order = 0, p-value = 0.01\n",
       "alternative hypothesis: stationary\n"
      ]
     },
     "metadata": {},
     "output_type": "display_data"
    }
   ],
   "source": [
    "#####################################################################\n",
    "# Since we want to remove the unequal variances in the data we will take the log of the series\n",
    "# Before we fit the ARIMA model to our time series, we need to remove the unequal variances in \n",
    "# the data by taking the log of the series.\n",
    "\n",
    "# Also, the original signal had trends and seasonal effects, so it was not stationary.  \n",
    "# Therefore, we perform a diff of the signal and check if the trends and seasonal effect can be removed. \n",
    "\n",
    "\n",
    "library(tseries)\n",
    "\n",
    "# Now perform the Augmented Dickey-Fuller Test\n",
    "\n",
    "adf.test(diff(log(H_TS)), alternative=\"stationary\", k=0)\n",
    "\n",
    "# This will give you the result of the Augmented Dickey-Fuller Test\n",
    "#####################################################################"
   ]
  },
  {
   "cell_type": "code",
   "execution_count": 14,
   "metadata": {},
   "outputs": [
    {
     "data": {
      "image/png": "[encoded data removed]",
      "text/plain": [
       "plot without title"
      ]
     },
     "metadata": {
      "image/png": {
       "height": 420,
       "width": 420
      }
     },
     "output_type": "display_data"
    }
   ],
   "source": [
    "#####################################################################\n",
    "# Let us now plot the series\n",
    "\n",
    "plot(diff(log(H_TS)))\n",
    "\n",
    "#####################################################################"
   ]
  },
  {
   "cell_type": "code",
   "execution_count": 15,
   "metadata": {},
   "outputs": [
    {
     "data": {
      "image/png": "[encoded data removed]",
      "text/plain": [
       "Plot with title \"Series  diff(log(H_TS))\""
      ]
     },
     "metadata": {
      "image/png": {
       "height": 420,
       "width": 420
      }
     },
     "output_type": "display_data"
    },
    {
     "data": {
      "image/png": "[encoded data removed]",
      "text/plain": [
       "Plot with title \"Series  diff(log(H_TS))\""
      ]
     },
     "metadata": {
      "image/png": {
       "height": 420,
       "width": 420
      }
     },
     "output_type": "display_data"
    }
   ],
   "source": [
    "#####################################################################\n",
    "# Now let us look into the ACF  and PACF charts\n",
    "\n",
    "acf(diff(log(H_TS)))\n",
    "\n",
    "pacf(diff(log(H_TS)))\n",
    "\n",
    "# ARIMA (1,1,2)\n",
    "\n",
    "#####################################################################"
   ]
  },
  {
   "cell_type": "code",
   "execution_count": 16,
   "metadata": {},
   "outputs": [
    {
     "name": "stderr",
     "output_type": "stream",
     "text": [
      "Warning message in sqrt(diag(x$var.coef)):\n",
      "\"NaNs produced\"\n"
     ]
    },
    {
     "data": {
      "text/plain": [
       "\n",
       "Call:\n",
       "arima(x = log(H_TS), order = c(2, 1, 2), seasonal = list(order = c(2, 1, 2), \n",
       "    period = 12))\n",
       "\n",
       "Coefficients:\n",
       "         ar1     ar2      ma1     ma2     sar1     sar2     sma1     sma2\n",
       "      0.1242  0.1106  -0.9772  0.0315  -0.6627  -0.0676  -0.2781  -0.4494\n",
       "s.e.  0.5256  0.1079   0.5241  0.4813      NaN      NaN      NaN      NaN\n",
       "\n",
       "sigma^2 estimated as 0.01156:  log likelihood = 102.51,  aic = -187.02"
      ]
     },
     "metadata": {},
     "output_type": "display_data"
    }
   ],
   "source": [
    "#####################################################################\n",
    "# Let us now fit the ARIMA(2,1,2)\n",
    "\n",
    "(fit_open <- arima(log(H_TS), c(2, 1, 2),seasonal = list(order = c(2, 1, 2), period = 12)))\n",
    "\n",
    "#####################################################################\n"
   ]
  },
  {
   "cell_type": "code",
   "execution_count": 17,
   "metadata": {},
   "outputs": [
    {
     "name": "stderr",
     "output_type": "stream",
     "text": [
      "Warning message in log(s2):\n",
      "\"NaNs produced\"\n"
     ]
    },
    {
     "data": {
      "text/plain": [
       "\n",
       "Call:\n",
       "arima(x = log(H_TS), order = c(4, 1, 2), seasonal = list(order = c(4, 1, 2), \n",
       "    period = 12))\n",
       "\n",
       "Coefficients:\n",
       "          ar1     ar2     ar3      ar4     ma1      ma2     sar1    sar2\n",
       "      -0.8174  0.1797  0.1003  -0.0480  0.0003  -0.8780  -0.9199  0.1041\n",
       "s.e.   0.0178  0.0225  0.0187   0.0276  0.1682   0.0538   0.0193  0.0098\n",
       "        sar3    sar4     sma1     sma2\n",
       "      0.1792  0.0762  -0.0661  -0.9068\n",
       "s.e.  0.0413  0.0140   0.0857   0.0316\n",
       "\n",
       "sigma^2 estimated as 0.0104:  log likelihood = 104.76,  aic = -183.52"
      ]
     },
     "metadata": {},
     "output_type": "display_data"
    }
   ],
   "source": [
    "#####################################################################\n",
    "# Let us now fit the ARIMA(4,1,2)\n",
    "\n",
    "(fit_open <- arima(log(H_TS), c(4, 1, 2),seasonal = list(order = c(4, 1, 2), period = 12)))\n",
    "\n",
    "#####################################################################\n"
   ]
  },
  {
   "cell_type": "code",
   "execution_count": 18,
   "metadata": {},
   "outputs": [
    {
     "data": {
      "text/plain": [
       "\n",
       "Call:\n",
       "arima(x = log(H_TS), order = c(1, 1, 2), seasonal = list(order = c(1, 1, 2), \n",
       "    period = 12))\n",
       "\n",
       "Coefficients:\n",
       "          ar1     ma1      ma2     sar1     sma1     sma2\n",
       "      -0.9295  0.1019  -0.8979  -0.2592  -0.6978  -0.0927\n",
       "s.e.   0.0415  0.0919   0.0865   0.4568   0.4530   0.4199\n",
       "\n",
       "sigma^2 estimated as 0.01133:  log likelihood = 102.68,  aic = -191.36"
      ]
     },
     "metadata": {},
     "output_type": "display_data"
    }
   ],
   "source": [
    "#####################################################################\n",
    "# Let us now fit the ARIMA(1,1,2)\n",
    "\n",
    "(fit_open <- arima(log(H_TS), c(1, 1, 2),seasonal = list(order = c(1, 1, 2), period = 12)))\n",
    "\n",
    "#####################################################################\n"
   ]
  },
  {
   "cell_type": "code",
   "execution_count": 19,
   "metadata": {},
   "outputs": [
    {
     "name": "stderr",
     "output_type": "stream",
     "text": [
      "Installing package into 'C:/Users/bates/AppData/Local/R/win-library/4.2'\n",
      "(as 'lib' is unspecified)\n",
      "\n"
     ]
    },
    {
     "name": "stdout",
     "output_type": "stream",
     "text": [
      "package 'forecast' successfully unpacked and MD5 sums checked\n"
     ]
    },
    {
     "name": "stderr",
     "output_type": "stream",
     "text": [
      "Warning message:\n",
      "\"cannot remove prior installation of package 'forecast'\"\n",
      "Warning message in file.copy(savedcopy, lib, recursive = TRUE):\n",
      "\"problem copying C:\\Users\\bates\\AppData\\Local\\R\\win-library\\4.2\\00LOCK\\forecast\\libs\\x64\\forecast.dll to C:\\Users\\bates\\AppData\\Local\\R\\win-library\\4.2\\forecast\\libs\\x64\\forecast.dll: Permission denied\"\n",
      "Warning message:\n",
      "\"restored 'forecast'\"\n"
     ]
    },
    {
     "name": "stdout",
     "output_type": "stream",
     "text": [
      "\n",
      "The downloaded binary packages are in\n",
      "\tC:\\Users\\bates\\AppData\\Local\\Temp\\RtmpgtyEcZ\\downloaded_packages\n"
     ]
    },
    {
     "data": {
      "text/html": [
       "<dl>\n",
       "\t<dt>$pred</dt>\n",
       "\t\t<dd><table class=\"dataframe\">\n",
       "<caption>A Time Series: 8 × 12</caption>\n",
       "<thead>\n",
       "\t<tr><th></th><th scope=col>Jan</th><th scope=col>Feb</th><th scope=col>Mar</th><th scope=col>Apr</th><th scope=col>May</th><th scope=col>Jun</th><th scope=col>Jul</th><th scope=col>Aug</th><th scope=col>Sep</th><th scope=col>Oct</th><th scope=col>Nov</th><th scope=col>Dec</th></tr>\n",
       "</thead>\n",
       "<tbody>\n",
       "\t<tr><th scope=row>2022</th><td>        </td><td>        </td><td>        </td><td>        </td><td>        </td><td>        </td><td>        </td><td>13.85189</td><td>13.82603</td><td>13.87765</td><td>13.79656</td><td>13.80259</td></tr>\n",
       "\t<tr><th scope=row>2023</th><td>13.77799</td><td>13.82596</td><td>13.85461</td><td>13.90047</td><td>13.88874</td><td>13.90232</td><td>13.85872</td><td>13.88869</td><td>13.90669</td><td>13.92860</td><td>13.86905</td><td>13.86585</td></tr>\n",
       "\t<tr><th scope=row>2024</th><td>13.83910</td><td>13.88528</td><td>13.92021</td><td>13.95010</td><td>13.95102</td><td>13.95358</td><td>13.91751</td><td>13.95338</td><td>13.96508</td><td>13.98998</td><td>13.92923</td><td>13.92435</td></tr>\n",
       "\t<tr><th scope=row>2025</th><td>13.90194</td><td>13.94507</td><td>13.98163</td><td>14.01263</td><td>14.01309</td><td>14.01588</td><td>13.98030</td><td>14.01238</td><td>14.02782</td><td>14.04998</td><td>13.99137</td><td>13.98523</td></tr>\n",
       "\t<tr><th scope=row>2026</th><td>13.96327</td><td>14.00573</td><td>14.04322</td><td>14.07268</td><td>14.07442</td><td>14.07606</td><td>14.04137</td><td>14.07349</td><td>14.08883</td><td>14.11090</td><td>14.05248</td><td>14.04597</td></tr>\n",
       "\t<tr><th scope=row>2027</th><td>14.02454</td><td>14.06657</td><td>14.10439</td><td>14.13372</td><td>14.13562</td><td>14.13710</td><td>14.10260</td><td>14.13432</td><td>14.15005</td><td>14.17180</td><td>14.11365</td><td>14.10694</td></tr>\n",
       "\t<tr><th scope=row>2028</th><td>14.08565</td><td>14.12753</td><td>14.16550</td><td>14.19465</td><td>14.19671</td><td>14.19805</td><td>14.16367</td><td>14.19533</td><td>14.21111</td><td>14.23280</td><td>14.17471</td><td>14.16793</td></tr>\n",
       "\t<tr><th scope=row>2029</th><td>14.14672</td><td>14.18854</td><td>14.22657</td><td>14.25567</td><td>14.25777</td><td>14.25907</td><td>14.22473</td><td>        </td><td>        </td><td>        </td><td>        </td><td>        </td></tr>\n",
       "</tbody>\n",
       "</table>\n",
       "</dd>\n",
       "\t<dt>$se</dt>\n",
       "\t\t<dd><table class=\"dataframe\">\n",
       "<caption>A Time Series: 8 × 12</caption>\n",
       "<thead>\n",
       "\t<tr><th></th><th scope=col>Jan</th><th scope=col>Feb</th><th scope=col>Mar</th><th scope=col>Apr</th><th scope=col>May</th><th scope=col>Jun</th><th scope=col>Jul</th><th scope=col>Aug</th><th scope=col>Sep</th><th scope=col>Oct</th><th scope=col>Nov</th><th scope=col>Dec</th></tr>\n",
       "</thead>\n",
       "<tbody>\n",
       "\t<tr><th scope=row>2022</th><td>         </td><td>         </td><td>         </td><td>         </td><td>         </td><td>         </td><td>         </td><td>0.1071836</td><td>0.1085653</td><td>0.1087098</td><td>0.1099463</td><td>0.1101330</td></tr>\n",
       "\t<tr><th scope=row>2023</th><td>0.1112182</td><td>0.1114386</td><td>0.1124637</td><td>0.1127204</td><td>0.1136643</td><td>0.1139538</td><td>0.1148295</td><td>0.1156097</td><td>0.1165194</td><td>0.1168817</td><td>0.1177346</td><td>0.1181223</td></tr>\n",
       "\t<tr><th scope=row>2024</th><td>0.1189200</td><td>0.1193246</td><td>0.1200913</td><td>0.1205145</td><td>0.1212461</td><td>0.1216851</td><td>0.1223863</td><td>0.1265052</td><td>0.1275587</td><td>0.1281066</td><td>0.1291055</td><td>0.1296758</td></tr>\n",
       "\t<tr><th scope=row>2025</th><td>0.1306297</td><td>0.1312126</td><td>0.1321271</td><td>0.1327253</td><td>0.1336048</td><td>0.1342154</td><td>0.1350643</td><td>0.1383885</td><td>0.1395199</td><td>0.1402221</td><td>0.1413045</td><td>0.1420238</td></tr>\n",
       "\t<tr><th scope=row>2026</th><td>0.1430737</td><td>0.1437998</td><td>0.1448052</td><td>0.1455419</td><td>0.1465147</td><td>0.1472596</td><td>0.1482037</td><td>0.1518887</td><td>0.1531387</td><td>0.1539746</td><td>0.1551752</td><td>0.1560256</td></tr>\n",
       "\t<tr><th scope=row>2027</th><td>0.1571990</td><td>0.1580533</td><td>0.1591751</td><td>0.1600376</td><td>0.1611260</td><td>0.1619944</td><td>0.1630529</td><td>0.1667520</td><td>0.1681117</td><td>0.1690674</td><td>0.1703771</td><td>0.1713453</td></tr>\n",
       "\t<tr><th scope=row>2028</th><td>0.1726320</td><td>0.1736017</td><td>0.1748308</td><td>0.1758068</td><td>0.1770016</td><td>0.1779818</td><td>0.1791458</td><td>0.1829093</td><td>0.1843744</td><td>0.1854397</td><td>0.1868539</td><td>0.1879303</td></tr>\n",
       "\t<tr><th scope=row>2029</th><td>0.1893244</td><td>0.1904005</td><td>0.1917322</td><td>0.1928132</td><td>0.1941097</td><td>0.1951934</td><td>0.1964581</td><td>         </td><td>         </td><td>         </td><td>         </td><td>         </td></tr>\n",
       "</tbody>\n",
       "</table>\n",
       "</dd>\n",
       "</dl>\n"
      ],
      "text/latex": [
       "\\begin{description}\n",
       "\\item[\\$pred] A Time Series: 8 × 12\n",
       "\\begin{tabular}{r|llllllllllll}\n",
       "  & Jan & Feb & Mar & Apr & May & Jun & Jul & Aug & Sep & Oct & Nov & Dec\\\\\n",
       "\\hline\n",
       "\t2022 &          &          &          &          &          &          &          & 13.85189 & 13.82603 & 13.87765 & 13.79656 & 13.80259\\\\\n",
       "\t2023 & 13.77799 & 13.82596 & 13.85461 & 13.90047 & 13.88874 & 13.90232 & 13.85872 & 13.88869 & 13.90669 & 13.92860 & 13.86905 & 13.86585\\\\\n",
       "\t2024 & 13.83910 & 13.88528 & 13.92021 & 13.95010 & 13.95102 & 13.95358 & 13.91751 & 13.95338 & 13.96508 & 13.98998 & 13.92923 & 13.92435\\\\\n",
       "\t2025 & 13.90194 & 13.94507 & 13.98163 & 14.01263 & 14.01309 & 14.01588 & 13.98030 & 14.01238 & 14.02782 & 14.04998 & 13.99137 & 13.98523\\\\\n",
       "\t2026 & 13.96327 & 14.00573 & 14.04322 & 14.07268 & 14.07442 & 14.07606 & 14.04137 & 14.07349 & 14.08883 & 14.11090 & 14.05248 & 14.04597\\\\\n",
       "\t2027 & 14.02454 & 14.06657 & 14.10439 & 14.13372 & 14.13562 & 14.13710 & 14.10260 & 14.13432 & 14.15005 & 14.17180 & 14.11365 & 14.10694\\\\\n",
       "\t2028 & 14.08565 & 14.12753 & 14.16550 & 14.19465 & 14.19671 & 14.19805 & 14.16367 & 14.19533 & 14.21111 & 14.23280 & 14.17471 & 14.16793\\\\\n",
       "\t2029 & 14.14672 & 14.18854 & 14.22657 & 14.25567 & 14.25777 & 14.25907 & 14.22473 &          &          &          &          &         \\\\\n",
       "\\end{tabular}\n",
       "\n",
       "\\item[\\$se] A Time Series: 8 × 12\n",
       "\\begin{tabular}{r|llllllllllll}\n",
       "  & Jan & Feb & Mar & Apr & May & Jun & Jul & Aug & Sep & Oct & Nov & Dec\\\\\n",
       "\\hline\n",
       "\t2022 &           &           &           &           &           &           &           & 0.1071836 & 0.1085653 & 0.1087098 & 0.1099463 & 0.1101330\\\\\n",
       "\t2023 & 0.1112182 & 0.1114386 & 0.1124637 & 0.1127204 & 0.1136643 & 0.1139538 & 0.1148295 & 0.1156097 & 0.1165194 & 0.1168817 & 0.1177346 & 0.1181223\\\\\n",
       "\t2024 & 0.1189200 & 0.1193246 & 0.1200913 & 0.1205145 & 0.1212461 & 0.1216851 & 0.1223863 & 0.1265052 & 0.1275587 & 0.1281066 & 0.1291055 & 0.1296758\\\\\n",
       "\t2025 & 0.1306297 & 0.1312126 & 0.1321271 & 0.1327253 & 0.1336048 & 0.1342154 & 0.1350643 & 0.1383885 & 0.1395199 & 0.1402221 & 0.1413045 & 0.1420238\\\\\n",
       "\t2026 & 0.1430737 & 0.1437998 & 0.1448052 & 0.1455419 & 0.1465147 & 0.1472596 & 0.1482037 & 0.1518887 & 0.1531387 & 0.1539746 & 0.1551752 & 0.1560256\\\\\n",
       "\t2027 & 0.1571990 & 0.1580533 & 0.1591751 & 0.1600376 & 0.1611260 & 0.1619944 & 0.1630529 & 0.1667520 & 0.1681117 & 0.1690674 & 0.1703771 & 0.1713453\\\\\n",
       "\t2028 & 0.1726320 & 0.1736017 & 0.1748308 & 0.1758068 & 0.1770016 & 0.1779818 & 0.1791458 & 0.1829093 & 0.1843744 & 0.1854397 & 0.1868539 & 0.1879303\\\\\n",
       "\t2029 & 0.1893244 & 0.1904005 & 0.1917322 & 0.1928132 & 0.1941097 & 0.1951934 & 0.1964581 &           &           &           &           &          \\\\\n",
       "\\end{tabular}\n",
       "\n",
       "\\end{description}\n"
      ],
      "text/markdown": [
       "$pred\n",
       ":   \n",
       "A Time Series: 8 × 12\n",
       "\n",
       "| <!--/--> | Jan | Feb | Mar | Apr | May | Jun | Jul | Aug | Sep | Oct | Nov | Dec |\n",
       "|---|---|---|---|---|---|---|---|---|---|---|---|---|\n",
       "| 2022 | <!----> | <!----> | <!----> | <!----> | <!----> | <!----> | <!----> | 13.85189 | 13.82603 | 13.87765 | 13.79656 | 13.80259 |\n",
       "| 2023 | 13.77799 | 13.82596 | 13.85461 | 13.90047 | 13.88874 | 13.90232 | 13.85872 | 13.88869 | 13.90669 | 13.92860 | 13.86905 | 13.86585 |\n",
       "| 2024 | 13.83910 | 13.88528 | 13.92021 | 13.95010 | 13.95102 | 13.95358 | 13.91751 | 13.95338 | 13.96508 | 13.98998 | 13.92923 | 13.92435 |\n",
       "| 2025 | 13.90194 | 13.94507 | 13.98163 | 14.01263 | 14.01309 | 14.01588 | 13.98030 | 14.01238 | 14.02782 | 14.04998 | 13.99137 | 13.98523 |\n",
       "| 2026 | 13.96327 | 14.00573 | 14.04322 | 14.07268 | 14.07442 | 14.07606 | 14.04137 | 14.07349 | 14.08883 | 14.11090 | 14.05248 | 14.04597 |\n",
       "| 2027 | 14.02454 | 14.06657 | 14.10439 | 14.13372 | 14.13562 | 14.13710 | 14.10260 | 14.13432 | 14.15005 | 14.17180 | 14.11365 | 14.10694 |\n",
       "| 2028 | 14.08565 | 14.12753 | 14.16550 | 14.19465 | 14.19671 | 14.19805 | 14.16367 | 14.19533 | 14.21111 | 14.23280 | 14.17471 | 14.16793 |\n",
       "| 2029 | 14.14672 | 14.18854 | 14.22657 | 14.25567 | 14.25777 | 14.25907 | 14.22473 | <!----> | <!----> | <!----> | <!----> | <!----> |\n",
       "\n",
       "\n",
       "$se\n",
       ":   \n",
       "A Time Series: 8 × 12\n",
       "\n",
       "| <!--/--> | Jan | Feb | Mar | Apr | May | Jun | Jul | Aug | Sep | Oct | Nov | Dec |\n",
       "|---|---|---|---|---|---|---|---|---|---|---|---|---|\n",
       "| 2022 | <!----> | <!----> | <!----> | <!----> | <!----> | <!----> | <!----> | 0.1071836 | 0.1085653 | 0.1087098 | 0.1099463 | 0.1101330 |\n",
       "| 2023 | 0.1112182 | 0.1114386 | 0.1124637 | 0.1127204 | 0.1136643 | 0.1139538 | 0.1148295 | 0.1156097 | 0.1165194 | 0.1168817 | 0.1177346 | 0.1181223 |\n",
       "| 2024 | 0.1189200 | 0.1193246 | 0.1200913 | 0.1205145 | 0.1212461 | 0.1216851 | 0.1223863 | 0.1265052 | 0.1275587 | 0.1281066 | 0.1291055 | 0.1296758 |\n",
       "| 2025 | 0.1306297 | 0.1312126 | 0.1321271 | 0.1327253 | 0.1336048 | 0.1342154 | 0.1350643 | 0.1383885 | 0.1395199 | 0.1402221 | 0.1413045 | 0.1420238 |\n",
       "| 2026 | 0.1430737 | 0.1437998 | 0.1448052 | 0.1455419 | 0.1465147 | 0.1472596 | 0.1482037 | 0.1518887 | 0.1531387 | 0.1539746 | 0.1551752 | 0.1560256 |\n",
       "| 2027 | 0.1571990 | 0.1580533 | 0.1591751 | 0.1600376 | 0.1611260 | 0.1619944 | 0.1630529 | 0.1667520 | 0.1681117 | 0.1690674 | 0.1703771 | 0.1713453 |\n",
       "| 2028 | 0.1726320 | 0.1736017 | 0.1748308 | 0.1758068 | 0.1770016 | 0.1779818 | 0.1791458 | 0.1829093 | 0.1843744 | 0.1854397 | 0.1868539 | 0.1879303 |\n",
       "| 2029 | 0.1893244 | 0.1904005 | 0.1917322 | 0.1928132 | 0.1941097 | 0.1951934 | 0.1964581 | <!----> | <!----> | <!----> | <!----> | <!----> |\n",
       "\n",
       "\n",
       "\n",
       "\n"
      ],
      "text/plain": [
       "$pred\n",
       "          Jan      Feb      Mar      Apr      May      Jun      Jul      Aug\n",
       "2022                                                                13.85189\n",
       "2023 13.77799 13.82596 13.85461 13.90047 13.88874 13.90232 13.85872 13.88869\n",
       "2024 13.83910 13.88528 13.92021 13.95010 13.95102 13.95358 13.91751 13.95338\n",
       "2025 13.90194 13.94507 13.98163 14.01263 14.01309 14.01588 13.98030 14.01238\n",
       "2026 13.96327 14.00573 14.04322 14.07268 14.07442 14.07606 14.04137 14.07349\n",
       "2027 14.02454 14.06657 14.10439 14.13372 14.13562 14.13710 14.10260 14.13432\n",
       "2028 14.08565 14.12753 14.16550 14.19465 14.19671 14.19805 14.16367 14.19533\n",
       "2029 14.14672 14.18854 14.22657 14.25567 14.25777 14.25907 14.22473         \n",
       "          Sep      Oct      Nov      Dec\n",
       "2022 13.82603 13.87765 13.79656 13.80259\n",
       "2023 13.90669 13.92860 13.86905 13.86585\n",
       "2024 13.96508 13.98998 13.92923 13.92435\n",
       "2025 14.02782 14.04998 13.99137 13.98523\n",
       "2026 14.08883 14.11090 14.05248 14.04597\n",
       "2027 14.15005 14.17180 14.11365 14.10694\n",
       "2028 14.21111 14.23280 14.17471 14.16793\n",
       "2029                                    \n",
       "\n",
       "$se\n",
       "           Jan       Feb       Mar       Apr       May       Jun       Jul\n",
       "2022                                                                      \n",
       "2023 0.1112182 0.1114386 0.1124637 0.1127204 0.1136643 0.1139538 0.1148295\n",
       "2024 0.1189200 0.1193246 0.1200913 0.1205145 0.1212461 0.1216851 0.1223863\n",
       "2025 0.1306297 0.1312126 0.1321271 0.1327253 0.1336048 0.1342154 0.1350643\n",
       "2026 0.1430737 0.1437998 0.1448052 0.1455419 0.1465147 0.1472596 0.1482037\n",
       "2027 0.1571990 0.1580533 0.1591751 0.1600376 0.1611260 0.1619944 0.1630529\n",
       "2028 0.1726320 0.1736017 0.1748308 0.1758068 0.1770016 0.1779818 0.1791458\n",
       "2029 0.1893244 0.1904005 0.1917322 0.1928132 0.1941097 0.1951934 0.1964581\n",
       "           Aug       Sep       Oct       Nov       Dec\n",
       "2022 0.1071836 0.1085653 0.1087098 0.1099463 0.1101330\n",
       "2023 0.1156097 0.1165194 0.1168817 0.1177346 0.1181223\n",
       "2024 0.1265052 0.1275587 0.1281066 0.1291055 0.1296758\n",
       "2025 0.1383885 0.1395199 0.1402221 0.1413045 0.1420238\n",
       "2026 0.1518887 0.1531387 0.1539746 0.1551752 0.1560256\n",
       "2027 0.1667520 0.1681117 0.1690674 0.1703771 0.1713453\n",
       "2028 0.1829093 0.1843744 0.1854397 0.1868539 0.1879303\n",
       "2029                                                  \n"
      ]
     },
     "metadata": {},
     "output_type": "display_data"
    },
    {
     "data": {
      "text/html": [
       "<dl>\n",
       "\t<dt>$pred</dt>\n",
       "\t\t<dd><table class=\"dataframe\">\n",
       "<caption>A Time Series: 8 × 12</caption>\n",
       "<thead>\n",
       "\t<tr><th></th><th scope=col>Jan</th><th scope=col>Feb</th><th scope=col>Mar</th><th scope=col>Apr</th><th scope=col>May</th><th scope=col>Jun</th><th scope=col>Jul</th><th scope=col>Aug</th><th scope=col>Sep</th><th scope=col>Oct</th><th scope=col>Nov</th><th scope=col>Dec</th></tr>\n",
       "</thead>\n",
       "<tbody>\n",
       "\t<tr><th scope=row>2022</th><td>        </td><td>        </td><td>        </td><td>        </td><td>        </td><td>        </td><td>        </td><td>13.85189</td><td>13.82603</td><td>13.87765</td><td>13.79656</td><td>13.80259</td></tr>\n",
       "\t<tr><th scope=row>2023</th><td>13.77799</td><td>13.82596</td><td>13.85461</td><td>13.90047</td><td>13.88874</td><td>13.90232</td><td>13.85872</td><td>13.88869</td><td>13.90669</td><td>13.92860</td><td>13.86905</td><td>13.86585</td></tr>\n",
       "\t<tr><th scope=row>2024</th><td>13.83910</td><td>13.88528</td><td>13.92021</td><td>13.95010</td><td>13.95102</td><td>13.95358</td><td>13.91751</td><td>13.95338</td><td>13.96508</td><td>13.98998</td><td>13.92923</td><td>13.92435</td></tr>\n",
       "\t<tr><th scope=row>2025</th><td>13.90194</td><td>13.94507</td><td>13.98163</td><td>14.01263</td><td>14.01309</td><td>14.01588</td><td>13.98030</td><td>14.01238</td><td>14.02782</td><td>14.04998</td><td>13.99137</td><td>13.98523</td></tr>\n",
       "\t<tr><th scope=row>2026</th><td>13.96327</td><td>14.00573</td><td>14.04322</td><td>14.07268</td><td>14.07442</td><td>14.07606</td><td>14.04137</td><td>14.07349</td><td>14.08883</td><td>14.11090</td><td>14.05248</td><td>14.04597</td></tr>\n",
       "\t<tr><th scope=row>2027</th><td>14.02454</td><td>14.06657</td><td>14.10439</td><td>14.13372</td><td>14.13562</td><td>14.13710</td><td>14.10260</td><td>14.13432</td><td>14.15005</td><td>14.17180</td><td>14.11365</td><td>14.10694</td></tr>\n",
       "\t<tr><th scope=row>2028</th><td>14.08565</td><td>14.12753</td><td>14.16550</td><td>14.19465</td><td>14.19671</td><td>14.19805</td><td>14.16367</td><td>14.19533</td><td>14.21111</td><td>14.23280</td><td>14.17471</td><td>14.16793</td></tr>\n",
       "\t<tr><th scope=row>2029</th><td>14.14672</td><td>14.18854</td><td>14.22657</td><td>14.25567</td><td>14.25777</td><td>14.25907</td><td>14.22473</td><td>        </td><td>        </td><td>        </td><td>        </td><td>        </td></tr>\n",
       "</tbody>\n",
       "</table>\n",
       "</dd>\n",
       "\t<dt>$se</dt>\n",
       "\t\t<dd><table class=\"dataframe\">\n",
       "<caption>A Time Series: 8 × 12</caption>\n",
       "<thead>\n",
       "\t<tr><th></th><th scope=col>Jan</th><th scope=col>Feb</th><th scope=col>Mar</th><th scope=col>Apr</th><th scope=col>May</th><th scope=col>Jun</th><th scope=col>Jul</th><th scope=col>Aug</th><th scope=col>Sep</th><th scope=col>Oct</th><th scope=col>Nov</th><th scope=col>Dec</th></tr>\n",
       "</thead>\n",
       "<tbody>\n",
       "\t<tr><th scope=row>2022</th><td>         </td><td>         </td><td>         </td><td>         </td><td>         </td><td>         </td><td>         </td><td>0.1071836</td><td>0.1085653</td><td>0.1087098</td><td>0.1099463</td><td>0.1101330</td></tr>\n",
       "\t<tr><th scope=row>2023</th><td>0.1112182</td><td>0.1114386</td><td>0.1124637</td><td>0.1127204</td><td>0.1136643</td><td>0.1139538</td><td>0.1148295</td><td>0.1156097</td><td>0.1165194</td><td>0.1168817</td><td>0.1177346</td><td>0.1181223</td></tr>\n",
       "\t<tr><th scope=row>2024</th><td>0.1189200</td><td>0.1193246</td><td>0.1200913</td><td>0.1205145</td><td>0.1212461</td><td>0.1216851</td><td>0.1223863</td><td>0.1265052</td><td>0.1275587</td><td>0.1281066</td><td>0.1291055</td><td>0.1296758</td></tr>\n",
       "\t<tr><th scope=row>2025</th><td>0.1306297</td><td>0.1312126</td><td>0.1321271</td><td>0.1327253</td><td>0.1336048</td><td>0.1342154</td><td>0.1350643</td><td>0.1383885</td><td>0.1395199</td><td>0.1402221</td><td>0.1413045</td><td>0.1420238</td></tr>\n",
       "\t<tr><th scope=row>2026</th><td>0.1430737</td><td>0.1437998</td><td>0.1448052</td><td>0.1455419</td><td>0.1465147</td><td>0.1472596</td><td>0.1482037</td><td>0.1518887</td><td>0.1531387</td><td>0.1539746</td><td>0.1551752</td><td>0.1560256</td></tr>\n",
       "\t<tr><th scope=row>2027</th><td>0.1571990</td><td>0.1580533</td><td>0.1591751</td><td>0.1600376</td><td>0.1611260</td><td>0.1619944</td><td>0.1630529</td><td>0.1667520</td><td>0.1681117</td><td>0.1690674</td><td>0.1703771</td><td>0.1713453</td></tr>\n",
       "\t<tr><th scope=row>2028</th><td>0.1726320</td><td>0.1736017</td><td>0.1748308</td><td>0.1758068</td><td>0.1770016</td><td>0.1779818</td><td>0.1791458</td><td>0.1829093</td><td>0.1843744</td><td>0.1854397</td><td>0.1868539</td><td>0.1879303</td></tr>\n",
       "\t<tr><th scope=row>2029</th><td>0.1893244</td><td>0.1904005</td><td>0.1917322</td><td>0.1928132</td><td>0.1941097</td><td>0.1951934</td><td>0.1964581</td><td>         </td><td>         </td><td>         </td><td>         </td><td>         </td></tr>\n",
       "</tbody>\n",
       "</table>\n",
       "</dd>\n",
       "\t<dt>$pred2</dt>\n",
       "\t\t<dd><table class=\"dataframe\">\n",
       "<caption>A Time Series: 8 × 12</caption>\n",
       "<thead>\n",
       "\t<tr><th></th><th scope=col>Jan</th><th scope=col>Feb</th><th scope=col>Mar</th><th scope=col>Apr</th><th scope=col>May</th><th scope=col>Jun</th><th scope=col>Jul</th><th scope=col>Aug</th><th scope=col>Sep</th><th scope=col>Oct</th><th scope=col>Nov</th><th scope=col>Dec</th></tr>\n",
       "</thead>\n",
       "<tbody>\n",
       "\t<tr><th scope=row>2022</th><td>         </td><td>         </td><td>         </td><td>         </td><td>         </td><td>         </td><td>         </td><td>1037036.7</td><td>1010570.1</td><td>1064098.3</td><td> 981221.9</td><td> 987153.0</td></tr>\n",
       "\t<tr><th scope=row>2023</th><td> 963161.7</td><td>1010496.5</td><td>1039863.4</td><td>1088666.5</td><td>1075965.5</td><td>1090683.4</td><td>1044151.4</td><td>1075913.1</td><td>1095453.7</td><td>1119719.3</td><td>1054993.4</td><td>1051619.8</td></tr>\n",
       "\t<tr><th scope=row>2024</th><td>1023862.0</td><td>1072253.6</td><td>1110362.5</td><td>1144061.4</td><td>1145106.3</td><td>1148038.8</td><td>1107368.2</td><td>1147817.4</td><td>1161323.1</td><td>1190603.5</td><td>1120426.8</td><td>1114974.2</td></tr>\n",
       "\t<tr><th scope=row>2025</th><td>1090262.9</td><td>1138316.5</td><td>1180707.9</td><td>1217883.4</td><td>1218439.7</td><td>1221847.7</td><td>1179135.4</td><td>1217572.2</td><td>1236514.5</td><td>1264230.5</td><td>1192254.3</td><td>1184961.3</td></tr>\n",
       "\t<tr><th scope=row>2026</th><td>1159218.1</td><td>1209499.0</td><td>1255712.7</td><td>1293245.8</td><td>1295509.1</td><td>1297637.1</td><td>1253387.8</td><td>1294299.7</td><td>1314312.9</td><td>1343630.6</td><td>1267392.3</td><td>1259164.3</td></tr>\n",
       "\t<tr><th scope=row>2027</th><td>1232471.6</td><td>1285372.1</td><td>1334915.9</td><td>1374646.4</td><td>1377263.0</td><td>1379311.4</td><td>1332532.2</td><td>1375473.2</td><td>1397284.3</td><td>1428008.4</td><td>1347335.2</td><td>1338327.6</td></tr>\n",
       "\t<tr><th scope=row>2028</th><td>1310130.3</td><td>1366172.5</td><td>1419045.3</td><td>1461007.5</td><td>1464027.4</td><td>1465987.3</td><td>1416446.4</td><td>1462006.1</td><td>1485264.7</td><td>1517832.0</td><td>1432174.6</td><td>1422498.6</td></tr>\n",
       "\t<tr><th scope=row>2029</th><td>1392637.5</td><td>1452109.3</td><td>1508396.1</td><td>1552934.4</td><td>1556209.9</td><td>1558230.9</td><td>1505633.5</td><td>         </td><td>         </td><td>         </td><td>         </td><td>         </td></tr>\n",
       "</tbody>\n",
       "</table>\n",
       "</dd>\n",
       "</dl>\n"
      ],
      "text/latex": [
       "\\begin{description}\n",
       "\\item[\\$pred] A Time Series: 8 × 12\n",
       "\\begin{tabular}{r|llllllllllll}\n",
       "  & Jan & Feb & Mar & Apr & May & Jun & Jul & Aug & Sep & Oct & Nov & Dec\\\\\n",
       "\\hline\n",
       "\t2022 &          &          &          &          &          &          &          & 13.85189 & 13.82603 & 13.87765 & 13.79656 & 13.80259\\\\\n",
       "\t2023 & 13.77799 & 13.82596 & 13.85461 & 13.90047 & 13.88874 & 13.90232 & 13.85872 & 13.88869 & 13.90669 & 13.92860 & 13.86905 & 13.86585\\\\\n",
       "\t2024 & 13.83910 & 13.88528 & 13.92021 & 13.95010 & 13.95102 & 13.95358 & 13.91751 & 13.95338 & 13.96508 & 13.98998 & 13.92923 & 13.92435\\\\\n",
       "\t2025 & 13.90194 & 13.94507 & 13.98163 & 14.01263 & 14.01309 & 14.01588 & 13.98030 & 14.01238 & 14.02782 & 14.04998 & 13.99137 & 13.98523\\\\\n",
       "\t2026 & 13.96327 & 14.00573 & 14.04322 & 14.07268 & 14.07442 & 14.07606 & 14.04137 & 14.07349 & 14.08883 & 14.11090 & 14.05248 & 14.04597\\\\\n",
       "\t2027 & 14.02454 & 14.06657 & 14.10439 & 14.13372 & 14.13562 & 14.13710 & 14.10260 & 14.13432 & 14.15005 & 14.17180 & 14.11365 & 14.10694\\\\\n",
       "\t2028 & 14.08565 & 14.12753 & 14.16550 & 14.19465 & 14.19671 & 14.19805 & 14.16367 & 14.19533 & 14.21111 & 14.23280 & 14.17471 & 14.16793\\\\\n",
       "\t2029 & 14.14672 & 14.18854 & 14.22657 & 14.25567 & 14.25777 & 14.25907 & 14.22473 &          &          &          &          &         \\\\\n",
       "\\end{tabular}\n",
       "\n",
       "\\item[\\$se] A Time Series: 8 × 12\n",
       "\\begin{tabular}{r|llllllllllll}\n",
       "  & Jan & Feb & Mar & Apr & May & Jun & Jul & Aug & Sep & Oct & Nov & Dec\\\\\n",
       "\\hline\n",
       "\t2022 &           &           &           &           &           &           &           & 0.1071836 & 0.1085653 & 0.1087098 & 0.1099463 & 0.1101330\\\\\n",
       "\t2023 & 0.1112182 & 0.1114386 & 0.1124637 & 0.1127204 & 0.1136643 & 0.1139538 & 0.1148295 & 0.1156097 & 0.1165194 & 0.1168817 & 0.1177346 & 0.1181223\\\\\n",
       "\t2024 & 0.1189200 & 0.1193246 & 0.1200913 & 0.1205145 & 0.1212461 & 0.1216851 & 0.1223863 & 0.1265052 & 0.1275587 & 0.1281066 & 0.1291055 & 0.1296758\\\\\n",
       "\t2025 & 0.1306297 & 0.1312126 & 0.1321271 & 0.1327253 & 0.1336048 & 0.1342154 & 0.1350643 & 0.1383885 & 0.1395199 & 0.1402221 & 0.1413045 & 0.1420238\\\\\n",
       "\t2026 & 0.1430737 & 0.1437998 & 0.1448052 & 0.1455419 & 0.1465147 & 0.1472596 & 0.1482037 & 0.1518887 & 0.1531387 & 0.1539746 & 0.1551752 & 0.1560256\\\\\n",
       "\t2027 & 0.1571990 & 0.1580533 & 0.1591751 & 0.1600376 & 0.1611260 & 0.1619944 & 0.1630529 & 0.1667520 & 0.1681117 & 0.1690674 & 0.1703771 & 0.1713453\\\\\n",
       "\t2028 & 0.1726320 & 0.1736017 & 0.1748308 & 0.1758068 & 0.1770016 & 0.1779818 & 0.1791458 & 0.1829093 & 0.1843744 & 0.1854397 & 0.1868539 & 0.1879303\\\\\n",
       "\t2029 & 0.1893244 & 0.1904005 & 0.1917322 & 0.1928132 & 0.1941097 & 0.1951934 & 0.1964581 &           &           &           &           &          \\\\\n",
       "\\end{tabular}\n",
       "\n",
       "\\item[\\$pred2] A Time Series: 8 × 12\n",
       "\\begin{tabular}{r|llllllllllll}\n",
       "  & Jan & Feb & Mar & Apr & May & Jun & Jul & Aug & Sep & Oct & Nov & Dec\\\\\n",
       "\\hline\n",
       "\t2022 &           &           &           &           &           &           &           & 1037036.7 & 1010570.1 & 1064098.3 &  981221.9 &  987153.0\\\\\n",
       "\t2023 &  963161.7 & 1010496.5 & 1039863.4 & 1088666.5 & 1075965.5 & 1090683.4 & 1044151.4 & 1075913.1 & 1095453.7 & 1119719.3 & 1054993.4 & 1051619.8\\\\\n",
       "\t2024 & 1023862.0 & 1072253.6 & 1110362.5 & 1144061.4 & 1145106.3 & 1148038.8 & 1107368.2 & 1147817.4 & 1161323.1 & 1190603.5 & 1120426.8 & 1114974.2\\\\\n",
       "\t2025 & 1090262.9 & 1138316.5 & 1180707.9 & 1217883.4 & 1218439.7 & 1221847.7 & 1179135.4 & 1217572.2 & 1236514.5 & 1264230.5 & 1192254.3 & 1184961.3\\\\\n",
       "\t2026 & 1159218.1 & 1209499.0 & 1255712.7 & 1293245.8 & 1295509.1 & 1297637.1 & 1253387.8 & 1294299.7 & 1314312.9 & 1343630.6 & 1267392.3 & 1259164.3\\\\\n",
       "\t2027 & 1232471.6 & 1285372.1 & 1334915.9 & 1374646.4 & 1377263.0 & 1379311.4 & 1332532.2 & 1375473.2 & 1397284.3 & 1428008.4 & 1347335.2 & 1338327.6\\\\\n",
       "\t2028 & 1310130.3 & 1366172.5 & 1419045.3 & 1461007.5 & 1464027.4 & 1465987.3 & 1416446.4 & 1462006.1 & 1485264.7 & 1517832.0 & 1432174.6 & 1422498.6\\\\\n",
       "\t2029 & 1392637.5 & 1452109.3 & 1508396.1 & 1552934.4 & 1556209.9 & 1558230.9 & 1505633.5 &           &           &           &           &          \\\\\n",
       "\\end{tabular}\n",
       "\n",
       "\\end{description}\n"
      ],
      "text/markdown": [
       "$pred\n",
       ":   \n",
       "A Time Series: 8 × 12\n",
       "\n",
       "| <!--/--> | Jan | Feb | Mar | Apr | May | Jun | Jul | Aug | Sep | Oct | Nov | Dec |\n",
       "|---|---|---|---|---|---|---|---|---|---|---|---|---|\n",
       "| 2022 | <!----> | <!----> | <!----> | <!----> | <!----> | <!----> | <!----> | 13.85189 | 13.82603 | 13.87765 | 13.79656 | 13.80259 |\n",
       "| 2023 | 13.77799 | 13.82596 | 13.85461 | 13.90047 | 13.88874 | 13.90232 | 13.85872 | 13.88869 | 13.90669 | 13.92860 | 13.86905 | 13.86585 |\n",
       "| 2024 | 13.83910 | 13.88528 | 13.92021 | 13.95010 | 13.95102 | 13.95358 | 13.91751 | 13.95338 | 13.96508 | 13.98998 | 13.92923 | 13.92435 |\n",
       "| 2025 | 13.90194 | 13.94507 | 13.98163 | 14.01263 | 14.01309 | 14.01588 | 13.98030 | 14.01238 | 14.02782 | 14.04998 | 13.99137 | 13.98523 |\n",
       "| 2026 | 13.96327 | 14.00573 | 14.04322 | 14.07268 | 14.07442 | 14.07606 | 14.04137 | 14.07349 | 14.08883 | 14.11090 | 14.05248 | 14.04597 |\n",
       "| 2027 | 14.02454 | 14.06657 | 14.10439 | 14.13372 | 14.13562 | 14.13710 | 14.10260 | 14.13432 | 14.15005 | 14.17180 | 14.11365 | 14.10694 |\n",
       "| 2028 | 14.08565 | 14.12753 | 14.16550 | 14.19465 | 14.19671 | 14.19805 | 14.16367 | 14.19533 | 14.21111 | 14.23280 | 14.17471 | 14.16793 |\n",
       "| 2029 | 14.14672 | 14.18854 | 14.22657 | 14.25567 | 14.25777 | 14.25907 | 14.22473 | <!----> | <!----> | <!----> | <!----> | <!----> |\n",
       "\n",
       "\n",
       "$se\n",
       ":   \n",
       "A Time Series: 8 × 12\n",
       "\n",
       "| <!--/--> | Jan | Feb | Mar | Apr | May | Jun | Jul | Aug | Sep | Oct | Nov | Dec |\n",
       "|---|---|---|---|---|---|---|---|---|---|---|---|---|\n",
       "| 2022 | <!----> | <!----> | <!----> | <!----> | <!----> | <!----> | <!----> | 0.1071836 | 0.1085653 | 0.1087098 | 0.1099463 | 0.1101330 |\n",
       "| 2023 | 0.1112182 | 0.1114386 | 0.1124637 | 0.1127204 | 0.1136643 | 0.1139538 | 0.1148295 | 0.1156097 | 0.1165194 | 0.1168817 | 0.1177346 | 0.1181223 |\n",
       "| 2024 | 0.1189200 | 0.1193246 | 0.1200913 | 0.1205145 | 0.1212461 | 0.1216851 | 0.1223863 | 0.1265052 | 0.1275587 | 0.1281066 | 0.1291055 | 0.1296758 |\n",
       "| 2025 | 0.1306297 | 0.1312126 | 0.1321271 | 0.1327253 | 0.1336048 | 0.1342154 | 0.1350643 | 0.1383885 | 0.1395199 | 0.1402221 | 0.1413045 | 0.1420238 |\n",
       "| 2026 | 0.1430737 | 0.1437998 | 0.1448052 | 0.1455419 | 0.1465147 | 0.1472596 | 0.1482037 | 0.1518887 | 0.1531387 | 0.1539746 | 0.1551752 | 0.1560256 |\n",
       "| 2027 | 0.1571990 | 0.1580533 | 0.1591751 | 0.1600376 | 0.1611260 | 0.1619944 | 0.1630529 | 0.1667520 | 0.1681117 | 0.1690674 | 0.1703771 | 0.1713453 |\n",
       "| 2028 | 0.1726320 | 0.1736017 | 0.1748308 | 0.1758068 | 0.1770016 | 0.1779818 | 0.1791458 | 0.1829093 | 0.1843744 | 0.1854397 | 0.1868539 | 0.1879303 |\n",
       "| 2029 | 0.1893244 | 0.1904005 | 0.1917322 | 0.1928132 | 0.1941097 | 0.1951934 | 0.1964581 | <!----> | <!----> | <!----> | <!----> | <!----> |\n",
       "\n",
       "\n",
       "$pred2\n",
       ":   \n",
       "A Time Series: 8 × 12\n",
       "\n",
       "| <!--/--> | Jan | Feb | Mar | Apr | May | Jun | Jul | Aug | Sep | Oct | Nov | Dec |\n",
       "|---|---|---|---|---|---|---|---|---|---|---|---|---|\n",
       "| 2022 | <!----> | <!----> | <!----> | <!----> | <!----> | <!----> | <!----> | 1037036.7 | 1010570.1 | 1064098.3 |  981221.9 |  987153.0 |\n",
       "| 2023 |  963161.7 | 1010496.5 | 1039863.4 | 1088666.5 | 1075965.5 | 1090683.4 | 1044151.4 | 1075913.1 | 1095453.7 | 1119719.3 | 1054993.4 | 1051619.8 |\n",
       "| 2024 | 1023862.0 | 1072253.6 | 1110362.5 | 1144061.4 | 1145106.3 | 1148038.8 | 1107368.2 | 1147817.4 | 1161323.1 | 1190603.5 | 1120426.8 | 1114974.2 |\n",
       "| 2025 | 1090262.9 | 1138316.5 | 1180707.9 | 1217883.4 | 1218439.7 | 1221847.7 | 1179135.4 | 1217572.2 | 1236514.5 | 1264230.5 | 1192254.3 | 1184961.3 |\n",
       "| 2026 | 1159218.1 | 1209499.0 | 1255712.7 | 1293245.8 | 1295509.1 | 1297637.1 | 1253387.8 | 1294299.7 | 1314312.9 | 1343630.6 | 1267392.3 | 1259164.3 |\n",
       "| 2027 | 1232471.6 | 1285372.1 | 1334915.9 | 1374646.4 | 1377263.0 | 1379311.4 | 1332532.2 | 1375473.2 | 1397284.3 | 1428008.4 | 1347335.2 | 1338327.6 |\n",
       "| 2028 | 1310130.3 | 1366172.5 | 1419045.3 | 1461007.5 | 1464027.4 | 1465987.3 | 1416446.4 | 1462006.1 | 1485264.7 | 1517832.0 | 1432174.6 | 1422498.6 |\n",
       "| 2029 | 1392637.5 | 1452109.3 | 1508396.1 | 1552934.4 | 1556209.9 | 1558230.9 | 1505633.5 | <!----> | <!----> | <!----> | <!----> | <!----> |\n",
       "\n",
       "\n",
       "\n",
       "\n"
      ],
      "text/plain": [
       "$pred\n",
       "          Jan      Feb      Mar      Apr      May      Jun      Jul      Aug\n",
       "2022                                                                13.85189\n",
       "2023 13.77799 13.82596 13.85461 13.90047 13.88874 13.90232 13.85872 13.88869\n",
       "2024 13.83910 13.88528 13.92021 13.95010 13.95102 13.95358 13.91751 13.95338\n",
       "2025 13.90194 13.94507 13.98163 14.01263 14.01309 14.01588 13.98030 14.01238\n",
       "2026 13.96327 14.00573 14.04322 14.07268 14.07442 14.07606 14.04137 14.07349\n",
       "2027 14.02454 14.06657 14.10439 14.13372 14.13562 14.13710 14.10260 14.13432\n",
       "2028 14.08565 14.12753 14.16550 14.19465 14.19671 14.19805 14.16367 14.19533\n",
       "2029 14.14672 14.18854 14.22657 14.25567 14.25777 14.25907 14.22473         \n",
       "          Sep      Oct      Nov      Dec\n",
       "2022 13.82603 13.87765 13.79656 13.80259\n",
       "2023 13.90669 13.92860 13.86905 13.86585\n",
       "2024 13.96508 13.98998 13.92923 13.92435\n",
       "2025 14.02782 14.04998 13.99137 13.98523\n",
       "2026 14.08883 14.11090 14.05248 14.04597\n",
       "2027 14.15005 14.17180 14.11365 14.10694\n",
       "2028 14.21111 14.23280 14.17471 14.16793\n",
       "2029                                    \n",
       "\n",
       "$se\n",
       "           Jan       Feb       Mar       Apr       May       Jun       Jul\n",
       "2022                                                                      \n",
       "2023 0.1112182 0.1114386 0.1124637 0.1127204 0.1136643 0.1139538 0.1148295\n",
       "2024 0.1189200 0.1193246 0.1200913 0.1205145 0.1212461 0.1216851 0.1223863\n",
       "2025 0.1306297 0.1312126 0.1321271 0.1327253 0.1336048 0.1342154 0.1350643\n",
       "2026 0.1430737 0.1437998 0.1448052 0.1455419 0.1465147 0.1472596 0.1482037\n",
       "2027 0.1571990 0.1580533 0.1591751 0.1600376 0.1611260 0.1619944 0.1630529\n",
       "2028 0.1726320 0.1736017 0.1748308 0.1758068 0.1770016 0.1779818 0.1791458\n",
       "2029 0.1893244 0.1904005 0.1917322 0.1928132 0.1941097 0.1951934 0.1964581\n",
       "           Aug       Sep       Oct       Nov       Dec\n",
       "2022 0.1071836 0.1085653 0.1087098 0.1099463 0.1101330\n",
       "2023 0.1156097 0.1165194 0.1168817 0.1177346 0.1181223\n",
       "2024 0.1265052 0.1275587 0.1281066 0.1291055 0.1296758\n",
       "2025 0.1383885 0.1395199 0.1402221 0.1413045 0.1420238\n",
       "2026 0.1518887 0.1531387 0.1539746 0.1551752 0.1560256\n",
       "2027 0.1667520 0.1681117 0.1690674 0.1703771 0.1713453\n",
       "2028 0.1829093 0.1843744 0.1854397 0.1868539 0.1879303\n",
       "2029                                                  \n",
       "\n",
       "$pred2\n",
       "           Jan       Feb       Mar       Apr       May       Jun       Jul\n",
       "2022                                                                      \n",
       "2023  963161.7 1010496.5 1039863.4 1088666.5 1075965.5 1090683.4 1044151.4\n",
       "2024 1023862.0 1072253.6 1110362.5 1144061.4 1145106.3 1148038.8 1107368.2\n",
       "2025 1090262.9 1138316.5 1180707.9 1217883.4 1218439.7 1221847.7 1179135.4\n",
       "2026 1159218.1 1209499.0 1255712.7 1293245.8 1295509.1 1297637.1 1253387.8\n",
       "2027 1232471.6 1285372.1 1334915.9 1374646.4 1377263.0 1379311.4 1332532.2\n",
       "2028 1310130.3 1366172.5 1419045.3 1461007.5 1464027.4 1465987.3 1416446.4\n",
       "2029 1392637.5 1452109.3 1508396.1 1552934.4 1556209.9 1558230.9 1505633.5\n",
       "           Aug       Sep       Oct       Nov       Dec\n",
       "2022 1037036.7 1010570.1 1064098.3  981221.9  987153.0\n",
       "2023 1075913.1 1095453.7 1119719.3 1054993.4 1051619.8\n",
       "2024 1147817.4 1161323.1 1190603.5 1120426.8 1114974.2\n",
       "2025 1217572.2 1236514.5 1264230.5 1192254.3 1184961.3\n",
       "2026 1294299.7 1314312.9 1343630.6 1267392.3 1259164.3\n",
       "2027 1375473.2 1397284.3 1428008.4 1347335.2 1338327.6\n",
       "2028 1462006.1 1485264.7 1517832.0 1432174.6 1422498.6\n",
       "2029                                                  \n"
      ]
     },
     "metadata": {},
     "output_type": "display_data"
    },
    {
     "data": {
      "text/html": [
       "1247783.1725906"
      ],
      "text/latex": [
       "1247783.1725906"
      ],
      "text/markdown": [
       "1247783.1725906"
      ],
      "text/plain": [
       "[1] 1247783"
      ]
     },
     "metadata": {},
     "output_type": "display_data"
    },
    {
     "data": {
      "text/html": [
       "159338.793188207"
      ],
      "text/latex": [
       "159338.793188207"
      ],
      "text/markdown": [
       "159338.793188207"
      ],
      "text/plain": [
       "[1] 159338.8"
      ]
     },
     "metadata": {},
     "output_type": "display_data"
    }
   ],
   "source": [
    "install.packages(\"forecast\") \n",
    "library(forecast) \n",
    "\n",
    "\n",
    "#####################################################################\n",
    "# Now let us do some prediction for the next 7 years\n",
    "\n",
    "# Monthly Average Sale Price\n",
    "pred_H_TS <- predict(fit_open, n.ahead = 7*12)\n",
    "\n",
    "pred_H_TS\n",
    "\n",
    "pred_H_TS$pred2 <- 2.71828^(pred_H_TS$pred)\n",
    "\n",
    "pred_H_TS\n",
    "\n",
    "\n",
    "# Calculate mean and standard deviation of the prediction\n",
    "Avg.vF <- mean(pred_H_TS$pred2)\n",
    "Avg.vF\n",
    "\n",
    "StandD <- sd(pred_H_TS$pred2)\n",
    "StandD\n",
    "\n",
    "################################################################################"
   ]
  },
  {
   "cell_type": "code",
   "execution_count": 20,
   "metadata": {},
   "outputs": [
    {
     "data": {
      "image/png": "[encoded data removed]",
      "text/plain": [
       "plot without title"
      ]
     },
     "metadata": {
      "image/png": {
       "height": 420,
       "width": 420
      }
     },
     "output_type": "display_data"
    }
   ],
   "source": [
    "################################################################################\n",
    "\n",
    "ts.plot(H_TS,2.71828^pred_H_TS$pred, log = \"y\", lty = c(1,3))\n",
    "\n",
    "################################################################################"
   ]
  },
  {
   "cell_type": "code",
   "execution_count": 21,
   "metadata": {},
   "outputs": [
    {
     "data": {
      "text/plain": [
       "         Point Forecast    Lo 80   Hi 80    Lo 95   Hi 95\n",
       "Aug 2022       970499.3 865637.3 1075361 810126.7 1130872\n",
       "Sep 2022       970499.3 863071.9 1077927 806203.2 1134795\n",
       "Oct 2022       970499.3 860566.3 1080432 802371.2 1138627\n",
       "Nov 2022       970499.3 858116.5 1082882 798624.6 1142374\n",
       "Dec 2022       970499.3 855719.0 1085280 794958.0 1146041\n",
       "Jan 2023       970499.3 853370.6 1087628 791366.4 1149632\n",
       "Feb 2023       970499.3 851068.4 1089930 787845.4 1153153\n",
       "Mar 2023       970499.3 848809.7 1092189 784391.0 1156608\n",
       "Apr 2023       970499.3 846592.1 1094407 780999.6 1159999\n",
       "May 2023       970499.3 844413.6 1096585 777667.8 1163331\n",
       "Jun 2023       970499.3 842272.1 1098727 774392.7 1166606\n",
       "Jul 2023       970499.3 840165.7 1100833 771171.3 1169827\n",
       "Aug 2023       970499.3 838092.9 1102906 768001.1 1172998\n",
       "Sep 2023       970499.3 836052.0 1104947 764879.9 1176119\n",
       "Oct 2023       970499.3 834041.6 1106957 761805.3 1179193\n",
       "Nov 2023       970499.3 832060.4 1108938 758775.3 1182223\n",
       "Dec 2023       970499.3 830107.2 1110891 755788.1 1185211\n",
       "Jan 2024       970499.3 828180.8 1112818 752841.9 1188157\n",
       "Feb 2024       970499.3 826280.1 1114719 749935.1 1191064\n",
       "Mar 2024       970499.3 824404.2 1116594 747066.0 1193933\n",
       "Apr 2024       970499.3 822552.0 1118447 744233.4 1196765\n",
       "May 2024       970499.3 820722.7 1120276 741435.8 1199563\n",
       "Jun 2024       970499.3 818915.5 1122083 738671.9 1202327\n",
       "Jul 2024       970499.3 817129.6 1123869 735940.6 1205058\n",
       "Aug 2024       970499.3 815364.3 1125634 733240.7 1207758\n",
       "Sep 2024       970499.3 813618.8 1127380 730571.2 1210427\n",
       "Oct 2024       970499.3 811892.5 1129106 727931.1 1213068\n",
       "Nov 2024       970499.3 810184.8 1130814 725319.4 1215679\n",
       "Dec 2024       970499.3 808495.1 1132504 722735.3 1218263\n",
       "Jan 2025       970499.3 806822.9 1134176 720177.8 1220821\n",
       "Feb 2025       970499.3 805167.5 1135831 717646.2 1223352\n",
       "Mar 2025       970499.3 803528.6 1137470 715139.6 1225859\n",
       "Apr 2025       970499.3 801905.6 1139093 712657.5 1228341\n",
       "May 2025       970499.3 800298.1 1140701 710199.0 1230800\n",
       "Jun 2025       970499.3 798705.6 1142293 707763.5 1233235\n",
       "Jul 2025       970499.3 797127.8 1143871 705350.4 1235648\n",
       "Aug 2025       970499.3 795564.2 1145435 702959.1 1238040\n",
       "Sep 2025       970499.3 794014.4 1146984 700588.9 1240410\n",
       "Oct 2025       970499.3 792478.1 1148521 698239.4 1242759\n",
       "Nov 2025       970499.3 790955.0 1150044 695910.0 1245089\n",
       "Dec 2025       970499.3 789444.7 1151554 693600.1 1247399\n",
       "Jan 2026       970499.3 787946.8 1153052 691309.4 1249689\n",
       "Feb 2026       970499.3 786461.2 1154537 689037.3 1251961\n",
       "Mar 2026       970499.3 784987.5 1156011 686783.4 1254215\n",
       "Apr 2026       970499.3 783525.4 1157473 684547.3 1256451\n",
       "May 2026       970499.3 782074.6 1158924 682328.6 1258670\n",
       "Jun 2026       970499.3 780634.9 1160364 680126.7 1260872\n",
       "Jul 2026       970499.3 779206.0 1161793 677941.5 1263057\n",
       "Aug 2026       970499.3 777787.8 1163211 675772.5 1265226\n",
       "Sep 2026       970499.3 776379.9 1164619 673619.3 1267379\n",
       "Oct 2026       970499.3 774982.1 1166017 671481.6 1269517\n",
       "Nov 2026       970499.3 773594.3 1167404 669359.1 1271640\n",
       "Dec 2026       970499.3 772216.2 1168782 667251.4 1273747\n",
       "Jan 2027       970499.3 770847.6 1170151 665158.3 1275840\n",
       "Feb 2027       970499.3 769488.3 1171510 663079.4 1277919\n",
       "Mar 2027       970499.3 768138.1 1172861 661014.5 1279984\n",
       "Apr 2027       970499.3 766796.9 1174202 658963.3 1282035\n",
       "May 2027       970499.3 765464.4 1175534 656925.5 1284073\n",
       "Jun 2027       970499.3 764140.6 1176858 654900.9 1286098\n",
       "Jul 2027       970499.3 762825.2 1178173 652889.2 1288110\n",
       "Aug 2027       970499.3 761518.1 1179481 650890.1 1290109\n",
       "Sep 2027       970499.3 760219.1 1180780 648903.4 1292095\n",
       "Oct 2027       970499.3 758928.1 1182071 646929.0 1294070\n",
       "Nov 2027       970499.3 757644.9 1183354 644966.5 1296032\n",
       "Dec 2027       970499.3 756369.4 1184629 643015.8 1297983\n",
       "Jan 2028       970499.3 755101.4 1185897 641076.7 1299922\n",
       "Feb 2028       970499.3 753840.9 1187158 639148.9 1301850\n",
       "Mar 2028       970499.3 752587.7 1188411 637232.2 1303766\n",
       "Apr 2028       970499.3 751341.6 1189657 635326.5 1305672\n",
       "May 2028       970499.3 750102.6 1190896 633431.6 1307567\n",
       "Jun 2028       970499.3 748870.5 1192128 631547.2 1309451\n",
       "Jul 2028       970499.3 747645.2 1193353 629673.3 1311325\n",
       "Aug 2028       970499.3 746426.6 1194572 627809.7 1313189\n",
       "Sep 2028       970499.3 745214.6 1195784 625956.1 1315043\n",
       "Oct 2028       970499.3 744009.1 1196990 624112.4 1316886\n",
       "Nov 2028       970499.3 742810.0 1198189 622278.5 1318720\n",
       "Dec 2028       970499.3 741617.1 1199382 620454.2 1320544\n",
       "Jan 2029       970499.3 740430.5 1200568 618639.4 1322359\n",
       "Feb 2029       970499.3 739249.9 1201749 616833.8 1324165\n",
       "Mar 2029       970499.3 738075.3 1202923 615037.5 1325961\n",
       "Apr 2029       970499.3 736906.7 1204092 613250.2 1327748\n",
       "May 2029       970499.3 735743.8 1205255 611471.7 1329527\n",
       "Jun 2029       970499.3 734586.7 1206412 609702.1 1331297\n",
       "Jul 2029       970499.3 733435.2 1207563 607941.1 1333058"
      ]
     },
     "metadata": {},
     "output_type": "display_data"
    },
    {
     "data": {
      "image/png": "[encoded data removed]",
      "text/plain": [
       "Plot with title \"Average Monthly Home Sale Price Wards 5 & 6\""
      ]
     },
     "metadata": {
      "image/png": {
       "height": 420,
       "width": 420
      }
     },
     "output_type": "display_data"
    }
   ],
   "source": [
    "################################Using auto.arima################################\n",
    "################################################################################\n",
    "\n",
    "# forecasting model using arima model\n",
    "fit <- auto.arima(H_TS)\n",
    "\n",
    "# Next 84 forecasted values\n",
    "forecast(fit, 84)\n",
    "\n",
    "# plotting the graph with next\n",
    "# 84 monthly forecasted values\n",
    "plot(forecast(fit, 84), xlab =\"Monthly Data\",\n",
    "     ylab =\"Price\",\n",
    "     main =\"Average Monthly Home Sale Price Wards 5 & 6\", col.main =\"darkgreen\")\n",
    "\n",
    "################################################################################"
   ]
  },
  {
   "cell_type": "code",
   "execution_count": null,
   "metadata": {},
   "outputs": [],
   "source": []
  }
 ],
 "metadata": {
  "kernelspec": {
   "display_name": "R",
   "language": "R",
   "name": "ir"
  },
  "language_info": {
   "codemirror_mode": "r",
   "file_extension": ".r",
   "mimetype": "text/x-r-source",
   "name": "R",
   "pygments_lexer": "r",
   "version": "4.2.1"
  }
 },
 "nbformat": 4,
 "nbformat_minor": 4
}
