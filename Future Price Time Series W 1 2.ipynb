{
 "cells": [
  {
   "cell_type": "markdown",
   "metadata": {},
   "source": [
    "# Future Price Time Series Model Wards 1 & 2"
   ]
  },
  {
   "cell_type": "code",
   "execution_count": 1,
   "metadata": {},
   "outputs": [
    {
     "data": {
      "text/html": [
       "'D:/Penn State/DAAN/DAAN 888 Analytics Design Implementation/Report'"
      ],
      "text/latex": [
       "'D:/Penn State/DAAN/DAAN 888 Analytics Design Implementation/Report'"
      ],
      "text/markdown": [
       "'D:/Penn State/DAAN/DAAN 888 Analytics Design Implementation/Report'"
      ],
      "text/plain": [
       "[1] \"D:/Penn State/DAAN/DAAN 888 Analytics Design Implementation/Report\""
      ]
     },
     "metadata": {},
     "output_type": "display_data"
    },
    {
     "data": {
      "text/html": [
       "<table class=\"dataframe\">\n",
       "<caption>A data.frame: 6 × 44</caption>\n",
       "<thead>\n",
       "\t<tr><th></th><th scope=col>SSL</th><th scope=col>BATHRM</th><th scope=col>HF_BATHRM</th><th scope=col>HEAT</th><th scope=col>HEAT_D</th><th scope=col>AC</th><th scope=col>NUM_UNITS</th><th scope=col>ROOMS</th><th scope=col>BEDRM</th><th scope=col>AYB</th><th scope=col>⋯</th><th scope=col>FIREPLACES</th><th scope=col>USECODE</th><th scope=col>LANDAREA</th><th scope=col>GIS_LAST_MOD_DTTM</th><th scope=col>OBJECTID</th><th scope=col>ASSESSMENT_NBHD</th><th scope=col>WARD</th><th scope=col>LATITUDE</th><th scope=col>LONGITUDE</th><th scope=col>YR_RMDL_CAT_2</th></tr>\n",
       "\t<tr><th></th><th scope=col>&lt;chr&gt;</th><th scope=col>&lt;int&gt;</th><th scope=col>&lt;int&gt;</th><th scope=col>&lt;int&gt;</th><th scope=col>&lt;chr&gt;</th><th scope=col>&lt;chr&gt;</th><th scope=col>&lt;int&gt;</th><th scope=col>&lt;int&gt;</th><th scope=col>&lt;int&gt;</th><th scope=col>&lt;int&gt;</th><th scope=col>⋯</th><th scope=col>&lt;int&gt;</th><th scope=col>&lt;int&gt;</th><th scope=col>&lt;int&gt;</th><th scope=col>&lt;chr&gt;</th><th scope=col>&lt;int&gt;</th><th scope=col>&lt;chr&gt;</th><th scope=col>&lt;chr&gt;</th><th scope=col>&lt;dbl&gt;</th><th scope=col>&lt;dbl&gt;</th><th scope=col>&lt;int&gt;</th></tr>\n",
       "</thead>\n",
       "<tbody>\n",
       "\t<tr><th scope=row>1</th><td>0150    0275</td><td>1</td><td>1</td><td> 7</td><td>Warm Cool    </td><td>Y</td><td>1</td><td>6</td><td>3</td><td>1900</td><td>⋯</td><td>0</td><td>11</td><td>960</td><td>2022/08/31 05:17:11+00</td><td>74407639</td><td>Old City 2</td><td>Ward 1</td><td>38.91745</td><td>-77.04023</td><td>5</td></tr>\n",
       "\t<tr><th scope=row>2</th><td>0150    0276</td><td>1</td><td>0</td><td> 7</td><td>Warm Cool    </td><td>Y</td><td>1</td><td>6</td><td>3</td><td>1900</td><td>⋯</td><td>0</td><td>11</td><td>960</td><td>2022/08/31 05:17:11+00</td><td>74407640</td><td>Old City 2</td><td>Ward 1</td><td>38.91745</td><td>-77.04017</td><td>1</td></tr>\n",
       "\t<tr><th scope=row>3</th><td>0150    0277</td><td>1</td><td>0</td><td>13</td><td>Hot Water Rad</td><td>N</td><td>1</td><td>6</td><td>3</td><td>1900</td><td>⋯</td><td>0</td><td>11</td><td>960</td><td>2022/08/31 05:17:11+00</td><td>74407641</td><td>Old City 2</td><td>Ward 1</td><td>38.91745</td><td>-77.04012</td><td>1</td></tr>\n",
       "\t<tr><th scope=row>4</th><td>0150    0278</td><td>2</td><td>1</td><td> 7</td><td>Warm Cool    </td><td>Y</td><td>1</td><td>6</td><td>2</td><td>1900</td><td>⋯</td><td>1</td><td>11</td><td>960</td><td>2022/08/31 05:17:11+00</td><td>74407642</td><td>Old City 2</td><td>Ward 1</td><td>38.91745</td><td>-77.04006</td><td>5</td></tr>\n",
       "\t<tr><th scope=row>5</th><td>0150    0279</td><td>1</td><td>1</td><td> 7</td><td>Warm Cool    </td><td>Y</td><td>1</td><td>6</td><td>3</td><td>1900</td><td>⋯</td><td>1</td><td>11</td><td>960</td><td>2022/08/31 05:17:11+00</td><td>74407643</td><td>Old City 2</td><td>Ward 1</td><td>38.91745</td><td>-77.04000</td><td>1</td></tr>\n",
       "\t<tr><th scope=row>6</th><td>0150    0280</td><td>1</td><td>1</td><td> 7</td><td>Warm Cool    </td><td>Y</td><td>1</td><td>6</td><td>3</td><td>1910</td><td>⋯</td><td>1</td><td>11</td><td>960</td><td>2022/08/31 05:17:11+00</td><td>74407644</td><td>Old City 2</td><td>Ward 1</td><td>38.91745</td><td>-77.03995</td><td>1</td></tr>\n",
       "</tbody>\n",
       "</table>\n"
      ],
      "text/latex": [
       "A data.frame: 6 × 44\n",
       "\\begin{tabular}{r|lllllllllllllllllllll}\n",
       "  & SSL & BATHRM & HF\\_BATHRM & HEAT & HEAT\\_D & AC & NUM\\_UNITS & ROOMS & BEDRM & AYB & ⋯ & FIREPLACES & USECODE & LANDAREA & GIS\\_LAST\\_MOD\\_DTTM & OBJECTID & ASSESSMENT\\_NBHD & WARD & LATITUDE & LONGITUDE & YR\\_RMDL\\_CAT\\_2\\\\\n",
       "  & <chr> & <int> & <int> & <int> & <chr> & <chr> & <int> & <int> & <int> & <int> & ⋯ & <int> & <int> & <int> & <chr> & <int> & <chr> & <chr> & <dbl> & <dbl> & <int>\\\\\n",
       "\\hline\n",
       "\t1 & 0150    0275 & 1 & 1 &  7 & Warm Cool     & Y & 1 & 6 & 3 & 1900 & ⋯ & 0 & 11 & 960 & 2022/08/31 05:17:11+00 & 74407639 & Old City 2 & Ward 1 & 38.91745 & -77.04023 & 5\\\\\n",
       "\t2 & 0150    0276 & 1 & 0 &  7 & Warm Cool     & Y & 1 & 6 & 3 & 1900 & ⋯ & 0 & 11 & 960 & 2022/08/31 05:17:11+00 & 74407640 & Old City 2 & Ward 1 & 38.91745 & -77.04017 & 1\\\\\n",
       "\t3 & 0150    0277 & 1 & 0 & 13 & Hot Water Rad & N & 1 & 6 & 3 & 1900 & ⋯ & 0 & 11 & 960 & 2022/08/31 05:17:11+00 & 74407641 & Old City 2 & Ward 1 & 38.91745 & -77.04012 & 1\\\\\n",
       "\t4 & 0150    0278 & 2 & 1 &  7 & Warm Cool     & Y & 1 & 6 & 2 & 1900 & ⋯ & 1 & 11 & 960 & 2022/08/31 05:17:11+00 & 74407642 & Old City 2 & Ward 1 & 38.91745 & -77.04006 & 5\\\\\n",
       "\t5 & 0150    0279 & 1 & 1 &  7 & Warm Cool     & Y & 1 & 6 & 3 & 1900 & ⋯ & 1 & 11 & 960 & 2022/08/31 05:17:11+00 & 74407643 & Old City 2 & Ward 1 & 38.91745 & -77.04000 & 1\\\\\n",
       "\t6 & 0150    0280 & 1 & 1 &  7 & Warm Cool     & Y & 1 & 6 & 3 & 1910 & ⋯ & 1 & 11 & 960 & 2022/08/31 05:17:11+00 & 74407644 & Old City 2 & Ward 1 & 38.91745 & -77.03995 & 1\\\\\n",
       "\\end{tabular}\n"
      ],
      "text/markdown": [
       "\n",
       "A data.frame: 6 × 44\n",
       "\n",
       "| <!--/--> | SSL &lt;chr&gt; | BATHRM &lt;int&gt; | HF_BATHRM &lt;int&gt; | HEAT &lt;int&gt; | HEAT_D &lt;chr&gt; | AC &lt;chr&gt; | NUM_UNITS &lt;int&gt; | ROOMS &lt;int&gt; | BEDRM &lt;int&gt; | AYB &lt;int&gt; | ⋯ ⋯ | FIREPLACES &lt;int&gt; | USECODE &lt;int&gt; | LANDAREA &lt;int&gt; | GIS_LAST_MOD_DTTM &lt;chr&gt; | OBJECTID &lt;int&gt; | ASSESSMENT_NBHD &lt;chr&gt; | WARD &lt;chr&gt; | LATITUDE &lt;dbl&gt; | LONGITUDE &lt;dbl&gt; | YR_RMDL_CAT_2 &lt;int&gt; |\n",
       "|---|---|---|---|---|---|---|---|---|---|---|---|---|---|---|---|---|---|---|---|---|---|\n",
       "| 1 | 0150    0275 | 1 | 1 |  7 | Warm Cool     | Y | 1 | 6 | 3 | 1900 | ⋯ | 0 | 11 | 960 | 2022/08/31 05:17:11+00 | 74407639 | Old City 2 | Ward 1 | 38.91745 | -77.04023 | 5 |\n",
       "| 2 | 0150    0276 | 1 | 0 |  7 | Warm Cool     | Y | 1 | 6 | 3 | 1900 | ⋯ | 0 | 11 | 960 | 2022/08/31 05:17:11+00 | 74407640 | Old City 2 | Ward 1 | 38.91745 | -77.04017 | 1 |\n",
       "| 3 | 0150    0277 | 1 | 0 | 13 | Hot Water Rad | N | 1 | 6 | 3 | 1900 | ⋯ | 0 | 11 | 960 | 2022/08/31 05:17:11+00 | 74407641 | Old City 2 | Ward 1 | 38.91745 | -77.04012 | 1 |\n",
       "| 4 | 0150    0278 | 2 | 1 |  7 | Warm Cool     | Y | 1 | 6 | 2 | 1900 | ⋯ | 1 | 11 | 960 | 2022/08/31 05:17:11+00 | 74407642 | Old City 2 | Ward 1 | 38.91745 | -77.04006 | 5 |\n",
       "| 5 | 0150    0279 | 1 | 1 |  7 | Warm Cool     | Y | 1 | 6 | 3 | 1900 | ⋯ | 1 | 11 | 960 | 2022/08/31 05:17:11+00 | 74407643 | Old City 2 | Ward 1 | 38.91745 | -77.04000 | 1 |\n",
       "| 6 | 0150    0280 | 1 | 1 |  7 | Warm Cool     | Y | 1 | 6 | 3 | 1910 | ⋯ | 1 | 11 | 960 | 2022/08/31 05:17:11+00 | 74407644 | Old City 2 | Ward 1 | 38.91745 | -77.03995 | 1 |\n",
       "\n"
      ],
      "text/plain": [
       "  SSL          BATHRM HF_BATHRM HEAT HEAT_D        AC NUM_UNITS ROOMS BEDRM\n",
       "1 0150    0275 1      1          7   Warm Cool     Y  1         6     3    \n",
       "2 0150    0276 1      0          7   Warm Cool     Y  1         6     3    \n",
       "3 0150    0277 1      0         13   Hot Water Rad N  1         6     3    \n",
       "4 0150    0278 2      1          7   Warm Cool     Y  1         6     2    \n",
       "5 0150    0279 1      1          7   Warm Cool     Y  1         6     3    \n",
       "6 0150    0280 1      1          7   Warm Cool     Y  1         6     3    \n",
       "  AYB  ⋯ FIREPLACES USECODE LANDAREA GIS_LAST_MOD_DTTM      OBJECTID\n",
       "1 1900 ⋯ 0          11      960      2022/08/31 05:17:11+00 74407639\n",
       "2 1900 ⋯ 0          11      960      2022/08/31 05:17:11+00 74407640\n",
       "3 1900 ⋯ 0          11      960      2022/08/31 05:17:11+00 74407641\n",
       "4 1900 ⋯ 1          11      960      2022/08/31 05:17:11+00 74407642\n",
       "5 1900 ⋯ 1          11      960      2022/08/31 05:17:11+00 74407643\n",
       "6 1910 ⋯ 1          11      960      2022/08/31 05:17:11+00 74407644\n",
       "  ASSESSMENT_NBHD WARD   LATITUDE LONGITUDE YR_RMDL_CAT_2\n",
       "1 Old City 2      Ward 1 38.91745 -77.04023 5            \n",
       "2 Old City 2      Ward 1 38.91745 -77.04017 1            \n",
       "3 Old City 2      Ward 1 38.91745 -77.04012 1            \n",
       "4 Old City 2      Ward 1 38.91745 -77.04006 5            \n",
       "5 Old City 2      Ward 1 38.91745 -77.04000 1            \n",
       "6 Old City 2      Ward 1 38.91745 -77.03995 1            "
      ]
     },
     "metadata": {},
     "output_type": "display_data"
    },
    {
     "data": {
      "text/html": [
       "<table class=\"dataframe\">\n",
       "<caption>A data.frame: 6 × 44</caption>\n",
       "<thead>\n",
       "\t<tr><th></th><th scope=col>SSL</th><th scope=col>BATHRM</th><th scope=col>HF_BATHRM</th><th scope=col>HEAT</th><th scope=col>HEAT_D</th><th scope=col>AC</th><th scope=col>NUM_UNITS</th><th scope=col>ROOMS</th><th scope=col>BEDRM</th><th scope=col>AYB</th><th scope=col>⋯</th><th scope=col>FIREPLACES</th><th scope=col>USECODE</th><th scope=col>LANDAREA</th><th scope=col>GIS_LAST_MOD_DTTM</th><th scope=col>OBJECTID</th><th scope=col>ASSESSMENT_NBHD</th><th scope=col>WARD</th><th scope=col>LATITUDE</th><th scope=col>LONGITUDE</th><th scope=col>YR_RMDL_CAT_2</th></tr>\n",
       "\t<tr><th></th><th scope=col>&lt;chr&gt;</th><th scope=col>&lt;int&gt;</th><th scope=col>&lt;int&gt;</th><th scope=col>&lt;int&gt;</th><th scope=col>&lt;chr&gt;</th><th scope=col>&lt;chr&gt;</th><th scope=col>&lt;int&gt;</th><th scope=col>&lt;int&gt;</th><th scope=col>&lt;int&gt;</th><th scope=col>&lt;int&gt;</th><th scope=col>⋯</th><th scope=col>&lt;int&gt;</th><th scope=col>&lt;int&gt;</th><th scope=col>&lt;int&gt;</th><th scope=col>&lt;chr&gt;</th><th scope=col>&lt;int&gt;</th><th scope=col>&lt;chr&gt;</th><th scope=col>&lt;chr&gt;</th><th scope=col>&lt;dbl&gt;</th><th scope=col>&lt;dbl&gt;</th><th scope=col>&lt;int&gt;</th></tr>\n",
       "</thead>\n",
       "<tbody>\n",
       "\t<tr><th scope=row>108398</th><td>PAR 01550236</td><td>2</td><td>0</td><td>13</td><td>Hot Water Rad</td><td>N</td><td>1</td><td> 6</td><td>2</td><td>1934</td><td>⋯</td><td>1</td><td>12</td><td>4571</td><td>2022/08/31 05:17:11+00</td><td>74624612</td><td>Woodridge</td><td>Ward 5</td><td>38.92890</td><td>-76.97456</td><td>1</td></tr>\n",
       "\t<tr><th scope=row>108399</th><td>PAR 01550251</td><td>2</td><td>0</td><td> 1</td><td>Forced Air   </td><td>Y</td><td>1</td><td> 6</td><td>3</td><td>1935</td><td>⋯</td><td>0</td><td>12</td><td>3000</td><td>2022/08/31 05:17:11+00</td><td>74624613</td><td>Woodridge</td><td>Ward 5</td><td>38.92700</td><td>-76.97157</td><td>4</td></tr>\n",
       "\t<tr><th scope=row>108400</th><td>PAR 01550252</td><td>1</td><td>0</td><td>13</td><td>Hot Water Rad</td><td>N</td><td>1</td><td> 5</td><td>2</td><td>1935</td><td>⋯</td><td>0</td><td>12</td><td>3000</td><td>2022/08/31 05:17:11+00</td><td>74624614</td><td>Woodridge</td><td>Ward 5</td><td>38.92706</td><td>-76.97145</td><td>1</td></tr>\n",
       "\t<tr><th scope=row>108401</th><td>PAR 01550254</td><td>3</td><td>0</td><td>13</td><td>Hot Water Rad</td><td>N</td><td>1</td><td> 5</td><td>3</td><td>1922</td><td>⋯</td><td>0</td><td>12</td><td>7829</td><td>2022/08/31 05:17:11+00</td><td>74624615</td><td>Woodridge</td><td>Ward 5</td><td>38.92790</td><td>-76.97388</td><td>2</td></tr>\n",
       "\t<tr><th scope=row>108402</th><td>PAR 01550255</td><td>3</td><td>1</td><td> 1</td><td>Forced Air   </td><td>Y</td><td>1</td><td>10</td><td>4</td><td>1925</td><td>⋯</td><td>0</td><td>13</td><td>4001</td><td>2022/08/31 05:17:11+00</td><td>74624616</td><td>Woodridge</td><td>Ward 5</td><td>38.92924</td><td>-76.97320</td><td>4</td></tr>\n",
       "\t<tr><th scope=row>108403</th><td>PAR 01550259</td><td>1</td><td>0</td><td>13</td><td>Hot Water Rad</td><td>N</td><td>1</td><td> 6</td><td>3</td><td>1940</td><td>⋯</td><td>0</td><td>11</td><td>1399</td><td>2022/08/31 05:17:11+00</td><td>74624617</td><td>Woodridge</td><td>Ward 5</td><td>38.92924</td><td>-76.97465</td><td>1</td></tr>\n",
       "</tbody>\n",
       "</table>\n"
      ],
      "text/latex": [
       "A data.frame: 6 × 44\n",
       "\\begin{tabular}{r|lllllllllllllllllllll}\n",
       "  & SSL & BATHRM & HF\\_BATHRM & HEAT & HEAT\\_D & AC & NUM\\_UNITS & ROOMS & BEDRM & AYB & ⋯ & FIREPLACES & USECODE & LANDAREA & GIS\\_LAST\\_MOD\\_DTTM & OBJECTID & ASSESSMENT\\_NBHD & WARD & LATITUDE & LONGITUDE & YR\\_RMDL\\_CAT\\_2\\\\\n",
       "  & <chr> & <int> & <int> & <int> & <chr> & <chr> & <int> & <int> & <int> & <int> & ⋯ & <int> & <int> & <int> & <chr> & <int> & <chr> & <chr> & <dbl> & <dbl> & <int>\\\\\n",
       "\\hline\n",
       "\t108398 & PAR 01550236 & 2 & 0 & 13 & Hot Water Rad & N & 1 &  6 & 2 & 1934 & ⋯ & 1 & 12 & 4571 & 2022/08/31 05:17:11+00 & 74624612 & Woodridge & Ward 5 & 38.92890 & -76.97456 & 1\\\\\n",
       "\t108399 & PAR 01550251 & 2 & 0 &  1 & Forced Air    & Y & 1 &  6 & 3 & 1935 & ⋯ & 0 & 12 & 3000 & 2022/08/31 05:17:11+00 & 74624613 & Woodridge & Ward 5 & 38.92700 & -76.97157 & 4\\\\\n",
       "\t108400 & PAR 01550252 & 1 & 0 & 13 & Hot Water Rad & N & 1 &  5 & 2 & 1935 & ⋯ & 0 & 12 & 3000 & 2022/08/31 05:17:11+00 & 74624614 & Woodridge & Ward 5 & 38.92706 & -76.97145 & 1\\\\\n",
       "\t108401 & PAR 01550254 & 3 & 0 & 13 & Hot Water Rad & N & 1 &  5 & 3 & 1922 & ⋯ & 0 & 12 & 7829 & 2022/08/31 05:17:11+00 & 74624615 & Woodridge & Ward 5 & 38.92790 & -76.97388 & 2\\\\\n",
       "\t108402 & PAR 01550255 & 3 & 1 &  1 & Forced Air    & Y & 1 & 10 & 4 & 1925 & ⋯ & 0 & 13 & 4001 & 2022/08/31 05:17:11+00 & 74624616 & Woodridge & Ward 5 & 38.92924 & -76.97320 & 4\\\\\n",
       "\t108403 & PAR 01550259 & 1 & 0 & 13 & Hot Water Rad & N & 1 &  6 & 3 & 1940 & ⋯ & 0 & 11 & 1399 & 2022/08/31 05:17:11+00 & 74624617 & Woodridge & Ward 5 & 38.92924 & -76.97465 & 1\\\\\n",
       "\\end{tabular}\n"
      ],
      "text/markdown": [
       "\n",
       "A data.frame: 6 × 44\n",
       "\n",
       "| <!--/--> | SSL &lt;chr&gt; | BATHRM &lt;int&gt; | HF_BATHRM &lt;int&gt; | HEAT &lt;int&gt; | HEAT_D &lt;chr&gt; | AC &lt;chr&gt; | NUM_UNITS &lt;int&gt; | ROOMS &lt;int&gt; | BEDRM &lt;int&gt; | AYB &lt;int&gt; | ⋯ ⋯ | FIREPLACES &lt;int&gt; | USECODE &lt;int&gt; | LANDAREA &lt;int&gt; | GIS_LAST_MOD_DTTM &lt;chr&gt; | OBJECTID &lt;int&gt; | ASSESSMENT_NBHD &lt;chr&gt; | WARD &lt;chr&gt; | LATITUDE &lt;dbl&gt; | LONGITUDE &lt;dbl&gt; | YR_RMDL_CAT_2 &lt;int&gt; |\n",
       "|---|---|---|---|---|---|---|---|---|---|---|---|---|---|---|---|---|---|---|---|---|---|\n",
       "| 108398 | PAR 01550236 | 2 | 0 | 13 | Hot Water Rad | N | 1 |  6 | 2 | 1934 | ⋯ | 1 | 12 | 4571 | 2022/08/31 05:17:11+00 | 74624612 | Woodridge | Ward 5 | 38.92890 | -76.97456 | 1 |\n",
       "| 108399 | PAR 01550251 | 2 | 0 |  1 | Forced Air    | Y | 1 |  6 | 3 | 1935 | ⋯ | 0 | 12 | 3000 | 2022/08/31 05:17:11+00 | 74624613 | Woodridge | Ward 5 | 38.92700 | -76.97157 | 4 |\n",
       "| 108400 | PAR 01550252 | 1 | 0 | 13 | Hot Water Rad | N | 1 |  5 | 2 | 1935 | ⋯ | 0 | 12 | 3000 | 2022/08/31 05:17:11+00 | 74624614 | Woodridge | Ward 5 | 38.92706 | -76.97145 | 1 |\n",
       "| 108401 | PAR 01550254 | 3 | 0 | 13 | Hot Water Rad | N | 1 |  5 | 3 | 1922 | ⋯ | 0 | 12 | 7829 | 2022/08/31 05:17:11+00 | 74624615 | Woodridge | Ward 5 | 38.92790 | -76.97388 | 2 |\n",
       "| 108402 | PAR 01550255 | 3 | 1 |  1 | Forced Air    | Y | 1 | 10 | 4 | 1925 | ⋯ | 0 | 13 | 4001 | 2022/08/31 05:17:11+00 | 74624616 | Woodridge | Ward 5 | 38.92924 | -76.97320 | 4 |\n",
       "| 108403 | PAR 01550259 | 1 | 0 | 13 | Hot Water Rad | N | 1 |  6 | 3 | 1940 | ⋯ | 0 | 11 | 1399 | 2022/08/31 05:17:11+00 | 74624617 | Woodridge | Ward 5 | 38.92924 | -76.97465 | 1 |\n",
       "\n"
      ],
      "text/plain": [
       "       SSL          BATHRM HF_BATHRM HEAT HEAT_D        AC NUM_UNITS ROOMS\n",
       "108398 PAR 01550236 2      0         13   Hot Water Rad N  1          6   \n",
       "108399 PAR 01550251 2      0          1   Forced Air    Y  1          6   \n",
       "108400 PAR 01550252 1      0         13   Hot Water Rad N  1          5   \n",
       "108401 PAR 01550254 3      0         13   Hot Water Rad N  1          5   \n",
       "108402 PAR 01550255 3      1          1   Forced Air    Y  1         10   \n",
       "108403 PAR 01550259 1      0         13   Hot Water Rad N  1          6   \n",
       "       BEDRM AYB  ⋯ FIREPLACES USECODE LANDAREA GIS_LAST_MOD_DTTM      OBJECTID\n",
       "108398 2     1934 ⋯ 1          12      4571     2022/08/31 05:17:11+00 74624612\n",
       "108399 3     1935 ⋯ 0          12      3000     2022/08/31 05:17:11+00 74624613\n",
       "108400 2     1935 ⋯ 0          12      3000     2022/08/31 05:17:11+00 74624614\n",
       "108401 3     1922 ⋯ 0          12      7829     2022/08/31 05:17:11+00 74624615\n",
       "108402 4     1925 ⋯ 0          13      4001     2022/08/31 05:17:11+00 74624616\n",
       "108403 3     1940 ⋯ 0          11      1399     2022/08/31 05:17:11+00 74624617\n",
       "       ASSESSMENT_NBHD WARD   LATITUDE LONGITUDE YR_RMDL_CAT_2\n",
       "108398 Woodridge       Ward 5 38.92890 -76.97456 1            \n",
       "108399 Woodridge       Ward 5 38.92700 -76.97157 4            \n",
       "108400 Woodridge       Ward 5 38.92706 -76.97145 1            \n",
       "108401 Woodridge       Ward 5 38.92790 -76.97388 2            \n",
       "108402 Woodridge       Ward 5 38.92924 -76.97320 4            \n",
       "108403 Woodridge       Ward 5 38.92924 -76.97465 1            "
      ]
     },
     "metadata": {},
     "output_type": "display_data"
    },
    {
     "data": {
      "text/plain": [
       "     SSL                BATHRM         HF_BATHRM            HEAT      \n",
       " Length:108403      Min.   : 0.000   Min.   : 0.0000   Min.   : 0.00  \n",
       " Class :character   1st Qu.: 1.000   1st Qu.: 0.0000   1st Qu.: 1.00  \n",
       " Mode  :character   Median : 2.000   Median : 1.0000   Median : 7.00  \n",
       "                    Mean   : 2.124   Mean   : 0.6298   Mean   : 7.27  \n",
       "                    3rd Qu.: 3.000   3rd Qu.: 1.0000   3rd Qu.:13.00  \n",
       "                    Max.   :30.000   Max.   :12.0000   Max.   :13.00  \n",
       "                    NA's   :1371     NA's   :1371      NA's   :1371   \n",
       "    HEAT_D               AC              NUM_UNITS          ROOMS        \n",
       " Length:108403      Length:108403      Min.   : 0.000   Min.   :  0.000  \n",
       " Class :character   Class :character   1st Qu.: 1.000   1st Qu.:  6.000  \n",
       " Mode  :character   Mode  :character   Median : 1.000   Median :  7.000  \n",
       "                                       Mean   : 1.196   Mean   :  7.397  \n",
       "                                       3rd Qu.: 1.000   3rd Qu.:  8.000  \n",
       "                                       Max.   :12.000   Max.   :101.000  \n",
       "                                       NA's   :1371     NA's   :1443     \n",
       "     BEDRM             AYB          YR_RMDL           EYB      \n",
       " Min.   : 0.000   Min.   :   0   Min.   :  202   Min.   :   0  \n",
       " 1st Qu.: 3.000   1st Qu.:1915   1st Qu.: 2000   1st Qu.:1960  \n",
       " Median : 3.000   Median :1930   Median : 2008   Median :1968  \n",
       " Mean   : 3.422   Mean   :1932   Mean   : 2006   Mean   :1946  \n",
       " 3rd Qu.: 4.000   3rd Qu.:1948   3rd Qu.: 2015   3rd Qu.:1975  \n",
       " Max.   :24.000   Max.   :2023   Max.   :20212   Max.   :2022  \n",
       " NA's   :1388     NA's   :21     NA's   :53877                 \n",
       "    STORIES          SALEDATE             PRICE           QUALIFIED        \n",
       " Min.   :  0.000   Length:108403      Min.   :       0   Length:108403     \n",
       " 1st Qu.:  2.000   Class :character   1st Qu.:       0   Class :character  \n",
       " Median :  2.000   Mode  :character   Median :  294000   Mode  :character  \n",
       " Mean   :  2.084                      Mean   :  465255                     \n",
       " 3rd Qu.:  2.000                      3rd Qu.:  715000                     \n",
       " Max.   :275.000                      Max.   :25100000                     \n",
       " NA's   :1459                         NA's   :14181                        \n",
       "    SALE_NUM           GBA           BLDG_NUM         STYLE       \n",
       " Min.   : 1.000   Min.   :    0   Min.   :1.000   Min.   : 0.000  \n",
       " 1st Qu.: 1.000   1st Qu.: 1188   1st Qu.:1.000   1st Qu.: 4.000  \n",
       " Median : 1.000   Median : 1488   Median :1.000   Median : 4.000  \n",
       " Mean   : 2.148   Mean   : 1710   Mean   :1.001   Mean   : 4.356  \n",
       " 3rd Qu.: 3.000   3rd Qu.: 1980   3rd Qu.:1.000   3rd Qu.: 4.000  \n",
       " Max.   :17.000   Max.   :45384   Max.   :5.000   Max.   :99.000  \n",
       "                                                  NA's   :1372    \n",
       "   STYLE_D              STRUCT         STRUCT_D             GRADE       \n",
       " Length:108403      Min.   : 0.000   Length:108403      Min.   : 0.000  \n",
       " Class :character   1st Qu.: 1.000   Class :character   1st Qu.: 3.000  \n",
       " Mode  :character   Median : 7.000   Mode  :character   Median : 4.000  \n",
       "                    Mean   : 5.013                      Mean   : 4.285  \n",
       "                    3rd Qu.: 7.000                      3rd Qu.: 5.000  \n",
       "                    Max.   :13.000                      Max.   :12.000  \n",
       "                    NA's   :1371                        NA's   :1371    \n",
       "   GRADE_D              CNDTN         CNDTN_D             EXTWALL     \n",
       " Length:108403      Min.   :0.000   Length:108403      Min.   : 0.00  \n",
       " Class :character   1st Qu.:3.000   Class :character   1st Qu.:14.00  \n",
       " Mode  :character   Median :4.000   Mode  :character   Median :14.00  \n",
       "                    Mean   :3.624                      Mean   :13.37  \n",
       "                    3rd Qu.:4.000                      3rd Qu.:14.00  \n",
       "                    Max.   :6.000                      Max.   :24.00  \n",
       "                    NA's   :1371                       NA's   :1371   \n",
       "  EXTWALL_D              ROOF           ROOF_D             INTWALL      \n",
       " Length:108403      Min.   : 0.000   Length:108403      Min.   : 0.000  \n",
       " Class :character   1st Qu.: 1.000   Class :character   1st Qu.: 6.000  \n",
       " Mode  :character   Median : 2.000   Mode  :character   Median : 6.000  \n",
       "                    Mean   : 3.966                      Mean   : 6.161  \n",
       "                    3rd Qu.: 6.000                      3rd Qu.: 6.000  \n",
       "                    Max.   :15.000                      Max.   :11.000  \n",
       "                    NA's   :1371                        NA's   :1371    \n",
       "  INTWALL_D            KITCHENS        FIREPLACES         USECODE      \n",
       " Length:108403      Min.   : 0.000   Min.   : 0.0000   Min.   :  0.00  \n",
       " Class :character   1st Qu.: 1.000   1st Qu.: 0.0000   1st Qu.: 11.00  \n",
       " Mode  :character   Median : 1.000   Median : 0.0000   Median : 12.00  \n",
       "                    Mean   : 1.226   Mean   : 0.6268   Mean   : 13.15  \n",
       "                    3rd Qu.: 1.000   3rd Qu.: 1.0000   3rd Qu.: 13.00  \n",
       "                    Max.   :44.000   Max.   :13.0000   Max.   :995.00  \n",
       "                    NA's   :1372     NA's   :1374                      \n",
       "    LANDAREA      GIS_LAST_MOD_DTTM     OBJECTID        ASSESSMENT_NBHD   \n",
       " Min.   :     0   Length:108403      Min.   :74407639   Length:108403     \n",
       " 1st Qu.:  1572   Class :character   1st Qu.:74543316   Class :character  \n",
       " Median :  2327   Mode  :character   Median :74570416   Mode  :character  \n",
       " Mean   :  3389                      Mean   :74570406                     \n",
       " 3rd Qu.:  4160                      3rd Qu.:74597516                     \n",
       " Max.   :942632                      Max.   :74624617                     \n",
       "                                                                          \n",
       "     WARD              LATITUDE       LONGITUDE      YR_RMDL_CAT_2  \n",
       " Length:108403      Min.   :38.82   Min.   :-77.11   Min.   :1.000  \n",
       " Class :character   1st Qu.:38.89   1st Qu.:-77.04   1st Qu.:1.000  \n",
       " Mode  :character   Median :38.92   Median :-77.01   Median :2.000  \n",
       "                    Mean   :38.92   Mean   :-77.01   Mean   :2.533  \n",
       "                    3rd Qu.:38.94   3rd Qu.:-76.98   3rd Qu.:4.000  \n",
       "                    Max.   :39.00   Max.   :-76.91   Max.   :7.000  \n",
       "                    NA's   :2103    NA's   :2103                    "
      ]
     },
     "metadata": {},
     "output_type": "display_data"
    },
    {
     "name": "stdout",
     "output_type": "stream",
     "text": [
      "'data.frame':\t108403 obs. of  44 variables:\n",
      " $ SSL              : chr  \"0150    0275\" \"0150    0276\" \"0150    0277\" \"0150    0278\" ...\n",
      " $ BATHRM           : int  1 1 1 2 1 1 2 1 1 1 ...\n",
      " $ HF_BATHRM        : int  1 0 0 1 1 1 1 1 1 1 ...\n",
      " $ HEAT             : int  7 7 13 7 7 7 7 7 7 7 ...\n",
      " $ HEAT_D           : chr  \"Warm Cool\" \"Warm Cool\" \"Hot Water Rad\" \"Warm Cool\" ...\n",
      " $ AC               : chr  \"Y\" \"Y\" \"N\" \"Y\" ...\n",
      " $ NUM_UNITS        : int  1 1 1 1 1 1 1 1 1 1 ...\n",
      " $ ROOMS            : int  6 6 6 6 6 6 6 6 6 6 ...\n",
      " $ BEDRM            : int  3 3 3 2 3 3 2 3 3 3 ...\n",
      " $ AYB              : int  1900 1900 1900 1900 1900 1910 1900 1900 1900 1900 ...\n",
      " $ YR_RMDL          : int  2004 NA NA 2016 NA NA 2001 NA 2003 2015 ...\n",
      " $ EYB              : int  1971 1961 1961 1971 1961 1968 1971 1971 1971 1961 ...\n",
      " $ STORIES          : num  2 2 2 2 2 2 2 2 2 2 ...\n",
      " $ SALEDATE         : chr  \"2013/07/22 00:00:00+00\" \"1900/01/01 00:00:00+00\" \"1996/02/12 00:00:00+00\" \"2022/04/06 00:00:00+00\" ...\n",
      " $ PRICE            : int  755000 NA 118000 1110000 0 251000 930388 606500 0 162000 ...\n",
      " $ QUALIFIED        : chr  \"Q\" \"U\" \"U\" \"Q\" ...\n",
      " $ SALE_NUM         : int  1 1 1 5 3 1 5 1 3 1 ...\n",
      " $ GBA              : int  1286 1286 1286 1304 1286 1286 1286 1286 1344 1286 ...\n",
      " $ BLDG_NUM         : int  1 1 1 1 1 1 1 1 1 1 ...\n",
      " $ STYLE            : int  4 4 4 4 4 4 4 4 4 4 ...\n",
      " $ STYLE_D          : chr  \"2 Story\" \"2 Story\" \"2 Story\" \"2 Story\" ...\n",
      " $ STRUCT           : int  7 7 7 7 7 7 7 7 7 7 ...\n",
      " $ STRUCT_D         : chr  \"Row Inside\" \"Row Inside\" \"Row Inside\" \"Row Inside\" ...\n",
      " $ GRADE            : int  4 4 4 4 4 4 4 4 4 4 ...\n",
      " $ GRADE_D          : chr  \"Above Average\" \"Above Average\" \"Above Average\" \"Above Average\" ...\n",
      " $ CNDTN            : int  4 3 3 4 3 4 3 3 4 3 ...\n",
      " $ CNDTN_D          : chr  \"Good\" \"Average\" \"Average\" \"Good\" ...\n",
      " $ EXTWALL          : int  14 14 14 14 14 14 14 14 14 14 ...\n",
      " $ EXTWALL_D        : chr  \"Common Brick\" \"Common Brick\" \"Common Brick\" \"Common Brick\" ...\n",
      " $ ROOF             : int  2 2 2 2 2 2 2 2 2 2 ...\n",
      " $ ROOF_D           : chr  \"Built Up\" \"Built Up\" \"Built Up\" \"Built Up\" ...\n",
      " $ INTWALL          : int  6 6 6 6 6 6 6 6 6 6 ...\n",
      " $ INTWALL_D        : chr  \"Hardwood\" \"Hardwood\" \"Hardwood\" \"Hardwood\" ...\n",
      " $ KITCHENS         : int  1 1 1 1 1 1 1 1 1 1 ...\n",
      " $ FIREPLACES       : int  0 0 0 1 1 1 1 1 0 1 ...\n",
      " $ USECODE          : int  11 11 11 11 11 11 11 11 11 11 ...\n",
      " $ LANDAREA         : int  960 960 960 960 960 960 960 960 960 960 ...\n",
      " $ GIS_LAST_MOD_DTTM: chr  \"2022/08/31 05:17:11+00\" \"2022/08/31 05:17:11+00\" \"2022/08/31 05:17:11+00\" \"2022/08/31 05:17:11+00\" ...\n",
      " $ OBJECTID         : int  74407639 74407640 74407641 74407642 74407643 74407644 74407645 74407646 74407647 74407648 ...\n",
      " $ ASSESSMENT_NBHD  : chr  \"Old City 2\" \"Old City 2\" \"Old City 2\" \"Old City 2\" ...\n",
      " $ WARD             : chr  \"Ward 1\" \"Ward 1\" \"Ward 1\" \"Ward 1\" ...\n",
      " $ LATITUDE         : num  38.9 38.9 38.9 38.9 38.9 ...\n",
      " $ LONGITUDE        : num  -77 -77 -77 -77 -77 ...\n",
      " $ YR_RMDL_CAT_2    : int  5 1 1 5 1 1 5 1 5 5 ...\n"
     ]
    }
   ],
   "source": [
    "# ResidentialSalesWithLocation_CSV\n",
    "\n",
    "setwd(\"D:/Penn State/DAAN/DAAN 888 Analytics Design Implementation/Report\")  #set my working directory\n",
    "getwd()\n",
    "\n",
    "HOUSE.df <- read.csv(\"ResidentialSalesWithLocation_CSV.csv\", header = TRUE)  #import data into R\n",
    "\n",
    "######################### Verify the data ##########################\n",
    "head(HOUSE.df)   #Verify the first five rows of the dataframe\n",
    "\n",
    "tail(HOUSE.df)   #Verify the last five rows of the dataframe\n",
    "\n",
    "summary(HOUSE.df)   #To check the variables and counts\n",
    "\n",
    "str(HOUSE.df)   #To check the data structure of the loaded dataset\n",
    "####################################################################"
   ]
  },
  {
   "cell_type": "code",
   "execution_count": 2,
   "metadata": {},
   "outputs": [
    {
     "data": {
      "text/html": [
       "<table class=\"dataframe\">\n",
       "<caption>A data.frame: 6 × 3</caption>\n",
       "<thead>\n",
       "\t<tr><th></th><th scope=col>SALEDATE</th><th scope=col>PRICE</th><th scope=col>WARD</th></tr>\n",
       "\t<tr><th></th><th scope=col>&lt;chr&gt;</th><th scope=col>&lt;int&gt;</th><th scope=col>&lt;chr&gt;</th></tr>\n",
       "</thead>\n",
       "<tbody>\n",
       "\t<tr><th scope=row>1</th><td>2013/07/22 00:00:00+00</td><td> 755000</td><td>Ward 1</td></tr>\n",
       "\t<tr><th scope=row>2</th><td>1900/01/01 00:00:00+00</td><td>     NA</td><td>Ward 1</td></tr>\n",
       "\t<tr><th scope=row>3</th><td>1996/02/12 00:00:00+00</td><td> 118000</td><td>Ward 1</td></tr>\n",
       "\t<tr><th scope=row>4</th><td>2022/04/06 00:00:00+00</td><td>1110000</td><td>Ward 1</td></tr>\n",
       "\t<tr><th scope=row>5</th><td>2017/03/24 00:00:00+00</td><td>      0</td><td>Ward 1</td></tr>\n",
       "\t<tr><th scope=row>6</th><td>2000/06/30 00:00:00+00</td><td> 251000</td><td>Ward 1</td></tr>\n",
       "</tbody>\n",
       "</table>\n"
      ],
      "text/latex": [
       "A data.frame: 6 × 3\n",
       "\\begin{tabular}{r|lll}\n",
       "  & SALEDATE & PRICE & WARD\\\\\n",
       "  & <chr> & <int> & <chr>\\\\\n",
       "\\hline\n",
       "\t1 & 2013/07/22 00:00:00+00 &  755000 & Ward 1\\\\\n",
       "\t2 & 1900/01/01 00:00:00+00 &      NA & Ward 1\\\\\n",
       "\t3 & 1996/02/12 00:00:00+00 &  118000 & Ward 1\\\\\n",
       "\t4 & 2022/04/06 00:00:00+00 & 1110000 & Ward 1\\\\\n",
       "\t5 & 2017/03/24 00:00:00+00 &       0 & Ward 1\\\\\n",
       "\t6 & 2000/06/30 00:00:00+00 &  251000 & Ward 1\\\\\n",
       "\\end{tabular}\n"
      ],
      "text/markdown": [
       "\n",
       "A data.frame: 6 × 3\n",
       "\n",
       "| <!--/--> | SALEDATE &lt;chr&gt; | PRICE &lt;int&gt; | WARD &lt;chr&gt; |\n",
       "|---|---|---|---|\n",
       "| 1 | 2013/07/22 00:00:00+00 |  755000 | Ward 1 |\n",
       "| 2 | 1900/01/01 00:00:00+00 |      NA | Ward 1 |\n",
       "| 3 | 1996/02/12 00:00:00+00 |  118000 | Ward 1 |\n",
       "| 4 | 2022/04/06 00:00:00+00 | 1110000 | Ward 1 |\n",
       "| 5 | 2017/03/24 00:00:00+00 |       0 | Ward 1 |\n",
       "| 6 | 2000/06/30 00:00:00+00 |  251000 | Ward 1 |\n",
       "\n"
      ],
      "text/plain": [
       "  SALEDATE               PRICE   WARD  \n",
       "1 2013/07/22 00:00:00+00  755000 Ward 1\n",
       "2 1900/01/01 00:00:00+00      NA Ward 1\n",
       "3 1996/02/12 00:00:00+00  118000 Ward 1\n",
       "4 2022/04/06 00:00:00+00 1110000 Ward 1\n",
       "5 2017/03/24 00:00:00+00       0 Ward 1\n",
       "6 2000/06/30 00:00:00+00  251000 Ward 1"
      ]
     },
     "metadata": {},
     "output_type": "display_data"
    },
    {
     "data": {
      "text/plain": [
       "   SALEDATE             PRICE              WARD          \n",
       " Length:108403      Min.   :       0   Length:108403     \n",
       " Class :character   1st Qu.:       0   Class :character  \n",
       " Mode  :character   Median :  294000   Mode  :character  \n",
       "                    Mean   :  465255                     \n",
       "                    3rd Qu.:  715000                     \n",
       "                    Max.   :25100000                     \n",
       "                    NA's   :14181                        "
      ]
     },
     "metadata": {},
     "output_type": "display_data"
    },
    {
     "name": "stdout",
     "output_type": "stream",
     "text": [
      "'data.frame':\t108403 obs. of  3 variables:\n",
      " $ SALEDATE: chr  \"2013/07/22 00:00:00+00\" \"1900/01/01 00:00:00+00\" \"1996/02/12 00:00:00+00\" \"2022/04/06 00:00:00+00\" ...\n",
      " $ PRICE   : int  755000 NA 118000 1110000 0 251000 930388 606500 0 162000 ...\n",
      " $ WARD    : chr  \"Ward 1\" \"Ward 1\" \"Ward 1\" \"Ward 1\" ...\n"
     ]
    }
   ],
   "source": [
    "################################################################################\n",
    "# Create a new data set for the total population\n",
    "# Three features, \"SALEDATE\", \"PRICE\", and \"Ward\"\n",
    "\n",
    "HOUSE_TS1.df <- subset(HOUSE.df, select = c(SALEDATE, PRICE, WARD))\n",
    "\n",
    "head(HOUSE_TS1.df)     #Verify the first five rows of the dataframe\n",
    "\n",
    "summary(HOUSE_TS1.df)     #To check the variables and counts\n",
    "\n",
    "str(HOUSE_TS1.df)   #To check the data structure of the loaded dataset\n",
    "################################################################################"
   ]
  },
  {
   "cell_type": "code",
   "execution_count": 3,
   "metadata": {},
   "outputs": [
    {
     "data": {
      "text/plain": [
       "   SALEDATE             PRICE              WARD          \n",
       " Length:62008       Min.   :       1   Length:62008      \n",
       " Class :character   1st Qu.:  300000   Class :character  \n",
       " Mode  :character   Median :  557985   Mode  :character  \n",
       "                    Mean   :  706961                     \n",
       "                    3rd Qu.:  894000                     \n",
       "                    Max.   :25100000                     "
      ]
     },
     "metadata": {},
     "output_type": "display_data"
    }
   ],
   "source": [
    "################################################################################\n",
    "# Remove 0s and NA's from the \"PRICE\" variable\n",
    "HOUSE_TS1.df[HOUSE_TS1.df==0] <- NA     # Set all 0s to NA\n",
    "\n",
    "HOUSE_TS1.df <- na.omit(HOUSE_TS1.df)     # Removes all NA's from the dataframe\n",
    "\n",
    "summary(HOUSE_TS1.df)     #To check the variables and counts\n",
    "################################################################################"
   ]
  },
  {
   "cell_type": "code",
   "execution_count": 4,
   "metadata": {},
   "outputs": [
    {
     "name": "stderr",
     "output_type": "stream",
     "text": [
      "Installing package into 'C:/Users/bates/AppData/Local/R/win-library/4.2'\n",
      "(as 'lib' is unspecified)\n",
      "\n"
     ]
    },
    {
     "name": "stdout",
     "output_type": "stream",
     "text": [
      "package 'ggplot2' successfully unpacked and MD5 sums checked\n",
      "\n",
      "The downloaded binary packages are in\n",
      "\tC:\\Users\\bates\\AppData\\Local\\Temp\\RtmpOk9tNt\\downloaded_packages\n"
     ]
    },
    {
     "name": "stderr",
     "output_type": "stream",
     "text": [
      "Installing package into 'C:/Users/bates/AppData/Local/R/win-library/4.2'\n",
      "(as 'lib' is unspecified)\n",
      "\n"
     ]
    },
    {
     "name": "stdout",
     "output_type": "stream",
     "text": [
      "package 'dplyr' successfully unpacked and MD5 sums checked\n"
     ]
    },
    {
     "name": "stderr",
     "output_type": "stream",
     "text": [
      "Warning message:\n",
      "\"cannot remove prior installation of package 'dplyr'\"\n",
      "Warning message in file.copy(savedcopy, lib, recursive = TRUE):\n",
      "\"problem copying C:\\Users\\bates\\AppData\\Local\\R\\win-library\\4.2\\00LOCK\\dplyr\\libs\\x64\\dplyr.dll to C:\\Users\\bates\\AppData\\Local\\R\\win-library\\4.2\\dplyr\\libs\\x64\\dplyr.dll: Permission denied\"\n",
      "Warning message:\n",
      "\"restored 'dplyr'\"\n"
     ]
    },
    {
     "name": "stdout",
     "output_type": "stream",
     "text": [
      "\n",
      "The downloaded binary packages are in\n",
      "\tC:\\Users\\bates\\AppData\\Local\\Temp\\RtmpOk9tNt\\downloaded_packages\n"
     ]
    },
    {
     "name": "stderr",
     "output_type": "stream",
     "text": [
      "\n",
      "Attaching package: 'dplyr'\n",
      "\n",
      "\n",
      "The following objects are masked from 'package:stats':\n",
      "\n",
      "    filter, lag\n",
      "\n",
      "\n",
      "The following objects are masked from 'package:base':\n",
      "\n",
      "    intersect, setdiff, setequal, union\n",
      "\n",
      "\n"
     ]
    },
    {
     "data": {
      "image/png": "[encoded data removed]",
      "text/plain": [
       "plot without title"
      ]
     },
     "metadata": {
      "image/png": {
       "height": 420,
       "width": 420
      }
     },
     "output_type": "display_data"
    }
   ],
   "source": [
    "################################################################################\n",
    "# Boxplot of the \"PRICE\" variable\n",
    "# Install packages\n",
    "install.packages(\"ggplot2\")\n",
    "install.packages(\"dplyr\")\n",
    "library(\"ggplot2\")\n",
    "library(\"dplyr\")\n",
    "\n",
    "# Create boxplot of the \"PRICE\" variable \n",
    "ggplot(data = HOUSE_TS1.df, aes(x = \"\", y = PRICE)) + \n",
    "  geom_boxplot() +\n",
    "  coord_cartesian(ylim = c(0, 26000000)) # Set the y axis scale\n",
    "################################################################################"
   ]
  },
  {
   "cell_type": "code",
   "execution_count": 5,
   "metadata": {},
   "outputs": [
    {
     "name": "stderr",
     "output_type": "stream",
     "text": [
      "Installing package into 'C:/Users/bates/AppData/Local/R/win-library/4.2'\n",
      "(as 'lib' is unspecified)\n",
      "\n"
     ]
    },
    {
     "name": "stdout",
     "output_type": "stream",
     "text": [
      "package 'lubridate' successfully unpacked and MD5 sums checked\n"
     ]
    },
    {
     "name": "stderr",
     "output_type": "stream",
     "text": [
      "Warning message:\n",
      "\"cannot remove prior installation of package 'lubridate'\"\n",
      "Warning message in file.copy(savedcopy, lib, recursive = TRUE):\n",
      "\"problem copying C:\\Users\\bates\\AppData\\Local\\R\\win-library\\4.2\\00LOCK\\lubridate\\libs\\x64\\lubridate.dll to C:\\Users\\bates\\AppData\\Local\\R\\win-library\\4.2\\lubridate\\libs\\x64\\lubridate.dll: Permission denied\"\n",
      "Warning message:\n",
      "\"restored 'lubridate'\"\n"
     ]
    },
    {
     "name": "stdout",
     "output_type": "stream",
     "text": [
      "\n",
      "The downloaded binary packages are in\n",
      "\tC:\\Users\\bates\\AppData\\Local\\Temp\\RtmpOk9tNt\\downloaded_packages\n"
     ]
    },
    {
     "name": "stderr",
     "output_type": "stream",
     "text": [
      "Installing package into 'C:/Users/bates/AppData/Local/R/win-library/4.2'\n",
      "(as 'lib' is unspecified)\n",
      "\n"
     ]
    },
    {
     "name": "stdout",
     "output_type": "stream",
     "text": [
      "package 'linelist' successfully unpacked and MD5 sums checked\n",
      "\n",
      "The downloaded binary packages are in\n",
      "\tC:\\Users\\bates\\AppData\\Local\\Temp\\RtmpOk9tNt\\downloaded_packages\n"
     ]
    },
    {
     "name": "stderr",
     "output_type": "stream",
     "text": [
      "Installing package into 'C:/Users/bates/AppData/Local/R/win-library/4.2'\n",
      "(as 'lib' is unspecified)\n",
      "\n"
     ]
    },
    {
     "name": "stdout",
     "output_type": "stream",
     "text": [
      "package 'aweek' successfully unpacked and MD5 sums checked\n",
      "\n",
      "The downloaded binary packages are in\n",
      "\tC:\\Users\\bates\\AppData\\Local\\Temp\\RtmpOk9tNt\\downloaded_packages\n"
     ]
    },
    {
     "name": "stderr",
     "output_type": "stream",
     "text": [
      "Installing package into 'C:/Users/bates/AppData/Local/R/win-library/4.2'\n",
      "(as 'lib' is unspecified)\n",
      "\n"
     ]
    },
    {
     "name": "stdout",
     "output_type": "stream",
     "text": [
      "package 'zoo' successfully unpacked and MD5 sums checked\n"
     ]
    },
    {
     "name": "stderr",
     "output_type": "stream",
     "text": [
      "Warning message:\n",
      "\"cannot remove prior installation of package 'zoo'\"\n",
      "Warning message in file.copy(savedcopy, lib, recursive = TRUE):\n",
      "\"problem copying C:\\Users\\bates\\AppData\\Local\\R\\win-library\\4.2\\00LOCK\\zoo\\libs\\x64\\zoo.dll to C:\\Users\\bates\\AppData\\Local\\R\\win-library\\4.2\\zoo\\libs\\x64\\zoo.dll: Permission denied\"\n",
      "Warning message:\n",
      "\"restored 'zoo'\"\n"
     ]
    },
    {
     "name": "stdout",
     "output_type": "stream",
     "text": [
      "\n",
      "The downloaded binary packages are in\n",
      "\tC:\\Users\\bates\\AppData\\Local\\Temp\\RtmpOk9tNt\\downloaded_packages\n"
     ]
    },
    {
     "name": "stderr",
     "output_type": "stream",
     "text": [
      "Installing package into 'C:/Users/bates/AppData/Local/R/win-library/4.2'\n",
      "(as 'lib' is unspecified)\n",
      "\n"
     ]
    },
    {
     "name": "stdout",
     "output_type": "stream",
     "text": [
      "package 'tidyverse' successfully unpacked and MD5 sums checked\n",
      "\n",
      "The downloaded binary packages are in\n",
      "\tC:\\Users\\bates\\AppData\\Local\\Temp\\RtmpOk9tNt\\downloaded_packages\n"
     ]
    },
    {
     "name": "stderr",
     "output_type": "stream",
     "text": [
      "Installing package into 'C:/Users/bates/AppData/Local/R/win-library/4.2'\n",
      "(as 'lib' is unspecified)\n",
      "\n"
     ]
    },
    {
     "name": "stdout",
     "output_type": "stream",
     "text": [
      "package 'rio' successfully unpacked and MD5 sums checked\n",
      "\n",
      "The downloaded binary packages are in\n",
      "\tC:\\Users\\bates\\AppData\\Local\\Temp\\RtmpOk9tNt\\downloaded_packages\n"
     ]
    },
    {
     "name": "stderr",
     "output_type": "stream",
     "text": [
      "\n",
      "Attaching package: 'lubridate'\n",
      "\n",
      "\n",
      "The following objects are masked from 'package:base':\n",
      "\n",
      "    date, intersect, setdiff, union\n",
      "\n",
      "\n",
      "\n",
      "Attaching package: 'zoo'\n",
      "\n",
      "\n",
      "The following objects are masked from 'package:base':\n",
      "\n",
      "    as.Date, as.Date.numeric\n",
      "\n",
      "\n",
      "── \u001b[1mAttaching packages\u001b[22m ─────────────────────────────────────────────────────────────────────────────── tidyverse 1.3.2 ──\n",
      "\u001b[32m✔\u001b[39m \u001b[34mtibble \u001b[39m 3.1.8     \u001b[32m✔\u001b[39m \u001b[34mpurrr  \u001b[39m 0.3.4\n",
      "\u001b[32m✔\u001b[39m \u001b[34mtidyr  \u001b[39m 1.2.1     \u001b[32m✔\u001b[39m \u001b[34mstringr\u001b[39m 1.4.1\n",
      "\u001b[32m✔\u001b[39m \u001b[34mreadr  \u001b[39m 2.1.2     \u001b[32m✔\u001b[39m \u001b[34mforcats\u001b[39m 0.5.2\n",
      "── \u001b[1mConflicts\u001b[22m ────────────────────────────────────────────────────────────────────────────────── tidyverse_conflicts() ──\n",
      "\u001b[31m✖\u001b[39m \u001b[34mlubridate\u001b[39m::\u001b[32mas.difftime()\u001b[39m masks \u001b[34mbase\u001b[39m::as.difftime()\n",
      "\u001b[31m✖\u001b[39m \u001b[34mlubridate\u001b[39m::\u001b[32mdate()\u001b[39m        masks \u001b[34mbase\u001b[39m::date()\n",
      "\u001b[31m✖\u001b[39m \u001b[34mdplyr\u001b[39m::\u001b[32mfilter()\u001b[39m          masks \u001b[34mstats\u001b[39m::filter()\n",
      "\u001b[31m✖\u001b[39m \u001b[34mlubridate\u001b[39m::\u001b[32mintersect()\u001b[39m   masks \u001b[34mbase\u001b[39m::intersect()\n",
      "\u001b[31m✖\u001b[39m \u001b[34mdplyr\u001b[39m::\u001b[32mlag()\u001b[39m             masks \u001b[34mstats\u001b[39m::lag()\n",
      "\u001b[31m✖\u001b[39m \u001b[34mlubridate\u001b[39m::\u001b[32msetdiff()\u001b[39m     masks \u001b[34mbase\u001b[39m::setdiff()\n",
      "\u001b[31m✖\u001b[39m \u001b[34mlubridate\u001b[39m::\u001b[32munion()\u001b[39m       masks \u001b[34mbase\u001b[39m::union()\n"
     ]
    }
   ],
   "source": [
    "################################################################################\n",
    "# Install packages to work with dates\n",
    "install.packages(\"lubridate\")  # general package for handling and converting dates)\n",
    "install.packages(\"linelist\")   # has function to \"guess\" messy dates\n",
    "install.packages(\"aweek\")      # another option for converting dates to weeks, and weeks to dates\n",
    "install.packages(\"zoo\")        # additional date/time functions\n",
    "install.packages(\"tidyverse\")  # data management and visualization  \n",
    "install.packages(\"rio\")        # data import/export\n",
    "library(\"lubridate\")  \n",
    "library(\"linelist\")   \n",
    "library(\"aweek\")      \n",
    "library(\"zoo\")        \n",
    "library(\"tidyverse\")    \n",
    "library(\"rio\")   \n",
    "################################################################################"
   ]
  },
  {
   "cell_type": "code",
   "execution_count": 6,
   "metadata": {},
   "outputs": [
    {
     "data": {
      "text/html": [
       "'character'"
      ],
      "text/latex": [
       "'character'"
      ],
      "text/markdown": [
       "'character'"
      ],
      "text/plain": [
       "[1] \"character\""
      ]
     },
     "metadata": {},
     "output_type": "display_data"
    },
    {
     "data": {
      "text/html": [
       "<table class=\"dataframe\">\n",
       "<caption>A data.frame: 6 × 3</caption>\n",
       "<thead>\n",
       "\t<tr><th></th><th scope=col>SALEDATE</th><th scope=col>PRICE</th><th scope=col>WARD</th></tr>\n",
       "\t<tr><th></th><th scope=col>&lt;date&gt;</th><th scope=col>&lt;int&gt;</th><th scope=col>&lt;chr&gt;</th></tr>\n",
       "</thead>\n",
       "<tbody>\n",
       "\t<tr><th scope=row>1</th><td>2013-07-22</td><td> 755000</td><td>Ward 1</td></tr>\n",
       "\t<tr><th scope=row>3</th><td>1996-02-12</td><td> 118000</td><td>Ward 1</td></tr>\n",
       "\t<tr><th scope=row>4</th><td>2022-04-06</td><td>1110000</td><td>Ward 1</td></tr>\n",
       "\t<tr><th scope=row>6</th><td>2000-06-30</td><td> 251000</td><td>Ward 1</td></tr>\n",
       "\t<tr><th scope=row>7</th><td>2021-11-22</td><td> 930388</td><td>Ward 1</td></tr>\n",
       "\t<tr><th scope=row>8</th><td>2006-02-06</td><td> 606500</td><td>Ward 1</td></tr>\n",
       "</tbody>\n",
       "</table>\n"
      ],
      "text/latex": [
       "A data.frame: 6 × 3\n",
       "\\begin{tabular}{r|lll}\n",
       "  & SALEDATE & PRICE & WARD\\\\\n",
       "  & <date> & <int> & <chr>\\\\\n",
       "\\hline\n",
       "\t1 & 2013-07-22 &  755000 & Ward 1\\\\\n",
       "\t3 & 1996-02-12 &  118000 & Ward 1\\\\\n",
       "\t4 & 2022-04-06 & 1110000 & Ward 1\\\\\n",
       "\t6 & 2000-06-30 &  251000 & Ward 1\\\\\n",
       "\t7 & 2021-11-22 &  930388 & Ward 1\\\\\n",
       "\t8 & 2006-02-06 &  606500 & Ward 1\\\\\n",
       "\\end{tabular}\n"
      ],
      "text/markdown": [
       "\n",
       "A data.frame: 6 × 3\n",
       "\n",
       "| <!--/--> | SALEDATE &lt;date&gt; | PRICE &lt;int&gt; | WARD &lt;chr&gt; |\n",
       "|---|---|---|---|\n",
       "| 1 | 2013-07-22 |  755000 | Ward 1 |\n",
       "| 3 | 1996-02-12 |  118000 | Ward 1 |\n",
       "| 4 | 2022-04-06 | 1110000 | Ward 1 |\n",
       "| 6 | 2000-06-30 |  251000 | Ward 1 |\n",
       "| 7 | 2021-11-22 |  930388 | Ward 1 |\n",
       "| 8 | 2006-02-06 |  606500 | Ward 1 |\n",
       "\n"
      ],
      "text/plain": [
       "  SALEDATE   PRICE   WARD  \n",
       "1 2013-07-22  755000 Ward 1\n",
       "3 1996-02-12  118000 Ward 1\n",
       "4 2022-04-06 1110000 Ward 1\n",
       "6 2000-06-30  251000 Ward 1\n",
       "7 2021-11-22  930388 Ward 1\n",
       "8 2006-02-06  606500 Ward 1"
      ]
     },
     "metadata": {},
     "output_type": "display_data"
    },
    {
     "data": {
      "text/html": [
       "'Date'"
      ],
      "text/latex": [
       "'Date'"
      ],
      "text/markdown": [
       "'Date'"
      ],
      "text/plain": [
       "[1] \"Date\""
      ]
     },
     "metadata": {},
     "output_type": "display_data"
    },
    {
     "data": {
      "text/html": [
       "<table class=\"dataframe\">\n",
       "<caption>A data.frame: 6 × 3</caption>\n",
       "<thead>\n",
       "\t<tr><th></th><th scope=col>SALEDATE</th><th scope=col>PRICE</th><th scope=col>WARD</th></tr>\n",
       "\t<tr><th></th><th scope=col>&lt;chr&gt;</th><th scope=col>&lt;int&gt;</th><th scope=col>&lt;chr&gt;</th></tr>\n",
       "</thead>\n",
       "<tbody>\n",
       "\t<tr><th scope=row>1</th><td>2013-07</td><td> 755000</td><td>Ward 1</td></tr>\n",
       "\t<tr><th scope=row>3</th><td>1996-02</td><td> 118000</td><td>Ward 1</td></tr>\n",
       "\t<tr><th scope=row>4</th><td>2022-04</td><td>1110000</td><td>Ward 1</td></tr>\n",
       "\t<tr><th scope=row>6</th><td>2000-06</td><td> 251000</td><td>Ward 1</td></tr>\n",
       "\t<tr><th scope=row>7</th><td>2021-11</td><td> 930388</td><td>Ward 1</td></tr>\n",
       "\t<tr><th scope=row>8</th><td>2006-02</td><td> 606500</td><td>Ward 1</td></tr>\n",
       "</tbody>\n",
       "</table>\n"
      ],
      "text/latex": [
       "A data.frame: 6 × 3\n",
       "\\begin{tabular}{r|lll}\n",
       "  & SALEDATE & PRICE & WARD\\\\\n",
       "  & <chr> & <int> & <chr>\\\\\n",
       "\\hline\n",
       "\t1 & 2013-07 &  755000 & Ward 1\\\\\n",
       "\t3 & 1996-02 &  118000 & Ward 1\\\\\n",
       "\t4 & 2022-04 & 1110000 & Ward 1\\\\\n",
       "\t6 & 2000-06 &  251000 & Ward 1\\\\\n",
       "\t7 & 2021-11 &  930388 & Ward 1\\\\\n",
       "\t8 & 2006-02 &  606500 & Ward 1\\\\\n",
       "\\end{tabular}\n"
      ],
      "text/markdown": [
       "\n",
       "A data.frame: 6 × 3\n",
       "\n",
       "| <!--/--> | SALEDATE &lt;chr&gt; | PRICE &lt;int&gt; | WARD &lt;chr&gt; |\n",
       "|---|---|---|---|\n",
       "| 1 | 2013-07 |  755000 | Ward 1 |\n",
       "| 3 | 1996-02 |  118000 | Ward 1 |\n",
       "| 4 | 2022-04 | 1110000 | Ward 1 |\n",
       "| 6 | 2000-06 |  251000 | Ward 1 |\n",
       "| 7 | 2021-11 |  930388 | Ward 1 |\n",
       "| 8 | 2006-02 |  606500 | Ward 1 |\n",
       "\n"
      ],
      "text/plain": [
       "  SALEDATE PRICE   WARD  \n",
       "1 2013-07   755000 Ward 1\n",
       "3 1996-02   118000 Ward 1\n",
       "4 2022-04  1110000 Ward 1\n",
       "6 2000-06   251000 Ward 1\n",
       "7 2021-11   930388 Ward 1\n",
       "8 2006-02   606500 Ward 1"
      ]
     },
     "metadata": {},
     "output_type": "display_data"
    }
   ],
   "source": [
    "################################################################################\n",
    "# Clean up Date attribute\n",
    "class(HOUSE_TS1.df$SALEDATE)   #Check the class of the \"SALEDATE\" field\n",
    "\n",
    "# Because \"SALEDATE\" is class 'character', we must convert it to class 'Date'\n",
    "# Tell R how to identify the date parts of the \"SALEDATE\" field\n",
    "# The format = argument specifies the date components and \n",
    "# drops the time component in the \"SALEDATE'\n",
    "HOUSE_TS1.df$SALEDATE <- as.Date(HOUSE_TS1.df$SALEDATE, format = \"%Y/%m/%d\")\n",
    "\n",
    "head(HOUSE_TS1.df)   # Verify the time component was dropped\n",
    "\n",
    "class(HOUSE_TS1.df$SALEDATE)   # Check the class of the \"SALEDATE\" field \n",
    "\n",
    "# Drop the 'day' from the date\n",
    "HOUSE_TS2.df <- HOUSE_TS1.df\n",
    "HOUSE_TS2.df$SALEDATE <- format(HOUSE_TS2.df$SALEDATE, format = \"%Y-%m\")\n",
    "\n",
    "head(HOUSE_TS2.df)   # Verify the day component was dropped\n",
    "################################################################################"
   ]
  },
  {
   "cell_type": "code",
   "execution_count": 7,
   "metadata": {},
   "outputs": [
    {
     "data": {
      "text/plain": [
       "   SALEDATE             PRICE              WARD          \n",
       " Length:8834        Min.   :      10   Length:8834       \n",
       " Class :character   1st Qu.:  525000   Class :character  \n",
       " Mode  :character   Median :  850000   Mode  :character  \n",
       "                    Mean   : 1064381                     \n",
       "                    3rd Qu.: 1305750                     \n",
       "                    Max.   :23960287                     "
      ]
     },
     "metadata": {},
     "output_type": "display_data"
    },
    {
     "name": "stdout",
     "output_type": "stream",
     "text": [
      "'data.frame':\t8834 obs. of  3 variables:\n",
      " $ SALEDATE: chr  \"2013-07\" \"1996-02\" \"2022-04\" \"2000-06\" ...\n",
      " $ PRICE   : int  755000 118000 1110000 251000 930388 606500 162000 534000 450000 144330 ...\n",
      " $ WARD    : chr  \"Ward 1\" \"Ward 1\" \"Ward 1\" \"Ward 1\" ...\n"
     ]
    },
    {
     "data": {
      "text/html": [
       "<table class=\"dataframe\">\n",
       "<caption>A data.frame: 6 × 2</caption>\n",
       "<thead>\n",
       "\t<tr><th></th><th scope=col>SALEDATE</th><th scope=col>PRICE</th></tr>\n",
       "\t<tr><th></th><th scope=col>&lt;chr&gt;</th><th scope=col>&lt;int&gt;</th></tr>\n",
       "</thead>\n",
       "<tbody>\n",
       "\t<tr><th scope=row>1</th><td>2013-07</td><td> 755000</td></tr>\n",
       "\t<tr><th scope=row>3</th><td>1996-02</td><td> 118000</td></tr>\n",
       "\t<tr><th scope=row>4</th><td>2022-04</td><td>1110000</td></tr>\n",
       "\t<tr><th scope=row>6</th><td>2000-06</td><td> 251000</td></tr>\n",
       "\t<tr><th scope=row>7</th><td>2021-11</td><td> 930388</td></tr>\n",
       "\t<tr><th scope=row>8</th><td>2006-02</td><td> 606500</td></tr>\n",
       "</tbody>\n",
       "</table>\n"
      ],
      "text/latex": [
       "A data.frame: 6 × 2\n",
       "\\begin{tabular}{r|ll}\n",
       "  & SALEDATE & PRICE\\\\\n",
       "  & <chr> & <int>\\\\\n",
       "\\hline\n",
       "\t1 & 2013-07 &  755000\\\\\n",
       "\t3 & 1996-02 &  118000\\\\\n",
       "\t4 & 2022-04 & 1110000\\\\\n",
       "\t6 & 2000-06 &  251000\\\\\n",
       "\t7 & 2021-11 &  930388\\\\\n",
       "\t8 & 2006-02 &  606500\\\\\n",
       "\\end{tabular}\n"
      ],
      "text/markdown": [
       "\n",
       "A data.frame: 6 × 2\n",
       "\n",
       "| <!--/--> | SALEDATE &lt;chr&gt; | PRICE &lt;int&gt; |\n",
       "|---|---|---|\n",
       "| 1 | 2013-07 |  755000 |\n",
       "| 3 | 1996-02 |  118000 |\n",
       "| 4 | 2022-04 | 1110000 |\n",
       "| 6 | 2000-06 |  251000 |\n",
       "| 7 | 2021-11 |  930388 |\n",
       "| 8 | 2006-02 |  606500 |\n",
       "\n"
      ],
      "text/plain": [
       "  SALEDATE PRICE  \n",
       "1 2013-07   755000\n",
       "3 1996-02   118000\n",
       "4 2022-04  1110000\n",
       "6 2000-06   251000\n",
       "7 2021-11   930388\n",
       "8 2006-02   606500"
      ]
     },
     "metadata": {},
     "output_type": "display_data"
    }
   ],
   "source": [
    "################################################################################\n",
    "# Filter database for only Wards 1 & 2\n",
    "\n",
    "HOUSE_TS2.df <- subset(HOUSE_TS2.df, WARD %in% c(\"Ward 1\", \"Ward 2\"))\n",
    "\n",
    "summary(HOUSE_TS2.df)     #To check the variables and counts\n",
    "\n",
    "str(HOUSE_TS2.df)   #To check the data structure\n",
    "\n",
    "# Create a new data set for the Ward 1 &2 population\n",
    "# Drop the Ward attribute and keep two features, \"SALEDATE\", \"PRICE\"\n",
    "\n",
    "HOUSE_TS2.df <- subset(HOUSE_TS2.df, select = c(SALEDATE, PRICE))\n",
    "\n",
    "head(HOUSE_TS2.df)     #Verify the first five rows of the dataframe\n",
    "\n",
    "################################################################################"
   ]
  },
  {
   "cell_type": "code",
   "execution_count": 8,
   "metadata": {},
   "outputs": [
    {
     "data": {
      "text/plain": [
       "   SALEDATE             PRICE         \n",
       " Length:8834        Min.   :      10  \n",
       " Class :character   1st Qu.:  525000  \n",
       " Mode  :character   Median :  850000  \n",
       "                    Mean   : 1064381  \n",
       "                    3rd Qu.: 1305750  \n",
       "                    Max.   :23960287  "
      ]
     },
     "metadata": {},
     "output_type": "display_data"
    },
    {
     "data": {
      "text/plain": [
       "   SALEDATE             PRICE        \n",
       " Length:372         Min.   :  40000  \n",
       " Class :character   1st Qu.: 344178  \n",
       " Mode  :character   Median : 819579  \n",
       "                    Mean   : 814016  \n",
       "                    3rd Qu.:1169484  \n",
       "                    Max.   :5197017  "
      ]
     },
     "metadata": {},
     "output_type": "display_data"
    },
    {
     "data": {
      "text/html": [
       "<table class=\"dataframe\">\n",
       "<caption>A data.frame: 20 × 2</caption>\n",
       "<thead>\n",
       "\t<tr><th></th><th scope=col>SALEDATE</th><th scope=col>PRICE</th></tr>\n",
       "\t<tr><th></th><th scope=col>&lt;chr&gt;</th><th scope=col>&lt;dbl&gt;</th></tr>\n",
       "</thead>\n",
       "<tbody>\n",
       "\t<tr><th scope=row>1</th><td>1982-09</td><td> 40000.0</td></tr>\n",
       "\t<tr><th scope=row>2</th><td>1986-08</td><td>850000.0</td></tr>\n",
       "\t<tr><th scope=row>3</th><td>1987-09</td><td>785000.0</td></tr>\n",
       "\t<tr><th scope=row>4</th><td>1988-12</td><td>140000.0</td></tr>\n",
       "\t<tr><th scope=row>5</th><td>1989-04</td><td>170000.0</td></tr>\n",
       "\t<tr><th scope=row>6</th><td>1992-01</td><td>248000.0</td></tr>\n",
       "\t<tr><th scope=row>7</th><td>1992-02</td><td>439000.0</td></tr>\n",
       "\t<tr><th scope=row>8</th><td>1992-03</td><td>281250.0</td></tr>\n",
       "\t<tr><th scope=row>9</th><td>1992-04</td><td>195187.5</td></tr>\n",
       "\t<tr><th scope=row>10</th><td>1992-05</td><td>337333.3</td></tr>\n",
       "\t<tr><th scope=row>11</th><td>1992-06</td><td>314948.8</td></tr>\n",
       "\t<tr><th scope=row>12</th><td>1992-07</td><td>305341.7</td></tr>\n",
       "\t<tr><th scope=row>13</th><td>1992-08</td><td>198635.0</td></tr>\n",
       "\t<tr><th scope=row>14</th><td>1992-09</td><td>275000.0</td></tr>\n",
       "\t<tr><th scope=row>15</th><td>1992-10</td><td>163166.7</td></tr>\n",
       "\t<tr><th scope=row>16</th><td>1992-11</td><td>256375.0</td></tr>\n",
       "\t<tr><th scope=row>17</th><td>1992-12</td><td>921700.0</td></tr>\n",
       "\t<tr><th scope=row>18</th><td>1993-01</td><td>224466.7</td></tr>\n",
       "\t<tr><th scope=row>19</th><td>1993-02</td><td>273400.0</td></tr>\n",
       "\t<tr><th scope=row>20</th><td>1993-03</td><td>255000.0</td></tr>\n",
       "</tbody>\n",
       "</table>\n"
      ],
      "text/latex": [
       "A data.frame: 20 × 2\n",
       "\\begin{tabular}{r|ll}\n",
       "  & SALEDATE & PRICE\\\\\n",
       "  & <chr> & <dbl>\\\\\n",
       "\\hline\n",
       "\t1 & 1982-09 &  40000.0\\\\\n",
       "\t2 & 1986-08 & 850000.0\\\\\n",
       "\t3 & 1987-09 & 785000.0\\\\\n",
       "\t4 & 1988-12 & 140000.0\\\\\n",
       "\t5 & 1989-04 & 170000.0\\\\\n",
       "\t6 & 1992-01 & 248000.0\\\\\n",
       "\t7 & 1992-02 & 439000.0\\\\\n",
       "\t8 & 1992-03 & 281250.0\\\\\n",
       "\t9 & 1992-04 & 195187.5\\\\\n",
       "\t10 & 1992-05 & 337333.3\\\\\n",
       "\t11 & 1992-06 & 314948.8\\\\\n",
       "\t12 & 1992-07 & 305341.7\\\\\n",
       "\t13 & 1992-08 & 198635.0\\\\\n",
       "\t14 & 1992-09 & 275000.0\\\\\n",
       "\t15 & 1992-10 & 163166.7\\\\\n",
       "\t16 & 1992-11 & 256375.0\\\\\n",
       "\t17 & 1992-12 & 921700.0\\\\\n",
       "\t18 & 1993-01 & 224466.7\\\\\n",
       "\t19 & 1993-02 & 273400.0\\\\\n",
       "\t20 & 1993-03 & 255000.0\\\\\n",
       "\\end{tabular}\n"
      ],
      "text/markdown": [
       "\n",
       "A data.frame: 20 × 2\n",
       "\n",
       "| <!--/--> | SALEDATE &lt;chr&gt; | PRICE &lt;dbl&gt; |\n",
       "|---|---|---|\n",
       "| 1 | 1982-09 |  40000.0 |\n",
       "| 2 | 1986-08 | 850000.0 |\n",
       "| 3 | 1987-09 | 785000.0 |\n",
       "| 4 | 1988-12 | 140000.0 |\n",
       "| 5 | 1989-04 | 170000.0 |\n",
       "| 6 | 1992-01 | 248000.0 |\n",
       "| 7 | 1992-02 | 439000.0 |\n",
       "| 8 | 1992-03 | 281250.0 |\n",
       "| 9 | 1992-04 | 195187.5 |\n",
       "| 10 | 1992-05 | 337333.3 |\n",
       "| 11 | 1992-06 | 314948.8 |\n",
       "| 12 | 1992-07 | 305341.7 |\n",
       "| 13 | 1992-08 | 198635.0 |\n",
       "| 14 | 1992-09 | 275000.0 |\n",
       "| 15 | 1992-10 | 163166.7 |\n",
       "| 16 | 1992-11 | 256375.0 |\n",
       "| 17 | 1992-12 | 921700.0 |\n",
       "| 18 | 1993-01 | 224466.7 |\n",
       "| 19 | 1993-02 | 273400.0 |\n",
       "| 20 | 1993-03 | 255000.0 |\n",
       "\n"
      ],
      "text/plain": [
       "   SALEDATE PRICE   \n",
       "1  1982-09   40000.0\n",
       "2  1986-08  850000.0\n",
       "3  1987-09  785000.0\n",
       "4  1988-12  140000.0\n",
       "5  1989-04  170000.0\n",
       "6  1992-01  248000.0\n",
       "7  1992-02  439000.0\n",
       "8  1992-03  281250.0\n",
       "9  1992-04  195187.5\n",
       "10 1992-05  337333.3\n",
       "11 1992-06  314948.8\n",
       "12 1992-07  305341.7\n",
       "13 1992-08  198635.0\n",
       "14 1992-09  275000.0\n",
       "15 1992-10  163166.7\n",
       "16 1992-11  256375.0\n",
       "17 1992-12  921700.0\n",
       "18 1993-01  224466.7\n",
       "19 1993-02  273400.0\n",
       "20 1993-03  255000.0"
      ]
     },
     "metadata": {},
     "output_type": "display_data"
    },
    {
     "data": {
      "text/html": [
       "<table class=\"dataframe\">\n",
       "<caption>A data.frame: 20 × 2</caption>\n",
       "<thead>\n",
       "\t<tr><th></th><th scope=col>SALEDATE</th><th scope=col>PRICE</th></tr>\n",
       "\t<tr><th></th><th scope=col>&lt;chr&gt;</th><th scope=col>&lt;dbl&gt;</th></tr>\n",
       "</thead>\n",
       "<tbody>\n",
       "\t<tr><th scope=row>353</th><td>2021-01</td><td>1351195</td></tr>\n",
       "\t<tr><th scope=row>354</th><td>2021-02</td><td>1395145</td></tr>\n",
       "\t<tr><th scope=row>355</th><td>2021-03</td><td>1377357</td></tr>\n",
       "\t<tr><th scope=row>356</th><td>2021-04</td><td>1472023</td></tr>\n",
       "\t<tr><th scope=row>357</th><td>2021-05</td><td>1590834</td></tr>\n",
       "\t<tr><th scope=row>358</th><td>2021-06</td><td>1544042</td></tr>\n",
       "\t<tr><th scope=row>359</th><td>2021-07</td><td>1784210</td></tr>\n",
       "\t<tr><th scope=row>360</th><td>2021-08</td><td>1388689</td></tr>\n",
       "\t<tr><th scope=row>361</th><td>2021-09</td><td>1427664</td></tr>\n",
       "\t<tr><th scope=row>362</th><td>2021-10</td><td>1395851</td></tr>\n",
       "\t<tr><th scope=row>363</th><td>2021-11</td><td>1452317</td></tr>\n",
       "\t<tr><th scope=row>364</th><td>2021-12</td><td>1456850</td></tr>\n",
       "\t<tr><th scope=row>365</th><td>2022-01</td><td>1440606</td></tr>\n",
       "\t<tr><th scope=row>366</th><td>2022-02</td><td>1462668</td></tr>\n",
       "\t<tr><th scope=row>367</th><td>2022-03</td><td>1702932</td></tr>\n",
       "\t<tr><th scope=row>368</th><td>2022-04</td><td>1536347</td></tr>\n",
       "\t<tr><th scope=row>369</th><td>2022-05</td><td>1692634</td></tr>\n",
       "\t<tr><th scope=row>370</th><td>2022-06</td><td>1519344</td></tr>\n",
       "\t<tr><th scope=row>371</th><td>2022-07</td><td>1603970</td></tr>\n",
       "\t<tr><th scope=row>372</th><td>2022-08</td><td>1279860</td></tr>\n",
       "</tbody>\n",
       "</table>\n"
      ],
      "text/latex": [
       "A data.frame: 20 × 2\n",
       "\\begin{tabular}{r|ll}\n",
       "  & SALEDATE & PRICE\\\\\n",
       "  & <chr> & <dbl>\\\\\n",
       "\\hline\n",
       "\t353 & 2021-01 & 1351195\\\\\n",
       "\t354 & 2021-02 & 1395145\\\\\n",
       "\t355 & 2021-03 & 1377357\\\\\n",
       "\t356 & 2021-04 & 1472023\\\\\n",
       "\t357 & 2021-05 & 1590834\\\\\n",
       "\t358 & 2021-06 & 1544042\\\\\n",
       "\t359 & 2021-07 & 1784210\\\\\n",
       "\t360 & 2021-08 & 1388689\\\\\n",
       "\t361 & 2021-09 & 1427664\\\\\n",
       "\t362 & 2021-10 & 1395851\\\\\n",
       "\t363 & 2021-11 & 1452317\\\\\n",
       "\t364 & 2021-12 & 1456850\\\\\n",
       "\t365 & 2022-01 & 1440606\\\\\n",
       "\t366 & 2022-02 & 1462668\\\\\n",
       "\t367 & 2022-03 & 1702932\\\\\n",
       "\t368 & 2022-04 & 1536347\\\\\n",
       "\t369 & 2022-05 & 1692634\\\\\n",
       "\t370 & 2022-06 & 1519344\\\\\n",
       "\t371 & 2022-07 & 1603970\\\\\n",
       "\t372 & 2022-08 & 1279860\\\\\n",
       "\\end{tabular}\n"
      ],
      "text/markdown": [
       "\n",
       "A data.frame: 20 × 2\n",
       "\n",
       "| <!--/--> | SALEDATE &lt;chr&gt; | PRICE &lt;dbl&gt; |\n",
       "|---|---|---|\n",
       "| 353 | 2021-01 | 1351195 |\n",
       "| 354 | 2021-02 | 1395145 |\n",
       "| 355 | 2021-03 | 1377357 |\n",
       "| 356 | 2021-04 | 1472023 |\n",
       "| 357 | 2021-05 | 1590834 |\n",
       "| 358 | 2021-06 | 1544042 |\n",
       "| 359 | 2021-07 | 1784210 |\n",
       "| 360 | 2021-08 | 1388689 |\n",
       "| 361 | 2021-09 | 1427664 |\n",
       "| 362 | 2021-10 | 1395851 |\n",
       "| 363 | 2021-11 | 1452317 |\n",
       "| 364 | 2021-12 | 1456850 |\n",
       "| 365 | 2022-01 | 1440606 |\n",
       "| 366 | 2022-02 | 1462668 |\n",
       "| 367 | 2022-03 | 1702932 |\n",
       "| 368 | 2022-04 | 1536347 |\n",
       "| 369 | 2022-05 | 1692634 |\n",
       "| 370 | 2022-06 | 1519344 |\n",
       "| 371 | 2022-07 | 1603970 |\n",
       "| 372 | 2022-08 | 1279860 |\n",
       "\n"
      ],
      "text/plain": [
       "    SALEDATE PRICE  \n",
       "353 2021-01  1351195\n",
       "354 2021-02  1395145\n",
       "355 2021-03  1377357\n",
       "356 2021-04  1472023\n",
       "357 2021-05  1590834\n",
       "358 2021-06  1544042\n",
       "359 2021-07  1784210\n",
       "360 2021-08  1388689\n",
       "361 2021-09  1427664\n",
       "362 2021-10  1395851\n",
       "363 2021-11  1452317\n",
       "364 2021-12  1456850\n",
       "365 2022-01  1440606\n",
       "366 2022-02  1462668\n",
       "367 2022-03  1702932\n",
       "368 2022-04  1536347\n",
       "369 2022-05  1692634\n",
       "370 2022-06  1519344\n",
       "371 2022-07  1603970\n",
       "372 2022-08  1279860"
      ]
     },
     "metadata": {},
     "output_type": "display_data"
    },
    {
     "data": {
      "text/plain": [
       "   SALEDATE             PRICE        \n",
       " Length:151         Min.   : 622478  \n",
       " Class :character   1st Qu.:1030557  \n",
       " Mode  :character   Median :1237816  \n",
       "                    Mean   :1228377  \n",
       "                    3rd Qu.:1405975  \n",
       "                    Max.   :3014658  "
      ]
     },
     "metadata": {},
     "output_type": "display_data"
    },
    {
     "name": "stdout",
     "output_type": "stream",
     "text": [
      "'data.frame':\t151 obs. of  2 variables:\n",
      " $ SALEDATE: chr  \"2010-02\" \"2010-03\" \"2010-04\" \"2010-05\" ...\n",
      " $ PRICE   : num  937364 622478 880958 821779 1038461 ...\n"
     ]
    }
   ],
   "source": [
    "################################################################################\n",
    "# Calculate the mean \"Price\" by \"SALEDATE\" (year and month)\n",
    "HOUSE_TS3.df <- HOUSE_TS2.df\n",
    "HOUSE_TS3.df <- aggregate(PRICE~SALEDATE,HOUSE_TS2.df,mean)\n",
    "\n",
    "summary(HOUSE_TS2.df)   #To check the variables and counts before the aggregation\n",
    "\n",
    "summary(HOUSE_TS3.df)   #To check the variables and counts after the aggregation\n",
    "\n",
    "head(HOUSE_TS3.df, 20)\n",
    "\n",
    "tail(HOUSE_TS3.df, 20)\n",
    "\n",
    "# Filter the dataframe for only sales after 2010-01\n",
    "HOUSE_TS4.df <- HOUSE_TS3.df\n",
    "HOUSE_TS4.df <- HOUSE_TS4.df %>% filter(SALEDATE > '2010-01')\n",
    "\n",
    "summary(HOUSE_TS4.df)   #To check the variables and counts\n",
    "\n",
    "str(HOUSE_TS4.df)   #To check the data structure   \n",
    "################################################################################"
   ]
  },
  {
   "cell_type": "code",
   "execution_count": 9,
   "metadata": {},
   "outputs": [
    {
     "data": {
      "text/html": [
       "<table class=\"dataframe\">\n",
       "<caption>A Time Series: 13 × 12</caption>\n",
       "<thead>\n",
       "\t<tr><th></th><th scope=col>Jan</th><th scope=col>Feb</th><th scope=col>Mar</th><th scope=col>Apr</th><th scope=col>May</th><th scope=col>Jun</th><th scope=col>Jul</th><th scope=col>Aug</th><th scope=col>Sep</th><th scope=col>Oct</th><th scope=col>Nov</th><th scope=col>Dec</th></tr>\n",
       "</thead>\n",
       "<tbody>\n",
       "\t<tr><th scope=row>2010</th><td> 937363.8</td><td> 622478.3</td><td> 880957.5</td><td> 821778.7</td><td>1038461.2</td><td> 822895.0</td><td> 818214.7</td><td> 722745.0</td><td> 941208.3</td><td> 780605.0</td><td>1268591.8</td><td> 633365.0</td></tr>\n",
       "\t<tr><th scope=row>2011</th><td>1215506.7</td><td>1149833.3</td><td> 856596.6</td><td>1001875.0</td><td> 931678.1</td><td>1599607.3</td><td>1005022.0</td><td>1006434.8</td><td> 698447.2</td><td>1050140.6</td><td> 830536.5</td><td>1270964.3</td></tr>\n",
       "\t<tr><th scope=row>2012</th><td>1055426.9</td><td> 747875.0</td><td> 757666.7</td><td>1061050.0</td><td> 906798.5</td><td> 952515.5</td><td> 960605.8</td><td> 975189.1</td><td> 820942.9</td><td> 954045.2</td><td> 827055.2</td><td>1205521.1</td></tr>\n",
       "\t<tr><th scope=row>2013</th><td> 945681.2</td><td>1372688.9</td><td> 989823.6</td><td> 935366.7</td><td>1009004.3</td><td> 997172.9</td><td>1069023.1</td><td>1505656.2</td><td>1132464.7</td><td> 981152.9</td><td>1003263.9</td><td> 971672.0</td></tr>\n",
       "\t<tr><th scope=row>2014</th><td>1246770.6</td><td> 809808.9</td><td>1783986.6</td><td>1299792.4</td><td>1120683.3</td><td>1237433.3</td><td>1242087.4</td><td>1070842.7</td><td> 938898.4</td><td>1138764.8</td><td>1038180.5</td><td>1356115.0</td></tr>\n",
       "\t<tr><th scope=row>2015</th><td>1557833.3</td><td> 846089.7</td><td>1026998.0</td><td>1090629.7</td><td>1081828.6</td><td>1237816.4</td><td>1108746.8</td><td>1326704.4</td><td>1287924.2</td><td>1034116.7</td><td>1162288.7</td><td>1156785.3</td></tr>\n",
       "\t<tr><th scope=row>2016</th><td>1320077.2</td><td>1263265.9</td><td>1171948.5</td><td>1179528.6</td><td>1247038.0</td><td>1119820.3</td><td>1617511.0</td><td>1122469.4</td><td>3014658.0</td><td>1073040.9</td><td>1063196.4</td><td>1580714.3</td></tr>\n",
       "\t<tr><th scope=row>2017</th><td>1521562.8</td><td>1358221.4</td><td>1334279.0</td><td>1641611.2</td><td>1526580.6</td><td>1293665.3</td><td>1336431.2</td><td>1159671.9</td><td>1169708.0</td><td>1074381.5</td><td>1086597.2</td><td>1504971.2</td></tr>\n",
       "\t<tr><th scope=row>2018</th><td>1422217.4</td><td>1336177.9</td><td>1456249.6</td><td>1330129.2</td><td>1311571.4</td><td>1169409.6</td><td>1455224.8</td><td>1128073.8</td><td>1091717.4</td><td>1381734.0</td><td>1362323.2</td><td>1448827.3</td></tr>\n",
       "\t<tr><th scope=row>2019</th><td>1445021.7</td><td>1379568.9</td><td>1382325.9</td><td>1340958.8</td><td>1209596.4</td><td>1521672.4</td><td>1366103.8</td><td>1198410.0</td><td>1297376.2</td><td>1440324.5</td><td>1416097.7</td><td>1559496.4</td></tr>\n",
       "\t<tr><th scope=row>2020</th><td>1090729.5</td><td>1310762.9</td><td>1838290.0</td><td>1363912.9</td><td>1611146.7</td><td>1439924.2</td><td>1248393.4</td><td>1267414.4</td><td>1185691.5</td><td>1432958.2</td><td>1345548.0</td><td>1351195.1</td></tr>\n",
       "\t<tr><th scope=row>2021</th><td>1395144.8</td><td>1377357.3</td><td>1472022.8</td><td>1590833.9</td><td>1544042.2</td><td>1784209.9</td><td>1388689.0</td><td>1427663.8</td><td>1395851.2</td><td>1452317.4</td><td>1456850.0</td><td>1440606.0</td></tr>\n",
       "\t<tr><th scope=row>2022</th><td>1462667.9</td><td>1702932.2</td><td>1536347.4</td><td>1692633.5</td><td>1519344.3</td><td>1603969.9</td><td>1279860.4</td><td>         </td><td>         </td><td>         </td><td>         </td><td>         </td></tr>\n",
       "</tbody>\n",
       "</table>\n"
      ],
      "text/latex": [
       "A Time Series: 13 × 12\n",
       "\\begin{tabular}{r|llllllllllll}\n",
       "  & Jan & Feb & Mar & Apr & May & Jun & Jul & Aug & Sep & Oct & Nov & Dec\\\\\n",
       "\\hline\n",
       "\t2010 &  937363.8 &  622478.3 &  880957.5 &  821778.7 & 1038461.2 &  822895.0 &  818214.7 &  722745.0 &  941208.3 &  780605.0 & 1268591.8 &  633365.0\\\\\n",
       "\t2011 & 1215506.7 & 1149833.3 &  856596.6 & 1001875.0 &  931678.1 & 1599607.3 & 1005022.0 & 1006434.8 &  698447.2 & 1050140.6 &  830536.5 & 1270964.3\\\\\n",
       "\t2012 & 1055426.9 &  747875.0 &  757666.7 & 1061050.0 &  906798.5 &  952515.5 &  960605.8 &  975189.1 &  820942.9 &  954045.2 &  827055.2 & 1205521.1\\\\\n",
       "\t2013 &  945681.2 & 1372688.9 &  989823.6 &  935366.7 & 1009004.3 &  997172.9 & 1069023.1 & 1505656.2 & 1132464.7 &  981152.9 & 1003263.9 &  971672.0\\\\\n",
       "\t2014 & 1246770.6 &  809808.9 & 1783986.6 & 1299792.4 & 1120683.3 & 1237433.3 & 1242087.4 & 1070842.7 &  938898.4 & 1138764.8 & 1038180.5 & 1356115.0\\\\\n",
       "\t2015 & 1557833.3 &  846089.7 & 1026998.0 & 1090629.7 & 1081828.6 & 1237816.4 & 1108746.8 & 1326704.4 & 1287924.2 & 1034116.7 & 1162288.7 & 1156785.3\\\\\n",
       "\t2016 & 1320077.2 & 1263265.9 & 1171948.5 & 1179528.6 & 1247038.0 & 1119820.3 & 1617511.0 & 1122469.4 & 3014658.0 & 1073040.9 & 1063196.4 & 1580714.3\\\\\n",
       "\t2017 & 1521562.8 & 1358221.4 & 1334279.0 & 1641611.2 & 1526580.6 & 1293665.3 & 1336431.2 & 1159671.9 & 1169708.0 & 1074381.5 & 1086597.2 & 1504971.2\\\\\n",
       "\t2018 & 1422217.4 & 1336177.9 & 1456249.6 & 1330129.2 & 1311571.4 & 1169409.6 & 1455224.8 & 1128073.8 & 1091717.4 & 1381734.0 & 1362323.2 & 1448827.3\\\\\n",
       "\t2019 & 1445021.7 & 1379568.9 & 1382325.9 & 1340958.8 & 1209596.4 & 1521672.4 & 1366103.8 & 1198410.0 & 1297376.2 & 1440324.5 & 1416097.7 & 1559496.4\\\\\n",
       "\t2020 & 1090729.5 & 1310762.9 & 1838290.0 & 1363912.9 & 1611146.7 & 1439924.2 & 1248393.4 & 1267414.4 & 1185691.5 & 1432958.2 & 1345548.0 & 1351195.1\\\\\n",
       "\t2021 & 1395144.8 & 1377357.3 & 1472022.8 & 1590833.9 & 1544042.2 & 1784209.9 & 1388689.0 & 1427663.8 & 1395851.2 & 1452317.4 & 1456850.0 & 1440606.0\\\\\n",
       "\t2022 & 1462667.9 & 1702932.2 & 1536347.4 & 1692633.5 & 1519344.3 & 1603969.9 & 1279860.4 &           &           &           &           &          \\\\\n",
       "\\end{tabular}\n"
      ],
      "text/markdown": [
       "\n",
       "A Time Series: 13 × 12\n",
       "\n",
       "| <!--/--> | Jan | Feb | Mar | Apr | May | Jun | Jul | Aug | Sep | Oct | Nov | Dec |\n",
       "|---|---|---|---|---|---|---|---|---|---|---|---|---|\n",
       "| 2010 |  937363.8 |  622478.3 |  880957.5 |  821778.7 | 1038461.2 |  822895.0 |  818214.7 |  722745.0 |  941208.3 |  780605.0 | 1268591.8 |  633365.0 |\n",
       "| 2011 | 1215506.7 | 1149833.3 |  856596.6 | 1001875.0 |  931678.1 | 1599607.3 | 1005022.0 | 1006434.8 |  698447.2 | 1050140.6 |  830536.5 | 1270964.3 |\n",
       "| 2012 | 1055426.9 |  747875.0 |  757666.7 | 1061050.0 |  906798.5 |  952515.5 |  960605.8 |  975189.1 |  820942.9 |  954045.2 |  827055.2 | 1205521.1 |\n",
       "| 2013 |  945681.2 | 1372688.9 |  989823.6 |  935366.7 | 1009004.3 |  997172.9 | 1069023.1 | 1505656.2 | 1132464.7 |  981152.9 | 1003263.9 |  971672.0 |\n",
       "| 2014 | 1246770.6 |  809808.9 | 1783986.6 | 1299792.4 | 1120683.3 | 1237433.3 | 1242087.4 | 1070842.7 |  938898.4 | 1138764.8 | 1038180.5 | 1356115.0 |\n",
       "| 2015 | 1557833.3 |  846089.7 | 1026998.0 | 1090629.7 | 1081828.6 | 1237816.4 | 1108746.8 | 1326704.4 | 1287924.2 | 1034116.7 | 1162288.7 | 1156785.3 |\n",
       "| 2016 | 1320077.2 | 1263265.9 | 1171948.5 | 1179528.6 | 1247038.0 | 1119820.3 | 1617511.0 | 1122469.4 | 3014658.0 | 1073040.9 | 1063196.4 | 1580714.3 |\n",
       "| 2017 | 1521562.8 | 1358221.4 | 1334279.0 | 1641611.2 | 1526580.6 | 1293665.3 | 1336431.2 | 1159671.9 | 1169708.0 | 1074381.5 | 1086597.2 | 1504971.2 |\n",
       "| 2018 | 1422217.4 | 1336177.9 | 1456249.6 | 1330129.2 | 1311571.4 | 1169409.6 | 1455224.8 | 1128073.8 | 1091717.4 | 1381734.0 | 1362323.2 | 1448827.3 |\n",
       "| 2019 | 1445021.7 | 1379568.9 | 1382325.9 | 1340958.8 | 1209596.4 | 1521672.4 | 1366103.8 | 1198410.0 | 1297376.2 | 1440324.5 | 1416097.7 | 1559496.4 |\n",
       "| 2020 | 1090729.5 | 1310762.9 | 1838290.0 | 1363912.9 | 1611146.7 | 1439924.2 | 1248393.4 | 1267414.4 | 1185691.5 | 1432958.2 | 1345548.0 | 1351195.1 |\n",
       "| 2021 | 1395144.8 | 1377357.3 | 1472022.8 | 1590833.9 | 1544042.2 | 1784209.9 | 1388689.0 | 1427663.8 | 1395851.2 | 1452317.4 | 1456850.0 | 1440606.0 |\n",
       "| 2022 | 1462667.9 | 1702932.2 | 1536347.4 | 1692633.5 | 1519344.3 | 1603969.9 | 1279860.4 | <!----> | <!----> | <!----> | <!----> | <!----> |\n",
       "\n"
      ],
      "text/plain": [
       "     Jan       Feb       Mar       Apr       May       Jun       Jul      \n",
       "2010  937363.8  622478.3  880957.5  821778.7 1038461.2  822895.0  818214.7\n",
       "2011 1215506.7 1149833.3  856596.6 1001875.0  931678.1 1599607.3 1005022.0\n",
       "2012 1055426.9  747875.0  757666.7 1061050.0  906798.5  952515.5  960605.8\n",
       "2013  945681.2 1372688.9  989823.6  935366.7 1009004.3  997172.9 1069023.1\n",
       "2014 1246770.6  809808.9 1783986.6 1299792.4 1120683.3 1237433.3 1242087.4\n",
       "2015 1557833.3  846089.7 1026998.0 1090629.7 1081828.6 1237816.4 1108746.8\n",
       "2016 1320077.2 1263265.9 1171948.5 1179528.6 1247038.0 1119820.3 1617511.0\n",
       "2017 1521562.8 1358221.4 1334279.0 1641611.2 1526580.6 1293665.3 1336431.2\n",
       "2018 1422217.4 1336177.9 1456249.6 1330129.2 1311571.4 1169409.6 1455224.8\n",
       "2019 1445021.7 1379568.9 1382325.9 1340958.8 1209596.4 1521672.4 1366103.8\n",
       "2020 1090729.5 1310762.9 1838290.0 1363912.9 1611146.7 1439924.2 1248393.4\n",
       "2021 1395144.8 1377357.3 1472022.8 1590833.9 1544042.2 1784209.9 1388689.0\n",
       "2022 1462667.9 1702932.2 1536347.4 1692633.5 1519344.3 1603969.9 1279860.4\n",
       "     Aug       Sep       Oct       Nov       Dec      \n",
       "2010  722745.0  941208.3  780605.0 1268591.8  633365.0\n",
       "2011 1006434.8  698447.2 1050140.6  830536.5 1270964.3\n",
       "2012  975189.1  820942.9  954045.2  827055.2 1205521.1\n",
       "2013 1505656.2 1132464.7  981152.9 1003263.9  971672.0\n",
       "2014 1070842.7  938898.4 1138764.8 1038180.5 1356115.0\n",
       "2015 1326704.4 1287924.2 1034116.7 1162288.7 1156785.3\n",
       "2016 1122469.4 3014658.0 1073040.9 1063196.4 1580714.3\n",
       "2017 1159671.9 1169708.0 1074381.5 1086597.2 1504971.2\n",
       "2018 1128073.8 1091717.4 1381734.0 1362323.2 1448827.3\n",
       "2019 1198410.0 1297376.2 1440324.5 1416097.7 1559496.4\n",
       "2020 1267414.4 1185691.5 1432958.2 1345548.0 1351195.1\n",
       "2021 1427663.8 1395851.2 1452317.4 1456850.0 1440606.0\n",
       "2022                                                  "
      ]
     },
     "metadata": {},
     "output_type": "display_data"
    }
   ],
   "source": [
    "####################################################################\n",
    "# Set time series (ts) for 'PRICE' variable\n",
    "\n",
    "# Choose the 'PRICE' column and convert it to ts object\n",
    "\n",
    "H_TS <- ts(HOUSE_TS4.df$PRICE, start=c(2010, 1), freq=12)\n",
    "\n",
    "# Let us see the ts object\n",
    "\n",
    "H_TS\n",
    "#####################################################################\n"
   ]
  },
  {
   "cell_type": "code",
   "execution_count": 10,
   "metadata": {},
   "outputs": [
    {
     "data": {
      "image/png": "[encoded data removed]",
      "text/plain": [
       "plot without title"
      ]
     },
     "metadata": {
      "image/png": {
       "height": 420,
       "width": 420
      }
     },
     "output_type": "display_data"
    }
   ],
   "source": [
    "#####################################################################\n",
    "# Let us fit a regression line on the dataset\n",
    "\n",
    "plot(H_TS)\n",
    "\n",
    "abline(reg=lm(H_TS~time(H_TS)))\n",
    "#####################################################################"
   ]
  },
  {
   "cell_type": "code",
   "execution_count": 11,
   "metadata": {},
   "outputs": [
    {
     "data": {
      "text/html": [
       "<table class=\"dataframe\">\n",
       "<caption>A Time Series: 13 × 12</caption>\n",
       "<thead>\n",
       "\t<tr><th></th><th scope=col>Jan</th><th scope=col>Feb</th><th scope=col>Mar</th><th scope=col>Apr</th><th scope=col>May</th><th scope=col>Jun</th><th scope=col>Jul</th><th scope=col>Aug</th><th scope=col>Sep</th><th scope=col>Oct</th><th scope=col>Nov</th><th scope=col>Dec</th></tr>\n",
       "</thead>\n",
       "<tbody>\n",
       "\t<tr><th scope=row>2010</th><td> 1</td><td> 2</td><td> 3</td><td> 4</td><td> 5</td><td> 6</td><td> 7</td><td> 8</td><td> 9</td><td>10</td><td>11</td><td>12</td></tr>\n",
       "\t<tr><th scope=row>2011</th><td> 1</td><td> 2</td><td> 3</td><td> 4</td><td> 5</td><td> 6</td><td> 7</td><td> 8</td><td> 9</td><td>10</td><td>11</td><td>12</td></tr>\n",
       "\t<tr><th scope=row>2012</th><td> 1</td><td> 2</td><td> 3</td><td> 4</td><td> 5</td><td> 6</td><td> 7</td><td> 8</td><td> 9</td><td>10</td><td>11</td><td>12</td></tr>\n",
       "\t<tr><th scope=row>2013</th><td> 1</td><td> 2</td><td> 3</td><td> 4</td><td> 5</td><td> 6</td><td> 7</td><td> 8</td><td> 9</td><td>10</td><td>11</td><td>12</td></tr>\n",
       "\t<tr><th scope=row>2014</th><td> 1</td><td> 2</td><td> 3</td><td> 4</td><td> 5</td><td> 6</td><td> 7</td><td> 8</td><td> 9</td><td>10</td><td>11</td><td>12</td></tr>\n",
       "\t<tr><th scope=row>2015</th><td> 1</td><td> 2</td><td> 3</td><td> 4</td><td> 5</td><td> 6</td><td> 7</td><td> 8</td><td> 9</td><td>10</td><td>11</td><td>12</td></tr>\n",
       "\t<tr><th scope=row>2016</th><td> 1</td><td> 2</td><td> 3</td><td> 4</td><td> 5</td><td> 6</td><td> 7</td><td> 8</td><td> 9</td><td>10</td><td>11</td><td>12</td></tr>\n",
       "\t<tr><th scope=row>2017</th><td> 1</td><td> 2</td><td> 3</td><td> 4</td><td> 5</td><td> 6</td><td> 7</td><td> 8</td><td> 9</td><td>10</td><td>11</td><td>12</td></tr>\n",
       "\t<tr><th scope=row>2018</th><td> 1</td><td> 2</td><td> 3</td><td> 4</td><td> 5</td><td> 6</td><td> 7</td><td> 8</td><td> 9</td><td>10</td><td>11</td><td>12</td></tr>\n",
       "\t<tr><th scope=row>2019</th><td> 1</td><td> 2</td><td> 3</td><td> 4</td><td> 5</td><td> 6</td><td> 7</td><td> 8</td><td> 9</td><td>10</td><td>11</td><td>12</td></tr>\n",
       "\t<tr><th scope=row>2020</th><td> 1</td><td> 2</td><td> 3</td><td> 4</td><td> 5</td><td> 6</td><td> 7</td><td> 8</td><td> 9</td><td>10</td><td>11</td><td>12</td></tr>\n",
       "\t<tr><th scope=row>2021</th><td> 1</td><td> 2</td><td> 3</td><td> 4</td><td> 5</td><td> 6</td><td> 7</td><td> 8</td><td> 9</td><td>10</td><td>11</td><td>12</td></tr>\n",
       "\t<tr><th scope=row>2022</th><td> 1</td><td> 2</td><td> 3</td><td> 4</td><td> 5</td><td> 6</td><td> 7</td><td>  </td><td>  </td><td>  </td><td>  </td><td>  </td></tr>\n",
       "</tbody>\n",
       "</table>\n"
      ],
      "text/latex": [
       "A Time Series: 13 × 12\n",
       "\\begin{tabular}{r|llllllllllll}\n",
       "  & Jan & Feb & Mar & Apr & May & Jun & Jul & Aug & Sep & Oct & Nov & Dec\\\\\n",
       "\\hline\n",
       "\t2010 &  1 &  2 &  3 &  4 &  5 &  6 &  7 &  8 &  9 & 10 & 11 & 12\\\\\n",
       "\t2011 &  1 &  2 &  3 &  4 &  5 &  6 &  7 &  8 &  9 & 10 & 11 & 12\\\\\n",
       "\t2012 &  1 &  2 &  3 &  4 &  5 &  6 &  7 &  8 &  9 & 10 & 11 & 12\\\\\n",
       "\t2013 &  1 &  2 &  3 &  4 &  5 &  6 &  7 &  8 &  9 & 10 & 11 & 12\\\\\n",
       "\t2014 &  1 &  2 &  3 &  4 &  5 &  6 &  7 &  8 &  9 & 10 & 11 & 12\\\\\n",
       "\t2015 &  1 &  2 &  3 &  4 &  5 &  6 &  7 &  8 &  9 & 10 & 11 & 12\\\\\n",
       "\t2016 &  1 &  2 &  3 &  4 &  5 &  6 &  7 &  8 &  9 & 10 & 11 & 12\\\\\n",
       "\t2017 &  1 &  2 &  3 &  4 &  5 &  6 &  7 &  8 &  9 & 10 & 11 & 12\\\\\n",
       "\t2018 &  1 &  2 &  3 &  4 &  5 &  6 &  7 &  8 &  9 & 10 & 11 & 12\\\\\n",
       "\t2019 &  1 &  2 &  3 &  4 &  5 &  6 &  7 &  8 &  9 & 10 & 11 & 12\\\\\n",
       "\t2020 &  1 &  2 &  3 &  4 &  5 &  6 &  7 &  8 &  9 & 10 & 11 & 12\\\\\n",
       "\t2021 &  1 &  2 &  3 &  4 &  5 &  6 &  7 &  8 &  9 & 10 & 11 & 12\\\\\n",
       "\t2022 &  1 &  2 &  3 &  4 &  5 &  6 &  7 &    &    &    &    &   \\\\\n",
       "\\end{tabular}\n"
      ],
      "text/markdown": [
       "\n",
       "A Time Series: 13 × 12\n",
       "\n",
       "| <!--/--> | Jan | Feb | Mar | Apr | May | Jun | Jul | Aug | Sep | Oct | Nov | Dec |\n",
       "|---|---|---|---|---|---|---|---|---|---|---|---|---|\n",
       "| 2010 |  1 |  2 |  3 |  4 |  5 |  6 |  7 |  8 |  9 | 10 | 11 | 12 |\n",
       "| 2011 |  1 |  2 |  3 |  4 |  5 |  6 |  7 |  8 |  9 | 10 | 11 | 12 |\n",
       "| 2012 |  1 |  2 |  3 |  4 |  5 |  6 |  7 |  8 |  9 | 10 | 11 | 12 |\n",
       "| 2013 |  1 |  2 |  3 |  4 |  5 |  6 |  7 |  8 |  9 | 10 | 11 | 12 |\n",
       "| 2014 |  1 |  2 |  3 |  4 |  5 |  6 |  7 |  8 |  9 | 10 | 11 | 12 |\n",
       "| 2015 |  1 |  2 |  3 |  4 |  5 |  6 |  7 |  8 |  9 | 10 | 11 | 12 |\n",
       "| 2016 |  1 |  2 |  3 |  4 |  5 |  6 |  7 |  8 |  9 | 10 | 11 | 12 |\n",
       "| 2017 |  1 |  2 |  3 |  4 |  5 |  6 |  7 |  8 |  9 | 10 | 11 | 12 |\n",
       "| 2018 |  1 |  2 |  3 |  4 |  5 |  6 |  7 |  8 |  9 | 10 | 11 | 12 |\n",
       "| 2019 |  1 |  2 |  3 |  4 |  5 |  6 |  7 |  8 |  9 | 10 | 11 | 12 |\n",
       "| 2020 |  1 |  2 |  3 |  4 |  5 |  6 |  7 |  8 |  9 | 10 | 11 | 12 |\n",
       "| 2021 |  1 |  2 |  3 |  4 |  5 |  6 |  7 |  8 |  9 | 10 | 11 | 12 |\n",
       "| 2022 |  1 |  2 |  3 |  4 |  5 |  6 |  7 | <!----> | <!----> | <!----> | <!----> | <!----> |\n",
       "\n"
      ],
      "text/plain": [
       "     Jan Feb Mar Apr May Jun Jul Aug Sep Oct Nov Dec\n",
       "2010  1   2   3   4   5   6   7   8   9  10  11  12 \n",
       "2011  1   2   3   4   5   6   7   8   9  10  11  12 \n",
       "2012  1   2   3   4   5   6   7   8   9  10  11  12 \n",
       "2013  1   2   3   4   5   6   7   8   9  10  11  12 \n",
       "2014  1   2   3   4   5   6   7   8   9  10  11  12 \n",
       "2015  1   2   3   4   5   6   7   8   9  10  11  12 \n",
       "2016  1   2   3   4   5   6   7   8   9  10  11  12 \n",
       "2017  1   2   3   4   5   6   7   8   9  10  11  12 \n",
       "2018  1   2   3   4   5   6   7   8   9  10  11  12 \n",
       "2019  1   2   3   4   5   6   7   8   9  10  11  12 \n",
       "2020  1   2   3   4   5   6   7   8   9  10  11  12 \n",
       "2021  1   2   3   4   5   6   7   8   9  10  11  12 \n",
       "2022  1   2   3   4   5   6   7                     "
      ]
     },
     "metadata": {},
     "output_type": "display_data"
    },
    {
     "data": {
      "image/png": "[encoded data removed]",
      "text/plain": [
       "plot without title"
      ]
     },
     "metadata": {
      "image/png": {
       "height": 420,
       "width": 420
      }
     },
     "output_type": "display_data"
    }
   ],
   "source": [
    "#####################################################################\n",
    "# First let us plot the cycle and trend\n",
    "# Aggregate the cycles and display a year-on-year trend\n",
    "\n",
    "cycle(H_TS)\n",
    "\n",
    "plot(aggregate(H_TS,FUN=mean))\n",
    "\n",
    "#####################################################################\n"
   ]
  },
  {
   "cell_type": "code",
   "execution_count": 12,
   "metadata": {},
   "outputs": [
    {
     "data": {
      "image/png": "[encoded data removed]",
      "text/plain": [
       "plot without title"
      ]
     },
     "metadata": {
      "image/png": {
       "height": 420,
       "width": 420
      }
     },
     "output_type": "display_data"
    }
   ],
   "source": [
    "#####################################################################\n",
    "# Letâ™s look in to the seasonal effects\n",
    "\n",
    "boxplot(H_TS~cycle(H_TS))\n",
    "\n",
    "#####################################################################"
   ]
  },
  {
   "cell_type": "code",
   "execution_count": 13,
   "metadata": {},
   "outputs": [
    {
     "name": "stderr",
     "output_type": "stream",
     "text": [
      "Registered S3 method overwritten by 'quantmod':\n",
      "  method            from\n",
      "  as.zoo.data.frame zoo \n",
      "\n",
      "Warning message in adf.test(diff(log(H_TS)), alternative = \"stationary\", k = 0):\n",
      "\"p-value smaller than printed p-value\"\n"
     ]
    },
    {
     "data": {
      "text/plain": [
       "\n",
       "\tAugmented Dickey-Fuller Test\n",
       "\n",
       "data:  diff(log(H_TS))\n",
       "Dickey-Fuller = -23.76, Lag order = 0, p-value = 0.01\n",
       "alternative hypothesis: stationary\n"
      ]
     },
     "metadata": {},
     "output_type": "display_data"
    }
   ],
   "source": [
    "#####################################################################\n",
    "# Since we want to remove the unequal variances in the data we will take the log of the series\n",
    "# Before we fit the ARIMA model to our time series, we need to remove the unequal variances in \n",
    "# the data by taking the log of the series.\n",
    "\n",
    "# Also, the original signal had trends and seasonal effects, so it was not stationary.  \n",
    "# Therefore, we perform a diff of the signal and check if the trends and seasonal effect can be removed. \n",
    "\n",
    "\n",
    "library(tseries)\n",
    "\n",
    "# Now perform the Augmented Dickey-Fuller Test\n",
    "\n",
    "adf.test(diff(log(H_TS)), alternative=\"stationary\", k=0)\n",
    "\n",
    "# This will give you the result of the Augmented Dickey-Fuller Test\n",
    "#####################################################################"
   ]
  },
  {
   "cell_type": "code",
   "execution_count": 14,
   "metadata": {},
   "outputs": [
    {
     "data": {
      "image/png": "[encoded data removed]",
      "text/plain": [
       "plot without title"
      ]
     },
     "metadata": {
      "image/png": {
       "height": 420,
       "width": 420
      }
     },
     "output_type": "display_data"
    }
   ],
   "source": [
    "#####################################################################\n",
    "# Let us now plot the series\n",
    "\n",
    "plot(diff(log(H_TS)))\n",
    "\n",
    "#####################################################################"
   ]
  },
  {
   "cell_type": "code",
   "execution_count": 15,
   "metadata": {},
   "outputs": [
    {
     "data": {
      "image/png": "[encoded data removed]",
      "text/plain": [
       "Plot with title \"Series  diff(log(H_TS))\""
      ]
     },
     "metadata": {
      "image/png": {
       "height": 420,
       "width": 420
      }
     },
     "output_type": "display_data"
    },
    {
     "data": {
      "image/png": "[encoded data removed]",
      "text/plain": [
       "Plot with title \"Series  diff(log(H_TS))\""
      ]
     },
     "metadata": {
      "image/png": {
       "height": 420,
       "width": 420
      }
     },
     "output_type": "display_data"
    }
   ],
   "source": [
    "#####################################################################\n",
    "# Now let us look into the ACF  and PACF charts\n",
    "\n",
    "acf(diff(log(H_TS)))\n",
    "\n",
    "pacf(diff(log(H_TS)))\n",
    "\n",
    "# ARIMA (1,1,2)\n",
    "\n",
    "#####################################################################"
   ]
  },
  {
   "cell_type": "code",
   "execution_count": 16,
   "metadata": {},
   "outputs": [
    {
     "data": {
      "text/plain": [
       "\n",
       "Call:\n",
       "arima(x = log(H_TS), order = c(1, 1, 2), seasonal = list(order = c(1, 1, 2), \n",
       "    period = 12))\n",
       "\n",
       "Coefficients:\n",
       "          ar1      ma1      ma2     sar1     sma1     sma2\n",
       "      -0.6419  -0.4271  -0.4725  -0.7989  -0.1763  -0.8236\n",
       "s.e.   0.3220   0.3564   0.3416   0.5300   0.5258   0.5199\n",
       "\n",
       "sigma^2 estimated as 0.02898:  log likelihood = 31.9,  aic = -49.79"
      ]
     },
     "metadata": {},
     "output_type": "display_data"
    }
   ],
   "source": [
    "#####################################################################\n",
    "# Let us now fit the ARIMA(1,1,2)\n",
    "\n",
    "(fit_open <- arima(log(H_TS), c(1, 1, 2),seasonal = list(order = c(1, 1, 2), period = 12)))\n",
    "\n",
    "#####################################################################"
   ]
  },
  {
   "cell_type": "code",
   "execution_count": 17,
   "metadata": {},
   "outputs": [
    {
     "name": "stderr",
     "output_type": "stream",
     "text": [
      "Installing package into 'C:/Users/bates/AppData/Local/R/win-library/4.2'\n",
      "(as 'lib' is unspecified)\n",
      "\n"
     ]
    },
    {
     "name": "stdout",
     "output_type": "stream",
     "text": [
      "package 'forecast' successfully unpacked and MD5 sums checked\n"
     ]
    },
    {
     "name": "stderr",
     "output_type": "stream",
     "text": [
      "Warning message:\n",
      "\"cannot remove prior installation of package 'forecast'\"\n",
      "Warning message in file.copy(savedcopy, lib, recursive = TRUE):\n",
      "\"problem copying C:\\Users\\bates\\AppData\\Local\\R\\win-library\\4.2\\00LOCK\\forecast\\libs\\x64\\forecast.dll to C:\\Users\\bates\\AppData\\Local\\R\\win-library\\4.2\\forecast\\libs\\x64\\forecast.dll: Permission denied\"\n",
      "Warning message:\n",
      "\"restored 'forecast'\"\n"
     ]
    },
    {
     "name": "stdout",
     "output_type": "stream",
     "text": [
      "\n",
      "The downloaded binary packages are in\n",
      "\tC:\\Users\\bates\\AppData\\Local\\Temp\\RtmpOk9tNt\\downloaded_packages\n"
     ]
    },
    {
     "data": {
      "text/html": [
       "<dl>\n",
       "\t<dt>$pred</dt>\n",
       "\t\t<dd><table class=\"dataframe\">\n",
       "<caption>A Time Series: 8 × 12</caption>\n",
       "<thead>\n",
       "\t<tr><th></th><th scope=col>Jan</th><th scope=col>Feb</th><th scope=col>Mar</th><th scope=col>Apr</th><th scope=col>May</th><th scope=col>Jun</th><th scope=col>Jul</th><th scope=col>Aug</th><th scope=col>Sep</th><th scope=col>Oct</th><th scope=col>Nov</th><th scope=col>Dec</th></tr>\n",
       "</thead>\n",
       "<tbody>\n",
       "\t<tr><th scope=row>2022</th><td>        </td><td>        </td><td>        </td><td>        </td><td>        </td><td>        </td><td>        </td><td>14.23942</td><td>14.20544</td><td>14.20652</td><td>14.19740</td><td>14.30519</td></tr>\n",
       "\t<tr><th scope=row>2023</th><td>14.32215</td><td>14.22478</td><td>14.30852</td><td>14.30806</td><td>14.29563</td><td>14.32410</td><td>14.28411</td><td>14.25040</td><td>14.27361</td><td>14.24414</td><td>14.24932</td><td>14.34797</td></tr>\n",
       "\t<tr><th scope=row>2024</th><td>14.38417</td><td>14.26893</td><td>14.34287</td><td>14.35490</td><td>14.33925</td><td>14.38484</td><td>14.33453</td><td>14.30336</td><td>14.31597</td><td>14.28839</td><td>14.29660</td><td>14.39327</td></tr>\n",
       "\t<tr><th scope=row>2025</th><td>14.42005</td><td>14.31527</td><td>14.39949</td><td>14.39997</td><td>14.38790</td><td>14.41916</td><td>14.37752</td><td>14.34405</td><td>14.36531</td><td>14.33610</td><td>14.34196</td><td>14.44017</td></tr>\n",
       "\t<tr><th scope=row>2026</th><td>14.47450</td><td>14.36135</td><td>14.43737</td><td>14.44707</td><td>14.43214</td><td>14.47485</td><td>14.42628</td><td>14.39465</td><td>14.40900</td><td>14.38109</td><td>14.38883</td><td>14.48581</td></tr>\n",
       "\t<tr><th scope=row>2027</th><td>14.51411</td><td>14.40764</td><td>14.49022</td><td>14.49255</td><td>14.47990</td><td>14.51347</td><td>14.47043</td><td>14.43733</td><td>14.45720</td><td>14.42825</td><td>14.43449</td><td>14.53245</td></tr>\n",
       "\t<tr><th scope=row>2028</th><td>14.56557</td><td>14.45376</td><td>14.53110</td><td>14.53932</td><td>14.52485</td><td>14.56572</td><td>14.51826</td><td>14.48634</td><td>14.50180</td><td>14.47368</td><td>14.48112</td><td>14.57829</td></tr>\n",
       "\t<tr><th scope=row>2029</th><td>14.60756</td><td>14.50002</td><td>14.58154</td><td>14.58506</td><td>14.57205</td><td>14.60708</td><td>14.56316</td><td>        </td><td>        </td><td>        </td><td>        </td><td>        </td></tr>\n",
       "</tbody>\n",
       "</table>\n",
       "</dd>\n",
       "\t<dt>$se</dt>\n",
       "\t\t<dd><table class=\"dataframe\">\n",
       "<caption>A Time Series: 8 × 12</caption>\n",
       "<thead>\n",
       "\t<tr><th></th><th scope=col>Jan</th><th scope=col>Feb</th><th scope=col>Mar</th><th scope=col>Apr</th><th scope=col>May</th><th scope=col>Jun</th><th scope=col>Jul</th><th scope=col>Aug</th><th scope=col>Sep</th><th scope=col>Oct</th><th scope=col>Nov</th><th scope=col>Dec</th></tr>\n",
       "</thead>\n",
       "<tbody>\n",
       "\t<tr><th scope=row>2022</th><td>         </td><td>         </td><td>         </td><td>         </td><td>         </td><td>         </td><td>         </td><td>0.1772860</td><td>0.1776835</td><td>0.1795294</td><td>0.1795334</td><td>0.1803058</td></tr>\n",
       "\t<tr><th scope=row>2023</th><td>0.1801131</td><td>0.1806087</td><td>0.1808396</td><td>0.1812276</td><td>0.1815108</td><td>0.1818566</td><td>0.1821633</td><td>0.1844876</td><td>0.1847314</td><td>0.1852118</td><td>0.1855461</td><td>0.1859319</td></tr>\n",
       "\t<tr><th scope=row>2024</th><td>0.1860707</td><td>0.1864621</td><td>0.1868259</td><td>0.1872050</td><td>0.1875747</td><td>0.1879466</td><td>0.1883197</td><td>0.1896666</td><td>0.1899955</td><td>0.1904486</td><td>0.1908400</td><td>0.1912227</td></tr>\n",
       "\t<tr><th scope=row>2025</th><td>0.1914572</td><td>0.1918618</td><td>0.1922515</td><td>0.1926482</td><td>0.1930409</td><td>0.1934319</td><td>0.1938271</td><td>0.1960312</td><td>0.1963516</td><td>0.1968887</td><td>0.1973055</td><td>0.1977420</td></tr>\n",
       "\t<tr><th scope=row>2026</th><td>0.1980949</td><td>0.1985467</td><td>0.1989729</td><td>0.1994124</td><td>0.1998440</td><td>0.2002756</td><td>0.2007111</td><td>0.2023116</td><td>0.2026930</td><td>0.2032201</td><td>0.2036809</td><td>0.2041206</td></tr>\n",
       "\t<tr><th scope=row>2027</th><td>0.2045625</td><td>0.2050287</td><td>0.2054769</td><td>0.2059333</td><td>0.2063852</td><td>0.2068345</td><td>0.2072898</td><td>0.2094514</td><td>0.2098307</td><td>0.2104195</td><td>0.2109026</td><td>0.2113826</td></tr>\n",
       "\t<tr><th scope=row>2028</th><td>0.2119215</td><td>0.2124240</td><td>0.2129011</td><td>0.2133907</td><td>0.2138733</td><td>0.2143542</td><td>0.2148411</td><td>0.2166227</td><td>0.2170481</td><td>0.2176344</td><td>0.2181526</td><td>0.2186380</td></tr>\n",
       "\t<tr><th scope=row>2029</th><td>0.2192566</td><td>0.2197727</td><td>0.2202684</td><td>0.2207733</td><td>0.2212735</td><td>0.2217701</td><td>0.2222743</td><td>         </td><td>         </td><td>         </td><td>         </td><td>         </td></tr>\n",
       "</tbody>\n",
       "</table>\n",
       "</dd>\n",
       "</dl>\n"
      ],
      "text/latex": [
       "\\begin{description}\n",
       "\\item[\\$pred] A Time Series: 8 × 12\n",
       "\\begin{tabular}{r|llllllllllll}\n",
       "  & Jan & Feb & Mar & Apr & May & Jun & Jul & Aug & Sep & Oct & Nov & Dec\\\\\n",
       "\\hline\n",
       "\t2022 &          &          &          &          &          &          &          & 14.23942 & 14.20544 & 14.20652 & 14.19740 & 14.30519\\\\\n",
       "\t2023 & 14.32215 & 14.22478 & 14.30852 & 14.30806 & 14.29563 & 14.32410 & 14.28411 & 14.25040 & 14.27361 & 14.24414 & 14.24932 & 14.34797\\\\\n",
       "\t2024 & 14.38417 & 14.26893 & 14.34287 & 14.35490 & 14.33925 & 14.38484 & 14.33453 & 14.30336 & 14.31597 & 14.28839 & 14.29660 & 14.39327\\\\\n",
       "\t2025 & 14.42005 & 14.31527 & 14.39949 & 14.39997 & 14.38790 & 14.41916 & 14.37752 & 14.34405 & 14.36531 & 14.33610 & 14.34196 & 14.44017\\\\\n",
       "\t2026 & 14.47450 & 14.36135 & 14.43737 & 14.44707 & 14.43214 & 14.47485 & 14.42628 & 14.39465 & 14.40900 & 14.38109 & 14.38883 & 14.48581\\\\\n",
       "\t2027 & 14.51411 & 14.40764 & 14.49022 & 14.49255 & 14.47990 & 14.51347 & 14.47043 & 14.43733 & 14.45720 & 14.42825 & 14.43449 & 14.53245\\\\\n",
       "\t2028 & 14.56557 & 14.45376 & 14.53110 & 14.53932 & 14.52485 & 14.56572 & 14.51826 & 14.48634 & 14.50180 & 14.47368 & 14.48112 & 14.57829\\\\\n",
       "\t2029 & 14.60756 & 14.50002 & 14.58154 & 14.58506 & 14.57205 & 14.60708 & 14.56316 &          &          &          &          &         \\\\\n",
       "\\end{tabular}\n",
       "\n",
       "\\item[\\$se] A Time Series: 8 × 12\n",
       "\\begin{tabular}{r|llllllllllll}\n",
       "  & Jan & Feb & Mar & Apr & May & Jun & Jul & Aug & Sep & Oct & Nov & Dec\\\\\n",
       "\\hline\n",
       "\t2022 &           &           &           &           &           &           &           & 0.1772860 & 0.1776835 & 0.1795294 & 0.1795334 & 0.1803058\\\\\n",
       "\t2023 & 0.1801131 & 0.1806087 & 0.1808396 & 0.1812276 & 0.1815108 & 0.1818566 & 0.1821633 & 0.1844876 & 0.1847314 & 0.1852118 & 0.1855461 & 0.1859319\\\\\n",
       "\t2024 & 0.1860707 & 0.1864621 & 0.1868259 & 0.1872050 & 0.1875747 & 0.1879466 & 0.1883197 & 0.1896666 & 0.1899955 & 0.1904486 & 0.1908400 & 0.1912227\\\\\n",
       "\t2025 & 0.1914572 & 0.1918618 & 0.1922515 & 0.1926482 & 0.1930409 & 0.1934319 & 0.1938271 & 0.1960312 & 0.1963516 & 0.1968887 & 0.1973055 & 0.1977420\\\\\n",
       "\t2026 & 0.1980949 & 0.1985467 & 0.1989729 & 0.1994124 & 0.1998440 & 0.2002756 & 0.2007111 & 0.2023116 & 0.2026930 & 0.2032201 & 0.2036809 & 0.2041206\\\\\n",
       "\t2027 & 0.2045625 & 0.2050287 & 0.2054769 & 0.2059333 & 0.2063852 & 0.2068345 & 0.2072898 & 0.2094514 & 0.2098307 & 0.2104195 & 0.2109026 & 0.2113826\\\\\n",
       "\t2028 & 0.2119215 & 0.2124240 & 0.2129011 & 0.2133907 & 0.2138733 & 0.2143542 & 0.2148411 & 0.2166227 & 0.2170481 & 0.2176344 & 0.2181526 & 0.2186380\\\\\n",
       "\t2029 & 0.2192566 & 0.2197727 & 0.2202684 & 0.2207733 & 0.2212735 & 0.2217701 & 0.2222743 &           &           &           &           &          \\\\\n",
       "\\end{tabular}\n",
       "\n",
       "\\end{description}\n"
      ],
      "text/markdown": [
       "$pred\n",
       ":   \n",
       "A Time Series: 8 × 12\n",
       "\n",
       "| <!--/--> | Jan | Feb | Mar | Apr | May | Jun | Jul | Aug | Sep | Oct | Nov | Dec |\n",
       "|---|---|---|---|---|---|---|---|---|---|---|---|---|\n",
       "| 2022 | <!----> | <!----> | <!----> | <!----> | <!----> | <!----> | <!----> | 14.23942 | 14.20544 | 14.20652 | 14.19740 | 14.30519 |\n",
       "| 2023 | 14.32215 | 14.22478 | 14.30852 | 14.30806 | 14.29563 | 14.32410 | 14.28411 | 14.25040 | 14.27361 | 14.24414 | 14.24932 | 14.34797 |\n",
       "| 2024 | 14.38417 | 14.26893 | 14.34287 | 14.35490 | 14.33925 | 14.38484 | 14.33453 | 14.30336 | 14.31597 | 14.28839 | 14.29660 | 14.39327 |\n",
       "| 2025 | 14.42005 | 14.31527 | 14.39949 | 14.39997 | 14.38790 | 14.41916 | 14.37752 | 14.34405 | 14.36531 | 14.33610 | 14.34196 | 14.44017 |\n",
       "| 2026 | 14.47450 | 14.36135 | 14.43737 | 14.44707 | 14.43214 | 14.47485 | 14.42628 | 14.39465 | 14.40900 | 14.38109 | 14.38883 | 14.48581 |\n",
       "| 2027 | 14.51411 | 14.40764 | 14.49022 | 14.49255 | 14.47990 | 14.51347 | 14.47043 | 14.43733 | 14.45720 | 14.42825 | 14.43449 | 14.53245 |\n",
       "| 2028 | 14.56557 | 14.45376 | 14.53110 | 14.53932 | 14.52485 | 14.56572 | 14.51826 | 14.48634 | 14.50180 | 14.47368 | 14.48112 | 14.57829 |\n",
       "| 2029 | 14.60756 | 14.50002 | 14.58154 | 14.58506 | 14.57205 | 14.60708 | 14.56316 | <!----> | <!----> | <!----> | <!----> | <!----> |\n",
       "\n",
       "\n",
       "$se\n",
       ":   \n",
       "A Time Series: 8 × 12\n",
       "\n",
       "| <!--/--> | Jan | Feb | Mar | Apr | May | Jun | Jul | Aug | Sep | Oct | Nov | Dec |\n",
       "|---|---|---|---|---|---|---|---|---|---|---|---|---|\n",
       "| 2022 | <!----> | <!----> | <!----> | <!----> | <!----> | <!----> | <!----> | 0.1772860 | 0.1776835 | 0.1795294 | 0.1795334 | 0.1803058 |\n",
       "| 2023 | 0.1801131 | 0.1806087 | 0.1808396 | 0.1812276 | 0.1815108 | 0.1818566 | 0.1821633 | 0.1844876 | 0.1847314 | 0.1852118 | 0.1855461 | 0.1859319 |\n",
       "| 2024 | 0.1860707 | 0.1864621 | 0.1868259 | 0.1872050 | 0.1875747 | 0.1879466 | 0.1883197 | 0.1896666 | 0.1899955 | 0.1904486 | 0.1908400 | 0.1912227 |\n",
       "| 2025 | 0.1914572 | 0.1918618 | 0.1922515 | 0.1926482 | 0.1930409 | 0.1934319 | 0.1938271 | 0.1960312 | 0.1963516 | 0.1968887 | 0.1973055 | 0.1977420 |\n",
       "| 2026 | 0.1980949 | 0.1985467 | 0.1989729 | 0.1994124 | 0.1998440 | 0.2002756 | 0.2007111 | 0.2023116 | 0.2026930 | 0.2032201 | 0.2036809 | 0.2041206 |\n",
       "| 2027 | 0.2045625 | 0.2050287 | 0.2054769 | 0.2059333 | 0.2063852 | 0.2068345 | 0.2072898 | 0.2094514 | 0.2098307 | 0.2104195 | 0.2109026 | 0.2113826 |\n",
       "| 2028 | 0.2119215 | 0.2124240 | 0.2129011 | 0.2133907 | 0.2138733 | 0.2143542 | 0.2148411 | 0.2166227 | 0.2170481 | 0.2176344 | 0.2181526 | 0.2186380 |\n",
       "| 2029 | 0.2192566 | 0.2197727 | 0.2202684 | 0.2207733 | 0.2212735 | 0.2217701 | 0.2222743 | <!----> | <!----> | <!----> | <!----> | <!----> |\n",
       "\n",
       "\n",
       "\n",
       "\n"
      ],
      "text/plain": [
       "$pred\n",
       "          Jan      Feb      Mar      Apr      May      Jun      Jul      Aug\n",
       "2022                                                                14.23942\n",
       "2023 14.32215 14.22478 14.30852 14.30806 14.29563 14.32410 14.28411 14.25040\n",
       "2024 14.38417 14.26893 14.34287 14.35490 14.33925 14.38484 14.33453 14.30336\n",
       "2025 14.42005 14.31527 14.39949 14.39997 14.38790 14.41916 14.37752 14.34405\n",
       "2026 14.47450 14.36135 14.43737 14.44707 14.43214 14.47485 14.42628 14.39465\n",
       "2027 14.51411 14.40764 14.49022 14.49255 14.47990 14.51347 14.47043 14.43733\n",
       "2028 14.56557 14.45376 14.53110 14.53932 14.52485 14.56572 14.51826 14.48634\n",
       "2029 14.60756 14.50002 14.58154 14.58506 14.57205 14.60708 14.56316         \n",
       "          Sep      Oct      Nov      Dec\n",
       "2022 14.20544 14.20652 14.19740 14.30519\n",
       "2023 14.27361 14.24414 14.24932 14.34797\n",
       "2024 14.31597 14.28839 14.29660 14.39327\n",
       "2025 14.36531 14.33610 14.34196 14.44017\n",
       "2026 14.40900 14.38109 14.38883 14.48581\n",
       "2027 14.45720 14.42825 14.43449 14.53245\n",
       "2028 14.50180 14.47368 14.48112 14.57829\n",
       "2029                                    \n",
       "\n",
       "$se\n",
       "           Jan       Feb       Mar       Apr       May       Jun       Jul\n",
       "2022                                                                      \n",
       "2023 0.1801131 0.1806087 0.1808396 0.1812276 0.1815108 0.1818566 0.1821633\n",
       "2024 0.1860707 0.1864621 0.1868259 0.1872050 0.1875747 0.1879466 0.1883197\n",
       "2025 0.1914572 0.1918618 0.1922515 0.1926482 0.1930409 0.1934319 0.1938271\n",
       "2026 0.1980949 0.1985467 0.1989729 0.1994124 0.1998440 0.2002756 0.2007111\n",
       "2027 0.2045625 0.2050287 0.2054769 0.2059333 0.2063852 0.2068345 0.2072898\n",
       "2028 0.2119215 0.2124240 0.2129011 0.2133907 0.2138733 0.2143542 0.2148411\n",
       "2029 0.2192566 0.2197727 0.2202684 0.2207733 0.2212735 0.2217701 0.2222743\n",
       "           Aug       Sep       Oct       Nov       Dec\n",
       "2022 0.1772860 0.1776835 0.1795294 0.1795334 0.1803058\n",
       "2023 0.1844876 0.1847314 0.1852118 0.1855461 0.1859319\n",
       "2024 0.1896666 0.1899955 0.1904486 0.1908400 0.1912227\n",
       "2025 0.1960312 0.1963516 0.1968887 0.1973055 0.1977420\n",
       "2026 0.2023116 0.2026930 0.2032201 0.2036809 0.2041206\n",
       "2027 0.2094514 0.2098307 0.2104195 0.2109026 0.2113826\n",
       "2028 0.2166227 0.2170481 0.2176344 0.2181526 0.2186380\n",
       "2029                                                  \n"
      ]
     },
     "metadata": {},
     "output_type": "display_data"
    },
    {
     "data": {
      "text/html": [
       "<dl>\n",
       "\t<dt>$pred</dt>\n",
       "\t\t<dd><table class=\"dataframe\">\n",
       "<caption>A Time Series: 8 × 12</caption>\n",
       "<thead>\n",
       "\t<tr><th></th><th scope=col>Jan</th><th scope=col>Feb</th><th scope=col>Mar</th><th scope=col>Apr</th><th scope=col>May</th><th scope=col>Jun</th><th scope=col>Jul</th><th scope=col>Aug</th><th scope=col>Sep</th><th scope=col>Oct</th><th scope=col>Nov</th><th scope=col>Dec</th></tr>\n",
       "</thead>\n",
       "<tbody>\n",
       "\t<tr><th scope=row>2022</th><td>        </td><td>        </td><td>        </td><td>        </td><td>        </td><td>        </td><td>        </td><td>14.23942</td><td>14.20544</td><td>14.20652</td><td>14.19740</td><td>14.30519</td></tr>\n",
       "\t<tr><th scope=row>2023</th><td>14.32215</td><td>14.22478</td><td>14.30852</td><td>14.30806</td><td>14.29563</td><td>14.32410</td><td>14.28411</td><td>14.25040</td><td>14.27361</td><td>14.24414</td><td>14.24932</td><td>14.34797</td></tr>\n",
       "\t<tr><th scope=row>2024</th><td>14.38417</td><td>14.26893</td><td>14.34287</td><td>14.35490</td><td>14.33925</td><td>14.38484</td><td>14.33453</td><td>14.30336</td><td>14.31597</td><td>14.28839</td><td>14.29660</td><td>14.39327</td></tr>\n",
       "\t<tr><th scope=row>2025</th><td>14.42005</td><td>14.31527</td><td>14.39949</td><td>14.39997</td><td>14.38790</td><td>14.41916</td><td>14.37752</td><td>14.34405</td><td>14.36531</td><td>14.33610</td><td>14.34196</td><td>14.44017</td></tr>\n",
       "\t<tr><th scope=row>2026</th><td>14.47450</td><td>14.36135</td><td>14.43737</td><td>14.44707</td><td>14.43214</td><td>14.47485</td><td>14.42628</td><td>14.39465</td><td>14.40900</td><td>14.38109</td><td>14.38883</td><td>14.48581</td></tr>\n",
       "\t<tr><th scope=row>2027</th><td>14.51411</td><td>14.40764</td><td>14.49022</td><td>14.49255</td><td>14.47990</td><td>14.51347</td><td>14.47043</td><td>14.43733</td><td>14.45720</td><td>14.42825</td><td>14.43449</td><td>14.53245</td></tr>\n",
       "\t<tr><th scope=row>2028</th><td>14.56557</td><td>14.45376</td><td>14.53110</td><td>14.53932</td><td>14.52485</td><td>14.56572</td><td>14.51826</td><td>14.48634</td><td>14.50180</td><td>14.47368</td><td>14.48112</td><td>14.57829</td></tr>\n",
       "\t<tr><th scope=row>2029</th><td>14.60756</td><td>14.50002</td><td>14.58154</td><td>14.58506</td><td>14.57205</td><td>14.60708</td><td>14.56316</td><td>        </td><td>        </td><td>        </td><td>        </td><td>        </td></tr>\n",
       "</tbody>\n",
       "</table>\n",
       "</dd>\n",
       "\t<dt>$se</dt>\n",
       "\t\t<dd><table class=\"dataframe\">\n",
       "<caption>A Time Series: 8 × 12</caption>\n",
       "<thead>\n",
       "\t<tr><th></th><th scope=col>Jan</th><th scope=col>Feb</th><th scope=col>Mar</th><th scope=col>Apr</th><th scope=col>May</th><th scope=col>Jun</th><th scope=col>Jul</th><th scope=col>Aug</th><th scope=col>Sep</th><th scope=col>Oct</th><th scope=col>Nov</th><th scope=col>Dec</th></tr>\n",
       "</thead>\n",
       "<tbody>\n",
       "\t<tr><th scope=row>2022</th><td>         </td><td>         </td><td>         </td><td>         </td><td>         </td><td>         </td><td>         </td><td>0.1772860</td><td>0.1776835</td><td>0.1795294</td><td>0.1795334</td><td>0.1803058</td></tr>\n",
       "\t<tr><th scope=row>2023</th><td>0.1801131</td><td>0.1806087</td><td>0.1808396</td><td>0.1812276</td><td>0.1815108</td><td>0.1818566</td><td>0.1821633</td><td>0.1844876</td><td>0.1847314</td><td>0.1852118</td><td>0.1855461</td><td>0.1859319</td></tr>\n",
       "\t<tr><th scope=row>2024</th><td>0.1860707</td><td>0.1864621</td><td>0.1868259</td><td>0.1872050</td><td>0.1875747</td><td>0.1879466</td><td>0.1883197</td><td>0.1896666</td><td>0.1899955</td><td>0.1904486</td><td>0.1908400</td><td>0.1912227</td></tr>\n",
       "\t<tr><th scope=row>2025</th><td>0.1914572</td><td>0.1918618</td><td>0.1922515</td><td>0.1926482</td><td>0.1930409</td><td>0.1934319</td><td>0.1938271</td><td>0.1960312</td><td>0.1963516</td><td>0.1968887</td><td>0.1973055</td><td>0.1977420</td></tr>\n",
       "\t<tr><th scope=row>2026</th><td>0.1980949</td><td>0.1985467</td><td>0.1989729</td><td>0.1994124</td><td>0.1998440</td><td>0.2002756</td><td>0.2007111</td><td>0.2023116</td><td>0.2026930</td><td>0.2032201</td><td>0.2036809</td><td>0.2041206</td></tr>\n",
       "\t<tr><th scope=row>2027</th><td>0.2045625</td><td>0.2050287</td><td>0.2054769</td><td>0.2059333</td><td>0.2063852</td><td>0.2068345</td><td>0.2072898</td><td>0.2094514</td><td>0.2098307</td><td>0.2104195</td><td>0.2109026</td><td>0.2113826</td></tr>\n",
       "\t<tr><th scope=row>2028</th><td>0.2119215</td><td>0.2124240</td><td>0.2129011</td><td>0.2133907</td><td>0.2138733</td><td>0.2143542</td><td>0.2148411</td><td>0.2166227</td><td>0.2170481</td><td>0.2176344</td><td>0.2181526</td><td>0.2186380</td></tr>\n",
       "\t<tr><th scope=row>2029</th><td>0.2192566</td><td>0.2197727</td><td>0.2202684</td><td>0.2207733</td><td>0.2212735</td><td>0.2217701</td><td>0.2222743</td><td>         </td><td>         </td><td>         </td><td>         </td><td>         </td></tr>\n",
       "</tbody>\n",
       "</table>\n",
       "</dd>\n",
       "\t<dt>$pred2</dt>\n",
       "\t\t<dd><table class=\"dataframe\">\n",
       "<caption>A Time Series: 8 × 12</caption>\n",
       "<thead>\n",
       "\t<tr><th></th><th scope=col>Jan</th><th scope=col>Feb</th><th scope=col>Mar</th><th scope=col>Apr</th><th scope=col>May</th><th scope=col>Jun</th><th scope=col>Jul</th><th scope=col>Aug</th><th scope=col>Sep</th><th scope=col>Oct</th><th scope=col>Nov</th><th scope=col>Dec</th></tr>\n",
       "</thead>\n",
       "<tbody>\n",
       "\t<tr><th scope=row>2022</th><td>       </td><td>       </td><td>       </td><td>       </td><td>       </td><td>       </td><td>       </td><td>1527908</td><td>1476857</td><td>1478458</td><td>1465039</td><td>1631777</td></tr>\n",
       "\t<tr><th scope=row>2023</th><td>1659685</td><td>1505696</td><td>1637223</td><td>1636469</td><td>1616248</td><td>1662920</td><td>1597743</td><td>1544771</td><td>1581058</td><td>1535133</td><td>1543103</td><td>1703096</td></tr>\n",
       "\t<tr><th scope=row>2024</th><td>1765873</td><td>1573675</td><td>1694434</td><td>1714946</td><td>1688317</td><td>1767071</td><td>1680358</td><td>1628799</td><td>1649463</td><td>1604586</td><td>1617820</td><td>1782025</td></tr>\n",
       "\t<tr><th scope=row>2025</th><td>1830398</td><td>1648304</td><td>1793152</td><td>1794005</td><td>1772483</td><td>1828769</td><td>1754175</td><td>1696434</td><td>1732881</td><td>1683001</td><td>1692891</td><td>1867585</td></tr>\n",
       "\t<tr><th scope=row>2026</th><td>1932820</td><td>1726040</td><td>1862363</td><td>1880519</td><td>1852661</td><td>1933497</td><td>1841829</td><td>1784486</td><td>1810272</td><td>1760445</td><td>1774124</td><td>1954798</td></tr>\n",
       "\t<tr><th scope=row>2027</th><td>2010912</td><td>1807817</td><td>1963438</td><td>1968019</td><td>1943294</td><td>2009623</td><td>1924970</td><td>1862296</td><td>1899665</td><td>1845465</td><td>1857012</td><td>2048136</td></tr>\n",
       "\t<tr><th scope=row>2028</th><td>2117109</td><td>1893154</td><td>2045372</td><td>2062255</td><td>2032637</td><td>2117429</td><td>2019286</td><td>1955839</td><td>1986304</td><td>1931230</td><td>1945649</td><td>2144213</td></tr>\n",
       "\t<tr><th scope=row>2029</th><td>2207903</td><td>1982783</td><td>2151197</td><td>2158772</td><td>2130869</td><td>2206839</td><td>2112000</td><td>       </td><td>       </td><td>       </td><td>       </td><td>       </td></tr>\n",
       "</tbody>\n",
       "</table>\n",
       "</dd>\n",
       "</dl>\n"
      ],
      "text/latex": [
       "\\begin{description}\n",
       "\\item[\\$pred] A Time Series: 8 × 12\n",
       "\\begin{tabular}{r|llllllllllll}\n",
       "  & Jan & Feb & Mar & Apr & May & Jun & Jul & Aug & Sep & Oct & Nov & Dec\\\\\n",
       "\\hline\n",
       "\t2022 &          &          &          &          &          &          &          & 14.23942 & 14.20544 & 14.20652 & 14.19740 & 14.30519\\\\\n",
       "\t2023 & 14.32215 & 14.22478 & 14.30852 & 14.30806 & 14.29563 & 14.32410 & 14.28411 & 14.25040 & 14.27361 & 14.24414 & 14.24932 & 14.34797\\\\\n",
       "\t2024 & 14.38417 & 14.26893 & 14.34287 & 14.35490 & 14.33925 & 14.38484 & 14.33453 & 14.30336 & 14.31597 & 14.28839 & 14.29660 & 14.39327\\\\\n",
       "\t2025 & 14.42005 & 14.31527 & 14.39949 & 14.39997 & 14.38790 & 14.41916 & 14.37752 & 14.34405 & 14.36531 & 14.33610 & 14.34196 & 14.44017\\\\\n",
       "\t2026 & 14.47450 & 14.36135 & 14.43737 & 14.44707 & 14.43214 & 14.47485 & 14.42628 & 14.39465 & 14.40900 & 14.38109 & 14.38883 & 14.48581\\\\\n",
       "\t2027 & 14.51411 & 14.40764 & 14.49022 & 14.49255 & 14.47990 & 14.51347 & 14.47043 & 14.43733 & 14.45720 & 14.42825 & 14.43449 & 14.53245\\\\\n",
       "\t2028 & 14.56557 & 14.45376 & 14.53110 & 14.53932 & 14.52485 & 14.56572 & 14.51826 & 14.48634 & 14.50180 & 14.47368 & 14.48112 & 14.57829\\\\\n",
       "\t2029 & 14.60756 & 14.50002 & 14.58154 & 14.58506 & 14.57205 & 14.60708 & 14.56316 &          &          &          &          &         \\\\\n",
       "\\end{tabular}\n",
       "\n",
       "\\item[\\$se] A Time Series: 8 × 12\n",
       "\\begin{tabular}{r|llllllllllll}\n",
       "  & Jan & Feb & Mar & Apr & May & Jun & Jul & Aug & Sep & Oct & Nov & Dec\\\\\n",
       "\\hline\n",
       "\t2022 &           &           &           &           &           &           &           & 0.1772860 & 0.1776835 & 0.1795294 & 0.1795334 & 0.1803058\\\\\n",
       "\t2023 & 0.1801131 & 0.1806087 & 0.1808396 & 0.1812276 & 0.1815108 & 0.1818566 & 0.1821633 & 0.1844876 & 0.1847314 & 0.1852118 & 0.1855461 & 0.1859319\\\\\n",
       "\t2024 & 0.1860707 & 0.1864621 & 0.1868259 & 0.1872050 & 0.1875747 & 0.1879466 & 0.1883197 & 0.1896666 & 0.1899955 & 0.1904486 & 0.1908400 & 0.1912227\\\\\n",
       "\t2025 & 0.1914572 & 0.1918618 & 0.1922515 & 0.1926482 & 0.1930409 & 0.1934319 & 0.1938271 & 0.1960312 & 0.1963516 & 0.1968887 & 0.1973055 & 0.1977420\\\\\n",
       "\t2026 & 0.1980949 & 0.1985467 & 0.1989729 & 0.1994124 & 0.1998440 & 0.2002756 & 0.2007111 & 0.2023116 & 0.2026930 & 0.2032201 & 0.2036809 & 0.2041206\\\\\n",
       "\t2027 & 0.2045625 & 0.2050287 & 0.2054769 & 0.2059333 & 0.2063852 & 0.2068345 & 0.2072898 & 0.2094514 & 0.2098307 & 0.2104195 & 0.2109026 & 0.2113826\\\\\n",
       "\t2028 & 0.2119215 & 0.2124240 & 0.2129011 & 0.2133907 & 0.2138733 & 0.2143542 & 0.2148411 & 0.2166227 & 0.2170481 & 0.2176344 & 0.2181526 & 0.2186380\\\\\n",
       "\t2029 & 0.2192566 & 0.2197727 & 0.2202684 & 0.2207733 & 0.2212735 & 0.2217701 & 0.2222743 &           &           &           &           &          \\\\\n",
       "\\end{tabular}\n",
       "\n",
       "\\item[\\$pred2] A Time Series: 8 × 12\n",
       "\\begin{tabular}{r|llllllllllll}\n",
       "  & Jan & Feb & Mar & Apr & May & Jun & Jul & Aug & Sep & Oct & Nov & Dec\\\\\n",
       "\\hline\n",
       "\t2022 &         &         &         &         &         &         &         & 1527908 & 1476857 & 1478458 & 1465039 & 1631777\\\\\n",
       "\t2023 & 1659685 & 1505696 & 1637223 & 1636469 & 1616248 & 1662920 & 1597743 & 1544771 & 1581058 & 1535133 & 1543103 & 1703096\\\\\n",
       "\t2024 & 1765873 & 1573675 & 1694434 & 1714946 & 1688317 & 1767071 & 1680358 & 1628799 & 1649463 & 1604586 & 1617820 & 1782025\\\\\n",
       "\t2025 & 1830398 & 1648304 & 1793152 & 1794005 & 1772483 & 1828769 & 1754175 & 1696434 & 1732881 & 1683001 & 1692891 & 1867585\\\\\n",
       "\t2026 & 1932820 & 1726040 & 1862363 & 1880519 & 1852661 & 1933497 & 1841829 & 1784486 & 1810272 & 1760445 & 1774124 & 1954798\\\\\n",
       "\t2027 & 2010912 & 1807817 & 1963438 & 1968019 & 1943294 & 2009623 & 1924970 & 1862296 & 1899665 & 1845465 & 1857012 & 2048136\\\\\n",
       "\t2028 & 2117109 & 1893154 & 2045372 & 2062255 & 2032637 & 2117429 & 2019286 & 1955839 & 1986304 & 1931230 & 1945649 & 2144213\\\\\n",
       "\t2029 & 2207903 & 1982783 & 2151197 & 2158772 & 2130869 & 2206839 & 2112000 &         &         &         &         &        \\\\\n",
       "\\end{tabular}\n",
       "\n",
       "\\end{description}\n"
      ],
      "text/markdown": [
       "$pred\n",
       ":   \n",
       "A Time Series: 8 × 12\n",
       "\n",
       "| <!--/--> | Jan | Feb | Mar | Apr | May | Jun | Jul | Aug | Sep | Oct | Nov | Dec |\n",
       "|---|---|---|---|---|---|---|---|---|---|---|---|---|\n",
       "| 2022 | <!----> | <!----> | <!----> | <!----> | <!----> | <!----> | <!----> | 14.23942 | 14.20544 | 14.20652 | 14.19740 | 14.30519 |\n",
       "| 2023 | 14.32215 | 14.22478 | 14.30852 | 14.30806 | 14.29563 | 14.32410 | 14.28411 | 14.25040 | 14.27361 | 14.24414 | 14.24932 | 14.34797 |\n",
       "| 2024 | 14.38417 | 14.26893 | 14.34287 | 14.35490 | 14.33925 | 14.38484 | 14.33453 | 14.30336 | 14.31597 | 14.28839 | 14.29660 | 14.39327 |\n",
       "| 2025 | 14.42005 | 14.31527 | 14.39949 | 14.39997 | 14.38790 | 14.41916 | 14.37752 | 14.34405 | 14.36531 | 14.33610 | 14.34196 | 14.44017 |\n",
       "| 2026 | 14.47450 | 14.36135 | 14.43737 | 14.44707 | 14.43214 | 14.47485 | 14.42628 | 14.39465 | 14.40900 | 14.38109 | 14.38883 | 14.48581 |\n",
       "| 2027 | 14.51411 | 14.40764 | 14.49022 | 14.49255 | 14.47990 | 14.51347 | 14.47043 | 14.43733 | 14.45720 | 14.42825 | 14.43449 | 14.53245 |\n",
       "| 2028 | 14.56557 | 14.45376 | 14.53110 | 14.53932 | 14.52485 | 14.56572 | 14.51826 | 14.48634 | 14.50180 | 14.47368 | 14.48112 | 14.57829 |\n",
       "| 2029 | 14.60756 | 14.50002 | 14.58154 | 14.58506 | 14.57205 | 14.60708 | 14.56316 | <!----> | <!----> | <!----> | <!----> | <!----> |\n",
       "\n",
       "\n",
       "$se\n",
       ":   \n",
       "A Time Series: 8 × 12\n",
       "\n",
       "| <!--/--> | Jan | Feb | Mar | Apr | May | Jun | Jul | Aug | Sep | Oct | Nov | Dec |\n",
       "|---|---|---|---|---|---|---|---|---|---|---|---|---|\n",
       "| 2022 | <!----> | <!----> | <!----> | <!----> | <!----> | <!----> | <!----> | 0.1772860 | 0.1776835 | 0.1795294 | 0.1795334 | 0.1803058 |\n",
       "| 2023 | 0.1801131 | 0.1806087 | 0.1808396 | 0.1812276 | 0.1815108 | 0.1818566 | 0.1821633 | 0.1844876 | 0.1847314 | 0.1852118 | 0.1855461 | 0.1859319 |\n",
       "| 2024 | 0.1860707 | 0.1864621 | 0.1868259 | 0.1872050 | 0.1875747 | 0.1879466 | 0.1883197 | 0.1896666 | 0.1899955 | 0.1904486 | 0.1908400 | 0.1912227 |\n",
       "| 2025 | 0.1914572 | 0.1918618 | 0.1922515 | 0.1926482 | 0.1930409 | 0.1934319 | 0.1938271 | 0.1960312 | 0.1963516 | 0.1968887 | 0.1973055 | 0.1977420 |\n",
       "| 2026 | 0.1980949 | 0.1985467 | 0.1989729 | 0.1994124 | 0.1998440 | 0.2002756 | 0.2007111 | 0.2023116 | 0.2026930 | 0.2032201 | 0.2036809 | 0.2041206 |\n",
       "| 2027 | 0.2045625 | 0.2050287 | 0.2054769 | 0.2059333 | 0.2063852 | 0.2068345 | 0.2072898 | 0.2094514 | 0.2098307 | 0.2104195 | 0.2109026 | 0.2113826 |\n",
       "| 2028 | 0.2119215 | 0.2124240 | 0.2129011 | 0.2133907 | 0.2138733 | 0.2143542 | 0.2148411 | 0.2166227 | 0.2170481 | 0.2176344 | 0.2181526 | 0.2186380 |\n",
       "| 2029 | 0.2192566 | 0.2197727 | 0.2202684 | 0.2207733 | 0.2212735 | 0.2217701 | 0.2222743 | <!----> | <!----> | <!----> | <!----> | <!----> |\n",
       "\n",
       "\n",
       "$pred2\n",
       ":   \n",
       "A Time Series: 8 × 12\n",
       "\n",
       "| <!--/--> | Jan | Feb | Mar | Apr | May | Jun | Jul | Aug | Sep | Oct | Nov | Dec |\n",
       "|---|---|---|---|---|---|---|---|---|---|---|---|---|\n",
       "| 2022 | <!----> | <!----> | <!----> | <!----> | <!----> | <!----> | <!----> | 1527908 | 1476857 | 1478458 | 1465039 | 1631777 |\n",
       "| 2023 | 1659685 | 1505696 | 1637223 | 1636469 | 1616248 | 1662920 | 1597743 | 1544771 | 1581058 | 1535133 | 1543103 | 1703096 |\n",
       "| 2024 | 1765873 | 1573675 | 1694434 | 1714946 | 1688317 | 1767071 | 1680358 | 1628799 | 1649463 | 1604586 | 1617820 | 1782025 |\n",
       "| 2025 | 1830398 | 1648304 | 1793152 | 1794005 | 1772483 | 1828769 | 1754175 | 1696434 | 1732881 | 1683001 | 1692891 | 1867585 |\n",
       "| 2026 | 1932820 | 1726040 | 1862363 | 1880519 | 1852661 | 1933497 | 1841829 | 1784486 | 1810272 | 1760445 | 1774124 | 1954798 |\n",
       "| 2027 | 2010912 | 1807817 | 1963438 | 1968019 | 1943294 | 2009623 | 1924970 | 1862296 | 1899665 | 1845465 | 1857012 | 2048136 |\n",
       "| 2028 | 2117109 | 1893154 | 2045372 | 2062255 | 2032637 | 2117429 | 2019286 | 1955839 | 1986304 | 1931230 | 1945649 | 2144213 |\n",
       "| 2029 | 2207903 | 1982783 | 2151197 | 2158772 | 2130869 | 2206839 | 2112000 | <!----> | <!----> | <!----> | <!----> | <!----> |\n",
       "\n",
       "\n",
       "\n",
       "\n"
      ],
      "text/plain": [
       "$pred\n",
       "          Jan      Feb      Mar      Apr      May      Jun      Jul      Aug\n",
       "2022                                                                14.23942\n",
       "2023 14.32215 14.22478 14.30852 14.30806 14.29563 14.32410 14.28411 14.25040\n",
       "2024 14.38417 14.26893 14.34287 14.35490 14.33925 14.38484 14.33453 14.30336\n",
       "2025 14.42005 14.31527 14.39949 14.39997 14.38790 14.41916 14.37752 14.34405\n",
       "2026 14.47450 14.36135 14.43737 14.44707 14.43214 14.47485 14.42628 14.39465\n",
       "2027 14.51411 14.40764 14.49022 14.49255 14.47990 14.51347 14.47043 14.43733\n",
       "2028 14.56557 14.45376 14.53110 14.53932 14.52485 14.56572 14.51826 14.48634\n",
       "2029 14.60756 14.50002 14.58154 14.58506 14.57205 14.60708 14.56316         \n",
       "          Sep      Oct      Nov      Dec\n",
       "2022 14.20544 14.20652 14.19740 14.30519\n",
       "2023 14.27361 14.24414 14.24932 14.34797\n",
       "2024 14.31597 14.28839 14.29660 14.39327\n",
       "2025 14.36531 14.33610 14.34196 14.44017\n",
       "2026 14.40900 14.38109 14.38883 14.48581\n",
       "2027 14.45720 14.42825 14.43449 14.53245\n",
       "2028 14.50180 14.47368 14.48112 14.57829\n",
       "2029                                    \n",
       "\n",
       "$se\n",
       "           Jan       Feb       Mar       Apr       May       Jun       Jul\n",
       "2022                                                                      \n",
       "2023 0.1801131 0.1806087 0.1808396 0.1812276 0.1815108 0.1818566 0.1821633\n",
       "2024 0.1860707 0.1864621 0.1868259 0.1872050 0.1875747 0.1879466 0.1883197\n",
       "2025 0.1914572 0.1918618 0.1922515 0.1926482 0.1930409 0.1934319 0.1938271\n",
       "2026 0.1980949 0.1985467 0.1989729 0.1994124 0.1998440 0.2002756 0.2007111\n",
       "2027 0.2045625 0.2050287 0.2054769 0.2059333 0.2063852 0.2068345 0.2072898\n",
       "2028 0.2119215 0.2124240 0.2129011 0.2133907 0.2138733 0.2143542 0.2148411\n",
       "2029 0.2192566 0.2197727 0.2202684 0.2207733 0.2212735 0.2217701 0.2222743\n",
       "           Aug       Sep       Oct       Nov       Dec\n",
       "2022 0.1772860 0.1776835 0.1795294 0.1795334 0.1803058\n",
       "2023 0.1844876 0.1847314 0.1852118 0.1855461 0.1859319\n",
       "2024 0.1896666 0.1899955 0.1904486 0.1908400 0.1912227\n",
       "2025 0.1960312 0.1963516 0.1968887 0.1973055 0.1977420\n",
       "2026 0.2023116 0.2026930 0.2032201 0.2036809 0.2041206\n",
       "2027 0.2094514 0.2098307 0.2104195 0.2109026 0.2113826\n",
       "2028 0.2166227 0.2170481 0.2176344 0.2181526 0.2186380\n",
       "2029                                                  \n",
       "\n",
       "$pred2\n",
       "         Jan     Feb     Mar     Apr     May     Jun     Jul     Aug     Sep\n",
       "2022                                                         1527908 1476857\n",
       "2023 1659685 1505696 1637223 1636469 1616248 1662920 1597743 1544771 1581058\n",
       "2024 1765873 1573675 1694434 1714946 1688317 1767071 1680358 1628799 1649463\n",
       "2025 1830398 1648304 1793152 1794005 1772483 1828769 1754175 1696434 1732881\n",
       "2026 1932820 1726040 1862363 1880519 1852661 1933497 1841829 1784486 1810272\n",
       "2027 2010912 1807817 1963438 1968019 1943294 2009623 1924970 1862296 1899665\n",
       "2028 2117109 1893154 2045372 2062255 2032637 2117429 2019286 1955839 1986304\n",
       "2029 2207903 1982783 2151197 2158772 2130869 2206839 2112000                \n",
       "         Oct     Nov     Dec\n",
       "2022 1478458 1465039 1631777\n",
       "2023 1535133 1543103 1703096\n",
       "2024 1604586 1617820 1782025\n",
       "2025 1683001 1692891 1867585\n",
       "2026 1760445 1774124 1954798\n",
       "2027 1845465 1857012 2048136\n",
       "2028 1931230 1945649 2144213\n",
       "2029                        \n"
      ]
     },
     "metadata": {},
     "output_type": "display_data"
    },
    {
     "data": {
      "text/html": [
       "1815713.91139299"
      ],
      "text/latex": [
       "1815713.91139299"
      ],
      "text/markdown": [
       "1815713.91139299"
      ],
      "text/plain": [
       "[1] 1815714"
      ]
     },
     "metadata": {},
     "output_type": "display_data"
    },
    {
     "data": {
      "text/html": [
       "191132.847321002"
      ],
      "text/latex": [
       "191132.847321002"
      ],
      "text/markdown": [
       "191132.847321002"
      ],
      "text/plain": [
       "[1] 191132.8"
      ]
     },
     "metadata": {},
     "output_type": "display_data"
    }
   ],
   "source": [
    "install.packages(\"forecast\") \n",
    "library(forecast) \n",
    "\n",
    "\n",
    "#####################################################################\n",
    "# Now let us do some prediction for the next 7 years\n",
    "\n",
    "# Monthly Average Sale Price\n",
    "pred_H_TS <- predict(fit_open, n.ahead = 7*12)\n",
    "\n",
    "pred_H_TS\n",
    "\n",
    "pred_H_TS$pred2 <- 2.71828^(pred_H_TS$pred)\n",
    "\n",
    "pred_H_TS\n",
    "\n",
    "\n",
    "# Calculate mean and standard deviation of the prediction\n",
    "Avg.vF <- mean(pred_H_TS$pred2)\n",
    "Avg.vF\n",
    "\n",
    "StandD <- sd(pred_H_TS$pred2)\n",
    "StandD\n",
    "\n",
    "################################################################################"
   ]
  },
  {
   "cell_type": "code",
   "execution_count": 18,
   "metadata": {},
   "outputs": [
    {
     "data": {
      "image/png": "[encoded data removed]",
      "text/plain": [
       "plot without title"
      ]
     },
     "metadata": {
      "image/png": {
       "height": 420,
       "width": 420
      }
     },
     "output_type": "display_data"
    }
   ],
   "source": [
    "################################################################################\n",
    "\n",
    "ts.plot(H_TS,2.71828^pred_H_TS$pred, log = \"y\", lty = c(1,3))\n",
    "\n",
    "################################################################################"
   ]
  },
  {
   "cell_type": "code",
   "execution_count": 19,
   "metadata": {},
   "outputs": [
    {
     "data": {
      "text/plain": [
       "         Point Forecast   Lo 80   Hi 80     Lo 95   Hi 95\n",
       "Aug 2022        1537011 1227889 1846132 1064250.4 2009771\n",
       "Sep 2022        1498304 1189182 1807427 1025542.1 1971067\n",
       "Oct 2022        1527964 1215611 1840318 1050260.6 2005668\n",
       "Nov 2022        1516760 1203665 1829855 1037922.6 1995598\n",
       "Dec 2022        1521764 1206986 1836543 1040351.6 2003177\n",
       "Jan 2023        1507436 1191147 1823726 1023713.3 1991159\n",
       "Feb 2023        1511065 1191394 1830735 1022171.0 1999959\n",
       "Mar 2023        1509700 1187320 1832080 1016662.1 2002738\n",
       "Apr 2023        1511391 1186211 1836571 1014070.7 2008711\n",
       "May 2023        1511457 1183738 1839177 1010254.1 2012661\n",
       "Jun 2023        1512024 1181806 1842241 1006999.1 2017048\n",
       "Jul 2023        1511654 1179016 1844293 1002928.2 2020381\n",
       "Aug 2023        1511656 1176559 1846753  999169.6 2024142\n",
       "Sep 2023        1511526 1173985 1849066  995302.0 2027749\n",
       "Oct 2023        1511544 1171562 1851526  991586.2 2031502\n",
       "Nov 2023        1511540 1169137 1853943  987879.5 2035200\n",
       "Dec 2023        1511571 1166765 1856377  984235.6 2038907\n",
       "Jan 2024        1511572 1164384 1858761  980593.0 2042551\n",
       "Feb 2024        1511577 1162022 1861131  976978.9 2046175\n",
       "Mar 2024        1511572 1159668 1863477  973380.6 2049764\n",
       "Apr 2024        1511571 1157331 1865810  969808.4 2053334\n",
       "May 2024        1511569 1155010 1868129  966258.8 2056880\n",
       "Jun 2024        1511570 1152705 1870434  962734.0 2060405\n",
       "Jul 2024        1511570 1150415 1872724  959231.5 2063908\n",
       "Aug 2024        1511570 1148140 1875001  955751.5 2067389\n",
       "Sep 2024        1511570 1145878 1877262  952292.8 2070848\n",
       "Oct 2024        1511570 1143631 1879510  948855.3 2074285\n",
       "Nov 2024        1511570 1141397 1881744  945438.6 2077702\n",
       "Dec 2024        1511570 1139176 1883964  942042.4 2081098\n",
       "Jan 2025        1511570 1136969 1886172  938666.4 2084474\n",
       "Feb 2025        1511570 1134774 1888366  935310.2 2087830\n",
       "Mar 2025        1511570 1132592 1890548  931973.4 2091167\n",
       "Apr 2025        1511570 1130423 1892718  928655.7 2094485\n",
       "May 2025        1511570 1128266 1894875  925356.7 2097784\n",
       "Jun 2025        1511570 1126121 1897020  922076.3 2101064\n",
       "Jul 2025        1511570 1123988 1899153  918814.0 2104326\n",
       "Aug 2025        1511570 1121866 1901274  915569.5 2107571\n",
       "Sep 2025        1511570 1119756 1903384  912342.6 2110798\n",
       "Oct 2025        1511570 1117658 1905483  909133.0 2114007\n",
       "Nov 2025        1511570 1115570 1907570  905940.5 2117200\n",
       "Dec 2025        1511570 1113494 1909647  902764.6 2120376\n",
       "Jan 2026        1511570 1111428 1911713  899605.2 2123535\n",
       "Feb 2026        1511570 1109373 1913768  896462.1 2126678\n",
       "Mar 2026        1511570 1107328 1915813  893334.9 2129806\n",
       "Apr 2026        1511570 1105293 1917847  890223.5 2132917\n",
       "May 2026        1511570 1103269 1919871  887127.6 2136013\n",
       "Jun 2026        1511570 1101255 1921886  884047.0 2139094\n",
       "Jul 2026        1511570 1099250 1923890  880981.4 2142159\n",
       "Aug 2026        1511570 1097256 1925885  877930.6 2145210\n",
       "Sep 2026        1511570 1095270 1927870  874894.4 2148246\n",
       "Oct 2026        1511570 1093295 1929846  871872.7 2151268\n",
       "Nov 2026        1511570 1091328 1931812  868865.2 2154275\n",
       "Dec 2026        1511570 1089371 1933770  865871.7 2157269\n",
       "Jan 2027        1511570 1087422 1935718  862892.0 2160249\n",
       "Feb 2027        1511570 1085483 1937658  859925.9 2163215\n",
       "Mar 2027        1511570 1083552 1939588  856973.2 2166167\n",
       "Apr 2027        1511570 1081630 1941510  854033.8 2169107\n",
       "May 2027        1511570 1079717 1943424  851107.5 2172033\n",
       "Jun 2027        1511570 1077812 1945329  848194.2 2174946\n",
       "Jul 2027        1511570 1075915 1947225  845293.5 2177847\n",
       "Aug 2027        1511570 1074027 1949114  842405.4 2180735\n",
       "Sep 2027        1511570 1072147 1950994  839529.8 2183611\n",
       "Oct 2027        1511570 1070274 1952866  836666.3 2186474\n",
       "Nov 2027        1511570 1068410 1954731  833815.0 2189325\n",
       "Dec 2027        1511570 1066553 1956587  830975.6 2192165\n",
       "Jan 2028        1511570 1064704 1958436  828148.1 2194992\n",
       "Feb 2028        1511570 1062863 1960277  825332.1 2197808\n",
       "Mar 2028        1511570 1061030 1962111  822527.7 2200613\n",
       "Apr 2028        1511570 1059203 1963937  819734.7 2203406\n",
       "May 2028        1511570 1057384 1965756  816952.8 2206188\n",
       "Jun 2028        1511570 1055573 1967568  814182.1 2208958\n",
       "Jul 2028        1511570 1053768 1969372  811422.4 2211718\n",
       "Aug 2028        1511570 1051971 1971170  808673.4 2214467\n",
       "Sep 2028        1511570 1050180 1972960  805935.2 2217205\n",
       "Oct 2028        1511570 1048397 1974744  803207.6 2219933\n",
       "Nov 2028        1511570 1046620 1976520  800490.4 2222650\n",
       "Dec 2028        1511570 1044850 1978290  797783.6 2225357\n",
       "Jan 2029        1511570 1043087 1980053  795087.0 2228053\n",
       "Feb 2029        1511570 1041330 1981810  792400.5 2230740\n",
       "Mar 2029        1511570 1039580 1983560  789724.0 2233416\n",
       "Apr 2029        1511570 1037837 1985304  787057.4 2236083\n",
       "May 2029        1511570 1036100 1987041  784400.6 2238740\n",
       "Jun 2029        1511570 1034369 1988772  781753.5 2241387\n",
       "Jul 2029        1511570 1032644 1990496  779115.9 2244025"
      ]
     },
     "metadata": {},
     "output_type": "display_data"
    },
    {
     "data": {
      "image/png": "[encoded data removed]",
      "text/plain": [
       "Plot with title \"Average Monthly Home Sale Price Wards 1 & 2\""
      ]
     },
     "metadata": {
      "image/png": {
       "height": 420,
       "width": 420
      }
     },
     "output_type": "display_data"
    }
   ],
   "source": [
    "################################Using auto.arima################################\n",
    "################################################################################\n",
    "\n",
    "# forecasting model using arima model\n",
    "fit <- auto.arima(H_TS)\n",
    "\n",
    "# Next 84 forecasted values\n",
    "forecast(fit, 84)\n",
    "\n",
    "# plotting the graph with next\n",
    "# 84 monthly forecasted values\n",
    "plot(forecast(fit, 84), xlab =\"Monthly Data\",\n",
    "     ylab =\"Price\",\n",
    "     main =\"Average Monthly Home Sale Price Wards 1 & 2\", col.main =\"darkgreen\")\n",
    "\n",
    "################################################################################"
   ]
  },
  {
   "cell_type": "code",
   "execution_count": null,
   "metadata": {},
   "outputs": [],
   "source": []
  }
 ],
 "metadata": {
  "kernelspec": {
   "display_name": "R",
   "language": "R",
   "name": "ir"
  },
  "language_info": {
   "codemirror_mode": "r",
   "file_extension": ".r",
   "mimetype": "text/x-r-source",
   "name": "R",
   "pygments_lexer": "r",
   "version": "4.2.1"
  }
 },
 "nbformat": 4,
 "nbformat_minor": 4
}
