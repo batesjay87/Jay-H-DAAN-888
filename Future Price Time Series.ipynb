{
 "cells": [
  {
   "cell_type": "markdown",
   "metadata": {},
   "source": [
    "# Future Price Time Series Model"
   ]
  },
  {
   "cell_type": "code",
   "execution_count": 1,
   "metadata": {},
   "outputs": [
    {
     "data": {
      "text/html": [
       "'D:/Penn State/DAAN/DAAN 888 Analytics Design Implementation/Report'"
      ],
      "text/latex": [
       "'D:/Penn State/DAAN/DAAN 888 Analytics Design Implementation/Report'"
      ],
      "text/markdown": [
       "'D:/Penn State/DAAN/DAAN 888 Analytics Design Implementation/Report'"
      ],
      "text/plain": [
       "[1] \"D:/Penn State/DAAN/DAAN 888 Analytics Design Implementation/Report\""
      ]
     },
     "metadata": {},
     "output_type": "display_data"
    },
    {
     "data": {
      "text/html": [
       "<table class=\"dataframe\">\n",
       "<caption>A data.frame: 6 × 43</caption>\n",
       "<thead>\n",
       "\t<tr><th></th><th scope=col>SSL</th><th scope=col>BATHRM</th><th scope=col>HF_BATHRM</th><th scope=col>HEAT</th><th scope=col>HEAT_D</th><th scope=col>AC</th><th scope=col>NUM_UNITS</th><th scope=col>ROOMS</th><th scope=col>BEDRM</th><th scope=col>AYB</th><th scope=col>⋯</th><th scope=col>KITCHENS</th><th scope=col>FIREPLACES</th><th scope=col>USECODE</th><th scope=col>LANDAREA</th><th scope=col>GIS_LAST_MOD_DTTM</th><th scope=col>OBJECTID</th><th scope=col>ASSESSMENT_NBHD</th><th scope=col>WARD</th><th scope=col>LATITUDE</th><th scope=col>LONGITUDE</th></tr>\n",
       "\t<tr><th></th><th scope=col>&lt;chr&gt;</th><th scope=col>&lt;int&gt;</th><th scope=col>&lt;int&gt;</th><th scope=col>&lt;int&gt;</th><th scope=col>&lt;chr&gt;</th><th scope=col>&lt;chr&gt;</th><th scope=col>&lt;int&gt;</th><th scope=col>&lt;int&gt;</th><th scope=col>&lt;int&gt;</th><th scope=col>&lt;int&gt;</th><th scope=col>⋯</th><th scope=col>&lt;int&gt;</th><th scope=col>&lt;int&gt;</th><th scope=col>&lt;int&gt;</th><th scope=col>&lt;int&gt;</th><th scope=col>&lt;chr&gt;</th><th scope=col>&lt;int&gt;</th><th scope=col>&lt;chr&gt;</th><th scope=col>&lt;chr&gt;</th><th scope=col>&lt;dbl&gt;</th><th scope=col>&lt;dbl&gt;</th></tr>\n",
       "</thead>\n",
       "<tbody>\n",
       "\t<tr><th scope=row>1</th><td>0150    0275</td><td>1</td><td>1</td><td> 7</td><td>Warm Cool    </td><td>Y</td><td>1</td><td>6</td><td>3</td><td>1900</td><td>⋯</td><td>1</td><td>0</td><td>11</td><td>960</td><td>2022/08/31 05:17:11+00</td><td>74407639</td><td>Old City 2</td><td>Ward 1</td><td>38.91745</td><td>-77.04023</td></tr>\n",
       "\t<tr><th scope=row>2</th><td>0150    0276</td><td>1</td><td>0</td><td> 7</td><td>Warm Cool    </td><td>Y</td><td>1</td><td>6</td><td>3</td><td>1900</td><td>⋯</td><td>1</td><td>0</td><td>11</td><td>960</td><td>2022/08/31 05:17:11+00</td><td>74407640</td><td>Old City 2</td><td>Ward 1</td><td>38.91745</td><td>-77.04017</td></tr>\n",
       "\t<tr><th scope=row>3</th><td>0150    0277</td><td>1</td><td>0</td><td>13</td><td>Hot Water Rad</td><td>N</td><td>1</td><td>6</td><td>3</td><td>1900</td><td>⋯</td><td>1</td><td>0</td><td>11</td><td>960</td><td>2022/08/31 05:17:11+00</td><td>74407641</td><td>Old City 2</td><td>Ward 1</td><td>38.91745</td><td>-77.04012</td></tr>\n",
       "\t<tr><th scope=row>4</th><td>0150    0278</td><td>2</td><td>1</td><td> 7</td><td>Warm Cool    </td><td>Y</td><td>1</td><td>6</td><td>2</td><td>1900</td><td>⋯</td><td>1</td><td>1</td><td>11</td><td>960</td><td>2022/08/31 05:17:11+00</td><td>74407642</td><td>Old City 2</td><td>Ward 1</td><td>38.91745</td><td>-77.04006</td></tr>\n",
       "\t<tr><th scope=row>5</th><td>0150    0279</td><td>1</td><td>1</td><td> 7</td><td>Warm Cool    </td><td>Y</td><td>1</td><td>6</td><td>3</td><td>1900</td><td>⋯</td><td>1</td><td>1</td><td>11</td><td>960</td><td>2022/08/31 05:17:11+00</td><td>74407643</td><td>Old City 2</td><td>Ward 1</td><td>38.91745</td><td>-77.04000</td></tr>\n",
       "\t<tr><th scope=row>6</th><td>0150    0280</td><td>1</td><td>1</td><td> 7</td><td>Warm Cool    </td><td>Y</td><td>1</td><td>6</td><td>3</td><td>1910</td><td>⋯</td><td>1</td><td>1</td><td>11</td><td>960</td><td>2022/08/31 05:17:11+00</td><td>74407644</td><td>Old City 2</td><td>Ward 1</td><td>38.91745</td><td>-77.03995</td></tr>\n",
       "</tbody>\n",
       "</table>\n"
      ],
      "text/latex": [
       "A data.frame: 6 × 43\n",
       "\\begin{tabular}{r|lllllllllllllllllllll}\n",
       "  & SSL & BATHRM & HF\\_BATHRM & HEAT & HEAT\\_D & AC & NUM\\_UNITS & ROOMS & BEDRM & AYB & ⋯ & KITCHENS & FIREPLACES & USECODE & LANDAREA & GIS\\_LAST\\_MOD\\_DTTM & OBJECTID & ASSESSMENT\\_NBHD & WARD & LATITUDE & LONGITUDE\\\\\n",
       "  & <chr> & <int> & <int> & <int> & <chr> & <chr> & <int> & <int> & <int> & <int> & ⋯ & <int> & <int> & <int> & <int> & <chr> & <int> & <chr> & <chr> & <dbl> & <dbl>\\\\\n",
       "\\hline\n",
       "\t1 & 0150    0275 & 1 & 1 &  7 & Warm Cool     & Y & 1 & 6 & 3 & 1900 & ⋯ & 1 & 0 & 11 & 960 & 2022/08/31 05:17:11+00 & 74407639 & Old City 2 & Ward 1 & 38.91745 & -77.04023\\\\\n",
       "\t2 & 0150    0276 & 1 & 0 &  7 & Warm Cool     & Y & 1 & 6 & 3 & 1900 & ⋯ & 1 & 0 & 11 & 960 & 2022/08/31 05:17:11+00 & 74407640 & Old City 2 & Ward 1 & 38.91745 & -77.04017\\\\\n",
       "\t3 & 0150    0277 & 1 & 0 & 13 & Hot Water Rad & N & 1 & 6 & 3 & 1900 & ⋯ & 1 & 0 & 11 & 960 & 2022/08/31 05:17:11+00 & 74407641 & Old City 2 & Ward 1 & 38.91745 & -77.04012\\\\\n",
       "\t4 & 0150    0278 & 2 & 1 &  7 & Warm Cool     & Y & 1 & 6 & 2 & 1900 & ⋯ & 1 & 1 & 11 & 960 & 2022/08/31 05:17:11+00 & 74407642 & Old City 2 & Ward 1 & 38.91745 & -77.04006\\\\\n",
       "\t5 & 0150    0279 & 1 & 1 &  7 & Warm Cool     & Y & 1 & 6 & 3 & 1900 & ⋯ & 1 & 1 & 11 & 960 & 2022/08/31 05:17:11+00 & 74407643 & Old City 2 & Ward 1 & 38.91745 & -77.04000\\\\\n",
       "\t6 & 0150    0280 & 1 & 1 &  7 & Warm Cool     & Y & 1 & 6 & 3 & 1910 & ⋯ & 1 & 1 & 11 & 960 & 2022/08/31 05:17:11+00 & 74407644 & Old City 2 & Ward 1 & 38.91745 & -77.03995\\\\\n",
       "\\end{tabular}\n"
      ],
      "text/markdown": [
       "\n",
       "A data.frame: 6 × 43\n",
       "\n",
       "| <!--/--> | SSL &lt;chr&gt; | BATHRM &lt;int&gt; | HF_BATHRM &lt;int&gt; | HEAT &lt;int&gt; | HEAT_D &lt;chr&gt; | AC &lt;chr&gt; | NUM_UNITS &lt;int&gt; | ROOMS &lt;int&gt; | BEDRM &lt;int&gt; | AYB &lt;int&gt; | ⋯ ⋯ | KITCHENS &lt;int&gt; | FIREPLACES &lt;int&gt; | USECODE &lt;int&gt; | LANDAREA &lt;int&gt; | GIS_LAST_MOD_DTTM &lt;chr&gt; | OBJECTID &lt;int&gt; | ASSESSMENT_NBHD &lt;chr&gt; | WARD &lt;chr&gt; | LATITUDE &lt;dbl&gt; | LONGITUDE &lt;dbl&gt; |\n",
       "|---|---|---|---|---|---|---|---|---|---|---|---|---|---|---|---|---|---|---|---|---|---|\n",
       "| 1 | 0150    0275 | 1 | 1 |  7 | Warm Cool     | Y | 1 | 6 | 3 | 1900 | ⋯ | 1 | 0 | 11 | 960 | 2022/08/31 05:17:11+00 | 74407639 | Old City 2 | Ward 1 | 38.91745 | -77.04023 |\n",
       "| 2 | 0150    0276 | 1 | 0 |  7 | Warm Cool     | Y | 1 | 6 | 3 | 1900 | ⋯ | 1 | 0 | 11 | 960 | 2022/08/31 05:17:11+00 | 74407640 | Old City 2 | Ward 1 | 38.91745 | -77.04017 |\n",
       "| 3 | 0150    0277 | 1 | 0 | 13 | Hot Water Rad | N | 1 | 6 | 3 | 1900 | ⋯ | 1 | 0 | 11 | 960 | 2022/08/31 05:17:11+00 | 74407641 | Old City 2 | Ward 1 | 38.91745 | -77.04012 |\n",
       "| 4 | 0150    0278 | 2 | 1 |  7 | Warm Cool     | Y | 1 | 6 | 2 | 1900 | ⋯ | 1 | 1 | 11 | 960 | 2022/08/31 05:17:11+00 | 74407642 | Old City 2 | Ward 1 | 38.91745 | -77.04006 |\n",
       "| 5 | 0150    0279 | 1 | 1 |  7 | Warm Cool     | Y | 1 | 6 | 3 | 1900 | ⋯ | 1 | 1 | 11 | 960 | 2022/08/31 05:17:11+00 | 74407643 | Old City 2 | Ward 1 | 38.91745 | -77.04000 |\n",
       "| 6 | 0150    0280 | 1 | 1 |  7 | Warm Cool     | Y | 1 | 6 | 3 | 1910 | ⋯ | 1 | 1 | 11 | 960 | 2022/08/31 05:17:11+00 | 74407644 | Old City 2 | Ward 1 | 38.91745 | -77.03995 |\n",
       "\n"
      ],
      "text/plain": [
       "  SSL          BATHRM HF_BATHRM HEAT HEAT_D        AC NUM_UNITS ROOMS BEDRM\n",
       "1 0150    0275 1      1          7   Warm Cool     Y  1         6     3    \n",
       "2 0150    0276 1      0          7   Warm Cool     Y  1         6     3    \n",
       "3 0150    0277 1      0         13   Hot Water Rad N  1         6     3    \n",
       "4 0150    0278 2      1          7   Warm Cool     Y  1         6     2    \n",
       "5 0150    0279 1      1          7   Warm Cool     Y  1         6     3    \n",
       "6 0150    0280 1      1          7   Warm Cool     Y  1         6     3    \n",
       "  AYB  ⋯ KITCHENS FIREPLACES USECODE LANDAREA GIS_LAST_MOD_DTTM      OBJECTID\n",
       "1 1900 ⋯ 1        0          11      960      2022/08/31 05:17:11+00 74407639\n",
       "2 1900 ⋯ 1        0          11      960      2022/08/31 05:17:11+00 74407640\n",
       "3 1900 ⋯ 1        0          11      960      2022/08/31 05:17:11+00 74407641\n",
       "4 1900 ⋯ 1        1          11      960      2022/08/31 05:17:11+00 74407642\n",
       "5 1900 ⋯ 1        1          11      960      2022/08/31 05:17:11+00 74407643\n",
       "6 1910 ⋯ 1        1          11      960      2022/08/31 05:17:11+00 74407644\n",
       "  ASSESSMENT_NBHD WARD   LATITUDE LONGITUDE\n",
       "1 Old City 2      Ward 1 38.91745 -77.04023\n",
       "2 Old City 2      Ward 1 38.91745 -77.04017\n",
       "3 Old City 2      Ward 1 38.91745 -77.04012\n",
       "4 Old City 2      Ward 1 38.91745 -77.04006\n",
       "5 Old City 2      Ward 1 38.91745 -77.04000\n",
       "6 Old City 2      Ward 1 38.91745 -77.03995"
      ]
     },
     "metadata": {},
     "output_type": "display_data"
    },
    {
     "data": {
      "text/html": [
       "<table class=\"dataframe\">\n",
       "<caption>A data.frame: 6 × 43</caption>\n",
       "<thead>\n",
       "\t<tr><th></th><th scope=col>SSL</th><th scope=col>BATHRM</th><th scope=col>HF_BATHRM</th><th scope=col>HEAT</th><th scope=col>HEAT_D</th><th scope=col>AC</th><th scope=col>NUM_UNITS</th><th scope=col>ROOMS</th><th scope=col>BEDRM</th><th scope=col>AYB</th><th scope=col>⋯</th><th scope=col>KITCHENS</th><th scope=col>FIREPLACES</th><th scope=col>USECODE</th><th scope=col>LANDAREA</th><th scope=col>GIS_LAST_MOD_DTTM</th><th scope=col>OBJECTID</th><th scope=col>ASSESSMENT_NBHD</th><th scope=col>WARD</th><th scope=col>LATITUDE</th><th scope=col>LONGITUDE</th></tr>\n",
       "\t<tr><th></th><th scope=col>&lt;chr&gt;</th><th scope=col>&lt;int&gt;</th><th scope=col>&lt;int&gt;</th><th scope=col>&lt;int&gt;</th><th scope=col>&lt;chr&gt;</th><th scope=col>&lt;chr&gt;</th><th scope=col>&lt;int&gt;</th><th scope=col>&lt;int&gt;</th><th scope=col>&lt;int&gt;</th><th scope=col>&lt;int&gt;</th><th scope=col>⋯</th><th scope=col>&lt;int&gt;</th><th scope=col>&lt;int&gt;</th><th scope=col>&lt;int&gt;</th><th scope=col>&lt;int&gt;</th><th scope=col>&lt;chr&gt;</th><th scope=col>&lt;int&gt;</th><th scope=col>&lt;chr&gt;</th><th scope=col>&lt;chr&gt;</th><th scope=col>&lt;dbl&gt;</th><th scope=col>&lt;dbl&gt;</th></tr>\n",
       "</thead>\n",
       "<tbody>\n",
       "\t<tr><th scope=row>108398</th><td>PAR 01550236</td><td>2</td><td>0</td><td>13</td><td>Hot Water Rad</td><td>N</td><td>1</td><td> 6</td><td>2</td><td>1934</td><td>⋯</td><td>1</td><td>1</td><td>12</td><td>4571</td><td>2022/08/31 05:17:11+00</td><td>74624612</td><td>Woodridge</td><td>Ward 5</td><td>38.92890</td><td>-76.97456</td></tr>\n",
       "\t<tr><th scope=row>108399</th><td>PAR 01550251</td><td>2</td><td>0</td><td> 1</td><td>Forced Air   </td><td>Y</td><td>1</td><td> 6</td><td>3</td><td>1935</td><td>⋯</td><td>1</td><td>0</td><td>12</td><td>3000</td><td>2022/08/31 05:17:11+00</td><td>74624613</td><td>Woodridge</td><td>Ward 5</td><td>38.92700</td><td>-76.97157</td></tr>\n",
       "\t<tr><th scope=row>108400</th><td>PAR 01550252</td><td>1</td><td>0</td><td>13</td><td>Hot Water Rad</td><td>N</td><td>1</td><td> 5</td><td>2</td><td>1935</td><td>⋯</td><td>1</td><td>0</td><td>12</td><td>3000</td><td>2022/08/31 05:17:11+00</td><td>74624614</td><td>Woodridge</td><td>Ward 5</td><td>38.92706</td><td>-76.97145</td></tr>\n",
       "\t<tr><th scope=row>108401</th><td>PAR 01550254</td><td>3</td><td>0</td><td>13</td><td>Hot Water Rad</td><td>N</td><td>1</td><td> 5</td><td>3</td><td>1922</td><td>⋯</td><td>1</td><td>0</td><td>12</td><td>7829</td><td>2022/08/31 05:17:11+00</td><td>74624615</td><td>Woodridge</td><td>Ward 5</td><td>38.92790</td><td>-76.97388</td></tr>\n",
       "\t<tr><th scope=row>108402</th><td>PAR 01550255</td><td>3</td><td>1</td><td> 1</td><td>Forced Air   </td><td>Y</td><td>1</td><td>10</td><td>4</td><td>1925</td><td>⋯</td><td>1</td><td>0</td><td>13</td><td>4001</td><td>2022/08/31 05:17:11+00</td><td>74624616</td><td>Woodridge</td><td>Ward 5</td><td>38.92924</td><td>-76.97320</td></tr>\n",
       "\t<tr><th scope=row>108403</th><td>PAR 01550259</td><td>1</td><td>0</td><td>13</td><td>Hot Water Rad</td><td>N</td><td>1</td><td> 6</td><td>3</td><td>1940</td><td>⋯</td><td>1</td><td>0</td><td>11</td><td>1399</td><td>2022/08/31 05:17:11+00</td><td>74624617</td><td>Woodridge</td><td>Ward 5</td><td>38.92924</td><td>-76.97465</td></tr>\n",
       "</tbody>\n",
       "</table>\n"
      ],
      "text/latex": [
       "A data.frame: 6 × 43\n",
       "\\begin{tabular}{r|lllllllllllllllllllll}\n",
       "  & SSL & BATHRM & HF\\_BATHRM & HEAT & HEAT\\_D & AC & NUM\\_UNITS & ROOMS & BEDRM & AYB & ⋯ & KITCHENS & FIREPLACES & USECODE & LANDAREA & GIS\\_LAST\\_MOD\\_DTTM & OBJECTID & ASSESSMENT\\_NBHD & WARD & LATITUDE & LONGITUDE\\\\\n",
       "  & <chr> & <int> & <int> & <int> & <chr> & <chr> & <int> & <int> & <int> & <int> & ⋯ & <int> & <int> & <int> & <int> & <chr> & <int> & <chr> & <chr> & <dbl> & <dbl>\\\\\n",
       "\\hline\n",
       "\t108398 & PAR 01550236 & 2 & 0 & 13 & Hot Water Rad & N & 1 &  6 & 2 & 1934 & ⋯ & 1 & 1 & 12 & 4571 & 2022/08/31 05:17:11+00 & 74624612 & Woodridge & Ward 5 & 38.92890 & -76.97456\\\\\n",
       "\t108399 & PAR 01550251 & 2 & 0 &  1 & Forced Air    & Y & 1 &  6 & 3 & 1935 & ⋯ & 1 & 0 & 12 & 3000 & 2022/08/31 05:17:11+00 & 74624613 & Woodridge & Ward 5 & 38.92700 & -76.97157\\\\\n",
       "\t108400 & PAR 01550252 & 1 & 0 & 13 & Hot Water Rad & N & 1 &  5 & 2 & 1935 & ⋯ & 1 & 0 & 12 & 3000 & 2022/08/31 05:17:11+00 & 74624614 & Woodridge & Ward 5 & 38.92706 & -76.97145\\\\\n",
       "\t108401 & PAR 01550254 & 3 & 0 & 13 & Hot Water Rad & N & 1 &  5 & 3 & 1922 & ⋯ & 1 & 0 & 12 & 7829 & 2022/08/31 05:17:11+00 & 74624615 & Woodridge & Ward 5 & 38.92790 & -76.97388\\\\\n",
       "\t108402 & PAR 01550255 & 3 & 1 &  1 & Forced Air    & Y & 1 & 10 & 4 & 1925 & ⋯ & 1 & 0 & 13 & 4001 & 2022/08/31 05:17:11+00 & 74624616 & Woodridge & Ward 5 & 38.92924 & -76.97320\\\\\n",
       "\t108403 & PAR 01550259 & 1 & 0 & 13 & Hot Water Rad & N & 1 &  6 & 3 & 1940 & ⋯ & 1 & 0 & 11 & 1399 & 2022/08/31 05:17:11+00 & 74624617 & Woodridge & Ward 5 & 38.92924 & -76.97465\\\\\n",
       "\\end{tabular}\n"
      ],
      "text/markdown": [
       "\n",
       "A data.frame: 6 × 43\n",
       "\n",
       "| <!--/--> | SSL &lt;chr&gt; | BATHRM &lt;int&gt; | HF_BATHRM &lt;int&gt; | HEAT &lt;int&gt; | HEAT_D &lt;chr&gt; | AC &lt;chr&gt; | NUM_UNITS &lt;int&gt; | ROOMS &lt;int&gt; | BEDRM &lt;int&gt; | AYB &lt;int&gt; | ⋯ ⋯ | KITCHENS &lt;int&gt; | FIREPLACES &lt;int&gt; | USECODE &lt;int&gt; | LANDAREA &lt;int&gt; | GIS_LAST_MOD_DTTM &lt;chr&gt; | OBJECTID &lt;int&gt; | ASSESSMENT_NBHD &lt;chr&gt; | WARD &lt;chr&gt; | LATITUDE &lt;dbl&gt; | LONGITUDE &lt;dbl&gt; |\n",
       "|---|---|---|---|---|---|---|---|---|---|---|---|---|---|---|---|---|---|---|---|---|---|\n",
       "| 108398 | PAR 01550236 | 2 | 0 | 13 | Hot Water Rad | N | 1 |  6 | 2 | 1934 | ⋯ | 1 | 1 | 12 | 4571 | 2022/08/31 05:17:11+00 | 74624612 | Woodridge | Ward 5 | 38.92890 | -76.97456 |\n",
       "| 108399 | PAR 01550251 | 2 | 0 |  1 | Forced Air    | Y | 1 |  6 | 3 | 1935 | ⋯ | 1 | 0 | 12 | 3000 | 2022/08/31 05:17:11+00 | 74624613 | Woodridge | Ward 5 | 38.92700 | -76.97157 |\n",
       "| 108400 | PAR 01550252 | 1 | 0 | 13 | Hot Water Rad | N | 1 |  5 | 2 | 1935 | ⋯ | 1 | 0 | 12 | 3000 | 2022/08/31 05:17:11+00 | 74624614 | Woodridge | Ward 5 | 38.92706 | -76.97145 |\n",
       "| 108401 | PAR 01550254 | 3 | 0 | 13 | Hot Water Rad | N | 1 |  5 | 3 | 1922 | ⋯ | 1 | 0 | 12 | 7829 | 2022/08/31 05:17:11+00 | 74624615 | Woodridge | Ward 5 | 38.92790 | -76.97388 |\n",
       "| 108402 | PAR 01550255 | 3 | 1 |  1 | Forced Air    | Y | 1 | 10 | 4 | 1925 | ⋯ | 1 | 0 | 13 | 4001 | 2022/08/31 05:17:11+00 | 74624616 | Woodridge | Ward 5 | 38.92924 | -76.97320 |\n",
       "| 108403 | PAR 01550259 | 1 | 0 | 13 | Hot Water Rad | N | 1 |  6 | 3 | 1940 | ⋯ | 1 | 0 | 11 | 1399 | 2022/08/31 05:17:11+00 | 74624617 | Woodridge | Ward 5 | 38.92924 | -76.97465 |\n",
       "\n"
      ],
      "text/plain": [
       "       SSL          BATHRM HF_BATHRM HEAT HEAT_D        AC NUM_UNITS ROOMS\n",
       "108398 PAR 01550236 2      0         13   Hot Water Rad N  1          6   \n",
       "108399 PAR 01550251 2      0          1   Forced Air    Y  1          6   \n",
       "108400 PAR 01550252 1      0         13   Hot Water Rad N  1          5   \n",
       "108401 PAR 01550254 3      0         13   Hot Water Rad N  1          5   \n",
       "108402 PAR 01550255 3      1          1   Forced Air    Y  1         10   \n",
       "108403 PAR 01550259 1      0         13   Hot Water Rad N  1          6   \n",
       "       BEDRM AYB  ⋯ KITCHENS FIREPLACES USECODE LANDAREA GIS_LAST_MOD_DTTM     \n",
       "108398 2     1934 ⋯ 1        1          12      4571     2022/08/31 05:17:11+00\n",
       "108399 3     1935 ⋯ 1        0          12      3000     2022/08/31 05:17:11+00\n",
       "108400 2     1935 ⋯ 1        0          12      3000     2022/08/31 05:17:11+00\n",
       "108401 3     1922 ⋯ 1        0          12      7829     2022/08/31 05:17:11+00\n",
       "108402 4     1925 ⋯ 1        0          13      4001     2022/08/31 05:17:11+00\n",
       "108403 3     1940 ⋯ 1        0          11      1399     2022/08/31 05:17:11+00\n",
       "       OBJECTID ASSESSMENT_NBHD WARD   LATITUDE LONGITUDE\n",
       "108398 74624612 Woodridge       Ward 5 38.92890 -76.97456\n",
       "108399 74624613 Woodridge       Ward 5 38.92700 -76.97157\n",
       "108400 74624614 Woodridge       Ward 5 38.92706 -76.97145\n",
       "108401 74624615 Woodridge       Ward 5 38.92790 -76.97388\n",
       "108402 74624616 Woodridge       Ward 5 38.92924 -76.97320\n",
       "108403 74624617 Woodridge       Ward 5 38.92924 -76.97465"
      ]
     },
     "metadata": {},
     "output_type": "display_data"
    },
    {
     "data": {
      "text/plain": [
       "     SSL                BATHRM         HF_BATHRM            HEAT      \n",
       " Length:108403      Min.   : 0.000   Min.   : 0.0000   Min.   : 0.00  \n",
       " Class :character   1st Qu.: 1.000   1st Qu.: 0.0000   1st Qu.: 1.00  \n",
       " Mode  :character   Median : 2.000   Median : 1.0000   Median : 7.00  \n",
       "                    Mean   : 2.124   Mean   : 0.6298   Mean   : 7.27  \n",
       "                    3rd Qu.: 3.000   3rd Qu.: 1.0000   3rd Qu.:13.00  \n",
       "                    Max.   :30.000   Max.   :12.0000   Max.   :13.00  \n",
       "                    NA's   :1371     NA's   :1371      NA's   :1371   \n",
       "    HEAT_D               AC              NUM_UNITS          ROOMS        \n",
       " Length:108403      Length:108403      Min.   : 0.000   Min.   :  0.000  \n",
       " Class :character   Class :character   1st Qu.: 1.000   1st Qu.:  6.000  \n",
       " Mode  :character   Mode  :character   Median : 1.000   Median :  7.000  \n",
       "                                       Mean   : 1.196   Mean   :  7.397  \n",
       "                                       3rd Qu.: 1.000   3rd Qu.:  8.000  \n",
       "                                       Max.   :12.000   Max.   :101.000  \n",
       "                                       NA's   :1371     NA's   :1443     \n",
       "     BEDRM             AYB          YR_RMDL           EYB      \n",
       " Min.   : 0.000   Min.   :   0   Min.   :  202   Min.   :   0  \n",
       " 1st Qu.: 3.000   1st Qu.:1915   1st Qu.: 2000   1st Qu.:1960  \n",
       " Median : 3.000   Median :1930   Median : 2008   Median :1968  \n",
       " Mean   : 3.422   Mean   :1932   Mean   : 2006   Mean   :1946  \n",
       " 3rd Qu.: 4.000   3rd Qu.:1948   3rd Qu.: 2015   3rd Qu.:1975  \n",
       " Max.   :24.000   Max.   :2023   Max.   :20212   Max.   :2022  \n",
       " NA's   :1388     NA's   :21     NA's   :53877                 \n",
       "    STORIES          SALEDATE             PRICE           QUALIFIED        \n",
       " Min.   :  0.000   Length:108403      Min.   :       0   Length:108403     \n",
       " 1st Qu.:  2.000   Class :character   1st Qu.:       0   Class :character  \n",
       " Median :  2.000   Mode  :character   Median :  294000   Mode  :character  \n",
       " Mean   :  2.084                      Mean   :  465255                     \n",
       " 3rd Qu.:  2.000                      3rd Qu.:  715000                     \n",
       " Max.   :275.000                      Max.   :25100000                     \n",
       " NA's   :1459                         NA's   :14181                        \n",
       "    SALE_NUM           GBA           BLDG_NUM         STYLE       \n",
       " Min.   : 1.000   Min.   :    0   Min.   :1.000   Min.   : 0.000  \n",
       " 1st Qu.: 1.000   1st Qu.: 1188   1st Qu.:1.000   1st Qu.: 4.000  \n",
       " Median : 1.000   Median : 1488   Median :1.000   Median : 4.000  \n",
       " Mean   : 2.148   Mean   : 1710   Mean   :1.001   Mean   : 4.356  \n",
       " 3rd Qu.: 3.000   3rd Qu.: 1980   3rd Qu.:1.000   3rd Qu.: 4.000  \n",
       " Max.   :17.000   Max.   :45384   Max.   :5.000   Max.   :99.000  \n",
       "                                                  NA's   :1372    \n",
       "   STYLE_D              STRUCT         STRUCT_D             GRADE       \n",
       " Length:108403      Min.   : 0.000   Length:108403      Min.   : 0.000  \n",
       " Class :character   1st Qu.: 1.000   Class :character   1st Qu.: 3.000  \n",
       " Mode  :character   Median : 7.000   Mode  :character   Median : 4.000  \n",
       "                    Mean   : 5.013                      Mean   : 4.285  \n",
       "                    3rd Qu.: 7.000                      3rd Qu.: 5.000  \n",
       "                    Max.   :13.000                      Max.   :12.000  \n",
       "                    NA's   :1371                        NA's   :1371    \n",
       "   GRADE_D              CNDTN         CNDTN_D             EXTWALL     \n",
       " Length:108403      Min.   :0.000   Length:108403      Min.   : 0.00  \n",
       " Class :character   1st Qu.:3.000   Class :character   1st Qu.:14.00  \n",
       " Mode  :character   Median :4.000   Mode  :character   Median :14.00  \n",
       "                    Mean   :3.624                      Mean   :13.37  \n",
       "                    3rd Qu.:4.000                      3rd Qu.:14.00  \n",
       "                    Max.   :6.000                      Max.   :24.00  \n",
       "                    NA's   :1371                       NA's   :1371   \n",
       "  EXTWALL_D              ROOF           ROOF_D             INTWALL      \n",
       " Length:108403      Min.   : 0.000   Length:108403      Min.   : 0.000  \n",
       " Class :character   1st Qu.: 1.000   Class :character   1st Qu.: 6.000  \n",
       " Mode  :character   Median : 2.000   Mode  :character   Median : 6.000  \n",
       "                    Mean   : 3.966                      Mean   : 6.161  \n",
       "                    3rd Qu.: 6.000                      3rd Qu.: 6.000  \n",
       "                    Max.   :15.000                      Max.   :11.000  \n",
       "                    NA's   :1371                        NA's   :1371    \n",
       "  INTWALL_D            KITCHENS        FIREPLACES         USECODE      \n",
       " Length:108403      Min.   : 0.000   Min.   : 0.0000   Min.   :  0.00  \n",
       " Class :character   1st Qu.: 1.000   1st Qu.: 0.0000   1st Qu.: 11.00  \n",
       " Mode  :character   Median : 1.000   Median : 0.0000   Median : 12.00  \n",
       "                    Mean   : 1.226   Mean   : 0.6268   Mean   : 13.15  \n",
       "                    3rd Qu.: 1.000   3rd Qu.: 1.0000   3rd Qu.: 13.00  \n",
       "                    Max.   :44.000   Max.   :13.0000   Max.   :995.00  \n",
       "                    NA's   :1372     NA's   :1374                      \n",
       "    LANDAREA      GIS_LAST_MOD_DTTM     OBJECTID        ASSESSMENT_NBHD   \n",
       " Min.   :     0   Length:108403      Min.   :74407639   Length:108403     \n",
       " 1st Qu.:  1572   Class :character   1st Qu.:74543316   Class :character  \n",
       " Median :  2327   Mode  :character   Median :74570416   Mode  :character  \n",
       " Mean   :  3389                      Mean   :74570406                     \n",
       " 3rd Qu.:  4160                      3rd Qu.:74597516                     \n",
       " Max.   :942632                      Max.   :74624617                     \n",
       "                                                                          \n",
       "     WARD              LATITUDE       LONGITUDE     \n",
       " Length:108403      Min.   :38.82   Min.   :-77.11  \n",
       " Class :character   1st Qu.:38.89   1st Qu.:-77.04  \n",
       " Mode  :character   Median :38.92   Median :-77.01  \n",
       "                    Mean   :38.92   Mean   :-77.01  \n",
       "                    3rd Qu.:38.94   3rd Qu.:-76.98  \n",
       "                    Max.   :39.00   Max.   :-76.91  \n",
       "                    NA's   :2103    NA's   :2103    "
      ]
     },
     "metadata": {},
     "output_type": "display_data"
    },
    {
     "name": "stdout",
     "output_type": "stream",
     "text": [
      "'data.frame':\t108403 obs. of  43 variables:\n",
      " $ SSL              : chr  \"0150    0275\" \"0150    0276\" \"0150    0277\" \"0150    0278\" ...\n",
      " $ BATHRM           : int  1 1 1 2 1 1 2 1 1 1 ...\n",
      " $ HF_BATHRM        : int  1 0 0 1 1 1 1 1 1 1 ...\n",
      " $ HEAT             : int  7 7 13 7 7 7 7 7 7 7 ...\n",
      " $ HEAT_D           : chr  \"Warm Cool\" \"Warm Cool\" \"Hot Water Rad\" \"Warm Cool\" ...\n",
      " $ AC               : chr  \"Y\" \"Y\" \"N\" \"Y\" ...\n",
      " $ NUM_UNITS        : int  1 1 1 1 1 1 1 1 1 1 ...\n",
      " $ ROOMS            : int  6 6 6 6 6 6 6 6 6 6 ...\n",
      " $ BEDRM            : int  3 3 3 2 3 3 2 3 3 3 ...\n",
      " $ AYB              : int  1900 1900 1900 1900 1900 1910 1900 1900 1900 1900 ...\n",
      " $ YR_RMDL          : int  2004 NA NA 2016 NA NA 2001 NA 2003 2015 ...\n",
      " $ EYB              : int  1971 1961 1961 1971 1961 1968 1971 1971 1971 1961 ...\n",
      " $ STORIES          : num  2 2 2 2 2 2 2 2 2 2 ...\n",
      " $ SALEDATE         : chr  \"2013/07/22 00:00:00+00\" \"1900/01/01 00:00:00+00\" \"1996/02/12 00:00:00+00\" \"2022/04/06 00:00:00+00\" ...\n",
      " $ PRICE            : int  755000 NA 118000 1110000 0 251000 930388 606500 0 162000 ...\n",
      " $ QUALIFIED        : chr  \"Q\" \"U\" \"U\" \"Q\" ...\n",
      " $ SALE_NUM         : int  1 1 1 5 3 1 5 1 3 1 ...\n",
      " $ GBA              : int  1286 1286 1286 1304 1286 1286 1286 1286 1344 1286 ...\n",
      " $ BLDG_NUM         : int  1 1 1 1 1 1 1 1 1 1 ...\n",
      " $ STYLE            : int  4 4 4 4 4 4 4 4 4 4 ...\n",
      " $ STYLE_D          : chr  \"2 Story\" \"2 Story\" \"2 Story\" \"2 Story\" ...\n",
      " $ STRUCT           : int  7 7 7 7 7 7 7 7 7 7 ...\n",
      " $ STRUCT_D         : chr  \"Row Inside\" \"Row Inside\" \"Row Inside\" \"Row Inside\" ...\n",
      " $ GRADE            : int  4 4 4 4 4 4 4 4 4 4 ...\n",
      " $ GRADE_D          : chr  \"Above Average\" \"Above Average\" \"Above Average\" \"Above Average\" ...\n",
      " $ CNDTN            : int  4 3 3 4 3 4 3 3 4 3 ...\n",
      " $ CNDTN_D          : chr  \"Good\" \"Average\" \"Average\" \"Good\" ...\n",
      " $ EXTWALL          : int  14 14 14 14 14 14 14 14 14 14 ...\n",
      " $ EXTWALL_D        : chr  \"Common Brick\" \"Common Brick\" \"Common Brick\" \"Common Brick\" ...\n",
      " $ ROOF             : int  2 2 2 2 2 2 2 2 2 2 ...\n",
      " $ ROOF_D           : chr  \"Built Up\" \"Built Up\" \"Built Up\" \"Built Up\" ...\n",
      " $ INTWALL          : int  6 6 6 6 6 6 6 6 6 6 ...\n",
      " $ INTWALL_D        : chr  \"Hardwood\" \"Hardwood\" \"Hardwood\" \"Hardwood\" ...\n",
      " $ KITCHENS         : int  1 1 1 1 1 1 1 1 1 1 ...\n",
      " $ FIREPLACES       : int  0 0 0 1 1 1 1 1 0 1 ...\n",
      " $ USECODE          : int  11 11 11 11 11 11 11 11 11 11 ...\n",
      " $ LANDAREA         : int  960 960 960 960 960 960 960 960 960 960 ...\n",
      " $ GIS_LAST_MOD_DTTM: chr  \"2022/08/31 05:17:11+00\" \"2022/08/31 05:17:11+00\" \"2022/08/31 05:17:11+00\" \"2022/08/31 05:17:11+00\" ...\n",
      " $ OBJECTID         : int  74407639 74407640 74407641 74407642 74407643 74407644 74407645 74407646 74407647 74407648 ...\n",
      " $ ASSESSMENT_NBHD  : chr  \"Old City 2\" \"Old City 2\" \"Old City 2\" \"Old City 2\" ...\n",
      " $ WARD             : chr  \"Ward 1\" \"Ward 1\" \"Ward 1\" \"Ward 1\" ...\n",
      " $ LATITUDE         : num  38.9 38.9 38.9 38.9 38.9 ...\n",
      " $ LONGITUDE        : num  -77 -77 -77 -77 -77 ...\n"
     ]
    }
   ],
   "source": [
    "setwd(\"D:/Penn State/DAAN/DAAN 888 Analytics Design Implementation/Report\")  #set my working directory\n",
    "getwd()\n",
    "\n",
    "HOUSE.df <- read.csv(\"ResidentialSalesWithLocation_CSV.csv\", header = TRUE)  #import data into R\n",
    "\n",
    "######################### Verify the data ##########################\n",
    "head(HOUSE.df)   #Verify the first five rows of the dataframe\n",
    "\n",
    "tail(HOUSE.df)   #Verify the last five rows of the dataframe\n",
    "\n",
    "summary(HOUSE.df)   #To check the variables and counts\n",
    "\n",
    "str(HOUSE.df)   #To check the data structure of the loaded dataset\n",
    "####################################################################"
   ]
  },
  {
   "cell_type": "code",
   "execution_count": 2,
   "metadata": {},
   "outputs": [
    {
     "data": {
      "text/html": [
       "<table class=\"dataframe\">\n",
       "<caption>A data.frame: 6 × 2</caption>\n",
       "<thead>\n",
       "\t<tr><th></th><th scope=col>SALEDATE</th><th scope=col>PRICE</th></tr>\n",
       "\t<tr><th></th><th scope=col>&lt;chr&gt;</th><th scope=col>&lt;int&gt;</th></tr>\n",
       "</thead>\n",
       "<tbody>\n",
       "\t<tr><th scope=row>1</th><td>2013/07/22 00:00:00+00</td><td> 755000</td></tr>\n",
       "\t<tr><th scope=row>2</th><td>1900/01/01 00:00:00+00</td><td>     NA</td></tr>\n",
       "\t<tr><th scope=row>3</th><td>1996/02/12 00:00:00+00</td><td> 118000</td></tr>\n",
       "\t<tr><th scope=row>4</th><td>2022/04/06 00:00:00+00</td><td>1110000</td></tr>\n",
       "\t<tr><th scope=row>5</th><td>2017/03/24 00:00:00+00</td><td>      0</td></tr>\n",
       "\t<tr><th scope=row>6</th><td>2000/06/30 00:00:00+00</td><td> 251000</td></tr>\n",
       "</tbody>\n",
       "</table>\n"
      ],
      "text/latex": [
       "A data.frame: 6 × 2\n",
       "\\begin{tabular}{r|ll}\n",
       "  & SALEDATE & PRICE\\\\\n",
       "  & <chr> & <int>\\\\\n",
       "\\hline\n",
       "\t1 & 2013/07/22 00:00:00+00 &  755000\\\\\n",
       "\t2 & 1900/01/01 00:00:00+00 &      NA\\\\\n",
       "\t3 & 1996/02/12 00:00:00+00 &  118000\\\\\n",
       "\t4 & 2022/04/06 00:00:00+00 & 1110000\\\\\n",
       "\t5 & 2017/03/24 00:00:00+00 &       0\\\\\n",
       "\t6 & 2000/06/30 00:00:00+00 &  251000\\\\\n",
       "\\end{tabular}\n"
      ],
      "text/markdown": [
       "\n",
       "A data.frame: 6 × 2\n",
       "\n",
       "| <!--/--> | SALEDATE &lt;chr&gt; | PRICE &lt;int&gt; |\n",
       "|---|---|---|\n",
       "| 1 | 2013/07/22 00:00:00+00 |  755000 |\n",
       "| 2 | 1900/01/01 00:00:00+00 |      NA |\n",
       "| 3 | 1996/02/12 00:00:00+00 |  118000 |\n",
       "| 4 | 2022/04/06 00:00:00+00 | 1110000 |\n",
       "| 5 | 2017/03/24 00:00:00+00 |       0 |\n",
       "| 6 | 2000/06/30 00:00:00+00 |  251000 |\n",
       "\n"
      ],
      "text/plain": [
       "  SALEDATE               PRICE  \n",
       "1 2013/07/22 00:00:00+00  755000\n",
       "2 1900/01/01 00:00:00+00      NA\n",
       "3 1996/02/12 00:00:00+00  118000\n",
       "4 2022/04/06 00:00:00+00 1110000\n",
       "5 2017/03/24 00:00:00+00       0\n",
       "6 2000/06/30 00:00:00+00  251000"
      ]
     },
     "metadata": {},
     "output_type": "display_data"
    },
    {
     "data": {
      "text/plain": [
       "   SALEDATE             PRICE         \n",
       " Length:108403      Min.   :       0  \n",
       " Class :character   1st Qu.:       0  \n",
       " Mode  :character   Median :  294000  \n",
       "                    Mean   :  465255  \n",
       "                    3rd Qu.:  715000  \n",
       "                    Max.   :25100000  \n",
       "                    NA's   :14181     "
      ]
     },
     "metadata": {},
     "output_type": "display_data"
    },
    {
     "name": "stdout",
     "output_type": "stream",
     "text": [
      "'data.frame':\t108403 obs. of  2 variables:\n",
      " $ SALEDATE: chr  \"2013/07/22 00:00:00+00\" \"1900/01/01 00:00:00+00\" \"1996/02/12 00:00:00+00\" \"2022/04/06 00:00:00+00\" ...\n",
      " $ PRICE   : int  755000 NA 118000 1110000 0 251000 930388 606500 0 162000 ...\n"
     ]
    }
   ],
   "source": [
    "################################################################################\n",
    "# Create a new data set for the total population\n",
    "# Only two features, \"SALEDATE\" and \"PRICE\"\n",
    "\n",
    "HOUSE_TS1.df <- subset(HOUSE.df, select = c(SALEDATE, PRICE))\n",
    "\n",
    "head(HOUSE_TS1.df)     #Verify the first five rows of the dataframe\n",
    "\n",
    "summary(HOUSE_TS1.df)     #To check the variables and counts\n",
    "\n",
    "str(HOUSE_TS1.df)   #To check the data structure of the loaded dataset\n",
    "################################################################################"
   ]
  },
  {
   "cell_type": "code",
   "execution_count": 3,
   "metadata": {},
   "outputs": [
    {
     "data": {
      "text/plain": [
       "   SALEDATE             PRICE         \n",
       " Length:62008       Min.   :       1  \n",
       " Class :character   1st Qu.:  300000  \n",
       " Mode  :character   Median :  557985  \n",
       "                    Mean   :  706961  \n",
       "                    3rd Qu.:  894000  \n",
       "                    Max.   :25100000  "
      ]
     },
     "metadata": {},
     "output_type": "display_data"
    }
   ],
   "source": [
    "################################################################################\n",
    "# Remove 0s and NA's from the \"PRICE\" variable\n",
    "HOUSE_TS1.df[HOUSE_TS1.df==0] <- NA     # Set all 0s to NA\n",
    "\n",
    "HOUSE_TS1.df <- na.omit(HOUSE_TS1.df)     # Removes all NA's from the dataframe\n",
    "\n",
    "summary(HOUSE_TS1.df)     #To check the variables and counts\n",
    "################################################################################"
   ]
  },
  {
   "cell_type": "code",
   "execution_count": 4,
   "metadata": {},
   "outputs": [
    {
     "name": "stderr",
     "output_type": "stream",
     "text": [
      "Installing package into 'C:/Users/bates/AppData/Local/R/win-library/4.2'\n",
      "(as 'lib' is unspecified)\n",
      "\n"
     ]
    },
    {
     "name": "stdout",
     "output_type": "stream",
     "text": [
      "package 'ggplot2' successfully unpacked and MD5 sums checked\n",
      "\n",
      "The downloaded binary packages are in\n",
      "\tC:\\Users\\bates\\AppData\\Local\\Temp\\RtmpeeD5B5\\downloaded_packages\n"
     ]
    },
    {
     "name": "stderr",
     "output_type": "stream",
     "text": [
      "Installing package into 'C:/Users/bates/AppData/Local/R/win-library/4.2'\n",
      "(as 'lib' is unspecified)\n",
      "\n"
     ]
    },
    {
     "name": "stdout",
     "output_type": "stream",
     "text": [
      "package 'dplyr' successfully unpacked and MD5 sums checked\n",
      "\n",
      "The downloaded binary packages are in\n",
      "\tC:\\Users\\bates\\AppData\\Local\\Temp\\RtmpeeD5B5\\downloaded_packages\n"
     ]
    },
    {
     "name": "stderr",
     "output_type": "stream",
     "text": [
      "\n",
      "Attaching package: 'dplyr'\n",
      "\n",
      "\n",
      "The following objects are masked from 'package:stats':\n",
      "\n",
      "    filter, lag\n",
      "\n",
      "\n",
      "The following objects are masked from 'package:base':\n",
      "\n",
      "    intersect, setdiff, setequal, union\n",
      "\n",
      "\n"
     ]
    },
    {
     "data": {
      "image/png": "[encoded data removed]",
      "text/plain": [
       "plot without title"
      ]
     },
     "metadata": {
      "image/png": {
       "height": 420,
       "width": 420
      }
     },
     "output_type": "display_data"
    }
   ],
   "source": [
    "################################################################################\n",
    "# Boxplot of the \"PRICE\" variable\n",
    "# Install packages\n",
    "install.packages(\"ggplot2\")\n",
    "install.packages(\"dplyr\")\n",
    "library(\"ggplot2\")\n",
    "library(\"dplyr\")\n",
    "\n",
    "# Create boxplot of the \"PRICE\" variable \n",
    "ggplot(data = HOUSE_TS1.df, aes(x = \"\", y = PRICE)) + \n",
    "  geom_boxplot() +\n",
    "  coord_cartesian(ylim = c(0, 26000000)) # Set the y axis scale\n",
    "################################################################################"
   ]
  },
  {
   "cell_type": "code",
   "execution_count": 5,
   "metadata": {},
   "outputs": [
    {
     "name": "stderr",
     "output_type": "stream",
     "text": [
      "Installing package into 'C:/Users/bates/AppData/Local/R/win-library/4.2'\n",
      "(as 'lib' is unspecified)\n",
      "\n"
     ]
    },
    {
     "name": "stdout",
     "output_type": "stream",
     "text": [
      "package 'lubridate' successfully unpacked and MD5 sums checked\n",
      "\n",
      "The downloaded binary packages are in\n",
      "\tC:\\Users\\bates\\AppData\\Local\\Temp\\RtmpeeD5B5\\downloaded_packages\n"
     ]
    },
    {
     "name": "stderr",
     "output_type": "stream",
     "text": [
      "Installing package into 'C:/Users/bates/AppData/Local/R/win-library/4.2'\n",
      "(as 'lib' is unspecified)\n",
      "\n"
     ]
    },
    {
     "name": "stdout",
     "output_type": "stream",
     "text": [
      "package 'linelist' successfully unpacked and MD5 sums checked\n",
      "\n",
      "The downloaded binary packages are in\n",
      "\tC:\\Users\\bates\\AppData\\Local\\Temp\\RtmpeeD5B5\\downloaded_packages\n"
     ]
    },
    {
     "name": "stderr",
     "output_type": "stream",
     "text": [
      "Installing package into 'C:/Users/bates/AppData/Local/R/win-library/4.2'\n",
      "(as 'lib' is unspecified)\n",
      "\n"
     ]
    },
    {
     "name": "stdout",
     "output_type": "stream",
     "text": [
      "package 'aweek' successfully unpacked and MD5 sums checked\n",
      "\n",
      "The downloaded binary packages are in\n",
      "\tC:\\Users\\bates\\AppData\\Local\\Temp\\RtmpeeD5B5\\downloaded_packages\n"
     ]
    },
    {
     "name": "stderr",
     "output_type": "stream",
     "text": [
      "Installing package into 'C:/Users/bates/AppData/Local/R/win-library/4.2'\n",
      "(as 'lib' is unspecified)\n",
      "\n"
     ]
    },
    {
     "name": "stdout",
     "output_type": "stream",
     "text": [
      "package 'zoo' successfully unpacked and MD5 sums checked\n",
      "\n",
      "The downloaded binary packages are in\n",
      "\tC:\\Users\\bates\\AppData\\Local\\Temp\\RtmpeeD5B5\\downloaded_packages\n"
     ]
    },
    {
     "name": "stderr",
     "output_type": "stream",
     "text": [
      "Installing package into 'C:/Users/bates/AppData/Local/R/win-library/4.2'\n",
      "(as 'lib' is unspecified)\n",
      "\n"
     ]
    },
    {
     "name": "stdout",
     "output_type": "stream",
     "text": [
      "package 'tidyverse' successfully unpacked and MD5 sums checked\n",
      "\n",
      "The downloaded binary packages are in\n",
      "\tC:\\Users\\bates\\AppData\\Local\\Temp\\RtmpeeD5B5\\downloaded_packages\n"
     ]
    },
    {
     "name": "stderr",
     "output_type": "stream",
     "text": [
      "Installing package into 'C:/Users/bates/AppData/Local/R/win-library/4.2'\n",
      "(as 'lib' is unspecified)\n",
      "\n"
     ]
    },
    {
     "name": "stdout",
     "output_type": "stream",
     "text": [
      "package 'rio' successfully unpacked and MD5 sums checked\n",
      "\n",
      "The downloaded binary packages are in\n",
      "\tC:\\Users\\bates\\AppData\\Local\\Temp\\RtmpeeD5B5\\downloaded_packages\n"
     ]
    },
    {
     "name": "stderr",
     "output_type": "stream",
     "text": [
      "\n",
      "Attaching package: 'lubridate'\n",
      "\n",
      "\n",
      "The following objects are masked from 'package:base':\n",
      "\n",
      "    date, intersect, setdiff, union\n",
      "\n",
      "\n",
      "\n",
      "Attaching package: 'zoo'\n",
      "\n",
      "\n",
      "The following objects are masked from 'package:base':\n",
      "\n",
      "    as.Date, as.Date.numeric\n",
      "\n",
      "\n",
      "── \u001b[1mAttaching packages\u001b[22m ─────────────────────────────────────────────────────────────────────────────── tidyverse 1.3.2 ──\n",
      "\u001b[32m✔\u001b[39m \u001b[34mtibble \u001b[39m 3.1.8     \u001b[32m✔\u001b[39m \u001b[34mpurrr  \u001b[39m 0.3.4\n",
      "\u001b[32m✔\u001b[39m \u001b[34mtidyr  \u001b[39m 1.2.1     \u001b[32m✔\u001b[39m \u001b[34mstringr\u001b[39m 1.4.1\n",
      "\u001b[32m✔\u001b[39m \u001b[34mreadr  \u001b[39m 2.1.2     \u001b[32m✔\u001b[39m \u001b[34mforcats\u001b[39m 0.5.2\n",
      "── \u001b[1mConflicts\u001b[22m ────────────────────────────────────────────────────────────────────────────────── tidyverse_conflicts() ──\n",
      "\u001b[31m✖\u001b[39m \u001b[34mlubridate\u001b[39m::\u001b[32mas.difftime()\u001b[39m masks \u001b[34mbase\u001b[39m::as.difftime()\n",
      "\u001b[31m✖\u001b[39m \u001b[34mlubridate\u001b[39m::\u001b[32mdate()\u001b[39m        masks \u001b[34mbase\u001b[39m::date()\n",
      "\u001b[31m✖\u001b[39m \u001b[34mdplyr\u001b[39m::\u001b[32mfilter()\u001b[39m          masks \u001b[34mstats\u001b[39m::filter()\n",
      "\u001b[31m✖\u001b[39m \u001b[34mlubridate\u001b[39m::\u001b[32mintersect()\u001b[39m   masks \u001b[34mbase\u001b[39m::intersect()\n",
      "\u001b[31m✖\u001b[39m \u001b[34mdplyr\u001b[39m::\u001b[32mlag()\u001b[39m             masks \u001b[34mstats\u001b[39m::lag()\n",
      "\u001b[31m✖\u001b[39m \u001b[34mlubridate\u001b[39m::\u001b[32msetdiff()\u001b[39m     masks \u001b[34mbase\u001b[39m::setdiff()\n",
      "\u001b[31m✖\u001b[39m \u001b[34mlubridate\u001b[39m::\u001b[32munion()\u001b[39m       masks \u001b[34mbase\u001b[39m::union()\n"
     ]
    }
   ],
   "source": [
    "################################################################################\n",
    "# Install packages to work with dates\n",
    "install.packages(\"lubridate\")  # general package for handling and converting dates)\n",
    "install.packages(\"linelist\")   # has function to \"guess\" messy dates\n",
    "install.packages(\"aweek\")      # another option for converting dates to weeks, and weeks to dates\n",
    "install.packages(\"zoo\")        # additional date/time functions\n",
    "install.packages(\"tidyverse\")  # data management and visualization  \n",
    "install.packages(\"rio\")        # data import/export\n",
    "library(\"lubridate\")  \n",
    "library(\"linelist\")   \n",
    "library(\"aweek\")      \n",
    "library(\"zoo\")        \n",
    "library(\"tidyverse\")    \n",
    "library(\"rio\")   \n",
    "################################################################################"
   ]
  },
  {
   "cell_type": "code",
   "execution_count": 6,
   "metadata": {},
   "outputs": [
    {
     "data": {
      "text/html": [
       "'character'"
      ],
      "text/latex": [
       "'character'"
      ],
      "text/markdown": [
       "'character'"
      ],
      "text/plain": [
       "[1] \"character\""
      ]
     },
     "metadata": {},
     "output_type": "display_data"
    },
    {
     "data": {
      "text/html": [
       "<table class=\"dataframe\">\n",
       "<caption>A data.frame: 6 × 2</caption>\n",
       "<thead>\n",
       "\t<tr><th></th><th scope=col>SALEDATE</th><th scope=col>PRICE</th></tr>\n",
       "\t<tr><th></th><th scope=col>&lt;date&gt;</th><th scope=col>&lt;int&gt;</th></tr>\n",
       "</thead>\n",
       "<tbody>\n",
       "\t<tr><th scope=row>1</th><td>2013-07-22</td><td> 755000</td></tr>\n",
       "\t<tr><th scope=row>3</th><td>1996-02-12</td><td> 118000</td></tr>\n",
       "\t<tr><th scope=row>4</th><td>2022-04-06</td><td>1110000</td></tr>\n",
       "\t<tr><th scope=row>6</th><td>2000-06-30</td><td> 251000</td></tr>\n",
       "\t<tr><th scope=row>7</th><td>2021-11-22</td><td> 930388</td></tr>\n",
       "\t<tr><th scope=row>8</th><td>2006-02-06</td><td> 606500</td></tr>\n",
       "</tbody>\n",
       "</table>\n"
      ],
      "text/latex": [
       "A data.frame: 6 × 2\n",
       "\\begin{tabular}{r|ll}\n",
       "  & SALEDATE & PRICE\\\\\n",
       "  & <date> & <int>\\\\\n",
       "\\hline\n",
       "\t1 & 2013-07-22 &  755000\\\\\n",
       "\t3 & 1996-02-12 &  118000\\\\\n",
       "\t4 & 2022-04-06 & 1110000\\\\\n",
       "\t6 & 2000-06-30 &  251000\\\\\n",
       "\t7 & 2021-11-22 &  930388\\\\\n",
       "\t8 & 2006-02-06 &  606500\\\\\n",
       "\\end{tabular}\n"
      ],
      "text/markdown": [
       "\n",
       "A data.frame: 6 × 2\n",
       "\n",
       "| <!--/--> | SALEDATE &lt;date&gt; | PRICE &lt;int&gt; |\n",
       "|---|---|---|\n",
       "| 1 | 2013-07-22 |  755000 |\n",
       "| 3 | 1996-02-12 |  118000 |\n",
       "| 4 | 2022-04-06 | 1110000 |\n",
       "| 6 | 2000-06-30 |  251000 |\n",
       "| 7 | 2021-11-22 |  930388 |\n",
       "| 8 | 2006-02-06 |  606500 |\n",
       "\n"
      ],
      "text/plain": [
       "  SALEDATE   PRICE  \n",
       "1 2013-07-22  755000\n",
       "3 1996-02-12  118000\n",
       "4 2022-04-06 1110000\n",
       "6 2000-06-30  251000\n",
       "7 2021-11-22  930388\n",
       "8 2006-02-06  606500"
      ]
     },
     "metadata": {},
     "output_type": "display_data"
    },
    {
     "data": {
      "text/html": [
       "'Date'"
      ],
      "text/latex": [
       "'Date'"
      ],
      "text/markdown": [
       "'Date'"
      ],
      "text/plain": [
       "[1] \"Date\""
      ]
     },
     "metadata": {},
     "output_type": "display_data"
    },
    {
     "data": {
      "text/html": [
       "<table class=\"dataframe\">\n",
       "<caption>A data.frame: 6 × 2</caption>\n",
       "<thead>\n",
       "\t<tr><th></th><th scope=col>SALEDATE</th><th scope=col>PRICE</th></tr>\n",
       "\t<tr><th></th><th scope=col>&lt;chr&gt;</th><th scope=col>&lt;int&gt;</th></tr>\n",
       "</thead>\n",
       "<tbody>\n",
       "\t<tr><th scope=row>1</th><td>2013-07</td><td> 755000</td></tr>\n",
       "\t<tr><th scope=row>3</th><td>1996-02</td><td> 118000</td></tr>\n",
       "\t<tr><th scope=row>4</th><td>2022-04</td><td>1110000</td></tr>\n",
       "\t<tr><th scope=row>6</th><td>2000-06</td><td> 251000</td></tr>\n",
       "\t<tr><th scope=row>7</th><td>2021-11</td><td> 930388</td></tr>\n",
       "\t<tr><th scope=row>8</th><td>2006-02</td><td> 606500</td></tr>\n",
       "</tbody>\n",
       "</table>\n"
      ],
      "text/latex": [
       "A data.frame: 6 × 2\n",
       "\\begin{tabular}{r|ll}\n",
       "  & SALEDATE & PRICE\\\\\n",
       "  & <chr> & <int>\\\\\n",
       "\\hline\n",
       "\t1 & 2013-07 &  755000\\\\\n",
       "\t3 & 1996-02 &  118000\\\\\n",
       "\t4 & 2022-04 & 1110000\\\\\n",
       "\t6 & 2000-06 &  251000\\\\\n",
       "\t7 & 2021-11 &  930388\\\\\n",
       "\t8 & 2006-02 &  606500\\\\\n",
       "\\end{tabular}\n"
      ],
      "text/markdown": [
       "\n",
       "A data.frame: 6 × 2\n",
       "\n",
       "| <!--/--> | SALEDATE &lt;chr&gt; | PRICE &lt;int&gt; |\n",
       "|---|---|---|\n",
       "| 1 | 2013-07 |  755000 |\n",
       "| 3 | 1996-02 |  118000 |\n",
       "| 4 | 2022-04 | 1110000 |\n",
       "| 6 | 2000-06 |  251000 |\n",
       "| 7 | 2021-11 |  930388 |\n",
       "| 8 | 2006-02 |  606500 |\n",
       "\n"
      ],
      "text/plain": [
       "  SALEDATE PRICE  \n",
       "1 2013-07   755000\n",
       "3 1996-02   118000\n",
       "4 2022-04  1110000\n",
       "6 2000-06   251000\n",
       "7 2021-11   930388\n",
       "8 2006-02   606500"
      ]
     },
     "metadata": {},
     "output_type": "display_data"
    }
   ],
   "source": [
    "################################################################################\n",
    "# Clean up Date attribute\n",
    "class(HOUSE_TS1.df$SALEDATE)   #Check the class of the \"SALEDATE\" field\n",
    "\n",
    "# Because \"SALEDATE\" is class character, we must convert it to class Date\n",
    "# Tell R how to identify the date parts of the \"SALEDATE\" field\n",
    "# The format = argument specifies the date components and \n",
    "# drops the time component in the \"SALEDATE'\n",
    "HOUSE_TS1.df$SALEDATE <- as.Date(HOUSE_TS1.df$SALEDATE, format = \"%Y/%m/%d\")\n",
    "\n",
    "head(HOUSE_TS1.df)   # Verify the time component was dropped\n",
    "\n",
    "class(HOUSE_TS1.df$SALEDATE)   # Check the class of the \"SALEDATE\" field \n",
    "\n",
    "# Drop the 'day' from the date\n",
    "HOUSE_TS2.df <- HOUSE_TS1.df\n",
    "HOUSE_TS2.df$SALEDATE <- format(HOUSE_TS2.df$SALEDATE, format = \"%Y-%m\")\n",
    "\n",
    "head(HOUSE_TS2.df)   # Verify the day component was dropped\n",
    "################################################################################"
   ]
  },
  {
   "cell_type": "code",
   "execution_count": 7,
   "metadata": {},
   "outputs": [
    {
     "data": {
      "text/plain": [
       "   SALEDATE             PRICE         \n",
       " Length:62008       Min.   :       1  \n",
       " Class :character   1st Qu.:  300000  \n",
       " Mode  :character   Median :  557985  \n",
       "                    Mean   :  706961  \n",
       "                    3rd Qu.:  894000  \n",
       "                    Max.   :25100000  "
      ]
     },
     "metadata": {},
     "output_type": "display_data"
    },
    {
     "data": {
      "text/plain": [
       "   SALEDATE             PRICE        \n",
       " Length:385         Min.   :  40000  \n",
       " Class :character   1st Qu.: 245945  \n",
       " Mode  :character   Median : 537826  \n",
       "                    Mean   : 527439  \n",
       "                    3rd Qu.: 736351  \n",
       "                    Max.   :2650000  "
      ]
     },
     "metadata": {},
     "output_type": "display_data"
    },
    {
     "data": {
      "text/html": [
       "<table class=\"dataframe\">\n",
       "<caption>A data.frame: 20 × 2</caption>\n",
       "<thead>\n",
       "\t<tr><th></th><th scope=col>SALEDATE</th><th scope=col>PRICE</th></tr>\n",
       "\t<tr><th></th><th scope=col>&lt;chr&gt;</th><th scope=col>&lt;dbl&gt;</th></tr>\n",
       "</thead>\n",
       "<tbody>\n",
       "\t<tr><th scope=row>1</th><td>1900-01</td><td>  48000.0</td></tr>\n",
       "\t<tr><th scope=row>2</th><td>1979-07</td><td>  99500.0</td></tr>\n",
       "\t<tr><th scope=row>3</th><td>1982-09</td><td>  40000.0</td></tr>\n",
       "\t<tr><th scope=row>4</th><td>1984-07</td><td>  40000.0</td></tr>\n",
       "\t<tr><th scope=row>5</th><td>1986-05</td><td>  87500.0</td></tr>\n",
       "\t<tr><th scope=row>6</th><td>1986-08</td><td> 850000.0</td></tr>\n",
       "\t<tr><th scope=row>7</th><td>1987-06</td><td> 535000.0</td></tr>\n",
       "\t<tr><th scope=row>8</th><td>1987-09</td><td> 785000.0</td></tr>\n",
       "\t<tr><th scope=row>9</th><td>1988-08</td><td> 322000.0</td></tr>\n",
       "\t<tr><th scope=row>10</th><td>1988-12</td><td> 140000.0</td></tr>\n",
       "\t<tr><th scope=row>11</th><td>1989-04</td><td> 170000.0</td></tr>\n",
       "\t<tr><th scope=row>12</th><td>1990-09</td><td> 110000.0</td></tr>\n",
       "\t<tr><th scope=row>13</th><td>1990-12</td><td> 127000.0</td></tr>\n",
       "\t<tr><th scope=row>14</th><td>1991-01</td><td> 103000.0</td></tr>\n",
       "\t<tr><th scope=row>15</th><td>1991-03</td><td> 189900.0</td></tr>\n",
       "\t<tr><th scope=row>16</th><td>1991-08</td><td>2650000.0</td></tr>\n",
       "\t<tr><th scope=row>17</th><td>1991-11</td><td> 175000.0</td></tr>\n",
       "\t<tr><th scope=row>18</th><td>1992-01</td><td> 183729.7</td></tr>\n",
       "\t<tr><th scope=row>19</th><td>1992-02</td><td> 243833.3</td></tr>\n",
       "\t<tr><th scope=row>20</th><td>1992-03</td><td> 246183.4</td></tr>\n",
       "</tbody>\n",
       "</table>\n"
      ],
      "text/latex": [
       "A data.frame: 20 × 2\n",
       "\\begin{tabular}{r|ll}\n",
       "  & SALEDATE & PRICE\\\\\n",
       "  & <chr> & <dbl>\\\\\n",
       "\\hline\n",
       "\t1 & 1900-01 &   48000.0\\\\\n",
       "\t2 & 1979-07 &   99500.0\\\\\n",
       "\t3 & 1982-09 &   40000.0\\\\\n",
       "\t4 & 1984-07 &   40000.0\\\\\n",
       "\t5 & 1986-05 &   87500.0\\\\\n",
       "\t6 & 1986-08 &  850000.0\\\\\n",
       "\t7 & 1987-06 &  535000.0\\\\\n",
       "\t8 & 1987-09 &  785000.0\\\\\n",
       "\t9 & 1988-08 &  322000.0\\\\\n",
       "\t10 & 1988-12 &  140000.0\\\\\n",
       "\t11 & 1989-04 &  170000.0\\\\\n",
       "\t12 & 1990-09 &  110000.0\\\\\n",
       "\t13 & 1990-12 &  127000.0\\\\\n",
       "\t14 & 1991-01 &  103000.0\\\\\n",
       "\t15 & 1991-03 &  189900.0\\\\\n",
       "\t16 & 1991-08 & 2650000.0\\\\\n",
       "\t17 & 1991-11 &  175000.0\\\\\n",
       "\t18 & 1992-01 &  183729.7\\\\\n",
       "\t19 & 1992-02 &  243833.3\\\\\n",
       "\t20 & 1992-03 &  246183.4\\\\\n",
       "\\end{tabular}\n"
      ],
      "text/markdown": [
       "\n",
       "A data.frame: 20 × 2\n",
       "\n",
       "| <!--/--> | SALEDATE &lt;chr&gt; | PRICE &lt;dbl&gt; |\n",
       "|---|---|---|\n",
       "| 1 | 1900-01 |   48000.0 |\n",
       "| 2 | 1979-07 |   99500.0 |\n",
       "| 3 | 1982-09 |   40000.0 |\n",
       "| 4 | 1984-07 |   40000.0 |\n",
       "| 5 | 1986-05 |   87500.0 |\n",
       "| 6 | 1986-08 |  850000.0 |\n",
       "| 7 | 1987-06 |  535000.0 |\n",
       "| 8 | 1987-09 |  785000.0 |\n",
       "| 9 | 1988-08 |  322000.0 |\n",
       "| 10 | 1988-12 |  140000.0 |\n",
       "| 11 | 1989-04 |  170000.0 |\n",
       "| 12 | 1990-09 |  110000.0 |\n",
       "| 13 | 1990-12 |  127000.0 |\n",
       "| 14 | 1991-01 |  103000.0 |\n",
       "| 15 | 1991-03 |  189900.0 |\n",
       "| 16 | 1991-08 | 2650000.0 |\n",
       "| 17 | 1991-11 |  175000.0 |\n",
       "| 18 | 1992-01 |  183729.7 |\n",
       "| 19 | 1992-02 |  243833.3 |\n",
       "| 20 | 1992-03 |  246183.4 |\n",
       "\n"
      ],
      "text/plain": [
       "   SALEDATE PRICE    \n",
       "1  1900-01    48000.0\n",
       "2  1979-07    99500.0\n",
       "3  1982-09    40000.0\n",
       "4  1984-07    40000.0\n",
       "5  1986-05    87500.0\n",
       "6  1986-08   850000.0\n",
       "7  1987-06   535000.0\n",
       "8  1987-09   785000.0\n",
       "9  1988-08   322000.0\n",
       "10 1988-12   140000.0\n",
       "11 1989-04   170000.0\n",
       "12 1990-09   110000.0\n",
       "13 1990-12   127000.0\n",
       "14 1991-01   103000.0\n",
       "15 1991-03   189900.0\n",
       "16 1991-08  2650000.0\n",
       "17 1991-11   175000.0\n",
       "18 1992-01   183729.7\n",
       "19 1992-02   243833.3\n",
       "20 1992-03   246183.4"
      ]
     },
     "metadata": {},
     "output_type": "display_data"
    },
    {
     "data": {
      "text/html": [
       "<table class=\"dataframe\">\n",
       "<caption>A data.frame: 20 × 2</caption>\n",
       "<thead>\n",
       "\t<tr><th></th><th scope=col>SALEDATE</th><th scope=col>PRICE</th></tr>\n",
       "\t<tr><th></th><th scope=col>&lt;chr&gt;</th><th scope=col>&lt;dbl&gt;</th></tr>\n",
       "</thead>\n",
       "<tbody>\n",
       "\t<tr><th scope=row>366</th><td>2021-01</td><td> 991249.8</td></tr>\n",
       "\t<tr><th scope=row>367</th><td>2021-02</td><td> 960506.2</td></tr>\n",
       "\t<tr><th scope=row>368</th><td>2021-03</td><td> 932663.5</td></tr>\n",
       "\t<tr><th scope=row>369</th><td>2021-04</td><td>1019248.6</td></tr>\n",
       "\t<tr><th scope=row>370</th><td>2021-05</td><td>1114840.0</td></tr>\n",
       "\t<tr><th scope=row>371</th><td>2021-06</td><td>1164707.6</td></tr>\n",
       "\t<tr><th scope=row>372</th><td>2021-07</td><td>1209038.3</td></tr>\n",
       "\t<tr><th scope=row>373</th><td>2021-08</td><td>1044902.5</td></tr>\n",
       "\t<tr><th scope=row>374</th><td>2021-09</td><td> 964044.0</td></tr>\n",
       "\t<tr><th scope=row>375</th><td>2021-10</td><td>1049929.4</td></tr>\n",
       "\t<tr><th scope=row>376</th><td>2021-11</td><td>1071633.6</td></tr>\n",
       "\t<tr><th scope=row>377</th><td>2021-12</td><td>1037921.5</td></tr>\n",
       "\t<tr><th scope=row>378</th><td>2022-01</td><td> 988845.2</td></tr>\n",
       "\t<tr><th scope=row>379</th><td>2022-02</td><td> 961839.7</td></tr>\n",
       "\t<tr><th scope=row>380</th><td>2022-03</td><td>1088226.9</td></tr>\n",
       "\t<tr><th scope=row>381</th><td>2022-04</td><td>1134815.5</td></tr>\n",
       "\t<tr><th scope=row>382</th><td>2022-05</td><td>1309016.5</td></tr>\n",
       "\t<tr><th scope=row>383</th><td>2022-06</td><td>1145348.6</td></tr>\n",
       "\t<tr><th scope=row>384</th><td>2022-07</td><td>1057256.7</td></tr>\n",
       "\t<tr><th scope=row>385</th><td>2022-08</td><td>1138907.9</td></tr>\n",
       "</tbody>\n",
       "</table>\n"
      ],
      "text/latex": [
       "A data.frame: 20 × 2\n",
       "\\begin{tabular}{r|ll}\n",
       "  & SALEDATE & PRICE\\\\\n",
       "  & <chr> & <dbl>\\\\\n",
       "\\hline\n",
       "\t366 & 2021-01 &  991249.8\\\\\n",
       "\t367 & 2021-02 &  960506.2\\\\\n",
       "\t368 & 2021-03 &  932663.5\\\\\n",
       "\t369 & 2021-04 & 1019248.6\\\\\n",
       "\t370 & 2021-05 & 1114840.0\\\\\n",
       "\t371 & 2021-06 & 1164707.6\\\\\n",
       "\t372 & 2021-07 & 1209038.3\\\\\n",
       "\t373 & 2021-08 & 1044902.5\\\\\n",
       "\t374 & 2021-09 &  964044.0\\\\\n",
       "\t375 & 2021-10 & 1049929.4\\\\\n",
       "\t376 & 2021-11 & 1071633.6\\\\\n",
       "\t377 & 2021-12 & 1037921.5\\\\\n",
       "\t378 & 2022-01 &  988845.2\\\\\n",
       "\t379 & 2022-02 &  961839.7\\\\\n",
       "\t380 & 2022-03 & 1088226.9\\\\\n",
       "\t381 & 2022-04 & 1134815.5\\\\\n",
       "\t382 & 2022-05 & 1309016.5\\\\\n",
       "\t383 & 2022-06 & 1145348.6\\\\\n",
       "\t384 & 2022-07 & 1057256.7\\\\\n",
       "\t385 & 2022-08 & 1138907.9\\\\\n",
       "\\end{tabular}\n"
      ],
      "text/markdown": [
       "\n",
       "A data.frame: 20 × 2\n",
       "\n",
       "| <!--/--> | SALEDATE &lt;chr&gt; | PRICE &lt;dbl&gt; |\n",
       "|---|---|---|\n",
       "| 366 | 2021-01 |  991249.8 |\n",
       "| 367 | 2021-02 |  960506.2 |\n",
       "| 368 | 2021-03 |  932663.5 |\n",
       "| 369 | 2021-04 | 1019248.6 |\n",
       "| 370 | 2021-05 | 1114840.0 |\n",
       "| 371 | 2021-06 | 1164707.6 |\n",
       "| 372 | 2021-07 | 1209038.3 |\n",
       "| 373 | 2021-08 | 1044902.5 |\n",
       "| 374 | 2021-09 |  964044.0 |\n",
       "| 375 | 2021-10 | 1049929.4 |\n",
       "| 376 | 2021-11 | 1071633.6 |\n",
       "| 377 | 2021-12 | 1037921.5 |\n",
       "| 378 | 2022-01 |  988845.2 |\n",
       "| 379 | 2022-02 |  961839.7 |\n",
       "| 380 | 2022-03 | 1088226.9 |\n",
       "| 381 | 2022-04 | 1134815.5 |\n",
       "| 382 | 2022-05 | 1309016.5 |\n",
       "| 383 | 2022-06 | 1145348.6 |\n",
       "| 384 | 2022-07 | 1057256.7 |\n",
       "| 385 | 2022-08 | 1138907.9 |\n",
       "\n"
      ],
      "text/plain": [
       "    SALEDATE PRICE    \n",
       "366 2021-01   991249.8\n",
       "367 2021-02   960506.2\n",
       "368 2021-03   932663.5\n",
       "369 2021-04  1019248.6\n",
       "370 2021-05  1114840.0\n",
       "371 2021-06  1164707.6\n",
       "372 2021-07  1209038.3\n",
       "373 2021-08  1044902.5\n",
       "374 2021-09   964044.0\n",
       "375 2021-10  1049929.4\n",
       "376 2021-11  1071633.6\n",
       "377 2021-12  1037921.5\n",
       "378 2022-01   988845.2\n",
       "379 2022-02   961839.7\n",
       "380 2022-03  1088226.9\n",
       "381 2022-04  1134815.5\n",
       "382 2022-05  1309016.5\n",
       "383 2022-06  1145348.6\n",
       "384 2022-07  1057256.7\n",
       "385 2022-08  1138907.9"
      ]
     },
     "metadata": {},
     "output_type": "display_data"
    },
    {
     "data": {
      "text/plain": [
       "   SALEDATE             PRICE        \n",
       " Length:151         Min.   : 465351  \n",
       " Class :character   1st Qu.: 665168  \n",
       " Mode  :character   Median : 791885  \n",
       "                    Mean   : 793526  \n",
       "                    3rd Qu.: 898471  \n",
       "                    Max.   :1309017  "
      ]
     },
     "metadata": {},
     "output_type": "display_data"
    },
    {
     "name": "stdout",
     "output_type": "stream",
     "text": [
      "'data.frame':\t151 obs. of  2 variables:\n",
      " $ SALEDATE: chr  \"2010-02\" \"2010-03\" \"2010-04\" \"2010-05\" ...\n",
      " $ PRICE   : num  595215 488517 537826 542971 643488 ...\n"
     ]
    }
   ],
   "source": [
    "################################################################################\n",
    "# Calculate the mean \"Price\" by \"SALEDATE\" (year and month)\n",
    "HOUSE_TS3.df <- HOUSE_TS2.df\n",
    "HOUSE_TS3.df <- aggregate(PRICE~SALEDATE,HOUSE_TS2.df,mean)\n",
    "\n",
    "summary(HOUSE_TS2.df)   #To check the variables and counts before the aggregation\n",
    "\n",
    "summary(HOUSE_TS3.df)   #To check the variables and counts after the aggregation\n",
    "\n",
    "head(HOUSE_TS3.df, 20)\n",
    "\n",
    "tail(HOUSE_TS3.df, 20)\n",
    "\n",
    "# Filter the dataframe for only sales after 2010-01\n",
    "HOUSE_TS4.df <- HOUSE_TS3.df\n",
    "HOUSE_TS4.df <- HOUSE_TS4.df %>% filter(SALEDATE > '2010-01')\n",
    "\n",
    "summary(HOUSE_TS4.df)   #To check the variables and counts\n",
    "\n",
    "str(HOUSE_TS4.df)   #To check the data structure   \n",
    "################################################################################"
   ]
  },
  {
   "cell_type": "code",
   "execution_count": 8,
   "metadata": {},
   "outputs": [
    {
     "data": {
      "text/html": [
       "<table class=\"dataframe\">\n",
       "<caption>A Time Series: 13 × 12</caption>\n",
       "<thead>\n",
       "\t<tr><th></th><th scope=col>Jan</th><th scope=col>Feb</th><th scope=col>Mar</th><th scope=col>Apr</th><th scope=col>May</th><th scope=col>Jun</th><th scope=col>Jul</th><th scope=col>Aug</th><th scope=col>Sep</th><th scope=col>Oct</th><th scope=col>Nov</th><th scope=col>Dec</th></tr>\n",
       "</thead>\n",
       "<tbody>\n",
       "\t<tr><th scope=row>2010</th><td> 595215.3</td><td> 488517.5</td><td> 537825.9</td><td> 542970.6</td><td> 643488.2</td><td> 599364.5</td><td> 591808.9</td><td> 465350.5</td><td> 576169.1</td><td> 688463.2</td><td> 687697.8</td><td> 542757.8</td></tr>\n",
       "\t<tr><th scope=row>2011</th><td> 532661.0</td><td> 555703.6</td><td> 564982.7</td><td> 582055.1</td><td> 583731.9</td><td> 792090.7</td><td> 654924.3</td><td> 561652.5</td><td> 523012.3</td><td> 556310.6</td><td> 595629.8</td><td> 537853.3</td></tr>\n",
       "\t<tr><th scope=row>2012</th><td> 608940.3</td><td> 596914.4</td><td> 546667.5</td><td> 736617.2</td><td> 666124.4</td><td> 625026.2</td><td> 676362.4</td><td> 612457.6</td><td> 664211.7</td><td> 640776.1</td><td> 637844.2</td><td> 701649.3</td></tr>\n",
       "\t<tr><th scope=row>2013</th><td> 598139.5</td><td> 640635.9</td><td> 677421.4</td><td> 697719.6</td><td> 759096.3</td><td> 909713.5</td><td> 703899.2</td><td> 973241.2</td><td> 761342.1</td><td> 620723.6</td><td> 613852.6</td><td> 602145.6</td></tr>\n",
       "\t<tr><th scope=row>2014</th><td> 662744.9</td><td> 583706.0</td><td> 729343.3</td><td> 754645.3</td><td> 803609.7</td><td> 821932.3</td><td> 792719.6</td><td> 693807.1</td><td> 695918.8</td><td> 684731.3</td><td> 670583.9</td><td> 700451.1</td></tr>\n",
       "\t<tr><th scope=row>2015</th><td> 724380.8</td><td> 633812.2</td><td> 711374.5</td><td> 829167.6</td><td> 784320.9</td><td> 748354.9</td><td> 756925.8</td><td> 790718.6</td><td> 822803.3</td><td> 787420.5</td><td> 838821.1</td><td> 736350.9</td></tr>\n",
       "\t<tr><th scope=row>2016</th><td> 703861.6</td><td> 651072.1</td><td> 720171.4</td><td> 790311.8</td><td> 838644.8</td><td> 834619.8</td><td> 891179.7</td><td> 778843.7</td><td>1053742.0</td><td> 778174.9</td><td> 734638.4</td><td> 748386.2</td></tr>\n",
       "\t<tr><th scope=row>2017</th><td> 876717.4</td><td> 828342.3</td><td> 811436.1</td><td> 886845.9</td><td> 904337.6</td><td> 893951.0</td><td> 800962.6</td><td> 732815.8</td><td> 796029.6</td><td> 736735.3</td><td> 800139.5</td><td> 802549.5</td></tr>\n",
       "\t<tr><th scope=row>2018</th><td> 935284.0</td><td> 791885.4</td><td> 954471.2</td><td> 873900.3</td><td> 816293.9</td><td> 852345.9</td><td> 864262.2</td><td> 764621.6</td><td> 822613.3</td><td> 881527.5</td><td> 846599.1</td><td> 850500.8</td></tr>\n",
       "\t<tr><th scope=row>2019</th><td> 856820.3</td><td> 849466.2</td><td> 843066.4</td><td> 905470.0</td><td> 930188.2</td><td> 914024.4</td><td> 835028.3</td><td> 803078.1</td><td> 879499.8</td><td> 927483.3</td><td> 873666.3</td><td> 840044.5</td></tr>\n",
       "\t<tr><th scope=row>2020</th><td> 787652.3</td><td> 890873.9</td><td> 940170.7</td><td> 873180.9</td><td> 936630.6</td><td> 946719.1</td><td> 966476.1</td><td> 947272.1</td><td> 902989.9</td><td>1126750.6</td><td> 981757.1</td><td> 991249.8</td></tr>\n",
       "\t<tr><th scope=row>2021</th><td> 960506.2</td><td> 932663.5</td><td>1019248.6</td><td>1114840.0</td><td>1164707.6</td><td>1209038.3</td><td>1044902.5</td><td> 964044.0</td><td>1049929.4</td><td>1071633.6</td><td>1037921.5</td><td> 988845.2</td></tr>\n",
       "\t<tr><th scope=row>2022</th><td> 961839.7</td><td>1088226.9</td><td>1134815.5</td><td>1309016.5</td><td>1145348.6</td><td>1057256.7</td><td>1138907.9</td><td>         </td><td>         </td><td>         </td><td>         </td><td>         </td></tr>\n",
       "</tbody>\n",
       "</table>\n"
      ],
      "text/latex": [
       "A Time Series: 13 × 12\n",
       "\\begin{tabular}{r|llllllllllll}\n",
       "  & Jan & Feb & Mar & Apr & May & Jun & Jul & Aug & Sep & Oct & Nov & Dec\\\\\n",
       "\\hline\n",
       "\t2010 &  595215.3 &  488517.5 &  537825.9 &  542970.6 &  643488.2 &  599364.5 &  591808.9 &  465350.5 &  576169.1 &  688463.2 &  687697.8 &  542757.8\\\\\n",
       "\t2011 &  532661.0 &  555703.6 &  564982.7 &  582055.1 &  583731.9 &  792090.7 &  654924.3 &  561652.5 &  523012.3 &  556310.6 &  595629.8 &  537853.3\\\\\n",
       "\t2012 &  608940.3 &  596914.4 &  546667.5 &  736617.2 &  666124.4 &  625026.2 &  676362.4 &  612457.6 &  664211.7 &  640776.1 &  637844.2 &  701649.3\\\\\n",
       "\t2013 &  598139.5 &  640635.9 &  677421.4 &  697719.6 &  759096.3 &  909713.5 &  703899.2 &  973241.2 &  761342.1 &  620723.6 &  613852.6 &  602145.6\\\\\n",
       "\t2014 &  662744.9 &  583706.0 &  729343.3 &  754645.3 &  803609.7 &  821932.3 &  792719.6 &  693807.1 &  695918.8 &  684731.3 &  670583.9 &  700451.1\\\\\n",
       "\t2015 &  724380.8 &  633812.2 &  711374.5 &  829167.6 &  784320.9 &  748354.9 &  756925.8 &  790718.6 &  822803.3 &  787420.5 &  838821.1 &  736350.9\\\\\n",
       "\t2016 &  703861.6 &  651072.1 &  720171.4 &  790311.8 &  838644.8 &  834619.8 &  891179.7 &  778843.7 & 1053742.0 &  778174.9 &  734638.4 &  748386.2\\\\\n",
       "\t2017 &  876717.4 &  828342.3 &  811436.1 &  886845.9 &  904337.6 &  893951.0 &  800962.6 &  732815.8 &  796029.6 &  736735.3 &  800139.5 &  802549.5\\\\\n",
       "\t2018 &  935284.0 &  791885.4 &  954471.2 &  873900.3 &  816293.9 &  852345.9 &  864262.2 &  764621.6 &  822613.3 &  881527.5 &  846599.1 &  850500.8\\\\\n",
       "\t2019 &  856820.3 &  849466.2 &  843066.4 &  905470.0 &  930188.2 &  914024.4 &  835028.3 &  803078.1 &  879499.8 &  927483.3 &  873666.3 &  840044.5\\\\\n",
       "\t2020 &  787652.3 &  890873.9 &  940170.7 &  873180.9 &  936630.6 &  946719.1 &  966476.1 &  947272.1 &  902989.9 & 1126750.6 &  981757.1 &  991249.8\\\\\n",
       "\t2021 &  960506.2 &  932663.5 & 1019248.6 & 1114840.0 & 1164707.6 & 1209038.3 & 1044902.5 &  964044.0 & 1049929.4 & 1071633.6 & 1037921.5 &  988845.2\\\\\n",
       "\t2022 &  961839.7 & 1088226.9 & 1134815.5 & 1309016.5 & 1145348.6 & 1057256.7 & 1138907.9 &           &           &           &           &          \\\\\n",
       "\\end{tabular}\n"
      ],
      "text/markdown": [
       "\n",
       "A Time Series: 13 × 12\n",
       "\n",
       "| <!--/--> | Jan | Feb | Mar | Apr | May | Jun | Jul | Aug | Sep | Oct | Nov | Dec |\n",
       "|---|---|---|---|---|---|---|---|---|---|---|---|---|\n",
       "| 2010 |  595215.3 |  488517.5 |  537825.9 |  542970.6 |  643488.2 |  599364.5 |  591808.9 |  465350.5 |  576169.1 |  688463.2 |  687697.8 |  542757.8 |\n",
       "| 2011 |  532661.0 |  555703.6 |  564982.7 |  582055.1 |  583731.9 |  792090.7 |  654924.3 |  561652.5 |  523012.3 |  556310.6 |  595629.8 |  537853.3 |\n",
       "| 2012 |  608940.3 |  596914.4 |  546667.5 |  736617.2 |  666124.4 |  625026.2 |  676362.4 |  612457.6 |  664211.7 |  640776.1 |  637844.2 |  701649.3 |\n",
       "| 2013 |  598139.5 |  640635.9 |  677421.4 |  697719.6 |  759096.3 |  909713.5 |  703899.2 |  973241.2 |  761342.1 |  620723.6 |  613852.6 |  602145.6 |\n",
       "| 2014 |  662744.9 |  583706.0 |  729343.3 |  754645.3 |  803609.7 |  821932.3 |  792719.6 |  693807.1 |  695918.8 |  684731.3 |  670583.9 |  700451.1 |\n",
       "| 2015 |  724380.8 |  633812.2 |  711374.5 |  829167.6 |  784320.9 |  748354.9 |  756925.8 |  790718.6 |  822803.3 |  787420.5 |  838821.1 |  736350.9 |\n",
       "| 2016 |  703861.6 |  651072.1 |  720171.4 |  790311.8 |  838644.8 |  834619.8 |  891179.7 |  778843.7 | 1053742.0 |  778174.9 |  734638.4 |  748386.2 |\n",
       "| 2017 |  876717.4 |  828342.3 |  811436.1 |  886845.9 |  904337.6 |  893951.0 |  800962.6 |  732815.8 |  796029.6 |  736735.3 |  800139.5 |  802549.5 |\n",
       "| 2018 |  935284.0 |  791885.4 |  954471.2 |  873900.3 |  816293.9 |  852345.9 |  864262.2 |  764621.6 |  822613.3 |  881527.5 |  846599.1 |  850500.8 |\n",
       "| 2019 |  856820.3 |  849466.2 |  843066.4 |  905470.0 |  930188.2 |  914024.4 |  835028.3 |  803078.1 |  879499.8 |  927483.3 |  873666.3 |  840044.5 |\n",
       "| 2020 |  787652.3 |  890873.9 |  940170.7 |  873180.9 |  936630.6 |  946719.1 |  966476.1 |  947272.1 |  902989.9 | 1126750.6 |  981757.1 |  991249.8 |\n",
       "| 2021 |  960506.2 |  932663.5 | 1019248.6 | 1114840.0 | 1164707.6 | 1209038.3 | 1044902.5 |  964044.0 | 1049929.4 | 1071633.6 | 1037921.5 |  988845.2 |\n",
       "| 2022 |  961839.7 | 1088226.9 | 1134815.5 | 1309016.5 | 1145348.6 | 1057256.7 | 1138907.9 | <!----> | <!----> | <!----> | <!----> | <!----> |\n",
       "\n"
      ],
      "text/plain": [
       "     Jan       Feb       Mar       Apr       May       Jun       Jul      \n",
       "2010  595215.3  488517.5  537825.9  542970.6  643488.2  599364.5  591808.9\n",
       "2011  532661.0  555703.6  564982.7  582055.1  583731.9  792090.7  654924.3\n",
       "2012  608940.3  596914.4  546667.5  736617.2  666124.4  625026.2  676362.4\n",
       "2013  598139.5  640635.9  677421.4  697719.6  759096.3  909713.5  703899.2\n",
       "2014  662744.9  583706.0  729343.3  754645.3  803609.7  821932.3  792719.6\n",
       "2015  724380.8  633812.2  711374.5  829167.6  784320.9  748354.9  756925.8\n",
       "2016  703861.6  651072.1  720171.4  790311.8  838644.8  834619.8  891179.7\n",
       "2017  876717.4  828342.3  811436.1  886845.9  904337.6  893951.0  800962.6\n",
       "2018  935284.0  791885.4  954471.2  873900.3  816293.9  852345.9  864262.2\n",
       "2019  856820.3  849466.2  843066.4  905470.0  930188.2  914024.4  835028.3\n",
       "2020  787652.3  890873.9  940170.7  873180.9  936630.6  946719.1  966476.1\n",
       "2021  960506.2  932663.5 1019248.6 1114840.0 1164707.6 1209038.3 1044902.5\n",
       "2022  961839.7 1088226.9 1134815.5 1309016.5 1145348.6 1057256.7 1138907.9\n",
       "     Aug       Sep       Oct       Nov       Dec      \n",
       "2010  465350.5  576169.1  688463.2  687697.8  542757.8\n",
       "2011  561652.5  523012.3  556310.6  595629.8  537853.3\n",
       "2012  612457.6  664211.7  640776.1  637844.2  701649.3\n",
       "2013  973241.2  761342.1  620723.6  613852.6  602145.6\n",
       "2014  693807.1  695918.8  684731.3  670583.9  700451.1\n",
       "2015  790718.6  822803.3  787420.5  838821.1  736350.9\n",
       "2016  778843.7 1053742.0  778174.9  734638.4  748386.2\n",
       "2017  732815.8  796029.6  736735.3  800139.5  802549.5\n",
       "2018  764621.6  822613.3  881527.5  846599.1  850500.8\n",
       "2019  803078.1  879499.8  927483.3  873666.3  840044.5\n",
       "2020  947272.1  902989.9 1126750.6  981757.1  991249.8\n",
       "2021  964044.0 1049929.4 1071633.6 1037921.5  988845.2\n",
       "2022                                                  "
      ]
     },
     "metadata": {},
     "output_type": "display_data"
    }
   ],
   "source": [
    "####################################################################\n",
    "# Set time series (ts) for 'PRICE' variable\n",
    "\n",
    "# Choose the 'PRICE' column and convert it to ts object\n",
    "\n",
    "H_TS <- ts(HOUSE_TS4.df$PRICE, start=c(2010, 1), freq=12)\n",
    "\n",
    "# Let us see the ts object\n",
    "\n",
    "H_TS\n",
    "#####################################################################"
   ]
  },
  {
   "cell_type": "code",
   "execution_count": 9,
   "metadata": {},
   "outputs": [
    {
     "data": {
      "image/png": "[encoded data removed]",
      "text/plain": [
       "plot without title"
      ]
     },
     "metadata": {
      "image/png": {
       "height": 420,
       "width": 420
      }
     },
     "output_type": "display_data"
    }
   ],
   "source": [
    "#####################################################################\n",
    "# Let us fit a regression line on the dataset\n",
    "\n",
    "plot(H_TS)\n",
    "\n",
    "abline(reg=lm(H_TS~time(H_TS)))\n",
    "#####################################################################"
   ]
  },
  {
   "cell_type": "code",
   "execution_count": 10,
   "metadata": {},
   "outputs": [
    {
     "data": {
      "image/png": "[encoded data removed]",
      "text/plain": [
       "plot without title"
      ]
     },
     "metadata": {
      "image/png": {
       "height": 420,
       "width": 420
      }
     },
     "output_type": "display_data"
    }
   ],
   "source": [
    "#####################################################################\n",
    "# Plot the decomposition of the time series\n",
    "\n",
    "decomp = stl(H_TS, s.window = \"periodic\")\n",
    "\n",
    "plot(decomp)\n",
    "\n",
    "#####################################################################"
   ]
  },
  {
   "cell_type": "code",
   "execution_count": null,
   "metadata": {},
   "outputs": [],
   "source": []
  }
 ],
 "metadata": {
  "kernelspec": {
   "display_name": "R",
   "language": "R",
   "name": "ir"
  },
  "language_info": {
   "codemirror_mode": "r",
   "file_extension": ".r",
   "mimetype": "text/x-r-source",
   "name": "R",
   "pygments_lexer": "r",
   "version": "4.2.1"
  }
 },
 "nbformat": 4,
 "nbformat_minor": 4
}
