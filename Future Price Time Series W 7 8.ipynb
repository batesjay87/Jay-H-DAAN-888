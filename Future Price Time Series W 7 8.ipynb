{
 "cells": [
  {
   "cell_type": "markdown",
   "metadata": {},
   "source": [
    "# Future Price Time Series Model Wards 7 & 8"
   ]
  },
  {
   "cell_type": "code",
   "execution_count": 1,
   "metadata": {},
   "outputs": [
    {
     "data": {
      "text/html": [
       "'D:/Penn State/DAAN/DAAN 888 Analytics Design Implementation/Report'"
      ],
      "text/latex": [
       "'D:/Penn State/DAAN/DAAN 888 Analytics Design Implementation/Report'"
      ],
      "text/markdown": [
       "'D:/Penn State/DAAN/DAAN 888 Analytics Design Implementation/Report'"
      ],
      "text/plain": [
       "[1] \"D:/Penn State/DAAN/DAAN 888 Analytics Design Implementation/Report\""
      ]
     },
     "metadata": {},
     "output_type": "display_data"
    },
    {
     "data": {
      "text/html": [
       "<table class=\"dataframe\">\n",
       "<caption>A data.frame: 6 × 44</caption>\n",
       "<thead>\n",
       "\t<tr><th></th><th scope=col>SSL</th><th scope=col>BATHRM</th><th scope=col>HF_BATHRM</th><th scope=col>HEAT</th><th scope=col>HEAT_D</th><th scope=col>AC</th><th scope=col>NUM_UNITS</th><th scope=col>ROOMS</th><th scope=col>BEDRM</th><th scope=col>AYB</th><th scope=col>⋯</th><th scope=col>FIREPLACES</th><th scope=col>USECODE</th><th scope=col>LANDAREA</th><th scope=col>GIS_LAST_MOD_DTTM</th><th scope=col>OBJECTID</th><th scope=col>ASSESSMENT_NBHD</th><th scope=col>WARD</th><th scope=col>LATITUDE</th><th scope=col>LONGITUDE</th><th scope=col>YR_RMDL_CAT_2</th></tr>\n",
       "\t<tr><th></th><th scope=col>&lt;chr&gt;</th><th scope=col>&lt;int&gt;</th><th scope=col>&lt;int&gt;</th><th scope=col>&lt;int&gt;</th><th scope=col>&lt;chr&gt;</th><th scope=col>&lt;chr&gt;</th><th scope=col>&lt;int&gt;</th><th scope=col>&lt;int&gt;</th><th scope=col>&lt;int&gt;</th><th scope=col>&lt;int&gt;</th><th scope=col>⋯</th><th scope=col>&lt;int&gt;</th><th scope=col>&lt;int&gt;</th><th scope=col>&lt;int&gt;</th><th scope=col>&lt;chr&gt;</th><th scope=col>&lt;int&gt;</th><th scope=col>&lt;chr&gt;</th><th scope=col>&lt;chr&gt;</th><th scope=col>&lt;dbl&gt;</th><th scope=col>&lt;dbl&gt;</th><th scope=col>&lt;int&gt;</th></tr>\n",
       "</thead>\n",
       "<tbody>\n",
       "\t<tr><th scope=row>1</th><td>0150    0275</td><td>1</td><td>1</td><td> 7</td><td>Warm Cool    </td><td>Y</td><td>1</td><td>6</td><td>3</td><td>1900</td><td>⋯</td><td>0</td><td>11</td><td>960</td><td>2022/08/31 05:17:11+00</td><td>74407639</td><td>Old City 2</td><td>Ward 1</td><td>38.91745</td><td>-77.04023</td><td>5</td></tr>\n",
       "\t<tr><th scope=row>2</th><td>0150    0276</td><td>1</td><td>0</td><td> 7</td><td>Warm Cool    </td><td>Y</td><td>1</td><td>6</td><td>3</td><td>1900</td><td>⋯</td><td>0</td><td>11</td><td>960</td><td>2022/08/31 05:17:11+00</td><td>74407640</td><td>Old City 2</td><td>Ward 1</td><td>38.91745</td><td>-77.04017</td><td>1</td></tr>\n",
       "\t<tr><th scope=row>3</th><td>0150    0277</td><td>1</td><td>0</td><td>13</td><td>Hot Water Rad</td><td>N</td><td>1</td><td>6</td><td>3</td><td>1900</td><td>⋯</td><td>0</td><td>11</td><td>960</td><td>2022/08/31 05:17:11+00</td><td>74407641</td><td>Old City 2</td><td>Ward 1</td><td>38.91745</td><td>-77.04012</td><td>1</td></tr>\n",
       "\t<tr><th scope=row>4</th><td>0150    0278</td><td>2</td><td>1</td><td> 7</td><td>Warm Cool    </td><td>Y</td><td>1</td><td>6</td><td>2</td><td>1900</td><td>⋯</td><td>1</td><td>11</td><td>960</td><td>2022/08/31 05:17:11+00</td><td>74407642</td><td>Old City 2</td><td>Ward 1</td><td>38.91745</td><td>-77.04006</td><td>5</td></tr>\n",
       "\t<tr><th scope=row>5</th><td>0150    0279</td><td>1</td><td>1</td><td> 7</td><td>Warm Cool    </td><td>Y</td><td>1</td><td>6</td><td>3</td><td>1900</td><td>⋯</td><td>1</td><td>11</td><td>960</td><td>2022/08/31 05:17:11+00</td><td>74407643</td><td>Old City 2</td><td>Ward 1</td><td>38.91745</td><td>-77.04000</td><td>1</td></tr>\n",
       "\t<tr><th scope=row>6</th><td>0150    0280</td><td>1</td><td>1</td><td> 7</td><td>Warm Cool    </td><td>Y</td><td>1</td><td>6</td><td>3</td><td>1910</td><td>⋯</td><td>1</td><td>11</td><td>960</td><td>2022/08/31 05:17:11+00</td><td>74407644</td><td>Old City 2</td><td>Ward 1</td><td>38.91745</td><td>-77.03995</td><td>1</td></tr>\n",
       "</tbody>\n",
       "</table>\n"
      ],
      "text/latex": [
       "A data.frame: 6 × 44\n",
       "\\begin{tabular}{r|lllllllllllllllllllll}\n",
       "  & SSL & BATHRM & HF\\_BATHRM & HEAT & HEAT\\_D & AC & NUM\\_UNITS & ROOMS & BEDRM & AYB & ⋯ & FIREPLACES & USECODE & LANDAREA & GIS\\_LAST\\_MOD\\_DTTM & OBJECTID & ASSESSMENT\\_NBHD & WARD & LATITUDE & LONGITUDE & YR\\_RMDL\\_CAT\\_2\\\\\n",
       "  & <chr> & <int> & <int> & <int> & <chr> & <chr> & <int> & <int> & <int> & <int> & ⋯ & <int> & <int> & <int> & <chr> & <int> & <chr> & <chr> & <dbl> & <dbl> & <int>\\\\\n",
       "\\hline\n",
       "\t1 & 0150    0275 & 1 & 1 &  7 & Warm Cool     & Y & 1 & 6 & 3 & 1900 & ⋯ & 0 & 11 & 960 & 2022/08/31 05:17:11+00 & 74407639 & Old City 2 & Ward 1 & 38.91745 & -77.04023 & 5\\\\\n",
       "\t2 & 0150    0276 & 1 & 0 &  7 & Warm Cool     & Y & 1 & 6 & 3 & 1900 & ⋯ & 0 & 11 & 960 & 2022/08/31 05:17:11+00 & 74407640 & Old City 2 & Ward 1 & 38.91745 & -77.04017 & 1\\\\\n",
       "\t3 & 0150    0277 & 1 & 0 & 13 & Hot Water Rad & N & 1 & 6 & 3 & 1900 & ⋯ & 0 & 11 & 960 & 2022/08/31 05:17:11+00 & 74407641 & Old City 2 & Ward 1 & 38.91745 & -77.04012 & 1\\\\\n",
       "\t4 & 0150    0278 & 2 & 1 &  7 & Warm Cool     & Y & 1 & 6 & 2 & 1900 & ⋯ & 1 & 11 & 960 & 2022/08/31 05:17:11+00 & 74407642 & Old City 2 & Ward 1 & 38.91745 & -77.04006 & 5\\\\\n",
       "\t5 & 0150    0279 & 1 & 1 &  7 & Warm Cool     & Y & 1 & 6 & 3 & 1900 & ⋯ & 1 & 11 & 960 & 2022/08/31 05:17:11+00 & 74407643 & Old City 2 & Ward 1 & 38.91745 & -77.04000 & 1\\\\\n",
       "\t6 & 0150    0280 & 1 & 1 &  7 & Warm Cool     & Y & 1 & 6 & 3 & 1910 & ⋯ & 1 & 11 & 960 & 2022/08/31 05:17:11+00 & 74407644 & Old City 2 & Ward 1 & 38.91745 & -77.03995 & 1\\\\\n",
       "\\end{tabular}\n"
      ],
      "text/markdown": [
       "\n",
       "A data.frame: 6 × 44\n",
       "\n",
       "| <!--/--> | SSL &lt;chr&gt; | BATHRM &lt;int&gt; | HF_BATHRM &lt;int&gt; | HEAT &lt;int&gt; | HEAT_D &lt;chr&gt; | AC &lt;chr&gt; | NUM_UNITS &lt;int&gt; | ROOMS &lt;int&gt; | BEDRM &lt;int&gt; | AYB &lt;int&gt; | ⋯ ⋯ | FIREPLACES &lt;int&gt; | USECODE &lt;int&gt; | LANDAREA &lt;int&gt; | GIS_LAST_MOD_DTTM &lt;chr&gt; | OBJECTID &lt;int&gt; | ASSESSMENT_NBHD &lt;chr&gt; | WARD &lt;chr&gt; | LATITUDE &lt;dbl&gt; | LONGITUDE &lt;dbl&gt; | YR_RMDL_CAT_2 &lt;int&gt; |\n",
       "|---|---|---|---|---|---|---|---|---|---|---|---|---|---|---|---|---|---|---|---|---|---|\n",
       "| 1 | 0150    0275 | 1 | 1 |  7 | Warm Cool     | Y | 1 | 6 | 3 | 1900 | ⋯ | 0 | 11 | 960 | 2022/08/31 05:17:11+00 | 74407639 | Old City 2 | Ward 1 | 38.91745 | -77.04023 | 5 |\n",
       "| 2 | 0150    0276 | 1 | 0 |  7 | Warm Cool     | Y | 1 | 6 | 3 | 1900 | ⋯ | 0 | 11 | 960 | 2022/08/31 05:17:11+00 | 74407640 | Old City 2 | Ward 1 | 38.91745 | -77.04017 | 1 |\n",
       "| 3 | 0150    0277 | 1 | 0 | 13 | Hot Water Rad | N | 1 | 6 | 3 | 1900 | ⋯ | 0 | 11 | 960 | 2022/08/31 05:17:11+00 | 74407641 | Old City 2 | Ward 1 | 38.91745 | -77.04012 | 1 |\n",
       "| 4 | 0150    0278 | 2 | 1 |  7 | Warm Cool     | Y | 1 | 6 | 2 | 1900 | ⋯ | 1 | 11 | 960 | 2022/08/31 05:17:11+00 | 74407642 | Old City 2 | Ward 1 | 38.91745 | -77.04006 | 5 |\n",
       "| 5 | 0150    0279 | 1 | 1 |  7 | Warm Cool     | Y | 1 | 6 | 3 | 1900 | ⋯ | 1 | 11 | 960 | 2022/08/31 05:17:11+00 | 74407643 | Old City 2 | Ward 1 | 38.91745 | -77.04000 | 1 |\n",
       "| 6 | 0150    0280 | 1 | 1 |  7 | Warm Cool     | Y | 1 | 6 | 3 | 1910 | ⋯ | 1 | 11 | 960 | 2022/08/31 05:17:11+00 | 74407644 | Old City 2 | Ward 1 | 38.91745 | -77.03995 | 1 |\n",
       "\n"
      ],
      "text/plain": [
       "  SSL          BATHRM HF_BATHRM HEAT HEAT_D        AC NUM_UNITS ROOMS BEDRM\n",
       "1 0150    0275 1      1          7   Warm Cool     Y  1         6     3    \n",
       "2 0150    0276 1      0          7   Warm Cool     Y  1         6     3    \n",
       "3 0150    0277 1      0         13   Hot Water Rad N  1         6     3    \n",
       "4 0150    0278 2      1          7   Warm Cool     Y  1         6     2    \n",
       "5 0150    0279 1      1          7   Warm Cool     Y  1         6     3    \n",
       "6 0150    0280 1      1          7   Warm Cool     Y  1         6     3    \n",
       "  AYB  ⋯ FIREPLACES USECODE LANDAREA GIS_LAST_MOD_DTTM      OBJECTID\n",
       "1 1900 ⋯ 0          11      960      2022/08/31 05:17:11+00 74407639\n",
       "2 1900 ⋯ 0          11      960      2022/08/31 05:17:11+00 74407640\n",
       "3 1900 ⋯ 0          11      960      2022/08/31 05:17:11+00 74407641\n",
       "4 1900 ⋯ 1          11      960      2022/08/31 05:17:11+00 74407642\n",
       "5 1900 ⋯ 1          11      960      2022/08/31 05:17:11+00 74407643\n",
       "6 1910 ⋯ 1          11      960      2022/08/31 05:17:11+00 74407644\n",
       "  ASSESSMENT_NBHD WARD   LATITUDE LONGITUDE YR_RMDL_CAT_2\n",
       "1 Old City 2      Ward 1 38.91745 -77.04023 5            \n",
       "2 Old City 2      Ward 1 38.91745 -77.04017 1            \n",
       "3 Old City 2      Ward 1 38.91745 -77.04012 1            \n",
       "4 Old City 2      Ward 1 38.91745 -77.04006 5            \n",
       "5 Old City 2      Ward 1 38.91745 -77.04000 1            \n",
       "6 Old City 2      Ward 1 38.91745 -77.03995 1            "
      ]
     },
     "metadata": {},
     "output_type": "display_data"
    },
    {
     "data": {
      "text/html": [
       "<table class=\"dataframe\">\n",
       "<caption>A data.frame: 6 × 44</caption>\n",
       "<thead>\n",
       "\t<tr><th></th><th scope=col>SSL</th><th scope=col>BATHRM</th><th scope=col>HF_BATHRM</th><th scope=col>HEAT</th><th scope=col>HEAT_D</th><th scope=col>AC</th><th scope=col>NUM_UNITS</th><th scope=col>ROOMS</th><th scope=col>BEDRM</th><th scope=col>AYB</th><th scope=col>⋯</th><th scope=col>FIREPLACES</th><th scope=col>USECODE</th><th scope=col>LANDAREA</th><th scope=col>GIS_LAST_MOD_DTTM</th><th scope=col>OBJECTID</th><th scope=col>ASSESSMENT_NBHD</th><th scope=col>WARD</th><th scope=col>LATITUDE</th><th scope=col>LONGITUDE</th><th scope=col>YR_RMDL_CAT_2</th></tr>\n",
       "\t<tr><th></th><th scope=col>&lt;chr&gt;</th><th scope=col>&lt;int&gt;</th><th scope=col>&lt;int&gt;</th><th scope=col>&lt;int&gt;</th><th scope=col>&lt;chr&gt;</th><th scope=col>&lt;chr&gt;</th><th scope=col>&lt;int&gt;</th><th scope=col>&lt;int&gt;</th><th scope=col>&lt;int&gt;</th><th scope=col>&lt;int&gt;</th><th scope=col>⋯</th><th scope=col>&lt;int&gt;</th><th scope=col>&lt;int&gt;</th><th scope=col>&lt;int&gt;</th><th scope=col>&lt;chr&gt;</th><th scope=col>&lt;int&gt;</th><th scope=col>&lt;chr&gt;</th><th scope=col>&lt;chr&gt;</th><th scope=col>&lt;dbl&gt;</th><th scope=col>&lt;dbl&gt;</th><th scope=col>&lt;int&gt;</th></tr>\n",
       "</thead>\n",
       "<tbody>\n",
       "\t<tr><th scope=row>108398</th><td>PAR 01550236</td><td>2</td><td>0</td><td>13</td><td>Hot Water Rad</td><td>N</td><td>1</td><td> 6</td><td>2</td><td>1934</td><td>⋯</td><td>1</td><td>12</td><td>4571</td><td>2022/08/31 05:17:11+00</td><td>74624612</td><td>Woodridge</td><td>Ward 5</td><td>38.92890</td><td>-76.97456</td><td>1</td></tr>\n",
       "\t<tr><th scope=row>108399</th><td>PAR 01550251</td><td>2</td><td>0</td><td> 1</td><td>Forced Air   </td><td>Y</td><td>1</td><td> 6</td><td>3</td><td>1935</td><td>⋯</td><td>0</td><td>12</td><td>3000</td><td>2022/08/31 05:17:11+00</td><td>74624613</td><td>Woodridge</td><td>Ward 5</td><td>38.92700</td><td>-76.97157</td><td>4</td></tr>\n",
       "\t<tr><th scope=row>108400</th><td>PAR 01550252</td><td>1</td><td>0</td><td>13</td><td>Hot Water Rad</td><td>N</td><td>1</td><td> 5</td><td>2</td><td>1935</td><td>⋯</td><td>0</td><td>12</td><td>3000</td><td>2022/08/31 05:17:11+00</td><td>74624614</td><td>Woodridge</td><td>Ward 5</td><td>38.92706</td><td>-76.97145</td><td>1</td></tr>\n",
       "\t<tr><th scope=row>108401</th><td>PAR 01550254</td><td>3</td><td>0</td><td>13</td><td>Hot Water Rad</td><td>N</td><td>1</td><td> 5</td><td>3</td><td>1922</td><td>⋯</td><td>0</td><td>12</td><td>7829</td><td>2022/08/31 05:17:11+00</td><td>74624615</td><td>Woodridge</td><td>Ward 5</td><td>38.92790</td><td>-76.97388</td><td>2</td></tr>\n",
       "\t<tr><th scope=row>108402</th><td>PAR 01550255</td><td>3</td><td>1</td><td> 1</td><td>Forced Air   </td><td>Y</td><td>1</td><td>10</td><td>4</td><td>1925</td><td>⋯</td><td>0</td><td>13</td><td>4001</td><td>2022/08/31 05:17:11+00</td><td>74624616</td><td>Woodridge</td><td>Ward 5</td><td>38.92924</td><td>-76.97320</td><td>4</td></tr>\n",
       "\t<tr><th scope=row>108403</th><td>PAR 01550259</td><td>1</td><td>0</td><td>13</td><td>Hot Water Rad</td><td>N</td><td>1</td><td> 6</td><td>3</td><td>1940</td><td>⋯</td><td>0</td><td>11</td><td>1399</td><td>2022/08/31 05:17:11+00</td><td>74624617</td><td>Woodridge</td><td>Ward 5</td><td>38.92924</td><td>-76.97465</td><td>1</td></tr>\n",
       "</tbody>\n",
       "</table>\n"
      ],
      "text/latex": [
       "A data.frame: 6 × 44\n",
       "\\begin{tabular}{r|lllllllllllllllllllll}\n",
       "  & SSL & BATHRM & HF\\_BATHRM & HEAT & HEAT\\_D & AC & NUM\\_UNITS & ROOMS & BEDRM & AYB & ⋯ & FIREPLACES & USECODE & LANDAREA & GIS\\_LAST\\_MOD\\_DTTM & OBJECTID & ASSESSMENT\\_NBHD & WARD & LATITUDE & LONGITUDE & YR\\_RMDL\\_CAT\\_2\\\\\n",
       "  & <chr> & <int> & <int> & <int> & <chr> & <chr> & <int> & <int> & <int> & <int> & ⋯ & <int> & <int> & <int> & <chr> & <int> & <chr> & <chr> & <dbl> & <dbl> & <int>\\\\\n",
       "\\hline\n",
       "\t108398 & PAR 01550236 & 2 & 0 & 13 & Hot Water Rad & N & 1 &  6 & 2 & 1934 & ⋯ & 1 & 12 & 4571 & 2022/08/31 05:17:11+00 & 74624612 & Woodridge & Ward 5 & 38.92890 & -76.97456 & 1\\\\\n",
       "\t108399 & PAR 01550251 & 2 & 0 &  1 & Forced Air    & Y & 1 &  6 & 3 & 1935 & ⋯ & 0 & 12 & 3000 & 2022/08/31 05:17:11+00 & 74624613 & Woodridge & Ward 5 & 38.92700 & -76.97157 & 4\\\\\n",
       "\t108400 & PAR 01550252 & 1 & 0 & 13 & Hot Water Rad & N & 1 &  5 & 2 & 1935 & ⋯ & 0 & 12 & 3000 & 2022/08/31 05:17:11+00 & 74624614 & Woodridge & Ward 5 & 38.92706 & -76.97145 & 1\\\\\n",
       "\t108401 & PAR 01550254 & 3 & 0 & 13 & Hot Water Rad & N & 1 &  5 & 3 & 1922 & ⋯ & 0 & 12 & 7829 & 2022/08/31 05:17:11+00 & 74624615 & Woodridge & Ward 5 & 38.92790 & -76.97388 & 2\\\\\n",
       "\t108402 & PAR 01550255 & 3 & 1 &  1 & Forced Air    & Y & 1 & 10 & 4 & 1925 & ⋯ & 0 & 13 & 4001 & 2022/08/31 05:17:11+00 & 74624616 & Woodridge & Ward 5 & 38.92924 & -76.97320 & 4\\\\\n",
       "\t108403 & PAR 01550259 & 1 & 0 & 13 & Hot Water Rad & N & 1 &  6 & 3 & 1940 & ⋯ & 0 & 11 & 1399 & 2022/08/31 05:17:11+00 & 74624617 & Woodridge & Ward 5 & 38.92924 & -76.97465 & 1\\\\\n",
       "\\end{tabular}\n"
      ],
      "text/markdown": [
       "\n",
       "A data.frame: 6 × 44\n",
       "\n",
       "| <!--/--> | SSL &lt;chr&gt; | BATHRM &lt;int&gt; | HF_BATHRM &lt;int&gt; | HEAT &lt;int&gt; | HEAT_D &lt;chr&gt; | AC &lt;chr&gt; | NUM_UNITS &lt;int&gt; | ROOMS &lt;int&gt; | BEDRM &lt;int&gt; | AYB &lt;int&gt; | ⋯ ⋯ | FIREPLACES &lt;int&gt; | USECODE &lt;int&gt; | LANDAREA &lt;int&gt; | GIS_LAST_MOD_DTTM &lt;chr&gt; | OBJECTID &lt;int&gt; | ASSESSMENT_NBHD &lt;chr&gt; | WARD &lt;chr&gt; | LATITUDE &lt;dbl&gt; | LONGITUDE &lt;dbl&gt; | YR_RMDL_CAT_2 &lt;int&gt; |\n",
       "|---|---|---|---|---|---|---|---|---|---|---|---|---|---|---|---|---|---|---|---|---|---|\n",
       "| 108398 | PAR 01550236 | 2 | 0 | 13 | Hot Water Rad | N | 1 |  6 | 2 | 1934 | ⋯ | 1 | 12 | 4571 | 2022/08/31 05:17:11+00 | 74624612 | Woodridge | Ward 5 | 38.92890 | -76.97456 | 1 |\n",
       "| 108399 | PAR 01550251 | 2 | 0 |  1 | Forced Air    | Y | 1 |  6 | 3 | 1935 | ⋯ | 0 | 12 | 3000 | 2022/08/31 05:17:11+00 | 74624613 | Woodridge | Ward 5 | 38.92700 | -76.97157 | 4 |\n",
       "| 108400 | PAR 01550252 | 1 | 0 | 13 | Hot Water Rad | N | 1 |  5 | 2 | 1935 | ⋯ | 0 | 12 | 3000 | 2022/08/31 05:17:11+00 | 74624614 | Woodridge | Ward 5 | 38.92706 | -76.97145 | 1 |\n",
       "| 108401 | PAR 01550254 | 3 | 0 | 13 | Hot Water Rad | N | 1 |  5 | 3 | 1922 | ⋯ | 0 | 12 | 7829 | 2022/08/31 05:17:11+00 | 74624615 | Woodridge | Ward 5 | 38.92790 | -76.97388 | 2 |\n",
       "| 108402 | PAR 01550255 | 3 | 1 |  1 | Forced Air    | Y | 1 | 10 | 4 | 1925 | ⋯ | 0 | 13 | 4001 | 2022/08/31 05:17:11+00 | 74624616 | Woodridge | Ward 5 | 38.92924 | -76.97320 | 4 |\n",
       "| 108403 | PAR 01550259 | 1 | 0 | 13 | Hot Water Rad | N | 1 |  6 | 3 | 1940 | ⋯ | 0 | 11 | 1399 | 2022/08/31 05:17:11+00 | 74624617 | Woodridge | Ward 5 | 38.92924 | -76.97465 | 1 |\n",
       "\n"
      ],
      "text/plain": [
       "       SSL          BATHRM HF_BATHRM HEAT HEAT_D        AC NUM_UNITS ROOMS\n",
       "108398 PAR 01550236 2      0         13   Hot Water Rad N  1          6   \n",
       "108399 PAR 01550251 2      0          1   Forced Air    Y  1          6   \n",
       "108400 PAR 01550252 1      0         13   Hot Water Rad N  1          5   \n",
       "108401 PAR 01550254 3      0         13   Hot Water Rad N  1          5   \n",
       "108402 PAR 01550255 3      1          1   Forced Air    Y  1         10   \n",
       "108403 PAR 01550259 1      0         13   Hot Water Rad N  1          6   \n",
       "       BEDRM AYB  ⋯ FIREPLACES USECODE LANDAREA GIS_LAST_MOD_DTTM      OBJECTID\n",
       "108398 2     1934 ⋯ 1          12      4571     2022/08/31 05:17:11+00 74624612\n",
       "108399 3     1935 ⋯ 0          12      3000     2022/08/31 05:17:11+00 74624613\n",
       "108400 2     1935 ⋯ 0          12      3000     2022/08/31 05:17:11+00 74624614\n",
       "108401 3     1922 ⋯ 0          12      7829     2022/08/31 05:17:11+00 74624615\n",
       "108402 4     1925 ⋯ 0          13      4001     2022/08/31 05:17:11+00 74624616\n",
       "108403 3     1940 ⋯ 0          11      1399     2022/08/31 05:17:11+00 74624617\n",
       "       ASSESSMENT_NBHD WARD   LATITUDE LONGITUDE YR_RMDL_CAT_2\n",
       "108398 Woodridge       Ward 5 38.92890 -76.97456 1            \n",
       "108399 Woodridge       Ward 5 38.92700 -76.97157 4            \n",
       "108400 Woodridge       Ward 5 38.92706 -76.97145 1            \n",
       "108401 Woodridge       Ward 5 38.92790 -76.97388 2            \n",
       "108402 Woodridge       Ward 5 38.92924 -76.97320 4            \n",
       "108403 Woodridge       Ward 5 38.92924 -76.97465 1            "
      ]
     },
     "metadata": {},
     "output_type": "display_data"
    },
    {
     "data": {
      "text/plain": [
       "     SSL                BATHRM         HF_BATHRM            HEAT      \n",
       " Length:108403      Min.   : 0.000   Min.   : 0.0000   Min.   : 0.00  \n",
       " Class :character   1st Qu.: 1.000   1st Qu.: 0.0000   1st Qu.: 1.00  \n",
       " Mode  :character   Median : 2.000   Median : 1.0000   Median : 7.00  \n",
       "                    Mean   : 2.124   Mean   : 0.6298   Mean   : 7.27  \n",
       "                    3rd Qu.: 3.000   3rd Qu.: 1.0000   3rd Qu.:13.00  \n",
       "                    Max.   :30.000   Max.   :12.0000   Max.   :13.00  \n",
       "                    NA's   :1371     NA's   :1371      NA's   :1371   \n",
       "    HEAT_D               AC              NUM_UNITS          ROOMS        \n",
       " Length:108403      Length:108403      Min.   : 0.000   Min.   :  0.000  \n",
       " Class :character   Class :character   1st Qu.: 1.000   1st Qu.:  6.000  \n",
       " Mode  :character   Mode  :character   Median : 1.000   Median :  7.000  \n",
       "                                       Mean   : 1.196   Mean   :  7.397  \n",
       "                                       3rd Qu.: 1.000   3rd Qu.:  8.000  \n",
       "                                       Max.   :12.000   Max.   :101.000  \n",
       "                                       NA's   :1371     NA's   :1443     \n",
       "     BEDRM             AYB          YR_RMDL           EYB      \n",
       " Min.   : 0.000   Min.   :   0   Min.   :  202   Min.   :   0  \n",
       " 1st Qu.: 3.000   1st Qu.:1915   1st Qu.: 2000   1st Qu.:1960  \n",
       " Median : 3.000   Median :1930   Median : 2008   Median :1968  \n",
       " Mean   : 3.422   Mean   :1932   Mean   : 2006   Mean   :1946  \n",
       " 3rd Qu.: 4.000   3rd Qu.:1948   3rd Qu.: 2015   3rd Qu.:1975  \n",
       " Max.   :24.000   Max.   :2023   Max.   :20212   Max.   :2022  \n",
       " NA's   :1388     NA's   :21     NA's   :53877                 \n",
       "    STORIES          SALEDATE             PRICE           QUALIFIED        \n",
       " Min.   :  0.000   Length:108403      Min.   :       0   Length:108403     \n",
       " 1st Qu.:  2.000   Class :character   1st Qu.:       0   Class :character  \n",
       " Median :  2.000   Mode  :character   Median :  294000   Mode  :character  \n",
       " Mean   :  2.084                      Mean   :  465255                     \n",
       " 3rd Qu.:  2.000                      3rd Qu.:  715000                     \n",
       " Max.   :275.000                      Max.   :25100000                     \n",
       " NA's   :1459                         NA's   :14181                        \n",
       "    SALE_NUM           GBA           BLDG_NUM         STYLE       \n",
       " Min.   : 1.000   Min.   :    0   Min.   :1.000   Min.   : 0.000  \n",
       " 1st Qu.: 1.000   1st Qu.: 1188   1st Qu.:1.000   1st Qu.: 4.000  \n",
       " Median : 1.000   Median : 1488   Median :1.000   Median : 4.000  \n",
       " Mean   : 2.148   Mean   : 1710   Mean   :1.001   Mean   : 4.356  \n",
       " 3rd Qu.: 3.000   3rd Qu.: 1980   3rd Qu.:1.000   3rd Qu.: 4.000  \n",
       " Max.   :17.000   Max.   :45384   Max.   :5.000   Max.   :99.000  \n",
       "                                                  NA's   :1372    \n",
       "   STYLE_D              STRUCT         STRUCT_D             GRADE       \n",
       " Length:108403      Min.   : 0.000   Length:108403      Min.   : 0.000  \n",
       " Class :character   1st Qu.: 1.000   Class :character   1st Qu.: 3.000  \n",
       " Mode  :character   Median : 7.000   Mode  :character   Median : 4.000  \n",
       "                    Mean   : 5.013                      Mean   : 4.285  \n",
       "                    3rd Qu.: 7.000                      3rd Qu.: 5.000  \n",
       "                    Max.   :13.000                      Max.   :12.000  \n",
       "                    NA's   :1371                        NA's   :1371    \n",
       "   GRADE_D              CNDTN         CNDTN_D             EXTWALL     \n",
       " Length:108403      Min.   :0.000   Length:108403      Min.   : 0.00  \n",
       " Class :character   1st Qu.:3.000   Class :character   1st Qu.:14.00  \n",
       " Mode  :character   Median :4.000   Mode  :character   Median :14.00  \n",
       "                    Mean   :3.624                      Mean   :13.37  \n",
       "                    3rd Qu.:4.000                      3rd Qu.:14.00  \n",
       "                    Max.   :6.000                      Max.   :24.00  \n",
       "                    NA's   :1371                       NA's   :1371   \n",
       "  EXTWALL_D              ROOF           ROOF_D             INTWALL      \n",
       " Length:108403      Min.   : 0.000   Length:108403      Min.   : 0.000  \n",
       " Class :character   1st Qu.: 1.000   Class :character   1st Qu.: 6.000  \n",
       " Mode  :character   Median : 2.000   Mode  :character   Median : 6.000  \n",
       "                    Mean   : 3.966                      Mean   : 6.161  \n",
       "                    3rd Qu.: 6.000                      3rd Qu.: 6.000  \n",
       "                    Max.   :15.000                      Max.   :11.000  \n",
       "                    NA's   :1371                        NA's   :1371    \n",
       "  INTWALL_D            KITCHENS        FIREPLACES         USECODE      \n",
       " Length:108403      Min.   : 0.000   Min.   : 0.0000   Min.   :  0.00  \n",
       " Class :character   1st Qu.: 1.000   1st Qu.: 0.0000   1st Qu.: 11.00  \n",
       " Mode  :character   Median : 1.000   Median : 0.0000   Median : 12.00  \n",
       "                    Mean   : 1.226   Mean   : 0.6268   Mean   : 13.15  \n",
       "                    3rd Qu.: 1.000   3rd Qu.: 1.0000   3rd Qu.: 13.00  \n",
       "                    Max.   :44.000   Max.   :13.0000   Max.   :995.00  \n",
       "                    NA's   :1372     NA's   :1374                      \n",
       "    LANDAREA      GIS_LAST_MOD_DTTM     OBJECTID        ASSESSMENT_NBHD   \n",
       " Min.   :     0   Length:108403      Min.   :74407639   Length:108403     \n",
       " 1st Qu.:  1572   Class :character   1st Qu.:74543316   Class :character  \n",
       " Median :  2327   Mode  :character   Median :74570416   Mode  :character  \n",
       " Mean   :  3389                      Mean   :74570406                     \n",
       " 3rd Qu.:  4160                      3rd Qu.:74597516                     \n",
       " Max.   :942632                      Max.   :74624617                     \n",
       "                                                                          \n",
       "     WARD              LATITUDE       LONGITUDE      YR_RMDL_CAT_2  \n",
       " Length:108403      Min.   :38.82   Min.   :-77.11   Min.   :1.000  \n",
       " Class :character   1st Qu.:38.89   1st Qu.:-77.04   1st Qu.:1.000  \n",
       " Mode  :character   Median :38.92   Median :-77.01   Median :2.000  \n",
       "                    Mean   :38.92   Mean   :-77.01   Mean   :2.533  \n",
       "                    3rd Qu.:38.94   3rd Qu.:-76.98   3rd Qu.:4.000  \n",
       "                    Max.   :39.00   Max.   :-76.91   Max.   :7.000  \n",
       "                    NA's   :2103    NA's   :2103                    "
      ]
     },
     "metadata": {},
     "output_type": "display_data"
    },
    {
     "name": "stdout",
     "output_type": "stream",
     "text": [
      "'data.frame':\t108403 obs. of  44 variables:\n",
      " $ SSL              : chr  \"0150    0275\" \"0150    0276\" \"0150    0277\" \"0150    0278\" ...\n",
      " $ BATHRM           : int  1 1 1 2 1 1 2 1 1 1 ...\n",
      " $ HF_BATHRM        : int  1 0 0 1 1 1 1 1 1 1 ...\n",
      " $ HEAT             : int  7 7 13 7 7 7 7 7 7 7 ...\n",
      " $ HEAT_D           : chr  \"Warm Cool\" \"Warm Cool\" \"Hot Water Rad\" \"Warm Cool\" ...\n",
      " $ AC               : chr  \"Y\" \"Y\" \"N\" \"Y\" ...\n",
      " $ NUM_UNITS        : int  1 1 1 1 1 1 1 1 1 1 ...\n",
      " $ ROOMS            : int  6 6 6 6 6 6 6 6 6 6 ...\n",
      " $ BEDRM            : int  3 3 3 2 3 3 2 3 3 3 ...\n",
      " $ AYB              : int  1900 1900 1900 1900 1900 1910 1900 1900 1900 1900 ...\n",
      " $ YR_RMDL          : int  2004 NA NA 2016 NA NA 2001 NA 2003 2015 ...\n",
      " $ EYB              : int  1971 1961 1961 1971 1961 1968 1971 1971 1971 1961 ...\n",
      " $ STORIES          : num  2 2 2 2 2 2 2 2 2 2 ...\n",
      " $ SALEDATE         : chr  \"2013/07/22 00:00:00+00\" \"1900/01/01 00:00:00+00\" \"1996/02/12 00:00:00+00\" \"2022/04/06 00:00:00+00\" ...\n",
      " $ PRICE            : int  755000 NA 118000 1110000 0 251000 930388 606500 0 162000 ...\n",
      " $ QUALIFIED        : chr  \"Q\" \"U\" \"U\" \"Q\" ...\n",
      " $ SALE_NUM         : int  1 1 1 5 3 1 5 1 3 1 ...\n",
      " $ GBA              : int  1286 1286 1286 1304 1286 1286 1286 1286 1344 1286 ...\n",
      " $ BLDG_NUM         : int  1 1 1 1 1 1 1 1 1 1 ...\n",
      " $ STYLE            : int  4 4 4 4 4 4 4 4 4 4 ...\n",
      " $ STYLE_D          : chr  \"2 Story\" \"2 Story\" \"2 Story\" \"2 Story\" ...\n",
      " $ STRUCT           : int  7 7 7 7 7 7 7 7 7 7 ...\n",
      " $ STRUCT_D         : chr  \"Row Inside\" \"Row Inside\" \"Row Inside\" \"Row Inside\" ...\n",
      " $ GRADE            : int  4 4 4 4 4 4 4 4 4 4 ...\n",
      " $ GRADE_D          : chr  \"Above Average\" \"Above Average\" \"Above Average\" \"Above Average\" ...\n",
      " $ CNDTN            : int  4 3 3 4 3 4 3 3 4 3 ...\n",
      " $ CNDTN_D          : chr  \"Good\" \"Average\" \"Average\" \"Good\" ...\n",
      " $ EXTWALL          : int  14 14 14 14 14 14 14 14 14 14 ...\n",
      " $ EXTWALL_D        : chr  \"Common Brick\" \"Common Brick\" \"Common Brick\" \"Common Brick\" ...\n",
      " $ ROOF             : int  2 2 2 2 2 2 2 2 2 2 ...\n",
      " $ ROOF_D           : chr  \"Built Up\" \"Built Up\" \"Built Up\" \"Built Up\" ...\n",
      " $ INTWALL          : int  6 6 6 6 6 6 6 6 6 6 ...\n",
      " $ INTWALL_D        : chr  \"Hardwood\" \"Hardwood\" \"Hardwood\" \"Hardwood\" ...\n",
      " $ KITCHENS         : int  1 1 1 1 1 1 1 1 1 1 ...\n",
      " $ FIREPLACES       : int  0 0 0 1 1 1 1 1 0 1 ...\n",
      " $ USECODE          : int  11 11 11 11 11 11 11 11 11 11 ...\n",
      " $ LANDAREA         : int  960 960 960 960 960 960 960 960 960 960 ...\n",
      " $ GIS_LAST_MOD_DTTM: chr  \"2022/08/31 05:17:11+00\" \"2022/08/31 05:17:11+00\" \"2022/08/31 05:17:11+00\" \"2022/08/31 05:17:11+00\" ...\n",
      " $ OBJECTID         : int  74407639 74407640 74407641 74407642 74407643 74407644 74407645 74407646 74407647 74407648 ...\n",
      " $ ASSESSMENT_NBHD  : chr  \"Old City 2\" \"Old City 2\" \"Old City 2\" \"Old City 2\" ...\n",
      " $ WARD             : chr  \"Ward 1\" \"Ward 1\" \"Ward 1\" \"Ward 1\" ...\n",
      " $ LATITUDE         : num  38.9 38.9 38.9 38.9 38.9 ...\n",
      " $ LONGITUDE        : num  -77 -77 -77 -77 -77 ...\n",
      " $ YR_RMDL_CAT_2    : int  5 1 1 5 1 1 5 1 5 5 ...\n"
     ]
    }
   ],
   "source": [
    "# ResidentialSalesWithLocation_CSV\n",
    "\n",
    "setwd(\"D:/Penn State/DAAN/DAAN 888 Analytics Design Implementation/Report\")  #set my working directory\n",
    "getwd()\n",
    "\n",
    "HOUSE.df <- read.csv(\"ResidentialSalesWithLocation_CSV.csv\", header = TRUE)  #import data into R\n",
    "\n",
    "######################### Verify the data ##########################\n",
    "head(HOUSE.df)   #Verify the first five rows of the dataframe\n",
    "\n",
    "tail(HOUSE.df)   #Verify the last five rows of the dataframe\n",
    "\n",
    "summary(HOUSE.df)   #To check the variables and counts\n",
    "\n",
    "str(HOUSE.df)   #To check the data structure of the loaded dataset\n",
    "####################################################################"
   ]
  },
  {
   "cell_type": "code",
   "execution_count": 2,
   "metadata": {},
   "outputs": [
    {
     "data": {
      "text/html": [
       "<table class=\"dataframe\">\n",
       "<caption>A data.frame: 6 × 3</caption>\n",
       "<thead>\n",
       "\t<tr><th></th><th scope=col>SALEDATE</th><th scope=col>PRICE</th><th scope=col>WARD</th></tr>\n",
       "\t<tr><th></th><th scope=col>&lt;chr&gt;</th><th scope=col>&lt;int&gt;</th><th scope=col>&lt;chr&gt;</th></tr>\n",
       "</thead>\n",
       "<tbody>\n",
       "\t<tr><th scope=row>1</th><td>2013/07/22 00:00:00+00</td><td> 755000</td><td>Ward 1</td></tr>\n",
       "\t<tr><th scope=row>2</th><td>1900/01/01 00:00:00+00</td><td>     NA</td><td>Ward 1</td></tr>\n",
       "\t<tr><th scope=row>3</th><td>1996/02/12 00:00:00+00</td><td> 118000</td><td>Ward 1</td></tr>\n",
       "\t<tr><th scope=row>4</th><td>2022/04/06 00:00:00+00</td><td>1110000</td><td>Ward 1</td></tr>\n",
       "\t<tr><th scope=row>5</th><td>2017/03/24 00:00:00+00</td><td>      0</td><td>Ward 1</td></tr>\n",
       "\t<tr><th scope=row>6</th><td>2000/06/30 00:00:00+00</td><td> 251000</td><td>Ward 1</td></tr>\n",
       "</tbody>\n",
       "</table>\n"
      ],
      "text/latex": [
       "A data.frame: 6 × 3\n",
       "\\begin{tabular}{r|lll}\n",
       "  & SALEDATE & PRICE & WARD\\\\\n",
       "  & <chr> & <int> & <chr>\\\\\n",
       "\\hline\n",
       "\t1 & 2013/07/22 00:00:00+00 &  755000 & Ward 1\\\\\n",
       "\t2 & 1900/01/01 00:00:00+00 &      NA & Ward 1\\\\\n",
       "\t3 & 1996/02/12 00:00:00+00 &  118000 & Ward 1\\\\\n",
       "\t4 & 2022/04/06 00:00:00+00 & 1110000 & Ward 1\\\\\n",
       "\t5 & 2017/03/24 00:00:00+00 &       0 & Ward 1\\\\\n",
       "\t6 & 2000/06/30 00:00:00+00 &  251000 & Ward 1\\\\\n",
       "\\end{tabular}\n"
      ],
      "text/markdown": [
       "\n",
       "A data.frame: 6 × 3\n",
       "\n",
       "| <!--/--> | SALEDATE &lt;chr&gt; | PRICE &lt;int&gt; | WARD &lt;chr&gt; |\n",
       "|---|---|---|---|\n",
       "| 1 | 2013/07/22 00:00:00+00 |  755000 | Ward 1 |\n",
       "| 2 | 1900/01/01 00:00:00+00 |      NA | Ward 1 |\n",
       "| 3 | 1996/02/12 00:00:00+00 |  118000 | Ward 1 |\n",
       "| 4 | 2022/04/06 00:00:00+00 | 1110000 | Ward 1 |\n",
       "| 5 | 2017/03/24 00:00:00+00 |       0 | Ward 1 |\n",
       "| 6 | 2000/06/30 00:00:00+00 |  251000 | Ward 1 |\n",
       "\n"
      ],
      "text/plain": [
       "  SALEDATE               PRICE   WARD  \n",
       "1 2013/07/22 00:00:00+00  755000 Ward 1\n",
       "2 1900/01/01 00:00:00+00      NA Ward 1\n",
       "3 1996/02/12 00:00:00+00  118000 Ward 1\n",
       "4 2022/04/06 00:00:00+00 1110000 Ward 1\n",
       "5 2017/03/24 00:00:00+00       0 Ward 1\n",
       "6 2000/06/30 00:00:00+00  251000 Ward 1"
      ]
     },
     "metadata": {},
     "output_type": "display_data"
    },
    {
     "data": {
      "text/plain": [
       "   SALEDATE             PRICE              WARD          \n",
       " Length:108403      Min.   :       0   Length:108403     \n",
       " Class :character   1st Qu.:       0   Class :character  \n",
       " Mode  :character   Median :  294000   Mode  :character  \n",
       "                    Mean   :  465255                     \n",
       "                    3rd Qu.:  715000                     \n",
       "                    Max.   :25100000                     \n",
       "                    NA's   :14181                        "
      ]
     },
     "metadata": {},
     "output_type": "display_data"
    },
    {
     "name": "stdout",
     "output_type": "stream",
     "text": [
      "'data.frame':\t108403 obs. of  3 variables:\n",
      " $ SALEDATE: chr  \"2013/07/22 00:00:00+00\" \"1900/01/01 00:00:00+00\" \"1996/02/12 00:00:00+00\" \"2022/04/06 00:00:00+00\" ...\n",
      " $ PRICE   : int  755000 NA 118000 1110000 0 251000 930388 606500 0 162000 ...\n",
      " $ WARD    : chr  \"Ward 1\" \"Ward 1\" \"Ward 1\" \"Ward 1\" ...\n"
     ]
    }
   ],
   "source": [
    "################################################################################\n",
    "# Create a new data set for the total population\n",
    "# Three features, \"SALEDATE\", \"PRICE\", and \"Ward\"\n",
    "\n",
    "HOUSE_TS1.df <- subset(HOUSE.df, select = c(SALEDATE, PRICE, WARD))\n",
    "\n",
    "head(HOUSE_TS1.df)     #Verify the first five rows of the dataframe\n",
    "\n",
    "summary(HOUSE_TS1.df)     #To check the variables and counts\n",
    "\n",
    "str(HOUSE_TS1.df)   #To check the data structure of the loaded dataset\n",
    "################################################################################"
   ]
  },
  {
   "cell_type": "code",
   "execution_count": 3,
   "metadata": {},
   "outputs": [
    {
     "data": {
      "text/plain": [
       "   SALEDATE             PRICE              WARD          \n",
       " Length:62008       Min.   :       1   Length:62008      \n",
       " Class :character   1st Qu.:  300000   Class :character  \n",
       " Mode  :character   Median :  557985   Mode  :character  \n",
       "                    Mean   :  706961                     \n",
       "                    3rd Qu.:  894000                     \n",
       "                    Max.   :25100000                     "
      ]
     },
     "metadata": {},
     "output_type": "display_data"
    }
   ],
   "source": [
    "################################################################################\n",
    "# Remove 0s and NA's from the \"PRICE\" variable\n",
    "HOUSE_TS1.df[HOUSE_TS1.df==0] <- NA     # Set all 0s to NA\n",
    "\n",
    "HOUSE_TS1.df <- na.omit(HOUSE_TS1.df)     # Removes all NA's from the dataframe\n",
    "\n",
    "summary(HOUSE_TS1.df)     #To check the variables and counts\n",
    "################################################################################"
   ]
  },
  {
   "cell_type": "code",
   "execution_count": 4,
   "metadata": {},
   "outputs": [
    {
     "name": "stderr",
     "output_type": "stream",
     "text": [
      "Installing package into 'C:/Users/bates/AppData/Local/R/win-library/4.2'\n",
      "(as 'lib' is unspecified)\n",
      "\n"
     ]
    },
    {
     "name": "stdout",
     "output_type": "stream",
     "text": [
      "package 'ggplot2' successfully unpacked and MD5 sums checked\n",
      "\n",
      "The downloaded binary packages are in\n",
      "\tC:\\Users\\bates\\AppData\\Local\\Temp\\RtmpWOUmFc\\downloaded_packages\n"
     ]
    },
    {
     "name": "stderr",
     "output_type": "stream",
     "text": [
      "Installing package into 'C:/Users/bates/AppData/Local/R/win-library/4.2'\n",
      "(as 'lib' is unspecified)\n",
      "\n"
     ]
    },
    {
     "name": "stdout",
     "output_type": "stream",
     "text": [
      "package 'dplyr' successfully unpacked and MD5 sums checked\n"
     ]
    },
    {
     "name": "stderr",
     "output_type": "stream",
     "text": [
      "Warning message:\n",
      "\"cannot remove prior installation of package 'dplyr'\"\n",
      "Warning message in file.copy(savedcopy, lib, recursive = TRUE):\n",
      "\"problem copying C:\\Users\\bates\\AppData\\Local\\R\\win-library\\4.2\\00LOCK\\dplyr\\libs\\x64\\dplyr.dll to C:\\Users\\bates\\AppData\\Local\\R\\win-library\\4.2\\dplyr\\libs\\x64\\dplyr.dll: Permission denied\"\n",
      "Warning message:\n",
      "\"restored 'dplyr'\"\n"
     ]
    },
    {
     "name": "stdout",
     "output_type": "stream",
     "text": [
      "\n",
      "The downloaded binary packages are in\n",
      "\tC:\\Users\\bates\\AppData\\Local\\Temp\\RtmpWOUmFc\\downloaded_packages\n"
     ]
    },
    {
     "name": "stderr",
     "output_type": "stream",
     "text": [
      "\n",
      "Attaching package: 'dplyr'\n",
      "\n",
      "\n",
      "The following objects are masked from 'package:stats':\n",
      "\n",
      "    filter, lag\n",
      "\n",
      "\n",
      "The following objects are masked from 'package:base':\n",
      "\n",
      "    intersect, setdiff, setequal, union\n",
      "\n",
      "\n"
     ]
    },
    {
     "data": {
      "image/png": "[encoded data removed]",
      "text/plain": [
       "plot without title"
      ]
     },
     "metadata": {
      "image/png": {
       "height": 420,
       "width": 420
      }
     },
     "output_type": "display_data"
    }
   ],
   "source": [
    "################################################################################\n",
    "# Boxplot of the \"PRICE\" variable\n",
    "# Install packages\n",
    "install.packages(\"ggplot2\")\n",
    "install.packages(\"dplyr\")\n",
    "library(\"ggplot2\")\n",
    "library(\"dplyr\")\n",
    "\n",
    "# Create boxplot of the \"PRICE\" variable \n",
    "ggplot(data = HOUSE_TS1.df, aes(x = \"\", y = PRICE)) + \n",
    "  geom_boxplot() +\n",
    "  coord_cartesian(ylim = c(0, 26000000)) # Set the y axis scale\n",
    "################################################################################"
   ]
  },
  {
   "cell_type": "code",
   "execution_count": 5,
   "metadata": {},
   "outputs": [
    {
     "name": "stderr",
     "output_type": "stream",
     "text": [
      "Installing package into 'C:/Users/bates/AppData/Local/R/win-library/4.2'\n",
      "(as 'lib' is unspecified)\n",
      "\n"
     ]
    },
    {
     "name": "stdout",
     "output_type": "stream",
     "text": [
      "package 'lubridate' successfully unpacked and MD5 sums checked\n"
     ]
    },
    {
     "name": "stderr",
     "output_type": "stream",
     "text": [
      "Warning message:\n",
      "\"cannot remove prior installation of package 'lubridate'\"\n",
      "Warning message in file.copy(savedcopy, lib, recursive = TRUE):\n",
      "\"problem copying C:\\Users\\bates\\AppData\\Local\\R\\win-library\\4.2\\00LOCK\\lubridate\\libs\\x64\\lubridate.dll to C:\\Users\\bates\\AppData\\Local\\R\\win-library\\4.2\\lubridate\\libs\\x64\\lubridate.dll: Permission denied\"\n",
      "Warning message:\n",
      "\"restored 'lubridate'\"\n"
     ]
    },
    {
     "name": "stdout",
     "output_type": "stream",
     "text": [
      "\n",
      "The downloaded binary packages are in\n",
      "\tC:\\Users\\bates\\AppData\\Local\\Temp\\RtmpWOUmFc\\downloaded_packages\n"
     ]
    },
    {
     "name": "stderr",
     "output_type": "stream",
     "text": [
      "Installing package into 'C:/Users/bates/AppData/Local/R/win-library/4.2'\n",
      "(as 'lib' is unspecified)\n",
      "\n"
     ]
    },
    {
     "name": "stdout",
     "output_type": "stream",
     "text": [
      "package 'linelist' successfully unpacked and MD5 sums checked\n",
      "\n",
      "The downloaded binary packages are in\n",
      "\tC:\\Users\\bates\\AppData\\Local\\Temp\\RtmpWOUmFc\\downloaded_packages\n"
     ]
    },
    {
     "name": "stderr",
     "output_type": "stream",
     "text": [
      "Installing package into 'C:/Users/bates/AppData/Local/R/win-library/4.2'\n",
      "(as 'lib' is unspecified)\n",
      "\n"
     ]
    },
    {
     "name": "stdout",
     "output_type": "stream",
     "text": [
      "package 'aweek' successfully unpacked and MD5 sums checked\n",
      "\n",
      "The downloaded binary packages are in\n",
      "\tC:\\Users\\bates\\AppData\\Local\\Temp\\RtmpWOUmFc\\downloaded_packages\n"
     ]
    },
    {
     "name": "stderr",
     "output_type": "stream",
     "text": [
      "Installing package into 'C:/Users/bates/AppData/Local/R/win-library/4.2'\n",
      "(as 'lib' is unspecified)\n",
      "\n"
     ]
    },
    {
     "name": "stdout",
     "output_type": "stream",
     "text": [
      "package 'zoo' successfully unpacked and MD5 sums checked\n"
     ]
    },
    {
     "name": "stderr",
     "output_type": "stream",
     "text": [
      "Warning message:\n",
      "\"cannot remove prior installation of package 'zoo'\"\n",
      "Warning message in file.copy(savedcopy, lib, recursive = TRUE):\n",
      "\"problem copying C:\\Users\\bates\\AppData\\Local\\R\\win-library\\4.2\\00LOCK\\zoo\\libs\\x64\\zoo.dll to C:\\Users\\bates\\AppData\\Local\\R\\win-library\\4.2\\zoo\\libs\\x64\\zoo.dll: Permission denied\"\n",
      "Warning message:\n",
      "\"restored 'zoo'\"\n"
     ]
    },
    {
     "name": "stdout",
     "output_type": "stream",
     "text": [
      "\n",
      "The downloaded binary packages are in\n",
      "\tC:\\Users\\bates\\AppData\\Local\\Temp\\RtmpWOUmFc\\downloaded_packages\n"
     ]
    },
    {
     "name": "stderr",
     "output_type": "stream",
     "text": [
      "Installing package into 'C:/Users/bates/AppData/Local/R/win-library/4.2'\n",
      "(as 'lib' is unspecified)\n",
      "\n"
     ]
    },
    {
     "name": "stdout",
     "output_type": "stream",
     "text": [
      "package 'tidyverse' successfully unpacked and MD5 sums checked\n",
      "\n",
      "The downloaded binary packages are in\n",
      "\tC:\\Users\\bates\\AppData\\Local\\Temp\\RtmpWOUmFc\\downloaded_packages\n"
     ]
    },
    {
     "name": "stderr",
     "output_type": "stream",
     "text": [
      "Installing package into 'C:/Users/bates/AppData/Local/R/win-library/4.2'\n",
      "(as 'lib' is unspecified)\n",
      "\n"
     ]
    },
    {
     "name": "stdout",
     "output_type": "stream",
     "text": [
      "package 'rio' successfully unpacked and MD5 sums checked\n",
      "\n",
      "The downloaded binary packages are in\n",
      "\tC:\\Users\\bates\\AppData\\Local\\Temp\\RtmpWOUmFc\\downloaded_packages\n"
     ]
    },
    {
     "name": "stderr",
     "output_type": "stream",
     "text": [
      "\n",
      "Attaching package: 'lubridate'\n",
      "\n",
      "\n",
      "The following objects are masked from 'package:base':\n",
      "\n",
      "    date, intersect, setdiff, union\n",
      "\n",
      "\n",
      "\n",
      "Attaching package: 'zoo'\n",
      "\n",
      "\n",
      "The following objects are masked from 'package:base':\n",
      "\n",
      "    as.Date, as.Date.numeric\n",
      "\n",
      "\n",
      "── \u001b[1mAttaching packages\u001b[22m ─────────────────────────────────────────────────────────────────────────────── tidyverse 1.3.2 ──\n",
      "\u001b[32m✔\u001b[39m \u001b[34mtibble \u001b[39m 3.1.8     \u001b[32m✔\u001b[39m \u001b[34mpurrr  \u001b[39m 0.3.4\n",
      "\u001b[32m✔\u001b[39m \u001b[34mtidyr  \u001b[39m 1.2.1     \u001b[32m✔\u001b[39m \u001b[34mstringr\u001b[39m 1.4.1\n",
      "\u001b[32m✔\u001b[39m \u001b[34mreadr  \u001b[39m 2.1.2     \u001b[32m✔\u001b[39m \u001b[34mforcats\u001b[39m 0.5.2\n",
      "── \u001b[1mConflicts\u001b[22m ────────────────────────────────────────────────────────────────────────────────── tidyverse_conflicts() ──\n",
      "\u001b[31m✖\u001b[39m \u001b[34mlubridate\u001b[39m::\u001b[32mas.difftime()\u001b[39m masks \u001b[34mbase\u001b[39m::as.difftime()\n",
      "\u001b[31m✖\u001b[39m \u001b[34mlubridate\u001b[39m::\u001b[32mdate()\u001b[39m        masks \u001b[34mbase\u001b[39m::date()\n",
      "\u001b[31m✖\u001b[39m \u001b[34mdplyr\u001b[39m::\u001b[32mfilter()\u001b[39m          masks \u001b[34mstats\u001b[39m::filter()\n",
      "\u001b[31m✖\u001b[39m \u001b[34mlubridate\u001b[39m::\u001b[32mintersect()\u001b[39m   masks \u001b[34mbase\u001b[39m::intersect()\n",
      "\u001b[31m✖\u001b[39m \u001b[34mdplyr\u001b[39m::\u001b[32mlag()\u001b[39m             masks \u001b[34mstats\u001b[39m::lag()\n",
      "\u001b[31m✖\u001b[39m \u001b[34mlubridate\u001b[39m::\u001b[32msetdiff()\u001b[39m     masks \u001b[34mbase\u001b[39m::setdiff()\n",
      "\u001b[31m✖\u001b[39m \u001b[34mlubridate\u001b[39m::\u001b[32munion()\u001b[39m       masks \u001b[34mbase\u001b[39m::union()\n"
     ]
    }
   ],
   "source": [
    "################################################################################\n",
    "# Install packages to work with dates\n",
    "install.packages(\"lubridate\")  # general package for handling and converting dates)\n",
    "install.packages(\"linelist\")   # has function to \"guess\" messy dates\n",
    "install.packages(\"aweek\")      # another option for converting dates to weeks, and weeks to dates\n",
    "install.packages(\"zoo\")        # additional date/time functions\n",
    "install.packages(\"tidyverse\")  # data management and visualization  \n",
    "install.packages(\"rio\")        # data import/export\n",
    "library(\"lubridate\")  \n",
    "library(\"linelist\")   \n",
    "library(\"aweek\")      \n",
    "library(\"zoo\")        \n",
    "library(\"tidyverse\")    \n",
    "library(\"rio\")   \n",
    "################################################################################"
   ]
  },
  {
   "cell_type": "code",
   "execution_count": 6,
   "metadata": {},
   "outputs": [
    {
     "data": {
      "text/html": [
       "'character'"
      ],
      "text/latex": [
       "'character'"
      ],
      "text/markdown": [
       "'character'"
      ],
      "text/plain": [
       "[1] \"character\""
      ]
     },
     "metadata": {},
     "output_type": "display_data"
    },
    {
     "data": {
      "text/html": [
       "<table class=\"dataframe\">\n",
       "<caption>A data.frame: 6 × 3</caption>\n",
       "<thead>\n",
       "\t<tr><th></th><th scope=col>SALEDATE</th><th scope=col>PRICE</th><th scope=col>WARD</th></tr>\n",
       "\t<tr><th></th><th scope=col>&lt;date&gt;</th><th scope=col>&lt;int&gt;</th><th scope=col>&lt;chr&gt;</th></tr>\n",
       "</thead>\n",
       "<tbody>\n",
       "\t<tr><th scope=row>1</th><td>2013-07-22</td><td> 755000</td><td>Ward 1</td></tr>\n",
       "\t<tr><th scope=row>3</th><td>1996-02-12</td><td> 118000</td><td>Ward 1</td></tr>\n",
       "\t<tr><th scope=row>4</th><td>2022-04-06</td><td>1110000</td><td>Ward 1</td></tr>\n",
       "\t<tr><th scope=row>6</th><td>2000-06-30</td><td> 251000</td><td>Ward 1</td></tr>\n",
       "\t<tr><th scope=row>7</th><td>2021-11-22</td><td> 930388</td><td>Ward 1</td></tr>\n",
       "\t<tr><th scope=row>8</th><td>2006-02-06</td><td> 606500</td><td>Ward 1</td></tr>\n",
       "</tbody>\n",
       "</table>\n"
      ],
      "text/latex": [
       "A data.frame: 6 × 3\n",
       "\\begin{tabular}{r|lll}\n",
       "  & SALEDATE & PRICE & WARD\\\\\n",
       "  & <date> & <int> & <chr>\\\\\n",
       "\\hline\n",
       "\t1 & 2013-07-22 &  755000 & Ward 1\\\\\n",
       "\t3 & 1996-02-12 &  118000 & Ward 1\\\\\n",
       "\t4 & 2022-04-06 & 1110000 & Ward 1\\\\\n",
       "\t6 & 2000-06-30 &  251000 & Ward 1\\\\\n",
       "\t7 & 2021-11-22 &  930388 & Ward 1\\\\\n",
       "\t8 & 2006-02-06 &  606500 & Ward 1\\\\\n",
       "\\end{tabular}\n"
      ],
      "text/markdown": [
       "\n",
       "A data.frame: 6 × 3\n",
       "\n",
       "| <!--/--> | SALEDATE &lt;date&gt; | PRICE &lt;int&gt; | WARD &lt;chr&gt; |\n",
       "|---|---|---|---|\n",
       "| 1 | 2013-07-22 |  755000 | Ward 1 |\n",
       "| 3 | 1996-02-12 |  118000 | Ward 1 |\n",
       "| 4 | 2022-04-06 | 1110000 | Ward 1 |\n",
       "| 6 | 2000-06-30 |  251000 | Ward 1 |\n",
       "| 7 | 2021-11-22 |  930388 | Ward 1 |\n",
       "| 8 | 2006-02-06 |  606500 | Ward 1 |\n",
       "\n"
      ],
      "text/plain": [
       "  SALEDATE   PRICE   WARD  \n",
       "1 2013-07-22  755000 Ward 1\n",
       "3 1996-02-12  118000 Ward 1\n",
       "4 2022-04-06 1110000 Ward 1\n",
       "6 2000-06-30  251000 Ward 1\n",
       "7 2021-11-22  930388 Ward 1\n",
       "8 2006-02-06  606500 Ward 1"
      ]
     },
     "metadata": {},
     "output_type": "display_data"
    },
    {
     "data": {
      "text/html": [
       "'Date'"
      ],
      "text/latex": [
       "'Date'"
      ],
      "text/markdown": [
       "'Date'"
      ],
      "text/plain": [
       "[1] \"Date\""
      ]
     },
     "metadata": {},
     "output_type": "display_data"
    },
    {
     "data": {
      "text/html": [
       "<table class=\"dataframe\">\n",
       "<caption>A data.frame: 6 × 3</caption>\n",
       "<thead>\n",
       "\t<tr><th></th><th scope=col>SALEDATE</th><th scope=col>PRICE</th><th scope=col>WARD</th></tr>\n",
       "\t<tr><th></th><th scope=col>&lt;chr&gt;</th><th scope=col>&lt;int&gt;</th><th scope=col>&lt;chr&gt;</th></tr>\n",
       "</thead>\n",
       "<tbody>\n",
       "\t<tr><th scope=row>1</th><td>2013-07</td><td> 755000</td><td>Ward 1</td></tr>\n",
       "\t<tr><th scope=row>3</th><td>1996-02</td><td> 118000</td><td>Ward 1</td></tr>\n",
       "\t<tr><th scope=row>4</th><td>2022-04</td><td>1110000</td><td>Ward 1</td></tr>\n",
       "\t<tr><th scope=row>6</th><td>2000-06</td><td> 251000</td><td>Ward 1</td></tr>\n",
       "\t<tr><th scope=row>7</th><td>2021-11</td><td> 930388</td><td>Ward 1</td></tr>\n",
       "\t<tr><th scope=row>8</th><td>2006-02</td><td> 606500</td><td>Ward 1</td></tr>\n",
       "</tbody>\n",
       "</table>\n"
      ],
      "text/latex": [
       "A data.frame: 6 × 3\n",
       "\\begin{tabular}{r|lll}\n",
       "  & SALEDATE & PRICE & WARD\\\\\n",
       "  & <chr> & <int> & <chr>\\\\\n",
       "\\hline\n",
       "\t1 & 2013-07 &  755000 & Ward 1\\\\\n",
       "\t3 & 1996-02 &  118000 & Ward 1\\\\\n",
       "\t4 & 2022-04 & 1110000 & Ward 1\\\\\n",
       "\t6 & 2000-06 &  251000 & Ward 1\\\\\n",
       "\t7 & 2021-11 &  930388 & Ward 1\\\\\n",
       "\t8 & 2006-02 &  606500 & Ward 1\\\\\n",
       "\\end{tabular}\n"
      ],
      "text/markdown": [
       "\n",
       "A data.frame: 6 × 3\n",
       "\n",
       "| <!--/--> | SALEDATE &lt;chr&gt; | PRICE &lt;int&gt; | WARD &lt;chr&gt; |\n",
       "|---|---|---|---|\n",
       "| 1 | 2013-07 |  755000 | Ward 1 |\n",
       "| 3 | 1996-02 |  118000 | Ward 1 |\n",
       "| 4 | 2022-04 | 1110000 | Ward 1 |\n",
       "| 6 | 2000-06 |  251000 | Ward 1 |\n",
       "| 7 | 2021-11 |  930388 | Ward 1 |\n",
       "| 8 | 2006-02 |  606500 | Ward 1 |\n",
       "\n"
      ],
      "text/plain": [
       "  SALEDATE PRICE   WARD  \n",
       "1 2013-07   755000 Ward 1\n",
       "3 1996-02   118000 Ward 1\n",
       "4 2022-04  1110000 Ward 1\n",
       "6 2000-06   251000 Ward 1\n",
       "7 2021-11   930388 Ward 1\n",
       "8 2006-02   606500 Ward 1"
      ]
     },
     "metadata": {},
     "output_type": "display_data"
    }
   ],
   "source": [
    "################################################################################\n",
    "# Clean up Date attribute\n",
    "class(HOUSE_TS1.df$SALEDATE)   #Check the class of the \"SALEDATE\" field\n",
    "\n",
    "# Because \"SALEDATE\" is class 'character', we must convert it to class 'Date'\n",
    "# Tell R how to identify the date parts of the \"SALEDATE\" field\n",
    "# The format = argument specifies the date components and \n",
    "# drops the time component in the \"SALEDATE'\n",
    "HOUSE_TS1.df$SALEDATE <- as.Date(HOUSE_TS1.df$SALEDATE, format = \"%Y/%m/%d\")\n",
    "\n",
    "head(HOUSE_TS1.df)   # Verify the time component was dropped\n",
    "\n",
    "class(HOUSE_TS1.df$SALEDATE)   # Check the class of the \"SALEDATE\" field \n",
    "\n",
    "# Drop the 'day' from the date\n",
    "HOUSE_TS2.df <- HOUSE_TS1.df\n",
    "HOUSE_TS2.df$SALEDATE <- format(HOUSE_TS2.df$SALEDATE, format = \"%Y-%m\")\n",
    "\n",
    "head(HOUSE_TS2.df)   # Verify the day component was dropped\n",
    "################################################################################"
   ]
  },
  {
   "cell_type": "code",
   "execution_count": 7,
   "metadata": {},
   "outputs": [
    {
     "data": {
      "text/plain": [
       "   SALEDATE             PRICE              WARD          \n",
       " Length:15131       Min.   :       1   Length:15131      \n",
       " Class :character   1st Qu.:  175000   Class :character  \n",
       " Mode  :character   Median :  299999   Mode  :character  \n",
       "                    Mean   :  339256                     \n",
       "                    3rd Qu.:  426305                     \n",
       "                    Max.   :25100000                     "
      ]
     },
     "metadata": {},
     "output_type": "display_data"
    },
    {
     "name": "stdout",
     "output_type": "stream",
     "text": [
      "'data.frame':\t15131 obs. of  3 variables:\n",
      " $ SALEDATE: chr  \"2021-07\" \"2010-04\" \"2011-10\" \"2022-05\" ...\n",
      " $ PRICE   : int  1285000 692325 775000 1495000 1175000 889535 1235000 801490 1160000 1075000 ...\n",
      " $ WARD    : chr  \"Ward 8\" \"Ward 8\" \"Ward 8\" \"Ward 8\" ...\n"
     ]
    },
    {
     "data": {
      "text/html": [
       "<table class=\"dataframe\">\n",
       "<caption>A data.frame: 6 × 2</caption>\n",
       "<thead>\n",
       "\t<tr><th></th><th scope=col>SALEDATE</th><th scope=col>PRICE</th></tr>\n",
       "\t<tr><th></th><th scope=col>&lt;chr&gt;</th><th scope=col>&lt;int&gt;</th></tr>\n",
       "</thead>\n",
       "<tbody>\n",
       "\t<tr><th scope=row>7253</th><td>2021-07</td><td>1285000</td></tr>\n",
       "\t<tr><th scope=row>7256</th><td>2010-04</td><td> 692325</td></tr>\n",
       "\t<tr><th scope=row>7257</th><td>2011-10</td><td> 775000</td></tr>\n",
       "\t<tr><th scope=row>7258</th><td>2022-05</td><td>1495000</td></tr>\n",
       "\t<tr><th scope=row>7259</th><td>2018-11</td><td>1175000</td></tr>\n",
       "\t<tr><th scope=row>7260</th><td>2010-05</td><td> 889535</td></tr>\n",
       "</tbody>\n",
       "</table>\n"
      ],
      "text/latex": [
       "A data.frame: 6 × 2\n",
       "\\begin{tabular}{r|ll}\n",
       "  & SALEDATE & PRICE\\\\\n",
       "  & <chr> & <int>\\\\\n",
       "\\hline\n",
       "\t7253 & 2021-07 & 1285000\\\\\n",
       "\t7256 & 2010-04 &  692325\\\\\n",
       "\t7257 & 2011-10 &  775000\\\\\n",
       "\t7258 & 2022-05 & 1495000\\\\\n",
       "\t7259 & 2018-11 & 1175000\\\\\n",
       "\t7260 & 2010-05 &  889535\\\\\n",
       "\\end{tabular}\n"
      ],
      "text/markdown": [
       "\n",
       "A data.frame: 6 × 2\n",
       "\n",
       "| <!--/--> | SALEDATE &lt;chr&gt; | PRICE &lt;int&gt; |\n",
       "|---|---|---|\n",
       "| 7253 | 2021-07 | 1285000 |\n",
       "| 7256 | 2010-04 |  692325 |\n",
       "| 7257 | 2011-10 |  775000 |\n",
       "| 7258 | 2022-05 | 1495000 |\n",
       "| 7259 | 2018-11 | 1175000 |\n",
       "| 7260 | 2010-05 |  889535 |\n",
       "\n"
      ],
      "text/plain": [
       "     SALEDATE PRICE  \n",
       "7253 2021-07  1285000\n",
       "7256 2010-04   692325\n",
       "7257 2011-10   775000\n",
       "7258 2022-05  1495000\n",
       "7259 2018-11  1175000\n",
       "7260 2010-05   889535"
      ]
     },
     "metadata": {},
     "output_type": "display_data"
    }
   ],
   "source": [
    "################################################################################\n",
    "# Filter database for only Wards 7 & 8\n",
    "\n",
    "HOUSE_TS2.df <- subset(HOUSE_TS2.df, WARD %in% c(\"Ward 7\", \"Ward 8\"))\n",
    "\n",
    "summary(HOUSE_TS2.df)     #To check the variables and counts\n",
    "\n",
    "str(HOUSE_TS2.df)   #To check the data structure\n",
    "\n",
    "# Create a new data set for the Ward 1 &2 population\n",
    "# Drop the Ward attribute and keep two features, \"SALEDATE\", \"PRICE\"\n",
    "\n",
    "HOUSE_TS2.df <- subset(HOUSE_TS2.df, select = c(SALEDATE, PRICE))\n",
    "\n",
    "head(HOUSE_TS2.df)     #Verify the first five rows of the dataframe\n",
    "\n",
    "################################################################################"
   ]
  },
  {
   "cell_type": "code",
   "execution_count": 8,
   "metadata": {},
   "outputs": [
    {
     "data": {
      "text/plain": [
       "   SALEDATE             PRICE         \n",
       " Length:15131       Min.   :       1  \n",
       " Class :character   1st Qu.:  175000  \n",
       " Mode  :character   Median :  299999  \n",
       "                    Mean   :  339256  \n",
       "                    3rd Qu.:  426305  \n",
       "                    Max.   :25100000  "
      ]
     },
     "metadata": {},
     "output_type": "display_data"
    },
    {
     "data": {
      "text/plain": [
       "   SALEDATE             PRICE       \n",
       " Length:371         Min.   : 40000  \n",
       " Class :character   1st Qu.:106560  \n",
       " Mode  :character   Median :239434  \n",
       "                    Mean   :245759  \n",
       "                    3rd Qu.:317116  \n",
       "                    Max.   :929861  "
      ]
     },
     "metadata": {},
     "output_type": "display_data"
    },
    {
     "data": {
      "text/html": [
       "<table class=\"dataframe\">\n",
       "<caption>A data.frame: 20 × 2</caption>\n",
       "<thead>\n",
       "\t<tr><th></th><th scope=col>SALEDATE</th><th scope=col>PRICE</th></tr>\n",
       "\t<tr><th></th><th scope=col>&lt;chr&gt;</th><th scope=col>&lt;dbl&gt;</th></tr>\n",
       "</thead>\n",
       "<tbody>\n",
       "\t<tr><th scope=row>1</th><td>1900-01</td><td> 48000.00</td></tr>\n",
       "\t<tr><th scope=row>2</th><td>1984-07</td><td> 40000.00</td></tr>\n",
       "\t<tr><th scope=row>3</th><td>1991-01</td><td>103000.00</td></tr>\n",
       "\t<tr><th scope=row>4</th><td>1992-01</td><td> 92911.10</td></tr>\n",
       "\t<tr><th scope=row>5</th><td>1992-02</td><td> 75375.00</td></tr>\n",
       "\t<tr><th scope=row>6</th><td>1992-03</td><td> 91500.00</td></tr>\n",
       "\t<tr><th scope=row>7</th><td>1992-04</td><td> 81860.00</td></tr>\n",
       "\t<tr><th scope=row>8</th><td>1992-05</td><td> 76500.00</td></tr>\n",
       "\t<tr><th scope=row>9</th><td>1992-06</td><td> 88667.31</td></tr>\n",
       "\t<tr><th scope=row>10</th><td>1992-07</td><td> 94302.59</td></tr>\n",
       "\t<tr><th scope=row>11</th><td>1992-08</td><td> 80890.82</td></tr>\n",
       "\t<tr><th scope=row>12</th><td>1992-09</td><td>111875.00</td></tr>\n",
       "\t<tr><th scope=row>13</th><td>1992-10</td><td> 95833.33</td></tr>\n",
       "\t<tr><th scope=row>14</th><td>1992-11</td><td> 93159.07</td></tr>\n",
       "\t<tr><th scope=row>15</th><td>1992-12</td><td> 96505.75</td></tr>\n",
       "\t<tr><th scope=row>16</th><td>1993-01</td><td>113082.60</td></tr>\n",
       "\t<tr><th scope=row>17</th><td>1993-02</td><td> 97096.60</td></tr>\n",
       "\t<tr><th scope=row>18</th><td>1993-03</td><td> 96160.00</td></tr>\n",
       "\t<tr><th scope=row>19</th><td>1993-04</td><td> 75008.33</td></tr>\n",
       "\t<tr><th scope=row>20</th><td>1993-05</td><td>110700.00</td></tr>\n",
       "</tbody>\n",
       "</table>\n"
      ],
      "text/latex": [
       "A data.frame: 20 × 2\n",
       "\\begin{tabular}{r|ll}\n",
       "  & SALEDATE & PRICE\\\\\n",
       "  & <chr> & <dbl>\\\\\n",
       "\\hline\n",
       "\t1 & 1900-01 &  48000.00\\\\\n",
       "\t2 & 1984-07 &  40000.00\\\\\n",
       "\t3 & 1991-01 & 103000.00\\\\\n",
       "\t4 & 1992-01 &  92911.10\\\\\n",
       "\t5 & 1992-02 &  75375.00\\\\\n",
       "\t6 & 1992-03 &  91500.00\\\\\n",
       "\t7 & 1992-04 &  81860.00\\\\\n",
       "\t8 & 1992-05 &  76500.00\\\\\n",
       "\t9 & 1992-06 &  88667.31\\\\\n",
       "\t10 & 1992-07 &  94302.59\\\\\n",
       "\t11 & 1992-08 &  80890.82\\\\\n",
       "\t12 & 1992-09 & 111875.00\\\\\n",
       "\t13 & 1992-10 &  95833.33\\\\\n",
       "\t14 & 1992-11 &  93159.07\\\\\n",
       "\t15 & 1992-12 &  96505.75\\\\\n",
       "\t16 & 1993-01 & 113082.60\\\\\n",
       "\t17 & 1993-02 &  97096.60\\\\\n",
       "\t18 & 1993-03 &  96160.00\\\\\n",
       "\t19 & 1993-04 &  75008.33\\\\\n",
       "\t20 & 1993-05 & 110700.00\\\\\n",
       "\\end{tabular}\n"
      ],
      "text/markdown": [
       "\n",
       "A data.frame: 20 × 2\n",
       "\n",
       "| <!--/--> | SALEDATE &lt;chr&gt; | PRICE &lt;dbl&gt; |\n",
       "|---|---|---|\n",
       "| 1 | 1900-01 |  48000.00 |\n",
       "| 2 | 1984-07 |  40000.00 |\n",
       "| 3 | 1991-01 | 103000.00 |\n",
       "| 4 | 1992-01 |  92911.10 |\n",
       "| 5 | 1992-02 |  75375.00 |\n",
       "| 6 | 1992-03 |  91500.00 |\n",
       "| 7 | 1992-04 |  81860.00 |\n",
       "| 8 | 1992-05 |  76500.00 |\n",
       "| 9 | 1992-06 |  88667.31 |\n",
       "| 10 | 1992-07 |  94302.59 |\n",
       "| 11 | 1992-08 |  80890.82 |\n",
       "| 12 | 1992-09 | 111875.00 |\n",
       "| 13 | 1992-10 |  95833.33 |\n",
       "| 14 | 1992-11 |  93159.07 |\n",
       "| 15 | 1992-12 |  96505.75 |\n",
       "| 16 | 1993-01 | 113082.60 |\n",
       "| 17 | 1993-02 |  97096.60 |\n",
       "| 18 | 1993-03 |  96160.00 |\n",
       "| 19 | 1993-04 |  75008.33 |\n",
       "| 20 | 1993-05 | 110700.00 |\n",
       "\n"
      ],
      "text/plain": [
       "   SALEDATE PRICE    \n",
       "1  1900-01   48000.00\n",
       "2  1984-07   40000.00\n",
       "3  1991-01  103000.00\n",
       "4  1992-01   92911.10\n",
       "5  1992-02   75375.00\n",
       "6  1992-03   91500.00\n",
       "7  1992-04   81860.00\n",
       "8  1992-05   76500.00\n",
       "9  1992-06   88667.31\n",
       "10 1992-07   94302.59\n",
       "11 1992-08   80890.82\n",
       "12 1992-09  111875.00\n",
       "13 1992-10   95833.33\n",
       "14 1992-11   93159.07\n",
       "15 1992-12   96505.75\n",
       "16 1993-01  113082.60\n",
       "17 1993-02   97096.60\n",
       "18 1993-03   96160.00\n",
       "19 1993-04   75008.33\n",
       "20 1993-05  110700.00"
      ]
     },
     "metadata": {},
     "output_type": "display_data"
    },
    {
     "data": {
      "text/html": [
       "<table class=\"dataframe\">\n",
       "<caption>A data.frame: 20 × 2</caption>\n",
       "<thead>\n",
       "\t<tr><th></th><th scope=col>SALEDATE</th><th scope=col>PRICE</th></tr>\n",
       "\t<tr><th></th><th scope=col>&lt;chr&gt;</th><th scope=col>&lt;dbl&gt;</th></tr>\n",
       "</thead>\n",
       "<tbody>\n",
       "\t<tr><th scope=row>352</th><td>2021-01</td><td>501617.5</td></tr>\n",
       "\t<tr><th scope=row>353</th><td>2021-02</td><td>561409.1</td></tr>\n",
       "\t<tr><th scope=row>354</th><td>2021-03</td><td>539660.1</td></tr>\n",
       "\t<tr><th scope=row>355</th><td>2021-04</td><td>531662.9</td></tr>\n",
       "\t<tr><th scope=row>356</th><td>2021-05</td><td>535898.7</td></tr>\n",
       "\t<tr><th scope=row>357</th><td>2021-06</td><td>544970.9</td></tr>\n",
       "\t<tr><th scope=row>358</th><td>2021-07</td><td>547710.7</td></tr>\n",
       "\t<tr><th scope=row>359</th><td>2021-08</td><td>526688.9</td></tr>\n",
       "\t<tr><th scope=row>360</th><td>2021-09</td><td>499184.4</td></tr>\n",
       "\t<tr><th scope=row>361</th><td>2021-10</td><td>548654.2</td></tr>\n",
       "\t<tr><th scope=row>362</th><td>2021-11</td><td>543354.8</td></tr>\n",
       "\t<tr><th scope=row>363</th><td>2021-12</td><td>524232.9</td></tr>\n",
       "\t<tr><th scope=row>364</th><td>2022-01</td><td>517279.9</td></tr>\n",
       "\t<tr><th scope=row>365</th><td>2022-02</td><td>525159.2</td></tr>\n",
       "\t<tr><th scope=row>366</th><td>2022-03</td><td>498430.8</td></tr>\n",
       "\t<tr><th scope=row>367</th><td>2022-04</td><td>573159.8</td></tr>\n",
       "\t<tr><th scope=row>368</th><td>2022-05</td><td>561250.6</td></tr>\n",
       "\t<tr><th scope=row>369</th><td>2022-06</td><td>567514.3</td></tr>\n",
       "\t<tr><th scope=row>370</th><td>2022-07</td><td>549575.9</td></tr>\n",
       "\t<tr><th scope=row>371</th><td>2022-08</td><td>506120.2</td></tr>\n",
       "</tbody>\n",
       "</table>\n"
      ],
      "text/latex": [
       "A data.frame: 20 × 2\n",
       "\\begin{tabular}{r|ll}\n",
       "  & SALEDATE & PRICE\\\\\n",
       "  & <chr> & <dbl>\\\\\n",
       "\\hline\n",
       "\t352 & 2021-01 & 501617.5\\\\\n",
       "\t353 & 2021-02 & 561409.1\\\\\n",
       "\t354 & 2021-03 & 539660.1\\\\\n",
       "\t355 & 2021-04 & 531662.9\\\\\n",
       "\t356 & 2021-05 & 535898.7\\\\\n",
       "\t357 & 2021-06 & 544970.9\\\\\n",
       "\t358 & 2021-07 & 547710.7\\\\\n",
       "\t359 & 2021-08 & 526688.9\\\\\n",
       "\t360 & 2021-09 & 499184.4\\\\\n",
       "\t361 & 2021-10 & 548654.2\\\\\n",
       "\t362 & 2021-11 & 543354.8\\\\\n",
       "\t363 & 2021-12 & 524232.9\\\\\n",
       "\t364 & 2022-01 & 517279.9\\\\\n",
       "\t365 & 2022-02 & 525159.2\\\\\n",
       "\t366 & 2022-03 & 498430.8\\\\\n",
       "\t367 & 2022-04 & 573159.8\\\\\n",
       "\t368 & 2022-05 & 561250.6\\\\\n",
       "\t369 & 2022-06 & 567514.3\\\\\n",
       "\t370 & 2022-07 & 549575.9\\\\\n",
       "\t371 & 2022-08 & 506120.2\\\\\n",
       "\\end{tabular}\n"
      ],
      "text/markdown": [
       "\n",
       "A data.frame: 20 × 2\n",
       "\n",
       "| <!--/--> | SALEDATE &lt;chr&gt; | PRICE &lt;dbl&gt; |\n",
       "|---|---|---|\n",
       "| 352 | 2021-01 | 501617.5 |\n",
       "| 353 | 2021-02 | 561409.1 |\n",
       "| 354 | 2021-03 | 539660.1 |\n",
       "| 355 | 2021-04 | 531662.9 |\n",
       "| 356 | 2021-05 | 535898.7 |\n",
       "| 357 | 2021-06 | 544970.9 |\n",
       "| 358 | 2021-07 | 547710.7 |\n",
       "| 359 | 2021-08 | 526688.9 |\n",
       "| 360 | 2021-09 | 499184.4 |\n",
       "| 361 | 2021-10 | 548654.2 |\n",
       "| 362 | 2021-11 | 543354.8 |\n",
       "| 363 | 2021-12 | 524232.9 |\n",
       "| 364 | 2022-01 | 517279.9 |\n",
       "| 365 | 2022-02 | 525159.2 |\n",
       "| 366 | 2022-03 | 498430.8 |\n",
       "| 367 | 2022-04 | 573159.8 |\n",
       "| 368 | 2022-05 | 561250.6 |\n",
       "| 369 | 2022-06 | 567514.3 |\n",
       "| 370 | 2022-07 | 549575.9 |\n",
       "| 371 | 2022-08 | 506120.2 |\n",
       "\n"
      ],
      "text/plain": [
       "    SALEDATE PRICE   \n",
       "352 2021-01  501617.5\n",
       "353 2021-02  561409.1\n",
       "354 2021-03  539660.1\n",
       "355 2021-04  531662.9\n",
       "356 2021-05  535898.7\n",
       "357 2021-06  544970.9\n",
       "358 2021-07  547710.7\n",
       "359 2021-08  526688.9\n",
       "360 2021-09  499184.4\n",
       "361 2021-10  548654.2\n",
       "362 2021-11  543354.8\n",
       "363 2021-12  524232.9\n",
       "364 2022-01  517279.9\n",
       "365 2022-02  525159.2\n",
       "366 2022-03  498430.8\n",
       "367 2022-04  573159.8\n",
       "368 2022-05  561250.6\n",
       "369 2022-06  567514.3\n",
       "370 2022-07  549575.9\n",
       "371 2022-08  506120.2"
      ]
     },
     "metadata": {},
     "output_type": "display_data"
    },
    {
     "data": {
      "text/plain": [
       "   SALEDATE             PRICE       \n",
       " Length:151         Min.   :196558  \n",
       " Class :character   1st Qu.:277117  \n",
       " Mode  :character   Median :354685  \n",
       "                    Mean   :377152  \n",
       "                    3rd Qu.:459092  \n",
       "                    Max.   :929861  "
      ]
     },
     "metadata": {},
     "output_type": "display_data"
    },
    {
     "name": "stdout",
     "output_type": "stream",
     "text": [
      "'data.frame':\t151 obs. of  2 variables:\n",
      " $ SALEDATE: chr  \"2010-02\" \"2010-03\" \"2010-04\" \"2010-05\" ...\n",
      " $ PRICE   : num  227580 236867 215447 274510 264669 ...\n"
     ]
    }
   ],
   "source": [
    "################################################################################\n",
    "# Calculate the mean \"Price\" by \"SALEDATE\" (year and month)\n",
    "HOUSE_TS3.df <- HOUSE_TS2.df\n",
    "HOUSE_TS3.df <- aggregate(PRICE~SALEDATE,HOUSE_TS2.df,mean)\n",
    "\n",
    "summary(HOUSE_TS2.df)   #To check the variables and counts before the aggregation\n",
    "\n",
    "summary(HOUSE_TS3.df)   #To check the variables and counts after the aggregation\n",
    "\n",
    "head(HOUSE_TS3.df, 20)\n",
    "\n",
    "tail(HOUSE_TS3.df, 20)\n",
    "\n",
    "# Filter the dataframe for only sales after 2010-01\n",
    "HOUSE_TS4.df <- HOUSE_TS3.df\n",
    "HOUSE_TS4.df <- HOUSE_TS4.df %>% filter(SALEDATE > '2010-01')\n",
    "\n",
    "summary(HOUSE_TS4.df)   #To check the variables and counts\n",
    "\n",
    "str(HOUSE_TS4.df)   #To check the data structure   \n",
    "################################################################################"
   ]
  },
  {
   "cell_type": "code",
   "execution_count": 9,
   "metadata": {},
   "outputs": [
    {
     "data": {
      "text/html": [
       "<table class=\"dataframe\">\n",
       "<caption>A Time Series: 13 × 12</caption>\n",
       "<thead>\n",
       "\t<tr><th></th><th scope=col>Jan</th><th scope=col>Feb</th><th scope=col>Mar</th><th scope=col>Apr</th><th scope=col>May</th><th scope=col>Jun</th><th scope=col>Jul</th><th scope=col>Aug</th><th scope=col>Sep</th><th scope=col>Oct</th><th scope=col>Nov</th><th scope=col>Dec</th></tr>\n",
       "</thead>\n",
       "<tbody>\n",
       "\t<tr><th scope=row>2010</th><td>227579.9</td><td>236867.3</td><td>215447.0</td><td>274509.7</td><td>264668.8</td><td>287032.1</td><td>254292.2</td><td>257695.7</td><td>251263.3</td><td>258728.8</td><td>234229.1</td><td>228019.0</td></tr>\n",
       "\t<tr><th scope=row>2011</th><td>196557.9</td><td>218175.5</td><td>225231.7</td><td>203854.1</td><td>216609.6</td><td>276372.0</td><td>315408.1</td><td>231651.8</td><td>309349.7</td><td>243992.0</td><td>287136.6</td><td>239637.0</td></tr>\n",
       "\t<tr><th scope=row>2012</th><td>278381.8</td><td>274386.1</td><td>258603.9</td><td>280632.2</td><td>335731.1</td><td>264808.9</td><td>271247.7</td><td>283715.7</td><td>367071.9</td><td>256451.2</td><td>250862.7</td><td>222279.3</td></tr>\n",
       "\t<tr><th scope=row>2013</th><td>239090.6</td><td>239011.5</td><td>277682.9</td><td>314798.7</td><td>289556.3</td><td>301206.0</td><td>272600.7</td><td>273731.9</td><td>269652.4</td><td>235628.6</td><td>263496.0</td><td>263163.5</td></tr>\n",
       "\t<tr><th scope=row>2014</th><td>281799.4</td><td>311751.5</td><td>291679.3</td><td>279770.0</td><td>303598.8</td><td>273017.0</td><td>493892.6</td><td>310330.4</td><td>397837.1</td><td>269873.8</td><td>300564.2</td><td>276550.6</td></tr>\n",
       "\t<tr><th scope=row>2015</th><td>313561.4</td><td>318375.1</td><td>324501.2</td><td>375013.7</td><td>344090.6</td><td>325013.8</td><td>324772.5</td><td>341270.2</td><td>306736.2</td><td>390577.5</td><td>326894.0</td><td>309586.1</td></tr>\n",
       "\t<tr><th scope=row>2016</th><td>297067.5</td><td>302020.2</td><td>324933.1</td><td>349008.3</td><td>369142.5</td><td>388758.7</td><td>375486.7</td><td>348578.8</td><td>344708.8</td><td>384366.3</td><td>363132.6</td><td>356506.6</td></tr>\n",
       "\t<tr><th scope=row>2017</th><td>344501.9</td><td>649747.2</td><td>386165.8</td><td>400939.8</td><td>379102.1</td><td>374257.9</td><td>382158.6</td><td>337322.1</td><td>392298.8</td><td>413315.6</td><td>371135.1</td><td>404357.4</td></tr>\n",
       "\t<tr><th scope=row>2018</th><td>929860.9</td><td>354685.4</td><td>721936.2</td><td>430100.2</td><td>418948.8</td><td>430884.5</td><td>439763.6</td><td>418574.1</td><td>424328.6</td><td>433660.3</td><td>459482.6</td><td>392723.7</td></tr>\n",
       "\t<tr><th scope=row>2019</th><td>450698.9</td><td>426103.5</td><td>445154.7</td><td>438735.6</td><td>603511.4</td><td>508693.0</td><td>431153.3</td><td>402271.0</td><td>442771.9</td><td>477162.4</td><td>435154.8</td><td>458701.5</td></tr>\n",
       "\t<tr><th scope=row>2020</th><td>463226.9</td><td>491248.2</td><td>467913.6</td><td>452165.1</td><td>491009.8</td><td>496047.9</td><td>496223.2</td><td>529808.9</td><td>549634.6</td><td>541522.6</td><td>524422.2</td><td>501617.5</td></tr>\n",
       "\t<tr><th scope=row>2021</th><td>561409.1</td><td>539660.1</td><td>531662.9</td><td>535898.7</td><td>544970.9</td><td>547710.7</td><td>526688.9</td><td>499184.4</td><td>548654.2</td><td>543354.8</td><td>524232.9</td><td>517279.9</td></tr>\n",
       "\t<tr><th scope=row>2022</th><td>525159.2</td><td>498430.8</td><td>573159.8</td><td>561250.6</td><td>567514.3</td><td>549575.9</td><td>506120.2</td><td>        </td><td>        </td><td>        </td><td>        </td><td>        </td></tr>\n",
       "</tbody>\n",
       "</table>\n"
      ],
      "text/latex": [
       "A Time Series: 13 × 12\n",
       "\\begin{tabular}{r|llllllllllll}\n",
       "  & Jan & Feb & Mar & Apr & May & Jun & Jul & Aug & Sep & Oct & Nov & Dec\\\\\n",
       "\\hline\n",
       "\t2010 & 227579.9 & 236867.3 & 215447.0 & 274509.7 & 264668.8 & 287032.1 & 254292.2 & 257695.7 & 251263.3 & 258728.8 & 234229.1 & 228019.0\\\\\n",
       "\t2011 & 196557.9 & 218175.5 & 225231.7 & 203854.1 & 216609.6 & 276372.0 & 315408.1 & 231651.8 & 309349.7 & 243992.0 & 287136.6 & 239637.0\\\\\n",
       "\t2012 & 278381.8 & 274386.1 & 258603.9 & 280632.2 & 335731.1 & 264808.9 & 271247.7 & 283715.7 & 367071.9 & 256451.2 & 250862.7 & 222279.3\\\\\n",
       "\t2013 & 239090.6 & 239011.5 & 277682.9 & 314798.7 & 289556.3 & 301206.0 & 272600.7 & 273731.9 & 269652.4 & 235628.6 & 263496.0 & 263163.5\\\\\n",
       "\t2014 & 281799.4 & 311751.5 & 291679.3 & 279770.0 & 303598.8 & 273017.0 & 493892.6 & 310330.4 & 397837.1 & 269873.8 & 300564.2 & 276550.6\\\\\n",
       "\t2015 & 313561.4 & 318375.1 & 324501.2 & 375013.7 & 344090.6 & 325013.8 & 324772.5 & 341270.2 & 306736.2 & 390577.5 & 326894.0 & 309586.1\\\\\n",
       "\t2016 & 297067.5 & 302020.2 & 324933.1 & 349008.3 & 369142.5 & 388758.7 & 375486.7 & 348578.8 & 344708.8 & 384366.3 & 363132.6 & 356506.6\\\\\n",
       "\t2017 & 344501.9 & 649747.2 & 386165.8 & 400939.8 & 379102.1 & 374257.9 & 382158.6 & 337322.1 & 392298.8 & 413315.6 & 371135.1 & 404357.4\\\\\n",
       "\t2018 & 929860.9 & 354685.4 & 721936.2 & 430100.2 & 418948.8 & 430884.5 & 439763.6 & 418574.1 & 424328.6 & 433660.3 & 459482.6 & 392723.7\\\\\n",
       "\t2019 & 450698.9 & 426103.5 & 445154.7 & 438735.6 & 603511.4 & 508693.0 & 431153.3 & 402271.0 & 442771.9 & 477162.4 & 435154.8 & 458701.5\\\\\n",
       "\t2020 & 463226.9 & 491248.2 & 467913.6 & 452165.1 & 491009.8 & 496047.9 & 496223.2 & 529808.9 & 549634.6 & 541522.6 & 524422.2 & 501617.5\\\\\n",
       "\t2021 & 561409.1 & 539660.1 & 531662.9 & 535898.7 & 544970.9 & 547710.7 & 526688.9 & 499184.4 & 548654.2 & 543354.8 & 524232.9 & 517279.9\\\\\n",
       "\t2022 & 525159.2 & 498430.8 & 573159.8 & 561250.6 & 567514.3 & 549575.9 & 506120.2 &          &          &          &          &         \\\\\n",
       "\\end{tabular}\n"
      ],
      "text/markdown": [
       "\n",
       "A Time Series: 13 × 12\n",
       "\n",
       "| <!--/--> | Jan | Feb | Mar | Apr | May | Jun | Jul | Aug | Sep | Oct | Nov | Dec |\n",
       "|---|---|---|---|---|---|---|---|---|---|---|---|---|\n",
       "| 2010 | 227579.9 | 236867.3 | 215447.0 | 274509.7 | 264668.8 | 287032.1 | 254292.2 | 257695.7 | 251263.3 | 258728.8 | 234229.1 | 228019.0 |\n",
       "| 2011 | 196557.9 | 218175.5 | 225231.7 | 203854.1 | 216609.6 | 276372.0 | 315408.1 | 231651.8 | 309349.7 | 243992.0 | 287136.6 | 239637.0 |\n",
       "| 2012 | 278381.8 | 274386.1 | 258603.9 | 280632.2 | 335731.1 | 264808.9 | 271247.7 | 283715.7 | 367071.9 | 256451.2 | 250862.7 | 222279.3 |\n",
       "| 2013 | 239090.6 | 239011.5 | 277682.9 | 314798.7 | 289556.3 | 301206.0 | 272600.7 | 273731.9 | 269652.4 | 235628.6 | 263496.0 | 263163.5 |\n",
       "| 2014 | 281799.4 | 311751.5 | 291679.3 | 279770.0 | 303598.8 | 273017.0 | 493892.6 | 310330.4 | 397837.1 | 269873.8 | 300564.2 | 276550.6 |\n",
       "| 2015 | 313561.4 | 318375.1 | 324501.2 | 375013.7 | 344090.6 | 325013.8 | 324772.5 | 341270.2 | 306736.2 | 390577.5 | 326894.0 | 309586.1 |\n",
       "| 2016 | 297067.5 | 302020.2 | 324933.1 | 349008.3 | 369142.5 | 388758.7 | 375486.7 | 348578.8 | 344708.8 | 384366.3 | 363132.6 | 356506.6 |\n",
       "| 2017 | 344501.9 | 649747.2 | 386165.8 | 400939.8 | 379102.1 | 374257.9 | 382158.6 | 337322.1 | 392298.8 | 413315.6 | 371135.1 | 404357.4 |\n",
       "| 2018 | 929860.9 | 354685.4 | 721936.2 | 430100.2 | 418948.8 | 430884.5 | 439763.6 | 418574.1 | 424328.6 | 433660.3 | 459482.6 | 392723.7 |\n",
       "| 2019 | 450698.9 | 426103.5 | 445154.7 | 438735.6 | 603511.4 | 508693.0 | 431153.3 | 402271.0 | 442771.9 | 477162.4 | 435154.8 | 458701.5 |\n",
       "| 2020 | 463226.9 | 491248.2 | 467913.6 | 452165.1 | 491009.8 | 496047.9 | 496223.2 | 529808.9 | 549634.6 | 541522.6 | 524422.2 | 501617.5 |\n",
       "| 2021 | 561409.1 | 539660.1 | 531662.9 | 535898.7 | 544970.9 | 547710.7 | 526688.9 | 499184.4 | 548654.2 | 543354.8 | 524232.9 | 517279.9 |\n",
       "| 2022 | 525159.2 | 498430.8 | 573159.8 | 561250.6 | 567514.3 | 549575.9 | 506120.2 | <!----> | <!----> | <!----> | <!----> | <!----> |\n",
       "\n"
      ],
      "text/plain": [
       "     Jan      Feb      Mar      Apr      May      Jun      Jul      Aug     \n",
       "2010 227579.9 236867.3 215447.0 274509.7 264668.8 287032.1 254292.2 257695.7\n",
       "2011 196557.9 218175.5 225231.7 203854.1 216609.6 276372.0 315408.1 231651.8\n",
       "2012 278381.8 274386.1 258603.9 280632.2 335731.1 264808.9 271247.7 283715.7\n",
       "2013 239090.6 239011.5 277682.9 314798.7 289556.3 301206.0 272600.7 273731.9\n",
       "2014 281799.4 311751.5 291679.3 279770.0 303598.8 273017.0 493892.6 310330.4\n",
       "2015 313561.4 318375.1 324501.2 375013.7 344090.6 325013.8 324772.5 341270.2\n",
       "2016 297067.5 302020.2 324933.1 349008.3 369142.5 388758.7 375486.7 348578.8\n",
       "2017 344501.9 649747.2 386165.8 400939.8 379102.1 374257.9 382158.6 337322.1\n",
       "2018 929860.9 354685.4 721936.2 430100.2 418948.8 430884.5 439763.6 418574.1\n",
       "2019 450698.9 426103.5 445154.7 438735.6 603511.4 508693.0 431153.3 402271.0\n",
       "2020 463226.9 491248.2 467913.6 452165.1 491009.8 496047.9 496223.2 529808.9\n",
       "2021 561409.1 539660.1 531662.9 535898.7 544970.9 547710.7 526688.9 499184.4\n",
       "2022 525159.2 498430.8 573159.8 561250.6 567514.3 549575.9 506120.2         \n",
       "     Sep      Oct      Nov      Dec     \n",
       "2010 251263.3 258728.8 234229.1 228019.0\n",
       "2011 309349.7 243992.0 287136.6 239637.0\n",
       "2012 367071.9 256451.2 250862.7 222279.3\n",
       "2013 269652.4 235628.6 263496.0 263163.5\n",
       "2014 397837.1 269873.8 300564.2 276550.6\n",
       "2015 306736.2 390577.5 326894.0 309586.1\n",
       "2016 344708.8 384366.3 363132.6 356506.6\n",
       "2017 392298.8 413315.6 371135.1 404357.4\n",
       "2018 424328.6 433660.3 459482.6 392723.7\n",
       "2019 442771.9 477162.4 435154.8 458701.5\n",
       "2020 549634.6 541522.6 524422.2 501617.5\n",
       "2021 548654.2 543354.8 524232.9 517279.9\n",
       "2022                                    "
      ]
     },
     "metadata": {},
     "output_type": "display_data"
    }
   ],
   "source": [
    "####################################################################\n",
    "# Set time series (ts) for 'PRICE' variable\n",
    "\n",
    "# Choose the 'PRICE' column and convert it to ts object\n",
    "\n",
    "H_TS <- ts(HOUSE_TS4.df$PRICE, start=c(2010, 1), freq=12)\n",
    "\n",
    "# Let us see the ts object\n",
    "\n",
    "H_TS\n",
    "#####################################################################"
   ]
  },
  {
   "cell_type": "code",
   "execution_count": 10,
   "metadata": {},
   "outputs": [
    {
     "data": {
      "image/png": "[encoded data removed]",
      "text/plain": [
       "plot without title"
      ]
     },
     "metadata": {
      "image/png": {
       "height": 420,
       "width": 420
      }
     },
     "output_type": "display_data"
    }
   ],
   "source": [
    "#####################################################################\n",
    "# Let us fit a regression line on the dataset\n",
    "\n",
    "plot(H_TS)\n",
    "\n",
    "abline(reg=lm(H_TS~time(H_TS)))\n",
    "#####################################################################"
   ]
  },
  {
   "cell_type": "code",
   "execution_count": 11,
   "metadata": {},
   "outputs": [
    {
     "data": {
      "text/html": [
       "<table class=\"dataframe\">\n",
       "<caption>A Time Series: 13 × 12</caption>\n",
       "<thead>\n",
       "\t<tr><th></th><th scope=col>Jan</th><th scope=col>Feb</th><th scope=col>Mar</th><th scope=col>Apr</th><th scope=col>May</th><th scope=col>Jun</th><th scope=col>Jul</th><th scope=col>Aug</th><th scope=col>Sep</th><th scope=col>Oct</th><th scope=col>Nov</th><th scope=col>Dec</th></tr>\n",
       "</thead>\n",
       "<tbody>\n",
       "\t<tr><th scope=row>2010</th><td> 1</td><td> 2</td><td> 3</td><td> 4</td><td> 5</td><td> 6</td><td> 7</td><td> 8</td><td> 9</td><td>10</td><td>11</td><td>12</td></tr>\n",
       "\t<tr><th scope=row>2011</th><td> 1</td><td> 2</td><td> 3</td><td> 4</td><td> 5</td><td> 6</td><td> 7</td><td> 8</td><td> 9</td><td>10</td><td>11</td><td>12</td></tr>\n",
       "\t<tr><th scope=row>2012</th><td> 1</td><td> 2</td><td> 3</td><td> 4</td><td> 5</td><td> 6</td><td> 7</td><td> 8</td><td> 9</td><td>10</td><td>11</td><td>12</td></tr>\n",
       "\t<tr><th scope=row>2013</th><td> 1</td><td> 2</td><td> 3</td><td> 4</td><td> 5</td><td> 6</td><td> 7</td><td> 8</td><td> 9</td><td>10</td><td>11</td><td>12</td></tr>\n",
       "\t<tr><th scope=row>2014</th><td> 1</td><td> 2</td><td> 3</td><td> 4</td><td> 5</td><td> 6</td><td> 7</td><td> 8</td><td> 9</td><td>10</td><td>11</td><td>12</td></tr>\n",
       "\t<tr><th scope=row>2015</th><td> 1</td><td> 2</td><td> 3</td><td> 4</td><td> 5</td><td> 6</td><td> 7</td><td> 8</td><td> 9</td><td>10</td><td>11</td><td>12</td></tr>\n",
       "\t<tr><th scope=row>2016</th><td> 1</td><td> 2</td><td> 3</td><td> 4</td><td> 5</td><td> 6</td><td> 7</td><td> 8</td><td> 9</td><td>10</td><td>11</td><td>12</td></tr>\n",
       "\t<tr><th scope=row>2017</th><td> 1</td><td> 2</td><td> 3</td><td> 4</td><td> 5</td><td> 6</td><td> 7</td><td> 8</td><td> 9</td><td>10</td><td>11</td><td>12</td></tr>\n",
       "\t<tr><th scope=row>2018</th><td> 1</td><td> 2</td><td> 3</td><td> 4</td><td> 5</td><td> 6</td><td> 7</td><td> 8</td><td> 9</td><td>10</td><td>11</td><td>12</td></tr>\n",
       "\t<tr><th scope=row>2019</th><td> 1</td><td> 2</td><td> 3</td><td> 4</td><td> 5</td><td> 6</td><td> 7</td><td> 8</td><td> 9</td><td>10</td><td>11</td><td>12</td></tr>\n",
       "\t<tr><th scope=row>2020</th><td> 1</td><td> 2</td><td> 3</td><td> 4</td><td> 5</td><td> 6</td><td> 7</td><td> 8</td><td> 9</td><td>10</td><td>11</td><td>12</td></tr>\n",
       "\t<tr><th scope=row>2021</th><td> 1</td><td> 2</td><td> 3</td><td> 4</td><td> 5</td><td> 6</td><td> 7</td><td> 8</td><td> 9</td><td>10</td><td>11</td><td>12</td></tr>\n",
       "\t<tr><th scope=row>2022</th><td> 1</td><td> 2</td><td> 3</td><td> 4</td><td> 5</td><td> 6</td><td> 7</td><td>  </td><td>  </td><td>  </td><td>  </td><td>  </td></tr>\n",
       "</tbody>\n",
       "</table>\n"
      ],
      "text/latex": [
       "A Time Series: 13 × 12\n",
       "\\begin{tabular}{r|llllllllllll}\n",
       "  & Jan & Feb & Mar & Apr & May & Jun & Jul & Aug & Sep & Oct & Nov & Dec\\\\\n",
       "\\hline\n",
       "\t2010 &  1 &  2 &  3 &  4 &  5 &  6 &  7 &  8 &  9 & 10 & 11 & 12\\\\\n",
       "\t2011 &  1 &  2 &  3 &  4 &  5 &  6 &  7 &  8 &  9 & 10 & 11 & 12\\\\\n",
       "\t2012 &  1 &  2 &  3 &  4 &  5 &  6 &  7 &  8 &  9 & 10 & 11 & 12\\\\\n",
       "\t2013 &  1 &  2 &  3 &  4 &  5 &  6 &  7 &  8 &  9 & 10 & 11 & 12\\\\\n",
       "\t2014 &  1 &  2 &  3 &  4 &  5 &  6 &  7 &  8 &  9 & 10 & 11 & 12\\\\\n",
       "\t2015 &  1 &  2 &  3 &  4 &  5 &  6 &  7 &  8 &  9 & 10 & 11 & 12\\\\\n",
       "\t2016 &  1 &  2 &  3 &  4 &  5 &  6 &  7 &  8 &  9 & 10 & 11 & 12\\\\\n",
       "\t2017 &  1 &  2 &  3 &  4 &  5 &  6 &  7 &  8 &  9 & 10 & 11 & 12\\\\\n",
       "\t2018 &  1 &  2 &  3 &  4 &  5 &  6 &  7 &  8 &  9 & 10 & 11 & 12\\\\\n",
       "\t2019 &  1 &  2 &  3 &  4 &  5 &  6 &  7 &  8 &  9 & 10 & 11 & 12\\\\\n",
       "\t2020 &  1 &  2 &  3 &  4 &  5 &  6 &  7 &  8 &  9 & 10 & 11 & 12\\\\\n",
       "\t2021 &  1 &  2 &  3 &  4 &  5 &  6 &  7 &  8 &  9 & 10 & 11 & 12\\\\\n",
       "\t2022 &  1 &  2 &  3 &  4 &  5 &  6 &  7 &    &    &    &    &   \\\\\n",
       "\\end{tabular}\n"
      ],
      "text/markdown": [
       "\n",
       "A Time Series: 13 × 12\n",
       "\n",
       "| <!--/--> | Jan | Feb | Mar | Apr | May | Jun | Jul | Aug | Sep | Oct | Nov | Dec |\n",
       "|---|---|---|---|---|---|---|---|---|---|---|---|---|\n",
       "| 2010 |  1 |  2 |  3 |  4 |  5 |  6 |  7 |  8 |  9 | 10 | 11 | 12 |\n",
       "| 2011 |  1 |  2 |  3 |  4 |  5 |  6 |  7 |  8 |  9 | 10 | 11 | 12 |\n",
       "| 2012 |  1 |  2 |  3 |  4 |  5 |  6 |  7 |  8 |  9 | 10 | 11 | 12 |\n",
       "| 2013 |  1 |  2 |  3 |  4 |  5 |  6 |  7 |  8 |  9 | 10 | 11 | 12 |\n",
       "| 2014 |  1 |  2 |  3 |  4 |  5 |  6 |  7 |  8 |  9 | 10 | 11 | 12 |\n",
       "| 2015 |  1 |  2 |  3 |  4 |  5 |  6 |  7 |  8 |  9 | 10 | 11 | 12 |\n",
       "| 2016 |  1 |  2 |  3 |  4 |  5 |  6 |  7 |  8 |  9 | 10 | 11 | 12 |\n",
       "| 2017 |  1 |  2 |  3 |  4 |  5 |  6 |  7 |  8 |  9 | 10 | 11 | 12 |\n",
       "| 2018 |  1 |  2 |  3 |  4 |  5 |  6 |  7 |  8 |  9 | 10 | 11 | 12 |\n",
       "| 2019 |  1 |  2 |  3 |  4 |  5 |  6 |  7 |  8 |  9 | 10 | 11 | 12 |\n",
       "| 2020 |  1 |  2 |  3 |  4 |  5 |  6 |  7 |  8 |  9 | 10 | 11 | 12 |\n",
       "| 2021 |  1 |  2 |  3 |  4 |  5 |  6 |  7 |  8 |  9 | 10 | 11 | 12 |\n",
       "| 2022 |  1 |  2 |  3 |  4 |  5 |  6 |  7 | <!----> | <!----> | <!----> | <!----> | <!----> |\n",
       "\n"
      ],
      "text/plain": [
       "     Jan Feb Mar Apr May Jun Jul Aug Sep Oct Nov Dec\n",
       "2010  1   2   3   4   5   6   7   8   9  10  11  12 \n",
       "2011  1   2   3   4   5   6   7   8   9  10  11  12 \n",
       "2012  1   2   3   4   5   6   7   8   9  10  11  12 \n",
       "2013  1   2   3   4   5   6   7   8   9  10  11  12 \n",
       "2014  1   2   3   4   5   6   7   8   9  10  11  12 \n",
       "2015  1   2   3   4   5   6   7   8   9  10  11  12 \n",
       "2016  1   2   3   4   5   6   7   8   9  10  11  12 \n",
       "2017  1   2   3   4   5   6   7   8   9  10  11  12 \n",
       "2018  1   2   3   4   5   6   7   8   9  10  11  12 \n",
       "2019  1   2   3   4   5   6   7   8   9  10  11  12 \n",
       "2020  1   2   3   4   5   6   7   8   9  10  11  12 \n",
       "2021  1   2   3   4   5   6   7   8   9  10  11  12 \n",
       "2022  1   2   3   4   5   6   7                     "
      ]
     },
     "metadata": {},
     "output_type": "display_data"
    },
    {
     "data": {
      "image/png": "[encoded data removed]",
      "text/plain": [
       "plot without title"
      ]
     },
     "metadata": {
      "image/png": {
       "height": 420,
       "width": 420
      }
     },
     "output_type": "display_data"
    }
   ],
   "source": [
    "#####################################################################\n",
    "# First let us plot the cycle and trend\n",
    "# Aggregate the cycles and display a year-on-year trend\n",
    "\n",
    "cycle(H_TS)\n",
    "\n",
    "plot(aggregate(H_TS,FUN=mean))\n",
    "\n",
    "#####################################################################"
   ]
  },
  {
   "cell_type": "code",
   "execution_count": 12,
   "metadata": {},
   "outputs": [
    {
     "data": {
      "image/png": "[encoded data removed]",
      "text/plain": [
       "plot without title"
      ]
     },
     "metadata": {
      "image/png": {
       "height": 420,
       "width": 420
      }
     },
     "output_type": "display_data"
    }
   ],
   "source": [
    "#####################################################################\n",
    "# Letâ™s look in to the seasonal effects\n",
    "\n",
    "boxplot(H_TS~cycle(H_TS))\n",
    "\n",
    "#####################################################################"
   ]
  },
  {
   "cell_type": "code",
   "execution_count": 13,
   "metadata": {},
   "outputs": [
    {
     "name": "stderr",
     "output_type": "stream",
     "text": [
      "Registered S3 method overwritten by 'quantmod':\n",
      "  method            from\n",
      "  as.zoo.data.frame zoo \n",
      "\n",
      "Warning message in adf.test(diff(log(H_TS)), alternative = \"stationary\", k = 0):\n",
      "\"p-value smaller than printed p-value\"\n"
     ]
    },
    {
     "data": {
      "text/plain": [
       "\n",
       "\tAugmented Dickey-Fuller Test\n",
       "\n",
       "data:  diff(log(H_TS))\n",
       "Dickey-Fuller = -25.084, Lag order = 0, p-value = 0.01\n",
       "alternative hypothesis: stationary\n"
      ]
     },
     "metadata": {},
     "output_type": "display_data"
    }
   ],
   "source": [
    "#####################################################################\n",
    "# Since we want to remove the unequal variances in the data we will take the log of the series\n",
    "# Before we fit the ARIMA model to our time series, we need to remove the unequal variances in \n",
    "# the data by taking the log of the series.\n",
    "\n",
    "# Also, the original signal had trends and seasonal effects, so it was not stationary.  \n",
    "# Therefore, we perform a diff of the signal and check if the trends and seasonal effect can be removed. \n",
    "\n",
    "\n",
    "library(tseries)\n",
    "\n",
    "# Now perform the Augmented Dickey-Fuller Test\n",
    "\n",
    "adf.test(diff(log(H_TS)), alternative=\"stationary\", k=0)\n",
    "\n",
    "# This will give you the result of the Augmented Dickey-Fuller Test\n",
    "#####################################################################"
   ]
  },
  {
   "cell_type": "code",
   "execution_count": 14,
   "metadata": {},
   "outputs": [
    {
     "data": {
      "image/png": "[encoded data removed]",
      "text/plain": [
       "plot without title"
      ]
     },
     "metadata": {
      "image/png": {
       "height": 420,
       "width": 420
      }
     },
     "output_type": "display_data"
    }
   ],
   "source": [
    "#####################################################################\n",
    "# Let us now plot the series\n",
    "\n",
    "plot(diff(log(H_TS)))\n",
    "\n",
    "#####################################################################"
   ]
  },
  {
   "cell_type": "code",
   "execution_count": 15,
   "metadata": {},
   "outputs": [
    {
     "data": {
      "image/png": "[encoded data removed]",
      "text/plain": [
       "Plot with title \"Series  diff(log(H_TS))\""
      ]
     },
     "metadata": {
      "image/png": {
       "height": 420,
       "width": 420
      }
     },
     "output_type": "display_data"
    },
    {
     "data": {
      "image/png": "[encoded data removed]",
      "text/plain": [
       "Plot with title \"Series  diff(log(H_TS))\""
      ]
     },
     "metadata": {
      "image/png": {
       "height": 420,
       "width": 420
      }
     },
     "output_type": "display_data"
    }
   ],
   "source": [
    "#####################################################################\n",
    "# Now let us look into the ACF  and PACF charts\n",
    "\n",
    "acf(diff(log(H_TS)))\n",
    "\n",
    "pacf(diff(log(H_TS)))\n",
    "\n",
    "# ARIMA (1,1,2)\n",
    "\n",
    "#####################################################################"
   ]
  },
  {
   "cell_type": "code",
   "execution_count": 16,
   "metadata": {},
   "outputs": [
    {
     "name": "stderr",
     "output_type": "stream",
     "text": [
      "Warning message in sqrt(diag(x$var.coef)):\n",
      "\"NaNs produced\"\n"
     ]
    },
    {
     "data": {
      "text/plain": [
       "\n",
       "Call:\n",
       "arima(x = log(H_TS), order = c(4, 1, 2), seasonal = list(order = c(4, 1, 2), \n",
       "    period = 12))\n",
       "\n",
       "Coefficients:\n",
       "         ar1     ar2      ar3      ar4      ma1     ma2     sar1     sar2\n",
       "      0.7277  0.2802  -0.2511  -0.1562  -1.6523  0.6954  -0.7238  -0.1265\n",
       "s.e.     NaN  0.0865   0.1208   0.0353   0.0622  0.0650   0.0797      NaN\n",
       "        sar3    sar4     sma1     sma2\n",
       "      0.1621  0.1172  -0.4630  -0.5369\n",
       "s.e.     NaN     NaN   0.2117   0.1710\n",
       "\n",
       "sigma^2 estimated as 0.01658:  log likelihood = 69.67,  aic = -113.34"
      ]
     },
     "metadata": {},
     "output_type": "display_data"
    }
   ],
   "source": [
    "#####################################################################\n",
    "# Let us now fit the ARIMA(4,1,2)\n",
    "\n",
    "(fit_open <- arima(log(H_TS), c(4, 1, 2),seasonal = list(order = c(4, 1, 2), period = 12)))\n",
    "\n",
    "#####################################################################\n"
   ]
  },
  {
   "cell_type": "code",
   "execution_count": 17,
   "metadata": {},
   "outputs": [
    {
     "data": {
      "text/plain": [
       "\n",
       "Call:\n",
       "arima(x = log(H_TS), order = c(1, 1, 2), seasonal = list(order = c(1, 1, 2), \n",
       "    period = 12))\n",
       "\n",
       "Coefficients:\n",
       "          ar1      ma1      ma2    sar1     sma1    sma2\n",
       "      -0.7769  -0.2123  -0.6235  0.0121  -0.9817  0.1557\n",
       "s.e.   0.1863   0.2070   0.1979  0.3901   0.3765  0.3421\n",
       "\n",
       "sigma^2 estimated as 0.02116:  log likelihood = 61.22,  aic = -108.44"
      ]
     },
     "metadata": {},
     "output_type": "display_data"
    }
   ],
   "source": [
    "#####################################################################\n",
    "# Let us now fit the ARIMA(1,1,2)\n",
    "\n",
    "(fit_open <- arima(log(H_TS), c(1, 1, 2),seasonal = list(order = c(1, 1, 2), period = 12)))\n",
    "\n",
    "#####################################################################\n"
   ]
  },
  {
   "cell_type": "code",
   "execution_count": 18,
   "metadata": {},
   "outputs": [
    {
     "data": {
      "text/plain": [
       "\n",
       "Call:\n",
       "arima(x = log(H_TS), order = c(2, 1, 2), seasonal = list(order = c(2, 1, 2), \n",
       "    period = 12))\n",
       "\n",
       "Coefficients:\n",
       "         ar1     ar2      ma1      ma2     sar1     sar2     sma1     sma2\n",
       "      0.0046  0.3027  -0.9399  -0.0601  -0.8551  -0.2130  -0.1497  -0.5254\n",
       "s.e.  0.2324  0.0833   0.2729   0.2391   0.5854   0.1101   0.5897   0.5447\n",
       "\n",
       "sigma^2 estimated as 0.01874:  log likelihood = 66.31,  aic = -114.62"
      ]
     },
     "metadata": {},
     "output_type": "display_data"
    }
   ],
   "source": [
    "#####################################################################\n",
    "# Let us now fit the ARIMA(2,1,2)\n",
    "\n",
    "(fit_open <- arima(log(H_TS), c(2, 1, 2),seasonal = list(order = c(2, 1, 2), period = 12)))\n",
    "\n",
    "#####################################################################\n"
   ]
  },
  {
   "cell_type": "code",
   "execution_count": 19,
   "metadata": {},
   "outputs": [
    {
     "name": "stderr",
     "output_type": "stream",
     "text": [
      "Installing package into 'C:/Users/bates/AppData/Local/R/win-library/4.2'\n",
      "(as 'lib' is unspecified)\n",
      "\n"
     ]
    },
    {
     "name": "stdout",
     "output_type": "stream",
     "text": [
      "package 'forecast' successfully unpacked and MD5 sums checked\n"
     ]
    },
    {
     "name": "stderr",
     "output_type": "stream",
     "text": [
      "Warning message:\n",
      "\"cannot remove prior installation of package 'forecast'\"\n",
      "Warning message in file.copy(savedcopy, lib, recursive = TRUE):\n",
      "\"problem copying C:\\Users\\bates\\AppData\\Local\\R\\win-library\\4.2\\00LOCK\\forecast\\libs\\x64\\forecast.dll to C:\\Users\\bates\\AppData\\Local\\R\\win-library\\4.2\\forecast\\libs\\x64\\forecast.dll: Permission denied\"\n",
      "Warning message:\n",
      "\"restored 'forecast'\"\n"
     ]
    },
    {
     "name": "stdout",
     "output_type": "stream",
     "text": [
      "\n",
      "The downloaded binary packages are in\n",
      "\tC:\\Users\\bates\\AppData\\Local\\Temp\\RtmpWOUmFc\\downloaded_packages\n"
     ]
    },
    {
     "data": {
      "text/html": [
       "<dl>\n",
       "\t<dt>$pred</dt>\n",
       "\t\t<dd><table class=\"dataframe\">\n",
       "<caption>A Time Series: 8 × 12</caption>\n",
       "<thead>\n",
       "\t<tr><th></th><th scope=col>Jan</th><th scope=col>Feb</th><th scope=col>Mar</th><th scope=col>Apr</th><th scope=col>May</th><th scope=col>Jun</th><th scope=col>Jul</th><th scope=col>Aug</th><th scope=col>Sep</th><th scope=col>Oct</th><th scope=col>Nov</th><th scope=col>Dec</th></tr>\n",
       "</thead>\n",
       "<tbody>\n",
       "\t<tr><th scope=row>2022</th><td>        </td><td>        </td><td>        </td><td>        </td><td>        </td><td>        </td><td>        </td><td>13.18083</td><td>13.24197</td><td>13.27383</td><td>13.23095</td><td>13.21893</td></tr>\n",
       "\t<tr><th scope=row>2023</th><td>13.37358</td><td>13.30689</td><td>13.36209</td><td>13.31035</td><td>13.36468</td><td>13.35165</td><td>13.36430</td><td>13.31188</td><td>13.38078</td><td>13.36244</td><td>13.33990</td><td>13.29679</td></tr>\n",
       "\t<tr><th scope=row>2024</th><td>13.41430</td><td>13.38978</td><td>13.41664</td><td>13.39620</td><td>13.45093</td><td>13.42548</td><td>13.40707</td><td>13.35662</td><td>13.43439</td><td>13.43165</td><td>13.39567</td><td>13.37328</td></tr>\n",
       "\t<tr><th scope=row>2025</th><td>13.49354</td><td>13.43436</td><td>13.50366</td><td>13.46250</td><td>13.50773</td><td>13.48869</td><td>13.47661</td><td>13.44546</td><td>13.51400</td><td>13.50860</td><td>13.47978</td><td>13.44630</td></tr>\n",
       "\t<tr><th scope=row>2026</th><td>13.57211</td><td>13.53358</td><td>13.57263</td><td>13.54252</td><td>13.59579</td><td>13.57391</td><td>13.56304</td><td>13.51497</td><td>13.58951</td><td>13.58306</td><td>13.55098</td><td>13.52257</td></tr>\n",
       "\t<tr><th scope=row>2027</th><td>13.64305</td><td>13.59424</td><td>13.65012</td><td>13.61498</td><td>13.66340</td><td>13.64257</td><td>13.62932</td><td>13.59161</td><td>13.66298</td><td>13.65800</td><td>13.62719</td><td>13.59680</td></tr>\n",
       "\t<tr><th scope=row>2028</th><td>13.72066</td><td>13.67624</td><td>13.72417</td><td>13.69098</td><td>13.74183</td><td>13.72071</td><td>13.70923</td><td>13.66627</td><td>13.73907</td><td>13.73306</td><td>13.70186</td><td>13.67208</td></tr>\n",
       "\t<tr><th scope=row>2029</th><td>13.79419</td><td>13.74821</td><td>13.79935</td><td>13.76556</td><td>13.81536</td><td>13.79427</td><td>13.78178</td><td>        </td><td>        </td><td>        </td><td>        </td><td>        </td></tr>\n",
       "</tbody>\n",
       "</table>\n",
       "</dd>\n",
       "\t<dt>$se</dt>\n",
       "\t\t<dd><table class=\"dataframe\">\n",
       "<caption>A Time Series: 8 × 12</caption>\n",
       "<thead>\n",
       "\t<tr><th></th><th scope=col>Jan</th><th scope=col>Feb</th><th scope=col>Mar</th><th scope=col>Apr</th><th scope=col>May</th><th scope=col>Jun</th><th scope=col>Jul</th><th scope=col>Aug</th><th scope=col>Sep</th><th scope=col>Oct</th><th scope=col>Nov</th><th scope=col>Dec</th></tr>\n",
       "</thead>\n",
       "<tbody>\n",
       "\t<tr><th scope=row>2022</th><td>         </td><td>         </td><td>         </td><td>         </td><td>         </td><td>         </td><td>         </td><td>0.1380570</td><td>0.1384783</td><td>0.1452698</td><td>0.1453711</td><td>0.1461686</td></tr>\n",
       "\t<tr><th scope=row>2023</th><td>0.1462186</td><td>0.1463486</td><td>0.1463554</td><td>0.1463847</td><td>0.1463873</td><td>0.1463954</td><td>0.1463978</td><td>0.1463923</td><td>0.1463976</td><td>0.1463971</td><td>0.1464139</td><td>0.1464174</td></tr>\n",
       "\t<tr><th scope=row>2024</th><td>0.1464519</td><td>0.1464517</td><td>0.1464518</td><td>0.1464518</td><td>0.1464522</td><td>0.1464523</td><td>0.1464538</td><td>0.1476982</td><td>0.1477323</td><td>0.1479294</td><td>0.1479569</td><td>0.1480044</td></tr>\n",
       "\t<tr><th scope=row>2025</th><td>0.1480497</td><td>0.1480613</td><td>0.1480623</td><td>0.1480657</td><td>0.1480664</td><td>0.1480676</td><td>0.1480692</td><td>0.1521352</td><td>0.1522108</td><td>0.1527678</td><td>0.1528118</td><td>0.1529255</td></tr>\n",
       "\t<tr><th scope=row>2026</th><td>0.1529896</td><td>0.1530170</td><td>0.1530191</td><td>0.1530270</td><td>0.1530282</td><td>0.1530307</td><td>0.1530330</td><td>0.1541814</td><td>0.1542211</td><td>0.1544239</td><td>0.1544591</td><td>0.1545126</td></tr>\n",
       "\t<tr><th scope=row>2027</th><td>0.1545797</td><td>0.1545930</td><td>0.1545942</td><td>0.1545981</td><td>0.1545991</td><td>0.1546004</td><td>0.1546026</td><td>0.1575326</td><td>0.1576052</td><td>0.1580578</td><td>0.1581063</td><td>0.1582104</td></tr>\n",
       "\t<tr><th scope=row>2028</th><td>0.1582928</td><td>0.1583188</td><td>0.1583209</td><td>0.1583286</td><td>0.1583299</td><td>0.1583323</td><td>0.1583349</td><td>0.1602746</td><td>0.1603357</td><td>0.1606688</td><td>0.1607161</td><td>0.1608005</td></tr>\n",
       "\t<tr><th scope=row>2029</th><td>0.1608898</td><td>0.1609111</td><td>0.1609130</td><td>0.1609193</td><td>0.1609206</td><td>0.1609227</td><td>0.1609254</td><td>         </td><td>         </td><td>         </td><td>         </td><td>         </td></tr>\n",
       "</tbody>\n",
       "</table>\n",
       "</dd>\n",
       "</dl>\n"
      ],
      "text/latex": [
       "\\begin{description}\n",
       "\\item[\\$pred] A Time Series: 8 × 12\n",
       "\\begin{tabular}{r|llllllllllll}\n",
       "  & Jan & Feb & Mar & Apr & May & Jun & Jul & Aug & Sep & Oct & Nov & Dec\\\\\n",
       "\\hline\n",
       "\t2022 &          &          &          &          &          &          &          & 13.18083 & 13.24197 & 13.27383 & 13.23095 & 13.21893\\\\\n",
       "\t2023 & 13.37358 & 13.30689 & 13.36209 & 13.31035 & 13.36468 & 13.35165 & 13.36430 & 13.31188 & 13.38078 & 13.36244 & 13.33990 & 13.29679\\\\\n",
       "\t2024 & 13.41430 & 13.38978 & 13.41664 & 13.39620 & 13.45093 & 13.42548 & 13.40707 & 13.35662 & 13.43439 & 13.43165 & 13.39567 & 13.37328\\\\\n",
       "\t2025 & 13.49354 & 13.43436 & 13.50366 & 13.46250 & 13.50773 & 13.48869 & 13.47661 & 13.44546 & 13.51400 & 13.50860 & 13.47978 & 13.44630\\\\\n",
       "\t2026 & 13.57211 & 13.53358 & 13.57263 & 13.54252 & 13.59579 & 13.57391 & 13.56304 & 13.51497 & 13.58951 & 13.58306 & 13.55098 & 13.52257\\\\\n",
       "\t2027 & 13.64305 & 13.59424 & 13.65012 & 13.61498 & 13.66340 & 13.64257 & 13.62932 & 13.59161 & 13.66298 & 13.65800 & 13.62719 & 13.59680\\\\\n",
       "\t2028 & 13.72066 & 13.67624 & 13.72417 & 13.69098 & 13.74183 & 13.72071 & 13.70923 & 13.66627 & 13.73907 & 13.73306 & 13.70186 & 13.67208\\\\\n",
       "\t2029 & 13.79419 & 13.74821 & 13.79935 & 13.76556 & 13.81536 & 13.79427 & 13.78178 &          &          &          &          &         \\\\\n",
       "\\end{tabular}\n",
       "\n",
       "\\item[\\$se] A Time Series: 8 × 12\n",
       "\\begin{tabular}{r|llllllllllll}\n",
       "  & Jan & Feb & Mar & Apr & May & Jun & Jul & Aug & Sep & Oct & Nov & Dec\\\\\n",
       "\\hline\n",
       "\t2022 &           &           &           &           &           &           &           & 0.1380570 & 0.1384783 & 0.1452698 & 0.1453711 & 0.1461686\\\\\n",
       "\t2023 & 0.1462186 & 0.1463486 & 0.1463554 & 0.1463847 & 0.1463873 & 0.1463954 & 0.1463978 & 0.1463923 & 0.1463976 & 0.1463971 & 0.1464139 & 0.1464174\\\\\n",
       "\t2024 & 0.1464519 & 0.1464517 & 0.1464518 & 0.1464518 & 0.1464522 & 0.1464523 & 0.1464538 & 0.1476982 & 0.1477323 & 0.1479294 & 0.1479569 & 0.1480044\\\\\n",
       "\t2025 & 0.1480497 & 0.1480613 & 0.1480623 & 0.1480657 & 0.1480664 & 0.1480676 & 0.1480692 & 0.1521352 & 0.1522108 & 0.1527678 & 0.1528118 & 0.1529255\\\\\n",
       "\t2026 & 0.1529896 & 0.1530170 & 0.1530191 & 0.1530270 & 0.1530282 & 0.1530307 & 0.1530330 & 0.1541814 & 0.1542211 & 0.1544239 & 0.1544591 & 0.1545126\\\\\n",
       "\t2027 & 0.1545797 & 0.1545930 & 0.1545942 & 0.1545981 & 0.1545991 & 0.1546004 & 0.1546026 & 0.1575326 & 0.1576052 & 0.1580578 & 0.1581063 & 0.1582104\\\\\n",
       "\t2028 & 0.1582928 & 0.1583188 & 0.1583209 & 0.1583286 & 0.1583299 & 0.1583323 & 0.1583349 & 0.1602746 & 0.1603357 & 0.1606688 & 0.1607161 & 0.1608005\\\\\n",
       "\t2029 & 0.1608898 & 0.1609111 & 0.1609130 & 0.1609193 & 0.1609206 & 0.1609227 & 0.1609254 &           &           &           &           &          \\\\\n",
       "\\end{tabular}\n",
       "\n",
       "\\end{description}\n"
      ],
      "text/markdown": [
       "$pred\n",
       ":   \n",
       "A Time Series: 8 × 12\n",
       "\n",
       "| <!--/--> | Jan | Feb | Mar | Apr | May | Jun | Jul | Aug | Sep | Oct | Nov | Dec |\n",
       "|---|---|---|---|---|---|---|---|---|---|---|---|---|\n",
       "| 2022 | <!----> | <!----> | <!----> | <!----> | <!----> | <!----> | <!----> | 13.18083 | 13.24197 | 13.27383 | 13.23095 | 13.21893 |\n",
       "| 2023 | 13.37358 | 13.30689 | 13.36209 | 13.31035 | 13.36468 | 13.35165 | 13.36430 | 13.31188 | 13.38078 | 13.36244 | 13.33990 | 13.29679 |\n",
       "| 2024 | 13.41430 | 13.38978 | 13.41664 | 13.39620 | 13.45093 | 13.42548 | 13.40707 | 13.35662 | 13.43439 | 13.43165 | 13.39567 | 13.37328 |\n",
       "| 2025 | 13.49354 | 13.43436 | 13.50366 | 13.46250 | 13.50773 | 13.48869 | 13.47661 | 13.44546 | 13.51400 | 13.50860 | 13.47978 | 13.44630 |\n",
       "| 2026 | 13.57211 | 13.53358 | 13.57263 | 13.54252 | 13.59579 | 13.57391 | 13.56304 | 13.51497 | 13.58951 | 13.58306 | 13.55098 | 13.52257 |\n",
       "| 2027 | 13.64305 | 13.59424 | 13.65012 | 13.61498 | 13.66340 | 13.64257 | 13.62932 | 13.59161 | 13.66298 | 13.65800 | 13.62719 | 13.59680 |\n",
       "| 2028 | 13.72066 | 13.67624 | 13.72417 | 13.69098 | 13.74183 | 13.72071 | 13.70923 | 13.66627 | 13.73907 | 13.73306 | 13.70186 | 13.67208 |\n",
       "| 2029 | 13.79419 | 13.74821 | 13.79935 | 13.76556 | 13.81536 | 13.79427 | 13.78178 | <!----> | <!----> | <!----> | <!----> | <!----> |\n",
       "\n",
       "\n",
       "$se\n",
       ":   \n",
       "A Time Series: 8 × 12\n",
       "\n",
       "| <!--/--> | Jan | Feb | Mar | Apr | May | Jun | Jul | Aug | Sep | Oct | Nov | Dec |\n",
       "|---|---|---|---|---|---|---|---|---|---|---|---|---|\n",
       "| 2022 | <!----> | <!----> | <!----> | <!----> | <!----> | <!----> | <!----> | 0.1380570 | 0.1384783 | 0.1452698 | 0.1453711 | 0.1461686 |\n",
       "| 2023 | 0.1462186 | 0.1463486 | 0.1463554 | 0.1463847 | 0.1463873 | 0.1463954 | 0.1463978 | 0.1463923 | 0.1463976 | 0.1463971 | 0.1464139 | 0.1464174 |\n",
       "| 2024 | 0.1464519 | 0.1464517 | 0.1464518 | 0.1464518 | 0.1464522 | 0.1464523 | 0.1464538 | 0.1476982 | 0.1477323 | 0.1479294 | 0.1479569 | 0.1480044 |\n",
       "| 2025 | 0.1480497 | 0.1480613 | 0.1480623 | 0.1480657 | 0.1480664 | 0.1480676 | 0.1480692 | 0.1521352 | 0.1522108 | 0.1527678 | 0.1528118 | 0.1529255 |\n",
       "| 2026 | 0.1529896 | 0.1530170 | 0.1530191 | 0.1530270 | 0.1530282 | 0.1530307 | 0.1530330 | 0.1541814 | 0.1542211 | 0.1544239 | 0.1544591 | 0.1545126 |\n",
       "| 2027 | 0.1545797 | 0.1545930 | 0.1545942 | 0.1545981 | 0.1545991 | 0.1546004 | 0.1546026 | 0.1575326 | 0.1576052 | 0.1580578 | 0.1581063 | 0.1582104 |\n",
       "| 2028 | 0.1582928 | 0.1583188 | 0.1583209 | 0.1583286 | 0.1583299 | 0.1583323 | 0.1583349 | 0.1602746 | 0.1603357 | 0.1606688 | 0.1607161 | 0.1608005 |\n",
       "| 2029 | 0.1608898 | 0.1609111 | 0.1609130 | 0.1609193 | 0.1609206 | 0.1609227 | 0.1609254 | <!----> | <!----> | <!----> | <!----> | <!----> |\n",
       "\n",
       "\n",
       "\n",
       "\n"
      ],
      "text/plain": [
       "$pred\n",
       "          Jan      Feb      Mar      Apr      May      Jun      Jul      Aug\n",
       "2022                                                                13.18083\n",
       "2023 13.37358 13.30689 13.36209 13.31035 13.36468 13.35165 13.36430 13.31188\n",
       "2024 13.41430 13.38978 13.41664 13.39620 13.45093 13.42548 13.40707 13.35662\n",
       "2025 13.49354 13.43436 13.50366 13.46250 13.50773 13.48869 13.47661 13.44546\n",
       "2026 13.57211 13.53358 13.57263 13.54252 13.59579 13.57391 13.56304 13.51497\n",
       "2027 13.64305 13.59424 13.65012 13.61498 13.66340 13.64257 13.62932 13.59161\n",
       "2028 13.72066 13.67624 13.72417 13.69098 13.74183 13.72071 13.70923 13.66627\n",
       "2029 13.79419 13.74821 13.79935 13.76556 13.81536 13.79427 13.78178         \n",
       "          Sep      Oct      Nov      Dec\n",
       "2022 13.24197 13.27383 13.23095 13.21893\n",
       "2023 13.38078 13.36244 13.33990 13.29679\n",
       "2024 13.43439 13.43165 13.39567 13.37328\n",
       "2025 13.51400 13.50860 13.47978 13.44630\n",
       "2026 13.58951 13.58306 13.55098 13.52257\n",
       "2027 13.66298 13.65800 13.62719 13.59680\n",
       "2028 13.73907 13.73306 13.70186 13.67208\n",
       "2029                                    \n",
       "\n",
       "$se\n",
       "           Jan       Feb       Mar       Apr       May       Jun       Jul\n",
       "2022                                                                      \n",
       "2023 0.1462186 0.1463486 0.1463554 0.1463847 0.1463873 0.1463954 0.1463978\n",
       "2024 0.1464519 0.1464517 0.1464518 0.1464518 0.1464522 0.1464523 0.1464538\n",
       "2025 0.1480497 0.1480613 0.1480623 0.1480657 0.1480664 0.1480676 0.1480692\n",
       "2026 0.1529896 0.1530170 0.1530191 0.1530270 0.1530282 0.1530307 0.1530330\n",
       "2027 0.1545797 0.1545930 0.1545942 0.1545981 0.1545991 0.1546004 0.1546026\n",
       "2028 0.1582928 0.1583188 0.1583209 0.1583286 0.1583299 0.1583323 0.1583349\n",
       "2029 0.1608898 0.1609111 0.1609130 0.1609193 0.1609206 0.1609227 0.1609254\n",
       "           Aug       Sep       Oct       Nov       Dec\n",
       "2022 0.1380570 0.1384783 0.1452698 0.1453711 0.1461686\n",
       "2023 0.1463923 0.1463976 0.1463971 0.1464139 0.1464174\n",
       "2024 0.1476982 0.1477323 0.1479294 0.1479569 0.1480044\n",
       "2025 0.1521352 0.1522108 0.1527678 0.1528118 0.1529255\n",
       "2026 0.1541814 0.1542211 0.1544239 0.1544591 0.1545126\n",
       "2027 0.1575326 0.1576052 0.1580578 0.1581063 0.1582104\n",
       "2028 0.1602746 0.1603357 0.1606688 0.1607161 0.1608005\n",
       "2029                                                  \n"
      ]
     },
     "metadata": {},
     "output_type": "display_data"
    },
    {
     "data": {
      "text/html": [
       "<dl>\n",
       "\t<dt>$pred</dt>\n",
       "\t\t<dd><table class=\"dataframe\">\n",
       "<caption>A Time Series: 8 × 12</caption>\n",
       "<thead>\n",
       "\t<tr><th></th><th scope=col>Jan</th><th scope=col>Feb</th><th scope=col>Mar</th><th scope=col>Apr</th><th scope=col>May</th><th scope=col>Jun</th><th scope=col>Jul</th><th scope=col>Aug</th><th scope=col>Sep</th><th scope=col>Oct</th><th scope=col>Nov</th><th scope=col>Dec</th></tr>\n",
       "</thead>\n",
       "<tbody>\n",
       "\t<tr><th scope=row>2022</th><td>        </td><td>        </td><td>        </td><td>        </td><td>        </td><td>        </td><td>        </td><td>13.18083</td><td>13.24197</td><td>13.27383</td><td>13.23095</td><td>13.21893</td></tr>\n",
       "\t<tr><th scope=row>2023</th><td>13.37358</td><td>13.30689</td><td>13.36209</td><td>13.31035</td><td>13.36468</td><td>13.35165</td><td>13.36430</td><td>13.31188</td><td>13.38078</td><td>13.36244</td><td>13.33990</td><td>13.29679</td></tr>\n",
       "\t<tr><th scope=row>2024</th><td>13.41430</td><td>13.38978</td><td>13.41664</td><td>13.39620</td><td>13.45093</td><td>13.42548</td><td>13.40707</td><td>13.35662</td><td>13.43439</td><td>13.43165</td><td>13.39567</td><td>13.37328</td></tr>\n",
       "\t<tr><th scope=row>2025</th><td>13.49354</td><td>13.43436</td><td>13.50366</td><td>13.46250</td><td>13.50773</td><td>13.48869</td><td>13.47661</td><td>13.44546</td><td>13.51400</td><td>13.50860</td><td>13.47978</td><td>13.44630</td></tr>\n",
       "\t<tr><th scope=row>2026</th><td>13.57211</td><td>13.53358</td><td>13.57263</td><td>13.54252</td><td>13.59579</td><td>13.57391</td><td>13.56304</td><td>13.51497</td><td>13.58951</td><td>13.58306</td><td>13.55098</td><td>13.52257</td></tr>\n",
       "\t<tr><th scope=row>2027</th><td>13.64305</td><td>13.59424</td><td>13.65012</td><td>13.61498</td><td>13.66340</td><td>13.64257</td><td>13.62932</td><td>13.59161</td><td>13.66298</td><td>13.65800</td><td>13.62719</td><td>13.59680</td></tr>\n",
       "\t<tr><th scope=row>2028</th><td>13.72066</td><td>13.67624</td><td>13.72417</td><td>13.69098</td><td>13.74183</td><td>13.72071</td><td>13.70923</td><td>13.66627</td><td>13.73907</td><td>13.73306</td><td>13.70186</td><td>13.67208</td></tr>\n",
       "\t<tr><th scope=row>2029</th><td>13.79419</td><td>13.74821</td><td>13.79935</td><td>13.76556</td><td>13.81536</td><td>13.79427</td><td>13.78178</td><td>        </td><td>        </td><td>        </td><td>        </td><td>        </td></tr>\n",
       "</tbody>\n",
       "</table>\n",
       "</dd>\n",
       "\t<dt>$se</dt>\n",
       "\t\t<dd><table class=\"dataframe\">\n",
       "<caption>A Time Series: 8 × 12</caption>\n",
       "<thead>\n",
       "\t<tr><th></th><th scope=col>Jan</th><th scope=col>Feb</th><th scope=col>Mar</th><th scope=col>Apr</th><th scope=col>May</th><th scope=col>Jun</th><th scope=col>Jul</th><th scope=col>Aug</th><th scope=col>Sep</th><th scope=col>Oct</th><th scope=col>Nov</th><th scope=col>Dec</th></tr>\n",
       "</thead>\n",
       "<tbody>\n",
       "\t<tr><th scope=row>2022</th><td>         </td><td>         </td><td>         </td><td>         </td><td>         </td><td>         </td><td>         </td><td>0.1380570</td><td>0.1384783</td><td>0.1452698</td><td>0.1453711</td><td>0.1461686</td></tr>\n",
       "\t<tr><th scope=row>2023</th><td>0.1462186</td><td>0.1463486</td><td>0.1463554</td><td>0.1463847</td><td>0.1463873</td><td>0.1463954</td><td>0.1463978</td><td>0.1463923</td><td>0.1463976</td><td>0.1463971</td><td>0.1464139</td><td>0.1464174</td></tr>\n",
       "\t<tr><th scope=row>2024</th><td>0.1464519</td><td>0.1464517</td><td>0.1464518</td><td>0.1464518</td><td>0.1464522</td><td>0.1464523</td><td>0.1464538</td><td>0.1476982</td><td>0.1477323</td><td>0.1479294</td><td>0.1479569</td><td>0.1480044</td></tr>\n",
       "\t<tr><th scope=row>2025</th><td>0.1480497</td><td>0.1480613</td><td>0.1480623</td><td>0.1480657</td><td>0.1480664</td><td>0.1480676</td><td>0.1480692</td><td>0.1521352</td><td>0.1522108</td><td>0.1527678</td><td>0.1528118</td><td>0.1529255</td></tr>\n",
       "\t<tr><th scope=row>2026</th><td>0.1529896</td><td>0.1530170</td><td>0.1530191</td><td>0.1530270</td><td>0.1530282</td><td>0.1530307</td><td>0.1530330</td><td>0.1541814</td><td>0.1542211</td><td>0.1544239</td><td>0.1544591</td><td>0.1545126</td></tr>\n",
       "\t<tr><th scope=row>2027</th><td>0.1545797</td><td>0.1545930</td><td>0.1545942</td><td>0.1545981</td><td>0.1545991</td><td>0.1546004</td><td>0.1546026</td><td>0.1575326</td><td>0.1576052</td><td>0.1580578</td><td>0.1581063</td><td>0.1582104</td></tr>\n",
       "\t<tr><th scope=row>2028</th><td>0.1582928</td><td>0.1583188</td><td>0.1583209</td><td>0.1583286</td><td>0.1583299</td><td>0.1583323</td><td>0.1583349</td><td>0.1602746</td><td>0.1603357</td><td>0.1606688</td><td>0.1607161</td><td>0.1608005</td></tr>\n",
       "\t<tr><th scope=row>2029</th><td>0.1608898</td><td>0.1609111</td><td>0.1609130</td><td>0.1609193</td><td>0.1609206</td><td>0.1609227</td><td>0.1609254</td><td>         </td><td>         </td><td>         </td><td>         </td><td>         </td></tr>\n",
       "</tbody>\n",
       "</table>\n",
       "</dd>\n",
       "\t<dt>$pred2</dt>\n",
       "\t\t<dd><table class=\"dataframe\">\n",
       "<caption>A Time Series: 8 × 12</caption>\n",
       "<thead>\n",
       "\t<tr><th></th><th scope=col>Jan</th><th scope=col>Feb</th><th scope=col>Mar</th><th scope=col>Apr</th><th scope=col>May</th><th scope=col>Jun</th><th scope=col>Jul</th><th scope=col>Aug</th><th scope=col>Sep</th><th scope=col>Oct</th><th scope=col>Nov</th><th scope=col>Dec</th></tr>\n",
       "</thead>\n",
       "<tbody>\n",
       "\t<tr><th scope=row>2022</th><td>        </td><td>        </td><td>        </td><td>        </td><td>        </td><td>        </td><td>        </td><td>530100.8</td><td>563524.1</td><td>581767.1</td><td>557345.9</td><td>550685.9</td></tr>\n",
       "\t<tr><th scope=row>2023</th><td>642787.3</td><td>601318.4</td><td>635443.0</td><td>603405.5</td><td>637089.9</td><td>628844.8</td><td>636849.2</td><td>604327.3</td><td>647432.3</td><td>635667.2</td><td>621501.5</td><td>595278.7</td></tr>\n",
       "\t<tr><th scope=row>2024</th><td>669503.3</td><td>653285.8</td><td>671070.9</td><td>657494.5</td><td>694479.0</td><td>677028.4</td><td>664677.2</td><td>631977.5</td><td>683088.7</td><td>681218.9</td><td>657148.0</td><td>642598.1</td></tr>\n",
       "\t<tr><th scope=row>2025</th><td>724713.1</td><td>683066.7</td><td>732084.1</td><td>702564.8</td><td>735073.1</td><td>721203.7</td><td>712544.0</td><td>690693.1</td><td>739691.2</td><td>735709.5</td><td>714810.4</td><td>691270.1</td></tr>\n",
       "\t<tr><th scope=row>2026</th><td>783953.2</td><td>754321.5</td><td>784360.1</td><td>761095.6</td><td>802733.2</td><td>785364.4</td><td>776868.6</td><td>740408.2</td><td>797709.0</td><td>792581.0</td><td>767562.9</td><td>746061.6</td></tr>\n",
       "\t<tr><th scope=row>2027</th><td>841583.1</td><td>801495.7</td><td>847554.4</td><td>818286.8</td><td>858882.3</td><td>841183.9</td><td>830108.0</td><td>799386.4</td><td>858528.1</td><td>854259.9</td><td>828337.6</td><td>803545.5</td></tr>\n",
       "\t<tr><th scope=row>2028</th><td>909498.3</td><td>869982.6</td><td>912699.8</td><td>882902.2</td><td>928959.1</td><td>909545.3</td><td>899165.6</td><td>861353.1</td><td>926402.0</td><td>920848.5</td><td>892563.5</td><td>866375.1</td></tr>\n",
       "\t<tr><th scope=row>2029</th><td>978893.7</td><td>934902.8</td><td>983956.9</td><td>951267.0</td><td>999843.0</td><td>978977.9</td><td>966826.2</td><td>        </td><td>        </td><td>        </td><td>        </td><td>        </td></tr>\n",
       "</tbody>\n",
       "</table>\n",
       "</dd>\n",
       "</dl>\n"
      ],
      "text/latex": [
       "\\begin{description}\n",
       "\\item[\\$pred] A Time Series: 8 × 12\n",
       "\\begin{tabular}{r|llllllllllll}\n",
       "  & Jan & Feb & Mar & Apr & May & Jun & Jul & Aug & Sep & Oct & Nov & Dec\\\\\n",
       "\\hline\n",
       "\t2022 &          &          &          &          &          &          &          & 13.18083 & 13.24197 & 13.27383 & 13.23095 & 13.21893\\\\\n",
       "\t2023 & 13.37358 & 13.30689 & 13.36209 & 13.31035 & 13.36468 & 13.35165 & 13.36430 & 13.31188 & 13.38078 & 13.36244 & 13.33990 & 13.29679\\\\\n",
       "\t2024 & 13.41430 & 13.38978 & 13.41664 & 13.39620 & 13.45093 & 13.42548 & 13.40707 & 13.35662 & 13.43439 & 13.43165 & 13.39567 & 13.37328\\\\\n",
       "\t2025 & 13.49354 & 13.43436 & 13.50366 & 13.46250 & 13.50773 & 13.48869 & 13.47661 & 13.44546 & 13.51400 & 13.50860 & 13.47978 & 13.44630\\\\\n",
       "\t2026 & 13.57211 & 13.53358 & 13.57263 & 13.54252 & 13.59579 & 13.57391 & 13.56304 & 13.51497 & 13.58951 & 13.58306 & 13.55098 & 13.52257\\\\\n",
       "\t2027 & 13.64305 & 13.59424 & 13.65012 & 13.61498 & 13.66340 & 13.64257 & 13.62932 & 13.59161 & 13.66298 & 13.65800 & 13.62719 & 13.59680\\\\\n",
       "\t2028 & 13.72066 & 13.67624 & 13.72417 & 13.69098 & 13.74183 & 13.72071 & 13.70923 & 13.66627 & 13.73907 & 13.73306 & 13.70186 & 13.67208\\\\\n",
       "\t2029 & 13.79419 & 13.74821 & 13.79935 & 13.76556 & 13.81536 & 13.79427 & 13.78178 &          &          &          &          &         \\\\\n",
       "\\end{tabular}\n",
       "\n",
       "\\item[\\$se] A Time Series: 8 × 12\n",
       "\\begin{tabular}{r|llllllllllll}\n",
       "  & Jan & Feb & Mar & Apr & May & Jun & Jul & Aug & Sep & Oct & Nov & Dec\\\\\n",
       "\\hline\n",
       "\t2022 &           &           &           &           &           &           &           & 0.1380570 & 0.1384783 & 0.1452698 & 0.1453711 & 0.1461686\\\\\n",
       "\t2023 & 0.1462186 & 0.1463486 & 0.1463554 & 0.1463847 & 0.1463873 & 0.1463954 & 0.1463978 & 0.1463923 & 0.1463976 & 0.1463971 & 0.1464139 & 0.1464174\\\\\n",
       "\t2024 & 0.1464519 & 0.1464517 & 0.1464518 & 0.1464518 & 0.1464522 & 0.1464523 & 0.1464538 & 0.1476982 & 0.1477323 & 0.1479294 & 0.1479569 & 0.1480044\\\\\n",
       "\t2025 & 0.1480497 & 0.1480613 & 0.1480623 & 0.1480657 & 0.1480664 & 0.1480676 & 0.1480692 & 0.1521352 & 0.1522108 & 0.1527678 & 0.1528118 & 0.1529255\\\\\n",
       "\t2026 & 0.1529896 & 0.1530170 & 0.1530191 & 0.1530270 & 0.1530282 & 0.1530307 & 0.1530330 & 0.1541814 & 0.1542211 & 0.1544239 & 0.1544591 & 0.1545126\\\\\n",
       "\t2027 & 0.1545797 & 0.1545930 & 0.1545942 & 0.1545981 & 0.1545991 & 0.1546004 & 0.1546026 & 0.1575326 & 0.1576052 & 0.1580578 & 0.1581063 & 0.1582104\\\\\n",
       "\t2028 & 0.1582928 & 0.1583188 & 0.1583209 & 0.1583286 & 0.1583299 & 0.1583323 & 0.1583349 & 0.1602746 & 0.1603357 & 0.1606688 & 0.1607161 & 0.1608005\\\\\n",
       "\t2029 & 0.1608898 & 0.1609111 & 0.1609130 & 0.1609193 & 0.1609206 & 0.1609227 & 0.1609254 &           &           &           &           &          \\\\\n",
       "\\end{tabular}\n",
       "\n",
       "\\item[\\$pred2] A Time Series: 8 × 12\n",
       "\\begin{tabular}{r|llllllllllll}\n",
       "  & Jan & Feb & Mar & Apr & May & Jun & Jul & Aug & Sep & Oct & Nov & Dec\\\\\n",
       "\\hline\n",
       "\t2022 &          &          &          &          &          &          &          & 530100.8 & 563524.1 & 581767.1 & 557345.9 & 550685.9\\\\\n",
       "\t2023 & 642787.3 & 601318.4 & 635443.0 & 603405.5 & 637089.9 & 628844.8 & 636849.2 & 604327.3 & 647432.3 & 635667.2 & 621501.5 & 595278.7\\\\\n",
       "\t2024 & 669503.3 & 653285.8 & 671070.9 & 657494.5 & 694479.0 & 677028.4 & 664677.2 & 631977.5 & 683088.7 & 681218.9 & 657148.0 & 642598.1\\\\\n",
       "\t2025 & 724713.1 & 683066.7 & 732084.1 & 702564.8 & 735073.1 & 721203.7 & 712544.0 & 690693.1 & 739691.2 & 735709.5 & 714810.4 & 691270.1\\\\\n",
       "\t2026 & 783953.2 & 754321.5 & 784360.1 & 761095.6 & 802733.2 & 785364.4 & 776868.6 & 740408.2 & 797709.0 & 792581.0 & 767562.9 & 746061.6\\\\\n",
       "\t2027 & 841583.1 & 801495.7 & 847554.4 & 818286.8 & 858882.3 & 841183.9 & 830108.0 & 799386.4 & 858528.1 & 854259.9 & 828337.6 & 803545.5\\\\\n",
       "\t2028 & 909498.3 & 869982.6 & 912699.8 & 882902.2 & 928959.1 & 909545.3 & 899165.6 & 861353.1 & 926402.0 & 920848.5 & 892563.5 & 866375.1\\\\\n",
       "\t2029 & 978893.7 & 934902.8 & 983956.9 & 951267.0 & 999843.0 & 978977.9 & 966826.2 &          &          &          &          &         \\\\\n",
       "\\end{tabular}\n",
       "\n",
       "\\end{description}\n"
      ],
      "text/markdown": [
       "$pred\n",
       ":   \n",
       "A Time Series: 8 × 12\n",
       "\n",
       "| <!--/--> | Jan | Feb | Mar | Apr | May | Jun | Jul | Aug | Sep | Oct | Nov | Dec |\n",
       "|---|---|---|---|---|---|---|---|---|---|---|---|---|\n",
       "| 2022 | <!----> | <!----> | <!----> | <!----> | <!----> | <!----> | <!----> | 13.18083 | 13.24197 | 13.27383 | 13.23095 | 13.21893 |\n",
       "| 2023 | 13.37358 | 13.30689 | 13.36209 | 13.31035 | 13.36468 | 13.35165 | 13.36430 | 13.31188 | 13.38078 | 13.36244 | 13.33990 | 13.29679 |\n",
       "| 2024 | 13.41430 | 13.38978 | 13.41664 | 13.39620 | 13.45093 | 13.42548 | 13.40707 | 13.35662 | 13.43439 | 13.43165 | 13.39567 | 13.37328 |\n",
       "| 2025 | 13.49354 | 13.43436 | 13.50366 | 13.46250 | 13.50773 | 13.48869 | 13.47661 | 13.44546 | 13.51400 | 13.50860 | 13.47978 | 13.44630 |\n",
       "| 2026 | 13.57211 | 13.53358 | 13.57263 | 13.54252 | 13.59579 | 13.57391 | 13.56304 | 13.51497 | 13.58951 | 13.58306 | 13.55098 | 13.52257 |\n",
       "| 2027 | 13.64305 | 13.59424 | 13.65012 | 13.61498 | 13.66340 | 13.64257 | 13.62932 | 13.59161 | 13.66298 | 13.65800 | 13.62719 | 13.59680 |\n",
       "| 2028 | 13.72066 | 13.67624 | 13.72417 | 13.69098 | 13.74183 | 13.72071 | 13.70923 | 13.66627 | 13.73907 | 13.73306 | 13.70186 | 13.67208 |\n",
       "| 2029 | 13.79419 | 13.74821 | 13.79935 | 13.76556 | 13.81536 | 13.79427 | 13.78178 | <!----> | <!----> | <!----> | <!----> | <!----> |\n",
       "\n",
       "\n",
       "$se\n",
       ":   \n",
       "A Time Series: 8 × 12\n",
       "\n",
       "| <!--/--> | Jan | Feb | Mar | Apr | May | Jun | Jul | Aug | Sep | Oct | Nov | Dec |\n",
       "|---|---|---|---|---|---|---|---|---|---|---|---|---|\n",
       "| 2022 | <!----> | <!----> | <!----> | <!----> | <!----> | <!----> | <!----> | 0.1380570 | 0.1384783 | 0.1452698 | 0.1453711 | 0.1461686 |\n",
       "| 2023 | 0.1462186 | 0.1463486 | 0.1463554 | 0.1463847 | 0.1463873 | 0.1463954 | 0.1463978 | 0.1463923 | 0.1463976 | 0.1463971 | 0.1464139 | 0.1464174 |\n",
       "| 2024 | 0.1464519 | 0.1464517 | 0.1464518 | 0.1464518 | 0.1464522 | 0.1464523 | 0.1464538 | 0.1476982 | 0.1477323 | 0.1479294 | 0.1479569 | 0.1480044 |\n",
       "| 2025 | 0.1480497 | 0.1480613 | 0.1480623 | 0.1480657 | 0.1480664 | 0.1480676 | 0.1480692 | 0.1521352 | 0.1522108 | 0.1527678 | 0.1528118 | 0.1529255 |\n",
       "| 2026 | 0.1529896 | 0.1530170 | 0.1530191 | 0.1530270 | 0.1530282 | 0.1530307 | 0.1530330 | 0.1541814 | 0.1542211 | 0.1544239 | 0.1544591 | 0.1545126 |\n",
       "| 2027 | 0.1545797 | 0.1545930 | 0.1545942 | 0.1545981 | 0.1545991 | 0.1546004 | 0.1546026 | 0.1575326 | 0.1576052 | 0.1580578 | 0.1581063 | 0.1582104 |\n",
       "| 2028 | 0.1582928 | 0.1583188 | 0.1583209 | 0.1583286 | 0.1583299 | 0.1583323 | 0.1583349 | 0.1602746 | 0.1603357 | 0.1606688 | 0.1607161 | 0.1608005 |\n",
       "| 2029 | 0.1608898 | 0.1609111 | 0.1609130 | 0.1609193 | 0.1609206 | 0.1609227 | 0.1609254 | <!----> | <!----> | <!----> | <!----> | <!----> |\n",
       "\n",
       "\n",
       "$pred2\n",
       ":   \n",
       "A Time Series: 8 × 12\n",
       "\n",
       "| <!--/--> | Jan | Feb | Mar | Apr | May | Jun | Jul | Aug | Sep | Oct | Nov | Dec |\n",
       "|---|---|---|---|---|---|---|---|---|---|---|---|---|\n",
       "| 2022 | <!----> | <!----> | <!----> | <!----> | <!----> | <!----> | <!----> | 530100.8 | 563524.1 | 581767.1 | 557345.9 | 550685.9 |\n",
       "| 2023 | 642787.3 | 601318.4 | 635443.0 | 603405.5 | 637089.9 | 628844.8 | 636849.2 | 604327.3 | 647432.3 | 635667.2 | 621501.5 | 595278.7 |\n",
       "| 2024 | 669503.3 | 653285.8 | 671070.9 | 657494.5 | 694479.0 | 677028.4 | 664677.2 | 631977.5 | 683088.7 | 681218.9 | 657148.0 | 642598.1 |\n",
       "| 2025 | 724713.1 | 683066.7 | 732084.1 | 702564.8 | 735073.1 | 721203.7 | 712544.0 | 690693.1 | 739691.2 | 735709.5 | 714810.4 | 691270.1 |\n",
       "| 2026 | 783953.2 | 754321.5 | 784360.1 | 761095.6 | 802733.2 | 785364.4 | 776868.6 | 740408.2 | 797709.0 | 792581.0 | 767562.9 | 746061.6 |\n",
       "| 2027 | 841583.1 | 801495.7 | 847554.4 | 818286.8 | 858882.3 | 841183.9 | 830108.0 | 799386.4 | 858528.1 | 854259.9 | 828337.6 | 803545.5 |\n",
       "| 2028 | 909498.3 | 869982.6 | 912699.8 | 882902.2 | 928959.1 | 909545.3 | 899165.6 | 861353.1 | 926402.0 | 920848.5 | 892563.5 | 866375.1 |\n",
       "| 2029 | 978893.7 | 934902.8 | 983956.9 | 951267.0 | 999843.0 | 978977.9 | 966826.2 | <!----> | <!----> | <!----> | <!----> | <!----> |\n",
       "\n",
       "\n",
       "\n",
       "\n"
      ],
      "text/plain": [
       "$pred\n",
       "          Jan      Feb      Mar      Apr      May      Jun      Jul      Aug\n",
       "2022                                                                13.18083\n",
       "2023 13.37358 13.30689 13.36209 13.31035 13.36468 13.35165 13.36430 13.31188\n",
       "2024 13.41430 13.38978 13.41664 13.39620 13.45093 13.42548 13.40707 13.35662\n",
       "2025 13.49354 13.43436 13.50366 13.46250 13.50773 13.48869 13.47661 13.44546\n",
       "2026 13.57211 13.53358 13.57263 13.54252 13.59579 13.57391 13.56304 13.51497\n",
       "2027 13.64305 13.59424 13.65012 13.61498 13.66340 13.64257 13.62932 13.59161\n",
       "2028 13.72066 13.67624 13.72417 13.69098 13.74183 13.72071 13.70923 13.66627\n",
       "2029 13.79419 13.74821 13.79935 13.76556 13.81536 13.79427 13.78178         \n",
       "          Sep      Oct      Nov      Dec\n",
       "2022 13.24197 13.27383 13.23095 13.21893\n",
       "2023 13.38078 13.36244 13.33990 13.29679\n",
       "2024 13.43439 13.43165 13.39567 13.37328\n",
       "2025 13.51400 13.50860 13.47978 13.44630\n",
       "2026 13.58951 13.58306 13.55098 13.52257\n",
       "2027 13.66298 13.65800 13.62719 13.59680\n",
       "2028 13.73907 13.73306 13.70186 13.67208\n",
       "2029                                    \n",
       "\n",
       "$se\n",
       "           Jan       Feb       Mar       Apr       May       Jun       Jul\n",
       "2022                                                                      \n",
       "2023 0.1462186 0.1463486 0.1463554 0.1463847 0.1463873 0.1463954 0.1463978\n",
       "2024 0.1464519 0.1464517 0.1464518 0.1464518 0.1464522 0.1464523 0.1464538\n",
       "2025 0.1480497 0.1480613 0.1480623 0.1480657 0.1480664 0.1480676 0.1480692\n",
       "2026 0.1529896 0.1530170 0.1530191 0.1530270 0.1530282 0.1530307 0.1530330\n",
       "2027 0.1545797 0.1545930 0.1545942 0.1545981 0.1545991 0.1546004 0.1546026\n",
       "2028 0.1582928 0.1583188 0.1583209 0.1583286 0.1583299 0.1583323 0.1583349\n",
       "2029 0.1608898 0.1609111 0.1609130 0.1609193 0.1609206 0.1609227 0.1609254\n",
       "           Aug       Sep       Oct       Nov       Dec\n",
       "2022 0.1380570 0.1384783 0.1452698 0.1453711 0.1461686\n",
       "2023 0.1463923 0.1463976 0.1463971 0.1464139 0.1464174\n",
       "2024 0.1476982 0.1477323 0.1479294 0.1479569 0.1480044\n",
       "2025 0.1521352 0.1522108 0.1527678 0.1528118 0.1529255\n",
       "2026 0.1541814 0.1542211 0.1544239 0.1544591 0.1545126\n",
       "2027 0.1575326 0.1576052 0.1580578 0.1581063 0.1582104\n",
       "2028 0.1602746 0.1603357 0.1606688 0.1607161 0.1608005\n",
       "2029                                                  \n",
       "\n",
       "$pred2\n",
       "          Jan      Feb      Mar      Apr      May      Jun      Jul      Aug\n",
       "2022                                                                530100.8\n",
       "2023 642787.3 601318.4 635443.0 603405.5 637089.9 628844.8 636849.2 604327.3\n",
       "2024 669503.3 653285.8 671070.9 657494.5 694479.0 677028.4 664677.2 631977.5\n",
       "2025 724713.1 683066.7 732084.1 702564.8 735073.1 721203.7 712544.0 690693.1\n",
       "2026 783953.2 754321.5 784360.1 761095.6 802733.2 785364.4 776868.6 740408.2\n",
       "2027 841583.1 801495.7 847554.4 818286.8 858882.3 841183.9 830108.0 799386.4\n",
       "2028 909498.3 869982.6 912699.8 882902.2 928959.1 909545.3 899165.6 861353.1\n",
       "2029 978893.7 934902.8 983956.9 951267.0 999843.0 978977.9 966826.2         \n",
       "          Sep      Oct      Nov      Dec\n",
       "2022 563524.1 581767.1 557345.9 550685.9\n",
       "2023 647432.3 635667.2 621501.5 595278.7\n",
       "2024 683088.7 681218.9 657148.0 642598.1\n",
       "2025 739691.2 735709.5 714810.4 691270.1\n",
       "2026 797709.0 792581.0 767562.9 746061.6\n",
       "2027 858528.1 854259.9 828337.6 803545.5\n",
       "2028 926402.0 920848.5 892563.5 866375.1\n",
       "2029                                    \n"
      ]
     },
     "metadata": {},
     "output_type": "display_data"
    },
    {
     "data": {
      "text/html": [
       "758232.102929021"
      ],
      "text/latex": [
       "758232.102929021"
      ],
      "text/markdown": [
       "758232.102929021"
      ],
      "text/plain": [
       "[1] 758232.1"
      ]
     },
     "metadata": {},
     "output_type": "display_data"
    },
    {
     "data": {
      "text/html": [
       "120047.636701902"
      ],
      "text/latex": [
       "120047.636701902"
      ],
      "text/markdown": [
       "120047.636701902"
      ],
      "text/plain": [
       "[1] 120047.6"
      ]
     },
     "metadata": {},
     "output_type": "display_data"
    }
   ],
   "source": [
    "install.packages(\"forecast\") \n",
    "library(forecast) \n",
    "\n",
    "\n",
    "#####################################################################\n",
    "# Now let us do some prediction for the next 7 years\n",
    "\n",
    "# Monthly Average Sale Price\n",
    "pred_H_TS <- predict(fit_open, n.ahead = 7*12)\n",
    "\n",
    "pred_H_TS\n",
    "\n",
    "pred_H_TS$pred2 <- 2.71828^(pred_H_TS$pred)\n",
    "\n",
    "pred_H_TS\n",
    "\n",
    "\n",
    "# Calculate mean and standard deviation of the prediction\n",
    "Avg.vF <- mean(pred_H_TS$pred2)\n",
    "Avg.vF\n",
    "\n",
    "StandD <- sd(pred_H_TS$pred2)\n",
    "StandD\n",
    "\n",
    "################################################################################"
   ]
  },
  {
   "cell_type": "code",
   "execution_count": 20,
   "metadata": {},
   "outputs": [
    {
     "data": {
      "image/png": "[encoded data removed]",
      "text/plain": [
       "plot without title"
      ]
     },
     "metadata": {
      "image/png": {
       "height": 420,
       "width": 420
      }
     },
     "output_type": "display_data"
    }
   ],
   "source": [
    "################################################################################\n",
    "\n",
    "ts.plot(H_TS,2.71828^pred_H_TS$pred, log = \"y\", lty = c(1,3))\n",
    "\n",
    "################################################################################"
   ]
  },
  {
   "cell_type": "code",
   "execution_count": 21,
   "metadata": {},
   "outputs": [
    {
     "data": {
      "text/plain": [
       "         Point Forecast    Lo 80    Hi 80    Lo 95    Hi 95\n",
       "Aug 2022       554825.8 470499.7 639151.8 425860.2 683791.4\n",
       "Sep 2022       557051.4 472623.7 641479.2 427930.3 686172.6\n",
       "Oct 2022       559277.1 474747.7 643806.5 430000.6 688553.7\n",
       "Nov 2022       561502.8 476871.9 646133.7 432071.0 690934.6\n",
       "Dec 2022       563728.5 478996.2 648460.7 434141.7 693315.3\n",
       "Jan 2023       565954.1 481120.6 650787.6 436212.5 695695.8\n",
       "Feb 2023       568179.8 483245.2 653114.4 438283.5 698076.1\n",
       "Mar 2023       570405.5 485369.8 655441.1 440354.7 700456.2\n",
       "Apr 2023       572631.1 487494.6 657767.6 442426.1 702836.2\n",
       "May 2023       574856.8 489619.5 660094.1 444497.6 705216.0\n",
       "Jun 2023       577082.5 491744.5 662420.4 446569.4 707595.5\n",
       "Jul 2023       579308.1 493869.7 664746.6 448641.3 709975.0\n",
       "Aug 2023       581533.8 495994.9 667072.7 450713.4 712354.2\n",
       "Sep 2023       583759.5 498120.3 669398.6 452785.7 714733.2\n",
       "Oct 2023       585985.1 500245.8 671724.5 454858.2 717112.1\n",
       "Nov 2023       588210.8 502371.4 674050.2 456930.8 719490.8\n",
       "Dec 2023       590436.5 504497.1 676375.8 459003.6 721869.3\n",
       "Jan 2024       592662.1 506623.0 678701.3 461076.6 724247.6\n",
       "Feb 2024       594887.8 508749.0 681026.7 463149.8 726625.8\n",
       "Mar 2024       597113.5 510875.0 683351.9 465223.2 729003.8\n",
       "Apr 2024       599339.1 513001.2 685677.1 467296.7 731381.6\n",
       "May 2024       601564.8 515127.5 688002.1 469370.4 733759.2\n",
       "Jun 2024       603790.5 517253.9 690327.0 471444.3 736136.7\n",
       "Jul 2024       606016.1 519380.5 692651.8 473518.3 738514.0\n",
       "Aug 2024       608241.8 521507.1 694976.5 475592.5 740891.1\n",
       "Sep 2024       610467.5 523633.9 697301.1 477666.9 743268.0\n",
       "Oct 2024       612693.1 525760.7 699625.6 479741.5 745644.8\n",
       "Nov 2024       614918.8 527887.7 701949.9 481816.2 748021.4\n",
       "Dec 2024       617144.5 530014.8 704274.1 483891.2 750397.8\n",
       "Jan 2025       619370.1 532142.0 706598.3 485966.2 752774.1\n",
       "Feb 2025       621595.8 534269.3 708922.3 488041.5 755150.1\n",
       "Mar 2025       623821.5 536396.8 711246.2 490116.9 757526.1\n",
       "Apr 2025       626047.2 538524.3 713570.0 492192.5 759901.8\n",
       "May 2025       628272.8 540652.0 715893.7 494268.3 762277.4\n",
       "Jun 2025       630498.5 542779.7 718217.3 496344.2 764652.8\n",
       "Jul 2025       632724.2 544907.6 720540.7 498420.3 767028.0\n",
       "Aug 2025       634949.8 547035.6 722864.1 500496.5 769403.1\n",
       "Sep 2025       637175.5 549163.6 725187.4 502573.0 771778.0\n",
       "Oct 2025       639401.2 551291.8 727510.5 504649.6 774152.8\n",
       "Nov 2025       641626.8 553420.1 729833.5 506726.3 776527.3\n",
       "Dec 2025       643852.5 555548.5 732156.5 508803.2 778901.8\n",
       "Jan 2026       646078.2 557677.0 734479.3 510880.3 781276.0\n",
       "Feb 2026       648303.8 559805.7 736802.0 512957.6 783650.1\n",
       "Mar 2026       650529.5 561934.4 739124.6 515035.0 786024.0\n",
       "Apr 2026       652755.2 564063.2 741447.1 517112.5 788397.8\n",
       "May 2026       654980.8 566192.2 743769.5 519190.3 790771.4\n",
       "Jun 2026       657206.5 568321.2 746091.8 521268.2 793144.8\n",
       "Jul 2026       659432.2 570450.4 748414.0 523346.2 795518.1\n",
       "Aug 2026       661657.8 572579.6 750736.1 525424.4 797891.2\n",
       "Sep 2026       663883.5 574709.0 753058.0 527502.8 800264.2\n",
       "Oct 2026       666109.2 576838.4 755379.9 529581.3 802637.0\n",
       "Nov 2026       668334.8 578968.0 757701.7 531660.0 805009.7\n",
       "Dec 2026       670560.5 581097.7 760023.4 533738.9 807382.1\n",
       "Jan 2027       672786.2 583227.4 762344.9 535817.9 809754.5\n",
       "Feb 2027       675011.8 585357.3 764666.4 537897.1 812126.6\n",
       "Mar 2027       677237.5 587487.3 766987.8 539976.4 814498.7\n",
       "Apr 2027       679463.2 589617.4 769309.0 542055.8 816870.5\n",
       "May 2027       681688.8 591747.5 771630.2 544135.5 819242.2\n",
       "Jun 2027       683914.5 593877.8 773951.2 546215.3 821613.8\n",
       "Jul 2027       686140.2 596008.2 776272.2 548295.2 823985.2\n",
       "Aug 2027       688365.9 598138.7 778593.0 550375.3 826356.4\n",
       "Sep 2027       690591.5 600269.3 780913.8 552455.5 828727.5\n",
       "Oct 2027       692817.2 602399.9 783234.4 554535.9 831098.4\n",
       "Nov 2027       695042.9 604530.7 785555.0 556616.5 833469.2\n",
       "Dec 2027       697268.5 606661.6 787875.4 558697.2 835839.9\n",
       "Jan 2028       699494.2 608792.6 790195.8 560778.1 838210.3\n",
       "Feb 2028       701719.9 610923.7 792516.1 562859.1 840580.7\n",
       "Mar 2028       703945.5 613054.8 794836.2 564940.2 842950.8\n",
       "Apr 2028       706171.2 615186.1 797156.3 567021.5 845320.9\n",
       "May 2028       708396.9 617317.5 799476.2 569103.0 847690.7\n",
       "Jun 2028       710622.5 619449.0 801796.1 571184.6 850060.5\n",
       "Jul 2028       712848.2 621580.5 804115.9 573266.3 852430.1\n",
       "Aug 2028       715073.9 623712.2 806435.5 575348.2 854799.5\n",
       "Sep 2028       717299.5 625844.0 808755.1 577430.3 857168.8\n",
       "Oct 2028       719525.2 627975.8 811074.6 579512.5 859537.9\n",
       "Nov 2028       721750.9 630107.8 813394.0 581594.8 861906.9\n",
       "Dec 2028       723976.5 632239.8 815713.3 583677.3 864275.7\n",
       "Jan 2029       726202.2 634372.0 818032.4 585760.0 866644.4\n",
       "Feb 2029       728427.9 636504.2 820351.5 587842.8 869013.0\n",
       "Mar 2029       730653.5 638636.5 822670.5 589925.7 871381.4\n",
       "Apr 2029       732879.2 640769.0 824989.5 592008.8 873749.7\n",
       "May 2029       735104.9 642901.5 827308.3 594092.0 876117.8\n",
       "Jun 2029       737330.5 645034.1 829627.0 596175.3 878485.8\n",
       "Jul 2029       739556.2 647166.8 831945.6 598258.8 880853.6"
      ]
     },
     "metadata": {},
     "output_type": "display_data"
    },
    {
     "data": {
      "image/png": "[encoded data removed]",
      "text/plain": [
       "Plot with title \"Average Monthly Home Sale Price Wards 5 & 6\""
      ]
     },
     "metadata": {
      "image/png": {
       "height": 420,
       "width": 420
      }
     },
     "output_type": "display_data"
    }
   ],
   "source": [
    "################################Using auto.arima################################\n",
    "################################################################################\n",
    "\n",
    "# forecasting model using arima model\n",
    "fit <- auto.arima(H_TS)\n",
    "\n",
    "# Next 84 forecasted values\n",
    "forecast(fit, 84)\n",
    "\n",
    "# plotting the graph with next\n",
    "# 84 monthly forecasted values\n",
    "plot(forecast(fit, 84), xlab =\"Monthly Data\",\n",
    "     ylab =\"Price\",\n",
    "     main =\"Average Monthly Home Sale Price Wards 5 & 6\", col.main =\"darkgreen\")\n",
    "\n",
    "################################################################################\n"
   ]
  },
  {
   "cell_type": "code",
   "execution_count": null,
   "metadata": {},
   "outputs": [],
   "source": []
  }
 ],
 "metadata": {
  "kernelspec": {
   "display_name": "R",
   "language": "R",
   "name": "ir"
  },
  "language_info": {
   "codemirror_mode": "r",
   "file_extension": ".r",
   "mimetype": "text/x-r-source",
   "name": "R",
   "pygments_lexer": "r",
   "version": "4.2.1"
  }
 },
 "nbformat": 4,
 "nbformat_minor": 4
}
